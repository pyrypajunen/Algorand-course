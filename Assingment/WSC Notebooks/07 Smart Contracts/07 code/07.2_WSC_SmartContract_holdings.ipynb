{
 "cells": [
  {
   "cell_type": "markdown",
   "metadata": {
    "tags": []
   },
   "source": [
    "## Hello World SC with Membership number\n",
    "#### 07.2 Winter School on Smart Contracts\n",
    "##### Peter Gruber (peter.gruber@usi.ch)\n",
    "2022-01-09\n",
    "\n",
    "* Smart contract interaction with blockchain\n",
    "* Smart contract depends on user's coin holdings"
   ]
  },
  {
   "cell_type": "markdown",
   "metadata": {
    "tags": []
   },
   "source": [
    "## Setup\n",
    "See notebook 04.1, loading `algo_util.py`, the five accounts and the Purestake credentials\n",
    "* Consider hiding the code below"
   ]
  },
  {
   "cell_type": "code",
   "execution_count": 1,
   "metadata": {
    "jupyter": {
     "source_hidden": true
    },
    "tags": []
   },
   "outputs": [],
   "source": [
    "# Loading shared code and credentials\n",
    "import sys, os\n",
    "codepath = '..'+os.path.sep+'..'+os.path.sep+'sharedCode'\n",
    "sys.path.append(codepath)\n",
    "from algo_util import *\n",
    "cred = load_credentials()\n",
    "MyAlgo  = cred['MyAlgo']\n",
    "Alice   = cred['Alice']\n",
    "Bob     = cred['Bob']\n",
    "Charlie = cred['Charlie']\n",
    "Dina    = cred['Dina']"
   ]
  },
  {
   "cell_type": "code",
   "execution_count": 2,
   "metadata": {
    "jupyter": {
     "source_hidden": true
    },
    "tags": []
   },
   "outputs": [],
   "source": [
    "from algosdk import account, mnemonic\n",
    "from algosdk.v2client import algod\n",
    "from algosdk import transaction\n",
    "from algosdk.transaction import PaymentTxn\n",
    "from algosdk.transaction import AssetConfigTxn, AssetTransferTxn, AssetFreezeTxn\n",
    "import algosdk.error\n",
    "import json\n",
    "import base64\n",
    "import datetime"
   ]
  },
  {
   "cell_type": "code",
   "execution_count": 3,
   "metadata": {
    "jupyter": {
     "source_hidden": true
    },
    "tags": []
   },
   "outputs": [],
   "source": [
    "from pyteal import *"
   ]
  },
  {
   "cell_type": "code",
   "execution_count": 4,
   "metadata": {
    "jupyter": {
     "source_hidden": true
    },
    "tags": []
   },
   "outputs": [
    {
     "name": "stdout",
     "output_type": "stream",
     "text": [
      "Last committed block is: 19907242\n"
     ]
    }
   ],
   "source": [
    "# Initialize the algod client (Testnet or Mainnet)\n",
    "algod_client = algod.AlgodClient(algod_token='', algod_address=cred['algod_test'], headers=cred['purestake_token'])\n",
    "last_block = algod_client.status()[\"last-round\"]\n",
    "print(f\"Last committed block is: {last_block}\")"
   ]
  },
  {
   "cell_type": "code",
   "execution_count": 7,
   "metadata": {
    "jupyter": {
     "source_hidden": true
    },
    "tags": []
   },
   "outputs": [
    {
     "name": "stdout",
     "output_type": "stream",
     "text": [
      "HITPAAJ4HKANMP6EUYASXDUTCL653T7QMNHJL5NODL6XEGBM4KBLDJ2D2E\n",
      "O2SLRPK4I4SWUOCYGGKHHUCFJJF5ORHFL76YO43FYTB7HUO7AHDDNNR5YA\n",
      "5GIOBOLZSQEHTNNXWRJ6RGNPGCKWYJYUZZKY6YXHJVKFZXRB2YLDFDVH64\n"
     ]
    }
   ],
   "source": [
    "print(Alice['public'])\n",
    "print(Bob['public'])\n",
    "print(Charlie['public'])"
   ]
  },
  {
   "cell_type": "code",
   "execution_count": 13,
   "metadata": {},
   "outputs": [
    {
     "data": {
      "text/html": [
       "<div>\n",
       "<style scoped>\n",
       "    .dataframe tbody tr th:only-of-type {\n",
       "        vertical-align: middle;\n",
       "    }\n",
       "\n",
       "    .dataframe tbody tr th {\n",
       "        vertical-align: top;\n",
       "    }\n",
       "\n",
       "    .dataframe thead th {\n",
       "        text-align: right;\n",
       "    }\n",
       "</style>\n",
       "<table border=\"1\" class=\"dataframe\">\n",
       "  <thead>\n",
       "    <tr style=\"text-align: right;\">\n",
       "      <th></th>\n",
       "      <th>amount</th>\n",
       "      <th>unit</th>\n",
       "      <th>asset-id</th>\n",
       "      <th>name</th>\n",
       "      <th>decimals</th>\n",
       "    </tr>\n",
       "  </thead>\n",
       "  <tbody>\n",
       "    <tr>\n",
       "      <th>0</th>\n",
       "      <td>1.377</td>\n",
       "      <td>ALGO</td>\n",
       "      <td>0</td>\n",
       "      <td>Algorand</td>\n",
       "      <td>6</td>\n",
       "    </tr>\n",
       "    <tr>\n",
       "      <th>1</th>\n",
       "      <td>997.000</td>\n",
       "      <td>VtC</td>\n",
       "      <td>70161280</td>\n",
       "      <td>VoteCoin</td>\n",
       "      <td>2</td>\n",
       "    </tr>\n",
       "    <tr>\n",
       "      <th>2</th>\n",
       "      <td>997.000</td>\n",
       "      <td>VtC</td>\n",
       "      <td>70166124</td>\n",
       "      <td>VoteCoin</td>\n",
       "      <td>2</td>\n",
       "    </tr>\n",
       "  </tbody>\n",
       "</table>\n",
       "</div>"
      ],
      "text/plain": [
       "    amount  unit  asset-id      name  decimals\n",
       "0    1.377  ALGO         0  Algorand         6\n",
       "1  997.000   VtC  70161280  VoteCoin         2\n",
       "2  997.000   VtC  70166124  VoteCoin         2"
      ]
     },
     "execution_count": 13,
     "metadata": {},
     "output_type": "execute_result"
    }
   ],
   "source": [
    "asset_holdings_df(algod_client, Dina['public'])"
   ]
  },
  {
   "cell_type": "markdown",
   "metadata": {},
   "source": [
    "### Some helper functions"
   ]
  },
  {
   "cell_type": "code",
   "execution_count": 6,
   "metadata": {
    "jupyter": {
     "source_hidden": true
    },
    "tags": []
   },
   "outputs": [],
   "source": [
    "def read_local_state(client, addr, app_id):\n",
    "    # reads a user's local state\n",
    "    # client = algod_client\n",
    "    # addr = public addr of the user that we want to inspect\n",
    "    results = client.account_info(addr)\n",
    "    for local_state in results[\"apps-local-state\"]:\n",
    "        if local_state[\"id\"] == app_id:\n",
    "            if \"key-value\" not in local_state:\n",
    "                return {}\n",
    "            return format_state(local_state[\"key-value\"])\n",
    "    return {}\n",
    "\n",
    "def read_global_state(client, app_id):\n",
    "    # reads an app's global state\n",
    "    return  algod_client.application_info(app_id)[\"params\"][\"global-state\"]\n",
    "\n",
    "def format_state(state):\n",
    "    # formats the state (local/global) nicely \n",
    "    formatted = {}\n",
    "    textvariables = {'Info','Note'}        # <---- update this! (List of Text variables in SC)\n",
    "    for item in state:\n",
    "        key = base64.b64decode(item[\"key\"]).decode(\"utf-8\")\n",
    "        value = item[\"value\"]\n",
    "        if value[\"type\"] == 1:\n",
    "            if key in textvariables:                 # Format text variables\n",
    "                formatted_value = base64.b64decode(value[\"bytes\"]).decode(\"utf-8\")\n",
    "            else:                                    # Format addresses\n",
    "                formatted_value = base64.b32encode(base64.b64decode(value[\"bytes\"]))\n",
    "            formatted[key] = formatted_value\n",
    "        else:\n",
    "            formatted[key] = value[\"uint\"]\n",
    "    return formatted"
   ]
  },
  {
   "cell_type": "markdown",
   "metadata": {},
   "source": [
    "## A first stateful smart contract\n",
    "The stateful smart contract consists of two parts\n",
    "* The `approval_program` that handles everything except opt out\n",
    "* The `clear_state_program` that handles the opt out"
   ]
  },
  {
   "cell_type": "markdown",
   "metadata": {},
   "source": [
    "## Our first project: HelloWorld with Membership number\n",
    "* Idea: just write \"Hello World\" into the global state\n",
    "* We also count the number of members\n",
    "* Every new member gets a membership number\n",
    "* Do not do anything else"
   ]
  },
  {
   "cell_type": "markdown",
   "metadata": {},
   "source": [
    "#### Step 1: Define Approval program\n",
    "This is the program that handles all interactions except opt out:\n",
    "* Creation of the SC `handle_creation`\n",
    "* Opt-in of individual users `handle_register`\n",
    "* Interactions (calls) of individual users `handle_interact`\n"
   ]
  },
  {
   "cell_type": "code",
   "execution_count": null,
   "metadata": {
    "tags": []
   },
   "outputs": [],
   "source": [
    "handle_creation = Seq(\n",
    "    [\n",
    "        # Initialize a GLOBAL variable\n",
    "        App.globalPut(Bytes(\"Note\"),       Bytes(\"Hello world!\")),\n",
    "        App.globalPut(Bytes(\"Members\"),    Int(0)),\n",
    "        # Return \"OK\"\n",
    "        Return(Int(1))        \n",
    "    ]\n",
    ")\n",
    "\n",
    "handle_optin = Seq(\n",
    "    [\n",
    "        App.localPut(\n",
    "            Int(0),                                     # which user? current one!\n",
    "            Bytes(\"MembershipNo\"),                      # key\n",
    "            App.globalGet(Bytes(\"Members\")) + Int(1)    # value: Membership number = current members + 1\n",
    "        ),\n",
    "        # Increase number of Members\n",
    "        App.globalPut( Bytes(\"Members\"),                             # key\n",
    "                       App.globalGet(Bytes(\"Members\")) + Int(1)      # value\n",
    "                     ),\n",
    "        # Return \"OK\"\n",
    "        App.localPut(Int(0), Bytes(\"YourHolding\"), Balance(Txn.sender())),\n",
    "        If(Balance(Txn.sender())<Int(5000000),\n",
    "            App.localPut(Int(0), Bytes(\"You_are\"),  Bytes(\"poor\")),\n",
    "            App.localPut(Int(0), Bytes(\"You_are\"),  Bytes(\"rich\"))\n",
    "          ),\n",
    "        App.localPut(Int(0), Bytes(\"YourHolding\"), Balance(Txn.sender())),\n",
    "\n",
    "        Return(Int(1))        \n",
    "    ]\n",
    ")\n",
    "\n",
    "\n",
    "handle_closeout = Return( Int(1) )                # Not doing anything, returning \"OK\"  \n",
    "\n",
    "handle_updateapp = Return( Int(0) )               # Always FALSE ... updating not allowed\n",
    "\n",
    "handle_deleteapp = Return(\n",
    "    Txn.sender() == Global.creator_address()    # only TRUE if delete request is made by creator\n",
    ")\n",
    "\n",
    "# handle interaction\n",
    "handle_noop  = Return ( Int(1) )                   # Not doing anything, returning \"OK\"           "
   ]
  },
  {
   "cell_type": "code",
   "execution_count": null,
   "metadata": {
    "tags": []
   },
   "outputs": [],
   "source": [
    "hello_approval_pyteal = Cond(\n",
    "    [Txn.application_id() == Int(0),              handle_creation],\n",
    "    [Txn.on_completion()  == OnComplete.OptIn,    handle_optin],\n",
    "    [Txn.on_completion()  == OnComplete.CloseOut, handle_closeout],\n",
    "    [Txn.on_completion()  == OnComplete.UpdateApplication, handle_updateapp],\n",
    "    [Txn.on_completion()  == OnComplete.DeleteApplication, handle_deleteapp],\n",
    "    [Txn.on_completion()  == OnComplete.NoOp, handle_noop],\n",
    ")"
   ]
  },
  {
   "cell_type": "markdown",
   "metadata": {},
   "source": [
    "#### Compile PyTEAL -> TEAL\n",
    "* Notice the `Mode.Application` (was `Mode.Signature`)"
   ]
  },
  {
   "cell_type": "code",
   "execution_count": null,
   "metadata": {
    "tags": []
   },
   "outputs": [],
   "source": [
    "hello_approval_teal = compileTeal(hello_approval_pyteal,mode=Mode.Application, version=3)\n",
    "print(hello_approval_teal)"
   ]
  },
  {
   "cell_type": "markdown",
   "metadata": {
    "tags": []
   },
   "source": [
    "#### Step 1b: Define Clear State program\n",
    "* This program handles forced opt-outs"
   ]
  },
  {
   "cell_type": "code",
   "execution_count": null,
   "metadata": {
    "tags": []
   },
   "outputs": [],
   "source": [
    "hello_clear_pyteal =  Return(Int(1))    # not doing anything"
   ]
  },
  {
   "cell_type": "code",
   "execution_count": null,
   "metadata": {},
   "outputs": [],
   "source": [
    "hello_clear_teal = compileTeal(hello_clear_pyteal,mode=Mode.Application, version=3)\n",
    "print(hello_clear_teal)"
   ]
  },
  {
   "cell_type": "markdown",
   "metadata": {},
   "source": [
    "#### Compile TEAL -> Bytecode\n",
    "This is slightly different ... we need one additional step for Byte-encoding"
   ]
  },
  {
   "cell_type": "code",
   "execution_count": null,
   "metadata": {},
   "outputs": [],
   "source": [
    "hello_approval_b64 = algod_client.compile(hello_approval_teal)\n",
    "Hello_Approval =  base64.b64decode(hello_approval_b64['result'])\n",
    "\n",
    "hello_clear_b64 = algod_client.compile(hello_clear_teal)\n",
    "Hello_Clear =  base64.b64decode(hello_clear_b64['result'])"
   ]
  },
  {
   "cell_type": "markdown",
   "metadata": {},
   "source": [
    "## Deploy Smart Contract\n",
    "\n",
    "##### Bob deploys the smart contract\n",
    "* Reserve global storage with `StateSchema`\n",
    "* New command `ApplicationCreateTxn`\n",
    "* See [here](https://py-algorand-sdk.readthedocs.io/en/latest/algosdk/future/transaction.html#algosdk.transaction.ApplicationCreateTxn)"
   ]
  },
  {
   "cell_type": "code",
   "execution_count": null,
   "metadata": {},
   "outputs": [],
   "source": [
    "# Step 1: Prepare the transaction\n",
    "sp = algod_client.suggested_params()\n",
    "\n",
    "# How much space do we need?\n",
    "global_ints = 1    # One global numeric variable\n",
    "global_bytes = 1   # for Note\n",
    "hello_global_schema = transaction.StateSchema(global_ints, global_bytes)\n",
    "\n",
    "local_ints = 1     # One local numeric variable\n",
    "local_bytes = 0    # No local text variable\n",
    "hello_local_schema = transaction.StateSchema(local_ints, local_bytes)\n",
    "\n",
    "txn = transaction.ApplicationCreateTxn(\n",
    "      sender = Bob['public'],              # <-- sender public\n",
    "      sp = sp,                             # <-- sp\n",
    "      on_complete = 0,                     # <-- when finished do nothing\n",
    "      approval_program = Hello_Approval,   # <-- approval program \n",
    "      clear_program = Hello_Clear,         # <-- clear program \n",
    "      global_schema = hello_global_schema, # <-- reserve global space \n",
    "      local_schema = hello_local_schema    # <-- reserve local space\n",
    "    )"
   ]
  },
  {
   "cell_type": "code",
   "execution_count": null,
   "metadata": {},
   "outputs": [],
   "source": [
    "# Step 2: sign transaction\n",
    "stxn = txn.sign(Bob['private'])\n",
    "\n",
    "# Step 3: send\n",
    "txid=algod_client.send_transactions([stxn])\n",
    "\n",
    "# Step 4: wait for ...\n",
    "txinfo = wait_for_confirmation(algod_client, txid)"
   ]
  },
  {
   "cell_type": "code",
   "execution_count": null,
   "metadata": {},
   "outputs": [],
   "source": [
    "app_id = txinfo[\"application-index\"]\n",
    "print(\"Created new app-id:\", app_id)"
   ]
  },
  {
   "cell_type": "markdown",
   "metadata": {},
   "source": [
    "## The Smart Contract is now deployed\n",
    "* And there is alreasdy something to see"
   ]
  },
  {
   "cell_type": "code",
   "execution_count": null,
   "metadata": {},
   "outputs": [],
   "source": [
    "format_state(read_global_state(algod_client,app_id))"
   ]
  },
  {
   "cell_type": "code",
   "execution_count": null,
   "metadata": {},
   "outputs": [],
   "source": [
    "# Program code immediately visible on the web\n",
    "print('https://testnet.algoexplorer.io/application/{}'.format(app_id))"
   ]
  },
  {
   "cell_type": "markdown",
   "metadata": {},
   "source": [
    "## Using the Smart Contract (1): Users opt-in\n",
    "* Nothing will happen, but we can test everything\n",
    "* Using `ApplicationOptInTxn`\n",
    "* See [here](https://py-algorand-sdk.readthedocs.io/en/latest/algosdk/future/transaction.html#algosdk.transaction.ApplicationOptInTxn)"
   ]
  },
  {
   "cell_type": "code",
   "execution_count": null,
   "metadata": {},
   "outputs": [],
   "source": [
    "user = Charlie\n",
    "\n",
    "# Step 1: prepare transaction\n",
    "sp = algod_client.suggested_params()\n",
    "txn = transaction.ApplicationOptInTxn(user['public'], sp, app_id)\n",
    "\n",
    "# Step 2: sign transaction\n",
    "stxn = txn.sign(user['private'])\n",
    "\n",
    "# Step 3: send\n",
    "txid = algod_client.send_transactions([stxn])\n",
    "\n",
    "# Step 4: await confirmation\n",
    "txinfo = wait_for_confirmation(algod_client, txid)"
   ]
  },
  {
   "cell_type": "markdown",
   "metadata": {},
   "source": [
    "#### Watch the state of the contract evolve"
   ]
  },
  {
   "cell_type": "code",
   "execution_count": null,
   "metadata": {},
   "outputs": [],
   "source": [
    "format_state(read_global_state(algod_client,app_id))"
   ]
  },
  {
   "cell_type": "code",
   "execution_count": null,
   "metadata": {},
   "outputs": [],
   "source": [
    "read_local_state(algod_client,user['public'],app_id)"
   ]
  },
  {
   "cell_type": "markdown",
   "metadata": {},
   "source": [
    "## Users can call the Smart contract (\"make a visit\")\n",
    "* Does not really make sense here ..."
   ]
  },
  {
   "cell_type": "markdown",
   "metadata": {},
   "source": [
    "## Inspect the global state and the local states of the users"
   ]
  },
  {
   "cell_type": "code",
   "execution_count": null,
   "metadata": {},
   "outputs": [],
   "source": [
    "format_state(read_global_state(algod_client,app_id))"
   ]
  },
  {
   "cell_type": "code",
   "execution_count": null,
   "metadata": {},
   "outputs": [],
   "source": [
    "read_local_state(algod_client,Alice['public'],app_id)"
   ]
  },
  {
   "cell_type": "code",
   "execution_count": null,
   "metadata": {},
   "outputs": [],
   "source": [
    "read_local_state(algod_client,Bob['public'],app_id)"
   ]
  },
  {
   "cell_type": "code",
   "execution_count": null,
   "metadata": {},
   "outputs": [],
   "source": [
    "read_local_state(algod_client,Charlie['public'],app_id)"
   ]
  },
  {
   "cell_type": "code",
   "execution_count": null,
   "metadata": {},
   "outputs": [],
   "source": [
    "read_local_state(algod_client,Dina['public'],app_id)"
   ]
  },
  {
   "cell_type": "markdown",
   "metadata": {},
   "source": [
    "## Users close out (leave) App\n",
    "* With a `ApplicationCloseOutTxn`\n",
    "* See [here](https://py-algorand-sdk.readthedocs.io/en/latest/algosdk/future/transaction.html#algosdk.transaction.ApplicationCloseOutTxn)"
   ]
  },
  {
   "cell_type": "code",
   "execution_count": null,
   "metadata": {},
   "outputs": [],
   "source": [
    "user = Alice\n",
    "\n",
    "# Step 1: prepare\n",
    "sp = algod_client.suggested_params()\n",
    "txn = transaction.ApplicationCloseOutTxn(user['public'], sp, app_id)\n",
    "\n",
    "# Step 2: sign\n",
    "stxn = txn.sign(user['private'])\n",
    "\n",
    "# Step 3: send\n",
    "txid = algod_client.send_transactions([stxn])\n",
    "\n",
    "# Step 4: wait for condfirmation\n",
    "txinfo = wait_for_confirmation(algod_client, txid)"
   ]
  },
  {
   "cell_type": "markdown",
   "metadata": {},
   "source": [
    "## Inspect the global state and the local states of the users"
   ]
  },
  {
   "cell_type": "code",
   "execution_count": null,
   "metadata": {},
   "outputs": [],
   "source": [
    "# Note that we do not update the number of members\n",
    "format_state(read_global_state(algod_client,app_id))"
   ]
  },
  {
   "cell_type": "code",
   "execution_count": null,
   "metadata": {},
   "outputs": [],
   "source": [
    "read_local_state(algod_client,Alice['public'],app_id)"
   ]
  },
  {
   "cell_type": "code",
   "execution_count": null,
   "metadata": {},
   "outputs": [],
   "source": [
    "read_local_state(algod_client,Bob['public'],app_id)"
   ]
  },
  {
   "cell_type": "code",
   "execution_count": null,
   "metadata": {},
   "outputs": [],
   "source": [
    "read_local_state(algod_client,Charlie['public'],app_id)"
   ]
  },
  {
   "cell_type": "code",
   "execution_count": null,
   "metadata": {},
   "outputs": [],
   "source": [
    "read_local_state(algod_client,Dina['public'],app_id)"
   ]
  },
  {
   "cell_type": "markdown",
   "metadata": {},
   "source": [
    "## Deleting the app\n",
    "* Rather important, because an address can only create **10 apps**\n",
    "* App can be deleted by creator"
   ]
  },
  {
   "cell_type": "code",
   "execution_count": null,
   "metadata": {},
   "outputs": [],
   "source": [
    "creator = Bob\n",
    "\n",
    "# Step 1: Prepare transaction\n",
    "sp = algod_client.suggested_params()\n",
    "txn = transaction.ApplicationDeleteTxn(creator['public'], sp, app_id)\n",
    "\n",
    "# Step 2: sign\n",
    "stxn = txn.sign(creator['private'])\n",
    "\n",
    "# Step 3: send\n",
    "txid = algod_client.send_transactions([stxn])\n",
    "\n",
    "# Step4 : wait for confirmation\n",
    "txinfo = wait_for_confirmation(algod_client, txid)\n",
    "\n",
    "# display results\n",
    "print(\"Deleted app-id:\", txinfo[\"txn\"][\"txn\"][\"apid\"])"
   ]
  }
 ],
 "metadata": {
  "kernelspec": {
   "display_name": "Python 3",
   "language": "python",
   "name": "python3"
  },
  "language_info": {
   "codemirror_mode": {
    "name": "ipython",
    "version": 3
   },
   "file_extension": ".py",
   "mimetype": "text/x-python",
   "name": "python",
   "nbconvert_exporter": "python",
   "pygments_lexer": "ipython3",
   "version": "3.7.6"
  }
 },
 "nbformat": 4,
 "nbformat_minor": 5
}
