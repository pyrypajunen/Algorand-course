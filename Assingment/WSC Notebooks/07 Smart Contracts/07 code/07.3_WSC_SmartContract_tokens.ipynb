{
 "cells": [
  {
   "cell_type": "markdown",
   "metadata": {
    "tags": []
   },
   "source": [
    "## Smart Contracts and Tokens (Algos)\n",
    "#### 07.3 Winter School on Smart Contracts\n",
    "##### Peter Gruber (peter.gruber@usi.ch)\n",
    "2022-01-09\n",
    "\n",
    "* Identify public address of a smart contract\n",
    "* Fund stateful smart contracts\n",
    "* Access token holdings ...\n",
    "    * of smart contract itself\n",
    "    * of individual users"
   ]
  },
  {
   "cell_type": "markdown",
   "metadata": {
    "tags": []
   },
   "source": [
    "## Setup\n",
    "See notebook 04.1, loading `algo_util.py`, the five accounts and the Purestake credentials\n",
    "* Consider hiding the code below"
   ]
  },
  {
   "cell_type": "code",
   "execution_count": 1,
   "metadata": {
    "tags": []
   },
   "outputs": [],
   "source": [
    "# Loading shared code and credentials\n",
    "import sys, os\n",
    "codepath = '..'+os.path.sep+'..'+os.path.sep+'sharedCode'\n",
    "sys.path.append(codepath)\n",
    "from algo_util import *\n",
    "cred = load_credentials()\n",
    "MyAlgo  = cred['MyAlgo']\n",
    "Alice   = cred['Alice']\n",
    "Bob     = cred['Bob']\n",
    "Charlie = cred['Charlie']\n",
    "Dina    = cred['Dina']"
   ]
  },
  {
   "cell_type": "code",
   "execution_count": 2,
   "metadata": {
    "tags": []
   },
   "outputs": [],
   "source": [
    "from algosdk import account, mnemonic\n",
    "from algosdk.v2client import algod\n",
    "from algosdk import transaction\n",
    "from algosdk.transaction import PaymentTxn\n",
    "from algosdk.transaction import AssetConfigTxn, AssetTransferTxn, AssetFreezeTxn\n",
    "import algosdk.error\n",
    "import json\n",
    "import base64\n",
    "import datetime"
   ]
  },
  {
   "cell_type": "code",
   "execution_count": 3,
   "metadata": {
    "tags": []
   },
   "outputs": [],
   "source": [
    "from pyteal import *"
   ]
  },
  {
   "cell_type": "code",
   "execution_count": 13,
   "metadata": {
    "tags": []
   },
   "outputs": [
    {
     "name": "stdout",
     "output_type": "stream",
     "text": [
      "Last committed block is: 19954417\n"
     ]
    }
   ],
   "source": [
    "# Initialize the algod client (Testnet or Mainnet)\n",
    "algod_client = algod.AlgodClient(algod_token='', algod_address=cred['algod_test'], headers=cred['purestake_token'])\n",
    "last_block = algod_client.status()[\"last-round\"]\n",
    "print(f\"Last committed block is: {last_block}\")"
   ]
  },
  {
   "cell_type": "code",
   "execution_count": 5,
   "metadata": {
    "tags": []
   },
   "outputs": [
    {
     "name": "stdout",
     "output_type": "stream",
     "text": [
      "HITPAAJ4HKANMP6EUYASXDUTCL653T7QMNHJL5NODL6XEGBM4KBLDJ2D2E\n",
      "O2SLRPK4I4SWUOCYGGKHHUCFJJF5ORHFL76YO43FYTB7HUO7AHDDNNR5YA\n",
      "5GIOBOLZSQEHTNNXWRJ6RGNPGCKWYJYUZZKY6YXHJVKFZXRB2YLDFDVH64\n"
     ]
    }
   ],
   "source": [
    "print(Alice['public'])\n",
    "print(Bob['public'])\n",
    "print(Charlie['public'])"
   ]
  },
  {
   "cell_type": "markdown",
   "metadata": {},
   "source": [
    "## Our project: Richkid\n",
    "* Idea: access the holdings of a user\n",
    "* Compare to the holdings of the smart contact\n",
    "    * A *Richkid* is user with more ALGOs than the smart contract\n",
    "    * A *Poorkid* is a user with fewer ALGOs than the smart contract"
   ]
  },
  {
   "cell_type": "markdown",
   "metadata": {},
   "source": [
    "#### Step 1: Define Approval program"
   ]
  },
  {
   "cell_type": "code",
   "execution_count": 6,
   "metadata": {
    "tags": []
   },
   "outputs": [],
   "source": [
    "handle_creation = Seq(\n",
    "    [\n",
    "        # Initialize GLOBAL variables\n",
    "        App.globalPut(Bytes(\"FundingAddr\"), Global.current_application_address()),            \n",
    "        App.globalPut(Bytes(\"Funds\"),       Balance(Global.current_application_address())),            \n",
    "        App.globalPut(Bytes(\"Url\"),         Bytes(\"www.usi.ch\")),\n",
    "        App.globalPut(Bytes(\"Note\"),        Bytes(\"Hello world!\")),\n",
    "        Return(Int(1)),                                          # Return \"OK\"\n",
    "    ]\n",
    ")\n",
    "\n",
    "# Optin\n",
    "handle_optin = Seq (\n",
    "    [\n",
    "        App.localPut(Int(0), Bytes(\"YourHolding\"), Balance(Txn.sender())),\n",
    "        If( Balance(Txn.sender()) > Balance(Global.current_application_address()),\n",
    "            App.localPut(Int(0), Bytes(\"YourStatus\"), Bytes(\"Richkid\")),\n",
    "            App.localPut(Int(0), Bytes(\"YourStatus\"), Bytes(\"Poorkid\"))\n",
    "           ),\n",
    "        Return(Int(1))\n",
    "    ]\n",
    ")\n",
    "\n",
    "\n",
    "handle_closeout = Seq(\n",
    "    [\n",
    "        Return(Int(1)),\n",
    "    ]\n",
    ")\n",
    "\n",
    "handle_updateapp = Return( \n",
    "    Txn.sender() == Global.creator_address()    # only TRUE if delete request is made by creator\n",
    ")\n",
    "\n",
    "handle_deleteapp = Return(\n",
    "    Txn.sender() == Global.creator_address()    # only TRUE if delete request is made by creator\n",
    ")\n",
    "\n",
    "# handle interaction\n",
    "handle_noop = Seq(\n",
    "    [\n",
    "        App.localPut(Int(0), Bytes(\"YourHolding\"), Balance(Txn.sender())),\n",
    "        If( Balance(Txn.sender()) > Balance(Global.current_application_address()),\n",
    "            App.localPut(Int(0), Bytes(\"YourStatus\"), Bytes(\"Richkid\")),\n",
    "            App.localPut(Int(0), Bytes(\"YourStatus\"), Bytes(\"Poorkid\"))\n",
    "           ),\n",
    "        Return(Int(1))\n",
    "    ]\n",
    ")"
   ]
  },
  {
   "cell_type": "code",
   "execution_count": 7,
   "metadata": {
    "tags": []
   },
   "outputs": [],
   "source": [
    "richkid_approval_pyteal = Cond(\n",
    "    [Txn.application_id() == Int(0),              handle_creation],\n",
    "    [Txn.on_completion()  == OnComplete.OptIn,    handle_optin],\n",
    "    [Txn.on_completion()  == OnComplete.CloseOut, handle_closeout],\n",
    "    [Txn.on_completion()  == OnComplete.UpdateApplication, handle_updateapp],\n",
    "    [Txn.on_completion()  == OnComplete.DeleteApplication, handle_deleteapp],\n",
    "    [Txn.on_completion()  == OnComplete.NoOp, handle_noop],\n",
    ")"
   ]
  },
  {
   "cell_type": "markdown",
   "metadata": {},
   "source": [
    "#### Compile PyTEAL -> TEAL\n",
    "* Notice the `Mode.Application` (was `Mode.Signature`)"
   ]
  },
  {
   "cell_type": "code",
   "execution_count": 8,
   "metadata": {
    "tags": []
   },
   "outputs": [],
   "source": [
    "richkid_approval_teal = compileTeal(richkid_approval_pyteal,mode=Mode.Application, version=5)\n",
    "#print(richkid_approval_teal)"
   ]
  },
  {
   "cell_type": "markdown",
   "metadata": {
    "tags": []
   },
   "source": [
    "#### Step 1b: Define Clear State program\n",
    "* This program handles forced opt-outs"
   ]
  },
  {
   "cell_type": "code",
   "execution_count": 9,
   "metadata": {
    "tags": []
   },
   "outputs": [],
   "source": [
    "richkid_clear_pyteal = Seq(\n",
    "    [\n",
    "        Return(Int(1)),\n",
    "    ]\n",
    ")"
   ]
  },
  {
   "cell_type": "code",
   "execution_count": 10,
   "metadata": {},
   "outputs": [],
   "source": [
    "richkid_clear_teal = compileTeal(richkid_clear_pyteal,mode=Mode.Application, version=3)\n",
    "# print(richkid_clear_teal)"
   ]
  },
  {
   "cell_type": "markdown",
   "metadata": {},
   "source": [
    "#### Compile TEAL -> Bytecode\n",
    "This is slightly different ... we need one additional step for Byte-encoding"
   ]
  },
  {
   "cell_type": "code",
   "execution_count": 14,
   "metadata": {},
   "outputs": [],
   "source": [
    "richkid_approval_b64 = algod_client.compile(richkid_approval_teal)\n",
    "Richkid_Approval =  base64.b64decode(richkid_approval_b64['result'])\n",
    "\n",
    "richkid_clear_b64 = algod_client.compile(richkid_clear_teal)\n",
    "Richkid_Clear =  base64.b64decode(richkid_clear_b64['result'])"
   ]
  },
  {
   "cell_type": "markdown",
   "metadata": {},
   "source": [
    "## Deploy Smart Contract\n",
    "\n",
    "##### Bob deploys the smart contract\n",
    "* Reserve (global/local) storage with `StateSchema`\n",
    "* New command `ApplicationCreateTxn`\n",
    "* See [here](https://py-algorand-sdk.readthedocs.io/en/latest/algosdk/future/transaction.html#algosdk.transaction.ApplicationCreateTxn)"
   ]
  },
  {
   "cell_type": "code",
   "execution_count": 15,
   "metadata": {},
   "outputs": [],
   "source": [
    "# Step 1: Prepare the transaction\n",
    "sp = algod_client.suggested_params()\n",
    "\n",
    "# How much space do we need?\n",
    "global_ints = 1   # for \"Funds\"\n",
    "global_bytes = 3   # for \"FundignAddr\", \"Url\", \"Note\"\n",
    "richkid_global_schema = transaction.StateSchema(global_ints, global_bytes)\n",
    "\n",
    "local_ints = 1     # for \"YourHolding\"\n",
    "local_bytes = 1    # for \"YourStatus\"\n",
    "richkid_local_schema = transaction.StateSchema(local_ints, local_bytes)\n",
    "\n",
    "txn = transaction.ApplicationCreateTxn(\n",
    "      sender = Bob['public'],                # <-- sender public\n",
    "      sp = sp,                               # <-- sp\n",
    "      on_complete = 0,                       # <- what to do when finished (nothing)\n",
    "      approval_program = Richkid_Approval,   # <-- approval program \n",
    "      clear_program = Richkid_Clear,         # <-- clear program \n",
    "      global_schema = richkid_global_schema, # <-- reserve global space \n",
    "      local_schema = richkid_local_schema    # <-- reserve local space\n",
    "    )"
   ]
  },
  {
   "cell_type": "code",
   "execution_count": null,
   "metadata": {},
   "outputs": [],
   "source": [
    "# Step 2: sign transaction\n",
    "stxn = txn.sign(Bob['private'])\n",
    "\n",
    "# Step 3: send\n",
    "txid=algod_client.send_transactions([stxn])\n",
    "\n",
    "# Step 4: wait for ...\n",
    "txinfo = wait_for_confirmation(algod_client, txid)"
   ]
  },
  {
   "cell_type": "code",
   "execution_count": null,
   "metadata": {},
   "outputs": [],
   "source": [
    "app_id = txinfo[\"application-index\"]\n",
    "print(\"Created new app-id:\", app_id)"
   ]
  },
  {
   "cell_type": "markdown",
   "metadata": {},
   "source": [
    "## The public address of the smart contract\n",
    "* Can be found in the global state"
   ]
  },
  {
   "cell_type": "code",
   "execution_count": 21,
   "metadata": {},
   "outputs": [
    {
     "data": {
      "text/plain": [
       "{'FundingAddr': 'GN3H5KMUXFLGDT6JORN5FEBMHVKVNLM4LJWWZKQNHFSCJOGJHOP5DOPWWU',\n",
       " 'Funds': 0,\n",
       " 'Note': 'Hello world!',\n",
       " 'Url': 'www.usi.ch'}"
      ]
     },
     "execution_count": 21,
     "metadata": {},
     "output_type": "execute_result"
    }
   ],
   "source": [
    "format_state(read_global_state(algod_client,app_id))"
   ]
  },
  {
   "cell_type": "code",
   "execution_count": 23,
   "metadata": {},
   "outputs": [
    {
     "name": "stdout",
     "output_type": "stream",
     "text": [
      "GN3H5KMUXFLGDT6JORN5FEBMHVKVNLM4LJWWZKQNHFSCJOGJHOP5DOPWWU\n"
     ]
    }
   ],
   "source": [
    "app_addr = format_state(read_global_state(algod_client,app_id))['FundingAddr']\n",
    "print(app_addr)"
   ]
  },
  {
   "cell_type": "markdown",
   "metadata": {},
   "source": [
    "## Fund the smart contract\n",
    "* Funding works like funding any other address, either via bank or via a `PaymentTxn()`\n",
    "* https://bank.testnet.algorand.network\n",
    "\n",
    "#### After funding, the Funds of the Smart contract will still be shown as `0`\n",
    "* The smart contract updates its global state only during\n",
    "    * Opt-in\n",
    "    * Noop"
   ]
  },
  {
   "cell_type": "code",
   "execution_count": 25,
   "metadata": {},
   "outputs": [
    {
     "data": {
      "text/plain": [
       "{'FundingAddr': 'GN3H5KMUXFLGDT6JORN5FEBMHVKVNLM4LJWWZKQNHFSCJOGJHOP5DOPWWU',\n",
       " 'Note': 'Hello world!',\n",
       " 'Url': 'www.usi.ch',\n",
       " 'Funds': 0}"
      ]
     },
     "execution_count": 25,
     "metadata": {},
     "output_type": "execute_result"
    }
   ],
   "source": [
    "format_state(read_global_state(algod_client,app_id))"
   ]
  },
  {
   "cell_type": "markdown",
   "metadata": {},
   "source": [
    "## Opt-In"
   ]
  },
  {
   "cell_type": "code",
   "execution_count": null,
   "metadata": {},
   "outputs": [],
   "source": [
    "user = Alice\n",
    "\n",
    "# Step 1: prepare transaction\n",
    "sp = algod_client.suggested_params()\n",
    "txn = transaction.ApplicationOptInTxn(user['public'], sp, app_id)\n",
    "\n",
    "# Step 2: sign transaction\n",
    "stxn = txn.sign(user['private'])\n",
    "\n",
    "# Step 3: send\n",
    "txid = algod_client.send_transactions([stxn])\n",
    "\n",
    "# Step 4: await confirmation\n",
    "txinfo = wait_for_confirmation(algod_client, txid)"
   ]
  },
  {
   "cell_type": "markdown",
   "metadata": {},
   "source": [
    "#### Watch the state of the contract evolve"
   ]
  },
  {
   "cell_type": "code",
   "execution_count": null,
   "metadata": {},
   "outputs": [],
   "source": [
    "format_state(read_global_state(algod_client,app_id))"
   ]
  },
  {
   "cell_type": "code",
   "execution_count": null,
   "metadata": {},
   "outputs": [],
   "source": [
    "read_local_state(algod_client,user['public'],app_id)"
   ]
  },
  {
   "cell_type": "markdown",
   "metadata": {},
   "source": [
    "#### Now try\n",
    "* For Bob to opt-in\n",
    "* For Charlie to opt in"
   ]
  },
  {
   "cell_type": "markdown",
   "metadata": {},
   "source": [
    "## Users can call the Smart contract (\"make a visit\")\n",
    "* Strangley, calling a Smart Contact is done with a `ApplicationNoOpTxn`\n",
    "* See [here](https://py-algorand-sdk.readthedocs.io/en/latest/algosdk/future/transaction.html#algosdk.transaction.ApplicationNoOpTxn)"
   ]
  },
  {
   "cell_type": "code",
   "execution_count": 193,
   "metadata": {},
   "outputs": [
    {
     "name": "stdout",
     "output_type": "stream",
     "text": [
      "Current round is  19934165.\n",
      "Waiting for round 19934165 to finish.\n",
      "Waiting for round 19934166 to finish.\n",
      "Transaction 4ZFDUJMORKQD46JJR27WRG5RHZPJQDA3YLXNFDJ4XJN7IW4E7PVQ confirmed in round 19934167.\n"
     ]
    }
   ],
   "source": [
    "user = Charlie\n",
    "\n",
    "# Step 1: prepare\n",
    "sp = algod_client.suggested_params()\n",
    "txn = transaction.ApplicationNoOpTxn(user['public'], sp, app_id)\n",
    "\n",
    "# Step 2: sign\n",
    "stxn = txn.sign(user['private'])\n",
    "\n",
    "# Step 3: send\n",
    "txid = algod_client.send_transactions([stxn])\n",
    "\n",
    "# Step 4: wait for condfirmation\n",
    "txinfo = wait_for_confirmation(algod_client, txid)"
   ]
  },
  {
   "cell_type": "markdown",
   "metadata": {},
   "source": [
    "#### Watch the state of the contract evolve"
   ]
  },
  {
   "cell_type": "code",
   "execution_count": 194,
   "metadata": {},
   "outputs": [
    {
     "data": {
      "text/plain": [
       "{'Funding': '3L2VQ4MANUNV2OR7Z2NEN3DMUE63ALGPNXXBUCPCWI6AMEO4XICKORQC64',\n",
       " 'Funds': 8998000,\n",
       " 'Info': 'www.usi.ch',\n",
       " 'All_visits': 2,\n",
       " 'Fans': 1,\n",
       " 'Note': 'Hello world!'}"
      ]
     },
     "execution_count": 194,
     "metadata": {},
     "output_type": "execute_result"
    }
   ],
   "source": [
    "format_state(read_global_state(algod_client,app_id))"
   ]
  },
  {
   "cell_type": "code",
   "execution_count": 195,
   "metadata": {},
   "outputs": [
    {
     "data": {
      "text/plain": [
       "{'Visits': 2,\n",
       " 'LastHolding': 15155000,\n",
       " 'YourHolding': 15654000,\n",
       " 'Message': 'You are welcome'}"
      ]
     },
     "execution_count": 195,
     "metadata": {},
     "output_type": "execute_result"
    }
   ],
   "source": [
    "read_local_state(algod_client,user['public'],app_id)"
   ]
  },
  {
   "cell_type": "markdown",
   "metadata": {},
   "source": [
    "## Users close out (leave) App\n",
    "* With a `ApplicationCloseOutTxn`\n",
    "* See [here](https://py-algorand-sdk.readthedocs.io/en/latest/algosdk/future/transaction.html#algosdk.transaction.ApplicationCloseOutTxn)"
   ]
  },
  {
   "cell_type": "code",
   "execution_count": null,
   "metadata": {},
   "outputs": [],
   "source": [
    "user = Alice\n",
    "\n",
    "# Step 1: prepare\n",
    "sp = algod_client.suggested_params()\n",
    "txn = transaction.ApplicationCloseOutTxn(user['public'], sp, app_id)\n",
    "\n",
    "# Step 2: sign\n",
    "stxn = txn.sign(user['private'])\n",
    "\n",
    "# Step 3: send\n",
    "txid = algod_client.send_transactions([stxn])\n",
    "\n",
    "# Step 4: wait for condfirmation\n",
    "txinfo = wait_for_confirmation(algod_client, txid)"
   ]
  },
  {
   "cell_type": "markdown",
   "metadata": {},
   "source": [
    "#### Watch the state of the contract evolve"
   ]
  },
  {
   "cell_type": "code",
   "execution_count": null,
   "metadata": {},
   "outputs": [],
   "source": [
    "format_state(read_global_state(algod_client,app_id))"
   ]
  },
  {
   "cell_type": "code",
   "execution_count": null,
   "metadata": {},
   "outputs": [],
   "source": [
    "read_local_state(algod_client,user['public'],app_id)"
   ]
  },
  {
   "cell_type": "markdown",
   "metadata": {},
   "source": [
    "## Deleting the app\n",
    "* Rather important, because an address can only create **10 apps**\n",
    "* App can be deleted by creator"
   ]
  },
  {
   "cell_type": "code",
   "execution_count": 196,
   "metadata": {},
   "outputs": [
    {
     "name": "stdout",
     "output_type": "stream",
     "text": [
      "Current round is  19949122.\n",
      "Waiting for round 19949122 to finish.\n",
      "Waiting for round 19949123 to finish.\n",
      "Transaction BTHZWA7NTDYY6D7QRF3SEHN5LQZPU2ZE6BBCXD2V5JB5U4OA5HHA confirmed in round 19949124.\n",
      "Deleted app-id: 73707385\n"
     ]
    }
   ],
   "source": [
    "creator = Bob\n",
    "\n",
    "# Step 1: Prepare transaction\n",
    "sp = algod_client.suggested_params()\n",
    "txn = transaction.ApplicationDeleteTxn(creator['public'], sp, app_id)\n",
    "\n",
    "# Step 2: sign\n",
    "stxn = txn.sign(creator['private'])\n",
    "\n",
    "# Step 3: send\n",
    "txid = algod_client.send_transactions([stxn])\n",
    "\n",
    "# Step4 : wait for confirmation\n",
    "txinfo = wait_for_confirmation(algod_client, txid)\n",
    "\n",
    "# display results\n",
    "print(\"Deleted app-id:\", txinfo[\"txn\"][\"txn\"][\"apid\"])"
   ]
  },
  {
   "cell_type": "markdown",
   "metadata": {},
   "source": [
    "## Appendix: the public address of a Smart Contract\n",
    "* Is there a chance to get the address without writing it to the global state?\n",
    "* In theory, there should exist the following function, but it does not: <br>\n",
    "`algosdk.logic.get_application_address(app_id)    # <--- not (yet) available`\n",
    "\n",
    "#### Here is a workaround:"
   ]
  },
  {
   "cell_type": "code",
   "execution_count": 18,
   "metadata": {},
   "outputs": [
    {
     "name": "stdout",
     "output_type": "stream",
     "text": [
      "GN3H5KMUXFLGDT6JORN5FEBMHVKVNLM4LJWWZKQNHFSCJOGJHOP5DOPWWU\n"
     ]
    }
   ],
   "source": [
    "# The address can be calculated using the following code from the smart contract’s application id.\n",
    "# from https://developer.algorand.org/docs/get-details/dapps/smart-contracts/apps/\n",
    "import algosdk.encoding\n",
    "app_addr = algosdk.encoding.encode_address(algosdk.encoding.checksum(b'appID'+(app_id).to_bytes(8, 'big')))\n",
    "print( app_addr )"
   ]
  }
 ],
 "metadata": {
  "kernelspec": {
   "display_name": "Python 3",
   "language": "python",
   "name": "python3"
  },
  "language_info": {
   "codemirror_mode": {
    "name": "ipython",
    "version": 3
   },
   "file_extension": ".py",
   "mimetype": "text/x-python",
   "name": "python",
   "nbconvert_exporter": "python",
   "pygments_lexer": "ipython3",
   "version": "3.7.6"
  }
 },
 "nbformat": 4,
 "nbformat_minor": 5
}
