{
 "cells": [
  {
   "cell_type": "markdown",
   "metadata": {
    "tags": []
   },
   "source": [
    "## Hello World local SC\n",
    "#### 07.1.1 Winter School on Smart Contracts\n",
    "##### Peter Gruber (peter.gruber@usi.ch)\n",
    "2022-01-09\n",
    "\n",
    "* Write and read the local state of different users"
   ]
  },
  {
   "cell_type": "markdown",
   "metadata": {
    "tags": []
   },
   "source": [
    "## Setup\n",
    "See notebook 04.1, loading `algo_util.py`, the five accounts and the Purestake credentials\n",
    "* Consider hiding this code"
   ]
  },
  {
   "cell_type": "code",
   "execution_count": 1,
   "metadata": {
    "jupyter": {
     "source_hidden": true
    },
    "tags": []
   },
   "outputs": [],
   "source": [
    "# Loading shared code and credentials\n",
    "import sys, os\n",
    "codepath = '..'+os.path.sep+'..'+os.path.sep+'sharedCode'\n",
    "sys.path.append(codepath)\n",
    "from algo_util import *\n",
    "cred = load_credentials()\n",
    "MyAlgo  = cred['MyAlgo']\n",
    "Alice   = cred['Alice']\n",
    "Bob     = cred['Bob']\n",
    "Charlie = cred['Charlie']\n",
    "Dina    = cred['Dina']"
   ]
  },
  {
   "cell_type": "code",
   "execution_count": 2,
   "metadata": {
    "jupyter": {
     "source_hidden": true
    },
    "tags": []
   },
   "outputs": [],
   "source": [
    "from algosdk import account, mnemonic\n",
    "from algosdk.v2client import algod\n",
    "from algosdk import transaction\n",
    "from algosdk.transaction import PaymentTxn\n",
    "from algosdk.transaction import AssetConfigTxn, AssetTransferTxn, AssetFreezeTxn\n",
    "import algosdk.error\n",
    "import json\n",
    "import base64\n",
    "import datetime"
   ]
  },
  {
   "cell_type": "code",
   "execution_count": 3,
   "metadata": {
    "jupyter": {
     "source_hidden": true
    },
    "tags": []
   },
   "outputs": [],
   "source": [
    "from pyteal import *"
   ]
  },
  {
   "cell_type": "code",
   "execution_count": 4,
   "metadata": {
    "jupyter": {
     "source_hidden": true
    },
    "tags": []
   },
   "outputs": [
    {
     "name": "stdout",
     "output_type": "stream",
     "text": [
      "Last committed block is: 19847679\n"
     ]
    }
   ],
   "source": [
    "# Initialize the algod client (Testnet or Mainnet)\n",
    "algod_client = algod.AlgodClient(algod_token='', algod_address=cred['algod_test'], headers=cred['purestake_token'])\n",
    "last_block = algod_client.status()[\"last-round\"]\n",
    "print(f\"Last committed block is: {last_block}\")"
   ]
  },
  {
   "cell_type": "code",
   "execution_count": 5,
   "metadata": {
    "jupyter": {
     "source_hidden": true
    },
    "tags": []
   },
   "outputs": [
    {
     "name": "stdout",
     "output_type": "stream",
     "text": [
      "ADLR27NB3V62INPRGCK63YMRWQCU4J2OE6PTIGZSZSXZNO5KSLAU7TPSFU\n",
      "FEJNBD5DI3TC53AZNGSUAXAR6HAELQF4PLAHSVDUG3EP5WXEKRVULIWOJE\n",
      "AH3NJBIMCZZLXY7NR2NENBWUS4P63JOJFUYM2O3DTW4J5E2ENQL5ISFGKU\n"
     ]
    }
   ],
   "source": [
    "print(Alice['public'])\n",
    "print(Bob['public'])\n",
    "print(Charlie['public'])"
   ]
  },
  {
   "cell_type": "markdown",
   "metadata": {},
   "source": [
    "### Some helper functions"
   ]
  },
  {
   "cell_type": "code",
   "execution_count": 6,
   "metadata": {
    "tags": []
   },
   "outputs": [],
   "source": [
    "def read_local_state(client, addr, app_id):\n",
    "    # reads a user's local state\n",
    "    # client = algod_client\n",
    "    # addr = public addr of the user that we want to inspect\n",
    "    results = client.account_info(addr)\n",
    "    for local_state in results[\"apps-local-state\"]:\n",
    "        if local_state[\"id\"] == app_id:\n",
    "            if \"key-value\" not in local_state:\n",
    "                return {}\n",
    "            return format_state(local_state[\"key-value\"])\n",
    "    return {}\n",
    "\n",
    "def read_global_state(client, app_id):\n",
    "    # reads an app's global state\n",
    "    return  algod_client.application_info(app_id)[\"params\"][\"global-state\"]\n",
    "\n",
    "def format_state(state):\n",
    "    # formats the state (local/global) nicely \n",
    "    formatted = {}\n",
    "    textvariables = {'Info','Note'}        # <---- update this! (List of Text variables in SC)\n",
    "    for item in state:\n",
    "        key = base64.b64decode(item[\"key\"]).decode(\"utf-8\")\n",
    "        value = item[\"value\"]\n",
    "        if value[\"type\"] == 1:\n",
    "            if key in textvariables:                 # Format text variables\n",
    "                formatted_value = base64.b64decode(value[\"bytes\"]).decode(\"utf-8\")\n",
    "            else:                                    # Format addresses\n",
    "                formatted_value = base64.b32encode(base64.b64decode(value[\"bytes\"]))\n",
    "            formatted[key] = formatted_value\n",
    "        else:\n",
    "            formatted[key] = value[\"uint\"]\n",
    "    return formatted"
   ]
  },
  {
   "cell_type": "markdown",
   "metadata": {},
   "source": [
    "## A first stateful smart contract\n",
    "The stateful smart contract consists of two parts\n",
    "* The `approval_program` that handles everything except opt out\n",
    "* The `clear_state_program` that handles the opt out"
   ]
  },
  {
   "cell_type": "markdown",
   "metadata": {},
   "source": [
    "## Our first project: HelloWorld Local\n",
    "* Idea: just write \"Hello World\" into the global state\n",
    "* AND into the global state of every user\n",
    "* Do not do anything else"
   ]
  },
  {
   "cell_type": "markdown",
   "metadata": {},
   "source": [
    "#### Step 1: Define Approval program\n",
    "This is the program that handles all interactions except opt out:\n",
    "* Creation of the SC `handle_creation`\n",
    "* Opt-in of individual users `handle_register`\n",
    "* Interactions (calls) of individual users `handle_interact`\n"
   ]
  },
  {
   "cell_type": "code",
   "execution_count": 7,
   "metadata": {
    "tags": []
   },
   "outputs": [],
   "source": [
    "handle_creation = Seq(\n",
    "    [\n",
    "        # Initialize a GLOBAL variable\n",
    "        App.globalPut(Bytes(\"Note\"),       Bytes(\"Hello world!\")),\n",
    "        # Return \"OK\"\n",
    "        Return(Int(1))        \n",
    "    ]\n",
    ")\n",
    "\n",
    "handle_optin = Seq(\n",
    "    [\n",
    "        # Initialize a LOCAL variable\n",
    "        # Int(0) = current user\n",
    "        App.localPut(Int(0), Bytes(\"Note\"), Bytes(\"Welcome on board!\")),\n",
    "        # Return \"OK\"\n",
    "        Return(Int(1))        \n",
    "    ]\n",
    ")\n",
    "\n",
    "\n",
    "handle_closeout = Return( Int(1) )                # Not doing anything, returning \"OK\"  \n",
    "\n",
    "handle_updateapp = Return( Int(0) )               # Always FALSE ... updating not allowed\n",
    "\n",
    "handle_deleteapp = Return(\n",
    "    Txn.sender() == Global.creator_address()    # only TRUE if delete request is made by creator\n",
    ")\n",
    "\n",
    "# handle interaction\n",
    "handle_noop  = Return ( Int(1) )                   # Not doing anything, returning \"OK\"           \n",
    "\n"
   ]
  },
  {
   "cell_type": "code",
   "execution_count": 8,
   "metadata": {
    "tags": []
   },
   "outputs": [],
   "source": [
    "hello_approval_pyteal = Cond(\n",
    "    [Txn.application_id() == Int(0),              handle_creation],\n",
    "    [Txn.on_completion()  == OnComplete.OptIn,    handle_optin],\n",
    "    [Txn.on_completion()  == OnComplete.CloseOut, handle_closeout],\n",
    "    [Txn.on_completion()  == OnComplete.UpdateApplication, handle_updateapp],\n",
    "    [Txn.on_completion()  == OnComplete.DeleteApplication, handle_deleteapp],\n",
    "    [Txn.on_completion()  == OnComplete.NoOp, handle_noop],\n",
    ")"
   ]
  },
  {
   "cell_type": "markdown",
   "metadata": {},
   "source": [
    "#### Compile PyTEAL -> TEAL\n",
    "* Notice the `Mode.Application` (was `Mode.Signature`)"
   ]
  },
  {
   "cell_type": "code",
   "execution_count": 9,
   "metadata": {
    "tags": []
   },
   "outputs": [
    {
     "name": "stdout",
     "output_type": "stream",
     "text": [
      "#pragma version 3\n",
      "txn ApplicationID\n",
      "int 0\n",
      "==\n",
      "bnz l12\n",
      "txn OnCompletion\n",
      "int OptIn\n",
      "==\n",
      "bnz l11\n",
      "txn OnCompletion\n",
      "int CloseOut\n",
      "==\n",
      "bnz l10\n",
      "txn OnCompletion\n",
      "int UpdateApplication\n",
      "==\n",
      "bnz l9\n",
      "txn OnCompletion\n",
      "int DeleteApplication\n",
      "==\n",
      "bnz l8\n",
      "txn OnCompletion\n",
      "int NoOp\n",
      "==\n",
      "bnz l7\n",
      "err\n",
      "l7:\n",
      "int 1\n",
      "return\n",
      "l8:\n",
      "txn Sender\n",
      "global CreatorAddress\n",
      "==\n",
      "return\n",
      "l9:\n",
      "int 0\n",
      "return\n",
      "l10:\n",
      "int 1\n",
      "return\n",
      "l11:\n",
      "int 0\n",
      "byte \"Note\"\n",
      "byte \"Welcome on board!\"\n",
      "app_local_put\n",
      "int 1\n",
      "return\n",
      "l12:\n",
      "byte \"Note\"\n",
      "byte \"Hello world!\"\n",
      "app_global_put\n",
      "int 1\n",
      "return\n"
     ]
    }
   ],
   "source": [
    "hello_approval_teal = compileTeal(hello_approval_pyteal,mode=Mode.Application, version=3)\n",
    "print(hello_approval_teal)"
   ]
  },
  {
   "cell_type": "markdown",
   "metadata": {
    "tags": []
   },
   "source": [
    "#### Step 1b: Define Clear State program\n",
    "* This program handles forced opt-outs"
   ]
  },
  {
   "cell_type": "code",
   "execution_count": 10,
   "metadata": {
    "tags": []
   },
   "outputs": [],
   "source": [
    "hello_clear_pyteal =  Return(Int(1))    # not doing anything"
   ]
  },
  {
   "cell_type": "code",
   "execution_count": 11,
   "metadata": {},
   "outputs": [
    {
     "name": "stdout",
     "output_type": "stream",
     "text": [
      "#pragma version 3\n",
      "int 1\n",
      "return\n"
     ]
    }
   ],
   "source": [
    "hello_clear_teal = compileTeal(hello_clear_pyteal,mode=Mode.Application, version=3)\n",
    "print(hello_clear_teal)"
   ]
  },
  {
   "cell_type": "markdown",
   "metadata": {},
   "source": [
    "#### Compile TEAL -> Bytecode\n",
    "This is slightly different ... we need one additional step for Byte-encoding"
   ]
  },
  {
   "cell_type": "code",
   "execution_count": 12,
   "metadata": {},
   "outputs": [],
   "source": [
    "hello_approval_b64 = algod_client.compile(hello_approval_teal)\n",
    "Hello_Approval =  base64.b64decode(hello_approval_b64['result'])\n",
    "\n",
    "hello_clear_b64 = algod_client.compile(hello_clear_teal)\n",
    "Hello_Clear =  base64.b64decode(hello_clear_b64['result'])"
   ]
  },
  {
   "cell_type": "markdown",
   "metadata": {},
   "source": [
    "## Deploy Smart Contract\n",
    "\n",
    "##### Bob deploys the smart contract\n",
    "* Reserve global storage with `StateSchema`\n",
    "* New command `ApplicationCreateTxn`\n",
    "* See [here](https://py-algorand-sdk.readthedocs.io/en/latest/algosdk/future/transaction.html#algosdk.transaction.ApplicationCreateTxn)"
   ]
  },
  {
   "cell_type": "code",
   "execution_count": 13,
   "metadata": {},
   "outputs": [],
   "source": [
    "# Step 1: Prepare the transaction\n",
    "sp = algod_client.suggested_params()\n",
    "\n",
    "# How much space do we need?\n",
    "global_ints = 0    # no numeric variable\n",
    "global_bytes = 1   # for  Note\n",
    "hello_global_schema = transaction.StateSchema(global_ints, global_bytes)\n",
    "\n",
    "local_ints = 0     # No local variables\n",
    "local_bytes = 1    # for Note\n",
    "hello_local_schema = transaction.StateSchema(local_ints, local_bytes)\n",
    "\n",
    "txn = transaction.ApplicationCreateTxn(\n",
    "      sender = Bob['public'],              # <-- sender public\n",
    "      sp = sp,                             # <-- sp\n",
    "      on_complete = 0,                     # <-- when finished do nothing\n",
    "      approval_program = Hello_Approval,   # <-- approval program \n",
    "      clear_program = Hello_Clear,         # <-- clear program \n",
    "      global_schema = hello_global_schema, # <-- reserve global space \n",
    "      local_schema = hello_local_schema    # <-- reserve local space\n",
    "    )"
   ]
  },
  {
   "cell_type": "code",
   "execution_count": 14,
   "metadata": {},
   "outputs": [
    {
     "name": "stdout",
     "output_type": "stream",
     "text": [
      "Current round is  19847765.\n",
      "Waiting for round 19847765 to finish.\n",
      "Waiting for round 19847766 to finish.\n",
      "Transaction M5F4URIG2WGFCPU4VRLWDSRWQZLD6ALRCP45O532KMCVAYP3NBKA confirmed in round 19847767.\n"
     ]
    }
   ],
   "source": [
    "# Step 2: sign transaction\n",
    "stxn = txn.sign(Bob['private'])\n",
    "\n",
    "# Step 3: send\n",
    "txid=algod_client.send_transactions([stxn])\n",
    "\n",
    "# Step 4: wait for ...\n",
    "txinfo = wait_for_confirmation(algod_client, txid)"
   ]
  },
  {
   "cell_type": "code",
   "execution_count": 16,
   "metadata": {},
   "outputs": [
    {
     "name": "stdout",
     "output_type": "stream",
     "text": [
      "Created new app-id: 71734153\n"
     ]
    }
   ],
   "source": [
    "app_id = txinfo[\"application-index\"]\n",
    "print(\"Created new app-id:\", app_id)"
   ]
  },
  {
   "cell_type": "markdown",
   "metadata": {},
   "source": [
    "## The Smart Contract is now deployed\n",
    "* And there is alreasdy something to see"
   ]
  },
  {
   "cell_type": "code",
   "execution_count": 17,
   "metadata": {},
   "outputs": [
    {
     "data": {
      "text/plain": [
       "{'Note': 'Hello world!'}"
      ]
     },
     "execution_count": 17,
     "metadata": {},
     "output_type": "execute_result"
    }
   ],
   "source": [
    "format_state(read_global_state(algod_client,app_id))"
   ]
  },
  {
   "cell_type": "code",
   "execution_count": 19,
   "metadata": {},
   "outputs": [
    {
     "name": "stdout",
     "output_type": "stream",
     "text": [
      "https://testnet.algoexplorer.io/application/71734153\n"
     ]
    }
   ],
   "source": [
    "# Program code immediately visible on the web\n",
    "print('https://testnet.algoexplorer.io/application/{}'.format(app_id))"
   ]
  },
  {
   "cell_type": "markdown",
   "metadata": {},
   "source": [
    "## Using the Smart Contract (1): Users opt-in\n",
    "* Nothing will happen, but we can test everything\n",
    "* Using `ApplicationOptInTxn`\n",
    "* See [here](https://py-algorand-sdk.readthedocs.io/en/latest/algosdk/future/transaction.html#algosdk.transaction.ApplicationOptInTxn)"
   ]
  },
  {
   "cell_type": "code",
   "execution_count": 27,
   "metadata": {},
   "outputs": [
    {
     "name": "stdout",
     "output_type": "stream",
     "text": [
      "Current round is  19847797.\n",
      "Waiting for round 19847797 to finish.\n",
      "Waiting for round 19847798 to finish.\n",
      "Transaction 7MV77G2BAICIUIXACIY2KOYHDAHD2WBTPTWX35UCF3DSLY2ZPJQA confirmed in round 19847799.\n"
     ]
    }
   ],
   "source": [
    "user = Alice\n",
    "\n",
    "# Step 1: prepare transaction\n",
    "sp = algod_client.suggested_params()\n",
    "txn = transaction.ApplicationOptInTxn(user['public'], sp, app_id)\n",
    "\n",
    "# Step 2: sign transaction\n",
    "stxn = txn.sign(user['private'])\n",
    "\n",
    "# Step 3: send\n",
    "txid = algod_client.send_transactions([stxn])\n",
    "\n",
    "# Step 4: await confirmation\n",
    "txinfo = wait_for_confirmation(algod_client, txid)"
   ]
  },
  {
   "cell_type": "markdown",
   "metadata": {},
   "source": [
    "#### Watch the state of the contract evolve"
   ]
  },
  {
   "cell_type": "code",
   "execution_count": 28,
   "metadata": {},
   "outputs": [
    {
     "data": {
      "text/plain": [
       "{'Note': 'Hello world!'}"
      ]
     },
     "execution_count": 28,
     "metadata": {},
     "output_type": "execute_result"
    }
   ],
   "source": [
    "format_state(read_global_state(algod_client,app_id))"
   ]
  },
  {
   "cell_type": "code",
   "execution_count": 32,
   "metadata": {},
   "outputs": [
    {
     "data": {
      "text/plain": [
       "{}"
      ]
     },
     "execution_count": 32,
     "metadata": {},
     "output_type": "execute_result"
    }
   ],
   "source": [
    "read_local_state(algod_client,user['public'],app_id)"
   ]
  },
  {
   "cell_type": "markdown",
   "metadata": {},
   "source": [
    "## Users can call the Smart contract (\"make a visit\")\n",
    "* Strangley, calling a Smart Contact is done with a `ApplicationNoOpTxn`\n",
    "* See [here](https://py-algorand-sdk.readthedocs.io/en/latest/algosdk/future/transaction.html#algosdk.transaction.ApplicationNoOpTxn)"
   ]
  },
  {
   "cell_type": "code",
   "execution_count": 33,
   "metadata": {},
   "outputs": [
    {
     "name": "stdout",
     "output_type": "stream",
     "text": [
      "Current round is  19847809.\n",
      "Waiting for round 19847809 to finish.\n",
      "Waiting for round 19847810 to finish.\n",
      "Transaction EB6SWXP2BWZ7BIMXPHWMGM2HMWEXNC4CMZZJVZE6NMGSMQOHEIVQ confirmed in round 19847811.\n"
     ]
    }
   ],
   "source": [
    "user = Bob\n",
    "\n",
    "# Step 1: prepare\n",
    "sp = algod_client.suggested_params()\n",
    "txn = transaction.ApplicationNoOpTxn(user['public'], sp, app_id)\n",
    "\n",
    "# Step 2: sign\n",
    "stxn = txn.sign(user['private'])\n",
    "\n",
    "# Step 3: send\n",
    "txid = algod_client.send_transactions([stxn])\n",
    "\n",
    "# Step 4: wait for condfirmation\n",
    "txinfo = wait_for_confirmation(algod_client, txid)"
   ]
  },
  {
   "cell_type": "markdown",
   "metadata": {},
   "source": [
    "#### The state does not change"
   ]
  },
  {
   "cell_type": "code",
   "execution_count": 34,
   "metadata": {},
   "outputs": [
    {
     "data": {
      "text/plain": [
       "{'Note': 'Hello world!'}"
      ]
     },
     "execution_count": 34,
     "metadata": {},
     "output_type": "execute_result"
    }
   ],
   "source": [
    "format_state(read_global_state(algod_client,app_id))"
   ]
  },
  {
   "cell_type": "code",
   "execution_count": 35,
   "metadata": {},
   "outputs": [
    {
     "data": {
      "text/plain": [
       "{}"
      ]
     },
     "execution_count": 35,
     "metadata": {},
     "output_type": "execute_result"
    }
   ],
   "source": [
    "read_local_state(algod_client,user['public'],app_id)"
   ]
  },
  {
   "cell_type": "markdown",
   "metadata": {},
   "source": [
    "## Users close out (leave) App\n",
    "* With a `ApplicationCloseOutTxn`\n",
    "* See [here](https://py-algorand-sdk.readthedocs.io/en/latest/algosdk/future/transaction.html#algosdk.transaction.ApplicationCloseOutTxn)"
   ]
  },
  {
   "cell_type": "code",
   "execution_count": 36,
   "metadata": {},
   "outputs": [
    {
     "name": "stdout",
     "output_type": "stream",
     "text": [
      "Current round is  19847815.\n",
      "Waiting for round 19847815 to finish.\n",
      "Waiting for round 19847816 to finish.\n",
      "Transaction 67WEQRC4OHIMDEEPNFNIJAT7M3QDHRGPO63JU6OK3U7OPRWL4TVA confirmed in round 19847817.\n"
     ]
    }
   ],
   "source": [
    "user = Alice\n",
    "\n",
    "# Step 1: prepare\n",
    "sp = algod_client.suggested_params()\n",
    "txn = transaction.ApplicationCloseOutTxn(user['public'], sp, app_id)\n",
    "\n",
    "# Step 2: sign\n",
    "stxn = txn.sign(user['private'])\n",
    "\n",
    "# Step 3: send\n",
    "txid = algod_client.send_transactions([stxn])\n",
    "\n",
    "# Step 4: wait for condfirmation\n",
    "txinfo = wait_for_confirmation(algod_client, txid)"
   ]
  },
  {
   "cell_type": "markdown",
   "metadata": {},
   "source": [
    "## Deleting the app\n",
    "* Rather important, because an address can only create **10 apps**\n",
    "* App can be deleted by creator"
   ]
  },
  {
   "cell_type": "code",
   "execution_count": 37,
   "metadata": {},
   "outputs": [
    {
     "name": "stdout",
     "output_type": "stream",
     "text": [
      "Current round is  19847820.\n",
      "Waiting for round 19847820 to finish.\n",
      "Waiting for round 19847821 to finish.\n",
      "Transaction MI54BNKROCL4PKBDEXRNJL4YV6QEPTFCVAX6TVLWIVGJK2KYYAUQ confirmed in round 19847822.\n",
      "Deleted app-id: 71734153\n"
     ]
    }
   ],
   "source": [
    "creator = Bob\n",
    "\n",
    "# Step 1: Prepare transaction\n",
    "sp = algod_client.suggested_params()\n",
    "txn = transaction.ApplicationDeleteTxn(creator['public'], sp, app_id)\n",
    "\n",
    "# Step 2: sign\n",
    "stxn = txn.sign(creator['private'])\n",
    "\n",
    "# Step 3: send\n",
    "txid = algod_client.send_transactions([stxn])\n",
    "\n",
    "# Step4 : wait for confirmation\n",
    "txinfo = wait_for_confirmation(algod_client, txid)\n",
    "\n",
    "# display results\n",
    "print(\"Deleted app-id:\", txinfo[\"txn\"][\"txn\"][\"apid\"])"
   ]
  },
  {
   "cell_type": "code",
   "execution_count": null,
   "metadata": {},
   "outputs": [],
   "source": []
  }
 ],
 "metadata": {
  "kernelspec": {
   "display_name": "Python 3",
   "language": "python",
   "name": "python3"
  },
  "language_info": {
   "codemirror_mode": {
    "name": "ipython",
    "version": 3
   },
   "file_extension": ".py",
   "mimetype": "text/x-python",
   "name": "python",
   "nbconvert_exporter": "python",
   "pygments_lexer": "ipython3",
   "version": "3.7.6"
  }
 },
 "nbformat": 4,
 "nbformat_minor": 5
}
