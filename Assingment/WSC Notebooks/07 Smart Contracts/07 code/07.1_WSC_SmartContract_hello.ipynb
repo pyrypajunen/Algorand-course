{
 "cells": [
  {
   "cell_type": "markdown",
   "id": "e1d8dd61",
   "metadata": {
    "tags": []
   },
   "source": [
    "## Hello World SC\n",
    "#### 07.1 Winter School on Smart Contracts\n",
    "##### Peter Gruber (peter.gruber@usi.ch)\n",
    "2022-01-09\n",
    "\n",
    "* Create and deploy our first contract\n",
    "* Write global state"
   ]
  },
  {
   "cell_type": "markdown",
   "id": "fc793e73",
   "metadata": {
    "tags": []
   },
   "source": [
    "## Setup\n",
    "See notebook 04.1, loading `algo_util.py`, the five accounts and the Purestake credentials\n",
    "* Consider hiding the code below"
   ]
  },
  {
   "cell_type": "code",
   "execution_count": 1,
   "id": "53e20b78",
   "metadata": {
    "tags": []
   },
   "outputs": [],
   "source": [
    "# Loading shared code and credentials\n",
    "import sys, os\n",
    "codepath = '..'+os.path.sep+'..'+os.path.sep+'sharedCode'\n",
    "sys.path.append(codepath)\n",
    "from algo_util import *\n",
    "cred = load_credentials()\n",
    "MyAlgo  = cred['MyAlgo']\n",
    "Alice   = cred['Alice']\n",
    "Bob     = cred['Bob']\n",
    "Charlie = cred['Charlie']\n",
    "Dina    = cred['Dina']"
   ]
  },
  {
   "cell_type": "code",
   "execution_count": 2,
   "id": "3ce11851",
   "metadata": {
    "tags": []
   },
   "outputs": [],
   "source": [
    "from algosdk import account, mnemonic\n",
    "from algosdk.v2client import algod\n",
    "from algosdk import transaction\n",
    "from algosdk.transaction import PaymentTxn\n",
    "from algosdk.transaction import AssetConfigTxn, AssetTransferTxn, AssetFreezeTxn\n",
    "import algosdk.error\n",
    "import json\n",
    "import base64\n",
    "import datetime"
   ]
  },
  {
   "cell_type": "code",
   "execution_count": 3,
   "id": "6b0e4ef1",
   "metadata": {
    "tags": []
   },
   "outputs": [],
   "source": [
    "from pyteal import *"
   ]
  },
  {
   "cell_type": "code",
   "execution_count": 4,
   "id": "04807914",
   "metadata": {
    "tags": []
   },
   "outputs": [
    {
     "name": "stdout",
     "output_type": "stream",
     "text": [
      "Last committed block is: 27781854\n"
     ]
    }
   ],
   "source": [
    "# Initialize the algod client (Testnet or Mainnet)\n",
    "algod_client = algod.AlgodClient(algod_token='', algod_address=cred['algod_test'], headers=cred['purestake_token'])\n",
    "last_block = algod_client.status()[\"last-round\"]\n",
    "print(f\"Last committed block is: {last_block}\")"
   ]
  },
  {
   "cell_type": "code",
   "execution_count": 5,
   "id": "2a30d82e",
   "metadata": {
    "tags": []
   },
   "outputs": [
    {
     "name": "stdout",
     "output_type": "stream",
     "text": [
      "GFJ3O3QBJ4H3KPXYA4MFTTDA7TMEPZXAEUHCSF3J6GEDAXMML4A55KYSL4\n",
      "MB4W4II5EEZ7VA5RGS74BTND5CMYDXMUHGRJ42HQYOSMDJZ23ZPIUWRRKM\n",
      "ZFTSGNBBFDH544IDUVB7S4B67CX6PJL6MMFJYT3GGDH2GWJ4N7H6VKRU2Y\n"
     ]
    }
   ],
   "source": [
    "print(Alice['public'])\n",
    "print(Bob['public'])\n",
    "print(Charlie['public'])"
   ]
  },
  {
   "cell_type": "markdown",
   "id": "4b58a783",
   "metadata": {},
   "source": [
    "## A first stateful smart contract\n",
    "The stateful smart contract consists of two parts\n",
    "* The `approval_program` that handles everything except opt out\n",
    "* The `clear_state_program` that handles the opt out"
   ]
  },
  {
   "cell_type": "markdown",
   "id": "efadaa57",
   "metadata": {},
   "source": [
    "## Our first project: HelloWorld\n",
    "* Idea: just write \"Hello World\" into the global state\n",
    "* Do not do anything else"
   ]
  },
  {
   "cell_type": "markdown",
   "id": "90601b70",
   "metadata": {},
   "source": [
    "#### Step 1: Define Approval program\n",
    "This is the program that handles all interactions except opt out:\n",
    "* Creation of the SC `handle_creation`\n",
    "* Opt-in of individual users `handle_register`\n",
    "* Interactions (calls) of individual users `handle_interact`\n"
   ]
  },
  {
   "cell_type": "code",
   "execution_count": 6,
   "id": "0b7cef9f",
   "metadata": {
    "tags": []
   },
   "outputs": [],
   "source": [
    "handle_creation = Seq(\n",
    "    [\n",
    "        # Initialize a GLOBAL variable\n",
    "        #                      key ---------- value\n",
    "        App.globalPut( Bytes(\"Note\"), Bytes(\"Hello world!\") ),\n",
    "        # Return \"OK\"\n",
    "        Return(Int(1))        \n",
    "    ]\n",
    ")\n",
    "\n",
    "handle_optin = Return ( Int(1) )                  # Not doing anything, returning \"OK\"           \n",
    "\n",
    "handle_closeout = Return( Int(1) )                # Not doing anything, returning \"OK\"  \n",
    "\n",
    "handle_updateapp = Return( Int(0) )               # Always FALSE ... updating not allowed\n",
    "\n",
    "handle_deleteapp = Return(\n",
    "    Txn.sender() == Global.creator_address()    # only TRUE if delete request is made by creator\n",
    ")\n",
    "\n",
    "# handle interaction\n",
    "handle_noop  = Return ( Int(1) )                   # Not doing anything, returning \"OK\"           "
   ]
  },
  {
   "cell_type": "code",
   "execution_count": 8,
   "id": "d8e976a1",
   "metadata": {
    "tags": []
   },
   "outputs": [],
   "source": [
    "hello_approval_pyteal = Cond(\n",
    "    [Txn.application_id() == Int(0),              handle_creation],\n",
    "    [Txn.on_completion()  == OnComplete.OptIn,    handle_optin],\n",
    "    [Txn.on_completion()  == OnComplete.CloseOut, handle_closeout],\n",
    "    [Txn.on_completion()  == OnComplete.UpdateApplication, handle_updateapp],\n",
    "    [Txn.on_completion()  == OnComplete.DeleteApplication, handle_deleteapp],\n",
    "    [Txn.on_completion()  == OnComplete.NoOp, handle_noop],\n",
    ")"
   ]
  },
  {
   "cell_type": "markdown",
   "id": "62c66f79",
   "metadata": {},
   "source": [
    "#### Compile PyTEAL -> TEAL\n",
    "* Notice the `Mode.Application` (was `Mode.Signature`)"
   ]
  },
  {
   "cell_type": "code",
   "execution_count": 9,
   "id": "5bd0ff4c",
   "metadata": {
    "tags": []
   },
   "outputs": [
    {
     "name": "stdout",
     "output_type": "stream",
     "text": [
      "#pragma version 5\n",
      "txn ApplicationID\n",
      "int 0\n",
      "==\n",
      "bnz main_l12\n",
      "txn OnCompletion\n",
      "int OptIn\n",
      "==\n",
      "bnz main_l11\n",
      "txn OnCompletion\n",
      "int CloseOut\n",
      "==\n",
      "bnz main_l10\n",
      "txn OnCompletion\n",
      "int UpdateApplication\n",
      "==\n",
      "bnz main_l9\n",
      "txn OnCompletion\n",
      "int DeleteApplication\n",
      "==\n",
      "bnz main_l8\n",
      "txn OnCompletion\n",
      "int NoOp\n",
      "==\n",
      "bnz main_l7\n",
      "err\n",
      "main_l7:\n",
      "int 1\n",
      "return\n",
      "main_l8:\n",
      "txn Sender\n",
      "global CreatorAddress\n",
      "==\n",
      "return\n",
      "main_l9:\n",
      "int 0\n",
      "return\n",
      "main_l10:\n",
      "int 1\n",
      "return\n",
      "main_l11:\n",
      "int 1\n",
      "return\n",
      "main_l12:\n",
      "byte \"Note\"\n",
      "byte \"Hello world!\"\n",
      "app_global_put\n",
      "int 1\n",
      "return\n"
     ]
    }
   ],
   "source": [
    "hello_approval_teal = compileTeal(hello_approval_pyteal,mode=Mode.Application, version=5)\n",
    "print(hello_approval_teal)"
   ]
  },
  {
   "cell_type": "markdown",
   "id": "f9b6acae",
   "metadata": {
    "tags": []
   },
   "source": [
    "#### Step 1b: Define Clear State program\n",
    "* This program handles forced opt-outs"
   ]
  },
  {
   "cell_type": "code",
   "execution_count": 10,
   "id": "4e71e190",
   "metadata": {
    "tags": []
   },
   "outputs": [],
   "source": [
    "hello_clear_pyteal =  Return(Int(1))    # not doing anything"
   ]
  },
  {
   "cell_type": "code",
   "execution_count": 11,
   "id": "7c7d8b40",
   "metadata": {},
   "outputs": [
    {
     "name": "stdout",
     "output_type": "stream",
     "text": [
      "#pragma version 3\n",
      "int 1\n",
      "return\n"
     ]
    }
   ],
   "source": [
    "hello_clear_teal = compileTeal(hello_clear_pyteal,mode=Mode.Application, version=3)\n",
    "print(hello_clear_teal)"
   ]
  },
  {
   "cell_type": "markdown",
   "id": "be236100",
   "metadata": {},
   "source": [
    "#### Compile TEAL -> Bytecode\n",
    "This is slightly different ... we need one additional step for Byte-encoding"
   ]
  },
  {
   "cell_type": "code",
   "execution_count": 12,
   "id": "2c93020b",
   "metadata": {},
   "outputs": [],
   "source": [
    "hello_approval_b64 = algod_client.compile(hello_approval_teal)\n",
    "Hello_Approval =  base64.b64decode(hello_approval_b64['result'])\n",
    "\n",
    "hello_clear_b64 = algod_client.compile(hello_clear_teal)\n",
    "Hello_Clear =  base64.b64decode(hello_clear_b64['result'])"
   ]
  },
  {
   "cell_type": "markdown",
   "id": "f4d4a51a",
   "metadata": {},
   "source": [
    "## Deploy Smart Contract\n",
    "\n",
    "##### Bob deploys the smart contract\n",
    "* Reserve global storage with `StateSchema`\n",
    "* New command `ApplicationCreateTxn`\n",
    "* See [here](https://py-algorand-sdk.readthedocs.io/en/latest/algosdk/future/transaction.html#algosdk.transaction.ApplicationCreateTxn)"
   ]
  },
  {
   "cell_type": "code",
   "execution_count": 13,
   "id": "1f5159bb",
   "metadata": {},
   "outputs": [],
   "source": [
    "# Step 1: Prepare the transaction\n",
    "sp = algod_client.suggested_params()\n",
    "\n",
    "# How much space do we need?\n",
    "global_ints = 0    # no numeric variable\n",
    "global_bytes = 1   # for \"Note\"\n",
    "hello_global_schema = transaction.StateSchema(global_ints, global_bytes)\n",
    "\n",
    "local_ints = 0     # No local variables\n",
    "local_bytes = 0    # ...\n",
    "hello_local_schema = transaction.StateSchema(local_ints, local_bytes)\n",
    "\n",
    "txn = transaction.ApplicationCreateTxn(\n",
    "      sender = Bob['public'],              # <-- sender public\n",
    "      sp = sp,                             # <-- sp\n",
    "      on_complete = 0,                     # <-- when finished do nothing\n",
    "      approval_program = Hello_Approval,   # <-- approval program \n",
    "      clear_program = Hello_Clear,         # <-- clear program \n",
    "      global_schema = hello_global_schema, # <-- reserve global space \n",
    "      local_schema = hello_local_schema    # <-- reserve local space\n",
    "    )"
   ]
  },
  {
   "cell_type": "code",
   "execution_count": 14,
   "id": "cb026501",
   "metadata": {},
   "outputs": [
    {
     "name": "stdout",
     "output_type": "stream",
     "text": [
      "Current round is  27781942.\n",
      "Waiting for round 27781942 to finish.\n",
      "Waiting for round 27781943 to finish.\n",
      "Transaction JPEC33CHLDCCXCQUGZIUHUA7FMVUKYHZPHRJ3QB4CCQPEYA7ZQJA confirmed in round 27781944.\n"
     ]
    }
   ],
   "source": [
    "# Step 2: sign transaction\n",
    "stxn = txn.sign(Bob['private'])\n",
    "\n",
    "# Step 3: send\n",
    "txid=algod_client.send_transactions([stxn])\n",
    "\n",
    "# Step 4: wait for ...\n",
    "txinfo = wait_for_confirmation(algod_client, txid)"
   ]
  },
  {
   "cell_type": "code",
   "execution_count": 15,
   "id": "723c5c96",
   "metadata": {
    "tags": []
   },
   "outputs": [
    {
     "data": {
      "text/plain": [
       "{'application-index': 159622474,\n",
       " 'confirmed-round': 27781944,\n",
       " 'global-state-delta': [{'key': 'Tm90ZQ==',\n",
       "   'value': {'action': 1, 'bytes': 'SGVsbG8gd29ybGQh'}}],\n",
       " 'pool-error': '',\n",
       " 'txn': {'sig': '0VA23k9Ij+Uj3uRmXwJEsPFGfVGC/2DusRZgVRP2XS3NASpebIEqO7/zIsz9nVx9Ek2ThSZpoCj7a8hhQGm8DQ==',\n",
       "  'txn': {'apap': 'BSACAQAxGCMSQAA1MRkiEkAALDEZgQISQAAiMRmBBBJAABgxGYEFEkAACjEZIxJAAAEAIkMxADIJEkMjQyJDIkOABE5vdGWADEhlbGxvIHdvcmxkIWciQw==',\n",
       "   'apgs': {'nbs': 1},\n",
       "   'apsu': 'AyABASJD',\n",
       "   'fee': 1000,\n",
       "   'fv': 27781940,\n",
       "   'gen': 'testnet-v1.0',\n",
       "   'gh': 'SGO1GKSzyE7IEPItTxCByw9x8FmnrCDexi9/cOUJOiI=',\n",
       "   'lv': 27782940,\n",
       "   'snd': 'MB4W4II5EEZ7VA5RGS74BTND5CMYDXMUHGRJ42HQYOSMDJZ23ZPIUWRRKM',\n",
       "   'type': 'appl'}}}"
      ]
     },
     "execution_count": 15,
     "metadata": {},
     "output_type": "execute_result"
    }
   ],
   "source": [
    "txinfo"
   ]
  },
  {
   "cell_type": "code",
   "execution_count": 17,
   "id": "a6fdd4d1",
   "metadata": {},
   "outputs": [
    {
     "name": "stdout",
     "output_type": "stream",
     "text": [
      "Created new app-id: 159622474\n"
     ]
    }
   ],
   "source": [
    "app_id = txinfo[\"application-index\"]\n",
    "print(\"Created new app-id:\", app_id)"
   ]
  },
  {
   "cell_type": "markdown",
   "id": "9ef6046f",
   "metadata": {},
   "source": [
    "## The Smart Contract is now deployed\n",
    "* And there is alreasdy something to see"
   ]
  },
  {
   "cell_type": "code",
   "execution_count": 18,
   "id": "138aa0a7",
   "metadata": {},
   "outputs": [
    {
     "data": {
      "text/plain": [
       "{'Note': 'Hello world!'}"
      ]
     },
     "execution_count": 18,
     "metadata": {},
     "output_type": "execute_result"
    }
   ],
   "source": [
    "format_state(read_global_state(algod_client,app_id))"
   ]
  },
  {
   "cell_type": "code",
   "execution_count": 19,
   "id": "5a4543ed",
   "metadata": {},
   "outputs": [
    {
     "name": "stdout",
     "output_type": "stream",
     "text": [
      "https://testnet.algoexplorer.io/application/159622474\n"
     ]
    }
   ],
   "source": [
    "# Program code immediately visible on the web\n",
    "print('https://testnet.algoexplorer.io/application/{}'.format(app_id))"
   ]
  },
  {
   "cell_type": "markdown",
   "id": "016eb8ed",
   "metadata": {},
   "source": [
    "## Using the Smart Contract (1): Users opt-in\n",
    "* Nothing will happen, but we can test everything\n",
    "* Using `ApplicationOptInTxn`\n",
    "* See [here](https://py-algorand-sdk.readthedocs.io/en/latest/algosdk/future/transaction.html#algosdk.transaction.ApplicationOptInTxn)"
   ]
  },
  {
   "cell_type": "code",
   "execution_count": 25,
   "id": "f32c26c1",
   "metadata": {},
   "outputs": [
    {
     "name": "stdout",
     "output_type": "stream",
     "text": [
      "Current round is  26072195.\n",
      "Waiting for round 26072195 to finish.\n",
      "Waiting for round 26072196 to finish.\n",
      "Waiting for round 26072197 to finish.\n",
      "Transaction COY3MY7W6RDXRXZWHYAIRU7WL2KXNDGTAX4BYGR6MOERUASDNUUA confirmed in round 26072198.\n"
     ]
    }
   ],
   "source": [
    "user = Alice\n",
    "\n",
    "# Step 1: prepare transaction\n",
    "sp = algod_client.suggested_params()\n",
    "txn = transaction.ApplicationOptInTxn(user['public'], sp, app_id)\n",
    "\n",
    "# Step 2: sign transaction\n",
    "stxn = txn.sign(user['private'])\n",
    "\n",
    "# Step 3: send\n",
    "txid = algod_client.send_transactions([stxn])\n",
    "\n",
    "# Step 4: await confirmation\n",
    "txinfo = wait_for_confirmation(algod_client, txid)"
   ]
  },
  {
   "cell_type": "markdown",
   "id": "76e4243f",
   "metadata": {},
   "source": [
    "#### Watch the state of the contract evolve"
   ]
  },
  {
   "cell_type": "code",
   "execution_count": 26,
   "id": "3e0a2cb1",
   "metadata": {},
   "outputs": [
    {
     "data": {
      "text/plain": [
       "{'Note': 'Hello world!'}"
      ]
     },
     "execution_count": 26,
     "metadata": {},
     "output_type": "execute_result"
    }
   ],
   "source": [
    "format_state(read_global_state(algod_client,app_id))"
   ]
  },
  {
   "cell_type": "markdown",
   "id": "a3483da5",
   "metadata": {},
   "source": [
    "#### Now try\n",
    "* For Alice to opt-in twice (not allowed)\n",
    "* For Bob to opt-in\n",
    "* For Charlie to opt in"
   ]
  },
  {
   "cell_type": "markdown",
   "id": "ae0bbae0",
   "metadata": {},
   "source": [
    "## Users can call the Smart contract (\"make a visit\")\n",
    "* Strangley, calling a Smart Contact is done with a `ApplicationNoOpTxn`\n",
    "* See [here](https://py-algorand-sdk.readthedocs.io/en/latest/algosdk/future/transaction.html#algosdk.transaction.ApplicationNoOpTxn)"
   ]
  },
  {
   "cell_type": "code",
   "execution_count": 27,
   "id": "da1c1d3d",
   "metadata": {},
   "outputs": [
    {
     "name": "stdout",
     "output_type": "stream",
     "text": [
      "Current round is  26072198.\n",
      "Waiting for round 26072198 to finish.\n",
      "Waiting for round 26072199 to finish.\n",
      "Transaction I6UCUKNYYTMDBSNAZU3QGM2J5QF65HQ7AG27TCEZWJCKNQBGOQ4Q confirmed in round 26072200.\n"
     ]
    }
   ],
   "source": [
    "user = Bob\n",
    "\n",
    "# Step 1: prepare\n",
    "sp = algod_client.suggested_params()\n",
    "txn = transaction.ApplicationNoOpTxn(user['public'], sp, app_id)\n",
    "\n",
    "# Step 2: sign\n",
    "stxn = txn.sign(user['private'])\n",
    "\n",
    "# Step 3: send\n",
    "txid = algod_client.send_transactions([stxn])\n",
    "\n",
    "# Step 4: wait for condfirmation\n",
    "txinfo = wait_for_confirmation(algod_client, txid)"
   ]
  },
  {
   "cell_type": "markdown",
   "id": "4a5c0c6b",
   "metadata": {},
   "source": [
    "## Users close out (leave) App\n",
    "* With a `ApplicationCloseOutTxn`\n",
    "* See [here](https://py-algorand-sdk.readthedocs.io/en/latest/algosdk/future/transaction.html#algosdk.transaction.ApplicationCloseOutTxn)"
   ]
  },
  {
   "cell_type": "code",
   "execution_count": 28,
   "id": "af396736",
   "metadata": {},
   "outputs": [
    {
     "name": "stdout",
     "output_type": "stream",
     "text": [
      "Current round is  26072200.\n",
      "Waiting for round 26072200 to finish.\n",
      "Waiting for round 26072201 to finish.\n",
      "Transaction RTPB7WLQHECYFTRY53DVKT43JIANH3R2RLPLA3XZ3XAY2BDGWNXA confirmed in round 26072202.\n"
     ]
    }
   ],
   "source": [
    "user = Alice\n",
    "\n",
    "# Step 1: prepare\n",
    "sp = algod_client.suggested_params()\n",
    "txn = transaction.ApplicationCloseOutTxn(user['public'], sp, app_id)\n",
    "\n",
    "# Step 2: sign\n",
    "stxn = txn.sign(user['private'])\n",
    "\n",
    "# Step 3: send\n",
    "txid = algod_client.send_transactions([stxn])\n",
    "\n",
    "# Step 4: wait for condfirmation\n",
    "txinfo = wait_for_confirmation(algod_client, txid)"
   ]
  },
  {
   "cell_type": "markdown",
   "id": "2fcbdefa",
   "metadata": {},
   "source": [
    "#### Now try\n",
    "* For Alice to opt-out twice (not allowed)\n",
    "* For Charlie to opt out"
   ]
  },
  {
   "cell_type": "markdown",
   "id": "6797ba3f",
   "metadata": {},
   "source": [
    "## Deleting the app\n",
    "* Rather important, because an address can only create **10 apps**\n",
    "* App can be deleted by creator"
   ]
  },
  {
   "cell_type": "code",
   "execution_count": 29,
   "id": "19a512d0",
   "metadata": {},
   "outputs": [
    {
     "name": "stdout",
     "output_type": "stream",
     "text": [
      "Current round is  26072202.\n",
      "Waiting for round 26072202 to finish.\n",
      "Waiting for round 26072203 to finish.\n",
      "Transaction W7UBB2V5PJFS5CIVSQZ6DGNMDZEVEIIV2FSHRHXHPPPEKABUOU5Q confirmed in round 26072204.\n",
      "Deleted app-id: 147390674\n"
     ]
    }
   ],
   "source": [
    "creator = Bob\n",
    "\n",
    "# Step 1: Prepare transaction\n",
    "sp = algod_client.suggested_params()\n",
    "txn = transaction.ApplicationDeleteTxn(creator['public'], sp, app_id)\n",
    "\n",
    "# Step 2: sign\n",
    "stxn = txn.sign(creator['private'])\n",
    "\n",
    "# Step 3: send\n",
    "txid = algod_client.send_transactions([stxn])\n",
    "\n",
    "# Step4 : wait for confirmation\n",
    "txinfo = wait_for_confirmation(algod_client, txid)\n",
    "\n",
    "# display results\n",
    "print(\"Deleted app-id:\", txinfo[\"txn\"][\"txn\"][\"apid\"])"
   ]
  },
  {
   "cell_type": "markdown",
   "id": "ff9acbca",
   "metadata": {},
   "source": [
    "## Appendix: Some helper functions\n",
    "* Also part of `algo_util.py`\n",
    "* Shown here for completeness"
   ]
  },
  {
   "cell_type": "code",
   "execution_count": 30,
   "id": "1f5a1de9",
   "metadata": {
    "tags": []
   },
   "outputs": [],
   "source": [
    "def read_global_state(client, app_id):\n",
    "    # reads an app's global state\n",
    "    return  algod_client.application_info(app_id)[\"params\"][\"global-state\"]\n",
    "\n",
    "def format_state(state):\n",
    "    # formats the state (local/global) nicely \n",
    "    formatted = {}\n",
    "    textvariables = {'Info','Note'}        # <---- update this! (List of Text variables in SC)\n",
    "    for item in state:\n",
    "        key = base64.b64decode(item[\"key\"]).decode(\"utf-8\")\n",
    "        value = item[\"value\"]\n",
    "        if value[\"type\"] == 1:\n",
    "            if key in textvariables:                 # Format text variables\n",
    "                formatted_value = base64.b64decode(value[\"bytes\"]).decode(\"utf-8\")\n",
    "            else:                                    # Format addresses\n",
    "                formatted_value = base64.b32encode(base64.b64decode(value[\"bytes\"]))\n",
    "            formatted[key] = formatted_value\n",
    "        else:\n",
    "            formatted[key] = value[\"uint\"]\n",
    "    return formatted"
   ]
  },
  {
   "cell_type": "markdown",
   "id": "001fda3c",
   "metadata": {},
   "source": [
    "## Appendix: two functions for cleaning up\n",
    "* One address can only create up to 10 apps\n",
    "* Use this code **carefully** for clearing apps"
   ]
  },
  {
   "cell_type": "code",
   "execution_count": 31,
   "id": "1d350be8",
   "metadata": {},
   "outputs": [],
   "source": [
    "# For users: clear private state\n",
    "def clear_app(client, private_key, app_id):\n",
    "    sender = account.address_from_private_key(private_key)\n",
    "    sp = client.suggested_params()\n",
    "    txn = transaction.ApplicationClearStateTxn(sender, sp, app_id)\n",
    "    stxn = txn.sign(private_key)\n",
    "    txid = client.send_transactions([stxn])\n",
    "    txinfo = wait_for_confirmation(algod_client, txid)\n",
    "    print(\"Cleared app-id:\", txinfo[\"txn\"][\"txn\"][\"apid\"])\n",
    "\n",
    "# For creators: kill the app\n",
    "def delete_app(client, private_key, app_id):\n",
    "    sender = account.address_from_private_key(private_key)\n",
    "    sp = client.suggested_params()\n",
    "    txn = transaction.ApplicationDeleteTxn(sender, sp, app_id)\n",
    "    stxn = txn.sign(private_key)\n",
    "    txid = client.send_transactions([stxn])\n",
    "    txinfo = wait_for_confirmation(algod_client, txid)\n",
    "    print(\"Deleted app-id:\", txinfo[\"txn\"][\"txn\"][\"apid\"])"
   ]
  },
  {
   "cell_type": "code",
   "execution_count": 32,
   "id": "ce1bfdf4",
   "metadata": {},
   "outputs": [
    {
     "name": "stdout",
     "output_type": "stream",
     "text": [
      "[76756935, 76787288, 82121140, 83037397, 85407465]\n"
     ]
    }
   ],
   "source": [
    "# get a list of all created apps\n",
    "applist = algod_client.account_info(Bob['public'])['created-apps']\n",
    "appidlist = [app['id'] for app in applist]\n",
    "print(appidlist)"
   ]
  },
  {
   "cell_type": "code",
   "execution_count": 33,
   "id": "522b4b7d",
   "metadata": {},
   "outputs": [
    {
     "ename": "AlgodHTTPError",
     "evalue": "TransactionPool.Remember: transaction XMRX3IDJRHS7AEKMN2WVEBLRGPBTJ66BAGL3SOZK7KHBOKOX73QA: only clearing out is supported for applications that do not exist",
     "output_type": "error",
     "traceback": [
      "\u001b[0;31m---------------------------------------------------------------------------\u001b[0m",
      "\u001b[0;31mHTTPError\u001b[0m                                 Traceback (most recent call last)",
      "\u001b[0;32m/opt/anaconda3/lib/python3.7/site-packages/algosdk/v2client/algod.py\u001b[0m in \u001b[0;36malgod_request\u001b[0;34m(self, method, requrl, params, data, headers, response_format)\u001b[0m\n\u001b[1;32m     81\u001b[0m         \u001b[0;32mtry\u001b[0m\u001b[0;34m:\u001b[0m\u001b[0;34m\u001b[0m\u001b[0;34m\u001b[0m\u001b[0m\n\u001b[0;32m---> 82\u001b[0;31m             \u001b[0mresp\u001b[0m \u001b[0;34m=\u001b[0m \u001b[0murlopen\u001b[0m\u001b[0;34m(\u001b[0m\u001b[0mreq\u001b[0m\u001b[0;34m)\u001b[0m\u001b[0;34m\u001b[0m\u001b[0;34m\u001b[0m\u001b[0m\n\u001b[0m\u001b[1;32m     83\u001b[0m         \u001b[0;32mexcept\u001b[0m \u001b[0murllib\u001b[0m\u001b[0;34m.\u001b[0m\u001b[0merror\u001b[0m\u001b[0;34m.\u001b[0m\u001b[0mHTTPError\u001b[0m \u001b[0;32mas\u001b[0m \u001b[0me\u001b[0m\u001b[0;34m:\u001b[0m\u001b[0;34m\u001b[0m\u001b[0;34m\u001b[0m\u001b[0m\n",
      "\u001b[0;32m/opt/anaconda3/lib/python3.7/urllib/request.py\u001b[0m in \u001b[0;36murlopen\u001b[0;34m(url, data, timeout, cafile, capath, cadefault, context)\u001b[0m\n\u001b[1;32m    221\u001b[0m         \u001b[0mopener\u001b[0m \u001b[0;34m=\u001b[0m \u001b[0m_opener\u001b[0m\u001b[0;34m\u001b[0m\u001b[0;34m\u001b[0m\u001b[0m\n\u001b[0;32m--> 222\u001b[0;31m     \u001b[0;32mreturn\u001b[0m \u001b[0mopener\u001b[0m\u001b[0;34m.\u001b[0m\u001b[0mopen\u001b[0m\u001b[0;34m(\u001b[0m\u001b[0murl\u001b[0m\u001b[0;34m,\u001b[0m \u001b[0mdata\u001b[0m\u001b[0;34m,\u001b[0m \u001b[0mtimeout\u001b[0m\u001b[0;34m)\u001b[0m\u001b[0;34m\u001b[0m\u001b[0;34m\u001b[0m\u001b[0m\n\u001b[0m\u001b[1;32m    223\u001b[0m \u001b[0;34m\u001b[0m\u001b[0m\n",
      "\u001b[0;32m/opt/anaconda3/lib/python3.7/urllib/request.py\u001b[0m in \u001b[0;36mopen\u001b[0;34m(self, fullurl, data, timeout)\u001b[0m\n\u001b[1;32m    530\u001b[0m             \u001b[0mmeth\u001b[0m \u001b[0;34m=\u001b[0m \u001b[0mgetattr\u001b[0m\u001b[0;34m(\u001b[0m\u001b[0mprocessor\u001b[0m\u001b[0;34m,\u001b[0m \u001b[0mmeth_name\u001b[0m\u001b[0;34m)\u001b[0m\u001b[0;34m\u001b[0m\u001b[0;34m\u001b[0m\u001b[0m\n\u001b[0;32m--> 531\u001b[0;31m             \u001b[0mresponse\u001b[0m \u001b[0;34m=\u001b[0m \u001b[0mmeth\u001b[0m\u001b[0;34m(\u001b[0m\u001b[0mreq\u001b[0m\u001b[0;34m,\u001b[0m \u001b[0mresponse\u001b[0m\u001b[0;34m)\u001b[0m\u001b[0;34m\u001b[0m\u001b[0;34m\u001b[0m\u001b[0m\n\u001b[0m\u001b[1;32m    532\u001b[0m \u001b[0;34m\u001b[0m\u001b[0m\n",
      "\u001b[0;32m/opt/anaconda3/lib/python3.7/urllib/request.py\u001b[0m in \u001b[0;36mhttp_response\u001b[0;34m(self, request, response)\u001b[0m\n\u001b[1;32m    640\u001b[0m             response = self.parent.error(\n\u001b[0;32m--> 641\u001b[0;31m                 'http', request, response, code, msg, hdrs)\n\u001b[0m\u001b[1;32m    642\u001b[0m \u001b[0;34m\u001b[0m\u001b[0m\n",
      "\u001b[0;32m/opt/anaconda3/lib/python3.7/urllib/request.py\u001b[0m in \u001b[0;36merror\u001b[0;34m(self, proto, *args)\u001b[0m\n\u001b[1;32m    568\u001b[0m             \u001b[0margs\u001b[0m \u001b[0;34m=\u001b[0m \u001b[0;34m(\u001b[0m\u001b[0mdict\u001b[0m\u001b[0;34m,\u001b[0m \u001b[0;34m'default'\u001b[0m\u001b[0;34m,\u001b[0m \u001b[0;34m'http_error_default'\u001b[0m\u001b[0;34m)\u001b[0m \u001b[0;34m+\u001b[0m \u001b[0morig_args\u001b[0m\u001b[0;34m\u001b[0m\u001b[0;34m\u001b[0m\u001b[0m\n\u001b[0;32m--> 569\u001b[0;31m             \u001b[0;32mreturn\u001b[0m \u001b[0mself\u001b[0m\u001b[0;34m.\u001b[0m\u001b[0m_call_chain\u001b[0m\u001b[0;34m(\u001b[0m\u001b[0;34m*\u001b[0m\u001b[0margs\u001b[0m\u001b[0;34m)\u001b[0m\u001b[0;34m\u001b[0m\u001b[0;34m\u001b[0m\u001b[0m\n\u001b[0m\u001b[1;32m    570\u001b[0m \u001b[0;34m\u001b[0m\u001b[0m\n",
      "\u001b[0;32m/opt/anaconda3/lib/python3.7/urllib/request.py\u001b[0m in \u001b[0;36m_call_chain\u001b[0;34m(self, chain, kind, meth_name, *args)\u001b[0m\n\u001b[1;32m    502\u001b[0m             \u001b[0mfunc\u001b[0m \u001b[0;34m=\u001b[0m \u001b[0mgetattr\u001b[0m\u001b[0;34m(\u001b[0m\u001b[0mhandler\u001b[0m\u001b[0;34m,\u001b[0m \u001b[0mmeth_name\u001b[0m\u001b[0;34m)\u001b[0m\u001b[0;34m\u001b[0m\u001b[0;34m\u001b[0m\u001b[0m\n\u001b[0;32m--> 503\u001b[0;31m             \u001b[0mresult\u001b[0m \u001b[0;34m=\u001b[0m \u001b[0mfunc\u001b[0m\u001b[0;34m(\u001b[0m\u001b[0;34m*\u001b[0m\u001b[0margs\u001b[0m\u001b[0;34m)\u001b[0m\u001b[0;34m\u001b[0m\u001b[0;34m\u001b[0m\u001b[0m\n\u001b[0m\u001b[1;32m    504\u001b[0m             \u001b[0;32mif\u001b[0m \u001b[0mresult\u001b[0m \u001b[0;32mis\u001b[0m \u001b[0;32mnot\u001b[0m \u001b[0;32mNone\u001b[0m\u001b[0;34m:\u001b[0m\u001b[0;34m\u001b[0m\u001b[0;34m\u001b[0m\u001b[0m\n",
      "\u001b[0;32m/opt/anaconda3/lib/python3.7/urllib/request.py\u001b[0m in \u001b[0;36mhttp_error_default\u001b[0;34m(self, req, fp, code, msg, hdrs)\u001b[0m\n\u001b[1;32m    648\u001b[0m     \u001b[0;32mdef\u001b[0m \u001b[0mhttp_error_default\u001b[0m\u001b[0;34m(\u001b[0m\u001b[0mself\u001b[0m\u001b[0;34m,\u001b[0m \u001b[0mreq\u001b[0m\u001b[0;34m,\u001b[0m \u001b[0mfp\u001b[0m\u001b[0;34m,\u001b[0m \u001b[0mcode\u001b[0m\u001b[0;34m,\u001b[0m \u001b[0mmsg\u001b[0m\u001b[0;34m,\u001b[0m \u001b[0mhdrs\u001b[0m\u001b[0;34m)\u001b[0m\u001b[0;34m:\u001b[0m\u001b[0;34m\u001b[0m\u001b[0;34m\u001b[0m\u001b[0m\n\u001b[0;32m--> 649\u001b[0;31m         \u001b[0;32mraise\u001b[0m \u001b[0mHTTPError\u001b[0m\u001b[0;34m(\u001b[0m\u001b[0mreq\u001b[0m\u001b[0;34m.\u001b[0m\u001b[0mfull_url\u001b[0m\u001b[0;34m,\u001b[0m \u001b[0mcode\u001b[0m\u001b[0;34m,\u001b[0m \u001b[0mmsg\u001b[0m\u001b[0;34m,\u001b[0m \u001b[0mhdrs\u001b[0m\u001b[0;34m,\u001b[0m \u001b[0mfp\u001b[0m\u001b[0;34m)\u001b[0m\u001b[0;34m\u001b[0m\u001b[0;34m\u001b[0m\u001b[0m\n\u001b[0m\u001b[1;32m    650\u001b[0m \u001b[0;34m\u001b[0m\u001b[0m\n",
      "\u001b[0;31mHTTPError\u001b[0m: HTTP Error 400: Bad Request",
      "\nDuring handling of the above exception, another exception occurred:\n",
      "\u001b[0;31mAlgodHTTPError\u001b[0m                            Traceback (most recent call last)",
      "\u001b[0;32m<ipython-input-33-91d65c0c215f>\u001b[0m in \u001b[0;36m<module>\u001b[0;34m\u001b[0m\n\u001b[1;32m      1\u001b[0m \u001b[0;31m# delete a specific app\u001b[0m\u001b[0;34m\u001b[0m\u001b[0;34m\u001b[0m\u001b[0;34m\u001b[0m\u001b[0m\n\u001b[1;32m      2\u001b[0m \u001b[0mapp_id\u001b[0m\u001b[0;34m=\u001b[0m\u001b[0;36m71641559\u001b[0m\u001b[0;34m\u001b[0m\u001b[0;34m\u001b[0m\u001b[0m\n\u001b[0;32m----> 3\u001b[0;31m \u001b[0mdelete_app\u001b[0m\u001b[0;34m(\u001b[0m\u001b[0malgod_client\u001b[0m\u001b[0;34m,\u001b[0m \u001b[0mBob\u001b[0m\u001b[0;34m[\u001b[0m\u001b[0;34m'private'\u001b[0m\u001b[0;34m]\u001b[0m\u001b[0;34m,\u001b[0m \u001b[0mapp_id\u001b[0m\u001b[0;34m)\u001b[0m\u001b[0;34m\u001b[0m\u001b[0;34m\u001b[0m\u001b[0m\n\u001b[0m",
      "\u001b[0;32m<ipython-input-31-6890e9be06fe>\u001b[0m in \u001b[0;36mdelete_app\u001b[0;34m(client, private_key, app_id)\u001b[0m\n\u001b[1;32m     15\u001b[0m     \u001b[0mtxn\u001b[0m \u001b[0;34m=\u001b[0m \u001b[0mtransaction\u001b[0m\u001b[0;34m.\u001b[0m\u001b[0mApplicationDeleteTxn\u001b[0m\u001b[0;34m(\u001b[0m\u001b[0msender\u001b[0m\u001b[0;34m,\u001b[0m \u001b[0msp\u001b[0m\u001b[0;34m,\u001b[0m \u001b[0mapp_id\u001b[0m\u001b[0;34m)\u001b[0m\u001b[0;34m\u001b[0m\u001b[0;34m\u001b[0m\u001b[0m\n\u001b[1;32m     16\u001b[0m     \u001b[0mstxn\u001b[0m \u001b[0;34m=\u001b[0m \u001b[0mtxn\u001b[0m\u001b[0;34m.\u001b[0m\u001b[0msign\u001b[0m\u001b[0;34m(\u001b[0m\u001b[0mprivate_key\u001b[0m\u001b[0;34m)\u001b[0m\u001b[0;34m\u001b[0m\u001b[0;34m\u001b[0m\u001b[0m\n\u001b[0;32m---> 17\u001b[0;31m     \u001b[0mtxid\u001b[0m \u001b[0;34m=\u001b[0m \u001b[0mclient\u001b[0m\u001b[0;34m.\u001b[0m\u001b[0msend_transactions\u001b[0m\u001b[0;34m(\u001b[0m\u001b[0;34m[\u001b[0m\u001b[0mstxn\u001b[0m\u001b[0;34m]\u001b[0m\u001b[0;34m)\u001b[0m\u001b[0;34m\u001b[0m\u001b[0;34m\u001b[0m\u001b[0m\n\u001b[0m\u001b[1;32m     18\u001b[0m     \u001b[0mtxinfo\u001b[0m \u001b[0;34m=\u001b[0m \u001b[0mwait_for_confirmation\u001b[0m\u001b[0;34m(\u001b[0m\u001b[0malgod_client\u001b[0m\u001b[0;34m,\u001b[0m \u001b[0mtxid\u001b[0m\u001b[0;34m)\u001b[0m\u001b[0;34m\u001b[0m\u001b[0;34m\u001b[0m\u001b[0m\n\u001b[1;32m     19\u001b[0m     \u001b[0mprint\u001b[0m\u001b[0;34m(\u001b[0m\u001b[0;34m\"Deleted app-id:\"\u001b[0m\u001b[0;34m,\u001b[0m \u001b[0mtxinfo\u001b[0m\u001b[0;34m[\u001b[0m\u001b[0;34m\"txn\"\u001b[0m\u001b[0;34m]\u001b[0m\u001b[0;34m[\u001b[0m\u001b[0;34m\"txn\"\u001b[0m\u001b[0;34m]\u001b[0m\u001b[0;34m[\u001b[0m\u001b[0;34m\"apid\"\u001b[0m\u001b[0;34m]\u001b[0m\u001b[0;34m)\u001b[0m\u001b[0;34m\u001b[0m\u001b[0;34m\u001b[0m\u001b[0m\n",
      "\u001b[0;32m/opt/anaconda3/lib/python3.7/site-packages/algosdk/v2client/algod.py\u001b[0m in \u001b[0;36msend_transactions\u001b[0;34m(self, txns, **kwargs)\u001b[0m\n\u001b[1;32m    306\u001b[0m \u001b[0;34m\u001b[0m\u001b[0m\n\u001b[1;32m    307\u001b[0m         return self.send_raw_transaction(\n\u001b[0;32m--> 308\u001b[0;31m             \u001b[0mbase64\u001b[0m\u001b[0;34m.\u001b[0m\u001b[0mb64encode\u001b[0m\u001b[0;34m(\u001b[0m\u001b[0;34mb\"\"\u001b[0m\u001b[0;34m.\u001b[0m\u001b[0mjoin\u001b[0m\u001b[0;34m(\u001b[0m\u001b[0mserialized\u001b[0m\u001b[0;34m)\u001b[0m\u001b[0;34m)\u001b[0m\u001b[0;34m,\u001b[0m \u001b[0;34m**\u001b[0m\u001b[0mkwargs\u001b[0m\u001b[0;34m\u001b[0m\u001b[0;34m\u001b[0m\u001b[0m\n\u001b[0m\u001b[1;32m    309\u001b[0m         )\n\u001b[1;32m    310\u001b[0m \u001b[0;34m\u001b[0m\u001b[0m\n",
      "\u001b[0;32m/opt/anaconda3/lib/python3.7/site-packages/algosdk/v2client/algod.py\u001b[0m in \u001b[0;36msend_raw_transaction\u001b[0;34m(self, txn, **kwargs)\u001b[0m\n\u001b[1;32m    235\u001b[0m         \u001b[0mkwargs\u001b[0m\u001b[0;34m[\u001b[0m\u001b[0;34m\"headers\"\u001b[0m\u001b[0;34m]\u001b[0m \u001b[0;34m=\u001b[0m \u001b[0mheaders\u001b[0m\u001b[0;34m\u001b[0m\u001b[0;34m\u001b[0m\u001b[0m\n\u001b[1;32m    236\u001b[0m \u001b[0;34m\u001b[0m\u001b[0m\n\u001b[0;32m--> 237\u001b[0;31m         \u001b[0;32mreturn\u001b[0m \u001b[0mself\u001b[0m\u001b[0;34m.\u001b[0m\u001b[0malgod_request\u001b[0m\u001b[0;34m(\u001b[0m\u001b[0;34m\"POST\"\u001b[0m\u001b[0;34m,\u001b[0m \u001b[0mreq\u001b[0m\u001b[0;34m,\u001b[0m \u001b[0mdata\u001b[0m\u001b[0;34m=\u001b[0m\u001b[0mtxn\u001b[0m\u001b[0;34m,\u001b[0m \u001b[0;34m**\u001b[0m\u001b[0mkwargs\u001b[0m\u001b[0;34m)\u001b[0m\u001b[0;34m[\u001b[0m\u001b[0;34m\"txId\"\u001b[0m\u001b[0;34m]\u001b[0m\u001b[0;34m\u001b[0m\u001b[0;34m\u001b[0m\u001b[0m\n\u001b[0m\u001b[1;32m    238\u001b[0m \u001b[0;34m\u001b[0m\u001b[0m\n\u001b[1;32m    239\u001b[0m     def pending_transactions(\n",
      "\u001b[0;32m/opt/anaconda3/lib/python3.7/site-packages/algosdk/v2client/algod.py\u001b[0m in \u001b[0;36malgod_request\u001b[0;34m(self, method, requrl, params, data, headers, response_format)\u001b[0m\n\u001b[1;32m     87\u001b[0m                 \u001b[0me\u001b[0m \u001b[0;34m=\u001b[0m \u001b[0mjson\u001b[0m\u001b[0;34m.\u001b[0m\u001b[0mloads\u001b[0m\u001b[0;34m(\u001b[0m\u001b[0me\u001b[0m\u001b[0;34m)\u001b[0m\u001b[0;34m[\u001b[0m\u001b[0;34m\"message\"\u001b[0m\u001b[0;34m]\u001b[0m\u001b[0;34m\u001b[0m\u001b[0;34m\u001b[0m\u001b[0m\n\u001b[1;32m     88\u001b[0m             \u001b[0;32mfinally\u001b[0m\u001b[0;34m:\u001b[0m\u001b[0;34m\u001b[0m\u001b[0;34m\u001b[0m\u001b[0m\n\u001b[0;32m---> 89\u001b[0;31m                 \u001b[0;32mraise\u001b[0m \u001b[0merror\u001b[0m\u001b[0;34m.\u001b[0m\u001b[0mAlgodHTTPError\u001b[0m\u001b[0;34m(\u001b[0m\u001b[0me\u001b[0m\u001b[0;34m,\u001b[0m \u001b[0mcode\u001b[0m\u001b[0;34m)\u001b[0m\u001b[0;34m\u001b[0m\u001b[0;34m\u001b[0m\u001b[0m\n\u001b[0m\u001b[1;32m     90\u001b[0m         \u001b[0;32mif\u001b[0m \u001b[0mresponse_format\u001b[0m \u001b[0;34m==\u001b[0m \u001b[0;34m\"json\"\u001b[0m\u001b[0;34m:\u001b[0m\u001b[0;34m\u001b[0m\u001b[0;34m\u001b[0m\u001b[0m\n\u001b[1;32m     91\u001b[0m             \u001b[0;32mtry\u001b[0m\u001b[0;34m:\u001b[0m\u001b[0;34m\u001b[0m\u001b[0;34m\u001b[0m\u001b[0m\n",
      "\u001b[0;31mAlgodHTTPError\u001b[0m: TransactionPool.Remember: transaction XMRX3IDJRHS7AEKMN2WVEBLRGPBTJ66BAGL3SOZK7KHBOKOX73QA: only clearing out is supported for applications that do not exist"
     ]
    }
   ],
   "source": [
    "# delete a specific app\n",
    "app_id=71641559\n",
    "delete_app(algod_client, Bob['private'], app_id)"
   ]
  },
  {
   "cell_type": "code",
   "execution_count": null,
   "id": "fbb359e2",
   "metadata": {},
   "outputs": [],
   "source": [
    "# Remember the App is not gone from the blockchain\n",
    "# It is marked \"deleted\"\n",
    "print('https://testnet.algoexplorer.io/application/{}'.format(app_id))"
   ]
  }
 ],
 "metadata": {
  "kernelspec": {
   "display_name": "Python 3 (ipykernel)",
   "language": "python",
   "name": "python3"
  },
  "language_info": {
   "codemirror_mode": {
    "name": "ipython",
    "version": 3
   },
   "file_extension": ".py",
   "mimetype": "text/x-python",
   "name": "python",
   "nbconvert_exporter": "python",
   "pygments_lexer": "ipython3",
   "version": "3.10.9"
  }
 },
 "nbformat": 4,
 "nbformat_minor": 5
}
