{
 "cells": [
  {
   "cell_type": "markdown",
   "id": "59551212",
   "metadata": {
    "tags": []
   },
   "source": [
    "## HelloMember – a Smart Contract with Local State\n",
    "#### 07.1.2 Winter School on Smart Contracts\n",
    "##### Peter Gruber (peter.gruber@usi.ch)\n",
    "2022-01-09\n",
    "\n",
    "* Use and change the local state"
   ]
  },
  {
   "cell_type": "markdown",
   "id": "ddff2e47",
   "metadata": {
    "tags": []
   },
   "source": [
    "## Setup\n",
    "See notebook 04.1, loading `algo_util.py`, the five accounts and the Purestake credentials\n",
    "* Consider hiding the code below"
   ]
  },
  {
   "cell_type": "code",
   "execution_count": 1,
   "id": "8adc51b6",
   "metadata": {
    "tags": []
   },
   "outputs": [],
   "source": [
    "# Loading shared code and credentials\n",
    "import sys, os\n",
    "codepath = '..'+os.path.sep+'..'+os.path.sep+'sharedCode'\n",
    "sys.path.append(codepath)\n",
    "from algo_util import *\n",
    "cred = load_credentials()\n",
    "MyAlgo  = cred['MyAlgo']\n",
    "Alice   = cred['Alice']\n",
    "Bob     = cred['Bob']\n",
    "Charlie = cred['Charlie']\n",
    "Dina    = cred['Dina']"
   ]
  },
  {
   "cell_type": "code",
   "execution_count": 2,
   "id": "0b0ea851",
   "metadata": {
    "tags": []
   },
   "outputs": [],
   "source": [
    "from algosdk import account, mnemonic\n",
    "from algosdk.v2client import algod\n",
    "from algosdk import transaction\n",
    "from algosdk.transaction import PaymentTxn\n",
    "from algosdk.transaction import AssetConfigTxn, AssetTransferTxn, AssetFreezeTxn\n",
    "import algosdk.error\n",
    "import json\n",
    "import base64\n",
    "import datetime"
   ]
  },
  {
   "cell_type": "code",
   "execution_count": 3,
   "id": "24f49e0a",
   "metadata": {
    "jupyter": {
     "source_hidden": true
    },
    "tags": []
   },
   "outputs": [],
   "source": [
    "from pyteal import *"
   ]
  },
  {
   "cell_type": "code",
   "execution_count": 4,
   "id": "c28a087d",
   "metadata": {
    "jupyter": {
     "source_hidden": true
    },
    "tags": []
   },
   "outputs": [
    {
     "name": "stdout",
     "output_type": "stream",
     "text": [
      "Last committed block is: 27782177\n"
     ]
    }
   ],
   "source": [
    "# Initialize the algod client (Testnet or Mainnet)\n",
    "algod_client = algod.AlgodClient(algod_token='', algod_address=cred['algod_test'], headers=cred['purestake_token'])\n",
    "last_block = algod_client.status()[\"last-round\"]\n",
    "print(f\"Last committed block is: {last_block}\")"
   ]
  },
  {
   "cell_type": "code",
   "execution_count": 5,
   "id": "dddc91f8",
   "metadata": {
    "jupyter": {
     "source_hidden": true
    },
    "tags": []
   },
   "outputs": [
    {
     "name": "stdout",
     "output_type": "stream",
     "text": [
      "GFJ3O3QBJ4H3KPXYA4MFTTDA7TMEPZXAEUHCSF3J6GEDAXMML4A55KYSL4\n",
      "MB4W4II5EEZ7VA5RGS74BTND5CMYDXMUHGRJ42HQYOSMDJZ23ZPIUWRRKM\n",
      "ZFTSGNBBFDH544IDUVB7S4B67CX6PJL6MMFJYT3GGDH2GWJ4N7H6VKRU2Y\n"
     ]
    }
   ],
   "source": [
    "print(Alice['public'])\n",
    "print(Bob['public'])\n",
    "print(Charlie['public'])"
   ]
  },
  {
   "cell_type": "markdown",
   "id": "560cd1be",
   "metadata": {},
   "source": [
    "## HelloMember\n",
    "* Building on Helloworld and Hellofan, every member now gets a unique membership number\n",
    "* This membership number is stored in the local state at opt-in\n",
    "* Do not do anything else"
   ]
  },
  {
   "cell_type": "markdown",
   "id": "df06cf67",
   "metadata": {},
   "source": [
    "#### Step 1: Define Approval program\n",
    "* **NEW** at opt-in, we store the membership number using `App.localPut()`\n",
    "* When writing to the local state, we have to specify to *which* local state\n",
    "* Easiest is `App.localPut(Int(0), <key>, <value> )`. \n",
    "* The expression `Int(0)` signifies the *current user*, i.e. the user that is currently interaction with the smart contract"
   ]
  },
  {
   "cell_type": "code",
   "execution_count": 6,
   "id": "f47591ea",
   "metadata": {
    "tags": []
   },
   "outputs": [],
   "source": [
    "handle_creation = Seq(\n",
    "    [\n",
    "        # Initialize a GLOBAL variable\n",
    "        App.globalPut(Bytes(\"Note\"),       Bytes(\"Hello world!\")),\n",
    "        App.globalPut(Bytes(\"Members\"),    Int(0)),                    # <---- initialize: currently we have zero members\n",
    "        Return(Int(1))                                                 # Return \"OK\"\n",
    "    ]\n",
    ")\n",
    "\n",
    "handle_optin = Seq(\n",
    "    [\n",
    "        App.globalPut(                                  # GLOBAL: increase number of Members\n",
    "            Bytes(\"Members\"),                           # key\n",
    "            App.globalGet(Bytes(\"Members\")) + Int(1)    # value: add 1 to current number of members\n",
    "            ),\n",
    "        App.localPut(                                   # LOCAL: membership number\n",
    "            Int(0),                                     # which user? current one!\n",
    "            Bytes(\"MembershipNo\"),                      # key\n",
    "            App.globalGet(Bytes(\"Members\"))             # value: current members (already increased by 1)\n",
    "        ),\n",
    "        Return(Int(1))                                  # Return \"OK\"\n",
    "    ]\n",
    ")\n",
    "\n",
    "\n",
    "handle_closeout = Return( Int(1) )                      # Not doing anything, returning \"OK\"  \n",
    "\n",
    "handle_updateapp = Return( Int(0) )                     # Always FALSE ... updating not allowed\n",
    "\n",
    "handle_deleteapp = Return(\n",
    "    Txn.sender() == Global.creator_address()            # only TRUE if delete request is made by app creator\n",
    ")\n",
    "\n",
    "handle_noop  = Return ( Int(1) )                        # Not doing anything, returning \"OK\"           "
   ]
  },
  {
   "cell_type": "code",
   "execution_count": 7,
   "id": "4dd7c30c",
   "metadata": {
    "tags": []
   },
   "outputs": [],
   "source": [
    "hellomember_approval_pyteal = Cond(\n",
    "    [Txn.application_id() == Int(0),                       handle_creation],\n",
    "    [Txn.on_completion()  == OnComplete.OptIn,             handle_optin],\n",
    "    [Txn.on_completion()  == OnComplete.CloseOut,          handle_closeout],\n",
    "    [Txn.on_completion()  == OnComplete.UpdateApplication, handle_updateapp],\n",
    "    [Txn.on_completion()  == OnComplete.DeleteApplication, handle_deleteapp],\n",
    "    [Txn.on_completion()  == OnComplete.NoOp,              handle_noop],\n",
    ")"
   ]
  },
  {
   "cell_type": "markdown",
   "id": "5ed8eea6",
   "metadata": {},
   "source": [
    "#### Compile PyTEAL -> TEAL"
   ]
  },
  {
   "cell_type": "code",
   "execution_count": 8,
   "id": "67b53a52",
   "metadata": {
    "tags": []
   },
   "outputs": [
    {
     "name": "stdout",
     "output_type": "stream",
     "text": [
      "#pragma version 5\n",
      "txn ApplicationID\n",
      "int 0\n",
      "==\n",
      "bnz main_l12\n",
      "txn OnCompletion\n",
      "int OptIn\n",
      "==\n",
      "bnz main_l11\n",
      "txn OnCompletion\n",
      "int CloseOut\n",
      "==\n",
      "bnz main_l10\n",
      "txn OnCompletion\n",
      "int UpdateApplication\n",
      "==\n",
      "bnz main_l9\n",
      "txn OnCompletion\n",
      "int DeleteApplication\n",
      "==\n",
      "bnz main_l8\n",
      "txn OnCompletion\n",
      "int NoOp\n",
      "==\n",
      "bnz main_l7\n",
      "err\n",
      "main_l7:\n",
      "int 1\n",
      "return\n",
      "main_l8:\n",
      "txn Sender\n",
      "global CreatorAddress\n",
      "==\n",
      "return\n",
      "main_l9:\n",
      "int 0\n",
      "return\n",
      "main_l10:\n",
      "int 1\n",
      "return\n",
      "main_l11:\n",
      "byte \"Members\"\n",
      "byte \"Members\"\n",
      "app_global_get\n",
      "int 1\n",
      "+\n",
      "app_global_put\n",
      "int 0\n",
      "byte \"MembershipNo\"\n",
      "byte \"Members\"\n",
      "app_global_get\n",
      "app_local_put\n",
      "int 1\n",
      "return\n",
      "main_l12:\n",
      "byte \"Note\"\n",
      "byte \"Hello world!\"\n",
      "app_global_put\n",
      "byte \"Members\"\n",
      "int 0\n",
      "app_global_put\n",
      "int 1\n",
      "return\n"
     ]
    }
   ],
   "source": [
    "hellomember_approval_teal = compileTeal(hellomember_approval_pyteal, mode=Mode.Application, version=5)\n",
    "print(hellomember_approval_teal)"
   ]
  },
  {
   "cell_type": "markdown",
   "id": "c8c7f74e",
   "metadata": {
    "tags": []
   },
   "source": [
    "#### Step 1b: Define Clear State program"
   ]
  },
  {
   "cell_type": "code",
   "execution_count": 35,
   "id": "478a6ebc",
   "metadata": {
    "tags": []
   },
   "outputs": [],
   "source": [
    "hellomember_clear_pyteal =  Return(Int(1))    # not doing anything"
   ]
  },
  {
   "cell_type": "code",
   "execution_count": 36,
   "id": "0583020d",
   "metadata": {},
   "outputs": [
    {
     "name": "stdout",
     "output_type": "stream",
     "text": [
      "#pragma version 3\n",
      "int 1\n",
      "return\n"
     ]
    }
   ],
   "source": [
    "hellomember_clear_teal = compileTeal(hellomember_clear_pyteal,mode=Mode.Application, version=3)\n",
    "print(hellomember_clear_teal)"
   ]
  },
  {
   "cell_type": "markdown",
   "id": "a496b8ff",
   "metadata": {},
   "source": [
    "#### Compile TEAL -> Bytecode\n",
    "This is slightly different ... we need one additional step for Byte-encoding"
   ]
  },
  {
   "cell_type": "code",
   "execution_count": 37,
   "id": "ae3a96db",
   "metadata": {},
   "outputs": [],
   "source": [
    "hellomember_approval_b64 = algod_client.compile(hellomember_approval_teal)\n",
    "Hellomember_Approval =  base64.b64decode(hellomember_approval_b64['result'])\n",
    "\n",
    "hellomember_clear_b64 = algod_client.compile(hellomember_clear_teal)\n",
    "Hellomember_Clear =  base64.b64decode(hellomember_clear_b64['result'])"
   ]
  },
  {
   "cell_type": "markdown",
   "id": "6de09b74",
   "metadata": {},
   "source": [
    "## Deploy Smart Contract\n",
    "\n",
    "##### Bob deploys the smart contract\n",
    "* Reserve global storage with `StateSchema`\n",
    "* New command `ApplicationCreateTxn`\n",
    "* See [here](https://py-algorand-sdk.readthedocs.io/en/latest/algosdk/future/transaction.html#algosdk.transaction.ApplicationCreateTxn)"
   ]
  },
  {
   "cell_type": "code",
   "execution_count": 38,
   "id": "7ce9f03a",
   "metadata": {},
   "outputs": [],
   "source": [
    "# Step 1: Prepare the transaction\n",
    "sp = algod_client.suggested_params()\n",
    "\n",
    "# Reserve space\n",
    "global_ints = 1    # for \"Members\"\n",
    "global_bytes = 1   # for \"Note\"\n",
    "hellomember_global_schema = transaction.StateSchema(global_ints, global_bytes)\n",
    "\n",
    "local_ints = 1     # for \"MembershipNo\"\n",
    "local_bytes = 0    # No local text var\n",
    "hellomember_local_schema = transaction.StateSchema(local_ints, local_bytes)\n",
    "\n",
    "txn = transaction.ApplicationCreateTxn(\n",
    "      sender = Bob['public'],                    # <-- sender public\n",
    "      sp = sp,                                   # <-- sp\n",
    "      on_complete = 0,                           # <-- when finished do nothing\n",
    "      approval_program = Hellomember_Approval,   # <-- approval program \n",
    "      clear_program = Hellomember_Clear,         # <-- clear program \n",
    "      global_schema = hellomember_global_schema, # <-- reserve global space \n",
    "      local_schema = hellomember_local_schema    # <-- reserve local space\n",
    "    )"
   ]
  },
  {
   "cell_type": "code",
   "execution_count": 39,
   "id": "20973de5",
   "metadata": {},
   "outputs": [
    {
     "name": "stdout",
     "output_type": "stream",
     "text": [
      "Current round is  27782268.\n",
      "Waiting for round 27782268 to finish.\n",
      "Waiting for round 27782269 to finish.\n",
      "Transaction CMMBDA25E4FWTPIW5KPQHS732SPDM3AMMVC3OJSLUMN6JTVBKIGA confirmed in round 27782270.\n"
     ]
    }
   ],
   "source": [
    "# Step 2: sign transaction\n",
    "stxn = txn.sign(Bob['private'])\n",
    "\n",
    "# Step 3: send\n",
    "txid=algod_client.send_transactions([stxn])\n",
    "\n",
    "# Step 4: wait for ...\n",
    "txinfo = wait_for_confirmation(algod_client, txid)"
   ]
  },
  {
   "cell_type": "code",
   "execution_count": 40,
   "id": "4b5cdee4",
   "metadata": {},
   "outputs": [
    {
     "name": "stdout",
     "output_type": "stream",
     "text": [
      "Created new app-id: 159624172\n"
     ]
    }
   ],
   "source": [
    "app_id = txinfo[\"application-index\"]\n",
    "print(\"Created new app-id:\", app_id)"
   ]
  },
  {
   "cell_type": "markdown",
   "id": "6a62139a",
   "metadata": {},
   "source": [
    "## The Smart Contract is now deployed\n",
    "* And there is alreasdy something to see"
   ]
  },
  {
   "cell_type": "code",
   "execution_count": 41,
   "id": "77c8b97d",
   "metadata": {},
   "outputs": [
    {
     "data": {
      "text/plain": [
       "{'Members': 0, 'Note': 'Hello world!'}"
      ]
     },
     "execution_count": 41,
     "metadata": {},
     "output_type": "execute_result"
    }
   ],
   "source": [
    "format_state(read_global_state(algod_client,app_id))"
   ]
  },
  {
   "cell_type": "code",
   "execution_count": 42,
   "id": "bdb67e71",
   "metadata": {},
   "outputs": [
    {
     "name": "stdout",
     "output_type": "stream",
     "text": [
      "https://testnet.algoexplorer.io/application/159624172\n"
     ]
    }
   ],
   "source": [
    "# Program code immediately visible on the web\n",
    "print('https://testnet.algoexplorer.io/application/{}'.format(app_id))"
   ]
  },
  {
   "cell_type": "markdown",
   "id": "cabf6f16",
   "metadata": {},
   "source": [
    "## Using the Smart Contract (1): Users opt-in\n",
    "* Users will get MebershipNo in order of opt-in transaction"
   ]
  },
  {
   "cell_type": "code",
   "execution_count": 43,
   "id": "b7e98cfc",
   "metadata": {},
   "outputs": [
    {
     "name": "stdout",
     "output_type": "stream",
     "text": [
      "Current round is  27782269.\n",
      "Waiting for round 27782269 to finish.\n",
      "Waiting for round 27782270 to finish.\n",
      "Waiting for round 27782271 to finish.\n",
      "Transaction CHZWPXPSJWSBJA4CG2JULXRKXCLIRVAHEP4GN6DVTUOFYEZPJBXQ confirmed in round 27782272.\n"
     ]
    }
   ],
   "source": [
    "user = Bob\n",
    "\n",
    "# Step 1: prepare transaction\n",
    "sp = algod_client.suggested_params()\n",
    "txn = transaction.ApplicationOptInTxn(user['public'], sp, app_id)\n",
    "\n",
    "# Step 2: sign transaction\n",
    "stxn = txn.sign(user['private'])\n",
    "\n",
    "# Step 3: send\n",
    "txid = algod_client.send_transactions([stxn])\n",
    "\n",
    "# Step 4: await confirmation\n",
    "txinfo = wait_for_confirmation(algod_client, txid)"
   ]
  },
  {
   "cell_type": "markdown",
   "id": "bcc2e739",
   "metadata": {},
   "source": [
    "## Inspect the global state and the local states of the users"
   ]
  },
  {
   "cell_type": "code",
   "execution_count": 44,
   "id": "6121cd3f",
   "metadata": {},
   "outputs": [
    {
     "data": {
      "text/plain": [
       "{'Members': 1, 'Note': 'Hello world!'}"
      ]
     },
     "execution_count": 44,
     "metadata": {},
     "output_type": "execute_result"
    }
   ],
   "source": [
    "format_state(read_global_state(algod_client,app_id))"
   ]
  },
  {
   "cell_type": "code",
   "execution_count": 45,
   "id": "505b2a49",
   "metadata": {},
   "outputs": [
    {
     "data": {
      "text/plain": [
       "{}"
      ]
     },
     "execution_count": 45,
     "metadata": {},
     "output_type": "execute_result"
    }
   ],
   "source": [
    "read_local_state(algod_client,Alice['public'],app_id)"
   ]
  },
  {
   "cell_type": "code",
   "execution_count": 46,
   "id": "82f80e32",
   "metadata": {},
   "outputs": [
    {
     "data": {
      "text/plain": [
       "{'MembershipNo': 1}"
      ]
     },
     "execution_count": 46,
     "metadata": {},
     "output_type": "execute_result"
    }
   ],
   "source": [
    "read_local_state(algod_client,Bob['public'],app_id)"
   ]
  },
  {
   "cell_type": "code",
   "execution_count": 47,
   "id": "2fe96dac",
   "metadata": {},
   "outputs": [
    {
     "data": {
      "text/plain": [
       "{}"
      ]
     },
     "execution_count": 47,
     "metadata": {},
     "output_type": "execute_result"
    }
   ],
   "source": [
    "read_local_state(algod_client,Charlie['public'],app_id)"
   ]
  },
  {
   "cell_type": "code",
   "execution_count": 48,
   "id": "9b8e76d1",
   "metadata": {},
   "outputs": [
    {
     "data": {
      "text/plain": [
       "{}"
      ]
     },
     "execution_count": 48,
     "metadata": {},
     "output_type": "execute_result"
    }
   ],
   "source": [
    "read_local_state(algod_client,Dina['public'],app_id)"
   ]
  },
  {
   "cell_type": "markdown",
   "id": "9959f4f0",
   "metadata": {},
   "source": [
    "## Users can call the Smart contract (\"make a visit\")\n",
    "* Does not really make sense here ..."
   ]
  },
  {
   "cell_type": "markdown",
   "id": "55e7f009",
   "metadata": {},
   "source": [
    "## Users close out (leave) App\n",
    "* With a `ApplicationCloseOutTxn`\n",
    "* See [here](https://py-algorand-sdk.readthedocs.io/en/latest/algosdk/future/transaction.html#algosdk.transaction.ApplicationCloseOutTxn)"
   ]
  },
  {
   "cell_type": "code",
   "execution_count": 28,
   "id": "ba40b40b",
   "metadata": {},
   "outputs": [
    {
     "name": "stdout",
     "output_type": "stream",
     "text": [
      "Current round is  19950119.\n",
      "Waiting for round 19950119 to finish.\n",
      "Waiting for round 19950120 to finish.\n",
      "Transaction 2USKQXO7COXVS3WZX73OETECPWSY4RPVPCWKJC6GOVEUDOJBN6RQ confirmed in round 19950121.\n"
     ]
    }
   ],
   "source": [
    "user = Alice\n",
    "\n",
    "# Step 1: prepare\n",
    "sp = algod_client.suggested_params()\n",
    "txn = transaction.ApplicationCloseOutTxn(user['public'], sp, app_id)\n",
    "\n",
    "# Step 2: sign\n",
    "stxn = txn.sign(user['private'])\n",
    "\n",
    "# Step 3: send\n",
    "txid = algod_client.send_transactions([stxn])\n",
    "\n",
    "# Step 4: wait for condfirmation\n",
    "txinfo = wait_for_confirmation(algod_client, txid)"
   ]
  },
  {
   "cell_type": "markdown",
   "id": "c8624656",
   "metadata": {},
   "source": [
    "## Inspect the global state and the local states of the users\n",
    "* State of leaving member is empty\n",
    "* Membership numbers of remaining members are unchanged"
   ]
  },
  {
   "cell_type": "code",
   "execution_count": 29,
   "id": "13fd75db",
   "metadata": {},
   "outputs": [
    {
     "data": {
      "text/plain": [
       "{'Members': 2, 'Note': 'Hello world!'}"
      ]
     },
     "execution_count": 29,
     "metadata": {},
     "output_type": "execute_result"
    }
   ],
   "source": [
    "# Note that we do not update the number of members\n",
    "format_state(read_global_state(algod_client,app_id))"
   ]
  },
  {
   "cell_type": "code",
   "execution_count": 37,
   "id": "ff68dc3a",
   "metadata": {},
   "outputs": [
    {
     "data": {
      "text/plain": [
       "{}"
      ]
     },
     "execution_count": 37,
     "metadata": {},
     "output_type": "execute_result"
    }
   ],
   "source": [
    "read_local_state(algod_client,Alice['public'],app_id)"
   ]
  },
  {
   "cell_type": "code",
   "execution_count": 31,
   "id": "a43264b3",
   "metadata": {},
   "outputs": [
    {
     "data": {
      "text/plain": [
       "{'MembershipNo': 2}"
      ]
     },
     "execution_count": 31,
     "metadata": {},
     "output_type": "execute_result"
    }
   ],
   "source": [
    "read_local_state(algod_client,Bob['public'],app_id)"
   ]
  },
  {
   "cell_type": "code",
   "execution_count": 32,
   "id": "b326a9bb",
   "metadata": {},
   "outputs": [
    {
     "data": {
      "text/plain": [
       "{}"
      ]
     },
     "execution_count": 32,
     "metadata": {},
     "output_type": "execute_result"
    }
   ],
   "source": [
    "read_local_state(algod_client,Charlie['public'],app_id)"
   ]
  },
  {
   "cell_type": "code",
   "execution_count": 33,
   "id": "99620927",
   "metadata": {},
   "outputs": [
    {
     "data": {
      "text/plain": [
       "{}"
      ]
     },
     "execution_count": 33,
     "metadata": {},
     "output_type": "execute_result"
    }
   ],
   "source": [
    "read_local_state(algod_client,Dina['public'],app_id)"
   ]
  },
  {
   "cell_type": "markdown",
   "id": "e36e8b10",
   "metadata": {},
   "source": [
    "## Deleting the app\n",
    "* Rather important, because an address can only create **10 apps**\n",
    "* App can be deleted by creator"
   ]
  },
  {
   "cell_type": "code",
   "execution_count": 34,
   "id": "6a0c9327",
   "metadata": {},
   "outputs": [
    {
     "name": "stdout",
     "output_type": "stream",
     "text": [
      "Current round is  19950129.\n",
      "Waiting for round 19950129 to finish.\n",
      "Waiting for round 19950130 to finish.\n",
      "Transaction UUCLEPLTBLRU6ZDHJEGHCQAL3PDNOO36WFLIXIGBN2C7ER7VT5ZQ confirmed in round 19950131.\n",
      "Deleted app-id: 74314499\n"
     ]
    }
   ],
   "source": [
    "creator = Bob\n",
    "\n",
    "# Step 1: Prepare transaction\n",
    "sp = algod_client.suggested_params()\n",
    "txn = transaction.ApplicationDeleteTxn(creator['public'], sp, app_id)\n",
    "\n",
    "# Step 2: sign\n",
    "stxn = txn.sign(creator['private'])\n",
    "\n",
    "# Step 3: send\n",
    "txid = algod_client.send_transactions([stxn])\n",
    "\n",
    "# Step4 : wait for confirmation\n",
    "txinfo = wait_for_confirmation(algod_client, txid)\n",
    "\n",
    "# display results\n",
    "print(\"Deleted app-id:\", txinfo[\"txn\"][\"txn\"][\"apid\"])"
   ]
  }
 ],
 "metadata": {
  "kernelspec": {
   "display_name": "Python 3 (ipykernel)",
   "language": "python",
   "name": "python3"
  },
  "language_info": {
   "codemirror_mode": {
    "name": "ipython",
    "version": 3
   },
   "file_extension": ".py",
   "mimetype": "text/x-python",
   "name": "python",
   "nbconvert_exporter": "python",
   "pygments_lexer": "ipython3",
   "version": "3.10.9"
  }
 },
 "nbformat": 4,
 "nbformat_minor": 5
}
