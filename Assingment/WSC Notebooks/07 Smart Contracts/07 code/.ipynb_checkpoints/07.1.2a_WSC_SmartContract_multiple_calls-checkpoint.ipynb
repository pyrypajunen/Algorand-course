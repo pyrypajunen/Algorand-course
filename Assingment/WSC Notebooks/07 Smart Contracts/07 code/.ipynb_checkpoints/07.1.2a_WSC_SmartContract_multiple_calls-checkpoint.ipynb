{
 "cells": [
  {
   "cell_type": "markdown",
   "metadata": {
    "tags": []
   },
   "source": [
    "## *HelloMember – Multiple application calls in one block\n",
    "#### 07.1.2a Winter School on Smart Contracts\n",
    "##### Peter Gruber (peter.gruber@usi.ch)\n",
    "2022-01-09\n",
    "\n",
    "* What happens if multiple application calls occure within a single block"
   ]
  },
  {
   "cell_type": "markdown",
   "metadata": {
    "tags": []
   },
   "source": [
    "## Setup\n",
    "See notebook 04.1, loading `algo_util.py`, the five accounts and the Purestake credentials\n",
    "* Consider hiding the code below"
   ]
  },
  {
   "cell_type": "code",
   "execution_count": null,
   "metadata": {
    "tags": []
   },
   "outputs": [],
   "source": [
    "# Loading shared code and credentials\n",
    "import sys, os\n",
    "codepath = '..'+os.path.sep+'..'+os.path.sep+'sharedCode'\n",
    "sys.path.append(codepath)\n",
    "from algo_util import *\n",
    "cred = load_credentials()\n",
    "MyAlgo  = cred['MyAlgo']\n",
    "Alice   = cred['Alice']\n",
    "Bob     = cred['Bob']\n",
    "Charlie = cred['Charlie']\n",
    "Dina    = cred['Dina']"
   ]
  },
  {
   "cell_type": "code",
   "execution_count": null,
   "metadata": {
    "tags": []
   },
   "outputs": [],
   "source": [
    "from algosdk import account, mnemonic\n",
    "from algosdk.v2client import algod\n",
    "from algosdk import transaction\n",
    "from algosdk.transaction import PaymentTxn\n",
    "from algosdk.transaction import AssetConfigTxn, AssetTransferTxn, AssetFreezeTxn\n",
    "import algosdk.error\n",
    "import json\n",
    "import base64\n",
    "import datetime"
   ]
  },
  {
   "cell_type": "code",
   "execution_count": null,
   "metadata": {
    "tags": []
   },
   "outputs": [],
   "source": [
    "from pyteal import *"
   ]
  },
  {
   "cell_type": "code",
   "execution_count": null,
   "metadata": {
    "tags": []
   },
   "outputs": [],
   "source": [
    "# Initialize the algod client (Testnet or Mainnet)\n",
    "algod_client = algod.AlgodClient(algod_token='', algod_address=cred['algod_test'], headers=cred['purestake_token'])\n",
    "last_block = algod_client.status()[\"last-round\"]\n",
    "print(f\"Last committed block is: {last_block}\")"
   ]
  },
  {
   "cell_type": "code",
   "execution_count": null,
   "metadata": {
    "tags": []
   },
   "outputs": [],
   "source": [
    "print(Alice['public'])\n",
    "print(Bob['public'])\n",
    "print(Charlie['public'])"
   ]
  },
  {
   "cell_type": "markdown",
   "metadata": {},
   "source": [
    "## HelloMember with multiple opt-ins in one block\n",
    "* **Exactly the same program** as in `07.02_WSC`\n",
    "* User interactions are **different**\n",
    "    * What happens if multiple users opt-in at the same time?\n",
    "    * Is the total number of members and the individual membership number calculated correctly?\n",
    "\n",
    "*Spoiler alert:* yes!"
   ]
  },
  {
   "cell_type": "markdown",
   "metadata": {},
   "source": [
    "#### Step 1: Define Approval program"
   ]
  },
  {
   "cell_type": "code",
   "execution_count": null,
   "metadata": {
    "tags": []
   },
   "outputs": [],
   "source": [
    "handle_creation = Seq(\n",
    "    [\n",
    "        # Initialize a GLOBAL variable\n",
    "        App.globalPut(Bytes(\"Note\"),       Bytes(\"Hello world!\")),\n",
    "        App.globalPut(Bytes(\"Members\"),    Int(0)),                    # <---- initialize: currently we have zero members\n",
    "        Return(Int(1))                                                 # Return \"OK\"\n",
    "    ]\n",
    ")\n",
    "\n",
    "handle_optin = Seq(\n",
    "    [\n",
    "        App.globalPut(                                  # GLOBAL: increase number of Members\n",
    "            Bytes(\"Members\"),                           # key\n",
    "            App.globalGet(Bytes(\"Members\")) + Int(1)    # value: add 1 to current number of members\n",
    "            ),\n",
    "        App.localPut(                                   # LOCAL: membership number\n",
    "            Int(0),                                     # which user? current one!\n",
    "            Bytes(\"MembershipNo\"),                      # key\n",
    "            App.globalGet(Bytes(\"Members\"))             # value: current members (already increased by 1)\n",
    "        ),\n",
    "        Return(Int(1))                                  # Return \"OK\"\n",
    "    ]\n",
    ")\n",
    "\n",
    "\n",
    "handle_closeout = Return( Int(1) )                      # Not doing anything, returning \"OK\"  \n",
    "\n",
    "handle_updateapp = Return( Int(0) )                     # Always FALSE ... updating not allowed\n",
    "\n",
    "handle_deleteapp = Return(\n",
    "    Txn.sender() == Global.creator_address()            # only TRUE if delete request is made by app creator\n",
    ")\n",
    "\n",
    "handle_noop  = Return ( Int(1) )                        # Not doing anything, returning \"OK\"           \n",
    "\n",
    "hellomember_approval_pyteal = Cond(\n",
    "    [Txn.application_id() == Int(0),                       handle_creation],\n",
    "    [Txn.on_completion()  == OnComplete.OptIn,             handle_optin],\n",
    "    [Txn.on_completion()  == OnComplete.CloseOut,          handle_closeout],\n",
    "    [Txn.on_completion()  == OnComplete.UpdateApplication, handle_updateapp],\n",
    "    [Txn.on_completion()  == OnComplete.DeleteApplication, handle_deleteapp],\n",
    "    [Txn.on_completion()  == OnComplete.NoOp,              handle_noop],\n",
    ")\n",
    "\n",
    "# Compile PyTEAL -> TEAL\n",
    "hellomember_approval_teal = compileTeal(hellomember_approval_pyteal, mode=Mode.Application, version=5)\n",
    "#print(hellomember_approval_teal)"
   ]
  },
  {
   "cell_type": "markdown",
   "metadata": {
    "tags": []
   },
   "source": [
    "#### Step 1b: Define Clear State program"
   ]
  },
  {
   "cell_type": "code",
   "execution_count": null,
   "metadata": {},
   "outputs": [],
   "source": [
    "hellomember_clear_pyteal =  Return(Int(1))    # not doing anything\n",
    "\n",
    "# Compile PyTEAL -> TEAL\n",
    "hellomember_clear_teal = compileTeal(hellomember_clear_pyteal,mode=Mode.Application, version=3)\n",
    "#print(hellomember_clear_teal)"
   ]
  },
  {
   "cell_type": "markdown",
   "metadata": {},
   "source": [
    "#### Compile TEAL -> Bytecode"
   ]
  },
  {
   "cell_type": "code",
   "execution_count": null,
   "metadata": {},
   "outputs": [],
   "source": [
    "hellomember_approval_b64 = algod_client.compile(hellomember_approval_teal)\n",
    "Hellomember_Approval =  base64.b64decode(hellomember_approval_b64['result'])\n",
    "\n",
    "hellomember_clear_b64 = algod_client.compile(hellomember_clear_teal)\n",
    "Hellomember_Clear =  base64.b64decode(hellomember_clear_b64['result'])"
   ]
  },
  {
   "cell_type": "markdown",
   "metadata": {},
   "source": [
    "## Deploy Smart Contract\n",
    "\n",
    "##### Bob deploys the smart contract"
   ]
  },
  {
   "cell_type": "code",
   "execution_count": null,
   "metadata": {},
   "outputs": [],
   "source": [
    "# Step 1: Prepare the transaction\n",
    "sp = algod_client.suggested_params()\n",
    "\n",
    "# Reserve space\n",
    "global_ints = 1    # for \"Members\"\n",
    "global_bytes = 1   # for \"Note\"\n",
    "hellomember_global_schema = transaction.StateSchema(global_ints, global_bytes)\n",
    "\n",
    "local_ints = 1     # for \"MembershipNo\"\n",
    "local_bytes = 0    # No local text var\n",
    "hellomember_local_schema = transaction.StateSchema(local_ints, local_bytes)\n",
    "\n",
    "txn = transaction.ApplicationCreateTxn(\n",
    "      sender = Bob['public'],                    # <-- sender public\n",
    "      sp = sp,                                   # <-- sp\n",
    "      on_complete = 0,                           # <-- when finished do nothing\n",
    "      approval_program = Hellomember_Approval,   # <-- approval program \n",
    "      clear_program = Hellomember_Clear,         # <-- clear program \n",
    "      global_schema = hellomember_global_schema, # <-- reserve global space \n",
    "      local_schema = hellomember_local_schema    # <-- reserve local space\n",
    "    )\n",
    "\n",
    "# Step 2: sign transaction\n",
    "stxn = txn.sign(Bob['private'])\n",
    "\n",
    "# Step 3: send\n",
    "txid=algod_client.send_transactions([stxn])\n",
    "\n",
    "# Step 4: wait for ...\n",
    "txinfo = wait_for_confirmation(algod_client, txid)"
   ]
  },
  {
   "cell_type": "code",
   "execution_count": null,
   "metadata": {},
   "outputs": [],
   "source": [
    "app_id = txinfo[\"application-index\"]\n",
    "print(\"Created new app-id:\", app_id)"
   ]
  },
  {
   "cell_type": "markdown",
   "metadata": {},
   "source": [
    "## The Smart Contract is now deployed"
   ]
  },
  {
   "cell_type": "code",
   "execution_count": null,
   "metadata": {},
   "outputs": [],
   "source": [
    "format_state(read_global_state(algod_client,app_id))"
   ]
  },
  {
   "cell_type": "markdown",
   "metadata": {},
   "source": [
    "## Using the Smart Contract: Opt-in\n",
    "* What happens if multiple users opt-in at the same time?\n",
    "    * In rare cases, it may happen that not all four transactions are processed in the same block\n",
    "    * The conclusions that we can draw are still valid"
   ]
  },
  {
   "cell_type": "code",
   "execution_count": null,
   "metadata": {},
   "outputs": [],
   "source": [
    "# create a list of transactions\n",
    "#users = [Alice, Bob, Charlie, Dina]\n",
    "users = [Dina, Alice, Bob, Charlie]\n",
    "\n",
    "sp = algod_client.suggested_params()\n",
    "\n",
    "txids=[]\n",
    "for user in users:\n",
    "    # Step 1: prepare transaction\n",
    "    txn = transaction.ApplicationOptInTxn(user['public'], sp, app_id)\n",
    "    # Step 2: sign transaction\n",
    "    stxn = txn.sign(user['private'])\n",
    "    # Step 3: send\n",
    "    txids.append( algod_client.send_transactions( [stxn] ) )"
   ]
  },
  {
   "cell_type": "code",
   "execution_count": null,
   "metadata": {},
   "outputs": [],
   "source": [
    "# Step 4: await confirmation\n",
    "for txid in txids:\n",
    "    txinfo = wait_for_confirmation(algod_client, txid)"
   ]
  },
  {
   "cell_type": "markdown",
   "metadata": {},
   "source": [
    "## Inspect the global state and the local states of the users"
   ]
  },
  {
   "cell_type": "code",
   "execution_count": null,
   "metadata": {},
   "outputs": [],
   "source": [
    "format_state(read_global_state(algod_client,app_id))"
   ]
  },
  {
   "cell_type": "code",
   "execution_count": null,
   "metadata": {},
   "outputs": [],
   "source": [
    "read_local_state(algod_client,Alice['public'],app_id)"
   ]
  },
  {
   "cell_type": "code",
   "execution_count": null,
   "metadata": {},
   "outputs": [],
   "source": [
    "read_local_state(algod_client,Bob['public'],app_id)"
   ]
  },
  {
   "cell_type": "code",
   "execution_count": null,
   "metadata": {},
   "outputs": [],
   "source": [
    "read_local_state(algod_client,Charlie['public'],app_id)"
   ]
  },
  {
   "cell_type": "code",
   "execution_count": null,
   "metadata": {},
   "outputs": [],
   "source": [
    "read_local_state(algod_client,Dina['public'],app_id)"
   ]
  },
  {
   "cell_type": "markdown",
   "metadata": {},
   "source": [
    "## Calling the Smart contract\n",
    "* Does not really make sense here ..."
   ]
  },
  {
   "cell_type": "markdown",
   "metadata": {},
   "source": [
    "## Deleting the app\n",
    "* Rather important, because an address can only create **10 apps**\n",
    "* App can be deleted by creator"
   ]
  },
  {
   "cell_type": "code",
   "execution_count": null,
   "metadata": {},
   "outputs": [],
   "source": [
    "creator = Bob\n",
    "\n",
    "# Step 1: Prepare transaction\n",
    "sp = algod_client.suggested_params()\n",
    "txn = transaction.ApplicationDeleteTxn(creator['public'], sp, app_id)\n",
    "\n",
    "# Step 2: sign\n",
    "stxn = txn.sign(creator['private'])\n",
    "\n",
    "# Step 3: send\n",
    "txid = algod_client.send_transactions([stxn])\n",
    "\n",
    "# Step4 : wait for confirmation\n",
    "txinfo = wait_for_confirmation(algod_client, txid)\n",
    "\n",
    "# display results\n",
    "print(\"Deleted app-id:\", txinfo[\"txn\"][\"txn\"][\"apid\"])"
   ]
  },
  {
   "cell_type": "markdown",
   "metadata": {},
   "source": [
    "## Conclusion\n",
    "* Algorand Smart Contracts can handle multiple user interactions (opt-in, application call) within one block\n",
    "* Even within a block, user interactions are processed in the order of their arrival (i.e. when they have been posted to the blockchain)"
   ]
  },
  {
   "cell_type": "markdown",
   "metadata": {},
   "source": [
    "## Exercise\n",
    "* Delete the app, if you have not yet done so\n",
    "* Go to the section **Using the Smart Contract: Opt-in**\n",
    "* Change the order of users in the code line\n",
    "\n",
    "```{python}\n",
    "users = [Alice, Bob, Charlie, Dina]\n",
    "```\n",
    "\n",
    "* Re-run the entire notebook and inspect the (new) membership numbers"
   ]
  }
 ],
 "metadata": {
  "kernelspec": {
   "display_name": "Python 3",
   "language": "python",
   "name": "python3"
  },
  "language_info": {
   "codemirror_mode": {
    "name": "ipython",
    "version": 3
   },
   "file_extension": ".py",
   "mimetype": "text/x-python",
   "name": "python",
   "nbconvert_exporter": "python",
   "pygments_lexer": "ipython3",
   "version": "3.7.6"
  }
 },
 "nbformat": 4,
 "nbformat_minor": 5
}
