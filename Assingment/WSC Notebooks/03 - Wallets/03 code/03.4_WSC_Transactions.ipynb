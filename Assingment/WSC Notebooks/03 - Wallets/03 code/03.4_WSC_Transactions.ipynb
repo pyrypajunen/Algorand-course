{
 "cells": [
  {
   "cell_type": "markdown",
   "metadata": {},
   "source": [
    "## Transactions\n",
    "#### 03.4 Writing Smart Contracts\n",
    "##### Peter Gruber (peter.gruber@usi.ch)\n",
    "2023-02-28 (started 2021-12-19)\n",
    "\n",
    "- Load credentials\n",
    "- Interact with the blockchain\n",
    "- Execute a payment from Python\n",
    "- Add a note to a payment"
   ]
  },
  {
   "cell_type": "markdown",
   "metadata": {
    "tags": []
   },
   "source": [
    "## Setup\n",
    "Starting with this chapter 3.4, the lines below will always automatically load ...\n",
    "* The accounts MyAlgo, Alice, Bob, Charlie, Dina\n",
    "* The Purestake credentials\n",
    "* The functions in `algo_util.py`"
   ]
  },
  {
   "cell_type": "code",
   "execution_count": 4,
   "metadata": {},
   "outputs": [],
   "source": [
    "# Loading shared code and credentials\n",
    "import sys, os\n",
    "codepath = '..'+os.path.sep+'..'+os.path.sep+'sharedCode'\n",
    "sys.path.append(codepath)\n",
    "from algo_util import *\n",
    "cred = load_credentials()\n",
    "\n",
    "# Shortcuts to directly access the main accounts\n",
    "MyAlgo  = cred['MyAlgo']\n",
    "Alice   = cred['Alice']\n",
    "Bob     = cred['Bob']\n",
    "Charlie = cred['Charlie']\n",
    "Dina    = cred['Dina']"
   ]
  },
  {
   "cell_type": "code",
   "execution_count": 5,
   "metadata": {},
   "outputs": [],
   "source": [
    "from algosdk import account, mnemonic\n",
    "from algosdk.v2client import algod\n",
    "from algosdk.transaction import PaymentTxn\n",
    "import algosdk.error\n",
    "import json"
   ]
  },
  {
   "cell_type": "code",
   "execution_count": 6,
   "metadata": {},
   "outputs": [
    {
     "name": "stdout",
     "output_type": "stream",
     "text": [
      "33SG2MXXXQHP2ZMJUJ2DRKLRKTZ7DJBGKHFREPYCE3RXCUPYRL2LN57BSA\n",
      "GFJ3O3QBJ4H3KPXYA4MFTTDA7TMEPZXAEUHCSF3J6GEDAXMML4A55KYSL4\n",
      "MB4W4II5EEZ7VA5RGS74BTND5CMYDXMUHGRJ42HQYOSMDJZ23ZPIUWRRKM\n",
      "ZFTSGNBBFDH544IDUVB7S4B67CX6PJL6MMFJYT3GGDH2GWJ4N7H6VKRU2Y\n",
      "OH6I6P7ZFKG6I5BBHB7R6C7BLKVCRAJUV5QTR3BZQZINPLXTWD3B4MVEKA\n"
     ]
    }
   ],
   "source": [
    "print(MyAlgo['public'])\n",
    "print(Alice['public'])\n",
    "print(Bob['public'])\n",
    "print(Charlie['public'])\n",
    "print(Dina['public'])"
   ]
  },
  {
   "cell_type": "markdown",
   "metadata": {},
   "source": [
    "## Connecting to the Algorand Blockchain via API\n",
    "+ We choose to connect via Purestake API\n",
    "+ Requires Purestake token to authenticate\n",
    "    - See 03.3_WSC_Credentials\n",
    "- API **address** stored ...\n",
    "    - For the testnet in `cred['algod_test']`\n",
    "    - For the mainnet in `cred['algod_main']`\n",
    "- API **crendentials** stored in `cred['purestake_token']`\n",
    "  - Note: this is already the pair `{'X-Api-key': 'your token'}`\n",
    "  - To obtain token alone use `cred['purestake_token']['X-Api-key']`\n",
    "- See also: https://developer.algorand.org/tutorials/creating-python-transaction-purestake-api/  "
   ]
  },
  {
   "cell_type": "code",
   "execution_count": null,
   "metadata": {},
   "outputs": [],
   "source": [
    "# Today we work with the testnet\n",
    "algod_token   = ''                        # Only needed if we have our own server\n",
    "algod_address = cred['algod_test']        # TESTNET, alternatively cred['algod_main'] \n",
    "purestake_token = cred['purestake_token'] # Authentication token pair {'X-Api-key': '(your token'}\n",
    "\n",
    "# Initialize the algod client\n",
    "algod_client = algod.AlgodClient(algod_token=algod_token, algod_address=algod_address, headers=purestake_token)"
   ]
  },
  {
   "cell_type": "markdown",
   "metadata": {},
   "source": [
    "#### Test the connection\n",
    "- Our first Python access of the blockchain\n",
    "- What's the last block? Verify on https://testnet.algoexplorer.io\n",
    "- Note that block count on testnet is larger (Why?)"
   ]
  },
  {
   "cell_type": "code",
   "execution_count": null,
   "metadata": {},
   "outputs": [
    {
     "data": {
      "text/plain": [
       "27737829"
      ]
     },
     "execution_count": 8,
     "metadata": {},
     "output_type": "execute_result"
    }
   ],
   "source": [
    "algod_client.status()[\"last-round\"]"
   ]
  },
  {
   "cell_type": "markdown",
   "metadata": {
    "tags": []
   },
   "source": [
    "### Check the accounts on the blockchain\n",
    "- Mainnet https://algoexplorer.io \n",
    "- Testnet https://testnet.algoexplorer.io \n",
    "- Alternative indexers are https://algoscan.app and https://explorer.perawallet.app"
   ]
  },
  {
   "cell_type": "code",
   "execution_count": null,
   "metadata": {
    "tags": []
   },
   "outputs": [
    {
     "name": "stdout",
     "output_type": "stream",
     "text": [
      "https://algoexplorer.io/address/33SG2MXXXQHP2ZMJUJ2DRKLRKTZ7DJBGKHFREPYCE3RXCUPYRL2LN57BSA\n",
      "https://testnet.algoexplorer.io/address/33SG2MXXXQHP2ZMJUJ2DRKLRKTZ7DJBGKHFREPYCE3RXCUPYRL2LN57BSA\n"
     ]
    }
   ],
   "source": [
    "# Create a link to directly access your MyAlgo account\n",
    "print('https://algoexplorer.io/address/'+MyAlgo['public'])\n",
    "print('https://testnet.algoexplorer.io/address/'+MyAlgo['public'])"
   ]
  },
  {
   "cell_type": "markdown",
   "metadata": {},
   "source": [
    "### Fund with testnet Algos\n",
    "- https://bank.testnet.algorand.network/\n",
    "- https://testnet.algoexplorer.io/dispenser\n",
    "- https://dispenser.testnet.aws.algodev.network\n",
    "- Fund `MyAlgo`, `Alice` and `Bob`. How many test ALGOs did you get?"
   ]
  },
  {
   "cell_type": "markdown",
   "metadata": {},
   "source": [
    "### Obtain holdings"
   ]
  },
  {
   "cell_type": "code",
   "execution_count": null,
   "metadata": {},
   "outputs": [
    {
     "data": {
      "text/plain": [
       "20381000"
      ]
     },
     "execution_count": 10,
     "metadata": {},
     "output_type": "execute_result"
    }
   ],
   "source": [
    "# Get holdings of testnet Algos\n",
    "address = Alice[\"public\"]\n",
    "algod_client.account_info(address)[\"amount\"]"
   ]
  },
  {
   "cell_type": "code",
   "execution_count": null,
   "metadata": {},
   "outputs": [
    {
     "name": "stdout",
     "output_type": "stream",
     "text": [
      "Address GFJ3O3QBJ4H3KPXYA4MFTTDA7TMEPZXAEUHCSF3J6GEDAXMML4A55KYSL4 has 20.381 test algos\n"
     ]
    }
   ],
   "source": [
    "# Holdings are in micro Algo ... convert\n",
    "algo_precision = 1e6\n",
    "algo_amount    = algod_client.account_info(address)[\"amount\"]/algo_precision\n",
    "print(f\"Address {address} has {algo_amount} test algos\")"
   ]
  },
  {
   "cell_type": "markdown",
   "metadata": {},
   "source": [
    "#### Suggested parameters for a transaction (on the test network)\n",
    "* Get standard parameters from API\n",
    "* Simplifies creation of a transaction"
   ]
  },
  {
   "cell_type": "code",
   "execution_count": null,
   "metadata": {},
   "outputs": [
    {
     "name": "stdout",
     "output_type": "stream",
     "text": [
      "{\n",
      "    \"first\": 27737834,\n",
      "    \"last\": 27738834,\n",
      "    \"gh\": \"SGO1GKSzyE7IEPItTxCByw9x8FmnrCDexi9/cOUJOiI=\",\n",
      "    \"gen\": \"testnet-v1.0\",\n",
      "    \"fee\": 0,\n",
      "    \"flat_fee\": false,\n",
      "    \"consensus_version\": \"https://github.com/algorandfoundation/specs/tree/44fa607d6051730f5264526bf3c108d51f0eadb6\",\n",
      "    \"min_fee\": 1000\n",
      "}\n"
     ]
    }
   ],
   "source": [
    "sp = algod_client.suggested_params()\n",
    "print(json.dumps(vars(sp), indent=4))"
   ]
  },
  {
   "cell_type": "markdown",
   "metadata": {},
   "source": [
    "**Note:** `first` and `last` are suggested params for first and last round valid. Compare to current round\n"
   ]
  },
  {
   "cell_type": "markdown",
   "metadata": {},
   "source": [
    "## A first payment transaction"
   ]
  },
  {
   "cell_type": "markdown",
   "metadata": {},
   "source": [
    "#### Step 1: prepare and create unsigned transaction using `PaymentTxn`"
   ]
  },
  {
   "cell_type": "code",
   "execution_count": null,
   "metadata": {},
   "outputs": [
    {
     "name": "stdout",
     "output_type": "stream",
     "text": [
      "{\n",
      "    \"sender\": \"GFJ3O3QBJ4H3KPXYA4MFTTDA7TMEPZXAEUHCSF3J6GEDAXMML4A55KYSL4\",\n",
      "    \"fee\": 1000,\n",
      "    \"first_valid_round\": 27737835,\n",
      "    \"last_valid_round\": 27738835,\n",
      "    \"note\": null,\n",
      "    \"genesis_id\": \"testnet-v1.0\",\n",
      "    \"genesis_hash\": \"SGO1GKSzyE7IEPItTxCByw9x8FmnrCDexi9/cOUJOiI=\",\n",
      "    \"group\": null,\n",
      "    \"lease\": null,\n",
      "    \"type\": \"pay\",\n",
      "    \"rekey_to\": null,\n",
      "    \"receiver\": \"MB4W4II5EEZ7VA5RGS74BTND5CMYDXMUHGRJ42HQYOSMDJZ23ZPIUWRRKM\",\n",
      "    \"amt\": 100000,\n",
      "    \"close_remainder_to\": null\n",
      "}\n"
     ]
    }
   ],
   "source": [
    "# Parameters\n",
    "sp       = algod_client.suggested_params()       # suggested params\n",
    "amount   = 0.42\n",
    "algo_precision = 1e6\n",
    "amt_microalgo = int(amount * algo_precision)\n",
    "\n",
    "# Create (unsigned) TX\n",
    "txn = PaymentTxn(sender = MyAlgo['public'],     # <--- From\n",
    "                 sp = sp, \n",
    "                 receiver = 'WSC234WDSXHLWICSZ5DVJNRZLJHHK23D3ZSP6MS2CJNII4ZDQTC367VUN4',     # <---- To\n",
    "                 amt = amt_microalgo           # <---- Amount in Micro-ALGOs\n",
    "                )\n",
    "print(json.dumps(vars(txn), indent=4))"
   ]
  },
  {
   "cell_type": "code",
   "execution_count": null,
   "metadata": {},
   "outputs": [
    {
     "name": "stdout",
     "output_type": "stream",
     "text": [
      "HK4IWFR6WK5DDY5ATG3O7P7G3WQ4GINYGZX7B7UL7IZCOUOZLQQQ\n"
     ]
    }
   ],
   "source": [
    "# Interesting: we already have a txid\n",
    "print(txn.get_txid())"
   ]
  },
  {
   "cell_type": "code",
   "execution_count": 84,
   "metadata": {},
   "outputs": [
    {
     "name": "stdout",
     "output_type": "stream",
     "text": [
      "https://testnet.algoexplorer.io/tx/7POM3CAVK5LLH4ZR3GV7FDJDOVNB6QDEYEWISXPVZC2LNGQBH7NQ\n"
     ]
    }
   ],
   "source": [
    "# Is it already on the blockchain? \n",
    "# No ... not yet sent\n",
    "print('https://testnet.algoexplorer.io/tx/'+txn.get_txid())"
   ]
  },
  {
   "cell_type": "markdown",
   "metadata": {},
   "source": [
    "#### Step 2: sign"
   ]
  },
  {
   "cell_type": "code",
   "execution_count": 38,
   "metadata": {},
   "outputs": [
    {
     "name": "stdout",
     "output_type": "stream",
     "text": [
      "{'sender': '33SG2MXXXQHP2ZMJUJ2DRKLRKTZ7DJBGKHFREPYCE3RXCUPYRL2LN57BSA', 'fee': 1000, 'first_valid_round': 27738031, 'last_valid_round': 27739031, 'note': b'159268198', 'genesis_id': 'testnet-v1.0', 'genesis_hash': 'SGO1GKSzyE7IEPItTxCByw9x8FmnrCDexi9/cOUJOiI=', 'group': None, 'lease': None, 'type': 'pay', 'rekey_to': None, 'receiver': 'WSC234WDSXHLWICSZ5DVJNRZLJHHK23D3ZSP6MS2CJNII4ZDQTC367VUN4', 'amt': 420000, 'close_remainder_to': None}\n",
      "\n",
      "uw47qLYkAHW4FCPqnbuB5zJB9kdINLbtkX1geaNXTsZAp7c9LP9XOMNRyssWAdC7U/p2ztq65uPM9OldCLpCBg==\n"
     ]
    }
   ],
   "source": [
    "stxn = txn.sign(MyAlgo['private'])                 # <---- Alice signs with private key\n",
    "\n",
    "# The new stxn object consists of\n",
    "print(stxn.transaction)                           # same\n",
    "print('')\n",
    "print(stxn.signature)                             # new"
   ]
  },
  {
   "cell_type": "code",
   "execution_count": null,
   "metadata": {},
   "outputs": [
    {
     "name": "stdout",
     "output_type": "stream",
     "text": [
      "HK4IWFR6WK5DDY5ATG3O7P7G3WQ4GINYGZX7B7UL7IZCOUOZLQQQ\n",
      "https://testnet.algoexplorer.io/tx/HK4IWFR6WK5DDY5ATG3O7P7G3WQ4GINYGZX7B7UL7IZCOUOZLQQQ\n"
     ]
    }
   ],
   "source": [
    "# The transaction ID is the same, and still nothing on the blockchain\n",
    "print(stxn.get_txid())\n",
    "print('https://testnet.algoexplorer.io/tx/'+stxn.get_txid())"
   ]
  },
  {
   "cell_type": "markdown",
   "metadata": {},
   "source": [
    "#### Step 3: send"
   ]
  },
  {
   "cell_type": "code",
   "execution_count": null,
   "metadata": {},
   "outputs": [
    {
     "name": "stdout",
     "output_type": "stream",
     "text": [
      "{'pool-error': '', 'txn': {'sig': 'p1kjMd2H50D9bEqSm8Pm9gj1L3FpJ//24MBT2lb2ovPooenpiC0xZxeN8QDM+SZLhv5hIFcEzrnjWf3GHfXDBA==', 'txn': {'amt': 100000, 'fee': 1000, 'fv': 27737835, 'gen': 'testnet-v1.0', 'gh': 'SGO1GKSzyE7IEPItTxCByw9x8FmnrCDexi9/cOUJOiI=', 'lv': 27738835, 'rcv': 'MB4W4II5EEZ7VA5RGS74BTND5CMYDXMUHGRJ42HQYOSMDJZ23ZPIUWRRKM', 'snd': 'GFJ3O3QBJ4H3KPXYA4MFTTDA7TMEPZXAEUHCSF3J6GEDAXMML4A55KYSL4', 'type': 'pay'}}}\n"
     ]
    }
   ],
   "source": [
    "txid = algod_client.send_transaction(stxn)\n",
    "\n",
    "# The freshly submitted transaction on the blockchain\n",
    "txinfo = algod_client.pending_transaction_info(txid)\n",
    "print(txinfo)"
   ]
  },
  {
   "cell_type": "markdown",
   "metadata": {},
   "source": [
    "#### Step 4: Wait for confirmation"
   ]
  },
  {
   "cell_type": "code",
   "execution_count": null,
   "metadata": {},
   "outputs": [
    {
     "name": "stdout",
     "output_type": "stream",
     "text": [
      "Current round is  27737840.\n",
      "Waiting for round 27737840 to finish.\n",
      "Waiting for round 27737841 to finish.\n",
      "Transaction HK4IWFR6WK5DDY5ATG3O7P7G3WQ4GINYGZX7B7UL7IZCOUOZLQQQ confirmed in round 27737842.\n"
     ]
    }
   ],
   "source": [
    "txinfo = wait_for_confirmation(algod_client, txid)"
   ]
  },
  {
   "cell_type": "code",
   "execution_count": null,
   "metadata": {},
   "outputs": [
    {
     "name": "stdout",
     "output_type": "stream",
     "text": [
      "{'confirmed-round': 27737842, 'pool-error': '', 'txn': {'sig': 'p1kjMd2H50D9bEqSm8Pm9gj1L3FpJ//24MBT2lb2ovPooenpiC0xZxeN8QDM+SZLhv5hIFcEzrnjWf3GHfXDBA==', 'txn': {'amt': 100000, 'fee': 1000, 'fv': 27737835, 'gen': 'testnet-v1.0', 'gh': 'SGO1GKSzyE7IEPItTxCByw9x8FmnrCDexi9/cOUJOiI=', 'lv': 27738835, 'rcv': 'MB4W4II5EEZ7VA5RGS74BTND5CMYDXMUHGRJ42HQYOSMDJZ23ZPIUWRRKM', 'snd': 'GFJ3O3QBJ4H3KPXYA4MFTTDA7TMEPZXAEUHCSF3J6GEDAXMML4A55KYSL4', 'type': 'pay'}}}\n"
     ]
    }
   ],
   "source": [
    "# Note that txinfo has now a 'confirmed-round'\n",
    "print(txinfo)"
   ]
  },
  {
   "cell_type": "code",
   "execution_count": 90,
   "metadata": {},
   "outputs": [
    {
     "name": "stdout",
     "output_type": "stream",
     "text": [
      "https://testnet.algoexplorer.io/tx/7POM3CAVK5LLH4ZR3GV7FDJDOVNB6QDEYEWISXPVZC2LNGQBH7NQ\n"
     ]
    }
   ],
   "source": [
    "# Now we can check the tx also on algoexplorer\n",
    "print('https://testnet.algoexplorer.io/tx/'+txid)"
   ]
  },
  {
   "cell_type": "markdown",
   "metadata": {},
   "source": [
    "## Add a note to a transaction"
   ]
  },
  {
   "cell_type": "code",
   "execution_count": 35,
   "metadata": {},
   "outputs": [],
   "source": [
    "# Step 1a: Prepare\n",
    "sp       = algod_client.suggested_params()       # suggested params\n",
    "\n",
    "amount    = 0.42\n",
    "algo_precision = 1e6\n",
    "amt_microalgo = int(amount * algo_precision)\n",
    "\n",
    "# Step 1b: The note\n",
    "note_txt  = \"159268198\"\n",
    "note_byte = note_txt.encode()"
   ]
  },
  {
   "cell_type": "code",
   "execution_count": 36,
   "metadata": {},
   "outputs": [
    {
     "name": "stdout",
     "output_type": "stream",
     "text": [
      "{'sender': '33SG2MXXXQHP2ZMJUJ2DRKLRKTZ7DJBGKHFREPYCE3RXCUPYRL2LN57BSA', 'fee': 1000, 'first_valid_round': 27738031, 'last_valid_round': 27739031, 'note': b'159268198', 'genesis_id': 'testnet-v1.0', 'genesis_hash': 'SGO1GKSzyE7IEPItTxCByw9x8FmnrCDexi9/cOUJOiI=', 'group': None, 'lease': None, 'type': 'pay', 'rekey_to': None, 'receiver': 'WSC234WDSXHLWICSZ5DVJNRZLJHHK23D3ZSP6MS2CJNII4ZDQTC367VUN4', 'amt': 420000, 'close_remainder_to': None}\n"
     ]
    }
   ],
   "source": [
    "# Step 1c: create (unsigned) TX\n",
    "txn = PaymentTxn(sender=MyAlgo['public'],\n",
    "                 sp=sp, \n",
    "                 receiver = \"WSC234WDSXHLWICSZ5DVJNRZLJHHK23D3ZSP6MS2CJNII4ZDQTC367VUN4\",\n",
    "                 amt=amt_microalgo, \n",
    "                 note=note_byte\n",
    "                 )\n",
    "print(txn)"
   ]
  },
  {
   "cell_type": "code",
   "execution_count": 23,
   "metadata": {},
   "outputs": [
    {
     "ename": "NameError",
     "evalue": "name 'Balance' is not defined",
     "output_type": "error",
     "traceback": [
      "\u001b[0;31m---------------------------------------------------------------------------\u001b[0m",
      "\u001b[0;31mNameError\u001b[0m                                 Traceback (most recent call last)",
      "\u001b[0;32m/var/folders/rn/mn2f44yn69b_skfgr4dd1sh00000gn/T/ipykernel_8928/3916063041.py\u001b[0m in \u001b[0;36m<module>\u001b[0;34m\u001b[0m\n\u001b[0;32m----> 1\u001b[0;31m \u001b[0maccount1Balance\u001b[0m \u001b[0;34m=\u001b[0m \u001b[0mBalance\u001b[0m\u001b[0;34m(\u001b[0m\u001b[0mTxn\u001b[0m\u001b[0;34m.\u001b[0m\u001b[0maccounts\u001b[0m\u001b[0;34m[\u001b[0m\u001b[0;36m1\u001b[0m\u001b[0;34m]\u001b[0m\u001b[0;34m)\u001b[0m \u001b[0;31m# get the balance of Txn.accounts[1]\u001b[0m\u001b[0;34m\u001b[0m\u001b[0;34m\u001b[0m\u001b[0m\n\u001b[0m",
      "\u001b[0;31mNameError\u001b[0m: name 'Balance' is not defined"
     ]
    }
   ],
   "source": [
    "#account1Balance = Balance(Txn.accounts[1]) # get the balance of Txn.accounts[1]"
   ]
  },
  {
   "cell_type": "code",
   "execution_count": 39,
   "metadata": {},
   "outputs": [
    {
     "name": "stdout",
     "output_type": "stream",
     "text": [
      "Send transaction with txID: 35HFKUFYGHRSJRPNZBASMCFCKXEDPQLSD3WUEWFRHGYBQ3EJMTGA\n"
     ]
    }
   ],
   "source": [
    "# Step 2+3: sign and send TX\n",
    "stxn = txn.sign(MyAlgo['private'])\n",
    "txid = algod_client.send_transaction(stxn)\n",
    "print(\"Send transaction with txID: {}\".format(txid))"
   ]
  },
  {
   "cell_type": "code",
   "execution_count": 40,
   "metadata": {},
   "outputs": [
    {
     "name": "stdout",
     "output_type": "stream",
     "text": [
      "Current round is  27738047.\n",
      "Transaction 35HFKUFYGHRSJRPNZBASMCFCKXEDPQLSD3WUEWFRHGYBQ3EJMTGA confirmed in round 27738047.\n"
     ]
    }
   ],
   "source": [
    "# Step 4: Wait for confirmation\n",
    "txinfo = wait_for_confirmation(algod_client, txid)"
   ]
  },
  {
   "cell_type": "code",
   "execution_count": 26,
   "metadata": {},
   "outputs": [
    {
     "name": "stdout",
     "output_type": "stream",
     "text": [
      "{'confirmed-round': 27737888, 'pool-error': '', 'txn': {'sig': 'Z3a8RfsyFPSi9nSi3HOFwVP7eCp/iLFVRMBM4aoL+x7G0hQm/0DzijKnbwHkve0vtDEq58etSSpf7jykbVg3CA==', 'txn': {'amt': 100000, 'fee': 1000, 'fv': 27737845, 'gen': 'testnet-v1.0', 'gh': 'SGO1GKSzyE7IEPItTxCByw9x8FmnrCDexi9/cOUJOiI=', 'lv': 27738845, 'note': 'UGF5aW5nIGJhY2sgZm9yIGxhc3QgZGlubmVy', 'rcv': 'MB4W4II5EEZ7VA5RGS74BTND5CMYDXMUHGRJ42HQYOSMDJZ23ZPIUWRRKM', 'snd': 'GFJ3O3QBJ4H3KPXYA4MFTTDA7TMEPZXAEUHCSF3J6GEDAXMML4A55KYSL4', 'type': 'pay'}}}\n"
     ]
    }
   ],
   "source": [
    "print(txinfo)"
   ]
  },
  {
   "cell_type": "code",
   "execution_count": 27,
   "metadata": {},
   "outputs": [
    {
     "name": "stdout",
     "output_type": "stream",
     "text": [
      "UGF5aW5nIGJhY2sgZm9yIGxhc3QgZGlubmVy\n",
      "b'Paying back for last dinner'\n",
      "Paying back for last dinner\n"
     ]
    }
   ],
   "source": [
    "# Step 5 (check): Extract message in txinfo and convert back\n",
    "import base64\n",
    "note_base64 = txinfo['txn']['txn']['note']\n",
    "print(note_base64)\n",
    "note_byte   = base64.b64decode(note_base64)\n",
    "print(note_byte)\n",
    "note_txt   = note_byte.decode()\n",
    "print(note_txt)"
   ]
  },
  {
   "cell_type": "code",
   "execution_count": 28,
   "metadata": {},
   "outputs": [
    {
     "name": "stdout",
     "output_type": "stream",
     "text": [
      "https://testnet.algoexplorer.io/tx/YNEKD6IBOEA77LKCH6LB2FCOITJLCIXDFMAJOLXA23BUNQHY23PQ\n"
     ]
    }
   ],
   "source": [
    "# Check on Algoexplorer\n",
    "print(\"https://testnet.algoexplorer.io/tx/\"+txid)"
   ]
  },
  {
   "cell_type": "markdown",
   "metadata": {},
   "source": [
    "## Exercises"
   ]
  },
  {
   "cell_type": "markdown",
   "metadata": {},
   "source": [
    "**Exercise 1:** Send 0.82 ALGO from Dina to Alice with a thank you note"
   ]
  },
  {
   "cell_type": "code",
   "execution_count": 29,
   "metadata": {},
   "outputs": [
    {
     "name": "stdout",
     "output_type": "stream",
     "text": [
      "{\n",
      "    \"sender\": \"OH6I6P7ZFKG6I5BBHB7R6C7BLKVCRAJUV5QTR3BZQZINPLXTWD3B4MVEKA\",\n",
      "    \"fee\": 1000,\n",
      "    \"first_valid_round\": 27737907,\n",
      "    \"last_valid_round\": 27738907,\n",
      "    \"note\": null,\n",
      "    \"genesis_id\": \"testnet-v1.0\",\n",
      "    \"genesis_hash\": \"SGO1GKSzyE7IEPItTxCByw9x8FmnrCDexi9/cOUJOiI=\",\n",
      "    \"group\": null,\n",
      "    \"lease\": null,\n",
      "    \"type\": \"pay\",\n",
      "    \"rekey_to\": null,\n",
      "    \"receiver\": \"GFJ3O3QBJ4H3KPXYA4MFTTDA7TMEPZXAEUHCSF3J6GEDAXMML4A55KYSL4\",\n",
      "    \"amt\": 820000,\n",
      "    \"close_remainder_to\": null\n",
      "}\n"
     ]
    }
   ],
   "source": [
    "# Your Python code goes here\n",
    "# Parameters\n",
    "sp       = algod_client.suggested_params()       # suggested params\n",
    "amount   = 0.82\n",
    "algo_precision = 1e6\n",
    "amt_microalgo = int(amount * algo_precision)\n",
    "\n",
    "# Create (unsigned) TX\n",
    "txn = PaymentTxn(sender = Dina['public'],     # <--- From\n",
    "                 sp = sp, \n",
    "                 receiver = Alice['public'],     # <---- To\n",
    "                 amt = amt_microalgo           # <---- Amount in Micro-ALGOs\n",
    "                )\n",
    "\n",
    "# Step 1b: The note\n",
    "note_txt  = \"Paying back for last coffee\"\n",
    "note_byte = note_txt.encode()\n",
    "print(json.dumps(vars(txn), indent=4))"
   ]
  },
  {
   "cell_type": "code",
   "execution_count": 30,
   "metadata": {},
   "outputs": [
    {
     "name": "stdout",
     "output_type": "stream",
     "text": [
      "{'sender': 'OH6I6P7ZFKG6I5BBHB7R6C7BLKVCRAJUV5QTR3BZQZINPLXTWD3B4MVEKA', 'fee': 1000, 'first_valid_round': 27737907, 'last_valid_round': 27738907, 'note': b'Paying back for last coffee', 'genesis_id': 'testnet-v1.0', 'genesis_hash': 'SGO1GKSzyE7IEPItTxCByw9x8FmnrCDexi9/cOUJOiI=', 'group': None, 'lease': None, 'type': 'pay', 'rekey_to': None, 'receiver': 'GFJ3O3QBJ4H3KPXYA4MFTTDA7TMEPZXAEUHCSF3J6GEDAXMML4A55KYSL4', 'amt': 820000, 'close_remainder_to': None}\n"
     ]
    }
   ],
   "source": [
    "# Step 1c: create (unsigned) TX\n",
    "txn = PaymentTxn(sender=Dina['public'],\n",
    "                 sp=sp, \n",
    "                 receiver = Alice['public'],\n",
    "                 amt=amt_microalgo, \n",
    "                 note=note_byte\n",
    "                 )\n",
    "print(txn)"
   ]
  },
  {
   "cell_type": "code",
   "execution_count": 31,
   "metadata": {},
   "outputs": [
    {
     "name": "stdout",
     "output_type": "stream",
     "text": [
      "Send transaction with txID: DTHSDGHQR6PIAJ6WVUDNQ6RQBLZFIR6WPGUCPWPAQ3VX3XU6SYZQ\n"
     ]
    }
   ],
   "source": [
    "# Step 2+3: sign and send TX\n",
    "stxn = txn.sign(Dina['private'])\n",
    "txid = algod_client.send_transaction(stxn)\n",
    "print(\"Send transaction with txID: {}\".format(txid))"
   ]
  },
  {
   "cell_type": "code",
   "execution_count": 32,
   "metadata": {},
   "outputs": [
    {
     "name": "stdout",
     "output_type": "stream",
     "text": [
      "Current round is  27737910.\n",
      "Waiting for round 27737910 to finish.\n",
      "Transaction DTHSDGHQR6PIAJ6WVUDNQ6RQBLZFIR6WPGUCPWPAQ3VX3XU6SYZQ confirmed in round 27737911.\n"
     ]
    }
   ],
   "source": [
    "#Step 4: Wait for confirmation\n",
    "txinfo = wait_for_confirmation(algod_client, txid)"
   ]
  },
  {
   "cell_type": "code",
   "execution_count": 33,
   "metadata": {},
   "outputs": [
    {
     "name": "stdout",
     "output_type": "stream",
     "text": [
      "UGF5aW5nIGJhY2sgZm9yIGxhc3QgY29mZmVl\n",
      "b'Paying back for last coffee'\n",
      "Paying back for last coffee\n"
     ]
    }
   ],
   "source": [
    "# Step 5 (check): Extract message in txinfo and convert back\n",
    "import base64\n",
    "note_base64 = txinfo['txn']['txn']['note']\n",
    "print(note_base64)\n",
    "note_byte   = base64.b64decode(note_base64)\n",
    "print(note_byte)\n",
    "note_txt   = note_byte.decode()\n",
    "print(note_txt)"
   ]
  },
  {
   "cell_type": "code",
   "execution_count": 34,
   "metadata": {},
   "outputs": [
    {
     "name": "stdout",
     "output_type": "stream",
     "text": [
      "https://testnet.algoexplorer.io/tx/DTHSDGHQR6PIAJ6WVUDNQ6RQBLZFIR6WPGUCPWPAQ3VX3XU6SYZQ\n"
     ]
    }
   ],
   "source": [
    "# Check on Algoexplorer\n",
    "print(\"https://testnet.algoexplorer.io/tx/\"+txid)"
   ]
  },
  {
   "cell_type": "markdown",
   "metadata": {},
   "source": [
    "**Exercise 2:** Obtain the (new) ALGO holdings of Alice"
   ]
  },
  {
   "cell_type": "code",
   "execution_count": null,
   "metadata": {},
   "outputs": [],
   "source": [
    "# Your Python code goes here"
   ]
  },
  {
   "cell_type": "markdown",
   "metadata": {},
   "source": [
    "## Things that do not and will not work\n",
    "Following are a few things that deliberately don't work."
   ]
  },
  {
   "cell_type": "code",
   "execution_count": 115,
   "metadata": {},
   "outputs": [],
   "source": [
    "# Need to import this to be able to read error messages\n",
    "import sys, algosdk.error"
   ]
  },
  {
   "cell_type": "markdown",
   "metadata": {},
   "source": [
    "### Overspending\n",
    "* Alice sends more than she owns"
   ]
  },
  {
   "cell_type": "code",
   "execution_count": 116,
   "metadata": {},
   "outputs": [],
   "source": [
    "# Step 1: prepare\n",
    "sp       = algod_client.suggested_params()\n",
    "algo_precision = 1e6\n",
    "sender   = Alice['public']\n",
    "receiver = Bob['public']\n",
    "amount   = 100                       # <----------------- way too much!\n",
    "amount_microalgo = int(amount * algo_precision)\n",
    "\n",
    "# Step 2: create unsigned TX\n",
    "unsigned_txn = PaymentTxn(sender, sp, receiver, amount_microalgo)\n",
    "\n",
    "# Step 3a: Sign\n",
    "signed_txn = unsigned_txn.sign(Alice['private'])"
   ]
  },
  {
   "cell_type": "code",
   "execution_count": 117,
   "metadata": {},
   "outputs": [
    {
     "ename": "AlgodHTTPError",
     "evalue": "TransactionPool.Remember: transaction WE26AR3PSGXEGHHN5K7C4PJ65KWYT5JKXLIUJIS7TOLZSBVVEJ6A: overspend (account GFJ3O3QBJ4H3KPXYA4MFTTDA7TMEPZXAEUHCSF3J6GEDAXMML4A55KYSL4, data {AccountBaseData:{Status:Offline MicroAlgos:{Raw:11437000} RewardsBase:27521 RewardedMicroAlgos:{Raw:0} AuthAddr:AAAAAAAAAAAAAAAAAAAAAAAAAAAAAAAAAAAAAAAAAAAAAAAAAAAAY5HFKQ TotalAppSchema:{_struct:{} NumUint:0 NumByteSlice:0} TotalExtraAppPages:0 TotalAppParams:0 TotalAppLocalStates:0 TotalAssetParams:0 TotalAssets:0 TotalBoxes:0 TotalBoxBytes:0} VotingData:{VoteID:[0 0 0 0 0 0 0 0 0 0 0 0 0 0 0 0 0 0 0 0 0 0 0 0 0 0 0 0 0 0 0 0] SelectionID:[0 0 0 0 0 0 0 0 0 0 0 0 0 0 0 0 0 0 0 0 0 0 0 0 0 0 0 0 0 0 0 0] StateProofID:[0 0 0 0 0 0 0 0 0 0 0 0 0 0 0 0 0 0 0 0 0 0 0 0 0 0 0 0 0 0 0 0 0 0 0 0 0 0 0 0 0 0 0 0 0 0 0 0 0 0 0 0 0 0 0 0 0 0 0 0 0 0 0 0] VoteFirstValid:0 VoteLastValid:0 VoteKeyDilution:0}}, tried to spend {100000000})",
     "output_type": "error",
     "traceback": [
      "\u001b[0;31m---------------------------------------------------------------------------\u001b[0m",
      "\u001b[0;31mHTTPError\u001b[0m                                 Traceback (most recent call last)",
      "\u001b[0;32m~/opt/anaconda3/lib/python3.9/site-packages/algosdk/v2client/algod.py\u001b[0m in \u001b[0;36malgod_request\u001b[0;34m(self, method, requrl, params, data, headers, response_format)\u001b[0m\n\u001b[1;32m     77\u001b[0m         \u001b[0;32mtry\u001b[0m\u001b[0;34m:\u001b[0m\u001b[0;34m\u001b[0m\u001b[0;34m\u001b[0m\u001b[0m\n\u001b[0;32m---> 78\u001b[0;31m             \u001b[0mresp\u001b[0m \u001b[0;34m=\u001b[0m \u001b[0murlopen\u001b[0m\u001b[0;34m(\u001b[0m\u001b[0mreq\u001b[0m\u001b[0;34m)\u001b[0m\u001b[0;34m\u001b[0m\u001b[0;34m\u001b[0m\u001b[0m\n\u001b[0m\u001b[1;32m     79\u001b[0m         \u001b[0;32mexcept\u001b[0m \u001b[0murllib\u001b[0m\u001b[0;34m.\u001b[0m\u001b[0merror\u001b[0m\u001b[0;34m.\u001b[0m\u001b[0mHTTPError\u001b[0m \u001b[0;32mas\u001b[0m \u001b[0me\u001b[0m\u001b[0;34m:\u001b[0m\u001b[0;34m\u001b[0m\u001b[0;34m\u001b[0m\u001b[0m\n",
      "\u001b[0;32m~/opt/anaconda3/lib/python3.9/urllib/request.py\u001b[0m in \u001b[0;36murlopen\u001b[0;34m(url, data, timeout, cafile, capath, cadefault, context)\u001b[0m\n\u001b[1;32m    213\u001b[0m         \u001b[0mopener\u001b[0m \u001b[0;34m=\u001b[0m \u001b[0m_opener\u001b[0m\u001b[0;34m\u001b[0m\u001b[0;34m\u001b[0m\u001b[0m\n\u001b[0;32m--> 214\u001b[0;31m     \u001b[0;32mreturn\u001b[0m \u001b[0mopener\u001b[0m\u001b[0;34m.\u001b[0m\u001b[0mopen\u001b[0m\u001b[0;34m(\u001b[0m\u001b[0murl\u001b[0m\u001b[0;34m,\u001b[0m \u001b[0mdata\u001b[0m\u001b[0;34m,\u001b[0m \u001b[0mtimeout\u001b[0m\u001b[0;34m)\u001b[0m\u001b[0;34m\u001b[0m\u001b[0;34m\u001b[0m\u001b[0m\n\u001b[0m\u001b[1;32m    215\u001b[0m \u001b[0;34m\u001b[0m\u001b[0m\n",
      "\u001b[0;32m~/opt/anaconda3/lib/python3.9/urllib/request.py\u001b[0m in \u001b[0;36mopen\u001b[0;34m(self, fullurl, data, timeout)\u001b[0m\n\u001b[1;32m    522\u001b[0m             \u001b[0mmeth\u001b[0m \u001b[0;34m=\u001b[0m \u001b[0mgetattr\u001b[0m\u001b[0;34m(\u001b[0m\u001b[0mprocessor\u001b[0m\u001b[0;34m,\u001b[0m \u001b[0mmeth_name\u001b[0m\u001b[0;34m)\u001b[0m\u001b[0;34m\u001b[0m\u001b[0;34m\u001b[0m\u001b[0m\n\u001b[0;32m--> 523\u001b[0;31m             \u001b[0mresponse\u001b[0m \u001b[0;34m=\u001b[0m \u001b[0mmeth\u001b[0m\u001b[0;34m(\u001b[0m\u001b[0mreq\u001b[0m\u001b[0;34m,\u001b[0m \u001b[0mresponse\u001b[0m\u001b[0;34m)\u001b[0m\u001b[0;34m\u001b[0m\u001b[0;34m\u001b[0m\u001b[0m\n\u001b[0m\u001b[1;32m    524\u001b[0m \u001b[0;34m\u001b[0m\u001b[0m\n",
      "\u001b[0;32m~/opt/anaconda3/lib/python3.9/urllib/request.py\u001b[0m in \u001b[0;36mhttp_response\u001b[0;34m(self, request, response)\u001b[0m\n\u001b[1;32m    631\u001b[0m         \u001b[0;32mif\u001b[0m \u001b[0;32mnot\u001b[0m \u001b[0;34m(\u001b[0m\u001b[0;36m200\u001b[0m \u001b[0;34m<=\u001b[0m \u001b[0mcode\u001b[0m \u001b[0;34m<\u001b[0m \u001b[0;36m300\u001b[0m\u001b[0;34m)\u001b[0m\u001b[0;34m:\u001b[0m\u001b[0;34m\u001b[0m\u001b[0;34m\u001b[0m\u001b[0m\n\u001b[0;32m--> 632\u001b[0;31m             response = self.parent.error(\n\u001b[0m\u001b[1;32m    633\u001b[0m                 'http', request, response, code, msg, hdrs)\n",
      "\u001b[0;32m~/opt/anaconda3/lib/python3.9/urllib/request.py\u001b[0m in \u001b[0;36merror\u001b[0;34m(self, proto, *args)\u001b[0m\n\u001b[1;32m    560\u001b[0m             \u001b[0margs\u001b[0m \u001b[0;34m=\u001b[0m \u001b[0;34m(\u001b[0m\u001b[0mdict\u001b[0m\u001b[0;34m,\u001b[0m \u001b[0;34m'default'\u001b[0m\u001b[0;34m,\u001b[0m \u001b[0;34m'http_error_default'\u001b[0m\u001b[0;34m)\u001b[0m \u001b[0;34m+\u001b[0m \u001b[0morig_args\u001b[0m\u001b[0;34m\u001b[0m\u001b[0;34m\u001b[0m\u001b[0m\n\u001b[0;32m--> 561\u001b[0;31m             \u001b[0;32mreturn\u001b[0m \u001b[0mself\u001b[0m\u001b[0;34m.\u001b[0m\u001b[0m_call_chain\u001b[0m\u001b[0;34m(\u001b[0m\u001b[0;34m*\u001b[0m\u001b[0margs\u001b[0m\u001b[0;34m)\u001b[0m\u001b[0;34m\u001b[0m\u001b[0;34m\u001b[0m\u001b[0m\n\u001b[0m\u001b[1;32m    562\u001b[0m \u001b[0;34m\u001b[0m\u001b[0m\n",
      "\u001b[0;32m~/opt/anaconda3/lib/python3.9/urllib/request.py\u001b[0m in \u001b[0;36m_call_chain\u001b[0;34m(self, chain, kind, meth_name, *args)\u001b[0m\n\u001b[1;32m    493\u001b[0m             \u001b[0mfunc\u001b[0m \u001b[0;34m=\u001b[0m \u001b[0mgetattr\u001b[0m\u001b[0;34m(\u001b[0m\u001b[0mhandler\u001b[0m\u001b[0;34m,\u001b[0m \u001b[0mmeth_name\u001b[0m\u001b[0;34m)\u001b[0m\u001b[0;34m\u001b[0m\u001b[0;34m\u001b[0m\u001b[0m\n\u001b[0;32m--> 494\u001b[0;31m             \u001b[0mresult\u001b[0m \u001b[0;34m=\u001b[0m \u001b[0mfunc\u001b[0m\u001b[0;34m(\u001b[0m\u001b[0;34m*\u001b[0m\u001b[0margs\u001b[0m\u001b[0;34m)\u001b[0m\u001b[0;34m\u001b[0m\u001b[0;34m\u001b[0m\u001b[0m\n\u001b[0m\u001b[1;32m    495\u001b[0m             \u001b[0;32mif\u001b[0m \u001b[0mresult\u001b[0m \u001b[0;32mis\u001b[0m \u001b[0;32mnot\u001b[0m \u001b[0;32mNone\u001b[0m\u001b[0;34m:\u001b[0m\u001b[0;34m\u001b[0m\u001b[0;34m\u001b[0m\u001b[0m\n",
      "\u001b[0;32m~/opt/anaconda3/lib/python3.9/urllib/request.py\u001b[0m in \u001b[0;36mhttp_error_default\u001b[0;34m(self, req, fp, code, msg, hdrs)\u001b[0m\n\u001b[1;32m    640\u001b[0m     \u001b[0;32mdef\u001b[0m \u001b[0mhttp_error_default\u001b[0m\u001b[0;34m(\u001b[0m\u001b[0mself\u001b[0m\u001b[0;34m,\u001b[0m \u001b[0mreq\u001b[0m\u001b[0;34m,\u001b[0m \u001b[0mfp\u001b[0m\u001b[0;34m,\u001b[0m \u001b[0mcode\u001b[0m\u001b[0;34m,\u001b[0m \u001b[0mmsg\u001b[0m\u001b[0;34m,\u001b[0m \u001b[0mhdrs\u001b[0m\u001b[0;34m)\u001b[0m\u001b[0;34m:\u001b[0m\u001b[0;34m\u001b[0m\u001b[0;34m\u001b[0m\u001b[0m\n\u001b[0;32m--> 641\u001b[0;31m         \u001b[0;32mraise\u001b[0m \u001b[0mHTTPError\u001b[0m\u001b[0;34m(\u001b[0m\u001b[0mreq\u001b[0m\u001b[0;34m.\u001b[0m\u001b[0mfull_url\u001b[0m\u001b[0;34m,\u001b[0m \u001b[0mcode\u001b[0m\u001b[0;34m,\u001b[0m \u001b[0mmsg\u001b[0m\u001b[0;34m,\u001b[0m \u001b[0mhdrs\u001b[0m\u001b[0;34m,\u001b[0m \u001b[0mfp\u001b[0m\u001b[0;34m)\u001b[0m\u001b[0;34m\u001b[0m\u001b[0;34m\u001b[0m\u001b[0m\n\u001b[0m\u001b[1;32m    642\u001b[0m \u001b[0;34m\u001b[0m\u001b[0m\n",
      "\u001b[0;31mHTTPError\u001b[0m: HTTP Error 400: Bad Request",
      "\nDuring handling of the above exception, another exception occurred:\n",
      "\u001b[0;31mAlgodHTTPError\u001b[0m                            Traceback (most recent call last)",
      "\u001b[0;32m/var/folders/rn/mn2f44yn69b_skfgr4dd1sh00000gn/T/ipykernel_1200/3383184022.py\u001b[0m in \u001b[0;36m<module>\u001b[0;34m\u001b[0m\n\u001b[1;32m      1\u001b[0m \u001b[0;31m# Step 3b: Send\u001b[0m\u001b[0;34m\u001b[0m\u001b[0;34m\u001b[0m\u001b[0m\n\u001b[0;32m----> 2\u001b[0;31m \u001b[0mtxid\u001b[0m \u001b[0;34m=\u001b[0m \u001b[0malgod_client\u001b[0m\u001b[0;34m.\u001b[0m\u001b[0msend_transaction\u001b[0m\u001b[0;34m(\u001b[0m\u001b[0msigned_txn\u001b[0m\u001b[0;34m)\u001b[0m\u001b[0;34m\u001b[0m\u001b[0;34m\u001b[0m\u001b[0m\n\u001b[0m",
      "\u001b[0;32m~/opt/anaconda3/lib/python3.9/site-packages/algosdk/v2client/algod.py\u001b[0m in \u001b[0;36msend_transaction\u001b[0;34m(self, txn, **kwargs)\u001b[0m\n\u001b[1;32m    268\u001b[0m             \u001b[0mtxn\u001b[0m\u001b[0;34m,\u001b[0m \u001b[0mtransaction\u001b[0m\u001b[0;34m.\u001b[0m\u001b[0mTransaction\u001b[0m\u001b[0;34m\u001b[0m\u001b[0;34m\u001b[0m\u001b[0m\n\u001b[1;32m    269\u001b[0m         ), \"Attempt to send UNSIGNED transaction {}\".format(txn)\n\u001b[0;32m--> 270\u001b[0;31m         return self.send_raw_transaction(\n\u001b[0m\u001b[1;32m    271\u001b[0m             \u001b[0mencoding\u001b[0m\u001b[0;34m.\u001b[0m\u001b[0mmsgpack_encode\u001b[0m\u001b[0;34m(\u001b[0m\u001b[0mtxn\u001b[0m\u001b[0;34m)\u001b[0m\u001b[0;34m,\u001b[0m \u001b[0;34m**\u001b[0m\u001b[0mkwargs\u001b[0m\u001b[0;34m\u001b[0m\u001b[0;34m\u001b[0m\u001b[0m\n\u001b[1;32m    272\u001b[0m         )\n",
      "\u001b[0;32m~/opt/anaconda3/lib/python3.9/site-packages/algosdk/v2client/algod.py\u001b[0m in \u001b[0;36msend_raw_transaction\u001b[0;34m(self, txn, **kwargs)\u001b[0m\n\u001b[1;32m    291\u001b[0m         \u001b[0mkwargs\u001b[0m\u001b[0;34m[\u001b[0m\u001b[0;34m\"headers\"\u001b[0m\u001b[0;34m]\u001b[0m \u001b[0;34m=\u001b[0m \u001b[0mheaders\u001b[0m\u001b[0;34m\u001b[0m\u001b[0;34m\u001b[0m\u001b[0m\n\u001b[1;32m    292\u001b[0m \u001b[0;34m\u001b[0m\u001b[0m\n\u001b[0;32m--> 293\u001b[0;31m         \u001b[0;32mreturn\u001b[0m \u001b[0mself\u001b[0m\u001b[0;34m.\u001b[0m\u001b[0malgod_request\u001b[0m\u001b[0;34m(\u001b[0m\u001b[0;34m\"POST\"\u001b[0m\u001b[0;34m,\u001b[0m \u001b[0mreq\u001b[0m\u001b[0;34m,\u001b[0m \u001b[0mdata\u001b[0m\u001b[0;34m=\u001b[0m\u001b[0mtxn\u001b[0m\u001b[0;34m,\u001b[0m \u001b[0;34m**\u001b[0m\u001b[0mkwargs\u001b[0m\u001b[0;34m)\u001b[0m\u001b[0;34m[\u001b[0m\u001b[0;34m\"txId\"\u001b[0m\u001b[0;34m]\u001b[0m\u001b[0;34m\u001b[0m\u001b[0;34m\u001b[0m\u001b[0m\n\u001b[0m\u001b[1;32m    294\u001b[0m \u001b[0;34m\u001b[0m\u001b[0m\n\u001b[1;32m    295\u001b[0m     def pending_transactions(\n",
      "\u001b[0;32m~/opt/anaconda3/lib/python3.9/site-packages/algosdk/v2client/algod.py\u001b[0m in \u001b[0;36malgod_request\u001b[0;34m(self, method, requrl, params, data, headers, response_format)\u001b[0m\n\u001b[1;32m     83\u001b[0m                 \u001b[0me\u001b[0m \u001b[0;34m=\u001b[0m \u001b[0mjson\u001b[0m\u001b[0;34m.\u001b[0m\u001b[0mloads\u001b[0m\u001b[0;34m(\u001b[0m\u001b[0me\u001b[0m\u001b[0;34m)\u001b[0m\u001b[0;34m[\u001b[0m\u001b[0;34m\"message\"\u001b[0m\u001b[0;34m]\u001b[0m\u001b[0;34m\u001b[0m\u001b[0;34m\u001b[0m\u001b[0m\n\u001b[1;32m     84\u001b[0m             \u001b[0;32mfinally\u001b[0m\u001b[0;34m:\u001b[0m\u001b[0;34m\u001b[0m\u001b[0;34m\u001b[0m\u001b[0m\n\u001b[0;32m---> 85\u001b[0;31m                 \u001b[0;32mraise\u001b[0m \u001b[0merror\u001b[0m\u001b[0;34m.\u001b[0m\u001b[0mAlgodHTTPError\u001b[0m\u001b[0;34m(\u001b[0m\u001b[0me\u001b[0m\u001b[0;34m,\u001b[0m \u001b[0mcode\u001b[0m\u001b[0;34m)\u001b[0m\u001b[0;34m\u001b[0m\u001b[0;34m\u001b[0m\u001b[0m\n\u001b[0m\u001b[1;32m     86\u001b[0m         \u001b[0;32mif\u001b[0m \u001b[0mresponse_format\u001b[0m \u001b[0;34m==\u001b[0m \u001b[0;34m\"json\"\u001b[0m\u001b[0;34m:\u001b[0m\u001b[0;34m\u001b[0m\u001b[0;34m\u001b[0m\u001b[0m\n\u001b[1;32m     87\u001b[0m             \u001b[0;32mtry\u001b[0m\u001b[0;34m:\u001b[0m\u001b[0;34m\u001b[0m\u001b[0;34m\u001b[0m\u001b[0m\n",
      "\u001b[0;31mAlgodHTTPError\u001b[0m: TransactionPool.Remember: transaction WE26AR3PSGXEGHHN5K7C4PJ65KWYT5JKXLIUJIS7TOLZSBVVEJ6A: overspend (account GFJ3O3QBJ4H3KPXYA4MFTTDA7TMEPZXAEUHCSF3J6GEDAXMML4A55KYSL4, data {AccountBaseData:{Status:Offline MicroAlgos:{Raw:11437000} RewardsBase:27521 RewardedMicroAlgos:{Raw:0} AuthAddr:AAAAAAAAAAAAAAAAAAAAAAAAAAAAAAAAAAAAAAAAAAAAAAAAAAAAY5HFKQ TotalAppSchema:{_struct:{} NumUint:0 NumByteSlice:0} TotalExtraAppPages:0 TotalAppParams:0 TotalAppLocalStates:0 TotalAssetParams:0 TotalAssets:0 TotalBoxes:0 TotalBoxBytes:0} VotingData:{VoteID:[0 0 0 0 0 0 0 0 0 0 0 0 0 0 0 0 0 0 0 0 0 0 0 0 0 0 0 0 0 0 0 0] SelectionID:[0 0 0 0 0 0 0 0 0 0 0 0 0 0 0 0 0 0 0 0 0 0 0 0 0 0 0 0 0 0 0 0] StateProofID:[0 0 0 0 0 0 0 0 0 0 0 0 0 0 0 0 0 0 0 0 0 0 0 0 0 0 0 0 0 0 0 0 0 0 0 0 0 0 0 0 0 0 0 0 0 0 0 0 0 0 0 0 0 0 0 0 0 0 0 0 0 0 0 0] VoteFirstValid:0 VoteLastValid:0 VoteKeyDilution:0}}, tried to spend {100000000})"
     ]
    }
   ],
   "source": [
    "# Step 3b: Send\n",
    "txid = algod_client.send_transaction(signed_txn)"
   ]
  },
  {
   "cell_type": "markdown",
   "metadata": {},
   "source": [
    "#### Can we *catch the error* and get a better structured error message?\n",
    "* **Note:** error occurse when sending the transaction"
   ]
  },
  {
   "cell_type": "code",
   "execution_count": 118,
   "metadata": {},
   "outputs": [],
   "source": [
    "# Step 1: prepare\n",
    "sp       = algod_client.suggested_params()\n",
    "algo_precision = 1e6\n",
    "sender   = Alice['public']\n",
    "receiver = Bob['public']\n",
    "amount   = 100                       # <----------------- way too much!\n",
    "amount_microalgo = int(amount * algo_precision)\n",
    "\n",
    "# Step 2: create unsigned TX\n",
    "unsigned_txn = PaymentTxn(sender, sp, receiver, amount_microalgo)\n",
    "\n",
    "# Step 3a: Sign\n",
    "signed_txn = unsigned_txn.sign(Alice['private'])"
   ]
  },
  {
   "cell_type": "code",
   "execution_count": 119,
   "metadata": {},
   "outputs": [
    {
     "name": "stdout",
     "output_type": "stream",
     "text": [
      "TransactionPool.Remember: transaction 4UGAHRK4QOXWGEQEHNSFD2TLNVJKBMBOI4H6HGBEKDUJNOWKO6YQ: overspend (account GFJ3O3QBJ4H3KPXYA4MFTTDA7TMEPZXAEUHCSF3J6GEDAXMML4A55KYSL4, data {AccountBaseData:{Status:Offline MicroAlgos:{Raw:11437000} RewardsBase:27521 RewardedMicroAlgos:{Raw:0} AuthAddr:AAAAAAAAAAAAAAAAAAAAAAAAAAAAAAAAAAAAAAAAAAAAAAAAAAAAY5HFKQ TotalAppSchema:{_struct:{} NumUint:0 NumByteSlice:0} TotalExtraAppPages:0 TotalAppParams:0 TotalAppLocalStates:0 TotalAssetParams:0 TotalAssets:0 TotalBoxes:0 TotalBoxBytes:0} VotingData:{VoteID:[0 0 0 0 0 0 0 0 0 0 0 0 0 0 0 0 0 0 0 0 0 0 0 0 0 0 0 0 0 0 0 0] SelectionID:[0 0 0 0 0 0 0 0 0 0 0 0 0 0 0 0 0 0 0 0 0 0 0 0 0 0 0 0 0 0 0 0] StateProofID:[0 0 0 0 0 0 0 0 0 0 0 0 0 0 0 0 0 0 0 0 0 0 0 0 0 0 0 0 0 0 0 0 0 0 0 0 0 0 0 0 0 0 0 0 0 0 0 0 0 0 0 0 0 0 0 0 0 0 0 0 0 0 0 0] VoteFirstValid:0 VoteLastValid:0 VoteKeyDilution:0}}, tried to spend {100000000})\n",
      "Overspend error\n"
     ]
    }
   ],
   "source": [
    "# Step 3b: Send\n",
    "try:\n",
    "    txid = algod_client.send_transaction(signed_txn)\n",
    "except algosdk.error.AlgodHTTPError as err:\n",
    "    print(err)                                   # print entire error message\n",
    "    if (\"overspend\" in str(err)):                # check for specific type of error\n",
    "        print(\"Overspend error\")         \n",
    "    txid = None"
   ]
  },
  {
   "cell_type": "markdown",
   "metadata": {},
   "source": [
    "#### What happens if we wait for the failed transaction to complete?"
   ]
  },
  {
   "cell_type": "code",
   "execution_count": 120,
   "metadata": {},
   "outputs": [
    {
     "name": "stdout",
     "output_type": "stream",
     "text": [
      "Empty transaction id.\n",
      "None\n"
     ]
    }
   ],
   "source": [
    "# Step 4: Wait for confirmation\n",
    "try:\n",
    "    txinfo = wait_for_confirmation(algod_client, txid)\n",
    "    print(txinfo)\n",
    "except TypeError as err:                                       # obtain error message\n",
    "    # print entire error message (rather cryptic!)\n",
    "    print(err)\n",
    "    # Give better error message\n",
    "    print(\"txid is empty\")"
   ]
  },
  {
   "cell_type": "markdown",
   "metadata": {},
   "source": [
    "### Wrong signature\n",
    "Bob tries to sign a transaction from Alice to Bob"
   ]
  },
  {
   "cell_type": "code",
   "execution_count": 121,
   "metadata": {},
   "outputs": [],
   "source": [
    "# Step 1: prepare\n",
    "sp       = algod_client.suggested_params()\n",
    "algo_precision = 1e6\n",
    "sender   = Alice['public']\n",
    "receiver = Bob['public']\n",
    "amount   = 0.1\n",
    "amount_microalgo = int(amount * algo_precision)\n",
    "\n",
    "# Step 2: create unsigned TX\n",
    "unsigned_txn = PaymentTxn(sender, sp, receiver, amount_microalgo)\n",
    "\n",
    "# Step 3a: Sign\n",
    "signed_txn = unsigned_txn.sign(Bob['private'])                        # <----------------- wrong person signs!"
   ]
  },
  {
   "cell_type": "code",
   "execution_count": 123,
   "metadata": {},
   "outputs": [
    {
     "name": "stdout",
     "output_type": "stream",
     "text": [
      "TransactionPool.Remember: transaction W3ZKIWU4LOGGX2JB7N6LTDUMY6B7DZEMUXPIP435PMLNKJNUIVDQ: should have been authorized by GFJ3O3QBJ4H3KPXYA4MFTTDA7TMEPZXAEUHCSF3J6GEDAXMML4A55KYSL4 but was actually authorized by MB4W4II5EEZ7VA5RGS74BTND5CMYDXMUHGRJ42HQYOSMDJZ23ZPIUWRRKM\n",
      "Wrong signature error\n"
     ]
    }
   ],
   "source": [
    "# Step 3b: Send\n",
    "try:\n",
    "    txid = algod_client.send_transaction(signed_txn)\n",
    "except algosdk.error.AlgodHTTPError as err:\n",
    "    # print entire error message\n",
    "    print(err)\n",
    "    if (\"should have been authorized\" in str(err)):                # check for specific type of error\n",
    "        print(\"Wrong signature error\")         \n",
    "    txid = None"
   ]
  },
  {
   "cell_type": "markdown",
   "metadata": {},
   "source": [
    "### Sending the *indentical* transaction twice\n",
    "* \"Identical\" means ...\n",
    "    * same Sender\n",
    "    * same Recipient\n",
    "    * same Ammount\n",
    "    * same (suggested) parameters (including first/last round)"
   ]
  },
  {
   "cell_type": "code",
   "execution_count": 124,
   "metadata": {},
   "outputs": [],
   "source": [
    "# Step 1: prepare\n",
    "sp       = algod_client.suggested_params()\n",
    "algo_precision = 1e6\n",
    "sender   = Alice['public']\n",
    "receiver = Bob['public']\n",
    "amount   = 0.1\n",
    "amount_microalgo = int(amount * algo_precision)"
   ]
  },
  {
   "cell_type": "code",
   "execution_count": 127,
   "metadata": {},
   "outputs": [
    {
     "name": "stdout",
     "output_type": "stream",
     "text": [
      "TransactionPool.Remember: transaction already in ledger: 6NROFEWZEFC5SV34NV7OE6XK4W3BT4AKXO6CMDKQLIEZ37W66BEA\n",
      "Identical transaction 6NROFEWZEFC5SV34NV7OE6XK4W3BT4AKXO6CMDKQLIEZ37W66BEA has been submitted twice.\n"
     ]
    }
   ],
   "source": [
    "# Step 2: create unsigned TX\n",
    "unsigned_txn = PaymentTxn(sender, sp, receiver, amount_microalgo)\n",
    "\n",
    "# Step 3a: Sign\n",
    "signed_txn = unsigned_txn.sign(Alice['private'])\n",
    "\n",
    "# Step 3b: Send\n",
    "try:\n",
    "    txid = algod_client.send_transaction(signed_txn)\n",
    "    print(\"Submitted with txID: {}\".format(txid))\n",
    "except algosdk.error.AlgodHTTPError as err:\n",
    "    # print entire error message\n",
    "    print(err)\n",
    "    if (\"transaction already in ledger\" in str(err)):                # check for specific type of error\n",
    "        print(\"Identical transaction {} has been submitted twice.\".format(signed_txn.get_txid()))         \n",
    "    txid = None    # check for specific type of error"
   ]
  },
  {
   "cell_type": "markdown",
   "metadata": {},
   "source": [
    "**REPEAT** only step 2-3 $\\rightarrow$ error message<br>\n",
    "**REPEAT** only step 1-3 $\\rightarrow$ no error <br>"
   ]
  },
  {
   "cell_type": "markdown",
   "metadata": {},
   "source": [
    "#### See how the sp change\n",
    "* Re-run this after 2-3 seconds"
   ]
  },
  {
   "cell_type": "code",
   "execution_count": 131,
   "metadata": {
    "tags": []
   },
   "outputs": [
    {
     "name": "stdout",
     "output_type": "stream",
     "text": [
      "{\n",
      "    \"first\": 27729626,\n",
      "    \"last\": 27730626,\n",
      "    \"gh\": \"SGO1GKSzyE7IEPItTxCByw9x8FmnrCDexi9/cOUJOiI=\",\n",
      "    \"gen\": \"testnet-v1.0\",\n",
      "    \"fee\": 0,\n",
      "    \"flat_fee\": false,\n",
      "    \"consensus_version\": \"https://github.com/algorandfoundation/specs/tree/44fa607d6051730f5264526bf3c108d51f0eadb6\",\n",
      "    \"min_fee\": 1000\n",
      "}\n"
     ]
    }
   ],
   "source": [
    "sp = algod_client.suggested_params()\n",
    "print(json.dumps(vars(sp), indent=4))"
   ]
  },
  {
   "cell_type": "markdown",
   "metadata": {
    "tags": []
   },
   "source": [
    "## Appendix: Useful functions\n",
    "* The following functions are included in `algo_util.py`"
   ]
  },
  {
   "cell_type": "code",
   "execution_count": 132,
   "metadata": {},
   "outputs": [],
   "source": [
    "def wait_for_confirmation(client, txid):\n",
    "    # client = algosdk client\n",
    "    # txid = transaction ID, for example from send_payment()\n",
    "    # An ufficial Algorand function\n",
    "\n",
    "    txinfo = client.pending_transaction_info(txid)       # obtain transaction information\n",
    "    current_round = algod_client.status()[\"last-round\"]        # obtain last round number\n",
    "    print(\"Current round is  {}.\".format(current_round))\n",
    "    \n",
    "    # Wait for confirmation\n",
    "    while ( txinfo.get('confirmed-round') is None ):            # condition for waiting = 'confirmed-round' is empty\n",
    "        print(\"Waiting for round {} to finish.\".format(current_round))\n",
    "        algod_client.status_after_block(current_round)             # this wait for the round to finish\n",
    "        txinfo = algod_client.pending_transaction_info(txid)    # update transaction information\n",
    "        current_round += 1\n",
    "\n",
    "    print(\"Transaction {} confirmed in round {}.\".format(txid, txinfo.get('confirmed-round')))\n",
    "    return txinfo"
   ]
  },
  {
   "cell_type": "markdown",
   "metadata": {},
   "source": [
    "### *Python dict as transaction note\n",
    "* For attaching a Python dict as message to a note\n",
    "* Example `note_dict = {'from' : 'Bob', 'to' : 'Alice', 'message' : 'Many thanks'}"
   ]
  },
  {
   "cell_type": "code",
   "execution_count": 133,
   "metadata": {},
   "outputs": [],
   "source": [
    "def note_encode(note_dict):\n",
    "    # note dict ... a Python dictionary\n",
    "    note_json = json.dumps(note_dict)\n",
    "    note_byte = note_json.encode()     \n",
    "    return(note_byte)"
   ]
  },
  {
   "cell_type": "code",
   "execution_count": 134,
   "metadata": {},
   "outputs": [],
   "source": [
    "def note_decode(note_64):\n",
    "    # note64 =  note in base64 endocing\n",
    "    # returns a Python dict\n",
    "    import base64\n",
    "    message_base64 = txinfo['txn']['txn']['note']\n",
    "    message_byte   = base64.b64decode(message_base64)\n",
    "    message_json   = message_byte.decode()\n",
    "    message_dict   = json.loads( message_json )\n",
    "    return(message_dict)"
   ]
  },
  {
   "cell_type": "code",
   "execution_count": null,
   "metadata": {},
   "outputs": [],
   "source": []
  }
 ],
 "metadata": {
  "kernelspec": {
   "display_name": "Python 3 (ipykernel)",
   "language": "python",
   "name": "python3"
  },
  "language_info": {
   "codemirror_mode": {
    "name": "ipython",
    "version": 3
   },
   "file_extension": ".py",
   "mimetype": "text/x-python",
   "name": "python",
   "nbconvert_exporter": "python",
   "pygments_lexer": "ipython3",
   "version": "3.10.9"
  }
 },
 "nbformat": 4,
 "nbformat_minor": 4
}
