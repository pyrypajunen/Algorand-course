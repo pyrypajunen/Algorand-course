{
 "cells": [
  {
   "cell_type": "markdown",
   "id": "8460b8e4",
   "metadata": {},
   "source": [
    "## Credentials\n",
    "#### 03.3Winter School on Smart Contracts\n",
    "##### Peter Gruber (peter.gruber@usi.ch)\n",
    "2022-01-20\n",
    "\n",
    "* Manage credentials in a Python Dict and save to local drive\n",
    "* Credentials will be used throghout the course, do not skip this part!"
   ]
  },
  {
   "cell_type": "markdown",
   "id": "b42826a9",
   "metadata": {},
   "source": [
    "## Set up Python dict with credentials as JSON\n",
    "**CAREFUL** it is suggested you ....\n",
    "* Run this code only once!"
   ]
  },
  {
   "cell_type": "code",
   "execution_count": null,
   "id": "5137e317",
   "metadata": {},
   "outputs": [],
   "source": [
    "import os, json, algosdk\n",
    "from algosdk import account, mnemonic"
   ]
  },
  {
   "cell_type": "markdown",
   "id": "c6b6d1dd",
   "metadata": {},
   "source": [
    "### Create four accounts for future use\n",
    "The idea is to have four accounts ...\n",
    "* Alice is using Python and the mobile phone\n",
    "* Bob is mostly using Python\n",
    "* Charlie is making mistakes\n",
    "* Dina is the fourth agent, if we need one"
   ]
  },
  {
   "cell_type": "code",
   "execution_count": null,
   "id": "641b8b55",
   "metadata": {},
   "outputs": [],
   "source": [
    "# from 03.1_WSC\n",
    "def generate_account_dict():\n",
    "    private_key = account.generate_account()[0]    # need [0], because generate_account() returns a list\n",
    "    acc = {}\n",
    "    acc['public'] = account.address_from_private_key(private_key)\n",
    "    acc['private'] = private_key\n",
    "    acc['mnemonic'] = mnemonic.from_private_key(private_key)\n",
    "    return acc"
   ]
  },
  {
   "cell_type": "code",
   "execution_count": null,
   "id": "5369b8e4",
   "metadata": {},
   "outputs": [],
   "source": [
    "Alice = generate_account_dict()\n",
    "Bob   = generate_account_dict()\n",
    "Charlie = generate_account_dict()\n",
    "Dina   = generate_account_dict()"
   ]
  },
  {
   "cell_type": "code",
   "execution_count": null,
   "id": "e197389e-02ef-4bbe-b430-c0ad9b904a2e",
   "metadata": {},
   "outputs": [],
   "source": [
    "Alice['mnemonic']"
   ]
  },
  {
   "cell_type": "markdown",
   "id": "7ce5a7a0",
   "metadata": {},
   "source": [
    "### Add some additional credentials\n",
    "* Let us not only store private keys, but also API credentials"
   ]
  },
  {
   "cell_type": "code",
   "execution_count": null,
   "id": "a26f50bb",
   "metadata": {},
   "outputs": [],
   "source": [
    "cred = {'algod_test' : 'https://testnet-algorand.api.purestake.io/ps2',\n",
    "        'algod_main' : 'https://mainnet-algorand.api.purestake.io/ps2',\n",
    "        'index_test' : 'https://testnet-algorand.api.purestake.io/idx2',\n",
    "        'index_main' : 'https://mainnet-algorand.api.purestake.io/idx2',\n",
    "        'purestake_token' : {'X-Api-key': 'your_prurestake_token'},\n",
    "        'MyAlgo' : {'public' : 'your_public_address', 'private' : 'your_private_key', 'passphrase' : 'your_mnemonic'}\n",
    "        }\n",
    "cred[\"Alice\"] = Alice\n",
    "cred[\"Bob\"] = Bob\n",
    "cred[\"Charlie\"] = Charlie\n",
    "cred[\"Dina\"] = Dina\n",
    "cred"
   ]
  },
  {
   "cell_type": "markdown",
   "id": "77baaf44",
   "metadata": {},
   "source": [
    "### Convert to a nice JSON"
   ]
  },
  {
   "cell_type": "code",
   "execution_count": null,
   "id": "e3861e00",
   "metadata": {},
   "outputs": [],
   "source": [
    "cred_json = json.dumps(cred,indent=4)\n",
    "print(cred_json)"
   ]
  },
  {
   "cell_type": "code",
   "execution_count": null,
   "id": "a28bcf40",
   "metadata": {},
   "outputs": [],
   "source": [
    "filename = '..'+os.path.sep+'..'+os.path.sep+'credentials_temp'          # op.path is needed to run on Win,Mac and Linux\n",
    "with open(filename, 'w') as outfile:                                     # option 'w' ensures overwriting of existing file\n",
    "    outfile.write(cred_json)"
   ]
  },
  {
   "cell_type": "markdown",
   "id": "53a76f33",
   "metadata": {},
   "source": [
    "**NOW ...** \n",
    "* Find the `credentials_tmp` file (two folders up)\n",
    "* Open the file in Jupyter\n",
    "* Rename it to `credentials`\n",
    "* Manually add `purestake_token` credentials to the JSON\n",
    "* Add the credentials to the `MyAlgo` account. This is going to be your main account"
   ]
  },
  {
   "cell_type": "code",
   "execution_count": null,
   "id": "c69a2a83-79b8-49c0-8aba-d7a461e0ae32",
   "metadata": {},
   "outputs": [],
   "source": []
  }
 ],
 "metadata": {
  "kernelspec": {
   "display_name": "Python 3",
   "language": "python",
   "name": "python3"
  },
  "language_info": {
   "codemirror_mode": {
    "name": "ipython",
    "version": 3
   },
   "file_extension": ".py",
   "mimetype": "text/x-python",
   "name": "python",
   "nbconvert_exporter": "python",
   "pygments_lexer": "ipython3",
   "version": "3.8.8"
  }
 },
 "nbformat": 4,
 "nbformat_minor": 5
}
