{
 "cells": [
  {
   "cell_type": "markdown",
   "metadata": {},
   "source": [
    "## Transactions\n",
    "#### 03.4 Writing Smart Contracts\n",
    "##### Peter Gruber (peter.gruber@usi.ch)\n",
    "2021-12-19\n",
    "\n",
    "\n",
    "- Load credentials\n",
    "- Create our own QR code for payments\n",
    "- Interact with the blockchain and execute a payment from Python\n",
    "- See also: https://developer.algorand.org/tutorials/creating-python-transaction-purestake-api/"
   ]
  },
  {
   "cell_type": "markdown",
   "metadata": {
    "tags": []
   },
   "source": [
    "## Setup\n",
    "Starting with this chapter 3.4, the lines below will always automatically load ...\n",
    "* The accounts MyAlgo, Alice, Bob, Charlie, Dina\n",
    "* The Purestake credentials\n",
    "* The functions in `algo_util.py`"
   ]
  },
  {
   "cell_type": "code",
   "execution_count": 16,
   "metadata": {},
   "outputs": [],
   "source": [
    "# Loading shared code and credentials\n",
    "import sys, os\n",
    "codepath = '..'+os.path.sep+'..'+os.path.sep+'sharedCode'\n",
    "sys.path.append(codepath)\n",
    "from algo_util import *\n",
    "cred = load_credentials()\n",
    "\n",
    "# Shortcuts to directly access the main accounts\n",
    "MyAlgo  = cred['MyAlgo']\n",
    "Alice   = cred['Alice']\n",
    "Bob     = cred['Bob']\n",
    "Charlie = cred['Charlie']\n",
    "Dina    = cred['Dina']"
   ]
  },
  {
   "cell_type": "code",
   "execution_count": 17,
   "metadata": {},
   "outputs": [],
   "source": [
    "from algosdk import account, mnemonic\n",
    "from algosdk.v2client import algod\n",
    "from algosdk.future.transaction import PaymentTxn, MultisigTransaction\n",
    "from algosdk.future.transaction import AssetConfigTxn, AssetTransferTxn, AssetFreezeTxn\n",
    "import algosdk.error\n",
    "import json"
   ]
  },
  {
   "cell_type": "code",
   "execution_count": 18,
   "metadata": {},
   "outputs": [
    {
     "name": "stdout",
     "output_type": "stream",
     "text": [
      "VL5UU2QXNKNEH7VISHZFU2ALXN5MOIDD3KXEYX2ADLCCIYN3MCOKRBATV4\n",
      "VK6CCXY4IFHIJAVMRVS543LJQEQKOJO6YQ4DZNV3D2XJI4ETYBN5354EQU\n",
      "CPUT3Z5CI3XOIZ4ARSGUFQD7V4YGYJW5BFAZMXX5YOV4KJCKI6MBCDY5XM\n",
      "BY5K2AYO7R3G66ICY6SJ2JFVLRMIX677EAEEKDBTJZGP6Q4JVNZRDXDBKA\n",
      "YXUPADIBAU7TOTY5MIOJIN6HDXS42SQCTMAPEUHU4GQCAKZQXJXXCQOJU4\n"
     ]
    }
   ],
   "source": [
    "print(MyAlgo['public'])\n",
    "print(Alice['public'])\n",
    "print(Bob['public'])\n",
    "print(Charlie['public'])\n",
    "print(Dina['public'])"
   ]
  },
  {
   "cell_type": "markdown",
   "metadata": {},
   "source": [
    "### Check the accounts on the blockchain\n",
    "- Go to https://algoexplorer.io and insert address\n",
    "- Go to https://testnet.algoexplorer.io for the testnet\n",
    "- Alternative indexers are https://algoscan.app and https://explorer.perawallet.app"
   ]
  },
  {
   "cell_type": "code",
   "execution_count": 19,
   "metadata": {},
   "outputs": [
    {
     "name": "stdout",
     "output_type": "stream",
     "text": [
      "https://algoexplorer.io/address/VL5UU2QXNKNEH7VISHZFU2ALXN5MOIDD3KXEYX2ADLCCIYN3MCOKRBATV4\n",
      "https://testnet.algoexplorer.io/address/VL5UU2QXNKNEH7VISHZFU2ALXN5MOIDD3KXEYX2ADLCCIYN3MCOKRBATV4\n"
     ]
    }
   ],
   "source": [
    "# Create a link to directly access your MyAlgo account\n",
    "print('https://algoexplorer.io/address/'+MyAlgo['public'])\n",
    "print('https://testnet.algoexplorer.io/address/'+MyAlgo['public'])"
   ]
  },
  {
   "cell_type": "markdown",
   "metadata": {},
   "source": [
    "### Fund with testnet Algos\n",
    "- https://bank.testnet.algorand.network/\n",
    "- https://testnet.algoexplorer.io/dispenser\n",
    "- https://dispenser.testnet.aws.algodev.network\n",
    "- Fund `MyAlgo`, `Alice` and `Bob`. How many test ALGOs did you get?"
   ]
  },
  {
   "cell_type": "markdown",
   "metadata": {},
   "source": [
    "## Connecting to the Algorand Blockchain via API\n",
    "+ We choose to connect via Purestake API\n",
    "+ Requires Purestake token to authenticate\n",
    "    - See 03.3_WSC_Credentials\n",
    "- API **address** stored ...\n",
    "    - For the testnet in `cred['algod_test']`\n",
    "    - For the mainnet in `cred['algod_main']`\n",
    "- API **crendentials** stored in `cred['purestake_token']`\n",
    "  - Note: this is already the pair `{'X-Api-key': 'your token'}`\n",
    "  - To obtain token alone use `cred['purestake_token']['X-Api-key']`"
   ]
  },
  {
   "cell_type": "code",
   "execution_count": 21,
   "metadata": {},
   "outputs": [],
   "source": [
    "algod_token   = ''                        # Only needed if we have our own server\n",
    "algod_address = cred['algod_test']        # Or cred['algod_main'] \n",
    "purestake_token = cred['purestake_token'] # Authentication token pair {'X-Api-key': '(your token'}\n",
    "\n",
    "# Initialize the algod client\n",
    "algod_client = algod.AlgodClient(algod_token=algod_token, algod_address=algod_address, headers=purestake_token)"
   ]
  },
  {
   "cell_type": "markdown",
   "metadata": {},
   "source": [
    "#### Test the connection\n",
    "- Our first Python access of the blockchain\n",
    "- What's the last block?\n",
    "- Verify on https://testnet.algoexplorer.io\n",
    "- Note that block count on testnet is larger (Why?)"
   ]
  },
  {
   "cell_type": "code",
   "execution_count": 22,
   "metadata": {},
   "outputs": [
    {
     "data": {
      "text/plain": [
       "26066104"
      ]
     },
     "execution_count": 22,
     "metadata": {},
     "output_type": "execute_result"
    }
   ],
   "source": [
    "algod_client.status()[\"last-round\"]"
   ]
  },
  {
   "cell_type": "markdown",
   "metadata": {},
   "source": [
    "### Obtain holdings"
   ]
  },
  {
   "cell_type": "code",
   "execution_count": 23,
   "metadata": {},
   "outputs": [
    {
     "data": {
      "text/plain": [
       "57131106"
      ]
     },
     "execution_count": 23,
     "metadata": {},
     "output_type": "execute_result"
    }
   ],
   "source": [
    "# Get holdings of testnet Algos\n",
    "address = Alice[\"public\"]\n",
    "algod_client.account_info(address)[\"amount\"]"
   ]
  },
  {
   "cell_type": "code",
   "execution_count": 24,
   "metadata": {},
   "outputs": [
    {
     "name": "stdout",
     "output_type": "stream",
     "text": [
      "Address VK6CCXY4IFHIJAVMRVS543LJQEQKOJO6YQ4DZNV3D2XJI4ETYBN5354EQU has 57.131106 test algos\n"
     ]
    }
   ],
   "source": [
    "# Holdings are in micro Algo ... convert\n",
    "algo_precision = 1e6\n",
    "algo_amount    = algod_client.account_info(address)[\"amount\"]/algo_precision\n",
    "print(f\"Address {address} has {algo_amount} test algos\")"
   ]
  },
  {
   "cell_type": "markdown",
   "metadata": {},
   "source": [
    "#### Suggested parameters for a transaction (on the test network)"
   ]
  },
  {
   "cell_type": "code",
   "execution_count": 26,
   "metadata": {},
   "outputs": [
    {
     "name": "stdout",
     "output_type": "stream",
     "text": [
      "{\n",
      "    \"first\": 26066118,\n",
      "    \"last\": 26067118,\n",
      "    \"gh\": \"SGO1GKSzyE7IEPItTxCByw9x8FmnrCDexi9/cOUJOiI=\",\n",
      "    \"gen\": \"testnet-v1.0\",\n",
      "    \"fee\": 0,\n",
      "    \"flat_fee\": false,\n",
      "    \"consensus_version\": \"https://github.com/algorandfoundation/specs/tree/433d8e9a7274b6fca703d91213e05c7e6a589e69\",\n",
      "    \"min_fee\": 1000\n",
      "}\n"
     ]
    }
   ],
   "source": [
    "sp = algod_client.suggested_params()\n",
    "print(json.dumps(vars(sp), indent=4))"
   ]
  },
  {
   "cell_type": "markdown",
   "metadata": {},
   "source": [
    "## A first payment transaction"
   ]
  },
  {
   "cell_type": "markdown",
   "metadata": {},
   "source": [
    "#### Step 1: prepare and create unsigned transaction"
   ]
  },
  {
   "cell_type": "code",
   "execution_count": 31,
   "metadata": {},
   "outputs": [
    {
     "name": "stdout",
     "output_type": "stream",
     "text": [
      "{'sender': 'VK6CCXY4IFHIJAVMRVS543LJQEQKOJO6YQ4DZNV3D2XJI4ETYBN5354EQU', 'fee': 1000, 'first_valid_round': 26066140, 'last_valid_round': 26067140, 'note': None, 'genesis_id': 'testnet-v1.0', 'genesis_hash': 'SGO1GKSzyE7IEPItTxCByw9x8FmnrCDexi9/cOUJOiI=', 'group': None, 'lease': None, 'type': 'pay', 'rekey_to': None, 'receiver': 'CPUT3Z5CI3XOIZ4ARSGUFQD7V4YGYJW5BFAZMXX5YOV4KJCKI6MBCDY5XM', 'amt': 100000, 'close_remainder_to': None}\n",
      "\n",
      "R33SKU7O6GI5HQEZ5COBKJ223Y2LIHIN6TVQNDIRO443DMJCKGZA\n"
     ]
    }
   ],
   "source": [
    "# Parameters\n",
    "sp       = algod_client.suggested_params()       # suggested params\n",
    "amount   = 0.1\n",
    "algo_precision = 1e6\n",
    "amt_microalgo = int(amount * algo_precision)\n",
    "\n",
    "# Create (unsigned) TX\n",
    "txn = PaymentTxn(sender = Alice['public'],     # <--- From\n",
    "                 sp = sp, \n",
    "                 receiver = Bob['public'],     # <---- To\n",
    "                 amt = amt_microalgo           # <---- Amount in Micro-ALGOs\n",
    "                )\n",
    "print(txn)\n",
    "print('')\n",
    "print(txn.get_txid())"
   ]
  },
  {
   "cell_type": "code",
   "execution_count": 32,
   "metadata": {},
   "outputs": [
    {
     "name": "stdout",
     "output_type": "stream",
     "text": [
      "https://testnet.algoexplorer.io/tx/R33SKU7O6GI5HQEZ5COBKJ223Y2LIHIN6TVQNDIRO443DMJCKGZA\n"
     ]
    }
   ],
   "source": [
    "# Is it already on the blockchain? No ... not yet sent\n",
    "print('https://testnet.algoexplorer.io/tx/'+txn.get_txid())"
   ]
  },
  {
   "cell_type": "markdown",
   "metadata": {},
   "source": [
    "#### Step 2: sign"
   ]
  },
  {
   "cell_type": "code",
   "execution_count": 55,
   "metadata": {},
   "outputs": [
    {
     "name": "stdout",
     "output_type": "stream",
     "text": [
      "{'sender': 'VK6CCXY4IFHIJAVMRVS543LJQEQKOJO6YQ4DZNV3D2XJI4ETYBN5354EQU', 'fee': 1000, 'first_valid_round': 26066140, 'last_valid_round': 26067140, 'note': None, 'genesis_id': 'testnet-v1.0', 'genesis_hash': 'SGO1GKSzyE7IEPItTxCByw9x8FmnrCDexi9/cOUJOiI=', 'group': None, 'lease': None, 'type': 'pay', 'rekey_to': None, 'receiver': 'CPUT3Z5CI3XOIZ4ARSGUFQD7V4YGYJW5BFAZMXX5YOV4KJCKI6MBCDY5XM', 'amt': 100000, 'close_remainder_to': None}\n",
      "\n",
      "J1KNcI2KlD2ExNSYFUJvjyoUH1chWawo6bctKIu9xLJCnVSwzFk3ImSunRk871OfOrOCgl7ZvTwSz52qxjxgAw==\n",
      "\n"
     ]
    }
   ],
   "source": [
    "stxn = txn.sign(Alice['private'])                 # <---- Alice signs with private key\n",
    "\n",
    "# The new stxn object consists of\n",
    "print(stxn.transaction)\n",
    "print('')\n",
    "# and\n",
    "print(stxn.signature)\n",
    "print('')"
   ]
  },
  {
   "cell_type": "code",
   "execution_count": 56,
   "metadata": {},
   "outputs": [
    {
     "name": "stdout",
     "output_type": "stream",
     "text": [
      "https://testnet.algoexplorer.io/tx/R33SKU7O6GI5HQEZ5COBKJ223Y2LIHIN6TVQNDIRO443DMJCKGZA\n"
     ]
    }
   ],
   "source": [
    "# Transaction ID is the same, and still nothing on the blockchain\n",
    "print('https://testnet.algoexplorer.io/tx/'+stxn.get_txid())"
   ]
  },
  {
   "cell_type": "markdown",
   "metadata": {},
   "source": [
    "#### Step 3: send"
   ]
  },
  {
   "cell_type": "code",
   "execution_count": 57,
   "metadata": {},
   "outputs": [
    {
     "name": "stdout",
     "output_type": "stream",
     "text": [
      "Send transaction with txID: R33SKU7O6GI5HQEZ5COBKJ223Y2LIHIN6TVQNDIRO443DMJCKGZA\n",
      "{'pool-error': '', 'txn': {'sig': 'J1KNcI2KlD2ExNSYFUJvjyoUH1chWawo6bctKIu9xLJCnVSwzFk3ImSunRk871OfOrOCgl7ZvTwSz52qxjxgAw==', 'txn': {'amt': 100000, 'fee': 1000, 'fv': 26066140, 'gen': 'testnet-v1.0', 'gh': 'SGO1GKSzyE7IEPItTxCByw9x8FmnrCDexi9/cOUJOiI=', 'lv': 26067140, 'rcv': 'CPUT3Z5CI3XOIZ4ARSGUFQD7V4YGYJW5BFAZMXX5YOV4KJCKI6MBCDY5XM', 'snd': 'VK6CCXY4IFHIJAVMRVS543LJQEQKOJO6YQ4DZNV3D2XJI4ETYBN5354EQU', 'type': 'pay'}}}\n"
     ]
    }
   ],
   "source": [
    "txid = algod_client.send_transaction(stxn)\n",
    "print(\"Send transaction with txID: \"+txid)\n",
    "\n",
    "# The freshly submitted transaction on the blockchain\n",
    "txinfo = algod_client.pending_transaction_info(txid)\n",
    "print(txinfo)"
   ]
  },
  {
   "cell_type": "markdown",
   "metadata": {},
   "source": [
    "#### Step 4: Wait for confirmation"
   ]
  },
  {
   "cell_type": "code",
   "execution_count": 58,
   "metadata": {},
   "outputs": [
    {
     "name": "stdout",
     "output_type": "stream",
     "text": [
      "Current round is  26066222.\n",
      "Transaction R33SKU7O6GI5HQEZ5COBKJ223Y2LIHIN6TVQNDIRO443DMJCKGZA confirmed in round 26066218.\n"
     ]
    }
   ],
   "source": [
    "txinfo = wait_for_confirmation(algod_client, txid)"
   ]
  },
  {
   "cell_type": "code",
   "execution_count": 59,
   "metadata": {},
   "outputs": [
    {
     "name": "stdout",
     "output_type": "stream",
     "text": [
      "{'confirmed-round': 26066218, 'pool-error': '', 'txn': {'sig': 'J1KNcI2KlD2ExNSYFUJvjyoUH1chWawo6bctKIu9xLJCnVSwzFk3ImSunRk871OfOrOCgl7ZvTwSz52qxjxgAw==', 'txn': {'amt': 100000, 'fee': 1000, 'fv': 26066140, 'gen': 'testnet-v1.0', 'gh': 'SGO1GKSzyE7IEPItTxCByw9x8FmnrCDexi9/cOUJOiI=', 'lv': 26067140, 'rcv': 'CPUT3Z5CI3XOIZ4ARSGUFQD7V4YGYJW5BFAZMXX5YOV4KJCKI6MBCDY5XM', 'snd': 'VK6CCXY4IFHIJAVMRVS543LJQEQKOJO6YQ4DZNV3D2XJI4ETYBN5354EQU', 'type': 'pay'}}}\n",
      "https://testnet.algoexplorer.io/tx/R33SKU7O6GI5HQEZ5COBKJ223Y2LIHIN6TVQNDIRO443DMJCKGZA\n"
     ]
    }
   ],
   "source": [
    "# Note that txinfo has now a 'confirmed-round'\n",
    "print(txinfo)\n",
    "print('https://testnet.algoexplorer.io/tx/'+txid)"
   ]
  },
  {
   "cell_type": "markdown",
   "metadata": {},
   "source": [
    "## Add a note to a transaction"
   ]
  },
  {
   "cell_type": "code",
   "execution_count": 63,
   "metadata": {},
   "outputs": [],
   "source": [
    "# Step 1a: Prepare\n",
    "sp       = algod_client.suggested_params()       # suggested params\n",
    "\n",
    "amount    = 0.1\n",
    "algo_precision = 1e6\n",
    "amt_microalgo = int(amount * algo_precision)\n",
    "\n",
    "# Step 1b: The note\n",
    "# Start with a Python dict, create JSON, byte-encode\n",
    "#note_dict = {\"Message\":\"Paying back for last dinner\", \"From\":\"Alice\", \"To\":\"Bob\"}\n",
    "#note_json = json.dumps(note_dict)\n",
    "#note_byte = note_json.encode() \n",
    "note_byte = \"Paying back for last dinner\".encode()\n",
    "\n",
    "\n"
   ]
  },
  {
   "cell_type": "code",
   "execution_count": 64,
   "metadata": {},
   "outputs": [
    {
     "name": "stdout",
     "output_type": "stream",
     "text": [
      "{'sender': 'VK6CCXY4IFHIJAVMRVS543LJQEQKOJO6YQ4DZNV3D2XJI4ETYBN5354EQU', 'fee': 1000, 'first_valid_round': 26066331, 'last_valid_round': 26067331, 'note': b'Paying back for last dinner', 'genesis_id': 'testnet-v1.0', 'genesis_hash': 'SGO1GKSzyE7IEPItTxCByw9x8FmnrCDexi9/cOUJOiI=', 'group': None, 'lease': None, 'type': 'pay', 'rekey_to': None, 'receiver': 'CPUT3Z5CI3XOIZ4ARSGUFQD7V4YGYJW5BFAZMXX5YOV4KJCKI6MBCDY5XM', 'amt': 100000, 'close_remainder_to': None}\n"
     ]
    }
   ],
   "source": [
    "# Step 1c: create (unsigned) TX\n",
    "txn = PaymentTxn(sender=Alice['public'],\n",
    "                 sp=sp, \n",
    "                 receiver = Bob['public'],\n",
    "                 amt=amt_microalgo, \n",
    "                 note=note_byte\n",
    "                 )\n",
    "print(txn)"
   ]
  },
  {
   "cell_type": "code",
   "execution_count": 65,
   "metadata": {},
   "outputs": [
    {
     "name": "stdout",
     "output_type": "stream",
     "text": [
      "Send transaction with txID: L4GF4AA5GOFSRON3XEDQ5G2LESV5YSUPTLOFOMU7GAZ5VQ7BRV4Q\n"
     ]
    }
   ],
   "source": [
    "# Step 2+3: sign and send TX\n",
    "stxn = txn.sign(Alice['private'])\n",
    "txid = algod_client.send_transaction(stxn)\n",
    "print(\"Send transaction with txID: {}\".format(txid))"
   ]
  },
  {
   "cell_type": "code",
   "execution_count": 66,
   "metadata": {},
   "outputs": [
    {
     "name": "stdout",
     "output_type": "stream",
     "text": [
      "Current round is  26066333.\n",
      "Waiting for round 26066333 to finish.\n",
      "Transaction L4GF4AA5GOFSRON3XEDQ5G2LESV5YSUPTLOFOMU7GAZ5VQ7BRV4Q confirmed in round 26066334.\n"
     ]
    }
   ],
   "source": [
    "# Step 4: Wait for confirmation\n",
    "txinfo = wait_for_confirmation(algod_client, txid)"
   ]
  },
  {
   "cell_type": "code",
   "execution_count": 67,
   "metadata": {},
   "outputs": [
    {
     "name": "stdout",
     "output_type": "stream",
     "text": [
      "https://testnet.algoexplorer.io/tx/L4GF4AA5GOFSRON3XEDQ5G2LESV5YSUPTLOFOMU7GAZ5VQ7BRV4Q\n"
     ]
    }
   ],
   "source": [
    "print(\"https://testnet.algoexplorer.io/tx/\"+txid)"
   ]
  },
  {
   "cell_type": "code",
   "execution_count": null,
   "metadata": {},
   "outputs": [],
   "source": [
    "print(txinfo)"
   ]
  },
  {
   "cell_type": "code",
   "execution_count": null,
   "metadata": {},
   "outputs": [],
   "source": [
    "# Convert message in txinfo to Python dict\n",
    "import base64\n",
    "message_base64 = txinfo['txn']['txn']['note']\n",
    "print(message_base64)\n",
    "message_byte   = base64.b64decode(message_base64)\n",
    "print(message_byte)\n",
    "message_json   = message_byte.decode()\n",
    "print(message_json)\n",
    "message        = json.loads( message_json )\n",
    "print( message['From'] )"
   ]
  },
  {
   "cell_type": "markdown",
   "metadata": {},
   "source": [
    "## Useful functions\n",
    "These function `wait_for_confirmation` is an ufficial Algorand function.<br>\n",
    "Below is the source code."
   ]
  },
  {
   "cell_type": "code",
   "execution_count": 60,
   "metadata": {},
   "outputs": [],
   "source": [
    "def wait_for_confirmation(client, txid):\n",
    "    # client = algosdk client\n",
    "    # txid = transaction ID, for example from send_payment()\n",
    "\n",
    "    txinfo = client.pending_transaction_info(txid)       # obtain transaction information\n",
    "    current_round = algod_client.status()[\"last-round\"]        # obtain last round number\n",
    "    print(\"Current round is  {}.\".format(current_round))\n",
    "    \n",
    "    # Wait for confirmation\n",
    "    while ( txinfo.get('confirmed-round') is None ):            # condition for waiting = 'confirmed-round' is empty\n",
    "        print(\"Waiting for round {} to finish.\".format(current_round))\n",
    "        algod_client.status_after_block(current_round)             # this wait for the round to finish\n",
    "        txinfo = algod_client.pending_transaction_info(txid)    # update transaction information\n",
    "        current_round += 1\n",
    "\n",
    "    print(\"Transaction {} confirmed in round {}.\".format(txid, txinfo.get('confirmed-round')))\n",
    "    return txinfo"
   ]
  },
  {
   "cell_type": "markdown",
   "metadata": {},
   "source": [
    "## Also useful functions\n",
    "These functions are much more convenient:\n",
    "- `note_encode` encodes a note from a Pyhon dict\n",
    "- `note_decode` decodes a note into a Pyhon dict"
   ]
  },
  {
   "cell_type": "code",
   "execution_count": 61,
   "metadata": {},
   "outputs": [],
   "source": [
    "def note_encode(note_dict):\n",
    "    # note dict ... a Python dictionary\n",
    "    note_json = json.dumps(note_dict)\n",
    "    note_byte = note_json.encode()     \n",
    "    return(note_byte)\n",
    "\n",
    "def note_decode(note_64):\n",
    "    # note64 =  note in base64 endocing\n",
    "    # returns a Python dict\n",
    "    import base64\n",
    "    message_base64 = txinfo['txn']['txn']['note']\n",
    "    message_byte   = base64.b64decode(message_base64)\n",
    "    message_json   = message_byte.decode()\n",
    "    message_dict   = json.loads( message_json )\n",
    "    return(message_dict)"
   ]
  },
  {
   "cell_type": "markdown",
   "metadata": {},
   "source": [
    "## Exercise\n",
    "* Send 0.8 ALGO from Dina to Charlie with a thank you note"
   ]
  },
  {
   "cell_type": "code",
   "execution_count": null,
   "metadata": {},
   "outputs": [],
   "source": [
    "# Your Python code goes here"
   ]
  },
  {
   "cell_type": "markdown",
   "metadata": {},
   "source": [
    "## Things that do not and will not work\n",
    "Let's produce some error messages. Following are a few things that don't work"
   ]
  },
  {
   "cell_type": "code",
   "execution_count": null,
   "metadata": {},
   "outputs": [],
   "source": [
    "# Need to import this to be able to read error messages\n",
    "import sys, algosdk.error"
   ]
  },
  {
   "cell_type": "markdown",
   "metadata": {},
   "source": [
    "### Overspending\n",
    "Alice sends more than she owns"
   ]
  },
  {
   "cell_type": "code",
   "execution_count": null,
   "metadata": {},
   "outputs": [],
   "source": [
    "# Step 1: prepare\n",
    "sp       = algod_client.suggested_params()\n",
    "algo_precision = 1e6\n",
    "sender   = Alice['public']\n",
    "receiver = Bob['public']\n",
    "amount   = 100                       # <----------------- way too much!\n",
    "amount_microalgo = int(amount * algo_precision)\n",
    "\n",
    "# Step 2: create unsigned TX\n",
    "unsigned_txn = PaymentTxn(sender, sp, receiver, amount_microalgo)\n",
    "\n",
    "# Step 3a: Sign\n",
    "signed_txn = unsigned_txn.sign(Alice['private'])"
   ]
  },
  {
   "cell_type": "code",
   "execution_count": null,
   "metadata": {},
   "outputs": [],
   "source": [
    "# Step 3b: Send\n",
    "txid = algod_client.send_transaction(signed_txn)"
   ]
  },
  {
   "cell_type": "markdown",
   "metadata": {},
   "source": [
    "#### Can we *catch the error* and get a better structured error message?"
   ]
  },
  {
   "cell_type": "code",
   "execution_count": null,
   "metadata": {},
   "outputs": [],
   "source": [
    "# Step 1: prepare\n",
    "sp       = algod_client.suggested_params()\n",
    "algo_precision = 1e6\n",
    "sender   = Alice['public']\n",
    "receiver = Bob['public']\n",
    "amount   = 100                       # <----------------- way too much!\n",
    "amount_microalgo = int(amount * algo_precision)\n",
    "\n",
    "# Step 2: create unsigned TX\n",
    "unsigned_txn = PaymentTxn(sender, sp, receiver, amount_microalgo)\n",
    "\n",
    "# Step 3a: Sign\n",
    "signed_txn = unsigned_txn.sign(Alice['private'])"
   ]
  },
  {
   "cell_type": "code",
   "execution_count": null,
   "metadata": {},
   "outputs": [],
   "source": [
    "# Step 3b: Send\n",
    "try:\n",
    "    txid = algod_client.send_transaction(signed_txn)\n",
    "except algosdk.error.AlgodHTTPError as err:\n",
    "    print(err)                                   # print entire error message\n",
    "    if (\"overspend\" in str(err)):                # check for specific type of error\n",
    "        print(\"Overspend error\")         \n",
    "    txid = None"
   ]
  },
  {
   "cell_type": "markdown",
   "metadata": {},
   "source": [
    "#### What happens if we wait for the failed transaction to complete?"
   ]
  },
  {
   "cell_type": "code",
   "execution_count": null,
   "metadata": {},
   "outputs": [],
   "source": [
    "# We fail at the first command\n",
    "try:\n",
    "    txinfo = algod_client.pending_transaction_info(txid)       # obtain transaction information\n",
    "    print(txinfo)\n",
    "except TypeError as err:                    # obtain error message\n",
    "    # print entire error message\n",
    "    print(err)\n",
    "    # check for specific type of error\n",
    "    print(\"txid is empty\")"
   ]
  },
  {
   "cell_type": "markdown",
   "metadata": {},
   "source": [
    "### Wrong signature\n",
    "Bob tries to sign a transaction from Alice to Bob"
   ]
  },
  {
   "cell_type": "code",
   "execution_count": null,
   "metadata": {},
   "outputs": [],
   "source": [
    "# Step 1: prepare\n",
    "sp       = algod_client.suggested_params()\n",
    "algo_precision = 1e6\n",
    "sender   = Alice['public']\n",
    "receiver = Bob['public']\n",
    "amount   = 0.1\n",
    "amount_microalgo = int(amount * algo_precision)\n",
    "\n",
    "# Step 2: create unsigned TX\n",
    "unsigned_txn = PaymentTxn(sender, sp, receiver, amount_microalgo)\n",
    "\n",
    "# Step 3a: Sign\n",
    "signed_txn = unsigned_txn.sign(Bob['private'])                        # <----------------- wrong person signs!\n",
    "\n",
    "try:\n",
    "    txid = algod_client.send_transaction(signed_txn)\n",
    "except algosdk.error.AlgodHTTPError as err:\n",
    "    # print entire error message\n",
    "    print(err)\n",
    "    if (\"should have been authorized\" in str(err)):                # check for specific type of error\n",
    "        print(\"Wrong signature error\")         \n",
    "    txid = None"
   ]
  },
  {
   "cell_type": "markdown",
   "metadata": {},
   "source": [
    "### Sending the *indentical* transaction twice\n",
    "* \"Identical\" means same ...\n",
    "    * Sender\n",
    "    * Recipien\n",
    "    * Ammount\n",
    "    * Parameters"
   ]
  },
  {
   "cell_type": "code",
   "execution_count": null,
   "metadata": {},
   "outputs": [],
   "source": [
    "# Step 1: prepare\n",
    "sp       = algod_client.suggested_params()\n",
    "algo_precision = 1e6\n",
    "sender   = Alice['public']\n",
    "receiver = Bob['public']\n",
    "amount   = 0.1\n",
    "amount_microalgo = int(amount * algo_precision)"
   ]
  },
  {
   "cell_type": "code",
   "execution_count": null,
   "metadata": {},
   "outputs": [],
   "source": [
    "# Step 2: create unsigned TX\n",
    "unsigned_txn = PaymentTxn(sender, sp, receiver, amount_microalgo)\n",
    "\n",
    "# Step 3: Sign and send\n",
    "signed_txn = unsigned_txn.sign(Alice['private'])\n",
    "try:\n",
    "    txid = algod_client.send_transaction(signed_txn)\n",
    "    print(\"Submitted with txID: {}\".format(txid))\n",
    "except algosdk.error.AlgodHTTPError as err:\n",
    "    # print entire error message\n",
    "    print(err)\n",
    "    if (\"transaction already in ledger\" in str(err)):                # check for specific type of error\n",
    "        print(\"Identical transaction {} has been submitted twice.\".format(signed_txn.get_txid()))         \n",
    "    txid = None    # check for specific type of error"
   ]
  },
  {
   "cell_type": "markdown",
   "metadata": {},
   "source": [
    "**REPEAT** only step 2-3 $\\rightarrow$ error message<br>\n",
    "**REPEAT** only step 1-3 $\\rightarrow$ no error <br>"
   ]
  },
  {
   "cell_type": "markdown",
   "metadata": {},
   "source": [
    "#### See how the sp change\n",
    "* Re-run this after 2-3 seconds"
   ]
  },
  {
   "cell_type": "code",
   "execution_count": null,
   "metadata": {},
   "outputs": [],
   "source": [
    "sp = algod_client.suggested_params()\n",
    "print(json.dumps(vars(sp), indent=4))"
   ]
  }
 ],
 "metadata": {
  "kernelspec": {
   "display_name": "Python 3",
   "language": "python",
   "name": "python3"
  },
  "language_info": {
   "codemirror_mode": {
    "name": "ipython",
    "version": 3
   },
   "file_extension": ".py",
   "mimetype": "text/x-python",
   "name": "python",
   "nbconvert_exporter": "python",
   "pygments_lexer": "ipython3",
   "version": "3.7.6"
  }
 },
 "nbformat": 4,
 "nbformat_minor": 4
}
