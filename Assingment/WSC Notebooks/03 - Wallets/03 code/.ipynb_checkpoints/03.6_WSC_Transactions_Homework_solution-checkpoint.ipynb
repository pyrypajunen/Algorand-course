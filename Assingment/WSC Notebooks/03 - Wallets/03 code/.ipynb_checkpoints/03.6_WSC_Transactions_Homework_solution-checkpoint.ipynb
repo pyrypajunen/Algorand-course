{
 "cells": [
  {
   "cell_type": "markdown",
   "metadata": {},
   "source": [
    "## Transactions - Homework\n",
    "#### 03.6 Writing Smart Contracts\n",
    "##### Peter Gruber (peter.gruber@usi.ch)\n",
    "2022-02-16\n",
    "\n",
    "* Homework 02 of the WSC class"
   ]
  },
  {
   "cell_type": "markdown",
   "metadata": {
    "tags": []
   },
   "source": [
    "## Setup\n",
    "Starting with this chapter 3.4, the lines below will always automatically load ...\n",
    "* The accounts MyAlgo, Alice, Bob, Charlie, Dina\n",
    "* The Purestake credentials\n",
    "* The functions in `algo_util.py`"
   ]
  },
  {
   "cell_type": "code",
   "execution_count": 6,
   "metadata": {},
   "outputs": [],
   "source": [
    "# Loading shared code and credentials\n",
    "import sys, os\n",
    "codepath = '..'+os.path.sep+'..'+os.path.sep+'sharedCode'\n",
    "sys.path.append(codepath)\n",
    "from algo_util import *\n",
    "cred = load_credentials()\n",
    "\n",
    "# Shortcuts to directly access the main accounts\n",
    "MyAlgo  = cred['MyAlgo']\n",
    "Alice   = cred['Alice']\n",
    "Bob     = cred['Bob']\n",
    "Charlie = cred['Charlie']\n",
    "Dina    = cred['Dina']"
   ]
  },
  {
   "cell_type": "code",
   "execution_count": 7,
   "metadata": {},
   "outputs": [],
   "source": [
    "from algosdk import account, mnemonic\n",
    "from algosdk.v2client import algod\n",
    "from algosdk.future.transaction import PaymentTxn, MultisigTransaction\n",
    "from algosdk.future.transaction import AssetConfigTxn, AssetTransferTxn, AssetFreezeTxn\n",
    "import algosdk.error\n",
    "import json"
   ]
  },
  {
   "cell_type": "code",
   "execution_count": null,
   "metadata": {},
   "outputs": [],
   "source": [
    "print(MyAlgo['public'])\n",
    "print(Alice['public'])\n",
    "print(Bob['public'])\n",
    "print(Charlie['public'])\n",
    "print(Dina['public'])"
   ]
  },
  {
   "cell_type": "markdown",
   "metadata": {},
   "source": [
    "## Connecting Python to the Algorand Mainnet"
   ]
  },
  {
   "cell_type": "code",
   "execution_count": 9,
   "metadata": {},
   "outputs": [],
   "source": [
    "algod_token   = ''                        # Only needed if we have our own server, \n",
    "algod_address = cred['algod_main']        # Or cred['algod_main'] \n",
    "purestake_token = cred['purestake_token'] # Authentication token pair {'X-Api-key': '(your token'}\n",
    "\n",
    "# Initialize the algod client\n",
    "algod_client = algod.AlgodClient(algod_token=algod_token, algod_address=algod_address, headers=purestake_token)"
   ]
  },
  {
   "cell_type": "markdown",
   "metadata": {},
   "source": [
    "#### Test the connection"
   ]
  },
  {
   "cell_type": "code",
   "execution_count": 10,
   "metadata": {},
   "outputs": [
    {
     "data": {
      "text/plain": [
       "19275374"
      ]
     },
     "execution_count": 10,
     "metadata": {},
     "output_type": "execute_result"
    }
   ],
   "source": [
    "algod_client.status()[\"last-round\"]"
   ]
  },
  {
   "cell_type": "markdown",
   "metadata": {},
   "source": [
    "### Exercise 3.1"
   ]
  },
  {
   "cell_type": "code",
   "execution_count": 17,
   "metadata": {},
   "outputs": [
    {
     "name": "stdout",
     "output_type": "stream",
     "text": [
      "67.832264\n"
     ]
    }
   ],
   "source": [
    "# Get holdings of testnet Algos\n",
    "address = \"TCNEZ7HOIJOVKBTYQF3HRKN3ELB4LURLC3BSQR66OJVCS6IKLY6VX2Y22Q\"\n",
    "course_money = algod_client.account_info(address)[\"amount\"]/1e6\n",
    "print(course_money)"
   ]
  },
  {
   "cell_type": "markdown",
   "metadata": {},
   "source": [
    "## Exercise 3.2.a"
   ]
  },
  {
   "cell_type": "code",
   "execution_count": 11,
   "metadata": {},
   "outputs": [
    {
     "name": "stdout",
     "output_type": "stream",
     "text": [
      "Current round is  19275375.\n",
      "Waiting for round 19275375 to finish.\n",
      "Waiting for round 19275376 to finish.\n",
      "Transaction VYUUUKWIR67OMLUW3BJ3OIAZGQ6HAQU3S7HRHW6DJ7ZJSQ2IPZHA confirmed in round 19275377.\n"
     ]
    }
   ],
   "source": [
    "# Step 1: prepare and create unsigned transaction\n",
    "sp       = algod_client.suggested_params()       # suggested params\n",
    "amount   = 0.5\n",
    "algo_precision = 1e6\n",
    "amt_microalgo = int(amount * algo_precision)\n",
    "\n",
    "txn = PaymentTxn(sender = MyAlgo['public'],     # <--- From\n",
    "                 sp = sp, \n",
    "                 receiver = Bob['public'],      # <---- To\n",
    "                 amt = amt_microalgo            # <---- Amount in Micro-ALGOs\n",
    "                )\n",
    "\n",
    "# Step 2: sign\n",
    "stxn = txn.sign(MyAlgo['private']) \n",
    "\n",
    "# Step 3: send\n",
    "txid = algod_client.send_transaction(stxn)\n",
    "\n",
    "# Step 4: Wait for confirmation\n",
    "txinfo = wait_for_confirmation(algod_client, txid)"
   ]
  },
  {
   "cell_type": "markdown",
   "metadata": {},
   "source": [
    "### Exercise 3.2.b"
   ]
  },
  {
   "cell_type": "code",
   "execution_count": 18,
   "metadata": {},
   "outputs": [
    {
     "name": "stdout",
     "output_type": "stream",
     "text": [
      "Current round is  19275536.\n",
      "Waiting for round 19275536 to finish.\n",
      "Waiting for round 19275537 to finish.\n",
      "Transaction 7EEEEUL47YWT67TLP4X5SNAPGFOUX7Q3GYL7M23DDCUNWK6QVM4Q confirmed in round 19275538.\n"
     ]
    }
   ],
   "source": [
    "# Step 1: Prepare\n",
    "sp       = algod_client.suggested_params()       # suggested params\n",
    "amount    = 0.5\n",
    "algo_precision = 1e6\n",
    "amt_microalgo = int(amount * algo_precision)\n",
    "amt_microalgo = amt_microalgo - sp.min_fee - int(0.1*algo_precision)\n",
    "\n",
    "note_dict = {\"Course account\": str(course_money) }\n",
    "note_json = json.dumps(note_dict)\n",
    "note_byte = note_json.encode() \n",
    "\n",
    "txn = PaymentTxn(sender=Bob['public'],\n",
    "                 sp=sp, \n",
    "                 receiver = MyAlgo['public'],\n",
    "                 amt=amt_microalgo, \n",
    "                 note=note_byte\n",
    "                 )\n",
    "\n",
    "# Step 2: sign TX\n",
    "stxn = txn.sign(Bob['private'])\n",
    "\n",
    "# Step 3: send TX\n",
    "txid = algod_client.send_transaction(stxn)\n",
    "\n",
    "# Step 4: Wait for confirmation\n",
    "txinfo = wait_for_confirmation(algod_client, txid)"
   ]
  }
 ],
 "metadata": {
  "kernelspec": {
   "display_name": "Python 3",
   "language": "python",
   "name": "python3"
  },
  "language_info": {
   "codemirror_mode": {
    "name": "ipython",
    "version": 3
   },
   "file_extension": ".py",
   "mimetype": "text/x-python",
   "name": "python",
   "nbconvert_exporter": "python",
   "pygments_lexer": "ipython3",
   "version": "3.8.8"
  }
 },
 "nbformat": 4,
 "nbformat_minor": 4
}
