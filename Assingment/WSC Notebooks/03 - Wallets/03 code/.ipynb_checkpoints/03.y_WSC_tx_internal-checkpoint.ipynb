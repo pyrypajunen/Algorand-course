{
 "cells": [
  {
   "cell_type": "markdown",
   "id": "6f64e030-cc6d-4f38-a5a4-9117f0c512ba",
   "metadata": {},
   "source": [
    "# TX by hand internal\n",
    "\n",
    "* Create a transaction from scratch \"by hand\"\n",
    "* And sign it\n",
    "\n",
    "See https://developer.algorand.org/docs/get-details/transactions/#payment-transaction\n"
   ]
  },
  {
   "cell_type": "raw",
   "id": "ba996deb-6666-492c-a402-9396c97e89b7",
   "metadata": {},
   "source": [
    "{\n",
    "  \"txn\": {\n",
    "    \"amt\": 5000000,\n",
    "    \"fee\": 1000,\n",
    "    \"fv\": 6000000,\n",
    "    \"gen\": \"mainnet-v1.0\",\n",
    "    \"gh\": \"wGHE2Pwdvd7S12BL5FaOP20EGYesN73ktiC1qzkkit8=\",\n",
    "    \"lv\": 6001000,\n",
    "    \"note\": \"SGVsbG8gV29ybGQ=\",\n",
    "    \"rcv\": \"GD64YIY3TWGDMCNPP553DZPPR6LDUSFQOIJVFDPPXWEG3FVOJCCDBBHU5A\",\n",
    "    \"snd\": \"EW64GC6F24M7NDSC5R3ES4YUVE3ZXXNMARJHDCCCLIHZU6TBEOC7XRSBG4\",\n",
    "    \"type\": \"pay\"\n",
    "  }\n",
    "}"
   ]
  },
  {
   "cell_type": "code",
   "execution_count": 6,
   "id": "7e8ba016-3de4-4638-a2a1-a0eb32bc2a79",
   "metadata": {},
   "outputs": [
    {
     "data": {
      "text/plain": [
       "{'amt': 1000000,\n",
       " 'fee': 1000,\n",
       " 'fv': 60000,\n",
       " 'lv': 61000,\n",
       " 'note': 'SGVsbG8gV29ybGQ=',\n",
       " 'gh': 'wGHE2Pwdvd7S12BL5FaOP20EGYesN73ktiC1qzkkit8=',\n",
       " 'rcv': ('GD64YIY3TWGDMCNPP553DZPPR6LDUSFQOIJVFDPPXWEG3FVOJCCDBBHU5A',),\n",
       " 'snd': ('EW64GC6F24M7NDSC5R3ES4YUVE3ZXXNMARJHDCCCLIHZU6TBEOC7XRSBG4',),\n",
       " 'type': 'pay'}"
      ]
     },
     "execution_count": 6,
     "metadata": {},
     "output_type": "execute_result"
    }
   ],
   "source": [
    "mytx = {}\n",
    "first_round = 60000\n",
    "mytx['amt'] = 1_000_000\n",
    "mytx['fee'] = 1_000\n",
    "mytx['fv'] = int(first_round)\n",
    "mytx['lv'] = int(first_round+1000)\n",
    "mytx['note'] = \"SGVsbG8gV29ybGQ=\"    # need to encode\n",
    "mytx['gh'] = \"wGHE2Pwdvd7S12BL5FaOP20EGYesN73ktiC1qzkkit8=\"\n",
    "mytx['rcv'] = \"GD64YIY3TWGDMCNPP553DZPPR6LDUSFQOIJVFDPPXWEG3FVOJCCDBBHU5A\",\n",
    "mytx['snd'] = \"EW64GC6F24M7NDSC5R3ES4YUVE3ZXXNMARJHDCCCLIHZU6TBEOC7XRSBG4\",\n",
    "mytx['type'] = \"pay\"\n",
    "\n",
    "mytx\n",
    "\n",
    "\n",
    "\n",
    "\n"
   ]
  },
  {
   "cell_type": "code",
   "execution_count": null,
   "id": "b013803b-50f7-4f44-974f-f51a41c0173e",
   "metadata": {},
   "outputs": [],
   "source": []
  }
 ],
 "metadata": {
  "kernelspec": {
   "display_name": "Python 3",
   "language": "python",
   "name": "python3"
  },
  "language_info": {
   "codemirror_mode": {
    "name": "ipython",
    "version": 3
   },
   "file_extension": ".py",
   "mimetype": "text/x-python",
   "name": "python",
   "nbconvert_exporter": "python",
   "pygments_lexer": "ipython3",
   "version": "3.8.8"
  }
 },
 "nbformat": 4,
 "nbformat_minor": 5
}
