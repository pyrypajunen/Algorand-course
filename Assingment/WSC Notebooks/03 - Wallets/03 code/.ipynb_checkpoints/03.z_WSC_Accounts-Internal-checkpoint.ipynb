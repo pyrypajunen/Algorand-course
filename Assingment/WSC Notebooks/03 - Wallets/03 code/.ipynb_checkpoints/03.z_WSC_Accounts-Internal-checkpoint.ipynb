{
 "cells": [
  {
   "cell_type": "markdown",
   "metadata": {},
   "source": [
    "## Create internal vanity accounts\n",
    "#### 03.z Winter School on Smart Contracts\n",
    "##### Peter Gruber (peter.gruber@usi.ch)\n",
    "2022-01-13"
   ]
  },
  {
   "cell_type": "markdown",
   "metadata": {},
   "source": [
    "## Setup"
   ]
  },
  {
   "cell_type": "code",
   "execution_count": 3,
   "metadata": {},
   "outputs": [],
   "source": [
    "from algosdk import account, mnemonic\n",
    "\n",
    "def generate_account_dict():\n",
    "    from algosdk import account, mnemonic\n",
    "    private_key = account.generate_account()[0]    # need [0], because generate_account() returns a list\n",
    "    acc = {}\n",
    "    acc['public'] = account.address_from_private_key(private_key)\n",
    "    acc['private'] = private_key\n",
    "    acc['mnemonic'] = mnemonic.from_private_key(private_key)\n",
    "    return acc"
   ]
  },
  {
   "cell_type": "markdown",
   "metadata": {},
   "source": [
    "## Can you choose your Algorand Address?\n",
    "* Not really, the address is the Hash of the private key\n",
    "* **BUT**: we try realy many private keys until we find a match"
   ]
  },
  {
   "cell_type": "code",
   "execution_count": null,
   "metadata": {},
   "outputs": [],
   "source": [
    "import time\n",
    "import numpy as np\n",
    "initials = [\"ALICE\",\"BOB23\", \"CHARL\", \"DINAA\", \"WSC23\"]\n",
    "acclist = [ [] ]*len(initials)\n",
    "accmiss = [True]*len(initials)\n",
    "while  any(accmiss):\n",
    "    acc = generate_account_dict()\n",
    "    while (not any([acc['public'].startswith(ini) for ini in initials])):\n",
    "        acc = generate_account_dict()\n",
    "    found = [acc['public'].startswith(ini) for ini in initials]\n",
    "    pos = found.index(True)\n",
    "    accmiss[pos] = False\n",
    "    acclist[pos] = acc"
   ]
  },
  {
   "cell_type": "code",
   "execution_count": 46,
   "metadata": {},
   "outputs": [
    {
     "data": {
      "text/plain": [
       "[{'public': 'ALIC2RX2M5K7KOPETVHKTGI5UPDFPVJVCHTFDLBSWB6D4KISV4COW2MWDQ',\n",
       "  'private': 'EQYExHCiMD7u4EbuJaCFSqre0IxuBGZhV/4C7ieNBygC0C1G+mdV9TnknU6pmR2jxlfVNRHmUawysHw+KRKvBA==',\n",
       "  'mnemonic': 'season avoid ginger check genuine moon alter eight saddle letter drift pigeon run crouch inner afford coast frown left then exist today dizzy ability idle'},\n",
       " {'public': 'BOBBK4J3WJPHGLIIFRCM3X5B56AJTWISF3NFG2T6ZSGLPG6UHSQ7JUNGF4',\n",
       "  'private': '7uq5p+0eB+M2kVtzXfeu63Bt8xkGmZ96I5icyQnperULghVxO7Jecy0ILETN36HvgJnZEi7aU2p+zIy3m9Q8oQ==',\n",
       "  'mnemonic': 'fruit tray stable uphold athlete rhythm meadow fortune purpose talent student attitude sustain lamp cotton october fault mistake equal oil bean ripple profit absent volume'},\n",
       " {'public': 'CHAR3DQSLDIAEX2KYDTHXV7HATM2OVRN2I55HO2V36GSPBBKDPKD4JKPAU',\n",
       "  'private': '4qkgXskk18vQsXIxbWOcLgukOONa3e9v02HvS/tC6LQRwR2OEljQAl9KwOZ71+cE2adWLdI707tV340nhCob1A==',\n",
       "  'mnemonic': 'detail live pyramid erode purity cream model increase plate misery evolve real elite soda strike tail worth ethics rail same walk awful point absent betray'},\n",
       " {'public': 'DINANYWJFVCSLQL4FVFGMYFASZ36A5CSYH3PXYCSVAHWCHTSC2QEDA3MO4',\n",
       "  'private': 'JBFDKI+q5vhgGmjWgL9pq93OzGuUoCvGA4Hz7edU7ioaGgbiyS1FJcF8LUpmYKCWd+B0UsH2++BSqA9hHnIWoA==',\n",
       "  'mnemonic': 'cause arrange neither pottery snap dilemma spread gym bracket wrap regular survey oval veteran person party shell audit scene tennis sound news first ability wrap'},\n",
       " {'public': 'WSCWUO6Z7L4KSG64EYY4ANWLCQY2KX3OPZHZKEETMY7FSHZUK3JRUHV6JM',\n",
       "  'private': 'rIVyhK4upFJiTh9EzlY20kEClBzXyzkf8A8S5xWl+Fq0hWo72fr4qRvcJjHANssUMaVfbn5PlRCTZj5ZHzRW0w==',\n",
       "  'mnemonic': 'remain skate drama turtle embark net indoor butter silk forest brass brush afraid celery rib slim transfer scatter among illness cloth citizen style able dove'}]"
      ]
     },
     "execution_count": 46,
     "metadata": {},
     "output_type": "execute_result"
    }
   ],
   "source": [
    "acclist"
   ]
  },
  {
   "cell_type": "code",
   "execution_count": null,
   "metadata": {},
   "outputs": [],
   "source": []
  }
 ],
 "metadata": {
  "kernelspec": {
   "display_name": "Python 3 (ipykernel)",
   "language": "python",
   "name": "python3"
  },
  "language_info": {
   "codemirror_mode": {
    "name": "ipython",
    "version": 3
   },
   "file_extension": ".py",
   "mimetype": "text/x-python",
   "name": "python",
   "nbconvert_exporter": "python",
   "pygments_lexer": "ipython3",
   "version": "3.9.13"
  }
 },
 "nbformat": 4,
 "nbformat_minor": 4
}
