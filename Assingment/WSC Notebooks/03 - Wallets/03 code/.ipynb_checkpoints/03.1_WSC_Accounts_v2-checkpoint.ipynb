{
 "cells": [
  {
   "cell_type": "markdown",
   "metadata": {},
   "source": [
    "## Set up an account\n",
    "#### 03.1 Winter School on Smart Contracts\n",
    "##### Peter Gruber (peter.gruber@usi.ch)\n",
    "2021-11-28\n",
    "\n",
    "* Create accounts"
   ]
  },
  {
   "cell_type": "markdown",
   "metadata": {},
   "source": [
    "### Install Algorand sdk\n",
    "Use menu **Kernel/Restart Kernel** afterwards"
   ]
  },
  {
   "cell_type": "code",
   "execution_count": 1,
   "metadata": {},
   "outputs": [
    {
     "name": "stdout",
     "output_type": "stream",
     "text": [
      "Requirement already satisfied: py-algorand-sdk in /opt/anaconda3/lib/python3.7/site-packages (1.9.0)\n",
      "Requirement already satisfied: msgpack in /opt/anaconda3/lib/python3.7/site-packages (from py-algorand-sdk) (0.6.1)\n",
      "Requirement already satisfied: pycryptodomex>=3.6.0 in /opt/anaconda3/lib/python3.7/site-packages (from py-algorand-sdk) (3.14.1)\n",
      "Requirement already satisfied: pynacl in /opt/anaconda3/lib/python3.7/site-packages (from py-algorand-sdk) (1.5.0)\n",
      "Requirement already satisfied: cffi>=1.4.1 in /opt/anaconda3/lib/python3.7/site-packages (from pynacl->py-algorand-sdk) (1.14.0)\n",
      "Requirement already satisfied: pycparser in /opt/anaconda3/lib/python3.7/site-packages (from cffi>=1.4.1->pynacl->py-algorand-sdk) (2.19)\n"
     ]
    }
   ],
   "source": [
    "# Run this only once, then comment out\n",
    "!pip install py-algorand-sdk"
   ]
  },
  {
   "cell_type": "code",
   "execution_count": 2,
   "metadata": {},
   "outputs": [],
   "source": [
    "# What to do if this does not work\n",
    "#!pip install --upgrade pip\n",
    "#!pip install --upgrade pip setuptools wheel"
   ]
  },
  {
   "cell_type": "markdown",
   "metadata": {},
   "source": [
    "### Create a key pair and menemonic locally\n",
    "These commands create a random private key and provide the according public key and the mnemonic.<br>\n",
    "The keys only exist on your computer. We do not (yet) interact with the blockchain."
   ]
  },
  {
   "cell_type": "code",
   "execution_count": 3,
   "metadata": {},
   "outputs": [],
   "source": [
    "from algosdk import account, mnemonic"
   ]
  },
  {
   "cell_type": "markdown",
   "metadata": {},
   "source": [
    "#### Random account generation\n",
    "Function `account.generate_account()` produces a pair of public and private keys"
   ]
  },
  {
   "cell_type": "code",
   "execution_count": 4,
   "metadata": {},
   "outputs": [
    {
     "data": {
      "text/plain": [
       "('/iXZFBmsUa3liprxTpy34xP3Hhvy7oVfP5OIeQl9Fqg9tVksw/bUG9F/eClptEfgR0BNaqqX2ir1vW0tTHoIbw==',\n",
       " 'HW2VSLGD63KBXUL7PAUWTNCH4BDUATLKVKL5UKXVXVWS2TD2BBXWBYPAKA')"
      ]
     },
     "execution_count": 4,
     "metadata": {},
     "output_type": "execute_result"
    }
   ],
   "source": [
    "account.generate_account()"
   ]
  },
  {
   "cell_type": "markdown",
   "metadata": {},
   "source": [
    "**EXERCISE:** Run the above cell several times"
   ]
  },
  {
   "cell_type": "markdown",
   "metadata": {},
   "source": [
    "#### Step 1: Create new private key\n",
    "Add index `[0]` to obtain only the private key"
   ]
  },
  {
   "cell_type": "code",
   "execution_count": 5,
   "metadata": {},
   "outputs": [
    {
     "name": "stdout",
     "output_type": "stream",
     "text": [
      "I6fxEZVpOYOEArj/1TYU6UkuJ3b1l2liWXD1IWxuCvTVoxY2hvprXTQ/oeTVXSl0ysuAjrRTsbXWoLYcq2D04g==\n"
     ]
    }
   ],
   "source": [
    "private_key=account.generate_account()[0]             # Why the [0]? Because generate_account() returns a list!\n",
    "print(private_key)"
   ]
  },
  {
   "cell_type": "markdown",
   "metadata": {},
   "source": [
    "#### Step 2: Private key $\\leftrightarrow$ mnemonic"
   ]
  },
  {
   "cell_type": "code",
   "execution_count": 6,
   "metadata": {},
   "outputs": [
    {
     "name": "stdout",
     "output_type": "stream",
     "text": [
      "tongue shoot material off index camp before retreat say swap meat ozone frame mean produce obey essay grain return butter success oppose park abstract virtual\n"
     ]
    }
   ],
   "source": [
    "passphrase = mnemonic.from_private_key(private_key)\n",
    "print(passphrase)"
   ]
  },
  {
   "cell_type": "code",
   "execution_count": 7,
   "metadata": {},
   "outputs": [
    {
     "name": "stdout",
     "output_type": "stream",
     "text": [
      "I6fxEZVpOYOEArj/1TYU6UkuJ3b1l2liWXD1IWxuCvTVoxY2hvprXTQ/oeTVXSl0ysuAjrRTsbXWoLYcq2D04g==\n"
     ]
    }
   ],
   "source": [
    "# Quick check: do we get back from the menmonic to the private key?\n",
    "private_key = mnemonic.to_private_key(passphrase)               \n",
    "print(private_key)                                         # Yes!! Same as above!"
   ]
  },
  {
   "cell_type": "markdown",
   "metadata": {},
   "source": [
    "#### Step 3: private key $\\rightarrow$ public addres\n",
    "Alternatively menomic $\\rightarrow$ public address"
   ]
  },
  {
   "cell_type": "code",
   "execution_count": 8,
   "metadata": {},
   "outputs": [
    {
     "name": "stdout",
     "output_type": "stream",
     "text": [
      "2WRRMNUG7JVV2NB7UHSNKXJJOTFMXAEOWRJ3DNOWUC3BZK3A6TRMTEYFNM\n"
     ]
    }
   ],
   "source": [
    "public_address = account.address_from_private_key(private_key)\n",
    "print(public_address)"
   ]
  },
  {
   "cell_type": "code",
   "execution_count": 9,
   "metadata": {},
   "outputs": [
    {
     "data": {
      "text/plain": [
       "'2WRRMNUG7JVV2NB7UHSNKXJJOTFMXAEOWRJ3DNOWUC3BZK3A6TRMTEYFNM'"
      ]
     },
     "execution_count": 9,
     "metadata": {},
     "output_type": "execute_result"
    }
   ],
   "source": [
    "mnemonic.to_public_key(passphrase)                # same"
   ]
  },
  {
   "cell_type": "markdown",
   "metadata": {},
   "source": [
    "#### Step 4\n",
    "There is no step 4! We can not obtain the mnemonic or the private key from the public key"
   ]
  },
  {
   "cell_type": "markdown",
   "metadata": {},
   "source": [
    "### Account dictionaries\n",
    "* Highly useful way to organize account data"
   ]
  },
  {
   "cell_type": "code",
   "execution_count": 10,
   "metadata": {},
   "outputs": [
    {
     "data": {
      "text/plain": [
       "{'public': '2WRRMNUG7JVV2NB7UHSNKXJJOTFMXAEOWRJ3DNOWUC3BZK3A6TRMTEYFNM',\n",
       " 'private': 'I6fxEZVpOYOEArj/1TYU6UkuJ3b1l2liWXD1IWxuCvTVoxY2hvprXTQ/oeTVXSl0ysuAjrRTsbXWoLYcq2D04g==',\n",
       " 'passpharse': 'tongue shoot material off index camp before retreat say swap meat ozone frame mean produce obey essay grain return butter success oppose park abstract virtual'}"
      ]
     },
     "execution_count": 10,
     "metadata": {},
     "output_type": "execute_result"
    }
   ],
   "source": [
    "Alice = {}      # Empty dictionary\n",
    "Alice['public'] = public_address\n",
    "Alice['private'] = private_key\n",
    "Alice['passpharse'] = passphrase\n",
    "Alice "
   ]
  },
  {
   "cell_type": "markdown",
   "metadata": {},
   "source": [
    "### Function for account creation\n",
    "Useful for automatization"
   ]
  },
  {
   "cell_type": "code",
   "execution_count": 11,
   "metadata": {},
   "outputs": [],
   "source": [
    "def generate_account_dict():\n",
    "    from algosdk import account, mnemonic\n",
    "    private_key = account.generate_account()[0]    # need [0], because generate_account() returns a list\n",
    "    acc = {}\n",
    "    acc['public'] = account.address_from_private_key(private_key)\n",
    "    acc['private'] = private_key\n",
    "    acc['mnemonic'] = mnemonic.from_private_key(private_key)\n",
    "    return acc"
   ]
  },
  {
   "cell_type": "code",
   "execution_count": 12,
   "metadata": {},
   "outputs": [
    {
     "data": {
      "text/plain": [
       "{'public': 'ASDDLWZQF5REAEV267SS65IGKVP7LZLE7CEWXU3CEP66CHF4KFUMHS5JDE',\n",
       " 'private': 'JbXUpH+F9WivdT0T4mgNwzP/auEn65HHfSC03L0g8VMEhjXbMC9iQBK69+UvdQZVX/XlZPiJa9NiI/3hHLxRaA==',\n",
       " 'mnemonic': 'pigeon fan sponsor fitness twelve surface pulp dice draw phone mammal destroy wrist follow disease twenty vendor warfare awake slender knife else panel able swear'}"
      ]
     },
     "execution_count": 12,
     "metadata": {},
     "output_type": "execute_result"
    }
   ],
   "source": [
    "Bob = generate_account_dict()\n",
    "Bob"
   ]
  },
  {
   "cell_type": "markdown",
   "metadata": {},
   "source": [
    "## QR codes"
   ]
  },
  {
   "cell_type": "code",
   "execution_count": 13,
   "metadata": {},
   "outputs": [
    {
     "name": "stdout",
     "output_type": "stream",
     "text": [
      "Collecting qrcode\n",
      "  Downloading qrcode-7.3.1.tar.gz (43 kB)\n",
      "\u001b[2K     \u001b[90m━━━━━━━━━━━━━━━━━━━━━━━━━━━━━━━━━━━━━━━━\u001b[0m \u001b[32m43.5/43.5 KB\u001b[0m \u001b[31m1.8 MB/s\u001b[0m eta \u001b[36m0:00:00\u001b[0m\n",
      "\u001b[?25h  Preparing metadata (setup.py) ... \u001b[?25ldone\n",
      "\u001b[?25hBuilding wheels for collected packages: qrcode\n",
      "  Building wheel for qrcode (setup.py) ... \u001b[?25ldone\n",
      "\u001b[?25h  Created wheel for qrcode: filename=qrcode-7.3.1-py3-none-any.whl size=40401 sha256=847ee59412fcf7c477b9e0cacee6f3e622bf738d6dc32317da43eb64f266f2a8\n",
      "  Stored in directory: /Users/pgruber/Library/Caches/pip/wheels/93/d7/39/a4111be2cfb8e679938aa671a37888b6afb1f9e7d748e94492\n",
      "Successfully built qrcode\n",
      "Installing collected packages: qrcode\n",
      "Successfully installed qrcode-7.3.1\n"
     ]
    }
   ],
   "source": [
    "# Installing the qrcode package. Run this once, then comment out\n",
    "!pip install qrcode"
   ]
  },
  {
   "cell_type": "markdown",
   "metadata": {},
   "source": [
    "#### Quick introduction to QR codes"
   ]
  },
  {
   "cell_type": "code",
   "execution_count": 14,
   "metadata": {},
   "outputs": [],
   "source": [
    "import qrcode, urllib"
   ]
  },
  {
   "cell_type": "code",
   "execution_count": 15,
   "metadata": {},
   "outputs": [],
   "source": [
    "qr = qrcode.QRCode()                         # create empty QR code\n",
    "qr.add_data('https://www.usi.ch/wsc')        # add data\n",
    "qr.make(fit=True)                            # create code\n",
    "img = qr.make_image(fill_color=\"black\", back_color=\"white\")"
   ]
  },
  {
   "cell_type": "code",
   "execution_count": 16,
   "metadata": {},
   "outputs": [
    {
     "data": {
      "image/png": "[encoded data removed]",
      "text/plain": [
       "<qrcode.image.pil.PilImage at 0x7f82a09ba290>"
      ]
     },
     "execution_count": 16,
     "metadata": {},
     "output_type": "execute_result"
    }
   ],
   "source": [
    "# Try it\n",
    "img"
   ]
  },
  {
   "cell_type": "markdown",
   "metadata": {},
   "source": [
    "## Payment QR code\n",
    "* Need to create a specific URL for the payment\n",
    "* For details, see https://developer.algorand.org/docs/get-details/transactions/payment_prompts/"
   ]
  },
  {
   "cell_type": "code",
   "execution_count": 17,
   "metadata": {},
   "outputs": [
    {
     "name": "stdout",
     "output_type": "stream",
     "text": [
      "algorand://2WRRMNUG7JVV2NB7UHSNKXJJOTFMXAEOWRJ3DNOWUC3BZK3A6TRMTEYFNM?amount=1200000&note=Thanks%20for%20the%20coffee\n"
     ]
    }
   ],
   "source": [
    "amount = 1.2                                                # in algos, will be multiplied by 1million below\n",
    "amount_microalgo = str(int(amount*1e6))                     # in millialgos, must be integer\n",
    "note_encoded   =  urllib.parse.quote('Thanks for the coffee')       # encode spaces etc\n",
    "\n",
    "recipient = Alice['public']\n",
    "\n",
    "# Specific URL structure\n",
    "url = 'algorand://' + recipient + '?amount=' + amount_microalgo + '&note=' + note_encoded\n",
    "print(url)"
   ]
  },
  {
   "cell_type": "markdown",
   "metadata": {},
   "source": [
    "Now create a QR code for Alice"
   ]
  },
  {
   "cell_type": "code",
   "execution_count": 18,
   "metadata": {},
   "outputs": [
    {
     "data": {
      "image/png": "[encoded data removed]",
      "text/plain": [
       "<qrcode.image.pil.PilImage at 0x7f82a0a0d6d0>"
      ]
     },
     "execution_count": 18,
     "metadata": {},
     "output_type": "execute_result"
    }
   ],
   "source": [
    "qr = qrcode.QRCode(box_size=6)                    # box_size=6 makes the QR code smaller\n",
    "qr.add_data(url)\n",
    "qr.make(fit=True)\n",
    "img = qr.make_image()\n",
    "img"
   ]
  },
  {
   "cell_type": "markdown",
   "metadata": {},
   "source": [
    "### Three ways to scan the QR code\n",
    "- Scan with iPhone / Android Camera app $\\rightarrow$ will open Algorand wallet app\n",
    "- Scan with general QR scanner in Algorand wallet (top) $\\rightarrow$ have to choose which account, which coin\n",
    "- Start a payment manually and then scan address "
   ]
  },
  {
   "cell_type": "markdown",
   "metadata": {},
   "source": [
    "## QR code for installing an account"
   ]
  },
  {
   "cell_type": "code",
   "execution_count": null,
   "metadata": {},
   "outputs": [],
   "source": [
    "url = 'algorand://' + recipient + '?amount=' + amount_microalgo + '&note=' + note_encoded\n",
    "private_key=account.generate_account()[0]             # Why the [0]? Because generate_account() returns a list!\n",
    "passphrase = mnemonic.from_private_key(private_key)\n",
    "url = {\"mnemonic\": passphrase}\n",
    "\n",
    "qr = qrcode.QRCode(box_size=6)                    # box_size=6 makes the QR code smaller\n",
    "qr.add_data(url)\n",
    "qr.make(fit=True)\n",
    "img = qr.make_image()\n",
    "img\n"
   ]
  },
  {
   "cell_type": "markdown",
   "metadata": {},
   "source": [
    "# Things that can and will go wrong\n",
    "* If you loose private key and mnemonic, the money is gone\n",
    "* Just because it is a QR code does not mean it is trustworthy"
   ]
  },
  {
   "cell_type": "markdown",
   "metadata": {},
   "source": [
    "# Appendix: Playing with QR codes\n",
    "* Documentation: https://pypi.org/project/qrcode/\n",
    "* Error correction levels:\n",
    "    * ERROR_CORRECT_L (can correct 7%)\n",
    "    * ERROR_CORRECT_M (15%)\n",
    "    * ERROR_CORRECT_Q (25%)\n",
    "    * ERROR_CORRECT_H (30%) <-- most robust code\n",
    "* Colors are CSS colors https://www.w3schools.com/cssref/css_colors.asp"
   ]
  },
  {
   "cell_type": "code",
   "execution_count": 19,
   "metadata": {},
   "outputs": [
    {
     "data": {
      "image/png": "[encoded data removed]",
      "text/plain": [
       "<qrcode.image.pil.PilImage at 0x7f82a0a296d0>"
      ]
     },
     "execution_count": 19,
     "metadata": {},
     "output_type": "execute_result"
    }
   ],
   "source": [
    "qr = qrcode.QRCode(error_correction=qrcode.constants.ERROR_CORRECT_L, \n",
    "                   box_size=10,\n",
    "                   border=4)\n",
    "qr.add_data(url)\n",
    "qr.make(fit=True)\n",
    "img = qr.make_image(fill_color=\"darkblue\", back_color=\"azure\")\n",
    "img"
   ]
  },
  {
   "cell_type": "markdown",
   "metadata": {},
   "source": [
    "**EXERCISE** Create a QR code with white color on a black background and test it with your mobile phone."
   ]
  },
  {
   "cell_type": "markdown",
   "metadata": {},
   "source": [
    "# Appendix: can you choose your Algorand Address?\n",
    "* Not really, the address is the Hash of the private key\n",
    "* **BUT**: we try realy many private keys until we find a match"
   ]
  },
  {
   "cell_type": "markdown",
   "metadata": {},
   "source": [
    "#### Trying to obtain an Address that starts with your initials\n",
    "* Let us try to find an account for *Alice*, that starts with `AL`"
   ]
  },
  {
   "cell_type": "code",
   "execution_count": 22,
   "metadata": {},
   "outputs": [],
   "source": [
    "initials = \"AL\"\n",
    "acc = generate_account_dict()\n",
    "while (not acc['public'].startswith(initials)):\n",
    "    acc = generate_account_dict()\n"
   ]
  },
  {
   "cell_type": "code",
   "execution_count": 23,
   "metadata": {},
   "outputs": [
    {
     "data": {
      "text/plain": [
       "{'public': 'ALXARUAN7524HFHRQTSB66XK23GZKUAOITMDPV4N2AGLKM5MWFPKX6AFHA',\n",
       " 'private': 'PG/JFH+sM0CkS41YF8YJzCKrh7xD2IupejPLAx9e0kQC7gjQDf91w5TxhOQfeurWzZVQDkTYN9eN0Ay1M6yxXg==',\n",
       " 'mnemonic': 'travel certain media side guard avoid frog minute twelve blue agent coast film capable bulb success cousin turkey often device dignity nurse charge able chapter'}"
      ]
     },
     "execution_count": 23,
     "metadata": {},
     "output_type": "execute_result"
    }
   ],
   "source": [
    "acc"
   ]
  },
  {
   "cell_type": "markdown",
   "metadata": {},
   "source": [
    "#### Exercise\n",
    "* Create an account with your initials\n",
    "* Try to add one by one letter to the initials\n",
    "* Discuss the claims about safety on this page: https://algovanity.com"
   ]
  }
 ],
 "metadata": {
  "kernelspec": {
   "display_name": "Python 3",
   "language": "python",
   "name": "python3"
  },
  "language_info": {
   "codemirror_mode": {
    "name": "ipython",
    "version": 3
   },
   "file_extension": ".py",
   "mimetype": "text/x-python",
   "name": "python",
   "nbconvert_exporter": "python",
   "pygments_lexer": "ipython3",
   "version": "3.8.8"
  }
 },
 "nbformat": 4,
 "nbformat_minor": 4
}
