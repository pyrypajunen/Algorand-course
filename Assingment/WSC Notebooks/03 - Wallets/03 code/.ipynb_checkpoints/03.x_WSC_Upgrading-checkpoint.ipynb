{
 "cells": [
  {
   "cell_type": "markdown",
   "metadata": {},
   "source": [
    "# Upgrading and Troublshooting\n",
    "#### 03.x Writing Smart Contracts\n",
    "##### Peter Gruber (peter.gruber@usi.ch)\n",
    "2022-03-11\n",
    "\n",
    "* Upgrade PyTeal and the Algorand SDK"
   ]
  },
  {
   "cell_type": "markdown",
   "metadata": {},
   "source": [
    "## For later use\n",
    "* This notebook is part of chapter 3 (\"Accounts\") for reference only\n",
    "* Use it only when instructed **or** if you are sure you already have an old version of the Python Algorand software installed and you want to upgrade it"
   ]
  },
  {
   "cell_type": "markdown",
   "metadata": {},
   "source": [
    "## Identify your currently installed versions\n",
    "The current release versions can be found here (see right sidebar below \"releases\")\n",
    "\n",
    "* For the Algorand sdk https://github.com/algorand/py-algorand-sdk\n",
    "* For PyTEAL https://github.com/algorand/pyteal"
   ]
  },
  {
   "cell_type": "code",
   "execution_count": 14,
   "metadata": {},
   "outputs": [
    {
     "name": "stdout",
     "output_type": "stream",
     "text": [
      "Name: py-algorand-sdk\n",
      "Version: 1.10.0\n",
      "Summary: Algorand SDK in Python\n",
      "Home-page: UNKNOWN\n",
      "Author: Algorand\n",
      "Author-email: pypiservice@algorand.com\n",
      "License: MIT\n",
      "Location: /Users/pgruber/opt/anaconda3/lib/python3.8/site-packages\n",
      "Requires: pynacl, pycryptodomex, msgpack\n",
      "Required-by: tinyman-py-sdk, pyteal\n"
     ]
    }
   ],
   "source": [
    "!pip show py-algorand-sdk"
   ]
  },
  {
   "cell_type": "code",
   "execution_count": 15,
   "metadata": {},
   "outputs": [
    {
     "name": "stdout",
     "output_type": "stream",
     "text": [
      "Name: pyteal\n",
      "Version: 0.10.1\n",
      "Summary: Algorand Smart Contracts in Python\n",
      "Home-page: https://github.com/algorand/pyteal\n",
      "Author: Algorand\n",
      "Author-email: pypiservice@algorand.com\n",
      "License: UNKNOWN\n",
      "Location: /Users/pgruber/opt/anaconda3/lib/python3.8/site-packages\n",
      "Requires: py-algorand-sdk\n",
      "Required-by: \n"
     ]
    }
   ],
   "source": [
    "!pip show pyteal"
   ]
  },
  {
   "cell_type": "markdown",
   "metadata": {},
   "source": [
    "## Force upgrade\n",
    "* Forces the Python package manager (pip) to upgrade the Algorand packes to the latest versions"
   ]
  },
  {
   "cell_type": "code",
   "execution_count": null,
   "metadata": {},
   "outputs": [],
   "source": [
    "!pip install --upgrade py-algorand-sdk"
   ]
  },
  {
   "cell_type": "code",
   "execution_count": null,
   "metadata": {},
   "outputs": [],
   "source": [
    "!pip install --upgrade pyteal"
   ]
  },
  {
   "cell_type": "markdown",
   "metadata": {},
   "source": [
    "## Uninstall\n",
    "* In really extreme cases, it may be useful to uninstall and re-install"
   ]
  },
  {
   "cell_type": "code",
   "execution_count": null,
   "metadata": {},
   "outputs": [],
   "source": [
    "!pip uninstall py-algorand-sdk"
   ]
  },
  {
   "cell_type": "code",
   "execution_count": null,
   "metadata": {},
   "outputs": [],
   "source": [
    "!pip uninstall pyteal"
   ]
  }
 ],
 "metadata": {
  "kernelspec": {
   "display_name": "Python 3",
   "language": "python",
   "name": "python3"
  },
  "language_info": {
   "codemirror_mode": {
    "name": "ipython",
    "version": 3
   },
   "file_extension": ".py",
   "mimetype": "text/x-python",
   "name": "python",
   "nbconvert_exporter": "python",
   "pygments_lexer": "ipython3",
   "version": "3.7.6"
  }
 },
 "nbformat": 4,
 "nbformat_minor": 5
}
