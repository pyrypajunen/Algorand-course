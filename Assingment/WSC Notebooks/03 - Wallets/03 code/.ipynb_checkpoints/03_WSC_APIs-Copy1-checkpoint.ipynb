{
 "cells": [
  {
   "cell_type": "markdown",
   "metadata": {},
   "source": [
    "### Access the Algorand Blockchain\n",
    "#### Winter School on Smart Contracts\n",
    "##### Peter Gruber (peter.gruber@usi.ch)\n",
    "2021-11-28\n",
    "\n",
    "TODO: save credentials\n"
   ]
  },
  {
   "cell_type": "markdown",
   "metadata": {},
   "source": [
    "### Install Algorand sdk\n",
    "Use menu **Kernel/Restart Kernel** afterwards"
   ]
  },
  {
   "cell_type": "code",
   "execution_count": null,
   "metadata": {},
   "outputs": [],
   "source": [
    "# TODO: manage the pip install better\n",
    "pip install py-algorand-sdk"
   ]
  },
  {
   "cell_type": "markdown",
   "metadata": {},
   "source": [
    "### Create a function that generates a new Algorand account"
   ]
  },
  {
   "cell_type": "code",
   "execution_count": null,
   "metadata": {},
   "outputs": [],
   "source": [
    "from algosdk import account, mnemonic\n",
    "\n",
    "def generate_new_account():\n",
    "    private_key, public_address = account.generate_account()\n",
    "    passphrase = mnemonic.from_private_key(private_key)\n",
    "    #mprint(\"Address: {}\\nPassphrase: \\\"{}\\\"\".format(public_address, passphrase))\n",
    "    return passphrase"
   ]
  },
  {
   "cell_type": "markdown",
   "metadata": {},
   "source": [
    "### Create three accounts and save the keys in a dictionary"
   ]
  },
  {
   "cell_type": "code",
   "execution_count": null,
   "metadata": {},
   "outputs": [],
   "source": [
    "accounts = {}\n",
    "for i in range(3):\n",
    "    passphrase = generate_new_account()\n",
    "    accounts[i] = {}\n",
    "    accounts[i]['public'] = mnemonic.to_public_key(passphrase)\n",
    "    accounts[i]['private'] = mnemonic.to_private_key(passphrase)"
   ]
  },
  {
   "cell_type": "markdown",
   "metadata": {},
   "source": [
    "### These are now your accounts!"
   ]
  },
  {
   "cell_type": "code",
   "execution_count": null,
   "metadata": {},
   "outputs": [],
   "source": [
    "accounts[0]"
   ]
  },
  {
   "cell_type": "code",
   "execution_count": null,
   "metadata": {},
   "outputs": [],
   "source": [
    "print(accounts[0][\"public\"])\n",
    "print(accounts[1][\"public\"])\n",
    "print(accounts[2][\"public\"])"
   ]
  },
  {
   "cell_type": "markdown",
   "metadata": {},
   "source": [
    "### Does this account exist for real?\n",
    "- Go to https://algoexplorer.io\n",
    "- Insert your address\n",
    "- ... It's a real address that works both in the main-net and test-net!"
   ]
  },
  {
   "cell_type": "markdown",
   "metadata": {},
   "source": [
    "### Let's get some (testnet) Algos for the first account (accout 0)\n",
    "- https://bank.testnet.algorand.network/\n",
    "- Insert the address\n",
    "- ... Can you tell how many test algos you have received?"
   ]
  },
  {
   "cell_type": "markdown",
   "metadata": {},
   "source": [
    "### How to connect to the Algorand Blockchain algorithmically\n",
    "- Which options do we have? https://developer.algorand.org/docs/build-apps/setup/#how-do-i-obtain-an-algod-address-and-token\n",
    "  - Third party API\n",
    "  - Set up your own service using Docker\n",
    "  - Set up your own server\n",
    "- One Third Party: Purestake https://www.purestake.com/blog/algorand-rest-api-purestake/\n",
    "- Optional: How can I check my connection is working? # https://developer.algorand.org/tutorials/creating-python-transaction-purestake-api/\n",
    "\n",
    "PureStake's API service makes it easy to quickly get up-and-running on the Algorand network. The service builds upon PureStake’s existing infrastructure platform to provide developers with easy-to-use access to native Algorand REST APIs.\n",
    "\n",
    "#### How to get your algod_token\n",
    "- Go to https://developer.purestake.io/\n",
    "- Sign-up\n",
    "- Copy your API Key (That's your algod_token).\n",
    "- ... From here you can also check how many calls you've made!"
   ]
  },
  {
   "cell_type": "code",
   "execution_count": null,
   "metadata": {},
   "outputs": [],
   "source": [
    "import json\n",
    "from algosdk.v2client import algod\n",
    "from algosdk.future.transaction import AssetConfigTxn, AssetTransferTxn, AssetFreezeTxn\n",
    "\n",
    "# Insert your api token here\n",
    "algod_token   = ''   # Delete\n",
    "algod_address = 'https://testnet-algorand.api.purestake.io/ps2'\n",
    "purestake_token = {'X-Api-key': 'oyeZBy77op4DFk7SxRaKgsgcqPDbvgH1Nh72vxo6'}\n",
    "\n",
    "# Initialize the algod client\n",
    "algod_client = algod.AlgodClient(algod_token=algod_token, algod_address=algod_address, headers=purestake_token)"
   ]
  },
  {
   "cell_type": "markdown",
   "metadata": {},
   "source": [
    "Now that we are connected, we can check some blockchain information directly from python\n",
    "- What's the last block?"
   ]
  },
  {
   "cell_type": "code",
   "execution_count": null,
   "metadata": {},
   "outputs": [],
   "source": [
    "last_block = algod_client.status()[\"last-round\"]\n",
    "print(f\"Last committed block is: {last_block}\")"
   ]
  },
  {
   "cell_type": "markdown",
   "metadata": {},
   "source": [
    "- How many algos does my first address own? (Take in consideration that algo has a 1e6 precision)"
   ]
  },
  {
   "cell_type": "code",
   "execution_count": null,
   "metadata": {},
   "outputs": [],
   "source": [
    "address        = accounts[0][\"public\"]\n",
    "algo_precision = 1e6\n",
    "algo_amount    = algod_client.account_info(address=accounts[0][\"public\"])[\"amount\"]/algo_precision\n",
    "print(f\"Address {address}: owns {algo_amount} test algos\")"
   ]
  },
  {
   "cell_type": "markdown",
   "metadata": {},
   "source": [
    "- What are the suggested parameters for a transaction (on the test network) ?"
   ]
  },
  {
   "cell_type": "code",
   "execution_count": null,
   "metadata": {},
   "outputs": [],
   "source": [
    "params = algod_client.suggested_params()\n",
    "print(json.dumps(vars(params), indent=4))"
   ]
  },
  {
   "cell_type": "markdown",
   "metadata": {},
   "source": [
    "Let's create a couple of functions:\n",
    "- `wait_for_confirmation` waits until the transaction is confirmed before proceeding\n",
    "- `print_created_asset` prints information on a specific asset\n",
    "- `print_asset_holding` prints information on the holdings of a specific asset for one account"
   ]
  },
  {
   "cell_type": "code",
   "execution_count": null,
   "metadata": {},
   "outputs": [],
   "source": [
    "def wait_for_confirmation(client, txid):\n",
    "    last_round = client.status().get('last-round')\n",
    "    txinfo = client.pending_transaction_info(txid)\n",
    "    while not (txinfo.get('confirmed-round') and txinfo.get('confirmed-round') > 0):\n",
    "        print(\"Waiting for confirmation\")\n",
    "        last_round += 1\n",
    "        client.status_after_block(last_round)\n",
    "        txinfo = client.pending_transaction_info(txid)\n",
    "    print(\"Transaction {} confirmed in round {}.\".format(txid, txinfo.get('confirmed-round')))\n",
    "    return txinfo\n",
    "\n",
    "def print_created_asset(algodclient, account, assetid):    \n",
    "    account_info = algodclient.account_info(account)\n",
    "    idx = 0;\n",
    "    for my_account_info in account_info['created-assets']:\n",
    "        scrutinized_asset = account_info['created-assets'][idx]\n",
    "        idx = idx + 1       \n",
    "        if (scrutinized_asset['index'] == assetid):\n",
    "            print(\"Asset ID: {}\".format(scrutinized_asset['index']))\n",
    "            print(json.dumps(my_account_info['params'], indent=4))\n",
    "            break\n",
    "\n",
    "def print_asset_holding(algodclient, account, assetid):\n",
    "    account_info = algodclient.account_info(account)\n",
    "    idx = 0\n",
    "    for my_account_info in account_info['assets']:\n",
    "        scrutinized_asset = account_info['assets'][idx]\n",
    "        idx = idx + 1        \n",
    "        if (scrutinized_asset['asset-id'] == assetid):\n",
    "            print(\"Asset ID: {}\".format(scrutinized_asset['asset-id']))\n",
    "            print(json.dumps(scrutinized_asset, indent=4))\n",
    "            break"
   ]
  },
  {
   "cell_type": "markdown",
   "metadata": {},
   "source": [
    "## Storing a message in the blockchain\n",
    "If you use a dictionary as a note, it will be clearly readeable on the blockchain. Otherwise, you'll need to encode the message."
   ]
  },
  {
   "cell_type": "code",
   "execution_count": null,
   "metadata": {},
   "outputs": [],
   "source": [
    "from algosdk.future.transaction import PaymentTxn\n",
    "import base64\n",
    "sender         =  accounts[0][\"public\"]\n",
    "private_sender =  accounts[0][\"private\"]\n",
    "receiver       =  accounts[0][\"public\"]\n",
    "my_note        = '{\"FirstName\":\"Paolo\", \"LastName\":\"Montemurro\", \"Course\": \"USI Digicamp Photoshop\"}'"
   ]
  },
  {
   "cell_type": "code",
   "execution_count": null,
   "metadata": {},
   "outputs": [],
   "source": [
    "def send_note(algod_client, sender, private, receiver, my_note):\n",
    "\n",
    "    params = algod_client.suggested_params()\n",
    "    note = my_note.encode() \n",
    "    unsigned_txn = PaymentTxn(sender, params, receiver, 0, None, note)\n",
    "\n",
    "    # sign transaction\n",
    "    signed_txn = unsigned_txn.sign(private)\n",
    "    \n",
    "    txid = algod_client.send_transaction(signed_txn)\n",
    "    print(\"Send transaction with txID: {}\".format(txid))\n",
    "\n",
    "    # wait for confirmation\n",
    "    try:\n",
    "        confirmed_txn = wait_for_confirmation(algod_client, txid)  \n",
    "    except Exception as err:\n",
    "        print(err)\n",
    "        return\n",
    "         \n",
    "    print(\"Transaction information: {}\".format(json.dumps(confirmed_txn, indent=2)))\n",
    "    print(\"Decoded note: {}\".format(base64.b64decode(confirmed_txn[\"txn\"][\"txn\"][\"note\"]).decode()))        "
   ]
  },
  {
   "cell_type": "code",
   "execution_count": null,
   "metadata": {},
   "outputs": [],
   "source": [
    "send_note(algod_client, sender, private_sender, receiver, my_note)"
   ]
  },
  {
   "cell_type": "code",
   "execution_count": null,
   "metadata": {},
   "outputs": [],
   "source": []
  }
 ],
 "metadata": {
  "kernelspec": {
   "display_name": "Python 3",
   "language": "python",
   "name": "python3"
  },
  "language_info": {
   "codemirror_mode": {
    "name": "ipython",
    "version": 3
   },
   "file_extension": ".py",
   "mimetype": "text/x-python",
   "name": "python",
   "nbconvert_exporter": "python",
   "pygments_lexer": "ipython3",
   "version": "3.8.8"
  }
 },
 "nbformat": 4,
 "nbformat_minor": 4
}
