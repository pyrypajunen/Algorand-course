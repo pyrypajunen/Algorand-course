{
 "cells": [
  {
   "cell_type": "markdown",
   "metadata": {},
   "source": [
    "## Create an account\n",
    "#### 03.1 Winter School on Smart Contracts\n",
    "##### Peter Gruber (peter.gruber@usi.ch)\n",
    "2021-11-28\n",
    "\n",
    "* Install Algorand Python SDK\n",
    "* Create accounts\n",
    "    * Mnemonic $\\leftrightarrow$ private key\n",
    "    * Private key $\\rightarrow$ public key\n",
    "* QR codes"
   ]
  },
  {
   "cell_type": "markdown",
   "metadata": {},
   "source": [
    "## Install Algorand sdk\n",
    "Use menu **Kernel/Restart Kernel** afterwards"
   ]
  },
  {
   "cell_type": "code",
   "execution_count": null,
   "metadata": {},
   "outputs": [],
   "source": [
    "# Run this only once, then comment out\n",
    "!pip install py-algorand-sdk"
   ]
  },
  {
   "cell_type": "code",
   "execution_count": null,
   "metadata": {},
   "outputs": [],
   "source": [
    "# What to do if this does not work\n",
    "#!pip install --upgrade pip\n",
    "#!pip install --upgrade pip setuptools wheel"
   ]
  },
  {
   "cell_type": "code",
   "execution_count": 1,
   "metadata": {},
   "outputs": [],
   "source": [
    "from algosdk import account, mnemonic"
   ]
  },
  {
   "cell_type": "markdown",
   "metadata": {},
   "source": [
    "### Create a key pair and menemonic locally\n",
    "\n",
    "`account.generate_account()` produces a pair of public and private keys\n",
    "\n",
    "* Create a random private key\n",
    "* Provide according mnemonic\n",
    "* Calcualte public address from private key\n",
    "\n",
    "**Note:** The keys only exist on your computer. We did not (yet) interact with the blockchain."
   ]
  },
  {
   "cell_type": "code",
   "execution_count": 2,
   "metadata": {},
   "outputs": [
    {
     "data": {
      "text/plain": [
       "('4nooUH89sxbiEp+3OuygO8raNOvGXhOfEKoySOMLyb4uFpd7AGCbUziDQM7l0cFWLM8sJHI003lQCCSq81xVCA==',\n",
       " 'FYLJO6YAMCNVGOEDIDHOLUOBKYWM6LBEOI2NG6KQBASKV424KUEOTRNE44')"
      ]
     },
     "execution_count": 2,
     "metadata": {},
     "output_type": "execute_result"
    }
   ],
   "source": [
    "account.generate_account()"
   ]
  },
  {
   "cell_type": "markdown",
   "metadata": {},
   "source": [
    "**EXERCISE:** Run the above cell several times"
   ]
  },
  {
   "cell_type": "markdown",
   "metadata": {},
   "source": [
    "#### Step 1: Obtain new private key\n",
    "Add index `[0]` to obtain only the private key"
   ]
  },
  {
   "cell_type": "code",
   "execution_count": 3,
   "metadata": {},
   "outputs": [
    {
     "name": "stdout",
     "output_type": "stream",
     "text": [
      "+9Ghc9e93rEL7krxYSZAgZIVA8iH6Fef4tHrw1AMZjTKgtXSgfCtvrxBWj1rXHxNoByjzCuG9NqSHFUavG9fcQ==\n"
     ]
    }
   ],
   "source": [
    "private_key=account.generate_account()[0]                 # Why the [0]? Because generate_account() returns a list!\n",
    "print(private_key)"
   ]
  },
  {
   "cell_type": "markdown",
   "metadata": {},
   "source": [
    "#### Step 2: Private key $\\leftrightarrow$ mnemonic"
   ]
  },
  {
   "cell_type": "code",
   "execution_count": 4,
   "metadata": {},
   "outputs": [
    {
     "name": "stdout",
     "output_type": "stream",
     "text": [
      "disorder mansion right talent runway unaware icon enough dilemma office parade chimney clinic absorb dinner trigger turtle media trophy dirt pave loan permit ability theory\n"
     ]
    }
   ],
   "source": [
    "passphrase = mnemonic.from_private_key(private_key)\n",
    "print(passphrase)"
   ]
  },
  {
   "cell_type": "code",
   "execution_count": 5,
   "metadata": {},
   "outputs": [
    {
     "name": "stdout",
     "output_type": "stream",
     "text": [
      "+9Ghc9e93rEL7krxYSZAgZIVA8iH6Fef4tHrw1AMZjTKgtXSgfCtvrxBWj1rXHxNoByjzCuG9NqSHFUavG9fcQ==\n"
     ]
    }
   ],
   "source": [
    "# Quick check: do we get back from the menmonic to the private key?\n",
    "private_key = mnemonic.to_private_key(passphrase)               \n",
    "print(private_key)                                         # Yes!! Same as above!"
   ]
  },
  {
   "cell_type": "markdown",
   "metadata": {},
   "source": [
    "#### Step 3: private key $\\rightarrow$ public addres\n",
    "Alternatively menomic $\\rightarrow$ public address"
   ]
  },
  {
   "cell_type": "code",
   "execution_count": 6,
   "metadata": {},
   "outputs": [
    {
     "name": "stdout",
     "output_type": "stream",
     "text": [
      "ZKBNLUUB6CW35PCBLI6WWXD4JWQBZI6MFODPJWUSDRKRVPDPL5YUPWCUWI\n"
     ]
    }
   ],
   "source": [
    "public_address = account.address_from_private_key(private_key)\n",
    "print(public_address)"
   ]
  },
  {
   "cell_type": "code",
   "execution_count": 7,
   "metadata": {},
   "outputs": [
    {
     "data": {
      "text/plain": [
       "'ZKBNLUUB6CW35PCBLI6WWXD4JWQBZI6MFODPJWUSDRKRVPDPL5YUPWCUWI'"
      ]
     },
     "execution_count": 7,
     "metadata": {},
     "output_type": "execute_result"
    }
   ],
   "source": [
    "mnemonic.to_public_key(passphrase)                # same"
   ]
  },
  {
   "cell_type": "markdown",
   "metadata": {},
   "source": [
    "#### Step 4\n",
    "There is no step 4! We can not obtain the mnemonic or the private key from the public key"
   ]
  },
  {
   "cell_type": "markdown",
   "metadata": {},
   "source": [
    "### Account dictionaries\n",
    "* Highly useful way to organize account data"
   ]
  },
  {
   "cell_type": "code",
   "execution_count": 8,
   "metadata": {},
   "outputs": [
    {
     "data": {
      "text/plain": [
       "{'public': 'ZKBNLUUB6CW35PCBLI6WWXD4JWQBZI6MFODPJWUSDRKRVPDPL5YUPWCUWI',\n",
       " 'private': '+9Ghc9e93rEL7krxYSZAgZIVA8iH6Fef4tHrw1AMZjTKgtXSgfCtvrxBWj1rXHxNoByjzCuG9NqSHFUavG9fcQ==',\n",
       " 'passpharse': 'disorder mansion right talent runway unaware icon enough dilemma office parade chimney clinic absorb dinner trigger turtle media trophy dirt pave loan permit ability theory'}"
      ]
     },
     "execution_count": 8,
     "metadata": {},
     "output_type": "execute_result"
    }
   ],
   "source": [
    "Alice = {}      # Empty dictionary\n",
    "Alice['public'] = public_address\n",
    "Alice['private'] = private_key\n",
    "Alice['passpharse'] = passphrase\n",
    "Alice "
   ]
  },
  {
   "cell_type": "markdown",
   "metadata": {},
   "source": [
    "### Function for account creation\n",
    "* Useful for automatization"
   ]
  },
  {
   "cell_type": "code",
   "execution_count": 2,
   "metadata": {},
   "outputs": [],
   "source": [
    "def generate_account_dict():\n",
    "    from algosdk import account, mnemonic\n",
    "    private_key = account.generate_account()[0]    # need [0], because generate_account() returns a list\n",
    "    acc = {}\n",
    "    acc['public'] = account.address_from_private_key(private_key)\n",
    "    acc['private'] = private_key\n",
    "    acc['mnemonic'] = mnemonic.from_private_key(private_key)\n",
    "    return acc"
   ]
  },
  {
   "cell_type": "code",
   "execution_count": 10,
   "metadata": {},
   "outputs": [
    {
     "data": {
      "text/plain": [
       "{'public': 'JJ4FSH5CX4N2JTD6RH2CDIHZXDKUSCFVXAQTIHFYPR447HGXJYBMNPWV6M',\n",
       " 'private': 'B318CcmEd8ORGbDc3kJCOYFLynlP1qoZExVHUMWD3YRKeFkfor8bpMx+ifQhoPm41UkItbghNBy4fHnPnNdOAg==',\n",
       " 'mnemonic': 'path vehicle lucky erode upper ignore smart quote swear arena patrol bean novel income knock stone crystal erase melody afford melt genius cheap above account'}"
      ]
     },
     "execution_count": 10,
     "metadata": {},
     "output_type": "execute_result"
    }
   ],
   "source": [
    "Bob = generate_account_dict()\n",
    "Bob"
   ]
  },
  {
   "cell_type": "markdown",
   "metadata": {},
   "source": [
    "## QR codes"
   ]
  },
  {
   "cell_type": "code",
   "execution_count": null,
   "metadata": {},
   "outputs": [],
   "source": [
    "# Installing the qrcode package. Run this once, then comment out\n",
    "!pip install qrcode"
   ]
  },
  {
   "cell_type": "markdown",
   "metadata": {},
   "source": [
    "#### Quick introduction to QR codes"
   ]
  },
  {
   "cell_type": "code",
   "execution_count": 12,
   "metadata": {},
   "outputs": [],
   "source": [
    "import qrcode, urllib"
   ]
  },
  {
   "cell_type": "code",
   "execution_count": 13,
   "metadata": {},
   "outputs": [],
   "source": [
    "qr = qrcode.QRCode()                         # create empty QR code\n",
    "qr.add_data('https://www.usi.ch/wsc')        # add data\n",
    "qr.make(fit=True)                            # create code\n",
    "img = qr.make_image(fill_color=\"black\", back_color=\"white\")"
   ]
  },
  {
   "cell_type": "code",
   "execution_count": 14,
   "metadata": {},
   "outputs": [
    {
     "data": {
      "image/png": "[encoded data removed]",
      "text/plain": [
       "<qrcode.image.pil.PilImage at 0x7fb3b8616b90>"
      ]
     },
     "execution_count": 14,
     "metadata": {},
     "output_type": "execute_result"
    }
   ],
   "source": [
    "# Try it\n",
    "img"
   ]
  },
  {
   "cell_type": "markdown",
   "metadata": {},
   "source": [
    "**EXERCISE:** Try the QR code with your phone"
   ]
  },
  {
   "cell_type": "markdown",
   "metadata": {},
   "source": [
    "## Payment QR code\n",
    "* Specific URL for the payment\n",
    "* Details here: https://developer.algorand.org/docs/get-details/transactions/payment_prompts/"
   ]
  },
  {
   "cell_type": "code",
   "execution_count": 15,
   "metadata": {},
   "outputs": [
    {
     "name": "stdout",
     "output_type": "stream",
     "text": [
      "algorand://ZKBNLUUB6CW35PCBLI6WWXD4JWQBZI6MFODPJWUSDRKRVPDPL5YUPWCUWI?amount=1200000&note=Thanks%20for%20the%20coffee\n"
     ]
    }
   ],
   "source": [
    "amount = 1.2                                                        # in algos, will be multiplied by 1million below\n",
    "amount_microalgo = str(int(amount*1e6))                             # in millialgos, must be integer\n",
    "note_encoded   =  urllib.parse.quote('Thanks for the coffee')       # encode spaces etc\n",
    "\n",
    "recipient = Alice['public']\n",
    "\n",
    "# Specific URL structure\n",
    "url = 'algorand://' + recipient + '?amount=' + amount_microalgo + '&note=' + note_encoded\n",
    "print(url)"
   ]
  },
  {
   "cell_type": "markdown",
   "metadata": {},
   "source": [
    "Now create a QR code for Alice"
   ]
  },
  {
   "cell_type": "code",
   "execution_count": 16,
   "metadata": {},
   "outputs": [
    {
     "data": {
      "image/png": "[encoded data removed]",
      "text/plain": [
       "<qrcode.image.pil.PilImage at 0x7fb3b86c41d0>"
      ]
     },
     "execution_count": 16,
     "metadata": {},
     "output_type": "execute_result"
    }
   ],
   "source": [
    "qr = qrcode.QRCode(box_size=6)                    # box_size=6 makes the QR code smaller\n",
    "qr.add_data(url)\n",
    "qr.make(fit=True)\n",
    "img = qr.make_image()\n",
    "img"
   ]
  },
  {
   "cell_type": "markdown",
   "metadata": {},
   "source": [
    "### Three ways to scan the QR code\n",
    "- Scan with iPhone / Android Camera app $\\rightarrow$ will open Algorand wallet app\n",
    "- Scan with general QR scanner in Algorand wallet (top) $\\rightarrow$ have to choose which account, which coin\n",
    "- Start a payment manually and then scan address "
   ]
  },
  {
   "cell_type": "markdown",
   "metadata": {},
   "source": [
    "# Things that can and will go wrong\n",
    "* If you loose private key and mnemonic, the money is gone\n",
    "* Just because it is a QR code, it does not mean it is trustworthy"
   ]
  },
  {
   "cell_type": "markdown",
   "metadata": {},
   "source": [
    "## Appendix: can you choose your Algorand Address?\n",
    "\n",
    "* Not really, the address is the Hash of the private key\n",
    "* **BUT**: we try realy many private keys until we find a match"
   ]
  },
  {
   "cell_type": "markdown",
   "metadata": {},
   "source": [
    "#### Trying to obtain an Address that starts with your initials\n",
    "* Let us try to find an account for *Alice*, that starts with `AL`"
   ]
  },
  {
   "cell_type": "code",
   "execution_count": null,
   "metadata": {},
   "outputs": [],
   "source": [
    "import time\n",
    "initials = \"WSC\"\n",
    "tmp = []\n",
    "for i in range(0,10):\n",
    "    acc = generate_account_dict()\n",
    "    t0 = time.time()\n",
    "    while (not acc['public'].startswith(initials)):\n",
    "        acc = generate_account_dict()\n",
    "    print(acc)\n",
    "    t1 = time.time()\n",
    "    print(t1-t0)\n",
    "    tmp.append(t1-t0)"
   ]
  },
  {
   "cell_type": "code",
   "execution_count": 30,
   "metadata": {},
   "outputs": [
    {
     "data": {
      "text/plain": [
       "{'public': 'F52BKQRVIEML5QM6JDKCLFI4BHBU4NBXHADYXCHOLDKRMHJD5UIFL5NHIM',\n",
       " 'private': 'oNExKix2jyJ3l7RkRW5K9NCXT5Xt2M66zEY8jntfpmgvdBVCNUEYvsGeSNQllRwJw040NzgHi4juWNUWHSPtEA==',\n",
       " 'mnemonic': 'cross shrug bench glare bus silly roof region prosper ribbon cement aunt cook fault hole suggest flush cream casino toilet warfare oak early about soon'}"
      ]
     },
     "execution_count": 30,
     "metadata": {},
     "output_type": "execute_result"
    }
   ],
   "source": [
    "acc"
   ]
  },
  {
   "cell_type": "markdown",
   "metadata": {},
   "source": [
    "#### Exercise\n",
    "* Create an account with your initials\n",
    "* Try to add one by one more letters to the initials\n",
    "    * Requiring one more letter increases time by approx a factor of 30. Why?\n",
    "* Discuss the claims about safety on this page: https://algovanity.com"
   ]
  },
  {
   "cell_type": "markdown",
   "metadata": {},
   "source": [
    "## Appendix: QR code to install an account on the phone wallet"
   ]
  },
  {
   "cell_type": "code",
   "execution_count": 19,
   "metadata": {},
   "outputs": [
    {
     "name": "stdout",
     "output_type": "stream",
     "text": [
      "algorand://{\"mnemonic\": \"embrace pull ball window powder album piece kind theory asset exhibit palace sword custom village sunset sock cruel crack unlock gun lock square abstract barrel\"}\n"
     ]
    },
    {
     "data": {
      "image/png": "[encoded data removed]",
      "text/plain": [
       "<qrcode.image.pil.PilImage at 0x7fb3b86b5290>"
      ]
     },
     "execution_count": 19,
     "metadata": {},
     "output_type": "execute_result"
    }
   ],
   "source": [
    "private_key=account.generate_account()[0]             # Why the [0]? Because generate_account() returns a list!\n",
    "passphrase = mnemonic.from_private_key(private_key)\n",
    "url = 'algorand://'+'{\"mnemonic\": \"'+passphrase+'\"}'\n",
    "print(url)\n",
    "\n",
    "qr = qrcode.QRCode(box_size=6)                    # box_size=6 makes the QR code smaller\n",
    "qr.add_data(url)\n",
    "qr.make(fit=True)\n",
    "img = qr.make_image()\n",
    "img"
   ]
  },
  {
   "cell_type": "markdown",
   "metadata": {},
   "source": [
    "## Appendix: Playing with QR codes\n",
    "* Documentation: https://pypi.org/project/qrcode/\n",
    "* Error correction levels:\n",
    "    * ERROR_CORRECT_L (can correct 7%)\n",
    "    * ERROR_CORRECT_M (15%)\n",
    "    * ERROR_CORRECT_Q (25%)\n",
    "    * ERROR_CORRECT_H (30%) <-- most robust code\n",
    "* Colors are CSS colors https://www.w3schools.com/cssref/css_colors.asp"
   ]
  },
  {
   "cell_type": "code",
   "execution_count": 20,
   "metadata": {},
   "outputs": [
    {
     "data": {
      "image/png": "[encoded data removed]",
      "text/plain": [
       "<qrcode.image.pil.PilImage at 0x7fb3b8616090>"
      ]
     },
     "execution_count": 20,
     "metadata": {},
     "output_type": "execute_result"
    }
   ],
   "source": [
    "qr = qrcode.QRCode(error_correction=qrcode.constants.ERROR_CORRECT_L, \n",
    "                   box_size=10,\n",
    "                   border=4)\n",
    "qr.add_data(url)\n",
    "qr.make(fit=True)\n",
    "img = qr.make_image(fill_color=\"darkblue\", back_color=\"azure\")\n",
    "img"
   ]
  },
  {
   "cell_type": "markdown",
   "metadata": {},
   "source": [
    "**EXERCISE** Create a QR code with white color on a black background and test it with your mobile phone."
   ]
  }
 ],
 "metadata": {
  "kernelspec": {
   "display_name": "Python 3",
   "language": "python",
   "name": "python3"
  },
  "language_info": {
   "codemirror_mode": {
    "name": "ipython",
    "version": 3
   },
   "file_extension": ".py",
   "mimetype": "text/x-python",
   "name": "python",
   "nbconvert_exporter": "python",
   "pygments_lexer": "ipython3",
   "version": "3.8.8"
  }
 },
 "nbformat": 4,
 "nbformat_minor": 4
}
