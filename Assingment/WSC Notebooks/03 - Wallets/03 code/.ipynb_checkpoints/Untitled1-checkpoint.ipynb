{
 "cells": [
  {
   "cell_type": "code",
   "execution_count": 1,
   "id": "c6ea45e5-1dfe-468d-9dcb-6884009ea859",
   "metadata": {},
   "outputs": [],
   "source": [
    "peter = \"HVRMFQWRZRDZIDFTTO6A6UGMVFMMZ54IFKWKTQKUCVMAWGDWAZOSPNRX3I\"\n",
    "paul = \"MA3JCTRPBBNBUHLMLPVDPHAQVQ2SX26IR4WAZGRLPDUYGTNF62YHY5QB34\"\n",
    "albino = \"IDM7ENKVCUBSCKVMW3Y4XKZK76MHUKREDPRUXEYTRPZOEFNTDWETLYGORQ\""
   ]
  },
  {
   "cell_type": "code",
   "execution_count": 2,
   "id": "71c52e03-cfca-4245-9eaf-2259dfd21c11",
   "metadata": {
    "tags": []
   },
   "outputs": [
    {
     "name": "stdout",
     "output_type": "stream",
     "text": [
      "Multisig Address:  UI5SRTUSZ5W6K5YAKEYPHV54GQ35XKQ4O77Z2VJRKZ5XLEEZSLM7VEAQ5U\n",
      "https://testnet.algoexplorer.io/address/UI5SRTUSZ5W6K5YAKEYPHV54GQ35XKQ4O77Z2VJRKZ5XLEEZSLM7VEAQ5U\n"
     ]
    }
   ],
   "source": [
    "from algosdk.future.transaction import Multisig\n",
    "\n",
    "# create a multisig account\n",
    "version   = 1     # multisig version, currently always 1\n",
    "threshold = 2     # min 2 signatures required\n",
    "\n",
    "account_list = [peter, paul, albino]\n",
    "\n",
    "msig = Multisig(version, threshold, account_list)\n",
    "msig_address = msig.address()\n",
    "\n",
    "print(\"Multisig Address: \", msig_address)\n",
    "print('https://testnet.algoexplorer.io/address/'+msig_address)"
   ]
  },
  {
   "cell_type": "code",
   "execution_count": null,
   "id": "79b05f0c-322e-49d4-8ffb-88650e677f0a",
   "metadata": {},
   "outputs": [],
   "source": [
    "acc = generate_account_dict()\n",
    "    \n",
    "pdf = FPDF('P', 'mm', 'A4')\n",
    "\n",
    "pdf.add_page()\n",
    "pdf.set_font(\"Arial\", style=\"B\", size = 24)\n",
    "pdf.cell(20, 20, txt = \"\", ln = 1, align = 'LT')\n",
    "pdf.cell(20, 7, txt = \"Fondazione per le facoltà di Lugano\", ln = 1, align = 'LT')\n",
    "pdf.set_font(\"Arial\", size = 14)\n",
    "pdf.cell(20, 7, txt = \"Fondo ECOCRIPTO\",ln = 1, align = 'LT')\n",
    "pdf.cell(20, 20, txt = \"\", ln = 1, align = 'LT')\n",
    "\n",
    "pdf.set_font(\"Arial\", size = 14)\n",
    "pdf.cell(20, 7, txt = \"Indirizzo di Peter Gruber\",ln = 1, align = 'LT')\n",
    "pdf.set_font(\"Courier\", size = 14)\n",
    "pdf.cell(20, 10, txt = peter,ln = 1, align = 'LT')\n",
    "pdf.cell(20, 20, txt = \"\", ln = 1, align = 'LT')\n",
    "\n",
    "pdf.set_font(\"Arial\", size = 14)\n",
    "pdf.cell(20, 7, txt = \"Indirizzo di Paul Schneider\",ln = 1, align = 'LT')\n",
    "pdf.set_font(\"Courier\", size = 14)\n",
    "pdf.cell(20, 10, txt = paul,ln = 1, align = 'LT')\n",
    "pdf.cell(20, 20, txt = \"\", ln = 1, align = 'LT')\n",
    "\n",
    "\n",
    "pdf.set_font(\"Arial\", size = 14)\n",
    "pdf.cell(20, 7, txt = \"Indirizzo di Albino Zgraggen\",ln = 1, align = 'LT')\n",
    "pdf.set_font(\"Courier\", size = 14)\n",
    "pdf.cell(20, 10, txt = albino,ln = 1, align = 'LT')\n",
    "pdf.cell(20, 20, txt = \"\", ln = 1, align = 'LT')\n",
    "\n",
    "pdf.set_font(\"Arial\", size = 14)\n",
    "pdf.cell(20, 7, txt = \"Indirizzo Multisig\",ln = 1, align = 'LT')\n",
    "pdf.set_font(\"Courier\", size = 14)\n",
    "pdf.cell(20, 10, txt = UI5SRTUSZ5W6K5YAKEYPHV54GQ35XKQ4O77Z2VJRKZ5XLEEZSLM7VEAQ5U,ln = 1, align = 'LT')\n",
    "pdf.cell(20, 20, txt = \"\", ln = 1, align = 'LT')\n",
    "\n",
    "\n",
    "pdf.output(\"indirizzi.pdf\")   \n",
    "\n"
   ]
  }
 ],
 "metadata": {
  "kernelspec": {
   "display_name": "Python 3",
   "language": "python",
   "name": "python3"
  },
  "language_info": {
   "codemirror_mode": {
    "name": "ipython",
    "version": 3
   },
   "file_extension": ".py",
   "mimetype": "text/x-python",
   "name": "python",
   "nbconvert_exporter": "python",
   "pygments_lexer": "ipython3",
   "version": "3.8.8"
  }
 },
 "nbformat": 4,
 "nbformat_minor": 5
}
