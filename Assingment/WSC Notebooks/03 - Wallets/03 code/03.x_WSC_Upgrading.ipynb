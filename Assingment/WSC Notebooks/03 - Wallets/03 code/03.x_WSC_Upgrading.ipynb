{
 "cells": [
  {
   "cell_type": "markdown",
   "id": "3afb591b",
   "metadata": {},
   "source": [
    "# Upgrading and Troublshooting\n",
    "#### 03.x Writing Smart Contracts\n",
    "##### Peter Gruber (peter.gruber@usi.ch)\n",
    "2023-02-08 (started 2022-03-11)\n",
    "\n",
    "* Upgrade PyTeal and the Algorand SDK\n",
    "* For the Algorand sdk https://github.com/algorand/py-algorand-sdk\n",
    "* For PyTEAL https://github.com/algorand/pyteal"
   ]
  },
  {
   "cell_type": "markdown",
   "id": "8f044c50",
   "metadata": {},
   "source": [
    "## For later use\n",
    "* This notebook is part of chapter 3 (\"Accounts\") for reference only\n",
    "* Use it only when instructed **or** if you are sure you have an old version of the Python Algorand software installed and you want to upgrade it"
   ]
  },
  {
   "cell_type": "markdown",
   "id": "73b7ff00",
   "metadata": {},
   "source": [
    "## Identify your currently installed versions\n",
    "* Last two lines show *currently installed* and *latest availble* version.\n",
    "* **Hint:** It may be useful to run this again after updating PIP\n",
    "\n"
   ]
  },
  {
   "cell_type": "code",
   "execution_count": null,
   "id": "b3b009c4-6501-4965-9672-965ed6688673",
   "metadata": {},
   "outputs": [],
   "source": [
    "!pip index versions pip"
   ]
  },
  {
   "cell_type": "code",
   "execution_count": null,
   "id": "5759cba3",
   "metadata": {},
   "outputs": [],
   "source": [
    "!pip index versions py-algorand-sdk"
   ]
  },
  {
   "cell_type": "code",
   "execution_count": null,
   "id": "04b1c71a",
   "metadata": {},
   "outputs": [],
   "source": [
    "!pip index versions pyteal"
   ]
  },
  {
   "cell_type": "markdown",
   "id": "1a006948",
   "metadata": {
    "tags": []
   },
   "source": [
    "## Upgrade pip first"
   ]
  },
  {
   "cell_type": "code",
   "execution_count": null,
   "id": "0ec7e0d2-3376-40ba-b61d-832d58ab906b",
   "metadata": {},
   "outputs": [],
   "source": [
    "!pip install --upgrade pip"
   ]
  },
  {
   "cell_type": "markdown",
   "id": "c55d5ca2-3aa7-4a0a-aba1-de3aa98306e9",
   "metadata": {
    "tags": []
   },
   "source": [
    "## Force upgrade\n",
    "* Forces the Python package manager (pip) to upgrade the Algorand packes to the latest versions"
   ]
  },
  {
   "cell_type": "code",
   "execution_count": null,
   "id": "6a6c5cf6",
   "metadata": {},
   "outputs": [],
   "source": [
    "!pip install --upgrade py-algorand-sdk"
   ]
  },
  {
   "cell_type": "code",
   "execution_count": null,
   "id": "9a76da99",
   "metadata": {},
   "outputs": [],
   "source": [
    "!pip install --upgrade pyteal"
   ]
  },
  {
   "cell_type": "markdown",
   "id": "768f1d05",
   "metadata": {},
   "source": [
    "## Uninstall\n",
    "* In really extreme cases, it may be useful to uninstall and re-install"
   ]
  },
  {
   "cell_type": "code",
   "execution_count": null,
   "id": "6658a005",
   "metadata": {},
   "outputs": [],
   "source": [
    "!pip uninstall py-algorand-sdk"
   ]
  },
  {
   "cell_type": "code",
   "execution_count": null,
   "id": "96027efc",
   "metadata": {},
   "outputs": [],
   "source": [
    "!pip uninstall pyteal"
   ]
  }
 ],
 "metadata": {
  "kernelspec": {
   "display_name": "Python 3 (ipykernel)",
   "language": "python",
   "name": "python3"
  },
  "language_info": {
   "codemirror_mode": {
    "name": "ipython",
    "version": 3
   },
   "file_extension": ".py",
   "mimetype": "text/x-python",
   "name": "python",
   "nbconvert_exporter": "python",
   "pygments_lexer": "ipython3",
   "version": "3.10.9"
  }
 },
 "nbformat": 4,
 "nbformat_minor": 5
}
