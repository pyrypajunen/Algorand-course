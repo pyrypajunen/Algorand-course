{
 "cells": [
  {
   "cell_type": "markdown",
   "metadata": {},
   "source": [
    "## Create an account\n",
    "#### 03.1 Winter School on Smart Contracts\n",
    "##### Peter Gruber (peter.gruber@usi.ch)\n",
    "2023-02-06 (started 2021-11-28)\n",
    "\n",
    "* Install Algorand Python SDK\n",
    "* Create accounts\n",
    "    * Mnemonic $\\leftrightarrow$ private key\n",
    "    * Private key $\\rightarrow$ public key\n",
    "* QR codes"
   ]
  },
  {
   "cell_type": "markdown",
   "metadata": {},
   "source": [
    "## ❗️Install Algorand SDK\n",
    "* Use menu **Kernel/Restart Kernel** afterwards.\n",
    "* To verify that you installed the latest version, go here: https://py-algorand-sdk.readthedocs.io/en/latest/"
   ]
  },
  {
   "cell_type": "code",
   "execution_count": 1,
   "metadata": {},
   "outputs": [
    {
     "name": "stdout",
     "output_type": "stream",
     "text": [
      "Collecting py-algorand-sdk\n",
      "  Downloading py_algorand_sdk-2.0.0-py3-none-any.whl (106 kB)\n",
      "\u001b[2K     \u001b[90m━━━━━━━━━━━━━━━━━━━━━━━━━━━━━━━━━━━━━━━\u001b[0m \u001b[32m106.5/106.5 kB\u001b[0m \u001b[31m3.4 MB/s\u001b[0m eta \u001b[36m0:00:00\u001b[0m\n",
      "\u001b[?25hRequirement already satisfied: msgpack<2,>=1.0.0 in /Users/pyrypajunen/opt/anaconda3/lib/python3.9/site-packages (from py-algorand-sdk) (1.0.3)\n",
      "Collecting pycryptodomex<4,>=3.6.0\n",
      "  Downloading pycryptodomex-3.17-cp35-abi3-macosx_10_9_x86_64.whl (1.6 MB)\n",
      "\u001b[2K     \u001b[90m━━━━━━━━━━━━━━━━━━━━━━━━━━━━━━━━━━━━━━━━\u001b[0m \u001b[32m1.6/1.6 MB\u001b[0m \u001b[31m21.3 MB/s\u001b[0m eta \u001b[36m0:00:00\u001b[0ma \u001b[36m0:00:01\u001b[0m\n",
      "\u001b[?25hCollecting pynacl<2,>=1.4.0\n",
      "  Downloading PyNaCl-1.5.0-cp36-abi3-macosx_10_10_universal2.whl (349 kB)\n",
      "\u001b[2K     \u001b[90m━━━━━━━━━━━━━━━━━━━━━━━━━━━━━━━━━━━━━━\u001b[0m \u001b[32m349.9/349.9 kB\u001b[0m \u001b[31m35.4 MB/s\u001b[0m eta \u001b[36m0:00:00\u001b[0m\n",
      "\u001b[?25hRequirement already satisfied: cffi>=1.4.1 in /Users/pyrypajunen/opt/anaconda3/lib/python3.9/site-packages (from pynacl<2,>=1.4.0->py-algorand-sdk) (1.15.1)\n",
      "Requirement already satisfied: pycparser in /Users/pyrypajunen/opt/anaconda3/lib/python3.9/site-packages (from cffi>=1.4.1->pynacl<2,>=1.4.0->py-algorand-sdk) (2.21)\n",
      "Installing collected packages: pycryptodomex, pynacl, py-algorand-sdk\n",
      "Successfully installed py-algorand-sdk-2.0.0 pycryptodomex-3.17 pynacl-1.5.0\n"
     ]
    }
   ],
   "source": [
    "# Run this only once, then comment out\n",
    "!pip install py-algorand-sdk"
   ]
  },
  {
   "cell_type": "code",
   "execution_count": null,
   "metadata": {},
   "outputs": [],
   "source": [
    "# What to do if this does not work\n",
    "#!pip install --upgrade pip\n",
    "#!pip install --upgrade pip setuptools wheel"
   ]
  },
  {
   "cell_type": "code",
   "execution_count": 24,
   "metadata": {},
   "outputs": [],
   "source": [
    "from algosdk import account, mnemonic"
   ]
  },
  {
   "cell_type": "markdown",
   "metadata": {},
   "source": [
    "### Create a key pair and menemonic locally\n",
    "\n",
    "`account.generate_account()` produces a pair of public and private keys\n",
    "\n",
    "* Create a random private key\n",
    "* Provide according mnemonic\n",
    "* Calcualte public address from private key\n",
    "\n",
    "**Note:** The keys only exist on your computer. We did not (yet) interact with the blockchain."
   ]
  },
  {
   "cell_type": "code",
   "execution_count": 9,
   "metadata": {},
   "outputs": [
    {
     "data": {
      "text/plain": [
       "('b82l0I2qGkq0TjjP+Nms/WOpiyXKGSjou9M+iT6HKjBuu6Q0jfA1o1lXqy5ubxJgq0obipAy7ztzCxwKo65RYg==',\n",
       " 'N252INEN6A22GWKXVMXG43YSMCVUUG4KSAZO6O3TBMOAVI5OKFRH3NENSA')"
      ]
     },
     "execution_count": 9,
     "metadata": {},
     "output_type": "execute_result"
    }
   ],
   "source": [
    "account.generate_account()"
   ]
  },
  {
   "cell_type": "markdown",
   "metadata": {},
   "source": [
    "**EXERCISE:** Run the above cell several times"
   ]
  },
  {
   "cell_type": "markdown",
   "metadata": {},
   "source": [
    "#### Step 1: Obtain new private key\n",
    "Add index `[0]` to obtain only the private key"
   ]
  },
  {
   "cell_type": "code",
   "execution_count": 10,
   "metadata": {},
   "outputs": [
    {
     "name": "stdout",
     "output_type": "stream",
     "text": [
      "u3qiKewdQBDC16h/0e2Sbnw71cjFTxZpHt6BUENEgPpH0wvGUKbfv3ebKuR/Z6zfjJubNMrsweu+/UzkXtbwMQ==\n"
     ]
    }
   ],
   "source": [
    "private_key=account.generate_account()[0]                 # Why the [0]? Because generate_account() returns a list!\n",
    "print(private_key)"
   ]
  },
  {
   "cell_type": "markdown",
   "metadata": {},
   "source": [
    "#### Step 2: Private key $\\leftrightarrow$ mnemonic"
   ]
  },
  {
   "cell_type": "code",
   "execution_count": 11,
   "metadata": {},
   "outputs": [
    {
     "name": "stdout",
     "output_type": "stream",
     "text": [
      "first measure below tell lens lottery safe potato copper resemble enact shoulder ivory crystal comic exist carpet keen upper amount mammal baby staff abstract robust\n"
     ]
    }
   ],
   "source": [
    "passphrase = mnemonic.from_private_key(private_key)\n",
    "print(passphrase)"
   ]
  },
  {
   "cell_type": "code",
   "execution_count": 6,
   "metadata": {},
   "outputs": [
    {
     "name": "stdout",
     "output_type": "stream",
     "text": [
      "GP2PSay2K7vKc1Src2KVBbgdvEaCMmwaiNMymRu5eMA+OgqIWojYvXXfmAKOLXpvBzqQOrtZeB3rDpXXY7xaXg==\n"
     ]
    }
   ],
   "source": [
    "# Quick check: do we get back from the menmonic to the private key?\n",
    "private_key = mnemonic.to_private_key(passphrase)               \n",
    "print(private_key)                                         # Yes!! Same as above!"
   ]
  },
  {
   "cell_type": "markdown",
   "metadata": {},
   "source": [
    "#### Step 3: private key $\\rightarrow$ public addres"
   ]
  },
  {
   "cell_type": "code",
   "execution_count": 12,
   "metadata": {},
   "outputs": [
    {
     "name": "stdout",
     "output_type": "stream",
     "text": [
      "I7JQXRSQU3P36543FLSH6Z5M36GJXGZUZLWMD2567VGOIXWW6AYZCQ54WQ\n"
     ]
    }
   ],
   "source": [
    "public_address = account.address_from_private_key(private_key)\n",
    "print(public_address)"
   ]
  },
  {
   "cell_type": "markdown",
   "metadata": {},
   "source": [
    "#### Step 4\n",
    "There is no step 4! We can not obtain the mnemonic or the private key from the public key"
   ]
  },
  {
   "cell_type": "markdown",
   "metadata": {},
   "source": [
    "### Account dictionaries\n",
    "* Highly useful way to organize account data"
   ]
  },
  {
   "cell_type": "code",
   "execution_count": 13,
   "metadata": {},
   "outputs": [
    {
     "data": {
      "text/plain": [
       "{'public': 'I7JQXRSQU3P36543FLSH6Z5M36GJXGZUZLWMD2567VGOIXWW6AYZCQ54WQ',\n",
       " 'private': 'u3qiKewdQBDC16h/0e2Sbnw71cjFTxZpHt6BUENEgPpH0wvGUKbfv3ebKuR/Z6zfjJubNMrsweu+/UzkXtbwMQ==',\n",
       " 'passpharse': 'first measure below tell lens lottery safe potato copper resemble enact shoulder ivory crystal comic exist carpet keen upper amount mammal baby staff abstract robust'}"
      ]
     },
     "execution_count": 13,
     "metadata": {},
     "output_type": "execute_result"
    }
   ],
   "source": [
    "Alice = {}      # Empty dictionary\n",
    "Alice['public'] = public_address\n",
    "Alice['private'] = private_key\n",
    "Alice['passpharse'] = passphrase\n",
    "Alice "
   ]
  },
  {
   "cell_type": "markdown",
   "metadata": {},
   "source": [
    "### Function for account creation\n",
    "* Useful for automatization"
   ]
  },
  {
   "cell_type": "code",
   "execution_count": 14,
   "metadata": {},
   "outputs": [],
   "source": [
    "def generate_account_dict():\n",
    "    from algosdk import account, mnemonic\n",
    "    private_key = account.generate_account()[0]    # need [0], because generate_account() returns a list\n",
    "    acc = {}\n",
    "    acc['public'] = account.address_from_private_key(private_key)\n",
    "    acc['private'] = private_key\n",
    "    acc['mnemonic'] = mnemonic.from_private_key(private_key)\n",
    "    return acc"
   ]
  },
  {
   "cell_type": "code",
   "execution_count": 15,
   "metadata": {},
   "outputs": [
    {
     "data": {
      "text/plain": [
       "{'public': 'C4BLD35BGBE3H2IOJ6RXOIUZM4ZVT4EOUA4KVSTAZZ4R5TKZCJV7O7NJ3I',\n",
       " 'private': 'QqeesolBKEpWG2PXNrB73rIKqTHibcnuv+uO7/hGZKEXArHvoTBJs+kOT6N3IplnM1nwjqA4qspgznkezVkSaw==',\n",
       " 'mnemonic': 'tribe kind sun blush explain myth survey glide sustain school differ combine betray heart bag hospital summer zero into wedding vault balance arctic absent dinner'}"
      ]
     },
     "execution_count": 15,
     "metadata": {},
     "output_type": "execute_result"
    }
   ],
   "source": [
    "Bob = generate_account_dict()\n",
    "Bob"
   ]
  },
  {
   "cell_type": "markdown",
   "metadata": {},
   "source": [
    "## QR codes"
   ]
  },
  {
   "cell_type": "code",
   "execution_count": 16,
   "metadata": {},
   "outputs": [
    {
     "name": "stdout",
     "output_type": "stream",
     "text": [
      "Collecting qrcode\n",
      "  Downloading qrcode-7.4.2-py3-none-any.whl (46 kB)\n",
      "\u001b[2K     \u001b[90m━━━━━━━━━━━━━━━━━━━━━━━━━━━━━━━━━━━━━━━━\u001b[0m \u001b[32m46.2/46.2 kB\u001b[0m \u001b[31m2.3 MB/s\u001b[0m eta \u001b[36m0:00:00\u001b[0m\n",
      "\u001b[?25hRequirement already satisfied: typing-extensions in /Users/pyrypajunen/opt/anaconda3/lib/python3.9/site-packages (from qrcode) (4.3.0)\n",
      "Collecting pypng\n",
      "  Downloading pypng-0.20220715.0-py3-none-any.whl (58 kB)\n",
      "\u001b[2K     \u001b[90m━━━━━━━━━━━━━━━━━━━━━━━━━━━━━━━━━━━━━━━━\u001b[0m \u001b[32m58.1/58.1 kB\u001b[0m \u001b[31m6.0 MB/s\u001b[0m eta \u001b[36m0:00:00\u001b[0m\n",
      "\u001b[?25hInstalling collected packages: pypng, qrcode\n",
      "Successfully installed pypng-0.20220715.0 qrcode-7.4.2\n"
     ]
    }
   ],
   "source": [
    "# Installing the qrcode package. Run this once, then comment out\n",
    "!pip install qrcode"
   ]
  },
  {
   "cell_type": "markdown",
   "metadata": {},
   "source": [
    "#### Quick introduction to QR codes"
   ]
  },
  {
   "cell_type": "code",
   "execution_count": 17,
   "metadata": {},
   "outputs": [],
   "source": [
    "import qrcode, urllib"
   ]
  },
  {
   "cell_type": "code",
   "execution_count": 18,
   "metadata": {},
   "outputs": [],
   "source": [
    "qr = qrcode.QRCode()                         # create empty QR code\n",
    "qr.add_data('https://www.usi.ch/wsc')        # add data\n",
    "qr.make(fit=True)                            # create code\n",
    "img = qr.make_image(fill_color=\"black\", back_color=\"white\")"
   ]
  },
  {
   "cell_type": "code",
   "execution_count": 19,
   "metadata": {},
   "outputs": [
    {
     "data": {
      "image/png": "[encoded data removed]",
      "text/plain": [
       "<qrcode.image.pil.PilImage at 0x7fc5108f10d0>"
      ]
     },
     "execution_count": 19,
     "metadata": {},
     "output_type": "execute_result"
    }
   ],
   "source": [
    "# Display QR code\n",
    "img"
   ]
  },
  {
   "cell_type": "markdown",
   "metadata": {},
   "source": [
    "**EXERCISE:** Try the QR code with your phone"
   ]
  },
  {
   "cell_type": "markdown",
   "metadata": {},
   "source": [
    "## Payment QR code\n",
    "* Specific URL for the payment\n",
    "* Details here: https://developer.algorand.org/docs/get-details/transactions/payment_prompts/"
   ]
  },
  {
   "cell_type": "markdown",
   "metadata": {},
   "source": [
    "#### Step 1: Prepare payment URL"
   ]
  },
  {
   "cell_type": "code",
   "execution_count": 20,
   "metadata": {},
   "outputs": [
    {
     "name": "stdout",
     "output_type": "stream",
     "text": [
      "algorand://I7JQXRSQU3P36543FLSH6Z5M36GJXGZUZLWMD2567VGOIXWW6AYZCQ54WQ?amount=1200000&note=Thanks%20for%20the%20coffee\n"
     ]
    }
   ],
   "source": [
    "amount = 1.2                                                        # in algos, will be multiplied by 1million below\n",
    "amount_microalgo = str(int(amount*1e6))                             # in millialgos, must be integer\n",
    "note_encoded   =  urllib.parse.quote('Thanks for the coffee')       # encode spaces etc\n",
    "\n",
    "recipient = Alice['public']\n",
    "\n",
    "# Specific URL structure\n",
    "url = 'algorand://' + recipient + '?amount=' + amount_microalgo + '&note=' + note_encoded\n",
    "print(url)"
   ]
  },
  {
   "cell_type": "markdown",
   "metadata": {},
   "source": [
    "#### Step 2: Create a QR code"
   ]
  },
  {
   "cell_type": "code",
   "execution_count": 21,
   "metadata": {},
   "outputs": [
    {
     "data": {
      "image/png": "[encoded data removed]",
      "text/plain": [
       "<qrcode.image.pil.PilImage at 0x7fc5108fa2e0>"
      ]
     },
     "execution_count": 21,
     "metadata": {},
     "output_type": "execute_result"
    }
   ],
   "source": [
    "# Cr\n",
    "qr = qrcode.QRCode(box_size=6)                    # box_size=6 makes the QR code smaller\n",
    "qr.add_data(url)\n",
    "qr.make(fit=True)\n",
    "img = qr.make_image()\n",
    "img"
   ]
  },
  {
   "cell_type": "markdown",
   "metadata": {},
   "source": [
    "### Three ways to use the QR code\n",
    "- Scan with iPhone / Android Camera app $\\rightarrow$ will open Algorand wallet app\n",
    "- Scan with general QR scanner in Algorand wallet (top) $\\rightarrow$ have to choose which account, which coin\n",
    "- Start a payment manually and then scan address "
   ]
  },
  {
   "cell_type": "markdown",
   "metadata": {},
   "source": [
    "# Things that can and will go wrong\n",
    "* If you loose private key and mnemonic, the money is gone\n",
    "* Just because it is a QR code, it does not mean it is trustworthy"
   ]
  },
  {
   "cell_type": "markdown",
   "metadata": {},
   "source": [
    "## Appendix: can you choose your Algorand Address?\n",
    "\n",
    "* Not really, the address is the Hash of the private key\n",
    "* **BUT**: we can try many private keys until we find a match"
   ]
  },
  {
   "cell_type": "markdown",
   "metadata": {},
   "source": [
    "#### Trying to obtain an Address that starts with your initials\n",
    "* Let us try to find an account for *Alice*, that starts with `AL`"
   ]
  },
  {
   "cell_type": "code",
   "execution_count": null,
   "metadata": {},
   "outputs": [],
   "source": [
    "initials = \"AL\"\n",
    "acc = generate_account_dict()\n",
    "while (not acc['public'].startswith(initials)):\n",
    "    acc = generate_account_dict()"
   ]
  },
  {
   "cell_type": "code",
   "execution_count": null,
   "metadata": {},
   "outputs": [],
   "source": [
    "acc"
   ]
  },
  {
   "cell_type": "markdown",
   "metadata": {},
   "source": [
    "#### Exercise\n",
    "* Create an account with your initials\n",
    "* Try to add one by one more letters to the initials\n",
    "    * Requiring one more letter increases time by approx a factor of 30. Why?\n",
    "* Discuss the claims about safety on this page: https://algovanity.com"
   ]
  },
  {
   "cell_type": "markdown",
   "metadata": {},
   "source": [
    "## Appendix: QR code to install an account on the phone wallet"
   ]
  },
  {
   "cell_type": "code",
   "execution_count": null,
   "metadata": {},
   "outputs": [],
   "source": [
    "private_key=account.generate_account()[0]             # Why the [0]? Because generate_account() returns a list!\n",
    "passphrase = mnemonic.from_private_key(private_key)\n",
    "url = 'algorand://'+'{\"mnemonic\": \"'+passphrase+'\"}'\n",
    "print(url)\n",
    "\n",
    "qr = qrcode.QRCode(box_size=6)                    # box_size=6 makes the QR code smaller\n",
    "qr.add_data(url)\n",
    "qr.make(fit=True)\n",
    "img = qr.make_image()\n",
    "img"
   ]
  },
  {
   "cell_type": "markdown",
   "metadata": {},
   "source": [
    "## Appendix: Playing with QR codes\n",
    "* Documentation: https://pypi.org/project/qrcode/\n",
    "* Error correction levels:\n",
    "    * ERROR_CORRECT_L (can correct 7%)\n",
    "    * ERROR_CORRECT_M (15%)\n",
    "    * ERROR_CORRECT_Q (25%)\n",
    "    * ERROR_CORRECT_H (30%) <-- most robust code\n",
    "* Colors are CSS colors https://www.w3schools.com/cssref/css_colors.asp"
   ]
  },
  {
   "cell_type": "code",
   "execution_count": null,
   "metadata": {},
   "outputs": [],
   "source": [
    "qr = qrcode.QRCode(error_correction=qrcode.constants.ERROR_CORRECT_L, \n",
    "                   box_size=10,\n",
    "                   border=4)\n",
    "qr.add_data(url)\n",
    "qr.make(fit=True)\n",
    "img = qr.make_image(fill_color=\"darkblue\", back_color=\"azure\")\n",
    "img"
   ]
  },
  {
   "cell_type": "markdown",
   "metadata": {},
   "source": [
    "**EXERCISE** Create a QR code with white color on a black background and test it with your mobile phone."
   ]
  }
 ],
 "metadata": {
  "kernelspec": {
   "display_name": "Python 3 (ipykernel)",
   "language": "python",
   "name": "python3"
  },
  "language_info": {
   "codemirror_mode": {
    "name": "ipython",
    "version": 3
   },
   "file_extension": ".py",
   "mimetype": "text/x-python",
   "name": "python",
   "nbconvert_exporter": "python",
   "pygments_lexer": "ipython3",
   "version": "3.9.13"
  }
 },
 "nbformat": 4,
 "nbformat_minor": 4
}
