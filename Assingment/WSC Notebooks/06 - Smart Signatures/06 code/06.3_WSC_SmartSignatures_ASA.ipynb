{
 "cells": [
  {
   "cell_type": "markdown",
   "metadata": {},
   "source": [
    "# Smart signatures with ASA\n",
    "#### 06.3 Writing Smart Contracts\n",
    "##### Peter Gruber (peter.gruber@usi.ch)\n",
    "2022-01-12\n",
    "\n",
    "* Use Smart Signatures with ASAs\n",
    "* Design a contract for token burning"
   ]
  },
  {
   "cell_type": "markdown",
   "metadata": {
    "tags": []
   },
   "source": [
    "## Setup\n",
    "See notebook 04.1, the lines below will always automatically load functions in `algo_util.py`, the five accounts and the Purestake credentials"
   ]
  },
  {
   "cell_type": "code",
   "execution_count": null,
   "metadata": {},
   "outputs": [],
   "source": [
    "# Loading shared code and credentials\n",
    "import sys, os\n",
    "\n",
    "codepath = '..'+os.path.sep+'..'+os.path.sep+'sharedCode'\n",
    "sys.path.append(codepath)\n",
    "from algo_util import *\n",
    "cred = load_credentials()\n",
    "\n",
    "# Shortcuts to directly access the 3 main accounts\n",
    "MyAlgo  = cred['MyAlgo']\n",
    "Alice   = cred['Alice']\n",
    "Bob     = cred['Bob']\n",
    "Charlie = cred['Charlie']\n",
    "Dina    = cred['Dina']"
   ]
  },
  {
   "cell_type": "code",
   "execution_count": null,
   "metadata": {},
   "outputs": [],
   "source": [
    "from algosdk import account, mnemonic\n",
    "from algosdk.v2client import algod\n",
    "from algosdk import transaction\n",
    "from algosdk.transaction import PaymentTxn\n",
    "from algosdk.transaction import AssetConfigTxn, AssetTransferTxn, AssetFreezeTxn\n",
    "from algosdk.transaction import LogicSig, LogicSigTransaction\n",
    "\n",
    "import algosdk.error\n",
    "import json\n",
    "import base64\n",
    "import hashlib"
   ]
  },
  {
   "cell_type": "code",
   "execution_count": null,
   "metadata": {},
   "outputs": [],
   "source": [
    "from pyteal import *"
   ]
  },
  {
   "cell_type": "code",
   "execution_count": null,
   "metadata": {},
   "outputs": [],
   "source": [
    "# Initialize the algod client (Testnet or Mainnet)\n",
    "algod_client = algod.AlgodClient(algod_token='', algod_address=cred['algod_test'], headers=cred['purestake_token'])\n",
    "algod_client.status()[\"last-round\"]"
   ]
  },
  {
   "cell_type": "code",
   "execution_count": null,
   "metadata": {},
   "outputs": [],
   "source": [
    "print(MyAlgo['public'])\n",
    "print(Alice['public'])\n",
    "print(Bob['public'])\n",
    "print(Charlie['public'])"
   ]
  },
  {
   "cell_type": "code",
   "execution_count": null,
   "metadata": {},
   "outputs": [],
   "source": [
    "asset_holdings_df(algod_client,MyAlgo['public'])"
   ]
  },
  {
   "cell_type": "markdown",
   "metadata": {},
   "source": [
    "## Burning\n",
    "Burning seems simple: send money to a contract that always says \"no\".<br>\n",
    "**Question:** how can a contract that always says \"no\" opt into an ASA?"
   ]
  },
  {
   "cell_type": "markdown",
   "metadata": {},
   "source": [
    "#### Step 1: Define conditions in Pyteal\n",
    "* Burn contract for WSC coin\n",
    "* Need WSC coin index\n",
    "* For all Txn fields, see https://pyteal.readthedocs.io/en/stable/accessing_transaction_field.html"
   ]
  },
  {
   "cell_type": "code",
   "execution_count": null,
   "metadata": {},
   "outputs": [],
   "source": [
    "# prepare the burn condition\n",
    "WSC_idx =  71140107                     # <---------- change this to your WSC coin !!!!!\n",
    "\n",
    "burn_cond = And (\n",
    "    Txn.type_enum() == TxnType.AssetTransfer,        # Must be an \"asset transfer\" transaction\n",
    "    Txn.amount() == Int(0),                          # Do not pay out ALGOs\n",
    "    Txn.asset_amount() == Int(0),                    # Do also not pay out ASAs\n",
    "    Txn.xfer_asset() == Int(WSC_idx)                 # Specific asset index\n",
    ")\n",
    "\n",
    "# prepare random condition\n",
    "import random\n",
    "a = Int( random.randrange(2**32-1) )\n",
    "random_cond = ( a == a )\n",
    "\n",
    "fee_cond = Txn.fee() <= Int(1000)\n",
    "\n",
    "safety_cond = And(\n",
    "    # Txn.type_enum() == TxnType.Payment,             # This standard payment condition makes no senese here\n",
    "    Txn.close_remainder_to() == Global.zero_address(),\n",
    "    Txn.rekey_to() == Global.zero_address(),\n",
    "    )\n",
    "    \n",
    "burn_pyteal = And(\n",
    "    burn_cond,\n",
    "    random_cond, \n",
    "    fee_cond, \n",
    "    safety_cond\n",
    "    )"
   ]
  },
  {
   "cell_type": "markdown",
   "metadata": {},
   "source": [
    "##### Step 2: Compile PyTeal -> Teal"
   ]
  },
  {
   "cell_type": "code",
   "execution_count": null,
   "metadata": {},
   "outputs": [],
   "source": [
    "burn_teal = compileTeal(burn_pyteal, Mode.Signature, version=8)\n",
    "print(burn_teal)"
   ]
  },
  {
   "cell_type": "markdown",
   "metadata": {},
   "source": [
    "#### Step 3: Compile Teal -> Bytecode for AVM"
   ]
  },
  {
   "cell_type": "code",
   "execution_count": null,
   "metadata": {},
   "outputs": [],
   "source": [
    "Burn = algod_client.compile(burn_teal)"
   ]
  },
  {
   "cell_type": "markdown",
   "metadata": {},
   "source": [
    "#### Step 4: Fund burning contract\n",
    "* The Burn contract has to pay TX fees for the opt-in transaction"
   ]
  },
  {
   "cell_type": "code",
   "execution_count": null,
   "metadata": {},
   "outputs": [],
   "source": [
    "# Step 1: prepare transaction\n",
    "sp = algod_client.suggested_params()\n",
    "amt = int(0.1*1e6) + int(0.1*1e6) + int(0.001*1e6)   # Min holdings + min holdings for 1 ASA + TX fee\n",
    "txn = transaction.PaymentTxn(sender=Alice['public'], sp=sp, receiver=Burn['hash'], amt=amt)\n",
    "\n",
    "# Step 2+3+4: sign and send and wait ...\n",
    "stxn = txn.sign(Alice['private'])\n",
    "txid = algod_client.send_transaction(stxn)\n",
    "txinfo = wait_for_confirmation(algod_client, txid)"
   ]
  },
  {
   "cell_type": "markdown",
   "metadata": {},
   "source": [
    "#### Step 5: Burn contract opts-into WSC coin to allow burning\n",
    "* This is an AssetTransferTx, that is signed by the Smart Signature\n",
    "* Remember, opt-in is a transfer of zero units of an ASA to oneself\n",
    "* Covered by the burning conditions (\"pay out zero\")"
   ]
  },
  {
   "cell_type": "code",
   "execution_count": null,
   "metadata": {},
   "outputs": [],
   "source": [
    "# Step 5.1: Prepare\n",
    "sp = algod_client.suggested_params()\n",
    "txn = AssetTransferTxn(Burn['hash'], sp, Burn['hash'], 0, WSC_idx)\n",
    "\n",
    "# Step 5.2: Sign\n",
    "encodedProg = Burn['result'].encode()\n",
    "program = base64.decodebytes(encodedProg)\n",
    "lsig = LogicSig(program)\n",
    "stxn = LogicSigTransaction(txn, lsig)\n",
    "\n",
    "# Step 5.3 Send\n",
    "txid = algod_client.send_transaction(stxn)\n",
    "\n",
    "# Step 5.4 Wait for ...\n",
    "txinfo = wait_for_confirmation(algod_client, txid)\n",
    "\n",
    "print('http://testnet.algoexplorer.io/tx/'+txid)"
   ]
  },
  {
   "cell_type": "markdown",
   "metadata": {},
   "source": [
    "## The Burn contract is now ready for use"
   ]
  },
  {
   "cell_type": "markdown",
   "metadata": {},
   "source": [
    "#### Manual burn transaction\n",
    "* MyAlgo burns 8 WSC coins\n",
    "* Simple AssetTransferTxn"
   ]
  },
  {
   "cell_type": "code",
   "execution_count": null,
   "metadata": {
    "tags": []
   },
   "outputs": [],
   "source": [
    "# WAIT a minute ... how many decimals did the WSC coin have?\n",
    "WSC_decimals = algod_client.asset_info(WSC_idx)['params']['decimals']\n",
    "print(WSC_decimals)"
   ]
  },
  {
   "cell_type": "code",
   "execution_count": null,
   "metadata": {},
   "outputs": [],
   "source": [
    "# Step 1: prepare transaction\n",
    "sp = algod_client.suggested_params()\n",
    "amt = int( 8 * 10**WSC_decimals )                   # <---------8 WSC coins in SMALL unit\n",
    "\n",
    "txn = AssetTransferTxn(sender=MyAlgo['public'], sp=sp, \n",
    "                       receiver=Burn['hash'], amt=amt,\n",
    "                       index=WSC_idx)\n",
    "\n",
    "# Step 2+3+4: sign and send and wait ...\n",
    "stxn = txn.sign(MyAlgo['private'])\n",
    "txid = algod_client.send_transaction(stxn)\n",
    "txinfo = wait_for_confirmation(algod_client, txid)"
   ]
  },
  {
   "cell_type": "markdown",
   "metadata": {},
   "source": [
    "### QR code for burning\n",
    "* Burning via QR code"
   ]
  },
  {
   "cell_type": "code",
   "execution_count": null,
   "metadata": {},
   "outputs": [],
   "source": [
    "# URL for burning WITH asset index\n",
    "url = 'algorand://' + Burn['hash'] + '?amount=1000&asset='+str(WSC_idx)+'&note=Burning'\n",
    "print(url)"
   ]
  },
  {
   "cell_type": "code",
   "execution_count": null,
   "metadata": {},
   "outputs": [],
   "source": [
    "import qrcode\n",
    "qr = qrcode.QRCode(version=1,box_size=5,border=4)\n",
    "qr.add_data(url)\n",
    "qr.make(fit=True)\n",
    "qr.make_image(fill_color=\"black\", back_color=\"white\")"
   ]
  },
  {
   "cell_type": "markdown",
   "metadata": {},
   "source": [
    "## Exercise 1\n",
    "* Reconsider the **burn condition** and discuss possible safety issues. \n",
    "* Espeically, discuss the fact that repeated transactions with zero ALGOs or with zero WSC are possible\n",
    "\n",
    "```python\n",
    "burn_cond = And (\n",
    "    Txn.type_enum() == TxnType.AssetTransfer,        # Must be an \"asset transfer\" TX\n",
    "    Txn.amount() == Int(0),                          # Do not pay out ALGOs\n",
    "    Txn.asset_amount() == Int(0),                    # Do also not pay out ASAs\n",
    "    Txn.xfer_asset() == Int(WSC_idx)                 # Specific asset index\n",
    ")\n",
    "\n",
    "```"
   ]
  },
  {
   "cell_type": "markdown",
   "metadata": {},
   "source": [
    "## Exercise 2\n",
    "* Reconsider the **safety condition** \n",
    "* Why was one common safety condition commented out?\n",
    "\n",
    "```python\n",
    "safety_cond = And(\n",
    "    # Txn.type_enum() == TxnType.Payment,                     # <--- why???\n",
    "    Txn.close_remainder_to() == Global.zero_address(),\n",
    "    Txn.rekey_to() == Global.zero_address(),\n",
    "    )\n",
    "```"
   ]
  }
 ],
 "metadata": {
  "kernelspec": {
   "display_name": "Python 3 (ipykernel)",
   "language": "python",
   "name": "python3"
  },
  "language_info": {
   "codemirror_mode": {
    "name": "ipython",
    "version": 3
   },
   "file_extension": ".py",
   "mimetype": "text/x-python",
   "name": "python",
   "nbconvert_exporter": "python",
   "pygments_lexer": "ipython3",
   "version": "3.10.9"
  }
 },
 "nbformat": 4,
 "nbformat_minor": 4
}
