{
 "cells": [
  {
   "cell_type": "markdown",
   "metadata": {},
   "source": [
    "# Arguments in Smart Contracts\n",
    "#### 06.5 Writing Smart Contracts\n",
    "##### Peter Gruber (peter.gruber@usi.ch)\n",
    "2022-01-12\n",
    "\n",
    "* Interact with Smart Contracts using arguments"
   ]
  },
  {
   "cell_type": "markdown",
   "metadata": {
    "tags": []
   },
   "source": [
    "## Setup\n",
    "See notebook 04.1, the lines below will always automatically load functions in `algo_util.py`, the five accounts and the Purestake credentials"
   ]
  },
  {
   "cell_type": "code",
   "execution_count": null,
   "metadata": {},
   "outputs": [],
   "source": [
    "# Loading shared code and credentials\n",
    "import sys, os\n",
    "\n",
    "codepath = '..'+os.path.sep+'..'+os.path.sep+'sharedCode'\n",
    "sys.path.append(codepath)\n",
    "from algo_util import *\n",
    "cred = load_credentials()\n",
    "\n",
    "# Shortcuts to directly access the 3 main accounts\n",
    "MyAlgo  = cred['MyAlgo']\n",
    "Alice   = cred['Alice']\n",
    "Bob     = cred['Bob']\n",
    "Charlie = cred['Charlie']\n",
    "Dina    = cred['Dina']"
   ]
  },
  {
   "cell_type": "code",
   "execution_count": null,
   "metadata": {},
   "outputs": [],
   "source": [
    "from algosdk import account, mnemonic\n",
    "from algosdk.v2client import algod\n",
    "from algosdk import transaction\n",
    "from algosdk.transaction import PaymentTxn\n",
    "from algosdk.transaction import AssetConfigTxn, AssetTransferTxn, AssetFreezeTxn\n",
    "from algosdk.transaction import LogicSig\n",
    "\n",
    "import algosdk.error\n",
    "import json\n",
    "import base64\n",
    "import hashlib"
   ]
  },
  {
   "cell_type": "code",
   "execution_count": null,
   "metadata": {},
   "outputs": [],
   "source": [
    "from pyteal import *"
   ]
  },
  {
   "cell_type": "code",
   "execution_count": null,
   "metadata": {},
   "outputs": [],
   "source": [
    "# Initialize the algod client (Testnet or Mainnet)\n",
    "algod_client = algod.AlgodClient(algod_token='', algod_address=cred['algod_test'], headers=cred['purestake_token'])"
   ]
  },
  {
   "cell_type": "code",
   "execution_count": null,
   "metadata": {},
   "outputs": [],
   "source": [
    "print(Alice['public'])\n",
    "print(Bob['public'])\n",
    "print(Charlie['public'])"
   ]
  },
  {
   "cell_type": "markdown",
   "metadata": {},
   "source": [
    "#### Quick check of asset holdings, otherwise go to ...\n",
    "- https://bank.testnet.algorand.network\n",
    "- https://testnet.algoexplorer.io/dispenser"
   ]
  },
  {
   "cell_type": "code",
   "execution_count": null,
   "metadata": {},
   "outputs": [],
   "source": [
    "asset_holdings_df(algod_client,Alice['public'])"
   ]
  },
  {
   "cell_type": "markdown",
   "metadata": {},
   "source": [
    "### A few helper functions"
   ]
  },
  {
   "cell_type": "code",
   "execution_count": null,
   "metadata": {},
   "outputs": [],
   "source": [
    "def payment_transaction(creator_mnemonic, amt, rcv, algod_client)->dict:\n",
    "    params = algod_client.suggested_params()\n",
    "    add = mnemonic.to_public_key(creator_mnemonic)\n",
    "    key = mnemonic.to_private_key(creator_mnemonic)\n",
    "    unsigned_txn = transaction.PaymentTxn(add, params, rcv, amt)\n",
    "    signed = unsigned_txn.sign(key)\n",
    "    txid = algod_client.send_transaction(signed)\n",
    "    return txid"
   ]
  },
  {
   "cell_type": "code",
   "execution_count": null,
   "metadata": {},
   "outputs": [],
   "source": [
    "def lsig_payment_txn(escrowProg, escrow_address, amt, rcv, algod_client):\n",
    "    params = algod_client.suggested_params()\n",
    "    unsigned_txn = transaction.PaymentTxn(escrow_address, params, rcv, amt)\n",
    "    encodedProg = escrowProg.encode()\n",
    "    program = base64.decodebytes(encodedProg)\n",
    "    lsig = transaction.LogicSig(program)\n",
    "    stxn = transaction.LogicSigTransaction(unsigned_txn, lsig)\n",
    "    txid = algod_client.send_transaction(stxn)\n",
    "    return txid"
   ]
  },
  {
   "cell_type": "code",
   "execution_count": null,
   "metadata": {},
   "outputs": [],
   "source": [
    "def lsig_payment_txn_arg(escrowProg, escrow_address, amt, rcv, algod_client, arg0):\n",
    "    params = algod_client.suggested_params()\n",
    "    unsigned_txn = transaction.PaymentTxn(escrow_address, params, rcv, amt)\n",
    "    encodedProg = escrowProg.encode()\n",
    "    program = base64.decodebytes(encodedProg)\n",
    "    lsig = transaction.LogicSig(program, args=arg0)\n",
    "    stxn = transaction.LogicSigTransaction(unsigned_txn, lsig)\n",
    "    txid = algod_client.send_transaction(stxn)\n",
    "    return txid"
   ]
  },
  {
   "cell_type": "code",
   "execution_count": null,
   "metadata": {},
   "outputs": [],
   "source": [
    "def lsig_payment_txn_note(escrowProg, escrow_address, amt, rcv, algod_client,my_note):\n",
    "    note = my_note.encode()\n",
    "    params = algod_client.suggested_params()\n",
    "    unsigned_txn = transaction.PaymentTxn(escrow_address, params, rcv, amt,None, note)\n",
    "    encodedProg = escrowProg.encode()\n",
    "    program = base64.decodebytes(encodedProg)\n",
    "    lsig = transaction.LogicSig(program)\n",
    "    stxn = transaction.LogicSigTransaction(unsigned_txn, lsig)\n",
    "    txid = algod_client.send_transaction(stxn)\n",
    "    return txid"
   ]
  },
  {
   "cell_type": "code",
   "execution_count": null,
   "metadata": {},
   "outputs": [],
   "source": [
    "def lsig_payment_txn_ASA(escrowProg, escrow_address, amt, rcv, ASA_index, algod_client):\n",
    "    params = algod_client.suggested_params()\n",
    "    unsigned_txn = transaction.AssetTransferTxn(escrow_address, params, escrow_address, 0, ASA_index)\n",
    "    encodedProg = escrowProg.encode()\n",
    "    program = base64.decodebytes(encodedProg)\n",
    "    lsig = transaction.LogicSig(program)\n",
    "    stxn = transaction.LogicSigTransaction(unsigned_txn, lsig)\n",
    "    txid = algod_client.send_transaction(stxn)\n",
    "    return txid"
   ]
  },
  {
   "cell_type": "markdown",
   "metadata": {},
   "source": [
    "## The Cash Machine revisited\n",
    "\n",
    "#### Remember\n",
    "* The only way we could interact with Smart Contracts so far was the `note` field of the transaction\n",
    "* What if we want to send multiple pieces of information (multiple arguments) to a smart contract?\n",
    "\n",
    "```python\n",
    "# Condition of the Cash Machine\n",
    "cashmachine_pyteal = ( \n",
    "    Txn.note() == Bytes('{\"4711\"}') \n",
    "    )\n",
    "```\n",
    "\n",
    "```python\n",
    "# Bob had to specify the password in the note\n",
    "my_note = '{\"4711\"}'\n",
    "txn = PaymentTxn(Dispenser['hash'], amt, Bob[\"public\"],my_note.encode())\n",
    "```\n"
   ]
  },
  {
   "cell_type": "markdown",
   "metadata": {},
   "source": [
    "## The Hash lock contract v2\n",
    "* Use logic sig argument"
   ]
  },
  {
   "cell_type": "markdown",
   "metadata": {},
   "source": [
    "#### Step 1: Create a hashed version of the password"
   ]
  },
  {
   "cell_type": "code",
   "execution_count": null,
   "metadata": {},
   "outputs": [],
   "source": [
    "secret_password = 'WSC secret'\n",
    "hash = hashlib.sha256( secret_password.encode() )\n",
    "print(hash.hexdigest())                                 # The hash is HEX encoded"
   ]
  },
  {
   "cell_type": "markdown",
   "metadata": {},
   "source": [
    "#### Step 2: Use the hashed password in a different PyTeal condition\n",
    "* Using arguments for the smart contract (instead of notes)"
   ]
  },
  {
   "cell_type": "code",
   "execution_count": null,
   "metadata": {},
   "outputs": [],
   "source": [
    "hashlock_pyteal = (\n",
    "    Sha256(Arg(0)) == Bytes(hash.digest())          # <------- Now using the first argument Arg(0)\n",
    ")"
   ]
  },
  {
   "cell_type": "markdown",
   "metadata": {},
   "source": [
    "#### Step 3-4: Compile"
   ]
  },
  {
   "cell_type": "code",
   "execution_count": null,
   "metadata": {},
   "outputs": [],
   "source": [
    "# Compile PyTeal -> Teal -> Bytecode for AVM\n",
    "hashlock_teal = compileTeal(hashlock_pyteal, Mode.Signature, version=3)\n",
    "print(hashlock_teal)\n",
    "\n",
    "# Step 3: Compile Teal \n",
    "\n",
    "hashlock = algod_client.compile(hashlock_teal)\n",
    "print(\"Alice sends these two items to Bob\")\n",
    "print(\"Smart signature addr: \", hashlock['hash'])\n",
    "print(\"Smart signature code: \", hashlock['result'])"
   ]
  },
  {
   "cell_type": "markdown",
   "metadata": {},
   "source": [
    "#### Step 5: Alice is funding the Smart Signature"
   ]
  },
  {
   "cell_type": "code",
   "execution_count": null,
   "metadata": {},
   "outputs": [],
   "source": [
    "amt = 1001000        # microalgos\n",
    "txid = payment_transaction(Alice[\"mnemonic\"], amt, hashlock['hash'], algod_client)\n",
    "print('http://testnet.algoexplorer.io/tx/'+txid)"
   ]
  },
  {
   "cell_type": "code",
   "execution_count": null,
   "metadata": {},
   "outputs": [],
   "source": [
    "pmtx = wait_for_confirmation(algod_client, txid)"
   ]
  },
  {
   "cell_type": "markdown",
   "metadata": {},
   "source": [
    "#### Step 6: Bob asks the smart signature to sign a transaction with the correct password\n",
    "* Using arguments for the smart contract (instead of notes)"
   ]
  },
  {
   "cell_type": "code",
   "execution_count": null,
   "metadata": {},
   "outputs": [],
   "source": [
    "# password needs to be encoded\n",
    "withdrawal_amt = 100000\n",
    "password       = 'WSC secret'\n",
    "arg = [password.encode()]                   # arguments need to be a list, even if there is only 1 argument\n",
    "print(arg)"
   ]
  },
  {
   "cell_type": "code",
   "execution_count": null,
   "metadata": {},
   "outputs": [],
   "source": [
    "txid = lsig_payment_txn_arg(hashlock['result'], hashlock['hash'], withdrawal_amt, Bob['public'], algod_client, arg)\n",
    "pmtx = wait_for_confirmation(algod_client, txid)"
   ]
  },
  {
   "cell_type": "markdown",
   "metadata": {},
   "source": [
    "#### Step 7: Check the \"Note\" field on Algoexplorer\n",
    "Looks good ... but only at first sight"
   ]
  },
  {
   "cell_type": "code",
   "execution_count": null,
   "metadata": {},
   "outputs": [],
   "source": [
    "print('http://testnet.algoexplorer.io/tx/'+txid)"
   ]
  },
  {
   "cell_type": "code",
   "execution_count": null,
   "metadata": {},
   "outputs": [],
   "source": [
    "# copy the \"arguments\" from algoexplorer here\n",
    "arguments =  \"V1NDIHNlY3JldA==\"\n",
    "base64.b64decode(arguments)"
   ]
  },
  {
   "cell_type": "markdown",
   "metadata": {},
   "source": [
    "## Numeric arguments\n",
    "* Need to encode in Python and decode in PyTeal\n",
    "* See \"Passing parameters using the SDKs\" https://developer.algorand.org/docs/get-details/dapps/smart-contracts/frontend/smartsigs/"
   ]
  },
  {
   "cell_type": "markdown",
   "metadata": {},
   "source": [
    "### Simple quiz: find two numbers that add up to 10\n",
    "* For example 3+7 = 10"
   ]
  },
  {
   "cell_type": "code",
   "execution_count": null,
   "metadata": {},
   "outputs": [],
   "source": [
    "# Step 1: Conditions as a PyTeal\n",
    "quiz_pyteal = And(\n",
    "    Btoi(Arg(0))  + Btoi(Arg(1)) ==  Int(10)\n",
    ")\n",
    "\n",
    "# Step 2: Compile PyTeal -> Teal\n",
    "quiz_teal = compileTeal(quiz_pyteal, Mode.Signature, version=3)\n",
    "print(quiz_teal)\n",
    "\n",
    "# Step 3: Compile Teal -> Bytecode for AVM\n",
    "quiz = algod_client.compile(quiz_teal)\n",
    "print(\"Address of smart signature:\", quiz['hash'])"
   ]
  },
  {
   "cell_type": "markdown",
   "metadata": {},
   "source": [
    "**Alice** is funding the smart signature."
   ]
  },
  {
   "cell_type": "code",
   "execution_count": null,
   "metadata": {},
   "outputs": [],
   "source": [
    "amt = 1001000        # microalgos\n",
    "txid = payment_transaction(Alice[\"mnemonic\"], amt, quiz['hash'], algod_client)\n",
    "print('http://testnet.algoexplorer.io/tx/'+txid)"
   ]
  },
  {
   "cell_type": "code",
   "execution_count": null,
   "metadata": {},
   "outputs": [],
   "source": [
    "pmtx = wait_for_confirmation(algod_client, txid)"
   ]
  },
  {
   "cell_type": "markdown",
   "metadata": {},
   "source": [
    "#### Step 6: Bob asks the smart signature to sign a transaction with the correct password\n",
    "* Using arguments for the smart contract (instead of notes)"
   ]
  },
  {
   "cell_type": "code",
   "execution_count": null,
   "metadata": {},
   "outputs": [],
   "source": [
    "# password needs to be encoded\n",
    "withdrawal_amt = 10\n",
    "# integer parameter\n",
    "arg0 = (3).to_bytes(8, 'big')\n",
    "arg1 = (7).to_bytes(8, 'big')\n",
    "\n",
    "args = [arg0, arg1]                        # arguments need to be a list, even if there is only 1 argument\n",
    "print(args)"
   ]
  },
  {
   "cell_type": "code",
   "execution_count": null,
   "metadata": {},
   "outputs": [],
   "source": [
    "txid = lsig_payment_txn_arg(quiz['result'], quiz['hash'], withdrawal_amt, Bob['public'], algod_client, args)\n",
    "pmtx = wait_for_confirmation(algod_client, txid)"
   ]
  },
  {
   "cell_type": "markdown",
   "metadata": {},
   "source": [
    "#### Now try the following\n",
    "* Try different arguments that add up to 10\n",
    "* Try incorrect arguments that do not add up to 10"
   ]
  },
  {
   "cell_type": "markdown",
   "metadata": {},
   "source": [
    "#### Exercise 1\n",
    "* Create a quiz with *pythagorean triples*, like, for example, $3^2 + 4^2 = 5^5$\n",
    "* The quiz pays out 10 micro Algos for every correct solution $a,b,c$ such that $a^2+b^2=c^2$\n",
    "\n",
    "Solution `Btoi(Arg(0)) * Btoi(Arg(0))  + Btoi(Arg(1))*Btoi(Arg(1)) ==  Btoi(Arg(2))*Btoi(Arg(2))`"
   ]
  },
  {
   "cell_type": "code",
   "execution_count": null,
   "metadata": {},
   "outputs": [],
   "source": []
  }
 ],
 "metadata": {
  "kernelspec": {
   "display_name": "Python 3",
   "language": "python",
   "name": "python3"
  },
  "language_info": {
   "codemirror_mode": {
    "name": "ipython",
    "version": 3
   },
   "file_extension": ".py",
   "mimetype": "text/x-python",
   "name": "python",
   "nbconvert_exporter": "python",
   "pygments_lexer": "ipython3",
   "version": "3.8.8"
  }
 },
 "nbformat": 4,
 "nbformat_minor": 4
}
