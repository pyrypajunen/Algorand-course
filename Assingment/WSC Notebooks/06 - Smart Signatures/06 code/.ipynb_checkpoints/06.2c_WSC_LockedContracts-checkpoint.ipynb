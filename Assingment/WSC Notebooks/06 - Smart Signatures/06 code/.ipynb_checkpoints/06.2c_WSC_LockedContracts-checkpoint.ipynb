{
 "cells": [
  {
   "cell_type": "markdown",
   "metadata": {},
   "source": [
    "# HTLC – A Classical Smart Contract\n",
    "#### 06.2 Writing Smart Contracts\n",
    "##### Peter Gruber (peter.gruber@usi.ch)\n",
    "2022-01-12\n",
    "\n",
    "* Write a Hash Time Locked Contract\n",
    "* Use secret (hashed) passwords\n",
    "* Use time delays\n",
    "* Limits of passwords on the blockchain"
   ]
  },
  {
   "cell_type": "markdown",
   "metadata": {
    "tags": []
   },
   "source": [
    "## Setup\n",
    "See notebook 04.1, the lines below will always automatically load functions in `algo_util.py`, the 5 accounts and the Purestake credentials"
   ]
  },
  {
   "cell_type": "code",
   "execution_count": null,
   "metadata": {},
   "outputs": [],
   "source": [
    "# Loading shared code and credentials\n",
    "import sys, os\n",
    "\n",
    "codepath = '..'+os.path.sep+'..'+os.path.sep+'sharedCode'\n",
    "sys.path.append(codepath)\n",
    "from algo_util import *\n",
    "cred = load_credentials()\n",
    "\n",
    "# Shortcuts to directly access the 3 main accounts\n",
    "MyAlgo  = cred['MyAlgo']\n",
    "Alice   = cred['Alice']\n",
    "Bob     = cred['Bob']\n",
    "Charlie = cred['Charlie']\n",
    "Dina    = cred['Dina']"
   ]
  },
  {
   "cell_type": "code",
   "execution_count": null,
   "metadata": {},
   "outputs": [],
   "source": [
    "from algosdk import account, mnemonic\n",
    "from algosdk.v2client import algod\n",
    "from algosdk import transaction\n",
    "from algosdk.transaction import PaymentTxn\n",
    "from algosdk.transaction import AssetConfigTxn, AssetTransferTxn, AssetFreezeTxn\n",
    "from algosdk.transaction import LogicSig, LogicSigTransaction\n",
    "\n",
    "import algosdk.error\n",
    "import json\n",
    "import base64\n",
    "import hashlib"
   ]
  },
  {
   "cell_type": "code",
   "execution_count": null,
   "metadata": {},
   "outputs": [],
   "source": [
    "from pyteal import *"
   ]
  },
  {
   "cell_type": "code",
   "execution_count": null,
   "metadata": {},
   "outputs": [],
   "source": [
    "# Initialize the algod client (Testnet or Mainnet)\n",
    "algod_client = algod.AlgodClient(algod_token='', algod_address=cred['algod_test'], headers=cred['purestake_token'])\n",
    "algod_client.status()[\"last-round\"]"
   ]
  },
  {
   "cell_type": "code",
   "execution_count": null,
   "metadata": {},
   "outputs": [],
   "source": [
    "print(Alice['public'])\n",
    "print(Bob['public'])\n",
    "print(Charlie['public'])"
   ]
  },
  {
   "cell_type": "markdown",
   "metadata": {
    "tags": []
   },
   "source": [
    "#### Quick check of asset holdings, otherwise go to ...\n",
    "- https://bank.testnet.algorand.network\n",
    "- https://testnet.algoexplorer.io/dispenser"
   ]
  },
  {
   "cell_type": "code",
   "execution_count": null,
   "metadata": {},
   "outputs": [],
   "source": [
    "round(algod_client.account_info(Alice['public'])['amount']/1e6,2)"
   ]
  },
  {
   "cell_type": "markdown",
   "metadata": {},
   "source": [
    "## The HTLC contract\n",
    "* A classical Smart Contract\n",
    "* Either Hashlock **or** Timelock"
   ]
  },
  {
   "cell_type": "markdown",
   "metadata": {},
   "source": [
    "##### Step 1: All conditions in PyTeal"
   ]
  },
  {
   "cell_type": "code",
   "execution_count": null,
   "metadata": {},
   "outputs": [],
   "source": [
    "# Prepare hash condition\n",
    "import hashlib\n",
    "secret_password = 'WSC secret'\n",
    "pwdhash = hashlib.sha256(secret_password.encode() )\n",
    "hash_cond =  (\n",
    "    Sha256(Txn.note()) == Bytes(\"base16\", pwdhash.hexdigest())\n",
    ")\n",
    "\n",
    "# prepare time conditoin\n",
    "start_round = algod_client.status()[\"last-round\"] \n",
    "time_cond = (\n",
    "    Txn.first_valid() > Int(start_round+10)                    # Earliest payout after 60 blocks from \"now\"\n",
    ")\n",
    "\n",
    "# prepare reandom condition\n",
    "import random\n",
    "a = Int( random.randrange(2**32-1) )\n",
    "random_cond = ( a == a )\n",
    "\n",
    "fee_cond = Txn.fee() <= Int(1000)\n",
    "\n",
    "safety_cond = And(\n",
    "    Txn.type_enum() == TxnType.Payment,\n",
    "    Txn.close_remainder_to() == Global.zero_address(),\n",
    "    Txn.rekey_to() == Global.zero_address(),\n",
    "    )\n",
    "    \n",
    "htlc_pyteal = And(\n",
    "    Or(hash_cond, time_cond), \n",
    "    random_cond, \n",
    "    fee_cond, \n",
    "    safety_cond\n",
    "    )"
   ]
  },
  {
   "cell_type": "markdown",
   "metadata": {},
   "source": [
    "##### Step 2-3: Compile"
   ]
  },
  {
   "cell_type": "code",
   "execution_count": null,
   "metadata": {},
   "outputs": [],
   "source": [
    "# Step 2: Compile PyTeal -> Teal\n",
    "htlc_teal = compileTeal(htlc_pyteal, Mode.Signature, version=8)\n",
    "print(htlc_teal)\n",
    "\n",
    "# Step 3: Teal -> Bytecode for AVM\n",
    "Htlc = algod_client.compile(htlc_teal)\n",
    "print(\"Smart signature addr: \", Htlc['hash'])\n",
    "print(\"Smart signature code: \", Htlc['result'])"
   ]
  },
  {
   "cell_type": "markdown",
   "metadata": {},
   "source": [
    "##### Step 4: Alice funds and deploys the Smart Signature"
   ]
  },
  {
   "cell_type": "code",
   "execution_count": null,
   "metadata": {},
   "outputs": [],
   "source": [
    "# Step 1: prepare transaction\n",
    "sp = algod_client.suggested_params()\n",
    "amt = int(1.2*1e6)\n",
    "txn = transaction.PaymentTxn(sender=Alice['public'], sp=sp, receiver=Htlc['hash'], amt=amt)\n",
    "\n",
    "# Step 2+3: sign and sen\n",
    "stxn = txn.sign(Alice['private'])\n",
    "txid = algod_client.send_transaction(stxn)\n",
    "\n",
    "# Step 4: wait for confirmation\n",
    "txinfo = wait_for_confirmation(algod_client, txid)"
   ]
  },
  {
   "cell_type": "markdown",
   "metadata": {},
   "source": [
    "##### Step 5a: Bob asks the smart signature to authorize a transaction with password"
   ]
  },
  {
   "cell_type": "code",
   "execution_count": null,
   "metadata": {},
   "outputs": [],
   "source": [
    "# Step 1: prepare TX\n",
    "sp = algod_client.suggested_params()\n",
    "withdrawal_amt = int(0.1*1e6)\n",
    "my_note        = 'WSC secret'\n",
    "note           = my_note.encode()\n",
    "\n",
    "txn = PaymentTxn(sender=Htlc['hash'], sp=sp, \n",
    "                 receiver=Bob['public'], amt=withdrawal_amt,\n",
    "                 note=note)\n",
    "\n",
    "# Step 2: sign TX\n",
    "encodedProg = Htlc['result'].encode()\n",
    "program = base64.decodebytes(encodedProg)\n",
    "lsig = LogicSig(program)\n",
    "stxn = LogicSigTransaction(txn, lsig)\n",
    "\n",
    "# Step 3: send\n",
    "txid = algod_client.send_transaction(stxn)\n",
    "\n",
    "# Step 4: wait for confirmation\n",
    "txinfo = wait_for_confirmation(algod_client, txid)"
   ]
  },
  {
   "cell_type": "markdown",
   "metadata": {},
   "source": [
    "##### –OR– Step 5b: Bob waits for the timelock to expire"
   ]
  },
  {
   "cell_type": "code",
   "execution_count": null,
   "metadata": {},
   "outputs": [],
   "source": [
    "# Step 1: prepare TX\n",
    "sp = algod_client.suggested_params()\n",
    "withdrawal_amt = int(0.1*1e6)\n",
    "txn = PaymentTxn(sender=Htlc['hash'], sp=sp, \n",
    "                 receiver=Bob['public'], amt=withdrawal_amt)            # <-------- no note\n",
    "\n",
    "# Step 2: sign TX\n",
    "encodedProg = Htlc['result'].encode()\n",
    "program = base64.decodebytes(encodedProg)\n",
    "lsig = LogicSig(program)\n",
    "stxn = LogicSigTransaction(txn, lsig)\n",
    "\n",
    "# Step 3: send\n",
    "txid = algod_client.send_transaction(stxn)\n",
    "\n",
    "# Step 4: wait for confirmation\n",
    "txinfo = wait_for_confirmation(algod_client, txid)"
   ]
  },
  {
   "cell_type": "markdown",
   "metadata": {},
   "source": [
    "* Check the transactions of the Smart Signature\n",
    "* Once the password has been used, it is out in the public"
   ]
  },
  {
   "cell_type": "code",
   "execution_count": null,
   "metadata": {},
   "outputs": [],
   "source": [
    "print('https://testnet.algoexplorer.io/address/'+Htlc['hash'])"
   ]
  }
 ],
 "metadata": {
  "kernelspec": {
   "display_name": "Python 3 (ipykernel)",
   "language": "python",
   "name": "python3"
  },
  "language_info": {
   "codemirror_mode": {
    "name": "ipython",
    "version": 3
   },
   "file_extension": ".py",
   "mimetype": "text/x-python",
   "name": "python",
   "nbconvert_exporter": "python",
   "pygments_lexer": "ipython3",
   "version": "3.10.9"
  }
 },
 "nbformat": 4,
 "nbformat_minor": 4
}
