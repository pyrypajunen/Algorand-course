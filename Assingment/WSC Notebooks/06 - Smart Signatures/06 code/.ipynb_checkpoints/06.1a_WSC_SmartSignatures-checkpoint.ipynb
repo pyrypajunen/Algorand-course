{
 "cells": [
  {
   "cell_type": "markdown",
   "metadata": {},
   "source": [
    "# Smart signatures\n",
    "#### 06.1 Writing Smart Contracts\n",
    "##### Peter Gruber (peter.gruber@usi.ch)\n",
    "2022-02-10 (started 2022-01-12)\n",
    "\n",
    "* Install PyTEAL\n",
    "* Learn the PyTEAL logic\n",
    "* Write and deploy smart Signatures"
   ]
  },
  {
   "cell_type": "markdown",
   "metadata": {},
   "source": [
    "### Install PyTEAL\n",
    "* If you have trouble updating PyTEAL, have a look at notebook 02.x_WSC about updating/upgrading."
   ]
  },
  {
   "cell_type": "code",
   "execution_count": 7,
   "metadata": {},
   "outputs": [
    {
     "name": "stdout",
     "output_type": "stream",
     "text": [
      "Collecting pandas\n",
      "  Downloading pandas-1.5.3-cp310-cp310-macosx_10_9_x86_64.whl (12.0 MB)\n",
      "\u001b[2K     \u001b[90m━━━━━━━━━━━━━━━━━━━━━━━━━━━━━━━━━━━━━━━━\u001b[0m \u001b[32m12.0/12.0 MB\u001b[0m \u001b[31m52.3 MB/s\u001b[0m eta \u001b[36m0:00:00\u001b[0m00:01\u001b[0m0:01\u001b[0m\n",
      "\u001b[?25hRequirement already satisfied: pytz>=2020.1 in /Users/pyrypajunen/opt/anaconda3/envs/py10/lib/python3.10/site-packages (from pandas) (2022.7)\n",
      "Collecting numpy>=1.21.0\n",
      "  Downloading numpy-1.24.2-cp310-cp310-macosx_10_9_x86_64.whl (19.8 MB)\n",
      "\u001b[2K     \u001b[90m━━━━━━━━━━━━━━━━━━━━━━━━━━━━━━━━━━━━━━━━\u001b[0m \u001b[32m19.8/19.8 MB\u001b[0m \u001b[31m34.0 MB/s\u001b[0m eta \u001b[36m0:00:00\u001b[0m00:01\u001b[0m00:01\u001b[0m\n",
      "\u001b[?25hRequirement already satisfied: python-dateutil>=2.8.1 in /Users/pyrypajunen/opt/anaconda3/envs/py10/lib/python3.10/site-packages (from pandas) (2.8.2)\n",
      "Requirement already satisfied: six>=1.5 in /Users/pyrypajunen/opt/anaconda3/envs/py10/lib/python3.10/site-packages (from python-dateutil>=2.8.1->pandas) (1.16.0)\n",
      "Installing collected packages: numpy, pandas\n",
      "Successfully installed numpy-1.24.2 pandas-1.5.3\n"
     ]
    }
   ],
   "source": [
    "#!pip install pyteal --upgrade\n",
    "!pip install pandas"
   ]
  },
  {
   "cell_type": "markdown",
   "metadata": {
    "tags": []
   },
   "source": [
    "## Setup\n",
    "See notebook 04.1, the lines below will always automatically load functions in `algo_util.py`, the five accounts and the Purestake credentials"
   ]
  },
  {
   "cell_type": "code",
   "execution_count": 2,
   "metadata": {},
   "outputs": [],
   "source": [
    "# Loading shared code and credentials\n",
    "import sys, os\n",
    "\n",
    "codepath = '..'+os.path.sep+'..'+os.path.sep+'sharedCode'\n",
    "sys.path.append(codepath)\n",
    "from algo_util import *\n",
    "cred = load_credentials()\n",
    "\n",
    "# Shortcuts to directly access the 3 main accounts\n",
    "MyAlgo  = cred['MyAlgo']\n",
    "Alice   = cred['Alice']\n",
    "Bob     = cred['Bob']\n",
    "Charlie = cred['Charlie']\n",
    "Dina    = cred['Dina']"
   ]
  },
  {
   "cell_type": "code",
   "execution_count": 3,
   "metadata": {},
   "outputs": [],
   "source": [
    "from algosdk import account, mnemonic\n",
    "from algosdk.v2client import algod\n",
    "from algosdk import transaction\n",
    "from algosdk.transaction import PaymentTxn\n",
    "from algosdk.transaction import AssetConfigTxn, AssetTransferTxn, AssetFreezeTxn\n",
    "from algosdk.transaction import LogicSig, LogicSigTransaction\n",
    "\n",
    "import algosdk.error\n",
    "import json\n",
    "import base64\n",
    "import hashlib"
   ]
  },
  {
   "cell_type": "code",
   "execution_count": 4,
   "metadata": {},
   "outputs": [],
   "source": [
    "from pyteal import *"
   ]
  },
  {
   "cell_type": "code",
   "execution_count": 5,
   "metadata": {},
   "outputs": [
    {
     "data": {
      "text/plain": [
       "27758271"
      ]
     },
     "execution_count": 5,
     "metadata": {},
     "output_type": "execute_result"
    }
   ],
   "source": [
    "# Initialize the algod client (Testnet or Mainnet)\n",
    "algod_client = algod.AlgodClient(algod_token='', algod_address=cred['algod_test'], headers=cred['purestake_token'])\n",
    "algod_client.status()['last-round']"
   ]
  },
  {
   "cell_type": "markdown",
   "metadata": {},
   "source": [
    "#### Quick check of asset holdings, otherwise go to ...\n",
    "- https://bank.testnet.algorand.network\n",
    "- https://testnet.algoexplorer.io/dispenser"
   ]
  },
  {
   "cell_type": "code",
   "execution_count": 8,
   "metadata": {},
   "outputs": [
    {
     "data": {
      "text/html": [
       "<div>\n",
       "<style scoped>\n",
       "    .dataframe tbody tr th:only-of-type {\n",
       "        vertical-align: middle;\n",
       "    }\n",
       "\n",
       "    .dataframe tbody tr th {\n",
       "        vertical-align: top;\n",
       "    }\n",
       "\n",
       "    .dataframe thead th {\n",
       "        text-align: right;\n",
       "    }\n",
       "</style>\n",
       "<table border=\"1\" class=\"dataframe\">\n",
       "  <thead>\n",
       "    <tr style=\"text-align: right;\">\n",
       "      <th></th>\n",
       "      <th>amount</th>\n",
       "      <th>unit</th>\n",
       "      <th>asset-id</th>\n",
       "      <th>name</th>\n",
       "      <th>decimals</th>\n",
       "    </tr>\n",
       "  </thead>\n",
       "  <tbody>\n",
       "    <tr>\n",
       "      <th>0</th>\n",
       "      <td>20.99800</td>\n",
       "      <td>ALGO</td>\n",
       "      <td>0</td>\n",
       "      <td>Algorand</td>\n",
       "      <td>6</td>\n",
       "    </tr>\n",
       "    <tr>\n",
       "      <th>1</th>\n",
       "      <td>180.00025</td>\n",
       "      <td>USDC</td>\n",
       "      <td>10458941</td>\n",
       "      <td>USDC</td>\n",
       "      <td>6</td>\n",
       "    </tr>\n",
       "    <tr>\n",
       "      <th>2</th>\n",
       "      <td>0.00000</td>\n",
       "      <td>MAJ</td>\n",
       "      <td>159493805</td>\n",
       "      <td>Maj NFT</td>\n",
       "      <td>0</td>\n",
       "    </tr>\n",
       "  </tbody>\n",
       "</table>\n",
       "</div>"
      ],
      "text/plain": [
       "      amount  unit   asset-id      name  decimals\n",
       "0   20.99800  ALGO          0  Algorand         6\n",
       "1  180.00025  USDC   10458941      USDC         6\n",
       "2    0.00000   MAJ  159493805   Maj NFT         0"
      ]
     },
     "execution_count": 8,
     "metadata": {},
     "output_type": "execute_result"
    }
   ],
   "source": [
    "asset_holdings_df(algod_client,Alice['public'])"
   ]
  },
  {
   "cell_type": "markdown",
   "metadata": {},
   "source": [
    "## Smart Signatures\n",
    "* Function that has two possible results `True` or `False`\n",
    "* Can only evaluate properties of a proposed transaction.\n",
    "* Cannot read or write from/to the blockchain"
   ]
  },
  {
   "cell_type": "markdown",
   "metadata": {},
   "source": [
    "## The Dispenser\n",
    "* The simplest smart signature is always `TRUE`\n",
    "* It accepts **all** transactions that are proposed"
   ]
  },
  {
   "cell_type": "markdown",
   "metadata": {},
   "source": [
    "#### Step 1: PyTeal program\n",
    "* The logic of the smart signature. \n",
    "* Usually written inside `( ... )`\n",
    "* Condition `a == a` is always `True`"
   ]
  },
  {
   "cell_type": "code",
   "execution_count": 13,
   "metadata": {},
   "outputs": [],
   "source": [
    "# prepare\n",
    "from random import randrange\n",
    "a = Int(randrange(2**32-1))   \n",
    "\n",
    "# smart signature\n",
    "dispenser_pyteal = (\n",
    "    (a) == (a)\n",
    ")"
   ]
  },
  {
   "cell_type": "markdown",
   "metadata": {},
   "source": [
    "#### Step 2: Compile PyTeal -> Teal\n",
    "* Version = current AVM version, see https://pyteal.readthedocs.io/en/stable/versions.html\n",
    "* Inspect the TEAL program for curiosity\n"
   ]
  },
  {
   "cell_type": "code",
   "execution_count": 14,
   "metadata": {},
   "outputs": [
    {
     "name": "stdout",
     "output_type": "stream",
     "text": [
      "#pragma version 8\n",
      "int 2243267623\n",
      "int 2243267623\n",
      "==\n",
      "return\n"
     ]
    }
   ],
   "source": [
    "dispenser_teal = compileTeal(dispenser_pyteal, \n",
    "                             Mode.Signature,       # <----- Here we say it is a Smart Signature (and not a Smart Contract)\n",
    "                             version=8)\n",
    "print(dispenser_teal)"
   ]
  },
  {
   "cell_type": "markdown",
   "metadata": {},
   "source": [
    "#### Step 3: Compile Teal -> Bytecode for AVM\n",
    "AVM = Algorand Virtual Machine\n",
    "\n",
    "`algod_client.compile` creates a dict with two entries:\n",
    "* `hash` contains the address $\\longleftarrow$ corresponds to the `[public]`\n",
    "* `result` contains the compiled code $\\longleftarrow$ corresponds to the `[private]`"
   ]
  },
  {
   "cell_type": "code",
   "execution_count": 15,
   "metadata": {},
   "outputs": [
    {
     "data": {
      "text/plain": [
       "{'hash': '5XGJGBWFSQ6MQSM6MP2LZP6PP6HTJQKQQTYGRJLHDU7Q7HNPWHQKZER3GM',\n",
       " 'result': 'CCABp5jWrQgiIhJD'}"
      ]
     },
     "execution_count": 15,
     "metadata": {},
     "output_type": "execute_result"
    }
   ],
   "source": [
    "Dispenser = algod_client.compile(dispenser_teal)\n",
    "Dispenser"
   ]
  },
  {
   "cell_type": "markdown",
   "metadata": {},
   "source": [
    "#### Exercise: compare your hash to your neighbour's\n",
    "* Run steps 1-2-3 again and observe hash\n",
    "* Random `a` creates unique contract $\\leftrightarrow$ unique address\n",
    "* Try setting `a=1` and compare the hash to your neighbour\n",
    "* ❗️ change back to `a` random"
   ]
  },
  {
   "cell_type": "code",
   "execution_count": 16,
   "metadata": {},
   "outputs": [
    {
     "name": "stdout",
     "output_type": "stream",
     "text": [
      "http://testnet.algoexplorer.io/address/5XGJGBWFSQ6MQSM6MP2LZP6PP6HTJQKQQTYGRJLHDU7Q7HNPWHQKZER3GM\n"
     ]
    }
   ],
   "source": [
    "# Look on Algoexplorer at the address of the smart signature. \n",
    "# (There is not yet something to see)\n",
    "print('http://testnet.algoexplorer.io/address/'+Dispenser['hash'])"
   ]
  },
  {
   "cell_type": "markdown",
   "metadata": {},
   "source": [
    "#### Step 4: Deployment – Alice funds the smart signature\n",
    "* Only *at this step* we decide who is funding the smart signature.\n",
    "* We can write the Smart Signature without knowing who will fund it.\n",
    "* It is even possible that multiple people fund a Smart Signature.\n",
    "* **Note:* recipient is the **Dispenser**"
   ]
  },
  {
   "cell_type": "code",
   "execution_count": 17,
   "metadata": {},
   "outputs": [
    {
     "name": "stdout",
     "output_type": "stream",
     "text": [
      "Current round is  27758398.\n",
      "Waiting for round 27758398 to finish.\n",
      "Waiting for round 27758399 to finish.\n",
      "Transaction 2YPCXIJDL4BAKRVTJC2IPUOKHR5URZPH5VXR6C45HDNWNTGU4TSQ confirmed in round 27758400.\n"
     ]
    }
   ],
   "source": [
    "# Step 1: prepare transaction\n",
    "sp = algod_client.suggested_params()\n",
    "amt = int(2.1*1e6)\n",
    "txn = transaction.PaymentTxn(sender=Alice['public'], sp=sp, receiver=Dispenser['hash'], amt=amt)\n",
    "\n",
    "# Step 2+3: sign and sen\n",
    "stxn = txn.sign(Alice['private'])\n",
    "txid = algod_client.send_transaction(stxn)\n",
    "\n",
    "# Step 4: wait for confirmation\n",
    "txinfo = wait_for_confirmation(algod_client, txid)"
   ]
  },
  {
   "cell_type": "code",
   "execution_count": 18,
   "metadata": {},
   "outputs": [
    {
     "name": "stdout",
     "output_type": "stream",
     "text": [
      "http://testnet.algoexplorer.io/address/5XGJGBWFSQ6MQSM6MP2LZP6PP6HTJQKQQTYGRJLHDU7Q7HNPWHQKZER3GM\n"
     ]
    }
   ],
   "source": [
    "# Look at Algoexplorer. (The smart signature is funded.)\n",
    "print('http://testnet.algoexplorer.io/address/'+Dispenser['hash'])"
   ]
  },
  {
   "cell_type": "markdown",
   "metadata": {},
   "source": [
    "#### Step 5: Communication – Alice informs Bob\n",
    "*  Bob can only interact with the Smart signature, if he has the following information:"
   ]
  },
  {
   "cell_type": "code",
   "execution_count": 19,
   "metadata": {},
   "outputs": [
    {
     "name": "stdout",
     "output_type": "stream",
     "text": [
      "Alice communicates to Bob the following\n",
      "Compiled smart signature: CCABp5jWrQgiIhJD\n",
      "Address of smart signature:  5XGJGBWFSQ6MQSM6MP2LZP6PP6HTJQKQQTYGRJLHDU7Q7HNPWHQKZER3GM\n"
     ]
    }
   ],
   "source": [
    "print(\"Alice communicates to Bob the following\")\n",
    "print(\"Compiled smart signature:\", Dispenser['result'])\n",
    "print(\"Address of smart signature: \", Dispenser['hash'])"
   ]
  },
  {
   "cell_type": "markdown",
   "metadata": {},
   "source": [
    "#### Step 6: Bob proposes a transaction to the smart signature\n",
    "* Using the information obtained in step 5\n",
    "* He proposes a payment from the dispenser to himself\n",
    "* The payment transaction is signed by the smart signature, **if the conditions are fullfilled** (easy in this case)"
   ]
  },
  {
   "cell_type": "code",
   "execution_count": 23,
   "metadata": {
    "tags": []
   },
   "outputs": [
    {
     "name": "stdout",
     "output_type": "stream",
     "text": [
      "Current round is  27758701.\n",
      "Waiting for round 27758701 to finish.\n",
      "Waiting for round 27758702 to finish.\n",
      "Transaction 7SPYPZIMQXPXSIZVIDIEE223NALMFTEPXB6U6X4XIFHHRBUMTVWA confirmed in round 27758703.\n"
     ]
    }
   ],
   "source": [
    "# Step 1: prepare TX\n",
    "sp = algod_client.suggested_params()\n",
    "withdrawal_amt = int(1*1e6)\n",
    "txn = PaymentTxn(sender=Dispenser['hash'], sp=sp, receiver=Bob['public'], amt=withdrawal_amt)\n",
    "\n",
    "# Step 2: sign TX <---- This step is different!\n",
    "encodedProg = Dispenser['result'].encode()\n",
    "program = base64.decodebytes(encodedProg)\n",
    "lsig = LogicSig(program)\n",
    "stxn = LogicSigTransaction(txn, lsig)\n",
    "\n",
    "# Step 3: send\n",
    "txid = algod_client.send_transaction(stxn)\n",
    "\n",
    "# Step 4: wait for confirmation\n",
    "txinfo = wait_for_confirmation(algod_client, txid)"
   ]
  },
  {
   "cell_type": "code",
   "execution_count": 24,
   "metadata": {},
   "outputs": [
    {
     "name": "stdout",
     "output_type": "stream",
     "text": [
      "http://testnet.algoexplorer.io/address/5XGJGBWFSQ6MQSM6MP2LZP6PP6HTJQKQQTYGRJLHDU7Q7HNPWHQKZER3GM\n",
      "http://testnet.algoexplorer.io/address/MB4W4II5EEZ7VA5RGS74BTND5CMYDXMUHGRJ42HQYOSMDJZ23ZPIUWRRKM\n"
     ]
    }
   ],
   "source": [
    "# Look again at Algoexplorer. \n",
    "# - The smart signature has fewer ALGOs.\n",
    "# - Bob has more ALGOs.\n",
    "print('http://testnet.algoexplorer.io/address/'+Dispenser['hash'])\n",
    "print('http://testnet.algoexplorer.io/address/'+Bob['public'])\n",
    "foo=asset_holdings_df2(algod_client,Dispenser['hash'],Bob['public'],['Dispenser','Bob'])"
   ]
  },
  {
   "cell_type": "markdown",
   "metadata": {},
   "source": [
    "### Exercise\n",
    "* Run step 6 again and check again holdings\n",
    "    * How did the holdings change?\n",
    "    * Who pays the transaction fee?"
   ]
  },
  {
   "cell_type": "markdown",
   "metadata": {},
   "source": [
    "### Exercise\n",
    "* Charlie wants to get **all** the money in the Smart Signature.\n",
    "* How much can he withdraw?\n",
    "* Do not forget the ..."
   ]
  },
  {
   "cell_type": "code",
   "execution_count": 25,
   "metadata": {},
   "outputs": [
    {
     "data": {
      "text/plain": [
       "50098000"
      ]
     },
     "execution_count": 25,
     "metadata": {},
     "output_type": "execute_result"
    }
   ],
   "source": [
    "# Hint: this is the amount of micro-Algos currently in the Smart Signaure\n",
    "algod_client.account_info(Dispenser['hash'])['amount']"
   ]
  },
  {
   "cell_type": "code",
   "execution_count": null,
   "metadata": {},
   "outputs": [],
   "source": [
    "# Python code goes here\n",
    "# Step 1: prepare TX\n",
    "sp = algod_client.suggested_params()\n",
    "withdrawal_amt = int(1*1e6)\n",
    "txn = PaymentTxn(sender=Dispenser['hash'], sp=sp, receiver=Bob['public'], amt=withdrawal_amt)\n",
    "\n",
    "# Step 2: sign TX <---- This step is different!\n",
    "encodedProg = Dispenser['result'].encode()\n",
    "program = base64.decodebytes(encodedProg)\n",
    "lsig = LogicSig(program)\n",
    "stxn = LogicSigTransaction(txn, lsig)\n",
    "\n",
    "# Step 3: send\n",
    "txid = algod_client.send_transaction(stxn)\n",
    "\n",
    "# Step 4: wait for confirmation\n",
    "txinfo = wait_for_confirmation(algod_client, txid)"
   ]
  }
 ],
 "metadata": {
  "kernelspec": {
   "display_name": "Python 3 (ipykernel)",
   "language": "python",
   "name": "python3"
  },
  "language_info": {
   "codemirror_mode": {
    "name": "ipython",
    "version": 3
   },
   "file_extension": ".py",
   "mimetype": "text/x-python",
   "name": "python",
   "nbconvert_exporter": "python",
   "pygments_lexer": "ipython3",
   "version": "3.10.9"
  }
 },
 "nbformat": 4,
 "nbformat_minor": 4
}
