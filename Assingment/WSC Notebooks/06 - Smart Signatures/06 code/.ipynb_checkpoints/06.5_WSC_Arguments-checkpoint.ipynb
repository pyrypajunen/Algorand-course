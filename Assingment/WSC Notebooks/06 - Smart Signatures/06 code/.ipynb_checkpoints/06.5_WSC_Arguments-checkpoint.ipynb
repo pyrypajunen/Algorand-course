{
 "cells": [
  {
   "cell_type": "markdown",
   "metadata": {},
   "source": [
    "# Arguments in Smart Contracts\n",
    "#### 06.5 Writing Smart Contracts\n",
    "##### Peter Gruber (peter.gruber@usi.ch)\n",
    "2022-01-12\n",
    "\n",
    "* Interact with Smart Contracts using arguments"
   ]
  },
  {
   "cell_type": "markdown",
   "metadata": {
    "tags": []
   },
   "source": [
    "## Setup\n",
    "See notebook 04.1, the lines below will always automatically load functions in `algo_util.py`, the five accounts and the Purestake credentials"
   ]
  },
  {
   "cell_type": "code",
   "execution_count": null,
   "metadata": {},
   "outputs": [],
   "source": [
    "# Loading shared code and credentials\n",
    "import sys, os\n",
    "\n",
    "codepath = '..'+os.path.sep+'..'+os.path.sep+'sharedCode'\n",
    "sys.path.append(codepath)\n",
    "from algo_util import *\n",
    "cred = load_credentials()\n",
    "\n",
    "# Shortcuts to directly access the 3 main accounts\n",
    "MyAlgo  = cred['MyAlgo']\n",
    "Alice   = cred['Alice']\n",
    "Bob     = cred['Bob']\n",
    "Charlie = cred['Charlie']\n",
    "Dina    = cred['Dina']"
   ]
  },
  {
   "cell_type": "code",
   "execution_count": null,
   "metadata": {},
   "outputs": [],
   "source": [
    "from algosdk import account, mnemonic\n",
    "from algosdk.v2client import algod\n",
    "from algosdk import transaction\n",
    "from algosdk.transaction import PaymentTxn\n",
    "from algosdk.transaction import AssetConfigTxn, AssetTransferTxn, AssetFreezeTxn\n",
    "from algosdk.transaction import LogicSig, LogicSigTransaction\n",
    "\n",
    "import algosdk.error\n",
    "import json\n",
    "import base64\n",
    "import hashlib"
   ]
  },
  {
   "cell_type": "code",
   "execution_count": null,
   "metadata": {},
   "outputs": [],
   "source": [
    "from pyteal import *"
   ]
  },
  {
   "cell_type": "code",
   "execution_count": null,
   "metadata": {},
   "outputs": [],
   "source": [
    "# Initialize the algod client (Testnet or Mainnet)\n",
    "algod_client = algod.AlgodClient(algod_token='', algod_address=cred['algod_test'], headers=cred['purestake_token'])\n",
    "algod_client.status()[\"last-round\"]"
   ]
  },
  {
   "cell_type": "code",
   "execution_count": null,
   "metadata": {},
   "outputs": [],
   "source": [
    "print(Alice['public'])\n",
    "print(Bob['public'])\n",
    "print(Charlie['public'])"
   ]
  },
  {
   "cell_type": "markdown",
   "metadata": {},
   "source": [
    "#### Quick check of asset holdings, otherwise go to ...\n",
    "- https://bank.testnet.algorand.network\n",
    "- https://testnet.algoexplorer.io/dispenser"
   ]
  },
  {
   "cell_type": "code",
   "execution_count": null,
   "metadata": {},
   "outputs": [],
   "source": [
    "asset_holdings_df(algod_client,Alice['public'])"
   ]
  },
  {
   "cell_type": "markdown",
   "metadata": {},
   "source": [
    "## Numeric arguments\n",
    "* Smart Signatures can work with multiple arguments\n",
    "* Need to encode in Python and decode in PyTeal\n",
    "* See \"Passing parameters using the SDKs\" https://developer.algorand.org/docs/get-details/dapps/smart-contracts/frontend/smartsigs/"
   ]
  },
  {
   "cell_type": "markdown",
   "metadata": {},
   "source": [
    "## A mathematical quiz: find two numbers so that $x+y=10$\n",
    "* Payout a small prize in Algo for the first to solve it\n",
    "* Example solution 3+7 = 10\n",
    "* Input arguments are called `Arg(0)` and `Arg(1)`"
   ]
  },
  {
   "cell_type": "code",
   "execution_count": null,
   "metadata": {},
   "outputs": [],
   "source": [
    "# Step 1: Conditions as a PyTeal\n",
    "# (no security here)\n",
    "quiz_cond = (\n",
    "    Btoi(Arg(0))  + Btoi(Arg(1)) ==  Int(10)     # Btoi = \"binary to integer\"\n",
    ")\n",
    "\n",
    "# prepare random condition\n",
    "import random\n",
    "a = Int( random.randrange(2**32-1) )\n",
    "random_cond = ( a == a )\n",
    "\n",
    "fee_cond = Txn.fee() <= Int(1000)\n",
    "\n",
    "safety_cond = And(\n",
    "    Txn.type_enum() == TxnType.Payment,\n",
    "    # Txn.close_remainder_to() == Global.zero_address(),      # Quiz allows close out\n",
    "    Txn.rekey_to() == Global.zero_address(),\n",
    "    )\n",
    "\n",
    "quiz_pyteal = And(\n",
    "    quiz_cond,\n",
    "    random_cond,\n",
    "    fee_cond,\n",
    "    safety_cond\n",
    ")"
   ]
  },
  {
   "cell_type": "code",
   "execution_count": null,
   "metadata": {},
   "outputs": [],
   "source": [
    "# Step 2+3: Compile PyTeal -> Teal -> Bytecode for AVM\n",
    "quiz_teal = compileTeal(quiz_pyteal, Mode.Signature, version=3)\n",
    "Quiz = algod_client.compile(quiz_teal)"
   ]
  },
  {
   "cell_type": "code",
   "execution_count": null,
   "metadata": {},
   "outputs": [],
   "source": [
    "# Step 4: Alice is funding the quiz\n",
    "# Step 4.1: prepare transaction\n",
    "sp = algod_client.suggested_params()\n",
    "\n",
    "# How much? Prize money of 1 Algo + TX fee\n",
    "amt = int(1*1e6) + int(0.001*1e6)\n",
    "txn = transaction.PaymentTxn(sender=Alice['public'], sp=sp, \n",
    "                             receiver=Quiz['hash'], amt=amt)\n",
    "\n",
    "# Step 4.2 to 4.4: sign, send and wait ...\n",
    "stxn = txn.sign(Alice['private'])\n",
    "txid = algod_client.send_transaction(stxn)\n",
    "txinfo = wait_for_confirmation(algod_client, txid)"
   ]
  },
  {
   "cell_type": "markdown",
   "metadata": {},
   "source": [
    "### Inform the public\n",
    "* The quiz is now ready\n",
    "* We need to communicate to the public ...\n",
    "    * **Note:** The program code for the quiz is public, but this is OK"
   ]
  },
  {
   "cell_type": "code",
   "execution_count": null,
   "metadata": {},
   "outputs": [],
   "source": [
    "print('Address of the Quiz:       '+Quiz['hash'])\n",
    "print('Program code for the Quiz: '+Quiz['result'])"
   ]
  },
  {
   "cell_type": "markdown",
   "metadata": {},
   "source": [
    "#### Step 6: Bob submits a solution\n",
    "* Using arguments for the smart contract (instead of notes)\n",
    "* We start with an incorrect submission\n",
    "* Then change the submision to a correct solution"
   ]
  },
  {
   "cell_type": "code",
   "execution_count": null,
   "metadata": {},
   "outputs": [],
   "source": [
    "# Step 6.1: prepare transaction\n",
    "sp = algod_client.suggested_params()\n",
    "\n",
    "# integer parameter\n",
    "arg0 = (5).to_bytes(8, 'big')\n",
    "arg1 = (8).to_bytes(8, 'big')\n",
    "bob_solution_args = [arg0, arg1]                   # arguments need to be a list, \n",
    "                                                   # even if there is only 1 argument\n",
    "\n",
    "txn = PaymentTxn(sender= Quiz['hash'], \n",
    "                 sp=sp, \n",
    "                 receiver=Bob['public'], \n",
    "                 amt=0,                            # <---- amount is zero\n",
    "                 close_remainder_to=Bob['public']  # <---- This is how Bob gets the money\n",
    "                )\n",
    "\n",
    "# Steo 6.2: Sign\n",
    "encodedProg = Quiz['result'].encode()\n",
    "program = base64.decodebytes(encodedProg)\n",
    "lsig = LogicSig(program, args=bob_solution_args)  # <------- HERE is where we add the arguments\n",
    "stxn = LogicSigTransaction(txn, lsig)\n",
    "\n",
    "# Step 6.3 Send\n",
    "txid = algod_client.send_transaction(stxn)\n",
    "\n",
    "# Step 6.4 Wait for ...\n",
    "txinfo = wait_for_confirmation(algod_client, txid)\n"
   ]
  },
  {
   "cell_type": "markdown",
   "metadata": {},
   "source": [
    "#### Exercise 1\n",
    "* Your MyAlgo account should do this:\n",
    "* Create a quiz so that three numbers have to add up to a secret number (choose between 0 and 10)\n",
    "* Fund the quiz\n",
    "* Invite your neighbour to play the quiz"
   ]
  },
  {
   "cell_type": "markdown",
   "metadata": {},
   "source": [
    "#### Exercise 2\n",
    "* Create a quiz with *pythagorean triples*, like, for example, $3^2 + 4^2 = 5^5$\n",
    "* The quiz pays out 10 micro Algos for every correct solution $a,b,c$ such that $a^2+b^2=c^2$"
   ]
  },
  {
   "cell_type": "markdown",
   "metadata": {},
   "source": [
    "## Appendix: the story why there is only integer arithmetic on the blockchain"
   ]
  },
  {
   "cell_type": "code",
   "execution_count": null,
   "metadata": {},
   "outputs": [],
   "source": [
    "3.3 + 8.8 == 12.1"
   ]
  },
  {
   "cell_type": "code",
   "execution_count": null,
   "metadata": {},
   "outputs": [],
   "source": [
    "3.3 + 8.8"
   ]
  }
 ],
 "metadata": {
  "kernelspec": {
   "display_name": "Python 3 (ipykernel)",
   "language": "python",
   "name": "python3"
  },
  "language_info": {
   "codemirror_mode": {
    "name": "ipython",
    "version": 3
   },
   "file_extension": ".py",
   "mimetype": "text/x-python",
   "name": "python",
   "nbconvert_exporter": "python",
   "pygments_lexer": "ipython3",
   "version": "3.10.9"
  }
 },
 "nbformat": 4,
 "nbformat_minor": 4
}
