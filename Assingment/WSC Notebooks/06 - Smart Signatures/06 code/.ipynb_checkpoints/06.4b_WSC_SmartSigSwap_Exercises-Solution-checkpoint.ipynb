{
 "cells": [
  {
   "cell_type": "markdown",
   "metadata": {},
   "source": [
    "## Smart Signatures with Atomic Swaps\n",
    "## Exercises\n",
    "#### 06.4 Winter School on Smart Contracts\n",
    "##### Peter Gruber (peter.gruber@usi.ch)\n",
    "2022-01-22\n",
    "\n",
    "* Sell ASA for a fixed price\n",
    "* Combine Atomic Swap and Smart Signature\n",
    "* Learn to use the If statement"
   ]
  },
  {
   "cell_type": "markdown",
   "metadata": {
    "tags": []
   },
   "source": [
    "## Setup\n",
    "See notebook 04.1, the lines below will always automatically load functions in `algo_util.py`, the 5 accounts and the Purestake credentials"
   ]
  },
  {
   "cell_type": "code",
   "execution_count": 2,
   "metadata": {},
   "outputs": [],
   "source": [
    "# Loading shared code and credentials\n",
    "import sys, os\n",
    "\n",
    "codepath = '..'+os.path.sep+'..'+os.path.sep+'sharedCode'\n",
    "sys.path.append(codepath)\n",
    "from algo_util import *\n",
    "cred = load_credentials()\n",
    "\n",
    "# Shortcuts to directly access the 3 main accounts\n",
    "MyAlgo  = cred['MyAlgo']\n",
    "Alice   = cred['Alice']\n",
    "Bob     = cred['Bob']\n",
    "Charlie = cred['Charlie']\n",
    "Dina    = cred['Dina']"
   ]
  },
  {
   "cell_type": "code",
   "execution_count": 3,
   "metadata": {},
   "outputs": [],
   "source": [
    "from algosdk import account, mnemonic\n",
    "from algosdk.v2client import algod\n",
    "from algosdk.future import transaction\n",
    "from algosdk.future.transaction import PaymentTxn\n",
    "from algosdk.future.transaction import AssetConfigTxn, AssetTransferTxn, AssetFreezeTxn\n",
    "from algosdk.future.transaction import LogicSig, LogicSigTransaction\n",
    "\n",
    "import algosdk.error\n",
    "import json\n",
    "import base64\n",
    "import pandas as pd"
   ]
  },
  {
   "cell_type": "code",
   "execution_count": 4,
   "metadata": {},
   "outputs": [],
   "source": [
    "from pyteal import *"
   ]
  },
  {
   "cell_type": "code",
   "execution_count": 5,
   "metadata": {},
   "outputs": [],
   "source": [
    "# Initialize the algod client (Testnet or Mainnet)\n",
    "algod_client = algod.AlgodClient(algod_token='', algod_address=cred['algod_test'], headers=cred['purestake_token'])"
   ]
  },
  {
   "cell_type": "code",
   "execution_count": 6,
   "metadata": {},
   "outputs": [
    {
     "name": "stdout",
     "output_type": "stream",
     "text": [
      "HITPAAJ4HKANMP6EUYASXDUTCL653T7QMNHJL5NODL6XEGBM4KBLDJ2D2E\n",
      "O2SLRPK4I4SWUOCYGGKHHUCFJJF5ORHFL76YO43FYTB7HUO7AHDDNNR5YA\n",
      "5GIOBOLZSQEHTNNXWRJ6RGNPGCKWYJYUZZKY6YXHJVKFZXRB2YLDFDVH64\n"
     ]
    }
   ],
   "source": [
    "print(Alice['public'])\n",
    "print(Bob['public'])\n",
    "print(Charlie['public'])"
   ]
  },
  {
   "cell_type": "markdown",
   "metadata": {},
   "source": [
    "## The Vending Machine – Exercises"
   ]
  },
  {
   "cell_type": "markdown",
   "metadata": {},
   "source": [
    "#### Exercise 1: exchange rate (price)\n",
    "* Change the smart contract so that 2 ALGOs are exchanged for 1 WSC coin. *Hint:* keep the decimals in mind!\n",
    "* Test the smart contract. *Hint:* do not forget to adjust the amounts to reflect the new exchange rate.\n",
    "\n",
    "Solution: `Int(int(1E2))*Gtxn[0].amount() == Int(int(2*1E6))*Gtxn[1].asset_amount()`"
   ]
  },
  {
   "cell_type": "markdown",
   "metadata": {},
   "source": [
    "#### Exercise 2: allow overpayment\n",
    "* Change the smart contract so that it is OK if Bob pays too many ALGOs for a certain amount of WSC coins\n",
    "\n",
    "Solution: `Int(int(1E2))*Gtxn[0].amount() >= Int(int(2*1E6))*Gtxn[1].asset_amount()`"
   ]
  },
  {
   "cell_type": "markdown",
   "metadata": {},
   "source": [
    "#### Exercise 3: Anti money loundering\n",
    "* Add an anti money-loundering condition\n",
    "* Currently it is possible that Bob pays, but Charlie receives the coins\n",
    "* We want to avoid that with a condition that whoever pays the ALGOs must the the one to receive the coins\n",
    "\n",
    "Solution: `Gtxn[0].sender() == Gtxn[1].asset_receiver()`\n",
    "\n",
    "Solution (2): `Gtxn[0].receiver() == Gtxn[1].asset_sender()`\n",
    "\n",
    "\n",
    "\n"
   ]
  },
  {
   "cell_type": "markdown",
   "metadata": {},
   "source": [
    "#### Step 0: Get the status before the swap\n",
    "* Also fund accounts if need be\n",
    "* https://bank.testnet.algorand.network\n",
    "* https://testnet.algoexplorer.io/dispenser"
   ]
  },
  {
   "cell_type": "code",
   "execution_count": 9,
   "metadata": {},
   "outputs": [
    {
     "ename": "NameError",
     "evalue": "name 'myalgo_holding' is not defined",
     "output_type": "error",
     "traceback": [
      "\u001b[0;31m---------------------------------------------------------------------------\u001b[0m",
      "\u001b[0;31mNameError\u001b[0m                                 Traceback (most recent call last)",
      "\u001b[0;32m<ipython-input-9-9f809c155d62>\u001b[0m in \u001b[0;36m<module>\u001b[0;34m\u001b[0m\n\u001b[1;32m      3\u001b[0m \u001b[0mbob_holding\u001b[0m\u001b[0;34m=\u001b[0m\u001b[0masset_holdings_df\u001b[0m\u001b[0;34m(\u001b[0m\u001b[0malgod_client\u001b[0m\u001b[0;34m,\u001b[0m \u001b[0mBob\u001b[0m\u001b[0;34m[\u001b[0m\u001b[0;34m'public'\u001b[0m\u001b[0;34m]\u001b[0m\u001b[0;34m)\u001b[0m\u001b[0;34m\u001b[0m\u001b[0;34m\u001b[0m\u001b[0m\n\u001b[1;32m      4\u001b[0m \u001b[0;31m# Merge in one data.frame using pandas merge\u001b[0m\u001b[0;34m\u001b[0m\u001b[0;34m\u001b[0m\u001b[0;34m\u001b[0m\u001b[0m\n\u001b[0;32m----> 5\u001b[0;31m \u001b[0mpd\u001b[0m\u001b[0;34m.\u001b[0m\u001b[0mmerge\u001b[0m\u001b[0;34m(\u001b[0m\u001b[0mmyalgo_holding\u001b[0m\u001b[0;34m,\u001b[0m \u001b[0mbob_holding\u001b[0m\u001b[0;34m,\u001b[0m  \u001b[0mhow\u001b[0m\u001b[0;34m=\u001b[0m\u001b[0;34m\"outer\"\u001b[0m\u001b[0;34m,\u001b[0m \u001b[0mon\u001b[0m\u001b[0;34m=\u001b[0m\u001b[0;34m[\u001b[0m\u001b[0;34m\"asset-id\"\u001b[0m\u001b[0;34m,\u001b[0m \u001b[0;34m\"unit\"\u001b[0m\u001b[0;34m,\u001b[0m \u001b[0;34m\"name\"\u001b[0m\u001b[0;34m,\u001b[0m \u001b[0;34m\"decimals\"\u001b[0m\u001b[0;34m]\u001b[0m\u001b[0;34m,\u001b[0m \u001b[0msuffixes\u001b[0m\u001b[0;34m=\u001b[0m\u001b[0;34m[\u001b[0m\u001b[0;34m'MyAlgo'\u001b[0m\u001b[0;34m,\u001b[0m\u001b[0;34m'Bob'\u001b[0m\u001b[0;34m]\u001b[0m\u001b[0;34m)\u001b[0m\u001b[0;34m\u001b[0m\u001b[0;34m\u001b[0m\u001b[0m\n\u001b[0m",
      "\u001b[0;31mNameError\u001b[0m: name 'myalgo_holding' is not defined"
     ]
    }
   ],
   "source": [
    "# Get the holdings of MyAlgo and Bob separately\n",
    "myalgo_holding=asset_holdings_df(algod_client, MyAlgo['public'])\n",
    "bob_holding=asset_holdings_df(algod_client, Bob['public'])\n",
    "# Merge in one data.frame using pandas merge\n",
    "pd.merge(myalgo_holding, bob_holding,  how=\"outer\", on=[\"asset-id\", \"unit\", \"name\", \"decimals\"], suffixes=['MyAlgo','Bob'])"
   ]
  },
  {
   "cell_type": "code",
   "execution_count": null,
   "metadata": {},
   "outputs": [],
   "source": [
    "# Store the correct ID for the WSC coin\n",
    "WSC_idx=71140107                         # <---------- Update!!"
   ]
  },
  {
   "cell_type": "markdown",
   "metadata": {},
   "source": [
    "#### Step 1a: Write down the conditions as a PyTeal program\n",
    "Small complication: there is no "
   ]
  },
  {
   "cell_type": "code",
   "execution_count": null,
   "metadata": {},
   "outputs": [],
   "source": [
    "vending_condition = And (\n",
    "    Global.group_size() == Int(2),                     # Vending is an atomic swap, hence 2 transactions\n",
    "    Gtxn[0].type_enum() == TxnType.Payment,            # First TX is a payment TX ...\n",
    "    Gtxn[0].xfer_asset() == Int(0),                    # ... in ALGOs\n",
    "    Gtxn[1].type_enum() == TxnType.AssetTransfer,      # Second TX is an ASA transfer ...\n",
    "    Gtxn[1].xfer_asset() == Int(WSC_idx),               # ... in the WSC coin\n",
    "    Gtxn[0].amount() == Gtxn[1].asset_amount(),        # Exchange rate in SMALL units\n",
    "    Gtxn[0].rekey_to() == Global.zero_address(),\n",
    "    Gtxn[0].close_remainder_to() == Global.zero_address(),\n",
    "    Gtxn[1].rekey_to() == Global.zero_address(),\n",
    "    Gtxn[1].close_remainder_to() == Global.zero_address(),\n",
    ")\n",
    "\n",
    "optin_condition = And(\n",
    "        Global.group_size() == Int(1),                # Opt-in is single transaction\n",
    "        Txn.type_enum() ==TxnType.AssetTransfer,      # Opt-in is ASA transfer\n",
    "        Txn.asset_amount() == Int(0),                 # Payout impossible, opt-in is OK\n",
    "        Txn.rekey_to() == Global.zero_address(),\n",
    "        Txn.close_remainder_to() == Global.zero_address(),\n",
    "    )\n",
    "\n",
    "\n",
    "# prepare reandom condition\n",
    "import random\n",
    "a = Int( random.randrange(2**32-1) )\n",
    "random_cond = ( a == a )\n",
    "\n",
    "fee_cond = Txn.fee() <= Int(1000)\n",
    "    \n",
    "vending_pyteal = And(\n",
    "    random_cond, \n",
    "    fee_cond, \n",
    "    If(\n",
    "        Global.group_size() == Int(1),        # condition\n",
    "        optin_condition,                      # then-expression\n",
    "        vending_condition                     # else-expression\n",
    "        )\n",
    "    )"
   ]
  },
  {
   "cell_type": "markdown",
   "metadata": {},
   "source": [
    "#### Step 1b: Pyteal -> Teal"
   ]
  },
  {
   "cell_type": "code",
   "execution_count": null,
   "metadata": {},
   "outputs": [],
   "source": [
    "vending_teal = compileTeal(vending_pyteal, Mode.Signature, version=3)\n",
    "print(vending_teal)"
   ]
  },
  {
   "cell_type": "code",
   "execution_count": null,
   "metadata": {},
   "outputs": [],
   "source": [
    "#### Step 1c: Teal -> Bytecode for AVM"
   ]
  },
  {
   "cell_type": "code",
   "execution_count": null,
   "metadata": {},
   "outputs": [],
   "source": [
    "Vending = algod_client.compile(vending_teal)\n",
    "Vending"
   ]
  },
  {
   "cell_type": "markdown",
   "metadata": {},
   "source": [
    "#### Step 2: Veding must opt-In\n",
    "* Veding needs to be funded first (for TX fee and min holding)\n",
    "* Veding then makes a 0 coin transaction to itself"
   ]
  },
  {
   "cell_type": "markdown",
   "metadata": {},
   "source": [
    "##### Step 2a: Funding"
   ]
  },
  {
   "cell_type": "code",
   "execution_count": null,
   "metadata": {},
   "outputs": [],
   "source": [
    "# Step 2a.1: prepare transaction\n",
    "sp = algod_client.suggested_params()\n",
    "\n",
    "# How much? Min holdings + min holdings for 1 ASA + TX fee for a few several swaps\n",
    "amt = int(0.1*1e6) + int(0.1*1e6) + int(20* 0.001*1e6)\n",
    "txn = transaction.PaymentTxn(sender=MyAlgo['public'], sp=sp, \n",
    "                             receiver=Vending['hash'], amt=amt)\n",
    "\n",
    "# Step 2a.(2+3+4): sign and send and wait ...\n",
    "stxn = txn.sign(MyAlgo['private'])\n",
    "txid = algod_client.send_transaction(stxn)\n",
    "txinfo = wait_for_confirmation(algod_client, txid)"
   ]
  },
  {
   "cell_type": "markdown",
   "metadata": {},
   "source": [
    "##### Step 2b: Opt-In"
   ]
  },
  {
   "cell_type": "code",
   "execution_count": null,
   "metadata": {},
   "outputs": [],
   "source": [
    "# Steo 2b.1: Prepare\n",
    "sp = algod_client.suggested_params()\n",
    "txn = AssetTransferTxn(Vending['hash'], sp, Vending['hash'], 0, WSC_idx)\n",
    "\n",
    "# Steo 2b.2: Sign\n",
    "encodedProg = Vending['result'].encode()\n",
    "program = base64.decodebytes(encodedProg)\n",
    "lsig = LogicSig(program)\n",
    "stxn = LogicSigTransaction(txn, lsig)\n",
    "\n",
    "# Step 2b.3 Send\n",
    "txid = algod_client.send_transaction(stxn)\n",
    "\n",
    "# Step 2b.4 Wait for ...\n",
    "txinfo = wait_for_confirmation(algod_client, txid)"
   ]
  },
  {
   "cell_type": "markdown",
   "metadata": {},
   "source": [
    "#### Step 3: MyAlgo puts 15 (full) WSC into the Vending machine\n",
    "* This is a simple AssetTransferTxn"
   ]
  },
  {
   "cell_type": "code",
   "execution_count": null,
   "metadata": {},
   "outputs": [],
   "source": [
    "### Step 3.1: prepare and create TX\n",
    "\n",
    "# Deal with SMALL units\n",
    "WSC_decimals = algod_client.asset_info(WSC_idx)['params']['decimals']\n",
    "amt = int( 15 * 10**WSC_decimals )             # <--------- 15 WSC coins in SMALL units\n",
    "\n",
    "sp = algod_client.suggested_params()\n",
    "txn = AssetTransferTxn(\n",
    "    sender=MyAlgo['public'],\n",
    "    sp=sp,\n",
    "    receiver=Vending['hash'],               \n",
    "    amt=amt,\n",
    "    index=WSC_idx)                        # <-----  We are sending WSC\n",
    "\n",
    "# Step 3.2 and 3.3: sign and send\n",
    "stxn = txn.sign(MyAlgo['private'])\n",
    "txid = algod_client.send_transaction(stxn)\n",
    "\n",
    "# Step 3.4: wait for confirmation\n",
    "txinfo = wait_for_confirmation(algod_client, txid)"
   ]
  },
  {
   "cell_type": "markdown",
   "metadata": {},
   "source": [
    "## The vending machine is now ready"
   ]
  },
  {
   "cell_type": "markdown",
   "metadata": {},
   "source": [
    "#### Step 4: Opt-In for Bob\n",
    "* If Bob is a first-time buyer, he has to opt in first\n",
    "* In a real-world example, we would check the holdings of Bob and ask him to opt in only if he does not hold the token"
   ]
  },
  {
   "cell_type": "code",
   "execution_count": null,
   "metadata": {},
   "outputs": [],
   "source": [
    "# Step 4.1: Prepare transaction\n",
    "sp = algod_client.suggested_params()\n",
    "txn = AssetTransferTxn(\n",
    "    sender=Bob['public'],                 # <------- From Bob ...\n",
    "    sp=sp,\n",
    "    receiver=Bob['public'],               # <------- ... to Bob\n",
    "    amt=int(0),\n",
    "    index=WSC_idx)                        # <----- Correct asset_idx\n",
    "\n",
    "# Step 4.2 and 4.3: sign and send\n",
    "stxn = txn.sign(Bob['private'])           # <----- Signed by Bob\n",
    "txid = algod_client.send_transaction(stxn)\n",
    "\n",
    "# Step 4.4: wait for confirmation\n",
    "txinfo = wait_for_confirmation(algod_client, txid)"
   ]
  },
  {
   "cell_type": "markdown",
   "metadata": {},
   "source": [
    "#### Step 5: Bob prepares the entire Atomic Swap\n",
    "* Bob sends 5 micro-ALGOS\n",
    "* He asks for 5 mini-WSC"
   ]
  },
  {
   "cell_type": "code",
   "execution_count": 8,
   "metadata": {},
   "outputs": [
    {
     "ename": "NameError",
     "evalue": "name 'Vending' is not defined",
     "output_type": "error",
     "traceback": [
      "\u001b[0;31m---------------------------------------------------------------------------\u001b[0m",
      "\u001b[0;31mNameError\u001b[0m                                 Traceback (most recent call last)",
      "\u001b[0;32m<ipython-input-8-d580b969c625>\u001b[0m in \u001b[0;36m<module>\u001b[0;34m\u001b[0m\n\u001b[1;32m      2\u001b[0m \u001b[0msp\u001b[0m \u001b[0;34m=\u001b[0m \u001b[0malgod_client\u001b[0m\u001b[0;34m.\u001b[0m\u001b[0msuggested_params\u001b[0m\u001b[0;34m(\u001b[0m\u001b[0;34m)\u001b[0m\u001b[0;34m\u001b[0m\u001b[0;34m\u001b[0m\u001b[0m\n\u001b[1;32m      3\u001b[0m \u001b[0mamt_1\u001b[0m \u001b[0;34m=\u001b[0m \u001b[0mint\u001b[0m\u001b[0;34m(\u001b[0m\u001b[0;36m5\u001b[0m\u001b[0;34m)\u001b[0m                     \u001b[0;31m# microalgos!!!\u001b[0m\u001b[0;34m\u001b[0m\u001b[0;34m\u001b[0m\u001b[0m\n\u001b[0;32m----> 4\u001b[0;31m \u001b[0mtxn_1\u001b[0m \u001b[0;34m=\u001b[0m \u001b[0mPaymentTxn\u001b[0m\u001b[0;34m(\u001b[0m\u001b[0mBob\u001b[0m\u001b[0;34m[\u001b[0m\u001b[0;34m'public'\u001b[0m\u001b[0;34m]\u001b[0m\u001b[0;34m,\u001b[0m \u001b[0msp\u001b[0m\u001b[0;34m,\u001b[0m \u001b[0mVending\u001b[0m\u001b[0;34m[\u001b[0m\u001b[0;34m'hash'\u001b[0m\u001b[0;34m]\u001b[0m\u001b[0;34m,\u001b[0m\u001b[0mamt_1\u001b[0m\u001b[0;34m)\u001b[0m\u001b[0;34m\u001b[0m\u001b[0;34m\u001b[0m\u001b[0m\n\u001b[0m\u001b[1;32m      5\u001b[0m \u001b[0;34m\u001b[0m\u001b[0m\n\u001b[1;32m      6\u001b[0m \u001b[0;31m# Step 5.1b: Prepare WSC transfer from Vending to Bob\u001b[0m\u001b[0;34m\u001b[0m\u001b[0;34m\u001b[0m\u001b[0;34m\u001b[0m\u001b[0m\n",
      "\u001b[0;31mNameError\u001b[0m: name 'Vending' is not defined"
     ]
    }
   ],
   "source": [
    "# Step 5.1a: Prepare ALGO payment TXN from Bob to Veding\n",
    "sp = algod_client.suggested_params()\n",
    "amt_1 = int(5)                     # microalgos!!! \n",
    "txn_1 = PaymentTxn(Bob['public'], sp, Vending['hash'],amt_1)\n",
    "\n",
    "# Step 5.1b: Prepare WSC transfer from Vending to Bob\n",
    "amt_2 = int(5)                      # mini-WSC coin\n",
    "txn_2 = AssetTransferTxn(Vending['hash'], sp, Bob['public'], amt_2, WSC_idx)"
   ]
  },
  {
   "cell_type": "code",
   "execution_count": null,
   "metadata": {},
   "outputs": [],
   "source": [
    "# Step 5.1c: create TX group\n",
    "gid = transaction.calculate_group_id([txn_1, txn_2])\n",
    "txn_1.group = gid     # add group_id to each transactions\n",
    "txn_2.group = gid\n",
    "print( base64.b32encode(gid).decode() )      # This is the gid"
   ]
  },
  {
   "cell_type": "code",
   "execution_count": null,
   "metadata": {},
   "outputs": [],
   "source": [
    "# Step 5.2a: Bob signs txn_1\n",
    "stxn_1 = txn_1.sign(Bob['private'])\n",
    "\n",
    "# Step 5.2b: Bob asks Smart signature to authorize txn_2\n",
    "encodedProg = Vending['result'].encode()              \n",
    "program = base64.decodebytes(encodedProg)\n",
    "lsig = LogicSig(program)\n",
    "stxn_2 = LogicSigTransaction(txn_2, lsig)"
   ]
  },
  {
   "cell_type": "code",
   "execution_count": null,
   "metadata": {},
   "outputs": [],
   "source": [
    "# Step 5.3: assemble transaction group and send\n",
    "signed_group =  [stxn_1, stxn_2]\n",
    "txid = algod_client.send_transactions(signed_group)"
   ]
  },
  {
   "cell_type": "code",
   "execution_count": null,
   "metadata": {},
   "outputs": [],
   "source": [
    "# Step 5d: wait for confirmation\n",
    "txinfo = wait_for_confirmation(algod_client, txid)"
   ]
  },
  {
   "cell_type": "markdown",
   "metadata": {},
   "source": [
    "**Quick check** what is the `txid` here?\n",
    "* Click on Group ID in Algoexplorer"
   ]
  },
  {
   "cell_type": "code",
   "execution_count": null,
   "metadata": {},
   "outputs": [],
   "source": [
    "print('https://testnet.algoexplorer.io/tx/'+txid)"
   ]
  },
  {
   "cell_type": "markdown",
   "metadata": {},
   "source": [
    "#### Get the status after the swap"
   ]
  },
  {
   "cell_type": "code",
   "execution_count": null,
   "metadata": {},
   "outputs": [],
   "source": [
    "myAlgo_holding=asset_holdings_df(algod_client, MyAlgo['public'])\n",
    "bob_holding=asset_holdings_df(algod_client, Bob['public'])\n",
    "pd.merge(myalgo_holding, bob_holding,  how=\"outer\", on=[\"asset-id\", \"unit\", \"name\", \"decimals\"], suffixes=['MyAlgo','Bob'])"
   ]
  }
 ],
 "metadata": {
  "kernelspec": {
   "display_name": "Python 3",
   "language": "python",
   "name": "python3"
  },
  "language_info": {
   "codemirror_mode": {
    "name": "ipython",
    "version": 3
   },
   "file_extension": ".py",
   "mimetype": "text/x-python",
   "name": "python",
   "nbconvert_exporter": "python",
   "pygments_lexer": "ipython3",
   "version": "3.8.8"
  }
 },
 "nbformat": 4,
 "nbformat_minor": 4
}
