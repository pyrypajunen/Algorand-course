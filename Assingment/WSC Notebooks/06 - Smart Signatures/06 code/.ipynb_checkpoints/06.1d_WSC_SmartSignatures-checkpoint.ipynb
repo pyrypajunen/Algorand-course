{
 "cells": [
  {
   "cell_type": "markdown",
   "metadata": {},
   "source": [
    "# Smart signatures\n",
    "#### 06.1 Writing Smart Contracts\n",
    "##### Peter Gruber (peter.gruber@usi.ch)\n",
    "2023-02-10 (started 2022-01-12)\n",
    "\n",
    "* Write and deploy smart Signatures"
   ]
  },
  {
   "cell_type": "markdown",
   "metadata": {
    "tags": []
   },
   "source": [
    "## Setup\n",
    "See notebook 04.1, the lines below will always automatically load functions in `algo_util.py`, the five accounts and the Purestake credentials"
   ]
  },
  {
   "cell_type": "code",
   "execution_count": null,
   "metadata": {},
   "outputs": [],
   "source": [
    "# Loading shared code and credentials\n",
    "import sys, os\n",
    "\n",
    "codepath = '..'+os.path.sep+'..'+os.path.sep+'sharedCode'\n",
    "sys.path.append(codepath)\n",
    "from algo_util import *\n",
    "cred = load_credentials()\n",
    "\n",
    "# Shortcuts to directly access the 3 main accounts\n",
    "MyAlgo  = cred['MyAlgo']\n",
    "Alice   = cred['Alice']\n",
    "Bob     = cred['Bob']\n",
    "Charlie = cred['Charlie']\n",
    "Dina    = cred['Dina']"
   ]
  },
  {
   "cell_type": "code",
   "execution_count": null,
   "metadata": {},
   "outputs": [],
   "source": [
    "from algosdk import account, mnemonic\n",
    "from algosdk.v2client import algod\n",
    "from algosdk import transaction\n",
    "from algosdk.transaction import PaymentTxn\n",
    "from algosdk.transaction import AssetConfigTxn, AssetTransferTxn, AssetFreezeTxn\n",
    "from algosdk.transaction import LogicSig, LogicSigTransaction\n",
    "\n",
    "import algosdk.error\n",
    "import json\n",
    "import base64\n",
    "import hashlib"
   ]
  },
  {
   "cell_type": "code",
   "execution_count": null,
   "metadata": {},
   "outputs": [],
   "source": [
    "from pyteal import *"
   ]
  },
  {
   "cell_type": "code",
   "execution_count": null,
   "metadata": {},
   "outputs": [],
   "source": [
    "# Initialize the algod client (Testnet or Mainnet)\n",
    "algod_client = algod.AlgodClient(algod_token='', algod_address=cred['algod_test'], headers=cred['purestake_token'])\n",
    "algod_client.status()[\"last-round\"]"
   ]
  },
  {
   "cell_type": "markdown",
   "metadata": {},
   "source": [
    "## Modesty: A more complicated contract\n",
    "* A donation to **Bob** that limits the amount that can be withdrawn in one transaction"
   ]
  },
  {
   "cell_type": "markdown",
   "metadata": {},
   "source": [
    "##### Step 1: The programmer writes down the conditions as a PyTeal program"
   ]
  },
  {
   "cell_type": "code",
   "execution_count": null,
   "metadata": {},
   "outputs": [],
   "source": [
    "max_amount = Int(int(1*1E6))                         # <---- 1e6 micro Algos = 1 Algo\n",
    "\n",
    "modest_pyteal = And (                                # Both conditions must be fulfilled\n",
    "    Txn.receiver() == Addr(Bob[\"public\"]),           # Receipient must be Bob\n",
    "    Txn.amount() <= max_amount                       # Requested amount must be smaller than max_amount\n",
    ")\n",
    "\n",
    "# Security missing ... do not copy-paste"
   ]
  },
  {
   "cell_type": "markdown",
   "metadata": {},
   "source": [
    "##### Step 2: Compile PyTeal -> Teal"
   ]
  },
  {
   "cell_type": "code",
   "execution_count": null,
   "metadata": {},
   "outputs": [],
   "source": [
    "modest_teal = compileTeal(modest_pyteal, Mode.Signature, version=8)\n",
    "print(modest_teal)"
   ]
  },
  {
   "cell_type": "markdown",
   "metadata": {},
   "source": [
    "##### Step 3: Compile Teal -> Bytecode for AVM"
   ]
  },
  {
   "cell_type": "code",
   "execution_count": null,
   "metadata": {},
   "outputs": [],
   "source": [
    "Modest = algod_client.compile(modest_teal)\n",
    "Modest"
   ]
  },
  {
   "cell_type": "markdown",
   "metadata": {},
   "source": [
    "#### Step 4: Deployment – Alice funds the smart signature"
   ]
  },
  {
   "cell_type": "code",
   "execution_count": null,
   "metadata": {},
   "outputs": [],
   "source": [
    "# Step 1: prepare transaction\n",
    "sp = algod_client.suggested_params()\n",
    "amt = int(2.2*1e6)\n",
    "txn = transaction.PaymentTxn(sender=Alice['public'], sp=sp, receiver=Modest['hash'], amt=amt)\n",
    "\n",
    "# Step 2+3: sign and sen\n",
    "stxn = txn.sign(Alice['private'])\n",
    "txid = algod_client.send_transaction(stxn)\n",
    "\n",
    "# Step 4: wait for confirmation\n",
    "txinfo = wait_for_confirmation(algod_client, txid)"
   ]
  },
  {
   "cell_type": "markdown",
   "metadata": {},
   "source": [
    "##### Step 5: Alice informs Bob"
   ]
  },
  {
   "cell_type": "code",
   "execution_count": null,
   "metadata": {},
   "outputs": [],
   "source": [
    "print(\"Alice communicates to Bob the following\")\n",
    "print(\"Compiled smart signature:\", Modest['result'])\n",
    "print(\"Address of smart signature: \", Modest['hash'])"
   ]
  },
  {
   "cell_type": "code",
   "execution_count": null,
   "metadata": {},
   "outputs": [],
   "source": [
    "# Check on Algoexplorer\n",
    "print('https://testnet.algoexplorer.io/address/'+ Modest['hash'])"
   ]
  },
  {
   "cell_type": "markdown",
   "metadata": {},
   "source": [
    "#### Step 6: Bob proposes a transaction that would withdraw too much"
   ]
  },
  {
   "cell_type": "code",
   "execution_count": null,
   "metadata": {},
   "outputs": [],
   "source": [
    "# Step 1: prepare TX\n",
    "sp = algod_client.suggested_params()\n",
    "withdrawal_amt = int(2*1e6)              # <---------- too much!!\n",
    "txn = PaymentTxn(sender=Modest['hash'], sp=sp, \n",
    "                 receiver=Bob['public'], amt=withdrawal_amt)\n",
    "\n",
    "# Step 2: sign TX <---- This step is different!\n",
    "encodedProg = Modest['result'].encode()\n",
    "program = base64.decodebytes(encodedProg)\n",
    "lsig = LogicSig(program)\n",
    "stxn = LogicSigTransaction(txn, lsig)\n",
    "\n",
    "# Step 3: send\n",
    "try:\n",
    "    txid = algod_client.send_transaction(stxn)\n",
    "except algosdk.error.AlgodHTTPError as err:\n",
    "    print(err)               # print entire error message\n",
    "\n",
    "# Step 4: wait for confirmation\n",
    "# No need to wait for confirmation\n",
    "#txinfo = wait_for_confirmation(algod_client, txid)"
   ]
  },
  {
   "cell_type": "markdown",
   "metadata": {},
   "source": [
    "#### Step 6: Bob withdraws smaller amount"
   ]
  },
  {
   "cell_type": "code",
   "execution_count": null,
   "metadata": {},
   "outputs": [],
   "source": [
    "# Step 1: prepare TX\n",
    "sp = algod_client.suggested_params()\n",
    "withdrawal_amt = int(1*1e6)              # <---------- within limit!!\n",
    "txn = PaymentTxn(sender=Modest['hash'], sp=sp, \n",
    "                 receiver=Bob['public'], amt=withdrawal_amt)\n",
    "\n",
    "# Step 2: sign TX <---- This step is different!\n",
    "encodedProg = Modest['result'].encode()\n",
    "program = base64.decodebytes(encodedProg)\n",
    "lsig = LogicSig(program)\n",
    "stxn = LogicSigTransaction(txn, lsig)\n",
    "\n",
    "# Step 3: send\n",
    "txid = algod_client.send_transaction(stxn)\n",
    "\n",
    "# Step4: wait for confirmation\n",
    "txinfo = wait_for_confirmation(algod_client, txid)"
   ]
  },
  {
   "cell_type": "markdown",
   "metadata": {},
   "source": [
    "# Appendix: why the `Int(int(1e6))`\n",
    "Pyteal requires the type `pyteal.Int` (with large I). This can only be obtained from Python's `int` type."
   ]
  },
  {
   "cell_type": "code",
   "execution_count": null,
   "metadata": {},
   "outputs": [],
   "source": [
    "a = 1E6\n",
    "type(a)"
   ]
  },
  {
   "cell_type": "code",
   "execution_count": null,
   "metadata": {},
   "outputs": [],
   "source": [
    "b = int(1E6)\n",
    "type(b)"
   ]
  },
  {
   "cell_type": "code",
   "execution_count": null,
   "metadata": {},
   "outputs": [],
   "source": [
    "c = Int(int(1E6))\n",
    "type(c)"
   ]
  },
  {
   "cell_type": "code",
   "execution_count": null,
   "metadata": {},
   "outputs": [],
   "source": [
    "# This is not possible\n",
    "d = Int(1E6)"
   ]
  },
  {
   "cell_type": "code",
   "execution_count": null,
   "metadata": {},
   "outputs": [],
   "source": []
  }
 ],
 "metadata": {
  "kernelspec": {
   "display_name": "Python 3 (ipykernel)",
   "language": "python",
   "name": "python3"
  },
  "language_info": {
   "codemirror_mode": {
    "name": "ipython",
    "version": 3
   },
   "file_extension": ".py",
   "mimetype": "text/x-python",
   "name": "python",
   "nbconvert_exporter": "python",
   "pygments_lexer": "ipython3",
   "version": "3.10.9"
  }
 },
 "nbformat": 4,
 "nbformat_minor": 4
}
