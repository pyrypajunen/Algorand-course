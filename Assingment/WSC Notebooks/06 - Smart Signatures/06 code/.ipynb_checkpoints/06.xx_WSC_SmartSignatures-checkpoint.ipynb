{
 "cells": [
  {
   "cell_type": "markdown",
   "metadata": {},
   "source": [
    "### Install Pyteal"
   ]
  },
  {
   "cell_type": "code",
   "execution_count": null,
   "metadata": {},
   "outputs": [],
   "source": [
    "!pip install pyteal"
   ]
  },
  {
   "cell_type": "markdown",
   "metadata": {
    "tags": []
   },
   "source": [
    "## Setup\n",
    "See notebook 04.1, the lines below will always automatically load functions in `algo_util.py`, the five accounts and the Purestake credentials"
   ]
  },
  {
   "cell_type": "code",
   "execution_count": null,
   "metadata": {},
   "outputs": [],
   "source": [
    "# Loading shared code and credentials\n",
    "import sys, os\n",
    "\n",
    "codepath = '..'+os.path.sep+'..'+os.path.sep+'sharedCode'\n",
    "sys.path.append(codepath)\n",
    "from algo_util import *\n",
    "cred = load_credentials()\n",
    "\n",
    "# Shortcuts to directly access the 3 main accounts\n",
    "MyAlgo  = cred['MyAlgo']\n",
    "Alice   = cred['Alice']\n",
    "Bob     = cred['Bob']\n",
    "Charlie = cred['Charlie']\n",
    "Dina    = cred['Dina']"
   ]
  },
  {
   "cell_type": "code",
   "execution_count": null,
   "metadata": {},
   "outputs": [],
   "source": [
    "from algosdk import account, mnemonic\n",
    "from algosdk.v2client import algod\n",
    "from algosdk.future import transaction\n",
    "from algosdk.future.transaction import PaymentTxn\n",
    "from algosdk.future.transaction import AssetConfigTxn, AssetTransferTxn, AssetFreezeTxn\n",
    "import algosdk.error\n",
    "import json\n",
    "import base64"
   ]
  },
  {
   "cell_type": "code",
   "execution_count": null,
   "metadata": {},
   "outputs": [],
   "source": [
    "# Initialize the algod client\n",
    "# Remember: this is where we select Testnet or Mainnet\n",
    "algod_client = algod.AlgodClient(algod_token='', algod_address=cred['algod_test'], headers=cred['purestake_token'])"
   ]
  },
  {
   "cell_type": "code",
   "execution_count": null,
   "metadata": {},
   "outputs": [],
   "source": [
    "from pyteal import *"
   ]
  },
  {
   "cell_type": "code",
   "execution_count": null,
   "metadata": {},
   "outputs": [],
   "source": [
    "print(Alice['public'])\n",
    "print(Bob['public'])\n",
    "print(Charlie['public'])"
   ]
  },
  {
   "cell_type": "markdown",
   "metadata": {},
   "source": [
    "#### Quick check of asset holdings, otherwise go to ...\n",
    "- https://bank.testnet.algorand.network\n",
    "- https://testnet.algoexplorer.io/dispenser"
   ]
  },
  {
   "cell_type": "code",
   "execution_count": null,
   "metadata": {},
   "outputs": [],
   "source": [
    "asset_holdings_df(algod_client,Alice['public'])"
   ]
  },
  {
   "cell_type": "markdown",
   "metadata": {},
   "source": [
    "#### Check Purestake API"
   ]
  },
  {
   "cell_type": "code",
   "execution_count": null,
   "metadata": {},
   "outputs": [],
   "source": [
    "last_block = algod_client.status()[\"last-round\"]\n",
    "print(f\"Last committed block is: {last_block}\")"
   ]
  },
  {
   "cell_type": "markdown",
   "metadata": {},
   "source": [
    "### A few helper functions"
   ]
  },
  {
   "cell_type": "code",
   "execution_count": null,
   "metadata": {},
   "outputs": [],
   "source": [
    "def payment_transaction(creator_mnemonic, amt, rcv, algod_client)->dict:\n",
    "    params = algod_client.suggested_params()\n",
    "    add = mnemonic.to_public_key(creator_mnemonic)\n",
    "    key = mnemonic.to_private_key(creator_mnemonic)\n",
    "    unsigned_txn = transaction.PaymentTxn(add, params, rcv, amt)\n",
    "    signed = unsigned_txn.sign(key)\n",
    "    txid = algod_client.send_transaction(signed)\n",
    "    return txid"
   ]
  },
  {
   "cell_type": "code",
   "execution_count": null,
   "metadata": {},
   "outputs": [],
   "source": [
    "def lsig_payment_txn(escrowProg, escrow_address, amt, rcv, algod_client):\n",
    "    params = algod_client.suggested_params()\n",
    "    unsigned_txn = transaction.PaymentTxn(escrow_address, params, rcv, amt)\n",
    "    encodedProg = escrowProg.encode()\n",
    "    program = base64.decodebytes(encodedProg)\n",
    "    lsig = transaction.LogicSig(program)\n",
    "    stxn = transaction.LogicSigTransaction(unsigned_txn, lsig)\n",
    "    txid = algod_client.send_transaction(stxn)\n",
    "    return txid "
   ]
  },
  {
   "cell_type": "code",
   "execution_count": null,
   "metadata": {},
   "outputs": [],
   "source": [
    "def lsig_payment_txn_note(escrowProg, escrow_address, amt, rcv, algod_client,my_note):\n",
    "    note = my_note.encode()\n",
    "    params = algod_client.suggested_params()\n",
    "    unsigned_txn = transaction.PaymentTxn(escrow_address, params, rcv, amt,None, note)\n",
    "    encodedProg = escrowProg.encode()\n",
    "    program = base64.decodebytes(encodedProg)\n",
    "    lsig = transaction.LogicSig(program)\n",
    "    stxn = transaction.LogicSigTransaction(unsigned_txn, lsig)\n",
    "    txid = algod_client.send_transaction(stxn)\n",
    "    return txid "
   ]
  },
  {
   "cell_type": "code",
   "execution_count": null,
   "metadata": {},
   "outputs": [],
   "source": [
    "def lsig_payment_txn_ASA(escrowProg, escrow_address, amt, rcv, ASA_index, algod_client):\n",
    "    params = algod_client.suggested_params()\n",
    "    unsigned_txn = transaction.AssetTransferTxn(escrow_address, params, escrow_address, 0, ASA_index)\n",
    "    encodedProg = escrowProg.encode()\n",
    "    program = base64.decodebytes(encodedProg)\n",
    "    lsig = transaction.LogicSig(program)\n",
    "    stxn = transaction.LogicSigTransaction(unsigned_txn, lsig)\n",
    "    txid = algod_client.send_transaction(stxn)\n",
    "    return txid "
   ]
  },
  {
   "cell_type": "markdown",
   "metadata": {},
   "source": [
    "## The Dispenser\n",
    "The simplest smart signature: always say \"YES\" to a withdrawal."
   ]
  },
  {
   "cell_type": "markdown",
   "metadata": {},
   "source": [
    "##### Step 1: The programmer writes down the conditions as a PyTeal program"
   ]
  },
  {
   "cell_type": "code",
   "execution_count": null,
   "metadata": {},
   "outputs": [],
   "source": [
    "dispenser_pyteal = (\n",
    "    Int(1)==Int(1)\n",
    ")"
   ]
  },
  {
   "cell_type": "markdown",
   "metadata": {},
   "source": [
    "##### Step 2: Compile PyTeal -> Teal"
   ]
  },
  {
   "cell_type": "code",
   "execution_count": null,
   "metadata": {},
   "outputs": [],
   "source": [
    "dispenser_teal = compileTeal(dispenser_pyteal, Mode.Signature, version=3)\n",
    "print(dispenser_teal)"
   ]
  },
  {
   "cell_type": "markdown",
   "metadata": {},
   "source": [
    "##### Step 3: Compile Teal -> Bytecode for AVM\n",
    "`algod_client.compile` creates a dict with two entries:\n",
    "* `hash` contains the address\n",
    "* `result` contains the compiled code"
   ]
  },
  {
   "cell_type": "code",
   "execution_count": null,
   "metadata": {},
   "outputs": [],
   "source": [
    "dispenser = algod_client.compile(dispenser_teal)\n",
    "print(\"Compiled smart signature:\", dispenser['result'])\n",
    "print(\"Address of smart signature: \", dispenser['hash'])"
   ]
  },
  {
   "cell_type": "code",
   "execution_count": null,
   "metadata": {},
   "outputs": [],
   "source": [
    "# Look on Algoexplorer at the address of the smart signature. (There is not yet something to see)\n",
    "print('http://testnet.algoexplorer.io/address/'+dispenser['hash'])"
   ]
  },
  {
   "cell_type": "markdown",
   "metadata": {},
   "source": [
    "##### Step 4: Alice funds and deploys the smart signature\n",
    "Only here we decide who is funding the smart contract. For steps 1-3, we did not need to know whether it is Alice or someone else."
   ]
  },
  {
   "cell_type": "code",
   "execution_count": null,
   "metadata": {},
   "outputs": [],
   "source": [
    "amt = 2001000        # microalgos\n",
    "txid = payment_transaction(Alice[\"mnemonic\"], amt, dispenser['hash'], algod_client)\n",
    "pmtx = wait_for_confirmation(algod_client, txid)"
   ]
  },
  {
   "cell_type": "markdown",
   "metadata": {},
   "source": [
    "**Notice** that the sender (snd) is Alice, but the recipient (rcv) is the smart signature."
   ]
  },
  {
   "cell_type": "code",
   "execution_count": null,
   "metadata": {},
   "outputs": [],
   "source": [
    "# Look at Algoexplorer. (The smart signature is funded.)\n",
    "print('http://testnet.algoexplorer.io/address/'+dispenser['hash'])"
   ]
  },
  {
   "cell_type": "markdown",
   "metadata": {},
   "source": [
    "##### Step 5: Alice informs Bob"
   ]
  },
  {
   "cell_type": "code",
   "execution_count": null,
   "metadata": {},
   "outputs": [],
   "source": [
    "print(\"Alice communicates to Bob the following\")\n",
    "print(\"Compiled smart signature:\", dispenser['result'])\n",
    "print(\"Address of smart signature: \", dispenser['hash'])"
   ]
  },
  {
   "cell_type": "markdown",
   "metadata": {},
   "source": [
    "##### Step 6: Bob asks the smart signature to authorize a transaction\n",
    "* He uses the information obtained in step 5\n",
    "* The payment transaction is signed by the smart signature\n",
    "* Bob enters himself as receipient"
   ]
  },
  {
   "cell_type": "code",
   "execution_count": null,
   "metadata": {},
   "outputs": [],
   "source": [
    "withdrawal_amt = 100000\n",
    "txid = lsig_payment_txn(dispenser['result'], dispenser['hash'], withdrawal_amt, Bob['public'], algod_client)\n",
    "pmtx = wait_for_confirmation(algod_client, txid)"
   ]
  },
  {
   "cell_type": "code",
   "execution_count": null,
   "metadata": {},
   "outputs": [],
   "source": [
    "# Look again at Algoexplorer. (The smart signature has less ALGOs.)\n",
    "print('http://testnet.algoexplorer.io/address/'+dispenser['hash'])"
   ]
  },
  {
   "cell_type": "markdown",
   "metadata": {},
   "source": [
    "##### Check holdings"
   ]
  },
  {
   "cell_type": "code",
   "execution_count": null,
   "metadata": {},
   "outputs": [],
   "source": [
    "asset_holdings_df2(algod_client,Alice['public'],Bob['public'],suffix=['Alice','Bob'])"
   ]
  },
  {
   "cell_type": "markdown",
   "metadata": {},
   "source": [
    "#### Exercise\n",
    "* Run step 5 again and check holdings"
   ]
  },
  {
   "cell_type": "markdown",
   "metadata": {},
   "source": [
    "## The Cash Mashine\n",
    "A slightly more complicated contract: require a password in the transaction note"
   ]
  },
  {
   "cell_type": "markdown",
   "metadata": {},
   "source": [
    "##### Step 1: The programmer writes down the conditions as a PyTeal program"
   ]
  },
  {
   "cell_type": "code",
   "execution_count": null,
   "metadata": {},
   "outputs": [],
   "source": [
    "cashmachine_pyteal = (\n",
    "    Txn.note() == Bytes('{\"4711\"}')\n",
    ")"
   ]
  },
  {
   "cell_type": "markdown",
   "metadata": {},
   "source": [
    "##### Step 2: Compile PyTeal -> Teal"
   ]
  },
  {
   "cell_type": "code",
   "execution_count": null,
   "metadata": {},
   "outputs": [],
   "source": [
    "cashmachine_teal = compileTeal(cashmachine_pyteal, Mode.Signature, version=3)\n",
    "print(cashmachine_teal)"
   ]
  },
  {
   "cell_type": "markdown",
   "metadata": {},
   "source": [
    "##### Step 3: Compile Teal -> Bytecode for AVM"
   ]
  },
  {
   "cell_type": "code",
   "execution_count": null,
   "metadata": {},
   "outputs": [],
   "source": [
    "# compile Teal -> Bytecode\n",
    "cashmachine = algod_client.compile(cashmachine_teal)\n",
    "print(\"Compiled smart signature:\", cashmachine['result'])\n",
    "print(\"Address of smart signature: \", cashmachine['hash'])"
   ]
  },
  {
   "cell_type": "code",
   "execution_count": null,
   "metadata": {},
   "outputs": [],
   "source": [
    "# Look on Algoexplorer.io at the smart signature. (There is not yet something to see.)\n",
    "print('http://testnet.algoexplorer.io/address/'+cashmachine['hash'])"
   ]
  },
  {
   "cell_type": "markdown",
   "metadata": {},
   "source": [
    "##### Step 4: Alice funds and deploys the smart signature"
   ]
  },
  {
   "cell_type": "code",
   "execution_count": null,
   "metadata": {},
   "outputs": [],
   "source": [
    "amt = 2001000        # microalgos\n",
    "payment_transaction(Alice['mnemonic'], amt, cashmachine['hash'], algod_client)"
   ]
  },
  {
   "cell_type": "code",
   "execution_count": null,
   "metadata": {},
   "outputs": [],
   "source": [
    "# Look on Algoexplorer.io at the smart signature. (The smart signature is funded. The password is not visible)\n",
    "print('http://testnet.algoexplorer.io/address/'+cashmachine['hash'])"
   ]
  },
  {
   "cell_type": "markdown",
   "metadata": {},
   "source": [
    "##### Step 5: Alice informs Bob"
   ]
  },
  {
   "cell_type": "code",
   "execution_count": null,
   "metadata": {},
   "outputs": [],
   "source": [
    "print(\"Alice communicates to Bob the following\")\n",
    "print(\"Compiled smart signature:\", cashmachine['result'])\n",
    "print(\"Address of smart signature: \", cashmachine['hash'])"
   ]
  },
  {
   "cell_type": "markdown",
   "metadata": {},
   "source": [
    "##### Step 6: Bob asks the smart signature to authorize a transaction"
   ]
  },
  {
   "cell_type": "code",
   "execution_count": null,
   "metadata": {},
   "outputs": [],
   "source": [
    "withdrawal_amt = 100000\n",
    "my_note        = '{\"4711\"}'             # correct password\n",
    "txid = lsig_payment_txn_note(cashmachine['result'], cashmachine['hash'], withdrawal_amt, Bob['public'], algod_client, my_note)\n",
    "pmtx = wait_for_confirmation(algod_client, txid)"
   ]
  },
  {
   "cell_type": "code",
   "execution_count": null,
   "metadata": {},
   "outputs": [],
   "source": [
    "# Look on Algoexplorer.io at the smart signature. ((The password is visible in note/ASCII)\n",
    "print('http://testnet.algoexplorer.io/address/'+cashmachine['hash'])"
   ]
  },
  {
   "cell_type": "markdown",
   "metadata": {},
   "source": [
    "#### Charlie wants to make a withdrawl, but he does not know the password"
   ]
  },
  {
   "cell_type": "code",
   "execution_count": null,
   "metadata": {},
   "outputs": [],
   "source": [
    "withdrawal_amt = 100000\n",
    "my_note        = '{\"4712\"}'           # wrong password\n",
    "\n",
    "txid = lsig_payment_txn_note(cashmachine['result'], cashmachine['hash'], withdrawal_amt, Charlie['public'], algod_client, my_note)\n",
    "pmtx = wait_for_confirmation(algod_client, txid)"
   ]
  },
  {
   "cell_type": "markdown",
   "metadata": {},
   "source": [
    "#### Dina does not even know that there is a password"
   ]
  },
  {
   "cell_type": "code",
   "execution_count": null,
   "metadata": {},
   "outputs": [],
   "source": [
    "withdrawal_amt = 100000\n",
    "txid =lsig_payment_txn(cashmachine['result'], cashmachine['hash'], withdrawal_amt, Dina['public'], algod_client)\n",
    "pmtx = wait_for_confirmation(algod_client, txid)"
   ]
  },
  {
   "cell_type": "code",
   "execution_count": null,
   "metadata": {},
   "outputs": [],
   "source": [
    "asset_holdings_df2(algod_client,Alice['public'],Bob['public'],suffix=['Alice','Bob'])"
   ]
  },
  {
   "cell_type": "markdown",
   "metadata": {},
   "source": [
    "## The Donation Escrow\n",
    "A classical smart contact. **Alice** donates to **Bob** (and only to **Bob**).\n",
    "\n",
    "**Bob** can decide when to ask for the money."
   ]
  },
  {
   "cell_type": "markdown",
   "metadata": {},
   "source": [
    "##### Step 1: The programmer writes down the conditions as a PyTeal program"
   ]
  },
  {
   "cell_type": "code",
   "execution_count": null,
   "metadata": {},
   "outputs": [],
   "source": [
    "fee_condition =  (Txn.fee() <= Int(1000))                      # Max fee is 1000micro Algos (0.001 Algos)\n",
    "\n",
    "saftey_condition = And (\n",
    "        Txn.type_enum() == TxnType.Payment,          # Must be a \"payment\" transaction\n",
    "        Global.group_size() == Int(1),               # Only 1 recipient\n",
    "        Txn.rekey_to() == Global.zero_address()      # Cannot change private key\n",
    ")\n",
    "\n",
    "escrow_condition = And (\n",
    "    Txn.receiver() == Addr(Bob[\"public\"])            # Receipient must be Bob\n",
    ")                                                    # Encode addresses using Addr()\n",
    "\n",
    "escrow_pyteal = And(fee_condition, saftey_condition, escrow_condition)"
   ]
  },
  {
   "cell_type": "markdown",
   "metadata": {},
   "source": [
    "##### Step 2: Compile PyTeal -> Teal"
   ]
  },
  {
   "cell_type": "code",
   "execution_count": null,
   "metadata": {},
   "outputs": [],
   "source": [
    "escrow_teal = compileTeal(escrow_pyteal, Mode.Signature, version=3)\n",
    "print(escrow_teal)"
   ]
  },
  {
   "cell_type": "markdown",
   "metadata": {},
   "source": [
    "##### Step 3: Compile Teal -> Bytecode for AVM"
   ]
  },
  {
   "cell_type": "code",
   "execution_count": null,
   "metadata": {},
   "outputs": [],
   "source": [
    "# compile Teal -> Bytecode\n",
    "escrow = algod_client.compile(escrow_teal)\n",
    "print(\"Compiled smart signature:\", escrow['result'])\n",
    "print(\"Address of smart signature: \", escrow['hash'])"
   ]
  },
  {
   "cell_type": "code",
   "execution_count": null,
   "metadata": {},
   "outputs": [],
   "source": [
    "# Check on Algoexplorer (There is not yet something to see.)\n",
    "print('https://testnet.algoexplorer.io/address/'+ escrow['hash'])"
   ]
  },
  {
   "cell_type": "markdown",
   "metadata": {},
   "source": [
    "##### Step 4: Alice funds and deploys the smart signature"
   ]
  },
  {
   "cell_type": "code",
   "execution_count": null,
   "metadata": {},
   "outputs": [],
   "source": [
    "amt = 2001000        # microalgos\n",
    "payment_transaction(Alice[\"mnemonic\"], amt, escrow['hash'], algod_client)"
   ]
  },
  {
   "cell_type": "code",
   "execution_count": null,
   "metadata": {},
   "outputs": [],
   "source": [
    "print('https://testnet.algoexplorer.io/address/'+ escrow['hash'])"
   ]
  },
  {
   "cell_type": "markdown",
   "metadata": {},
   "source": [
    "##### Step 5: Alice informs Bob"
   ]
  },
  {
   "cell_type": "code",
   "execution_count": null,
   "metadata": {},
   "outputs": [],
   "source": [
    "print(\"Alice communicates to Bob the following\")\n",
    "print(\"Compiled smart signature:\", escrow['result'])\n",
    "print(\"Address of smart signature: \", escrow['hash'])"
   ]
  },
  {
   "cell_type": "markdown",
   "metadata": {},
   "source": [
    "##### Step 6: Bob asks the smart signature to authorize the withdrawl transaction"
   ]
  },
  {
   "cell_type": "code",
   "execution_count": null,
   "metadata": {},
   "outputs": [],
   "source": [
    "withdrawal_amt = 1000000\n",
    "txid = lsig_payment_txn(escrow['result'], escrow['hash'], withdrawal_amt, Bob[\"public\"], algod_client)\n",
    "pmtx = wait_for_confirmation(algod_client, txid)"
   ]
  },
  {
   "cell_type": "markdown",
   "metadata": {},
   "source": [
    "## Modesty: A more complicated contract\n",
    "* A donation to **Bob** that limits the amount that can be withdrawn"
   ]
  },
  {
   "cell_type": "markdown",
   "metadata": {},
   "source": [
    "##### Step 1: The programmer writes down the conditions as a PyTeal program"
   ]
  },
  {
   "cell_type": "code",
   "execution_count": null,
   "metadata": {},
   "outputs": [],
   "source": [
    "max_amount = Int(int(1*1E6))                         # <---- 1e6 micro Algos = 1 Algo\n",
    "\n",
    "fee_condition =  (Txn.fee() <= Int(1000))            # Max fee is 1000micro Algos (0.001 Algos)\n",
    "\n",
    "saftey_condition = And (\n",
    "        Txn.type_enum() == TxnType.Payment,          # Must be a \"payment\" transaction\n",
    "        Global.group_size() == Int(1),               # Only 1 recipient\n",
    "        Txn.rekey_to() == Global.zero_address()      # Cannot change private key\n",
    ")\n",
    "\n",
    "escrow_condition = And (\n",
    "    Txn.receiver() == Addr(Bob[\"public\"]),           # Receipient must be Bob\n",
    "    Txn.amount() <= max_amount                       # Requested amount must be smaller than max_amount\n",
    ")\n",
    "\n",
    "modest_pyteal = And(fee_condition, saftey_condition, escrow_condition)"
   ]
  },
  {
   "cell_type": "markdown",
   "metadata": {},
   "source": [
    "##### Step 2: Compile PyTeal -> Teal"
   ]
  },
  {
   "cell_type": "code",
   "execution_count": null,
   "metadata": {},
   "outputs": [],
   "source": [
    "modest_teal = compileTeal(modest_pyteal, Mode.Signature, version=3)\n",
    "print(modest_teal)"
   ]
  },
  {
   "cell_type": "markdown",
   "metadata": {},
   "source": [
    "##### Step 3: Compile Teal -> Bytecode for AVM"
   ]
  },
  {
   "cell_type": "code",
   "execution_count": null,
   "metadata": {},
   "outputs": [],
   "source": [
    "# compile Teal -> Bytecode\n",
    "modest = algod_client.compile(modest_teal)\n",
    "print(\"Compiled smart signature:\", modest['result'])\n",
    "print(\"Address of smart signature: \", modest['hash'])"
   ]
  },
  {
   "cell_type": "markdown",
   "metadata": {},
   "source": [
    "##### Step 4: Alice funds and deploys the smart signature"
   ]
  },
  {
   "cell_type": "code",
   "execution_count": null,
   "metadata": {},
   "outputs": [],
   "source": [
    "amt = 2001000        # microalgos\n",
    "payment_transaction(Alice[\"mnemonic\"], amt, modest['hash'], algod_client)"
   ]
  },
  {
   "cell_type": "markdown",
   "metadata": {},
   "source": [
    "##### Step 5: Alice informs Bob"
   ]
  },
  {
   "cell_type": "code",
   "execution_count": null,
   "metadata": {},
   "outputs": [],
   "source": [
    "print(\"Alice communicates to Bob the following\")\n",
    "print(\"Compiled smart signature:\", modest['result'])\n",
    "print(\"Address of smart signature: \", modest['hash'])"
   ]
  },
  {
   "cell_type": "code",
   "execution_count": null,
   "metadata": {},
   "outputs": [],
   "source": [
    "# Check on Algoexplorer\n",
    "print('https://testnet.algoexplorer.io/address/'+ modest['hash'])"
   ]
  },
  {
   "cell_type": "markdown",
   "metadata": {},
   "source": [
    "##### Step 6: Bob wants to withdraw everything"
   ]
  },
  {
   "cell_type": "code",
   "execution_count": null,
   "metadata": {},
   "outputs": [],
   "source": [
    "withdrawal_amt = int(2e6)\n",
    "txid = lsig_payment_txn(modest['result'], modest['hash'], withdrawal_amt, Bob['public'], algod_client)\n",
    "pmtx = wait_for_confirmation(algod_client, txid)"
   ]
  },
  {
   "cell_type": "markdown",
   "metadata": {},
   "source": [
    "##### Step 6: Bob withdraws smaller amount"
   ]
  },
  {
   "cell_type": "code",
   "execution_count": null,
   "metadata": {},
   "outputs": [],
   "source": [
    "withdrawal_amt = int(0.5 * 1e6)\n",
    "txid = lsig_payment_txn(modest['result'], modest['hash'], withdrawal_amt, Bob['public'], algod_client)\n",
    "pmtx = wait_for_confirmation(algod_client, txid)"
   ]
  },
  {
   "cell_type": "markdown",
   "metadata": {},
   "source": [
    "## Things that should and could go wrong"
   ]
  },
  {
   "cell_type": "markdown",
   "metadata": {},
   "source": [
    "##### Charlie tries to withdraw from Bob's escrew--> should not work"
   ]
  },
  {
   "cell_type": "code",
   "execution_count": null,
   "metadata": {},
   "outputs": [],
   "source": [
    "withdrawal_amt = 1000000\n",
    "txid = lsig_payment_txn(escrow['result'], escrow['hash'], withdrawal_amt, Charlie['public'], algod_client)\n",
    "pmtx = wait_for_confirmation(algod_client, txid)"
   ]
  },
  {
   "cell_type": "markdown",
   "metadata": {},
   "source": [
    "### A stupid mistake\n",
    "Spot the mistake. Why is it so bad?"
   ]
  },
  {
   "cell_type": "code",
   "execution_count": null,
   "metadata": {},
   "outputs": [],
   "source": [
    "# Step 1: Conditions\n",
    "\n",
    "max_amount = Int(int(1*1E6))                         # <---- 1e6 micro Algos = 1 Algo\n",
    "\n",
    "fee_condition =  (Txn.fee() <= Int(1000))            # Max fee is 1000micro Algos (0.001 Algos)\n",
    "\n",
    "saftey_condition = And (\n",
    "        Txn.type_enum() == TxnType.Payment,          # Must be a \"payment\" transaction\n",
    "        Global.group_size() == Int(1),               # Only 1 recipient\n",
    "        Txn.rekey_to() == Global.zero_address()      # Cannot change private key\n",
    ")\n",
    "\n",
    "escrow_condition = And (\n",
    "    Txn.receiver() == Addr(Bob[\"public\"]),           # Receipient must be Bob\n",
    "    Txn.amount() <= max_amount                       # Requested amount must be smaller than max_amount\n",
    ")\n",
    "\n",
    "stupid_pyteal = Or(fee_condition, saftey_condition, escrow_condition)"
   ]
  },
  {
   "cell_type": "code",
   "execution_count": null,
   "metadata": {},
   "outputs": [],
   "source": [
    "# Step 2-3: Compile PyTeal -> Teal -> AVM\n",
    "stupid_teal = compileTeal(stupid_pyteal, Mode.Signature, version=3)\n",
    "print(stupid_teal)\n",
    "\n",
    "stupid = algod_client.compile(stupid_teal)\n",
    "print(\"Compiled smart signature:\", stupid['result'])\n",
    "print(\"Address of smart signature: \", stupid['hash'])"
   ]
  },
  {
   "cell_type": "code",
   "execution_count": null,
   "metadata": {},
   "outputs": [],
   "source": [
    "# Step 4: Alice funds and deploys the smart signature\n",
    "amt = 2001000        # microalgos\n",
    "txid = payment_transaction(Alice[\"mnemonic\"], amt, stupid['hash'], algod_client)\n",
    "pmtx = wait_for_confirmation(algod_client, txid)"
   ]
  },
  {
   "cell_type": "code",
   "execution_count": null,
   "metadata": {},
   "outputs": [],
   "source": [
    "# Step 5: Now Charlie(!!) withdraws everything\n",
    "withdrawal_amt = int(2e6)\n",
    "txid = lsig_payment_txn(stupid['result'], stupid['hash'], withdrawal_amt, Charlie['public'], algod_client)\n",
    "pmtx = wait_for_confirmation(algod_client, txid)"
   ]
  },
  {
   "cell_type": "markdown",
   "metadata": {},
   "source": [
    "And the money is **GONE**"
   ]
  },
  {
   "cell_type": "markdown",
   "metadata": {},
   "source": [
    "### Using OR in a sensable way"
   ]
  },
  {
   "cell_type": "code",
   "execution_count": null,
   "metadata": {},
   "outputs": [],
   "source": [
    "# Step 1: Conditions\n",
    "\n",
    "max_amount = Int(int(0.5*1E6))                       # <---- 0.5*1e6 micro Algos = 1/2 Algo\n",
    "\n",
    "fee_condition =  (Txn.fee() <= Int(1000))            # Max fee is 1000micro Algos (0.001 Algos)\n",
    "\n",
    "saftey_condition = And (\n",
    "        Txn.type_enum() == TxnType.Payment,          # Must be a \"payment\" transaction\n",
    "        Global.group_size() == Int(1),               # Only 1 recipient\n",
    "        Txn.rekey_to() == Global.zero_address()      # Cannot change private key\n",
    ")\n",
    "\n",
    "modesty_condition = And (\n",
    "    Txn.amount() <= max_amount                       # Requested amount must be smaller than max_amount\n",
    ")\n",
    "\n",
    "identity_condition = And (\n",
    "    Txn.receiver() == Addr(Bob[\"public\"]),           # Receipient must be Bob\n",
    ")\n",
    "\n",
    "\n",
    "clever_pyteal = And(fee_condition, saftey_condition, Or(modesty_condition, identity_condition))"
   ]
  },
  {
   "cell_type": "code",
   "execution_count": null,
   "metadata": {},
   "outputs": [],
   "source": [
    "# Step 2-3: Compile PyTeal -> Teal -> AVM\n",
    "clever_teal = compileTeal(clever_pyteal, Mode.Signature, version=3)\n",
    "print(clever_teal)\n",
    "\n",
    "clever = algod_client.compile(stupid_teal)\n",
    "print(\"Compiled smart signature:\", clever['result'])\n",
    "print(\"Address of smart signature: \", clever['hash'])"
   ]
  },
  {
   "cell_type": "code",
   "execution_count": null,
   "metadata": {},
   "outputs": [],
   "source": [
    "# Step 4: Alice funds and deploys the smart signature\n",
    "amt = 2001000        # microalgos\n",
    "txid = payment_transaction(Alice[\"mnemonic\"], amt, clever['hash'], algod_client)\n",
    "pmtx = wait_for_confirmation(algod_client, txid)"
   ]
  },
  {
   "cell_type": "code",
   "execution_count": null,
   "metadata": {},
   "outputs": [],
   "source": [
    "# Step 5: Now Charlie withdraws just a bit\n",
    "withdrawal_amt = int(0.5 * 1e6)\n",
    "txid = lsig_payment_txn(clever['result'], clever['hash'], withdrawal_amt, Charlie['public'], algod_client)\n",
    "pmtx = wait_for_confirmation(algod_client, txid)"
   ]
  },
  {
   "cell_type": "code",
   "execution_count": null,
   "metadata": {},
   "outputs": [],
   "source": [
    "# Step 6: While Bob can withdraw a lot\n",
    "withdrawal_amt = int(1.5 * 1e6)\n",
    "txid = lsig_payment_txn(clever['result'], clever['hash'], withdrawal_amt, Bob['public'], algod_client)\n",
    "pmtx = wait_for_confirmation(algod_client, txid)"
   ]
  },
  {
   "cell_type": "markdown",
   "metadata": {},
   "source": [
    "# Appendix: why the `Int(int(1e6))`\n",
    "Pyteal requires the type `Int` (with large i). This can only be obtained from Python's `int` type"
   ]
  },
  {
   "cell_type": "code",
   "execution_count": null,
   "metadata": {},
   "outputs": [],
   "source": [
    "a = 1E6\n",
    "type(a)"
   ]
  },
  {
   "cell_type": "code",
   "execution_count": null,
   "metadata": {},
   "outputs": [],
   "source": [
    "b = int(1E6)\n",
    "type(b)"
   ]
  },
  {
   "cell_type": "code",
   "execution_count": null,
   "metadata": {},
   "outputs": [],
   "source": [
    "c = Int(int(1E6))\n",
    "type(b)"
   ]
  },
  {
   "cell_type": "code",
   "execution_count": null,
   "metadata": {},
   "outputs": [],
   "source": [
    "# This is not possible\n",
    "d = Int(1E6)"
   ]
  }
 ],
 "metadata": {
  "kernelspec": {
   "display_name": "Python 3",
   "language": "python",
   "name": "python3"
  },
  "language_info": {
   "codemirror_mode": {
    "name": "ipython",
    "version": 3
   },
   "file_extension": ".py",
   "mimetype": "text/x-python",
   "name": "python",
   "nbconvert_exporter": "python",
   "pygments_lexer": "ipython3",
   "version": "3.8.8"
  }
 },
 "nbformat": 4,
 "nbformat_minor": 4
}
