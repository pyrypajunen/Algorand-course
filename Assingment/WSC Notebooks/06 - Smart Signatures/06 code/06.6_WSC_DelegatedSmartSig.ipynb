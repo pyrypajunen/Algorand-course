{
 "cells": [
  {
   "cell_type": "markdown",
   "metadata": {},
   "source": [
    "# Delegated Smart signatures\n",
    "#### 06.6 Writing Smart Contracts\n",
    "##### Peter Gruber (peter.gruber@usi.ch)\n",
    "2022-03-14\n",
    "\n",
    "* Combine the logic of Smart Signatures with existing accounts"
   ]
  },
  {
   "cell_type": "markdown",
   "metadata": {
    "tags": []
   },
   "source": [
    "## Setup\n",
    "See notebook 04.1, the lines below will always automatically load functions in `algo_util.py`, the five accounts and the Purestake credentials"
   ]
  },
  {
   "cell_type": "code",
   "execution_count": null,
   "metadata": {},
   "outputs": [],
   "source": [
    "# Loading shared code and credentials\n",
    "import sys, os\n",
    "\n",
    "codepath = '..'+os.path.sep+'..'+os.path.sep+'sharedCode'\n",
    "sys.path.append(codepath)\n",
    "from algo_util import *\n",
    "cred = load_credentials()\n",
    "\n",
    "# Shortcuts to directly access the 3 main accounts\n",
    "MyAlgo  = cred['MyAlgo']\n",
    "Alice   = cred['Alice']\n",
    "Bob     = cred['Bob']\n",
    "Charlie = cred['Charlie']\n",
    "Dina    = cred['Dina']"
   ]
  },
  {
   "cell_type": "code",
   "execution_count": null,
   "metadata": {},
   "outputs": [],
   "source": [
    "from algosdk import account, mnemonic\n",
    "from algosdk.v2client import algod\n",
    "from algosdk import transaction\n",
    "from algosdk.transaction import PaymentTxn\n",
    "from algosdk.transaction import AssetConfigTxn, AssetTransferTxn, AssetFreezeTxn\n",
    "from algosdk.transaction import LogicSig, LogicSigTransaction, LogicSigAccount\n",
    "\n",
    "import algosdk.error\n",
    "import json\n",
    "import base64\n",
    "import hashlib"
   ]
  },
  {
   "cell_type": "code",
   "execution_count": null,
   "metadata": {},
   "outputs": [],
   "source": [
    "from pyteal import *"
   ]
  },
  {
   "cell_type": "code",
   "execution_count": null,
   "metadata": {},
   "outputs": [],
   "source": [
    "# Initialize the algod client (Testnet or Mainnet)\n",
    "algod_client = algod.AlgodClient(algod_token='', algod_address=cred['algod_test'], headers=cred['purestake_token'])\n",
    "algod_client.status()[\"last-round\"]"
   ]
  },
  {
   "cell_type": "code",
   "execution_count": null,
   "metadata": {},
   "outputs": [],
   "source": [
    "print(MyAlgo['public'])\n",
    "print(Alice['public'])\n",
    "print(Bob['public'])\n",
    "print(Charlie['public'])"
   ]
  },
  {
   "cell_type": "markdown",
   "metadata": {},
   "source": [
    "#### Check Purestake API"
   ]
  },
  {
   "cell_type": "code",
   "execution_count": null,
   "metadata": {},
   "outputs": [],
   "source": [
    "last_block = algod_client.status()[\"last-round\"]\n",
    "print(f\"Last committed block is: {last_block}\")"
   ]
  },
  {
   "cell_type": "markdown",
   "metadata": {},
   "source": [
    "## Two types of Smart Signatures\n",
    "* So far, Smart Signatures were used in *account mode* as **contract account**\n",
    "    * Compiling produces the public address\n",
    "    * Smart Signature is an independent account\n",
    "    * Transactions can only be authorized by Smart Signature\n",
    "\n",
    "#### This has some drawbacks\n",
    "* We have to forsee all possible cases when defining the logic of the Smart Signature\n",
    "* We have to cover transactions that happen rarely (withdrawal of funds) or only once (opt-in)\n",
    "\n",
    "## Better: Delegated Smart Signatures\n",
    "* The second mode is *delegated mode* as **delegated signature**\n",
    "* Alice creates a Smart Signature and signs it as delegeted signature\n",
    "* Transactions with Alice's account can be authorized ...\n",
    "    * With the Smart signature (for routine transactions)\n",
    "    * With Alice's private key (for exceptional transactions)"
   ]
  },
  {
   "cell_type": "markdown",
   "metadata": {},
   "source": [
    "## Create a Delegated Signature\n",
    "* Alice wants to create a delegated Smart Signature that Bob can retrieve 0.1 ALGO from her account\n",
    "* She wants to be able to authorize all other transactions herself\n",
    "\n",
    "**Note** Steps 1-3 are identacal in account mode and delegated mode "
   ]
  },
  {
   "cell_type": "markdown",
   "metadata": {},
   "source": [
    "#### Step 1: Define conditions in PyTEAL"
   ]
  },
  {
   "cell_type": "code",
   "execution_count": null,
   "metadata": {},
   "outputs": [],
   "source": [
    "# withdraw condition\n",
    "withdraw_cond = And (\n",
    "    Txn.receiver() == Addr(Bob[\"public\"]),        # Receipient must be Bob\n",
    "    Txn.amount() == Int(int(1e5)),                # 0.1 ALGO = 1e5 Micro Algo\n",
    ")\n",
    "\n",
    "# random condition\n",
    "import random\n",
    "a = Int( random.randrange(2**32-1) )\n",
    "random_cond = ( a == a )\n",
    "\n",
    "fee_cond = ( Txn.fee() <= Int(1000) )\n",
    "\n",
    "safety_cond = And(\n",
    "    Txn.type_enum() == TxnType.Payment,\n",
    "    Txn.close_remainder_to() == Global.zero_address(),\n",
    "    Txn.rekey_to() == Global.zero_address(),\n",
    "    )\n",
    "    \n",
    "withdraw_pyteal = And(\n",
    "    withdraw_cond,\n",
    "    random_cond, \n",
    "    fee_cond, \n",
    "    safety_cond\n",
    "    )"
   ]
  },
  {
   "cell_type": "markdown",
   "metadata": {},
   "source": [
    "##### Step 2: Compile PyTeal -> Teal"
   ]
  },
  {
   "cell_type": "code",
   "execution_count": null,
   "metadata": {},
   "outputs": [],
   "source": [
    "withdraw_teal = compileTeal(withdraw_pyteal, Mode.Signature, version=8)\n",
    "#print(bob_teal)"
   ]
  },
  {
   "cell_type": "markdown",
   "metadata": {},
   "source": [
    "#### Step 3: Compile Teal -> Bytecode for AVM"
   ]
  },
  {
   "cell_type": "code",
   "execution_count": null,
   "metadata": {},
   "outputs": [],
   "source": [
    "Withdraw = algod_client.compile(withdraw_teal)\n",
    "encodedProg = Withdraw['result'].encode()\n",
    "program = base64.decodebytes(encodedProg)\n",
    "lsigA = LogicSigAccount(program)"
   ]
  },
  {
   "cell_type": "markdown",
   "metadata": {},
   "source": [
    "#### Step 4: Alice signs the Smart Signature\n",
    "* Additional step to link conditions (step 1) to the account of Alice"
   ]
  },
  {
   "cell_type": "code",
   "execution_count": null,
   "metadata": {},
   "outputs": [],
   "source": [
    "lsigA.sign(Alice['private'])"
   ]
  },
  {
   "cell_type": "markdown",
   "metadata": {},
   "source": [
    "#### The Signed Smart Signature is ready for use\n",
    "#### Alice communicates the following pieces of information to Bob"
   ]
  },
  {
   "cell_type": "code",
   "execution_count": null,
   "metadata": {},
   "outputs": [],
   "source": [
    "# (1) The program logic (the rules)\n",
    "# This is the same as with a smart sig in account mode\n",
    "withdrawal_prog = Withdraw['result']\n",
    "withdrawal_prog"
   ]
  },
  {
   "cell_type": "code",
   "execution_count": null,
   "metadata": {},
   "outputs": [],
   "source": [
    "# (2) The signature of the program\n",
    "# This is different\n",
    "withdrawal_sig = lsigA.lsig.sig\n",
    "withdrawal_sig"
   ]
  },
  {
   "cell_type": "code",
   "execution_count": null,
   "metadata": {},
   "outputs": [],
   "source": [
    "# (3) The signing account (=Alice['public'])\n",
    "withdrawal_acc = base64.b32encode(lsigA.sigkey)\n",
    "withdrawal_acc"
   ]
  },
  {
   "cell_type": "markdown",
   "metadata": {},
   "source": [
    "## Two possible transactions from the Alice account"
   ]
  },
  {
   "cell_type": "markdown",
   "metadata": {},
   "source": [
    "#### Case A: Transaction signed by Smart Signature\n",
    "* Note that we do not have to \"fund the Smart Signature\"\n",
    "* The Smart Signature authorizes trasactions from Alice's account"
   ]
  },
  {
   "cell_type": "markdown",
   "metadata": {},
   "source": [
    "#### Bob recreates the smart signature\n",
    "* Compare this to Step 6 in `06.1a`"
   ]
  },
  {
   "cell_type": "code",
   "execution_count": null,
   "metadata": {},
   "outputs": [],
   "source": [
    "# Step 1: create a new smart signature object from the program logic\n",
    "encodedProg = withdrawal_prog.encode()\n",
    "lsigBob = LogicSigAccount(base64.decodebytes(encodedProg))\n",
    "# Step 2: add the signature (i.e. that Alice has signed the logic)\n",
    "lsigBob.lsig.sig = withdrawal_sig\n",
    "# Step 3: add the public key of the siging account (Alice)\n",
    "lsigBob.sigkey = base64.b32decode(withdrawal_acc)"
   ]
  },
  {
   "cell_type": "code",
   "execution_count": null,
   "metadata": {},
   "outputs": [],
   "source": [
    "# just checking\n",
    "lsigBob.address()"
   ]
  },
  {
   "cell_type": "markdown",
   "metadata": {},
   "source": [
    "#### Bob proposes a transaction"
   ]
  },
  {
   "cell_type": "code",
   "execution_count": null,
   "metadata": {},
   "outputs": [],
   "source": [
    "# Step 1: prepare\n",
    "sp = algod_client.suggested_params()\n",
    "amt = int(1e5)\n",
    "sender = Alice['public']             # <--------- NEW: Sender is Alice (not the Smart Sig)\n",
    "receiver = Bob['public']\n",
    "txn = PaymentTxn(sender, sp, receiver, amt)\n",
    "\n",
    "# Step 2: Smart Sig signs txn\n",
    "lstx = LogicSigTransaction(txn, lsigBob)   # <--------- Signature recreated by Bob \n",
    "\n",
    "# Step 3: Send\n",
    "txid = algod_client.send_transaction(lstx)\n",
    "\n",
    "# Step 4: Wait for confirmation\n",
    "confirmed_txn = wait_for_confirmation(algod_client, txid)"
   ]
  },
  {
   "cell_type": "markdown",
   "metadata": {},
   "source": [
    "#### Case B: Transaction signed by Alice\n",
    "* Alice can still sign for herself\n",
    "* She can of cause sign all sorts of transactions, not only the ones in the Smart Signature\n",
    "    * Example: she sends 0.2 ALGO to Charlie"
   ]
  },
  {
   "cell_type": "code",
   "execution_count": null,
   "metadata": {},
   "outputs": [],
   "source": [
    "# Step 1: prepare\n",
    "sp = algod_client.suggested_params()\n",
    "amt = int(2e5)\n",
    "sender = Alice['public']\n",
    "receiver = Charlie['public']\n",
    "txn = PaymentTxn(sender, sp, receiver, amt)\n",
    "\n",
    "# Step 2+3+4: sign, send, wait\n",
    "stxn = txn.sign(Alice['private'])                    # <------ nothing new here. Alices signs with private key           \n",
    "txid = algod_client.send_transaction(stxn)\n",
    "txinfo = wait_for_confirmation(algod_client, txid)"
   ]
  },
  {
   "cell_type": "markdown",
   "metadata": {},
   "source": [
    "## Possible applications\n",
    "* Let the Smart Signature handle standard transactions\n",
    "* Manually sign exceptional or rare transactions (like opt-in, withdrawal of funds from vending, ...)"
   ]
  }
 ],
 "metadata": {
  "kernelspec": {
   "display_name": "Python 3 (ipykernel)",
   "language": "python",
   "name": "python3"
  },
  "language_info": {
   "codemirror_mode": {
    "name": "ipython",
    "version": 3
   },
   "file_extension": ".py",
   "mimetype": "text/x-python",
   "name": "python",
   "nbconvert_exporter": "python",
   "pygments_lexer": "ipython3",
   "version": "3.10.9"
  }
 },
 "nbformat": 4,
 "nbformat_minor": 4
}
