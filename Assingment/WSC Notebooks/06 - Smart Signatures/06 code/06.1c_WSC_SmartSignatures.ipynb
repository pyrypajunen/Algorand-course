{
 "cells": [
  {
   "cell_type": "markdown",
   "metadata": {},
   "source": [
    "# Smart signatures\n",
    "#### 06.1 Writing Smart Contracts\n",
    "##### Peter Gruber (peter.gruber@usi.ch)\n",
    "2023-02-10 (started 2022-01-12)\n",
    "\n",
    "* Write and deploy smart Signatures"
   ]
  },
  {
   "cell_type": "markdown",
   "metadata": {
    "tags": []
   },
   "source": [
    "## Setup\n",
    "See notebook 04.1, the lines below will always automatically load functions in `algo_util.py`, the five accounts and the Purestake credentials"
   ]
  },
  {
   "cell_type": "code",
   "execution_count": null,
   "metadata": {},
   "outputs": [],
   "source": [
    "# Loading shared code and credentials\n",
    "import sys, os\n",
    "\n",
    "codepath = '..'+os.path.sep+'..'+os.path.sep+'sharedCode'\n",
    "sys.path.append(codepath)\n",
    "from algo_util import *\n",
    "cred = load_credentials()\n",
    "\n",
    "# Shortcuts to directly access the 3 main accounts\n",
    "MyAlgo  = cred['MyAlgo']\n",
    "Alice   = cred['Alice']\n",
    "Bob     = cred['Bob']\n",
    "Charlie = cred['Charlie']\n",
    "Dina    = cred['Dina']"
   ]
  },
  {
   "cell_type": "code",
   "execution_count": null,
   "metadata": {},
   "outputs": [],
   "source": [
    "from algosdk import account, mnemonic\n",
    "from algosdk.v2client import algod\n",
    "from algosdk import transaction\n",
    "from algosdk.transaction import PaymentTxn\n",
    "from algosdk.transaction import AssetConfigTxn, AssetTransferTxn, AssetFreezeTxn\n",
    "from algosdk.transaction import LogicSig, LogicSigTransaction\n",
    "\n",
    "import algosdk.error\n",
    "import json\n",
    "import base64\n",
    "import hashlib"
   ]
  },
  {
   "cell_type": "code",
   "execution_count": null,
   "metadata": {},
   "outputs": [],
   "source": [
    "from pyteal import *"
   ]
  },
  {
   "cell_type": "code",
   "execution_count": null,
   "metadata": {},
   "outputs": [],
   "source": [
    "# Initialize the algod client (Testnet or Mainnet)\n",
    "algod_client = algod.AlgodClient(algod_token='', algod_address=cred['algod_test'], headers=cred['purestake_token'])\n",
    "algod_client.status()[\"last-round\"]"
   ]
  },
  {
   "cell_type": "markdown",
   "metadata": {},
   "source": [
    "## The Escrow\n",
    "A classical smart contact. **Alice** pays to **Bob** (and only to **Bob**).\n",
    "\n",
    "**Bob** can decide when to ask for the money."
   ]
  },
  {
   "cell_type": "markdown",
   "metadata": {},
   "source": [
    "##### Step 1: The programmer writes down the conditions as a PyTeal program"
   ]
  },
  {
   "cell_type": "code",
   "execution_count": null,
   "metadata": {},
   "outputs": [],
   "source": [
    "escrow_pyteal =  (\n",
    "    Txn.receiver() == Addr(Bob[\"public\"])            # Receipient must be Bob\n",
    ")                                                    # Encode addresses using Addr()\n",
    "                                                     # No random number here (why?)\n",
    "\n",
    "# Security missing ... do not copy-paste"
   ]
  },
  {
   "cell_type": "markdown",
   "metadata": {},
   "source": [
    "##### Step 2: Compile PyTeal -> Teal"
   ]
  },
  {
   "cell_type": "code",
   "execution_count": null,
   "metadata": {},
   "outputs": [],
   "source": [
    "escrow_teal = compileTeal(escrow_pyteal, Mode.Signature, version=8)\n",
    "print(escrow_teal)"
   ]
  },
  {
   "cell_type": "markdown",
   "metadata": {},
   "source": [
    "##### Step 3: Compile Teal -> Bytecode for AVM"
   ]
  },
  {
   "cell_type": "code",
   "execution_count": null,
   "metadata": {},
   "outputs": [],
   "source": [
    "# compile Teal -> Bytecode\n",
    "Escrow = algod_client.compile(escrow_teal)\n",
    "Escrow"
   ]
  },
  {
   "cell_type": "markdown",
   "metadata": {},
   "source": [
    "#### Step 4: Deployment – Alice funds the smart signature"
   ]
  },
  {
   "cell_type": "code",
   "execution_count": null,
   "metadata": {},
   "outputs": [],
   "source": [
    "# Step 1: prepare transaction\n",
    "sp = algod_client.suggested_params()\n",
    "amt = int(1.5*1e6)\n",
    "txn = transaction.PaymentTxn(sender=Alice['public'], sp=sp, receiver=Escrow['hash'], amt=amt)\n",
    "\n",
    "# Step 2+3: sign and sen\n",
    "stxn = txn.sign(Alice['private'])\n",
    "txid = algod_client.send_transaction(stxn)\n",
    "\n",
    "# Step 4: wait for confirmation\n",
    "txinfo = wait_for_confirmation(algod_client, txid)"
   ]
  },
  {
   "cell_type": "code",
   "execution_count": null,
   "metadata": {},
   "outputs": [],
   "source": [
    "# Smart Signature is now funded\n",
    "print('https://testnet.algoexplorer.io/address/'+ Escrow['hash'])"
   ]
  },
  {
   "cell_type": "markdown",
   "metadata": {},
   "source": [
    "##### Step 5: Alice informs Bob"
   ]
  },
  {
   "cell_type": "code",
   "execution_count": null,
   "metadata": {},
   "outputs": [],
   "source": [
    "print(\"Alice communicates to Bob the following\")\n",
    "print(\"Compiled smart signature:\", Escrow['result'])\n",
    "print(\"Address of smart signature: \", Escrow['hash'])"
   ]
  },
  {
   "cell_type": "markdown",
   "metadata": {},
   "source": [
    "#### Step 6: Bob proposes a transaction to the smart signature\n",
    "* Again he proposes a payment from the cashmachine to **himself**\n",
    "* The payment transaction is signed by the smart signature, **if the conditions are fullfilled** (correct recipient)"
   ]
  },
  {
   "cell_type": "code",
   "execution_count": null,
   "metadata": {},
   "outputs": [],
   "source": [
    "# Step 1: prepare TX\n",
    "sp = algod_client.suggested_params()\n",
    "withdrawal_amt = int(1.298*1e6) -  int(0.001*1e6)  -  int(0.1*1e6)\n",
    "txn = PaymentTxn(sender=Escrow['hash'], sp=sp, \n",
    "                 receiver=Bob['public'], amt=withdrawal_amt)\n",
    "\n",
    "# Step 2: sign TX <---- This step is different!\n",
    "encodedProg = Escrow['result'].encode()\n",
    "program = base64.decodebytes(encodedProg)\n",
    "lsig = LogicSig(program)\n",
    "stxn = LogicSigTransaction(txn, lsig)\n",
    "\n",
    "# Step 3: send\n",
    "txid = algod_client.send_transaction(stxn)\n",
    "\n",
    "# Step 4: wait for confirmation\n",
    "txinfo = wait_for_confirmation(algod_client, txid)"
   ]
  },
  {
   "cell_type": "markdown",
   "metadata": {},
   "source": [
    "### Exercise\n",
    "* Repeat Step 6. Can Bob withdraw several times?\n",
    "* Write the transaction(s) for Charlie to try to withdraw from the Escrow"
   ]
  },
  {
   "cell_type": "code",
   "execution_count": null,
   "metadata": {},
   "outputs": [],
   "source": [
    "# Python code goes here"
   ]
  }
 ],
 "metadata": {
  "kernelspec": {
   "display_name": "Python 3 (ipykernel)",
   "language": "python",
   "name": "python3"
  },
  "language_info": {
   "codemirror_mode": {
    "name": "ipython",
    "version": 3
   },
   "file_extension": ".py",
   "mimetype": "text/x-python",
   "name": "python",
   "nbconvert_exporter": "python",
   "pygments_lexer": "ipython3",
   "version": "3.10.9"
  }
 },
 "nbformat": 4,
 "nbformat_minor": 4
}
