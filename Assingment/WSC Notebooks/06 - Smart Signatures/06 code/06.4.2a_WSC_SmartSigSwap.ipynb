{
 "cells": [
  {
   "cell_type": "markdown",
   "metadata": {},
   "source": [
    "## Smart Signatures with Atomic Swaps\n",
    "#### 06.4.2a Winter School on Smart Contracts\n",
    "##### Peter Gruber (peter.gruber@usi.ch)\n",
    "2022-01-22\n",
    "\n",
    "* Sell ASA for a fixed price\n",
    "* Combine Atomic Swap and Smart Signature\n",
    "* Learn to use the If statement"
   ]
  },
  {
   "cell_type": "markdown",
   "metadata": {
    "tags": []
   },
   "source": [
    "## Setup\n",
    "See notebook 04.1, the lines below will always automatically load functions in `algo_util.py`, the 5 accounts and the Purestake credentials"
   ]
  },
  {
   "cell_type": "code",
   "execution_count": null,
   "metadata": {},
   "outputs": [],
   "source": [
    "# Loading shared code and credentials\n",
    "import sys, os\n",
    "\n",
    "codepath = '..'+os.path.sep+'..'+os.path.sep+'sharedCode'\n",
    "sys.path.append(codepath)\n",
    "from algo_util import *\n",
    "cred = load_credentials()\n",
    "\n",
    "# Shortcuts to directly access the 3 main accounts\n",
    "MyAlgo  = cred['MyAlgo']\n",
    "Alice   = cred['Alice']\n",
    "Bob     = cred['Bob']\n",
    "Charlie = cred['Charlie']\n",
    "Dina    = cred['Dina']"
   ]
  },
  {
   "cell_type": "code",
   "execution_count": null,
   "metadata": {},
   "outputs": [],
   "source": [
    "from algosdk import account, mnemonic\n",
    "from algosdk.v2client import algod\n",
    "from algosdk import transaction\n",
    "from algosdk.transaction import PaymentTxn\n",
    "from algosdk.transaction import AssetConfigTxn, AssetTransferTxn, AssetFreezeTxn\n",
    "from algosdk.transaction import LogicSig, LogicSigTransaction\n",
    "\n",
    "import algosdk.error\n",
    "import json\n",
    "import base64\n",
    "import pandas as pd"
   ]
  },
  {
   "cell_type": "code",
   "execution_count": null,
   "metadata": {},
   "outputs": [],
   "source": [
    "from pyteal import *"
   ]
  },
  {
   "cell_type": "code",
   "execution_count": null,
   "metadata": {},
   "outputs": [],
   "source": [
    "# Initialize the algod client (Testnet or Mainnet)\n",
    "algod_client = algod.AlgodClient(algod_token='', algod_address=cred['algod_test'], headers=cred['purestake_token'])\n",
    "algod_client.status()['last-round']"
   ]
  },
  {
   "cell_type": "code",
   "execution_count": null,
   "metadata": {},
   "outputs": [],
   "source": [
    "print(MyAlgo['public'])\n",
    "print(Alice['public'])\n",
    "print(Bob['public'])\n",
    "print(Charlie['public'])"
   ]
  },
  {
   "cell_type": "markdown",
   "metadata": {},
   "source": [
    "## The Vending Machine\n",
    "* MyAlgo wants to sell the WSC coin for a fixed price against ALGO\n",
    "* The price is 1 mini-WSC coin for 1 micro-ALGO\n",
    "  * We can add a more complex exchange rate later\n",
    "* MyAlgo creates a Smart Signature that will automatically authorize any Atomic Swap, if the price is correct\n",
    "\n",
    "**The Atomic Swap**\n",
    "* Bob sends 5 micro-ALGO to the Smart Signature + signs with his key\n",
    "* Bob requests 5 mini-WSC from the Smart Signature + signs with the Smart Signature\n",
    "* Transaction goes through if amounts are correct"
   ]
  },
  {
   "cell_type": "markdown",
   "metadata": {},
   "source": [
    "#### Step 0: Get the status before the swap\n",
    "* Also fund accounts if need be\n",
    "* https://bank.testnet.algorand.network\n",
    "* https://testnet.algoexplorer.io/dispenser"
   ]
  },
  {
   "cell_type": "code",
   "execution_count": null,
   "metadata": {},
   "outputs": [],
   "source": [
    "asset_holdings_df2(algod_client, MyAlgo['public'], Bob['public'], [\"MyAlgo\",\"Bob\"])"
   ]
  },
  {
   "cell_type": "code",
   "execution_count": null,
   "metadata": {},
   "outputs": [],
   "source": [
    "# Store the correct ID for the WSC coin\n",
    "WSC_idx=157880457                         # <---------- Update!!"
   ]
  },
  {
   "cell_type": "markdown",
   "metadata": {},
   "source": [
    "#### Step 1a: Write down the conditions as a PyTeal program"
   ]
  },
  {
   "cell_type": "code",
   "execution_count": null,
   "metadata": {},
   "outputs": [],
   "source": [
    "vending_condition = And (\n",
    "    Global.group_size() == Int(2),                     # Vending is an atomic swap, hence 2 transactions\n",
    "    Gtxn[0].type_enum() == TxnType.Payment,            # First TX is a payment TX ...\n",
    "    Gtxn[0].xfer_asset() == Int(0),                    # ... in ALGOs\n",
    "    Gtxn[1].type_enum() == TxnType.AssetTransfer,      # Second TX is an ASA transfer ...\n",
    "    Gtxn[1].xfer_asset() == Int(WSC_idx),              # ... in the WSC coin\n",
    "    Gtxn[0].amount() == Gtxn[1].asset_amount(),        # Exchange rate in SMALL units\n",
    "    Gtxn[0].receiver() == Gtxn[1].sender(),            # Anti-theft\n",
    "    Gtxn[0].rekey_to() == Global.zero_address(),\n",
    "    Gtxn[0].close_remainder_to() == Global.zero_address(),\n",
    "    Gtxn[1].rekey_to() == Global.zero_address(),\n",
    "    Gtxn[1].asset_close_to() == Global.zero_address(),\n",
    ")\n",
    "\n",
    "optin_condition = And(\n",
    "        Global.group_size() == Int(1),                # Opt-in is single transaction\n",
    "        Txn.type_enum() ==TxnType.AssetTransfer,      # Opt-in is ASA transfer\n",
    "        Txn.xfer_asset() == Int(WSC_idx),               # ... in the WSC coin\n",
    "        Txn.asset_amount() == Int(0),                 # Payout impossible, opt-in is OK\n",
    "        Txn.rekey_to() == Global.zero_address(),\n",
    "        Txn.close_remainder_to() == Global.zero_address()\n",
    "    )\n",
    "\n",
    "import random\n",
    "a = Int( random.randrange(2**32-1) )\n",
    "random_cond = ( a == a )\n",
    "\n",
    "fee_cond = Txn.fee() <= Int(1000)\n",
    "    \n",
    "vending_pyteal = And(\n",
    "    random_cond, \n",
    "    fee_cond, \n",
    "    If(\n",
    "        Global.group_size() == Int(1),        # condition\n",
    "        optin_condition,                      # then-expression\n",
    "        vending_condition                     # else-expression\n",
    "        )\n",
    "    )"
   ]
  },
  {
   "cell_type": "markdown",
   "metadata": {},
   "source": [
    "#### Step 1b: Pyteal -> Teal"
   ]
  },
  {
   "cell_type": "code",
   "execution_count": null,
   "metadata": {},
   "outputs": [],
   "source": [
    "vending_teal = compileTeal(vending_pyteal, Mode.Signature, version=3)\n",
    "print(vending_teal)"
   ]
  },
  {
   "cell_type": "markdown",
   "metadata": {},
   "source": [
    "#### Step 1c: Teal -> Bytecode for AVM"
   ]
  },
  {
   "cell_type": "code",
   "execution_count": null,
   "metadata": {},
   "outputs": [],
   "source": [
    "Vending = algod_client.compile(vending_teal)\n",
    "Vending"
   ]
  },
  {
   "cell_type": "markdown",
   "metadata": {},
   "source": [
    "#### Step 2: Veding must opt-In\n",
    "* Veding needs to be funded first (for TX fee and min holding)\n",
    "* Veding then makes a 0 coin transaction to itself"
   ]
  },
  {
   "cell_type": "markdown",
   "metadata": {},
   "source": [
    "##### Step 2a: Funding"
   ]
  },
  {
   "cell_type": "code",
   "execution_count": null,
   "metadata": {},
   "outputs": [],
   "source": [
    "# Step 2a.1: prepare transaction\n",
    "sp = algod_client.suggested_params()\n",
    "\n",
    "# How much? Min holdings + min holdings for 1 ASA + TX fee for a few several swaps\n",
    "amt = int(0.1*1e6) + int(0.1*1e6) + int(20* 0.001*1e6)\n",
    "txn = transaction.PaymentTxn(sender=MyAlgo['public'], sp=sp, \n",
    "                             receiver=Vending['hash'], amt=amt)\n",
    "\n",
    "# Step 2a.(2+3+4): sign and send and wait ...\n",
    "stxn = txn.sign(MyAlgo['private'])\n",
    "txid = algod_client.send_transaction(stxn)\n",
    "txinfo = wait_for_confirmation(algod_client, txid)"
   ]
  },
  {
   "cell_type": "markdown",
   "metadata": {},
   "source": [
    "##### Step 2b: Opt-In"
   ]
  },
  {
   "cell_type": "code",
   "execution_count": null,
   "metadata": {},
   "outputs": [],
   "source": [
    "# Step 2b.1: Prepare\n",
    "sp = algod_client.suggested_params()\n",
    "txn = AssetTransferTxn(Vending['hash'], sp, Vending['hash'], 0, WSC_idx)\n",
    "\n",
    "# Step 2b.2: Sign\n",
    "encodedProg = Vending['result'].encode()\n",
    "program = base64.decodebytes(encodedProg)\n",
    "lsig = LogicSig(program)\n",
    "stxn = LogicSigTransaction(txn, lsig)\n",
    "\n",
    "# Step 2b.3 Send\n",
    "txid = algod_client.send_transaction(stxn)\n",
    "\n",
    "# Step 2b.4 Wait for ...\n",
    "txinfo = wait_for_confirmation(algod_client, txid)"
   ]
  },
  {
   "cell_type": "markdown",
   "metadata": {},
   "source": [
    "#### Step 3: MyAlgo puts 15 (full) WSC into the Vending machine\n",
    "* This is a simple AssetTransferTxn"
   ]
  },
  {
   "cell_type": "code",
   "execution_count": null,
   "metadata": {},
   "outputs": [],
   "source": [
    "### Step 3.1: prepare and create TX\n",
    "# Deal with SMALL units\n",
    "WSC_decimals = algod_client.asset_info(WSC_idx)['params']['decimals']\n",
    "amt = int( 15 * 10**WSC_decimals )             # <--------- 15 WSC coins in SMALL units\n",
    "\n",
    "sp = algod_client.suggested_params()\n",
    "txn = AssetTransferTxn(\n",
    "    sender=MyAlgo['public'],\n",
    "    sp=sp,\n",
    "    receiver=Vending['hash'],               \n",
    "    amt=amt,\n",
    "    index=WSC_idx)                        # <-----  We are sending WSC\n",
    "\n",
    "# Step 3.2 and 3.3: sign and send\n",
    "stxn = txn.sign(MyAlgo['private'])\n",
    "txid = algod_client.send_transaction(stxn)\n",
    "\n",
    "# Step 3.4: wait for confirmation\n",
    "txinfo = wait_for_confirmation(algod_client, txid)"
   ]
  },
  {
   "cell_type": "markdown",
   "metadata": {},
   "source": [
    "## The vending machine is now ready"
   ]
  },
  {
   "cell_type": "markdown",
   "metadata": {},
   "source": [
    "#### Step 4: Opt-In for Bob\n",
    "* If Bob is a first-time buyer, he has to opt in first\n",
    "* In a real-world example, we would check the holdings of Bob and ask him to opt in only if he does not hold the token"
   ]
  },
  {
   "cell_type": "code",
   "execution_count": null,
   "metadata": {},
   "outputs": [],
   "source": [
    "# Step 4.1: Prepare transaction\n",
    "sp = algod_client.suggested_params()\n",
    "txn = AssetTransferTxn(\n",
    "    sender=Bob['public'],                 # <------- From Bob ...\n",
    "    sp=sp,\n",
    "    receiver=Bob['public'],               # <------- ... to Bob\n",
    "    amt=int(0),\n",
    "    index=WSC_idx)                        # <----- Correct asset_idx\n",
    "\n",
    "# Step 4.2 and 4.3: sign and send\n",
    "stxn = txn.sign(Bob['private'])           # <----- Signed by Bob\n",
    "txid = algod_client.send_transaction(stxn)\n",
    "\n",
    "# Step 4.4: wait for confirmation\n",
    "txinfo = wait_for_confirmation(algod_client, txid)"
   ]
  },
  {
   "cell_type": "markdown",
   "metadata": {},
   "source": [
    "#### Step 5: Bob prepares the entire Atomic Swap\n",
    "* Bob sends 5 micro-ALGOS\n",
    "* He asks for 5 mini-WSC"
   ]
  },
  {
   "cell_type": "code",
   "execution_count": null,
   "metadata": {},
   "outputs": [],
   "source": [
    "# Step 5.1a: Prepare ALGO payment TXN from Bob to Veding\n",
    "sp = algod_client.suggested_params()\n",
    "amt_1 = int(5)                     # microalgos!!! \n",
    "txn_1 = PaymentTxn(Bob['public'], sp, Vending['hash'],amt_1)\n",
    "\n",
    "# Step 5.1b: Prepare WSC transfer from Vending to Bob\n",
    "amt_2 = int(5)                      # mini-WSC coin\n",
    "txn_2 = AssetTransferTxn(Vending['hash'], sp, Bob['public'], amt_2, WSC_idx)"
   ]
  },
  {
   "cell_type": "code",
   "execution_count": null,
   "metadata": {},
   "outputs": [],
   "source": [
    "# Step 5.1c: create TX group\n",
    "gid = transaction.calculate_group_id([txn_1, txn_2])\n",
    "txn_1.group = gid              # add group_id to each transactions\n",
    "txn_2.group = gid\n",
    "#print( base64.b32encode(gid).decode() )      # This is the gid"
   ]
  },
  {
   "cell_type": "code",
   "execution_count": null,
   "metadata": {},
   "outputs": [],
   "source": [
    "# Step 5.2a: Bob signs txn_1\n",
    "stxn_1 = txn_1.sign(Bob['private'])\n",
    "\n",
    "# Step 5.2b: Bob asks Smart signature to authorize txn_2\n",
    "encodedProg = Vending['result'].encode()              \n",
    "program = base64.decodebytes(encodedProg)\n",
    "lsig = LogicSig(program)\n",
    "stxn_2 = LogicSigTransaction(txn_2, lsig)"
   ]
  },
  {
   "cell_type": "code",
   "execution_count": null,
   "metadata": {},
   "outputs": [],
   "source": [
    "# Step 5.3: assemble transaction group and send\n",
    "signed_group =  [stxn_1, stxn_2]\n",
    "txid = algod_client.send_transactions(signed_group)"
   ]
  },
  {
   "cell_type": "code",
   "execution_count": null,
   "metadata": {},
   "outputs": [],
   "source": [
    "# Step 5d: wait for confirmation\n",
    "txinfo = wait_for_confirmation(algod_client, txid)"
   ]
  },
  {
   "cell_type": "markdown",
   "metadata": {},
   "source": [
    "**Quick check** what is the `txid` here?\n",
    "* Click on Group ID in Algoexplorer"
   ]
  },
  {
   "cell_type": "code",
   "execution_count": null,
   "metadata": {},
   "outputs": [],
   "source": [
    "print('https://testnet.algoexplorer.io/tx/'+txid)"
   ]
  },
  {
   "cell_type": "markdown",
   "metadata": {},
   "source": [
    "#### Get the status after the swap"
   ]
  },
  {
   "cell_type": "code",
   "execution_count": null,
   "metadata": {},
   "outputs": [],
   "source": [
    "asset_holdings_df2(algod_client, MyAlgo['public'], Bob['public'], [\"MyAlgo\",\"Bob\"])"
   ]
  },
  {
   "cell_type": "markdown",
   "metadata": {},
   "source": [
    "## Now you try ...\n",
    "* Change `amt_1` and `amt_2` to a different (but the same) number. The smart contract will still work"
   ]
  },
  {
   "cell_type": "markdown",
   "metadata": {},
   "source": [
    "### Things that will not work\n",
    "* Now change `amt_1`, but do not change `amt_2`, i.e you do not pay enough or overpay. We will get an error message\n",
    "* Try to swap more WSC than there are in the smart contract. Bob will get an error message and no ALOGs will be deducted from his account"
   ]
  },
  {
   "cell_type": "markdown",
   "metadata": {},
   "source": [
    "# Appendix: The anti theft condition\n",
    "**Q:** What is the reason for the condition `Gtxn[0].receiver() == Gtxn[1].sender()`?\n",
    "\n",
    "**Answer**\n",
    "* Smart signature does not know its own address (why?)\n",
    "* Need to make sure that the sender of the WSC coins (`Gtxn[1].sender`) actually gets paid (`Gtxn[0].receiver`)\n",
    "\n",
    "#### Otherwise, Bob could get WSC coins for free"
   ]
  },
  {
   "cell_type": "code",
   "execution_count": null,
   "metadata": {},
   "outputs": [],
   "source": [
    "# The following transaction is made impossible with the anti theft condition\n",
    "txn_1 = PaymentTxn(Bob['public'], sp, Bob['public'],amt_1)                    # <--- Bob pays himself\n",
    "txn_2 = AssetTransferTxn(Vending['hash'], sp, Bob['public'], amt_2, WSC_idx)  # <--- Still gets WSC coins"
   ]
  },
  {
   "cell_type": "markdown",
   "metadata": {},
   "source": [
    "#### PyTeal note\n",
    "* For PaymentTxn in ALGOs, the fields are `Txn.sender()` and `Txn.receiver()` \n",
    "* For AssetTransferTxn in coins, the fields `Txn.sender()` and `Txn.asset_receiver()` \n"
   ]
  },
  {
   "cell_type": "markdown",
   "metadata": {},
   "source": [
    "# Appendix: Why we need the If statement\n",
    "* Imagine a family discount for a child that is younger than 14 years old."
   ]
  },
  {
   "cell_type": "code",
   "execution_count": null,
   "metadata": {},
   "outputs": [],
   "source": [
    "child_age = 2\n",
    "(child_age <= 14)           # condition for family discount"
   ]
  },
  {
   "cell_type": "markdown",
   "metadata": {},
   "source": [
    "#### Seems simple ...\n",
    "But what if there is no child? Clearly, there should not be a family discount"
   ]
  },
  {
   "cell_type": "code",
   "execution_count": null,
   "metadata": {},
   "outputs": [],
   "source": [
    "child_age = None\n",
    "(child_age <= 14)           # condition for family discount"
   ]
  },
  {
   "cell_type": "markdown",
   "metadata": {},
   "source": [
    "#### So we need to do this\n",
    "* First check, whether there actually is a child\n",
    "* Only if there is child, check the age"
   ]
  },
  {
   "cell_type": "code",
   "execution_count": null,
   "metadata": {},
   "outputs": [],
   "source": [
    "child_age = None\n",
    "\n",
    "if (child_age is None):\n",
    "    rebate = False\n",
    "else:\n",
    "    rebate = (child_age <= 14)\n",
    "print(rebate)"
   ]
  },
  {
   "cell_type": "markdown",
   "metadata": {},
   "source": [
    "## Back to our smart contract\n",
    "We want to allow two transactions:\n",
    "1. The opt-in tranaction = single ASA transfer\n",
    "2. The atomic swap = a transaction group with group size 2\n",
    "\n",
    "#### The problem\n",
    "* Checking the exchange rate requires `Gtxn[0].amount() == Gtxn[1].asset_amount()`\n",
    "* But for the opt-in transaction, there is no  `Gtxn[0]` or `Gtxn[1]`\n",
    "\n",
    "#### The solution\n",
    "* First check whether it is a single transaction using `Global.group_size() == Int(1)`\n",
    "  * If YES, apply the `optin_cond`\n",
    "  * If NO, it is a group transaction and we apply the `vending_cond`"
   ]
  }
 ],
 "metadata": {
  "kernelspec": {
   "display_name": "Python 3 (ipykernel)",
   "language": "python",
   "name": "python3"
  },
  "language_info": {
   "codemirror_mode": {
    "name": "ipython",
    "version": 3
   },
   "file_extension": ".py",
   "mimetype": "text/x-python",
   "name": "python",
   "nbconvert_exporter": "python",
   "pygments_lexer": "ipython3",
   "version": "3.10.9"
  }
 },
 "nbformat": 4,
 "nbformat_minor": 4
}
