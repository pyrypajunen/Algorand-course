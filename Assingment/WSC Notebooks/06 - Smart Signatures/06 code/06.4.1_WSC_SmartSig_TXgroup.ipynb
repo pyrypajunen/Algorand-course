{
 "cells": [
  {
   "cell_type": "markdown",
   "metadata": {},
   "source": [
    "## Split payments: Smart Signatures with Transaction Groups\n",
    "#### 06.4.1 Winter School on Smart Contracts\n",
    "##### Peter Gruber (peter.gruber@usi.ch)\n",
    "2022-01-22\n",
    "\n",
    "* Smart Signatures with more than 1 transaction\n",
    "* Combine conditions across transactions"
   ]
  },
  {
   "cell_type": "markdown",
   "metadata": {
    "tags": []
   },
   "source": [
    "## Setup\n",
    "See notebook 04.1, the lines below will always automatically load functions in `algo_util.py`, the 5 accounts and the Purestake credentials"
   ]
  },
  {
   "cell_type": "code",
   "execution_count": null,
   "metadata": {},
   "outputs": [],
   "source": [
    "# Loading shared code and credentials\n",
    "import sys, os\n",
    "\n",
    "codepath = '..'+os.path.sep+'..'+os.path.sep+'sharedCode'\n",
    "sys.path.append(codepath)\n",
    "from algo_util import *\n",
    "cred = load_credentials()\n",
    "\n",
    "# Shortcuts to directly access the 3 main accounts\n",
    "MyAlgo  = cred['MyAlgo']\n",
    "Alice   = cred['Alice']\n",
    "Bob     = cred['Bob']\n",
    "Charlie = cred['Charlie']\n",
    "Dina    = cred['Dina']"
   ]
  },
  {
   "cell_type": "code",
   "execution_count": null,
   "metadata": {},
   "outputs": [],
   "source": [
    "from algosdk import account, mnemonic\n",
    "from algosdk.v2client import algod\n",
    "from algosdk import transaction\n",
    "from algosdk.transaction import PaymentTxn\n",
    "from algosdk.transaction import AssetConfigTxn, AssetTransferTxn, AssetFreezeTxn\n",
    "from algosdk.transaction import LogicSig, LogicSigTransaction\n",
    "\n",
    "import algosdk.error\n",
    "import json\n",
    "import base64\n",
    "import pandas as pd"
   ]
  },
  {
   "cell_type": "code",
   "execution_count": null,
   "metadata": {},
   "outputs": [],
   "source": [
    "from pyteal import *"
   ]
  },
  {
   "cell_type": "code",
   "execution_count": null,
   "metadata": {},
   "outputs": [],
   "source": [
    "# Initialize the algod client (Testnet or Mainnet)\n",
    "algod_client = algod.AlgodClient(algod_token='', algod_address=cred['algod_test'], headers=cred['purestake_token'])\n",
    "algod_client.status()[\"last-round\"]"
   ]
  },
  {
   "cell_type": "code",
   "execution_count": null,
   "metadata": {},
   "outputs": [],
   "source": [
    "print(Alice['public'])\n",
    "print(Bob['public'])\n",
    "print(Charlie['public'])"
   ]
  },
  {
   "cell_type": "markdown",
   "metadata": {},
   "source": [
    "## The Split Payment\n",
    "* Classical Smart Contract\n",
    "* Example\n",
    "    * Two business partners agree to split all revenues in a fixed percentage\n",
    "    * The smart contract is the business acount, into which customers have to pay\n",
    "    * Both business partners can initiate a payout, but only in the fixed percentage\n",
    "* Other examples\n",
    "    * Fixed tax rate\n",
    "    * Sales commission"
   ]
  },
  {
   "cell_type": "markdown",
   "metadata": {},
   "source": [
    "#### Step 0: Get the status before the transaction\n",
    "* Also fund accounts if need be\n",
    "* https://bank.testnet.algorand.network\n",
    "* https://testnet.algoexplorer.io/dispenser"
   ]
  },
  {
   "cell_type": "code",
   "execution_count": null,
   "metadata": {},
   "outputs": [],
   "source": [
    "asset_holdings_df2(algod_client, Alice['public'], Bob['public'], [\"Alice\",\"Bob\"])"
   ]
  },
  {
   "cell_type": "markdown",
   "metadata": {},
   "source": [
    "#### Step 1a: Write down the conditions as a PyTeal program\n",
    "* Alice and Bob are business partners\n",
    "* Alice gets 3/4 of the proceeds\n",
    "* Bob gets 1/4 of the proceeds"
   ]
  },
  {
   "cell_type": "code",
   "execution_count": null,
   "metadata": {},
   "outputs": [],
   "source": [
    "split_cond = And( \n",
    "    Gtxn[0].sender() == Gtxn[1].sender(),                        # Both payments come from the same address\n",
    "    Gtxn[0].receiver() == Addr(Alice['public']),                 # Payment 0 to Alice\n",
    "    Gtxn[1].receiver() == Addr(Bob['public']),                   # Payment 1 to Bob\n",
    "    Gtxn[0].amount() == Int(3) * (Gtxn[0].amount() + Gtxn[1].amount()) / Int(4)    # Alice_amount = 3/4 * Total_amount\n",
    "    )\n",
    "\n",
    "fee_cond = And( \n",
    "    Gtxn[0].fee() <= Int(1000),                                    # No fee attack\n",
    "    Gtxn[1].fee() <= Int(1000)                                     # No fee attack\n",
    "    )\n",
    "\n",
    "safety_cond = And( \n",
    "    Global.group_size() == Int(2),                                  # Exactly 2 transactions\n",
    "    Gtxn[0].type_enum() == TxnType.Payment,                         # Both are PaymentTxn\n",
    "    Gtxn[1].type_enum() == TxnType.Payment,\n",
    "    Gtxn[0].rekey_to() == Global.zero_address(),                    # No rekey attack\n",
    "    Gtxn[1].rekey_to() == Global.zero_address(),\n",
    "    Gtxn[0].close_remainder_to() == Global.zero_address(),          # No close_to attack\n",
    "    Gtxn[1].close_remainder_to() == Global.zero_address()\n",
    "    )\n",
    "    \n",
    "split_pyteal = And(\n",
    "    split_cond, \n",
    "    fee_cond, \n",
    "    safety_cond\n",
    "    )"
   ]
  },
  {
   "cell_type": "markdown",
   "metadata": {},
   "source": [
    "#### Step 1b: Pyteal -> Teal"
   ]
  },
  {
   "cell_type": "code",
   "execution_count": null,
   "metadata": {},
   "outputs": [],
   "source": [
    "split_teal = compileTeal(split_pyteal, Mode.Signature, version=3)\n",
    "print(split_teal)"
   ]
  },
  {
   "cell_type": "markdown",
   "metadata": {},
   "source": [
    "#### Step 1c: Teal -> Bytecode for AVM"
   ]
  },
  {
   "cell_type": "code",
   "execution_count": null,
   "metadata": {},
   "outputs": [],
   "source": [
    "Split = algod_client.compile(split_teal)\n",
    "Split"
   ]
  },
  {
   "cell_type": "markdown",
   "metadata": {},
   "source": [
    "### The split payment is now ready\n",
    "* We only need to communicate the hash to customers"
   ]
  },
  {
   "cell_type": "markdown",
   "metadata": {},
   "source": [
    "#### Step 2: A customer makes a payment\n",
    "* Dina buys something from the Alice_Bob_Company\n",
    "* She pays 5 Algos into the company account"
   ]
  },
  {
   "cell_type": "code",
   "execution_count": null,
   "metadata": {},
   "outputs": [],
   "source": [
    "# Step 2.1: prepare transaction\n",
    "sp = algod_client.suggested_params()\n",
    "amt = int(5*1e6)\n",
    "txn = transaction.PaymentTxn(sender=Dina['public'], sp=sp, \n",
    "                             receiver=Split['hash'], amt=amt)\n",
    "\n",
    "# Step 2.(2+3+4): sign and send and wait ...\n",
    "stxn = txn.sign(Dina['private'])\n",
    "txid = algod_client.send_transaction(stxn)\n",
    "txinfo = wait_for_confirmation(algod_client, txid)"
   ]
  },
  {
   "cell_type": "markdown",
   "metadata": {},
   "source": [
    "#### Step 3: Payout request\n",
    "* Alice or Bob (or anybody) can make a payout request\n",
    "* The only thing that matters is that 3/4 go to Alice and 1/4 goes to Bob\n",
    "* Consider the TX fees and min holdings in the contract"
   ]
  },
  {
   "cell_type": "code",
   "execution_count": null,
   "metadata": {},
   "outputs": [],
   "source": [
    "### Step 3.1: prepare and create TX group\n",
    "sp = algod_client.suggested_params()\n",
    "\n",
    "total_amt = 4.8       # total withdrawl\n",
    "amt_1 = int(3/4 * 4.8 * 1E6)  # Alice share in microalgos\n",
    "amt_2 = int(1/4 * 4.8 * 1E6)  # Bob share in microalgos\n",
    "\n",
    "txn_1 = PaymentTxn(sender=Split['hash'],sp=sp,receiver=Alice['public'],amt=amt_1)\n",
    "txn_2 = PaymentTxn(sender=Split['hash'],sp=sp,receiver=Bob['public'],amt=amt_2)\n",
    "\n",
    "gid = transaction.calculate_group_id([txn_1, txn_2])\n",
    "txn_1.group = gid\n",
    "txn_2.group = gid\n",
    "\n",
    "# Step 3.2a ask Smart Signature to sign txn_1\n",
    "encodedProg = Split['result'].encode()              \n",
    "program = base64.decodebytes(encodedProg)\n",
    "lsig = LogicSig(program)\n",
    "stxn_1 = LogicSigTransaction(txn_1, lsig)\n",
    "\n",
    "# Step 3.2b ask Smart Signature to sign txn_2\n",
    "encodedProg = Split['result'].encode()              \n",
    "program = base64.decodebytes(encodedProg)\n",
    "lsig = LogicSig(program)\n",
    "stxn_2 = LogicSigTransaction(txn_2, lsig)\n",
    "\n",
    "# Step 3.3: assemble transaction group and send\n",
    "signed_group =  [stxn_1, stxn_2]\n",
    "txid = algod_client.send_transactions(signed_group)\n",
    "\n",
    "# Step 3.4: wait for confirmation\n",
    "txinfo = wait_for_confirmation(algod_client, txid)"
   ]
  },
  {
   "cell_type": "markdown",
   "metadata": {},
   "source": [
    "## Appendix: how to calcualte the splitting condition\n",
    "\n",
    "The splitting condition is written in a strange order\n",
    "\n",
    "```python\n",
    "    Gtxn[0].amount() == Int(3) * (Gtxn[0].amount()+Gtxn[1].amount()) / Int(4)  \n",
    "\n",
    "```\n",
    "\n",
    "This (mathematically identical) will not work\n",
    "\n",
    "```python\n",
    "    Gtxn[0].amount() == Int(3)/Int(4) * (Gtxn[0].amount()+Gtxn[1].amount()) \n",
    "```"
   ]
  },
  {
   "cell_type": "code",
   "execution_count": null,
   "metadata": {},
   "outputs": [],
   "source": [
    "a = 750\n",
    "b = 250"
   ]
  },
  {
   "cell_type": "code",
   "execution_count": null,
   "metadata": {},
   "outputs": [],
   "source": [
    "# Version 1\n",
    "int(a) == int( int(3 * (int(a) + int(b)) ) / 4)"
   ]
  },
  {
   "cell_type": "code",
   "execution_count": null,
   "metadata": {},
   "outputs": [],
   "source": [
    "# Version 2\n",
    "int(a) == int(3/4) * ( int(a) + int(b))"
   ]
  },
  {
   "cell_type": "code",
   "execution_count": null,
   "metadata": {},
   "outputs": [],
   "source": [
    "int(3/4) "
   ]
  },
  {
   "cell_type": "markdown",
   "metadata": {},
   "source": [
    "#### CONCLUSION: (Py)TEAL uses integer calucaltions for every single step!"
   ]
  },
  {
   "cell_type": "markdown",
   "metadata": {},
   "source": [
    "## Exercises\n",
    "1. Change the Smart Signature (and the withdrawl transaction) so that Alice gets 80% and Bob gets 20%\n",
    "2. Discuss: How would we deal with fractions like 2/3 and 1/3, that cannot be easily expressed in percentages?\n",
    "3. Discuss: Is there a way to get rid of the whole problem with dividing?"
   ]
  },
  {
   "cell_type": "code",
   "execution_count": null,
   "metadata": {},
   "outputs": [],
   "source": []
  }
 ],
 "metadata": {
  "kernelspec": {
   "display_name": "Python 3 (ipykernel)",
   "language": "python",
   "name": "python3"
  },
  "language_info": {
   "codemirror_mode": {
    "name": "ipython",
    "version": 3
   },
   "file_extension": ".py",
   "mimetype": "text/x-python",
   "name": "python",
   "nbconvert_exporter": "python",
   "pygments_lexer": "ipython3",
   "version": "3.10.9"
  }
 },
 "nbformat": 4,
 "nbformat_minor": 4
}
