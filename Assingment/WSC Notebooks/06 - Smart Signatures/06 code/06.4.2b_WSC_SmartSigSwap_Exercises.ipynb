{
 "cells": [
  {
   "cell_type": "markdown",
   "metadata": {},
   "source": [
    "## Smart Signatures with Atomic Swaps\n",
    "## Exercises\n",
    "#### 06.4.2b Winter School on Smart Contracts\n",
    "##### Peter Gruber (peter.gruber@usi.ch)\n",
    "2022-01-22\n",
    "\n",
    "* Sell ASA for a fixed price\n",
    "* Combine Atomic Swap and Smart Signature\n",
    "* Learn to use the If statement"
   ]
  },
  {
   "cell_type": "markdown",
   "metadata": {
    "tags": []
   },
   "source": [
    "## Setup\n",
    "See notebook 04.1, the lines below will always automatically load functions in `algo_util.py`, the 5 accounts and the Purestake credentials"
   ]
  },
  {
   "cell_type": "code",
   "execution_count": 1,
   "metadata": {},
   "outputs": [],
   "source": [
    "# Loading shared code and credentials\n",
    "import sys, os\n",
    "\n",
    "codepath = '..'+os.path.sep+'..'+os.path.sep+'sharedCode'\n",
    "sys.path.append(codepath)\n",
    "from algo_util import *\n",
    "cred = load_credentials()\n",
    "\n",
    "# Shortcuts to directly access the 3 main accounts\n",
    "MyAlgo  = cred['MyAlgo']\n",
    "Alice   = cred['Alice']\n",
    "Bob     = cred['Bob']\n",
    "Charlie = cred['Charlie']\n",
    "Dina    = cred['Dina']"
   ]
  },
  {
   "cell_type": "code",
   "execution_count": 2,
   "metadata": {},
   "outputs": [],
   "source": [
    "from algosdk import account, mnemonic\n",
    "from algosdk.v2client import algod\n",
    "from algosdk import transaction\n",
    "from algosdk.transaction import PaymentTxn\n",
    "from algosdk.transaction import AssetConfigTxn, AssetTransferTxn, AssetFreezeTxn\n",
    "from algosdk.transaction import LogicSig, LogicSigTransaction\n",
    "\n",
    "import algosdk.error\n",
    "import json\n",
    "import base64\n",
    "import pandas as pd"
   ]
  },
  {
   "cell_type": "code",
   "execution_count": 3,
   "metadata": {},
   "outputs": [],
   "source": [
    "from pyteal import *"
   ]
  },
  {
   "cell_type": "code",
   "execution_count": 4,
   "metadata": {},
   "outputs": [
    {
     "data": {
      "text/plain": [
       "27780155"
      ]
     },
     "execution_count": 4,
     "metadata": {},
     "output_type": "execute_result"
    }
   ],
   "source": [
    "# Initialize the algod client (Testnet or Mainnet)\n",
    "algod_client = algod.AlgodClient(algod_token='', algod_address=cred['algod_test'], headers=cred['purestake_token'])\n",
    "algod_client.status()[\"last-round\"]"
   ]
  },
  {
   "cell_type": "code",
   "execution_count": 5,
   "metadata": {},
   "outputs": [
    {
     "name": "stdout",
     "output_type": "stream",
     "text": [
      "GFJ3O3QBJ4H3KPXYA4MFTTDA7TMEPZXAEUHCSF3J6GEDAXMML4A55KYSL4\n",
      "MB4W4II5EEZ7VA5RGS74BTND5CMYDXMUHGRJ42HQYOSMDJZ23ZPIUWRRKM\n",
      "ZFTSGNBBFDH544IDUVB7S4B67CX6PJL6MMFJYT3GGDH2GWJ4N7H6VKRU2Y\n"
     ]
    }
   ],
   "source": [
    "print(Alice['public'])\n",
    "print(Bob['public'])\n",
    "print(Charlie['public'])"
   ]
  },
  {
   "cell_type": "markdown",
   "metadata": {},
   "source": [
    "## The Vending Machine – Exercises"
   ]
  },
  {
   "cell_type": "markdown",
   "metadata": {},
   "source": [
    "#### Exercise 1: exchange rate (price)\n",
    "* Change the smart contract so that 2 ALGOs are exchanged for 1 WSC coin. *Hint:* keep the decimals in mind!\n",
    "* Test the smart contract. *Hint:* do not forget to adjust the amounts to reflect the new exchange rate."
   ]
  },
  {
   "cell_type": "markdown",
   "metadata": {},
   "source": [
    "#### Exercise 2: allow overpayment\n",
    "* Change the smart contract so that it is OK if Bob pays too many ALGOs for a certain amount of WSC coins"
   ]
  },
  {
   "cell_type": "markdown",
   "metadata": {},
   "source": [
    "#### Exercise 3: Anti money loundering\n",
    "* Add an anti money-loundering condition\n",
    "* Currently it is possible that Bob pays, but Charlie receives the coins\n",
    "* We want to avoid that with a condition that whoever pays the ALGOs must the the one to receive the coins"
   ]
  },
  {
   "cell_type": "markdown",
   "metadata": {},
   "source": [
    "**Hint:** In total you need to add 2 lines to the smart contract"
   ]
  },
  {
   "cell_type": "markdown",
   "metadata": {},
   "source": [
    "#### Step 0: Get the status before the swap\n",
    "* Also fund accounts if need be\n",
    "* https://bank.testnet.algorand.network\n",
    "* https://testnet.algoexplorer.io/dispenser"
   ]
  },
  {
   "cell_type": "code",
   "execution_count": 6,
   "metadata": {},
   "outputs": [
    {
     "data": {
      "text/html": [
       "<div>\n",
       "<style scoped>\n",
       "    .dataframe tbody tr th:only-of-type {\n",
       "        vertical-align: middle;\n",
       "    }\n",
       "\n",
       "    .dataframe tbody tr th {\n",
       "        vertical-align: top;\n",
       "    }\n",
       "\n",
       "    .dataframe thead th {\n",
       "        text-align: right;\n",
       "    }\n",
       "</style>\n",
       "<table border=\"1\" class=\"dataframe\">\n",
       "  <thead>\n",
       "    <tr style=\"text-align: right;\">\n",
       "      <th></th>\n",
       "      <th>amountMyAlgo</th>\n",
       "      <th>unit</th>\n",
       "      <th>asset-id</th>\n",
       "      <th>name</th>\n",
       "      <th>decimals</th>\n",
       "      <th>amountBob</th>\n",
       "    </tr>\n",
       "  </thead>\n",
       "  <tbody>\n",
       "    <tr>\n",
       "      <th>0</th>\n",
       "      <td>3.382550e+01</td>\n",
       "      <td>ALGO</td>\n",
       "      <td>0</td>\n",
       "      <td>Algorand</td>\n",
       "      <td>6</td>\n",
       "      <td>8.432000e+00</td>\n",
       "    </tr>\n",
       "    <tr>\n",
       "      <th>1</th>\n",
       "      <td>1.100000e+02</td>\n",
       "      <td>USDC</td>\n",
       "      <td>10458941</td>\n",
       "      <td>USDC</td>\n",
       "      <td>6</td>\n",
       "      <td>1.999975e+01</td>\n",
       "    </tr>\n",
       "    <tr>\n",
       "      <th>2</th>\n",
       "      <td>0.000000e+00</td>\n",
       "      <td>DRZY</td>\n",
       "      <td>12887013</td>\n",
       "      <td>Drizzy</td>\n",
       "      <td>1</td>\n",
       "      <td>NaN</td>\n",
       "    </tr>\n",
       "    <tr>\n",
       "      <th>3</th>\n",
       "      <td>9.000000e+02</td>\n",
       "      <td>HUSKEN</td>\n",
       "      <td>159159432</td>\n",
       "      <td>Husky Token</td>\n",
       "      <td>2</td>\n",
       "      <td>NaN</td>\n",
       "    </tr>\n",
       "    <tr>\n",
       "      <th>4</th>\n",
       "      <td>1.000000e+02</td>\n",
       "      <td>DWSC</td>\n",
       "      <td>159159534</td>\n",
       "      <td>Daniels WSC coin</td>\n",
       "      <td>2</td>\n",
       "      <td>NaN</td>\n",
       "    </tr>\n",
       "    <tr>\n",
       "      <th>5</th>\n",
       "      <td>9.969900e+09</td>\n",
       "      <td>Beer</td>\n",
       "      <td>159171974</td>\n",
       "      <td>Beer Coin</td>\n",
       "      <td>2</td>\n",
       "      <td>3.010002e+07</td>\n",
       "    </tr>\n",
       "    <tr>\n",
       "      <th>6</th>\n",
       "      <td>1.670000e+01</td>\n",
       "      <td>TEMP</td>\n",
       "      <td>159173248</td>\n",
       "      <td>Peters Tempcoin</td>\n",
       "      <td>1</td>\n",
       "      <td>8.330000e+01</td>\n",
       "    </tr>\n",
       "    <tr>\n",
       "      <th>7</th>\n",
       "      <td>1.000000e+02</td>\n",
       "      <td>TEMPYRY</td>\n",
       "      <td>159173545</td>\n",
       "      <td>Pyrys Tempcoin</td>\n",
       "      <td>1</td>\n",
       "      <td>NaN</td>\n",
       "    </tr>\n",
       "    <tr>\n",
       "      <th>8</th>\n",
       "      <td>9.170000e+01</td>\n",
       "      <td>TEMPYRY</td>\n",
       "      <td>159173586</td>\n",
       "      <td>Pyrys Tempcoin</td>\n",
       "      <td>1</td>\n",
       "      <td>8.300000e+00</td>\n",
       "    </tr>\n",
       "    <tr>\n",
       "      <th>9</th>\n",
       "      <td>9.900000e+02</td>\n",
       "      <td>WSC</td>\n",
       "      <td>159189398</td>\n",
       "      <td>Peters WSC coin</td>\n",
       "      <td>2</td>\n",
       "      <td>1.000000e+01</td>\n",
       "    </tr>\n",
       "    <tr>\n",
       "      <th>10</th>\n",
       "      <td>1.000000e+04</td>\n",
       "      <td>BEETO</td>\n",
       "      <td>159268198</td>\n",
       "      <td>BeerToken</td>\n",
       "      <td>1</td>\n",
       "      <td>NaN</td>\n",
       "    </tr>\n",
       "    <tr>\n",
       "      <th>11</th>\n",
       "      <td>1.000000e+00</td>\n",
       "      <td>MAJ</td>\n",
       "      <td>159493805</td>\n",
       "      <td>Maj NFT</td>\n",
       "      <td>0</td>\n",
       "      <td>NaN</td>\n",
       "    </tr>\n",
       "  </tbody>\n",
       "</table>\n",
       "</div>"
      ],
      "text/plain": [
       "    amountMyAlgo     unit   asset-id              name  decimals     amountBob\n",
       "0   3.382550e+01     ALGO          0          Algorand         6  8.432000e+00\n",
       "1   1.100000e+02     USDC   10458941              USDC         6  1.999975e+01\n",
       "2   0.000000e+00     DRZY   12887013            Drizzy         1           NaN\n",
       "3   9.000000e+02   HUSKEN  159159432       Husky Token         2           NaN\n",
       "4   1.000000e+02     DWSC  159159534  Daniels WSC coin         2           NaN\n",
       "5   9.969900e+09     Beer  159171974         Beer Coin         2  3.010002e+07\n",
       "6   1.670000e+01     TEMP  159173248   Peters Tempcoin         1  8.330000e+01\n",
       "7   1.000000e+02  TEMPYRY  159173545    Pyrys Tempcoin         1           NaN\n",
       "8   9.170000e+01  TEMPYRY  159173586    Pyrys Tempcoin         1  8.300000e+00\n",
       "9   9.900000e+02      WSC  159189398   Peters WSC coin         2  1.000000e+01\n",
       "10  1.000000e+04    BEETO  159268198         BeerToken         1           NaN\n",
       "11  1.000000e+00      MAJ  159493805           Maj NFT         0           NaN"
      ]
     },
     "execution_count": 6,
     "metadata": {},
     "output_type": "execute_result"
    }
   ],
   "source": [
    "asset_holdings_df2(algod_client, MyAlgo['public'], Bob['public'], [\"MyAlgo\",\"Bob\"])"
   ]
  },
  {
   "cell_type": "code",
   "execution_count": 7,
   "metadata": {},
   "outputs": [],
   "source": [
    "# Store the correct ID for the WSC coin\n",
    "WSC_idx=159189398                         # <---------- Update!!"
   ]
  },
  {
   "cell_type": "markdown",
   "metadata": {},
   "source": [
    "#### Step 1a: Write down the conditions as a PyTeal program\n",
    "Small complication: there is no "
   ]
  },
  {
   "cell_type": "code",
   "execution_count": 8,
   "metadata": {},
   "outputs": [],
   "source": [
    "vending_condition = And (\n",
    "    Global.group_size() == Int(2),                     # Vending is an atomic swap, hence 2 transactions\n",
    "    Gtxn[0].type_enum() == TxnType.Payment,            # First TX is a payment TX ...\n",
    "    Gtxn[0].xfer_asset() == Int(0),                    # ... in ALGOs\n",
    "    Gtxn[1].type_enum() == TxnType.AssetTransfer,      # Second TX is an ASA transfer ...\n",
    "    Gtxn[1].xfer_asset() == Int(WSC_idx),              # ... in the WSC coin\n",
    "    Gtxn[0].amount() == Gtxn[1].asset_amount(),        # Exchange rate in SMALL units\n",
    "    Gtxn[0].receiver() == Gtxn[1].sender(),            # Anti-theft\n",
    "    Gtxn[0].rekey_to() == Global.zero_address(),\n",
    "    Gtxn[0].close_remainder_to() == Global.zero_address(),\n",
    "    Gtxn[1].rekey_to() == Global.zero_address(),\n",
    "    Gtxn[1].asset_close_to() == Global.zero_address(),\n",
    ")\n",
    "\n",
    "optin_condition = And(\n",
    "        Global.group_size() == Int(1),                # Opt-in is single transaction\n",
    "        Txn.type_enum() ==TxnType.AssetTransfer,      # Opt-in is ASA transfer\n",
    "        Txn.xfer_asset() == Int(WSC_idx),               # ... in the WSC coin\n",
    "        Txn.asset_amount() == Int(0),                 # Payout impossible, opt-in is OK\n",
    "        Txn.rekey_to() == Global.zero_address(),\n",
    "        Txn.close_remainder_to() == Global.zero_address()\n",
    "    )\n",
    "\n",
    "\n",
    "import random\n",
    "a = Int( random.randrange(2**32-1) )\n",
    "random_cond = ( a == a )\n",
    "\n",
    "fee_cond = Txn.fee() <= Int(1000)\n",
    "    \n",
    "vending_pyteal = And(\n",
    "    random_cond, \n",
    "    fee_cond, \n",
    "    If(\n",
    "        Global.group_size() == Int(1),        # condition\n",
    "        optin_condition,                      # then-expression\n",
    "        vending_condition                     # else-expression\n",
    "        )\n",
    "    )"
   ]
  },
  {
   "cell_type": "markdown",
   "metadata": {},
   "source": [
    "#### Step 1b: Pyteal -> Teal"
   ]
  },
  {
   "cell_type": "code",
   "execution_count": 9,
   "metadata": {},
   "outputs": [],
   "source": [
    "vending_teal = compileTeal(vending_pyteal, Mode.Signature, version=8)\n",
    "#print(vending_teal)"
   ]
  },
  {
   "cell_type": "markdown",
   "metadata": {},
   "source": [
    "#### Step 1c: Teal -> Bytecode for AVM"
   ]
  },
  {
   "cell_type": "code",
   "execution_count": 10,
   "metadata": {},
   "outputs": [
    {
     "data": {
      "text/plain": [
       "{'hash': 'BGLPXQOVQYBR4HYI54XODRSAQPYM5KKLJFPZ4KRBVHAQ2F6QGYMJ7DWE74',\n",
       " 'result': 'CCAFAZTjmtYKAASWk/RLIyMSMQGB6AcOEDIEIhJAAE0yBIECEjMAECISEDMAESQSEDMBECUSEDMBESEEEhAzAAgzARISEDMABzMBABIQMwAgMgMSEDMACTIDEhAzASAyAxIQMwEVMgMSEEIAIDIEIhIxECUSEDERIQQSEDESJBIQMSAyAxIQMQkyAxIQEEM='}"
      ]
     },
     "execution_count": 10,
     "metadata": {},
     "output_type": "execute_result"
    }
   ],
   "source": [
    "Vending = algod_client.compile(vending_teal)\n",
    "Vending"
   ]
  },
  {
   "cell_type": "markdown",
   "metadata": {},
   "source": [
    "#### Step 2: Veding must opt-In\n",
    "* Veding needs to be funded first (for TX fee and min holding)\n",
    "* Veding then makes a 0 coin transaction to itself"
   ]
  },
  {
   "cell_type": "markdown",
   "metadata": {},
   "source": [
    "##### Step 2a: Funding"
   ]
  },
  {
   "cell_type": "code",
   "execution_count": 11,
   "metadata": {},
   "outputs": [
    {
     "name": "stdout",
     "output_type": "stream",
     "text": [
      "Current round is  27780331.\n",
      "Waiting for round 27780331 to finish.\n",
      "Waiting for round 27780332 to finish.\n",
      "Transaction TFZDHVZHWEUN4KUFZ7ZWTADC7YD3LK2LRJN4ZPWXFVRMBS5YBFQA confirmed in round 27780333.\n"
     ]
    }
   ],
   "source": [
    "# Step 2a.1: prepare transaction\n",
    "sp = algod_client.suggested_params()\n",
    "\n",
    "# How much? Min holdings + min holdings for 1 ASA + TX fee for a few several swaps\n",
    "amt = int(0.1*1e6) + int(0.1*1e6) + int(20* 0.001*1e6)\n",
    "txn = transaction.PaymentTxn(sender=MyAlgo['public'], sp=sp, \n",
    "                             receiver=Vending['hash'], amt=amt)\n",
    "\n",
    "# Step 2a.(2+3+4): sign and send and wait ...\n",
    "stxn = txn.sign(MyAlgo['private'])\n",
    "txid = algod_client.send_transaction(stxn)\n",
    "txinfo = wait_for_confirmation(algod_client, txid)"
   ]
  },
  {
   "cell_type": "markdown",
   "metadata": {},
   "source": [
    "##### Step 2b: Opt-In"
   ]
  },
  {
   "cell_type": "code",
   "execution_count": 12,
   "metadata": {},
   "outputs": [
    {
     "name": "stdout",
     "output_type": "stream",
     "text": [
      "Current round is  27780332.\n",
      "Waiting for round 27780332 to finish.\n",
      "Waiting for round 27780333 to finish.\n",
      "Waiting for round 27780334 to finish.\n",
      "Transaction V4E6Z2S7VKNBGER46ZTG3MNTI33VCSYV3CYRUJHQIUMQE5EBVM3Q confirmed in round 27780335.\n"
     ]
    }
   ],
   "source": [
    "# Steo 2b.1: Prepare\n",
    "sp = algod_client.suggested_params()\n",
    "txn = AssetTransferTxn(Vending['hash'], sp, Vending['hash'], 0, WSC_idx)\n",
    "\n",
    "# Steo 2b.2: Sign\n",
    "encodedProg = Vending['result'].encode()\n",
    "program = base64.decodebytes(encodedProg)\n",
    "lsig = LogicSig(program)\n",
    "stxn = LogicSigTransaction(txn, lsig)\n",
    "\n",
    "# Step 2b.3 Send\n",
    "txid = algod_client.send_transaction(stxn)\n",
    "\n",
    "# Step 2b.4 Wait for ...\n",
    "txinfo = wait_for_confirmation(algod_client, txid)"
   ]
  },
  {
   "cell_type": "markdown",
   "metadata": {},
   "source": [
    "#### Step 3: MyAlgo puts 15 (full) WSC into the Vending machine"
   ]
  },
  {
   "cell_type": "code",
   "execution_count": 13,
   "metadata": {},
   "outputs": [
    {
     "name": "stdout",
     "output_type": "stream",
     "text": [
      "Current round is  27780335.\n",
      "Waiting for round 27780335 to finish.\n",
      "Waiting for round 27780336 to finish.\n",
      "Transaction RJKHG4JP452GIBHZDXY36LGWUPWDHYTY6ZK6MJCL3X2BTYQ72UMQ confirmed in round 27780337.\n"
     ]
    }
   ],
   "source": [
    "### Step 3.1: prepare and create TX\n",
    "\n",
    "# Deal with SMALL units\n",
    "WSC_decimals = algod_client.asset_info(WSC_idx)['params']['decimals']\n",
    "amt = int( 15 * 10**WSC_decimals )             # <--------- 15 WSC coins in SMALL units\n",
    "\n",
    "sp = algod_client.suggested_params()\n",
    "txn = AssetTransferTxn(\n",
    "    sender=MyAlgo['public'],\n",
    "    sp=sp,\n",
    "    receiver=Vending['hash'],               \n",
    "    amt=amt,\n",
    "    index=WSC_idx)                        # <-----  We are sending WSC\n",
    "\n",
    "# Step 3.2 and 3.3: sign and send\n",
    "stxn = txn.sign(MyAlgo['private'])\n",
    "txid = algod_client.send_transaction(stxn)\n",
    "\n",
    "# Step 3.4: wait for confirmation\n",
    "txinfo = wait_for_confirmation(algod_client, txid)"
   ]
  },
  {
   "cell_type": "markdown",
   "metadata": {},
   "source": [
    "## The vending machine is now ready\n",
    "* We run several test cases\n",
    "* These test cases have already been prepared and adapted to the exercise"
   ]
  },
  {
   "cell_type": "markdown",
   "metadata": {},
   "source": [
    "#### Test 1: Bob buys\n",
    "* Bob sends 0.2 ALGOS\n",
    "* He asks for 0.1 WSC"
   ]
  },
  {
   "cell_type": "code",
   "execution_count": null,
   "metadata": {},
   "outputs": [],
   "source": [
    "sp = algod_client.suggested_params()\n",
    "\n",
    "# Step 1a: Prepare ALGO payment TXN from Bob to Veding\n",
    "amt_1 = int(0.2*1e6)\n",
    "txn_1 = PaymentTxn(Bob['public'], sp, Vending['hash'],amt_1)\n",
    "\n",
    "# Step 1b: Prepare WSC transfer from Vending to Bob\n",
    "WSC_decimals = algod_client.asset_info(WSC_idx)['params']['decimals']\n",
    "amt_2 = int(0.1 * 10**WSC_decimals )\n",
    "txn_2 = AssetTransferTxn(Vending['hash'], sp, Bob['public'], amt_2, WSC_idx)\n",
    "\n",
    "# Step 1c: create TX group\n",
    "gid = transaction.calculate_group_id([txn_1, txn_2])\n",
    "txn_1.group = gid     # add group_id to each transactions\n",
    "txn_2.group = gid\n",
    "\n",
    "# Step 2: Bob signs txn_1,  Smart signature to authorizes txn_2\n",
    "stxn_1 = txn_1.sign(Bob['private'])\n",
    "encodedProg = Vending['result'].encode()              \n",
    "program = base64.decodebytes(encodedProg)\n",
    "lsig = LogicSig(program)\n",
    "stxn_2 = LogicSigTransaction(txn_2, lsig)\n",
    "\n",
    "# Step 3: assemble transaction group and send\n",
    "signed_group =  [stxn_1, stxn_2]\n",
    "txid = algod_client.send_transactions(signed_group)\n",
    "\n",
    "# Step 4: wait for confirmation\n",
    "txinfo = wait_for_confirmation(algod_client, txid)"
   ]
  },
  {
   "cell_type": "markdown",
   "metadata": {},
   "source": [
    "#### Test 2: Bob overpays\n",
    "* Bob sends 0.3 ALGOS\n",
    "* He asks for 0.1 WSC\n",
    "* This should only work once Exercise 2 has been implemented"
   ]
  },
  {
   "cell_type": "code",
   "execution_count": null,
   "metadata": {},
   "outputs": [],
   "source": [
    "sp = algod_client.suggested_params()\n",
    "\n",
    "# Step 1a: Prepare ALGO payment TXN from Bob to Veding\n",
    "amt_1 = int(0.3*1e6)                                              # <------ overpayment\n",
    "txn_1 = PaymentTxn(Bob['public'], sp, Vending['hash'],amt_1)\n",
    "\n",
    "# Step 1b: Prepare WSC transfer from Vending to Bob\n",
    "WSC_decimals = algod_client.asset_info(WSC_idx)['params']['decimals']\n",
    "amt_2 = int(0.1 * 10**WSC_decimals )\n",
    "txn_2 = AssetTransferTxn(Vending['hash'], sp, Bob['public'], amt_2, WSC_idx)\n",
    "\n",
    "# Step 1c: create TX group\n",
    "gid = transaction.calculate_group_id([txn_1, txn_2])\n",
    "txn_1.group = gid     # add group_id to each transactions\n",
    "txn_2.group = gid\n",
    "\n",
    "# Step 2: Bob signs txn_1,  Smart signature to authorizes txn_2\n",
    "stxn_1 = txn_1.sign(Bob['private'])\n",
    "encodedProg = Vending['result'].encode()              \n",
    "program = base64.decodebytes(encodedProg)\n",
    "lsig = LogicSig(program)\n",
    "stxn_2 = LogicSigTransaction(txn_2, lsig)\n",
    "\n",
    "# Step 3: assemble transaction group and send\n",
    "signed_group =  [stxn_1, stxn_2]\n",
    "txid = algod_client.send_transactions(signed_group)\n",
    "\n",
    "# Step 4: wait for confirmation\n",
    "txinfo = wait_for_confirmation(algod_client, txid)"
   ]
  },
  {
   "cell_type": "markdown",
   "metadata": {},
   "source": [
    "#### Test 3: Money laundering\n",
    "* Alice pays 0.2 ALGOS\n",
    "* But Bob should get the 0.1 WSC\n",
    "* This should NOT work"
   ]
  },
  {
   "cell_type": "code",
   "execution_count": null,
   "metadata": {},
   "outputs": [],
   "source": [
    "sp = algod_client.suggested_params()\n",
    "\n",
    "# Step 1a: Prepare ALGO payment TXN from Bob to Veding\n",
    "amt_1 = int(0.2*1e6)                                              \n",
    "txn_1 = PaymentTxn(Alice['public'], sp, Vending['hash'],amt_1)            # <------ Alice pays for Bob!\n",
    "\n",
    "# Step 1b: Prepare WSC transfer from Vending to Bob\n",
    "WSC_decimals = algod_client.asset_info(WSC_idx)['params']['decimals']\n",
    "amt_2 = int(0.1 * 10**WSC_decimals )\n",
    "txn_2 = AssetTransferTxn(Vending['hash'], sp, Bob['public'], amt_2, WSC_idx)\n",
    "\n",
    "# Step 1c: create TX group\n",
    "gid = transaction.calculate_group_id([txn_1, txn_2])\n",
    "txn_1.group = gid     # add group_id to each transactions\n",
    "txn_2.group = gid\n",
    "\n",
    "# Step 2: Bob signs txn_1,  Smart signature to authorizes txn_2\n",
    "stxn_1 = txn_1.sign(Bob['private'])\n",
    "encodedProg = Vending['result'].encode()              \n",
    "program = base64.decodebytes(encodedProg)\n",
    "lsig = LogicSig(program)\n",
    "stxn_2 = LogicSigTransaction(txn_2, lsig)\n",
    "\n",
    "# Step 3: assemble transaction group and send\n",
    "signed_group =  [stxn_1, stxn_2]\n",
    "txid = algod_client.send_transactions(signed_group)\n",
    "\n",
    "# Step 4: wait for confirmation\n",
    "txinfo = wait_for_confirmation(algod_client, txid)"
   ]
  },
  {
   "cell_type": "markdown",
   "metadata": {},
   "source": [
    "#### Get the status after the swap"
   ]
  },
  {
   "cell_type": "code",
   "execution_count": null,
   "metadata": {},
   "outputs": [],
   "source": [
    "asset_holdings_df2(algod_client, MyAlgo['public'], Bob['public'], [\"MyAlgo\",\"Bob\"])"
   ]
  }
 ],
 "metadata": {
  "kernelspec": {
   "display_name": "Python 3 (ipykernel)",
   "language": "python",
   "name": "python3"
  },
  "language_info": {
   "codemirror_mode": {
    "name": "ipython",
    "version": 3
   },
   "file_extension": ".py",
   "mimetype": "text/x-python",
   "name": "python",
   "nbconvert_exporter": "python",
   "pygments_lexer": "ipython3",
   "version": "3.10.9"
  }
 },
 "nbformat": 4,
 "nbformat_minor": 4
}
