{
 "cells": [
  {
   "cell_type": "markdown",
   "metadata": {},
   "source": [
    "# The hash locked contract\n",
    "#### 06.2 Writing Smart Contracts\n",
    "##### Peter Gruber (peter.gruber@usi.ch)\n",
    "2022-01-12\n",
    "\n",
    "* Write a Hash Time Locked Contract\n",
    "* Use secret (hashed) passwords\n",
    "* Use time delays\n",
    "* Limits of passwords on the blockchain"
   ]
  },
  {
   "cell_type": "markdown",
   "metadata": {
    "tags": []
   },
   "source": [
    "## Setup\n",
    "See notebook 04.1, the lines below will always automatically load functions in `algo_util.py`, the 5 accounts and the Purestake credentials"
   ]
  },
  {
   "cell_type": "code",
   "execution_count": null,
   "metadata": {},
   "outputs": [],
   "source": [
    "# Loading shared code and credentials\n",
    "import sys, os\n",
    "\n",
    "codepath = '..'+os.path.sep+'..'+os.path.sep+'sharedCode'\n",
    "sys.path.append(codepath)\n",
    "from algo_util import *\n",
    "cred = load_credentials()\n",
    "\n",
    "# Shortcuts to directly access the 3 main accounts\n",
    "MyAlgo  = cred['MyAlgo']\n",
    "Alice   = cred['Alice']\n",
    "Bob     = cred['Bob']\n",
    "Charlie = cred['Charlie']\n",
    "Dina    = cred['Dina']"
   ]
  },
  {
   "cell_type": "code",
   "execution_count": null,
   "metadata": {},
   "outputs": [],
   "source": [
    "from algosdk import account, mnemonic\n",
    "from algosdk.v2client import algod\n",
    "from algosdk import transaction\n",
    "from algosdk.transaction import PaymentTxn\n",
    "from algosdk.transaction import AssetConfigTxn, AssetTransferTxn, AssetFreezeTxn\n",
    "from algosdk.transaction import LogicSig, LogicSigTransaction\n",
    "\n",
    "import algosdk.error\n",
    "import json\n",
    "import base64\n",
    "import hashlib"
   ]
  },
  {
   "cell_type": "code",
   "execution_count": null,
   "metadata": {},
   "outputs": [],
   "source": [
    "from pyteal import *"
   ]
  },
  {
   "cell_type": "code",
   "execution_count": null,
   "metadata": {},
   "outputs": [],
   "source": [
    "# Initialize the algod client (Testnet or Mainnet)\n",
    "algod_client = algod.AlgodClient(algod_token='', algod_address=cred['algod_test'], headers=cred['purestake_token'])\n",
    "algod_client.status()[\"last-round\"]"
   ]
  },
  {
   "cell_type": "code",
   "execution_count": null,
   "metadata": {},
   "outputs": [],
   "source": [
    "print(Alice['public'])\n",
    "print(Bob['public'])\n",
    "print(Charlie['public'])"
   ]
  },
  {
   "cell_type": "markdown",
   "metadata": {},
   "source": [
    "#### Quick check of asset holdings, otherwise go to ...\n",
    "- https://bank.testnet.algorand.network\n",
    "- https://testnet.algoexplorer.io/dispenser"
   ]
  },
  {
   "cell_type": "code",
   "execution_count": null,
   "metadata": {},
   "outputs": [],
   "source": [
    "round(algod_client.account_info(Alice['public'])['amount']/1e6,2)"
   ]
  },
  {
   "cell_type": "markdown",
   "metadata": {
    "tags": []
   },
   "source": [
    "## The Cash Machine revisited\n",
    "\n",
    "#### Remember\n",
    "* Alice created a *Cash Machine* contract that requires a password\n",
    "* Bob has to know the password to withdraw money\n",
    "* Alice must give the following to Bob\n",
    "  * The **address** of the smart contract\n",
    "  * The **code of the smart signature** $\\leftarrow$ this is actually a **problem**"
   ]
  },
  {
   "cell_type": "code",
   "execution_count": null,
   "metadata": {},
   "outputs": [],
   "source": [
    "# Looking again at the Cash Machine\n",
    "\n",
    "# Step 1: Conditions as a PyTeal\n",
    "cashmachine_pyteal = ( \n",
    "    Txn.note() == Bytes('{\"Very long and very secret message\"}') \n",
    "    )\n",
    "\n",
    "# Step 2-3: Compile PyTeal -> Teal -> Bytecode for AVM\n",
    "cashmachine_teal = compileTeal(cashmachine_pyteal, Mode.Signature, version=8)\n",
    "\n",
    "# compile Teal -> Bytecode\n",
    "Cashmachine = algod_client.compile(cashmachine_teal)\n",
    "print(\"Alice sends these two items to Bob\")\n",
    "print(\"Compiled smart signature:\", Cashmachine['result'])\n",
    "print(\"Address of smart signature: \", Cashmachine['hash'])"
   ]
  },
  {
   "cell_type": "markdown",
   "metadata": {},
   "source": [
    "#### So what exactly ...\n",
    "\n",
    "is inside this smart signature code?"
   ]
  },
  {
   "cell_type": "code",
   "execution_count": null,
   "metadata": {},
   "outputs": [],
   "source": [
    "# The code is bascially a base-64 encoding of the TEAL program\n",
    "base64.b64decode(Cashmachine['result'])"
   ]
  },
  {
   "cell_type": "markdown",
   "metadata": {},
   "source": [
    "## The Hash lock contract\n",
    "\n",
    "#### Better\n",
    "* Store the **hash** of the password"
   ]
  },
  {
   "cell_type": "markdown",
   "metadata": {},
   "source": [
    "#### Step 1: Create a hash of the password"
   ]
  },
  {
   "cell_type": "code",
   "execution_count": null,
   "metadata": {},
   "outputs": [],
   "source": [
    "secret_password = 'WSC secret'\n",
    "hash = hashlib.sha256( secret_password.encode() )\n",
    "print(hash.hexdigest())                                 # The hash is HEX encoded"
   ]
  },
  {
   "cell_type": "markdown",
   "metadata": {},
   "source": [
    "#### Step 2: Use the hashed password in PyTeal condition"
   ]
  },
  {
   "cell_type": "code",
   "execution_count": null,
   "metadata": {},
   "outputs": [],
   "source": [
    "hashlock_cond = ( \n",
    "    Sha256(Txn.note()) == Bytes(\"base16\",hash.hexdigest()) \n",
    "    )\n",
    "\n",
    "# prepare random condition\n",
    "import random\n",
    "a = Int( random.randrange(2**32-1) )\n",
    "random_cond = ( a == a )\n",
    "\n",
    "fee_cond = ( Txn.fee() <= Int(1000) )\n",
    "\n",
    "safety_cond = And(\n",
    "    Global.group_size() == Int(1),                   # Not part of a TX group\n",
    "    Txn.type_enum() == TxnType.Payment,\n",
    "    Txn.rekey_to() == Global.zero_address(),\n",
    "    Txn.close_remainder_to() == Global.zero_address()\n",
    "    )\n",
    "\n",
    "hashlock_pyteal = And(\n",
    "    hashlock_cond, \n",
    "    random_cond, \n",
    "    fee_cond, \n",
    "    safety_cond\n",
    "    )"
   ]
  },
  {
   "cell_type": "code",
   "execution_count": null,
   "metadata": {},
   "outputs": [],
   "source": [
    "# Alternatively if you have the hashed value in HEX = base16 representation\n",
    "# Convert to Bytes using the following command\n",
    "# Note: the \"0x\" at the beginning of the hash is optional\n",
    "\n",
    "#hashlock_cond = (\n",
    "#    Sha256(Txn.note()) == Bytes(\"base16\",\"76241abc874467ec6cb2b9cdf60c712bfd213425fb391a5bef81b5efd22138d5\")\n",
    "#     )\n",
    "\n",
    "# prepare random condition\n",
    "import random\n",
    "a = Int( random.randrange(2**32-1) )\n",
    "random_cond = ( a == a )\n",
    "\n",
    "fee_cond = ( Txn.fee() <= Int(1000) )\n",
    "\n",
    "safety_cond = And(\n",
    "    Global.group_size() == Int(1),                   # Not part of a TX group\n",
    "    Txn.type_enum() == TxnType.Payment,\n",
    "    Txn.rekey_to() == Global.zero_address(),\n",
    "    )\n",
    "\n",
    "hashlock_pyteal = And (hashlock_cond, random_cond, fee_cond, safety_cond)"
   ]
  },
  {
   "cell_type": "markdown",
   "metadata": {},
   "source": [
    "#### Step 3-4: Compile"
   ]
  },
  {
   "cell_type": "code",
   "execution_count": null,
   "metadata": {},
   "outputs": [],
   "source": [
    "# Compile PyTeal -> Teal -> Bytecode for AVM\n",
    "hashlock_teal = compileTeal(hashlock_pyteal, Mode.Signature, version=8)\n",
    "print(hashlock_teal)\n",
    "print(\"\")\n",
    "\n",
    "# Step 3: Compile Teal \n",
    "Hashlock = algod_client.compile(hashlock_teal)\n",
    "print(\"Alice sends these two items to Bob\")\n",
    "print(\"Compiled smart signature:\", Hashlock['result'])\n",
    "print(\"Address of smart signature: \", Hashlock['hash'])"
   ]
  },
  {
   "cell_type": "markdown",
   "metadata": {},
   "source": [
    "#### Step 5: Quick check: can Bob crack the code?"
   ]
  },
  {
   "cell_type": "code",
   "execution_count": null,
   "metadata": {},
   "outputs": [],
   "source": [
    "print(base64.b64decode(Hashlock['result']))\n",
    "# BTW: can you find the hash of the password?\n",
    "print(base64.b64decode(Hashlock['result']).hex())"
   ]
  },
  {
   "cell_type": "markdown",
   "metadata": {},
   "source": [
    "#### Step 6: Alice is funding the Smart Signature"
   ]
  },
  {
   "cell_type": "code",
   "execution_count": null,
   "metadata": {},
   "outputs": [],
   "source": [
    "# Step 1: prepare transaction\n",
    "sp = algod_client.suggested_params()\n",
    "amt = int(1.2*1e6)\n",
    "txn = transaction.PaymentTxn(sender=Alice['public'], sp=sp, receiver=Hashlock['hash'], amt=amt)\n",
    "\n",
    "# Step 2+3: sign and send\n",
    "stxn = txn.sign(Alice['private'])\n",
    "txid = algod_client.send_transaction(stxn)\n",
    "\n",
    "# Step 4: wait for confirmation\n",
    "txinfo = wait_for_confirmation(algod_client, txid)\n",
    "\n",
    "# The transaction does not give away any information\n",
    "# The TEAL code is not even included\n",
    "print('http://testnet.algoexplorer.io/tx/'+txid)"
   ]
  },
  {
   "cell_type": "markdown",
   "metadata": {},
   "source": [
    "#### Step 7: Bob asks the smart signature to sign a transaction with the correct password"
   ]
  },
  {
   "cell_type": "code",
   "execution_count": null,
   "metadata": {},
   "outputs": [],
   "source": [
    "# correct password\n",
    "my_note        = 'WSC secret'\n",
    "\n",
    "# Step 1: prepare TX\n",
    "sp = algod_client.suggested_params()\n",
    "withdrawal_amt = int(1*1e6)              # <---------- OK!!\n",
    "txn = PaymentTxn(sender=Hashlock['hash'], sp=sp, \n",
    "                 receiver=Bob['public'], amt=withdrawal_amt,\n",
    "                 note = my_note.encode(),\n",
    "                 close_remainder_to = Bob['public'])\n",
    "\n",
    "# Step 2: sign TX <---- This step is different!\n",
    "encodedProg = Hashlock['result'].encode()\n",
    "program = base64.decodebytes(encodedProg)\n",
    "lsig = LogicSig(program)\n",
    "stxn = LogicSigTransaction(txn, lsig)\n",
    "\n",
    "# Step 3: send\n",
    "txid = algod_client.send_transaction(stxn)\n",
    "\n",
    "# Step4: wait for confirmation\n",
    "txinfo = wait_for_confirmation(algod_client, txid)"
   ]
  },
  {
   "cell_type": "markdown",
   "metadata": {},
   "source": [
    "#### Step 8: Check the \"Note\" field on Algoexplorer\n",
    "* The password is now out in the open ... we cannot do anything about it\n",
    "* Hash lock contracts work exactly once"
   ]
  },
  {
   "cell_type": "code",
   "execution_count": null,
   "metadata": {},
   "outputs": [],
   "source": [
    "print('http://testnet.algoexplorer.io/tx/'+txid)"
   ]
  },
  {
   "cell_type": "markdown",
   "metadata": {},
   "source": [
    "## Things that do not work\n",
    "* Using the wrong password\n",
    "* Sending a hash of the pasword instead of the password (because it will be hashed again)"
   ]
  }
 ],
 "metadata": {
  "kernelspec": {
   "display_name": "Python 3 (ipykernel)",
   "language": "python",
   "name": "python3"
  },
  "language_info": {
   "codemirror_mode": {
    "name": "ipython",
    "version": 3
   },
   "file_extension": ".py",
   "mimetype": "text/x-python",
   "name": "python",
   "nbconvert_exporter": "python",
   "pygments_lexer": "ipython3",
   "version": "3.10.9"
  }
 },
 "nbformat": 4,
 "nbformat_minor": 4
}
