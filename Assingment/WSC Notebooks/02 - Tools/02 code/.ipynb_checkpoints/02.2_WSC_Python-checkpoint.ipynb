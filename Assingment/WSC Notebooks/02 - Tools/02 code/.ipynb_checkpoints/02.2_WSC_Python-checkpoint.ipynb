{
 "cells": [
  {
   "cell_type": "markdown",
   "metadata": {},
   "source": [
    "# Python Recap – Solution\n",
    "#### 02.2 Writing Smart Contracts\n",
    "##### Peter Gruber (peter.gruber@usi.ch)\n",
    "2021-11-08\n",
    "* Recap of basic Pyhton operations\n",
    "* Variables and types\n",
    "* A few rearely used Python commands"
   ]
  },
  {
   "cell_type": "code",
   "execution_count": null,
   "metadata": {},
   "outputs": [],
   "source": [
    "# Please run the following line\n",
    "myname = 'insert your name'\n",
    "print(myname+', welcome to Python!')"
   ]
  },
  {
   "cell_type": "markdown",
   "metadata": {},
   "source": [
    "## Operators\n",
    "Perform the follwoing calculations\n",
    "\n",
    "$(a)\\; 1/10^{-6} \\qquad (b)\\; \\sqrt[4]{22} \\qquad (c)\\; 4^{3+2} \\qquad (d)\\; \\frac{4+7}{12-2}$\n",
    "\n",
    "$(e)\\; (12-5)^{4/3} \\qquad (f)\\; \\frac{2^2}{3^3} \\qquad (g)\\; \\ln(\\frac{2+3}{4-1}) \\qquad (h)\\; 2^{3^4}$\n"
   ]
  },
  {
   "cell_type": "code",
   "execution_count": null,
   "metadata": {},
   "outputs": [],
   "source": [
    "# Python code goes here"
   ]
  },
  {
   "cell_type": "markdown",
   "metadata": {},
   "source": [
    "What's the price of a 1 USD zero coupon bond with $r=5\\%$ interest over $t=7$ years?\n",
    "* With discrete compounding\n",
    "* With continuous compounding\n",
    "\n",
    "$$B_d = \\frac{1}{(1+r)^t}$$\n",
    "$$B_c = 1 \\cdot e^{(-rt)}$$"
   ]
  },
  {
   "cell_type": "code",
   "execution_count": null,
   "metadata": {},
   "outputs": [],
   "source": [
    "# Python code goes here"
   ]
  },
  {
   "cell_type": "markdown",
   "metadata": {},
   "source": [
    "### Comparisons and logical operators\n",
    "Pretty much like in any other language\n",
    "* `==` equality\n",
    "* `!=` inequality\n",
    "* `and` is logical *and*\n",
    "* `or` is logical *or*"
   ]
  },
  {
   "cell_type": "code",
   "execution_count": null,
   "metadata": {},
   "outputs": [],
   "source": [
    "print( 1==2 )\n",
    "print( 1!=2 )\n",
    "print( 1==1 and 2==2 )"
   ]
  },
  {
   "cell_type": "markdown",
   "metadata": {},
   "source": [
    "* **Careful** `&` and `|` are binary operators"
   ]
  },
  {
   "cell_type": "code",
   "execution_count": null,
   "metadata": {},
   "outputs": [],
   "source": [
    "print( 3&6 )\n",
    "print( 1|2 )"
   ]
  },
  {
   "cell_type": "markdown",
   "metadata": {},
   "source": [
    "### Two lesser known operators\n",
    "* `%` is modulus (remainder)\n",
    "* `//` is floor division (integer part)\n",
    "\n",
    "**Exercise**\n",
    "* How many full weeks are there in a year?\n",
    "* If we have four full weeks in January, how many days are left?\n",
    "* Verify, using different values of `a` and `b` that it is always true that `a == (a//b)*b + (a%b)`"
   ]
  },
  {
   "cell_type": "code",
   "execution_count": null,
   "metadata": {},
   "outputs": [],
   "source": [
    "# Python code goes here"
   ]
  },
  {
   "cell_type": "markdown",
   "metadata": {},
   "source": [
    "**Exercise** Write the following conditions in Python (first assign `x=2.2`)\n",
    "\n",
    "* $-2 \\leq x \\leq 4$\n",
    "* $|x|<5$\n",
    "* $x$ is (a positive) integer"
   ]
  },
  {
   "cell_type": "code",
   "execution_count": null,
   "metadata": {},
   "outputs": [],
   "source": [
    "# Python code goes here"
   ]
  },
  {
   "cell_type": "markdown",
   "metadata": {},
   "source": [
    "## Variables and types"
   ]
  },
  {
   "cell_type": "markdown",
   "metadata": {},
   "source": [
    "Create the following variables\n",
    "* `a` cotaining integer 5\n",
    "* `b` containig real 5\n",
    "* `c` containing the intgers 0,1,2,...,10\n",
    "* `d` containing the logical value for \"correct\""
   ]
  },
  {
   "cell_type": "code",
   "execution_count": null,
   "metadata": {},
   "outputs": [],
   "source": [
    "# Python code goes here"
   ]
  },
  {
   "cell_type": "code",
   "execution_count": null,
   "metadata": {},
   "outputs": [],
   "source": [
    "print(type(a))\n",
    "print(type(b))\n",
    "print(type(c))\n",
    "print(type(d))\n",
    "print(type(myname))"
   ]
  },
  {
   "cell_type": "code",
   "execution_count": null,
   "metadata": {},
   "outputs": [],
   "source": [
    "# Why is the class of `c` a `list` and not `integer`?\n",
    "print(type(c[1]))"
   ]
  },
  {
   "cell_type": "markdown",
   "metadata": {},
   "source": [
    "### Converting data types"
   ]
  },
  {
   "cell_type": "code",
   "execution_count": null,
   "metadata": {},
   "outputs": [],
   "source": [
    "a1 = int(a);     print(a1, type(a1))\n",
    "a2 = float(a);   print(a2, type(a2))\n",
    "a3 = complex(a); print(a3, type(a3))\n",
    "a4 = str(a);     print(a4, type(a4))"
   ]
  },
  {
   "cell_type": "markdown",
   "metadata": {},
   "source": [
    "**A quick remark on complex numbers:** Should we care about complex numbers as (financial) economists? Yes! Complex numbers are used in several advanced numerical algorithms such as the Fast Fourier Transform (FFT) or the Cosine Transform (COS) algorithms."
   ]
  },
  {
   "cell_type": "markdown",
   "metadata": {},
   "source": [
    "**Exercises** \n",
    "* Can we use the type conversion to replace the `//` operator? Try to calcualte the full weeks in a year *without* `// `\n",
    "* Is 1 thousand always an integer number? Express this number in 2 different ways and print the types."
   ]
  },
  {
   "cell_type": "code",
   "execution_count": null,
   "metadata": {},
   "outputs": [],
   "source": [
    "# Python code goes here"
   ]
  },
  {
   "cell_type": "markdown",
   "metadata": {},
   "source": [
    "#### Converting to logical/boolean values"
   ]
  },
  {
   "cell_type": "code",
   "execution_count": null,
   "metadata": {},
   "outputs": [],
   "source": [
    "print(int(True))\n",
    "print(float(False))\n",
    "print(bool(1))   \n",
    "print(bool(0))    # obvious ..."
   ]
  },
  {
   "cell_type": "markdown",
   "metadata": {},
   "source": [
    "#### Calculations with Integers\n",
    "* Three chocolate bars cost 2 Dollars\n",
    "* What is the price of a chocolate bar, if we can only use integer numbers?"
   ]
  },
  {
   "cell_type": "code",
   "execution_count": null,
   "metadata": {},
   "outputs": [],
   "source": [
    "# Idea number 1\n",
    "total_price = 2   # US Dollars\n",
    "number_bars = 3\n",
    "int( total_price/number_bars )  # in Dollars"
   ]
  },
  {
   "cell_type": "code",
   "execution_count": null,
   "metadata": {},
   "outputs": [],
   "source": [
    "# Idea number 2\n",
    "total_price = 2*100  # US Cents\n",
    "number_bars = 3\n",
    "int( total_price/number_bars )  # in Cents"
   ]
  },
  {
   "cell_type": "markdown",
   "metadata": {},
   "source": [
    "### Working with strings"
   ]
  },
  {
   "cell_type": "code",
   "execution_count": null,
   "metadata": {},
   "outputs": [],
   "source": [
    "# Strings can be made with '' or with \"\"\n",
    "text1 = 'Nice'\n",
    "text2 = \"Nice\"\n",
    "print(text1, text2)\n",
    "print(text1 == text2)"
   ]
  },
  {
   "cell_type": "code",
   "execution_count": null,
   "metadata": {},
   "outputs": [],
   "source": [
    "# So which one is better?\n",
    "text3 = 'The single quote said: \\'This is my text.\\''\n",
    "text4 = \"The double quote answered: 'My text is easier'\"\n",
    "text5 = '''The single quote replied 'I can do easy, as well' '''\n",
    "print(text3)\n",
    "print(text4)\n",
    "print(text5)"
   ]
  },
  {
   "cell_type": "code",
   "execution_count": null,
   "metadata": {},
   "outputs": [],
   "source": [
    "# Important escape characters\n",
    "text6 = 'This \\t is a \\n long text \\t with tabs'\n",
    "print(text6)"
   ]
  },
  {
   "cell_type": "markdown",
   "metadata": {},
   "source": [
    "### A few unexpected things ..."
   ]
  },
  {
   "cell_type": "code",
   "execution_count": null,
   "metadata": {},
   "outputs": [],
   "source": [
    "print(myname * 2)\n",
    "print(c)\n",
    "print(c * 2)"
   ]
  },
  {
   "cell_type": "markdown",
   "metadata": {},
   "source": [
    "#### ... and a few impossible ones"
   ]
  },
  {
   "cell_type": "code",
   "execution_count": null,
   "metadata": {},
   "outputs": [],
   "source": [
    "print(myname ** 2)\n",
    "print(c ** 2)"
   ]
  },
  {
   "cell_type": "markdown",
   "metadata": {},
   "source": [
    "## Working with lists (and for-loops)"
   ]
  },
  {
   "cell_type": "markdown",
   "metadata": {},
   "source": [
    "Create a list called `myList` with the following elements\n",
    "* integer 1\n",
    "* float 2.7\n",
    "* string \"three\"\n",
    "* a list containing 1,2,...5\n",
    "and print the list"
   ]
  },
  {
   "cell_type": "code",
   "execution_count": null,
   "metadata": {},
   "outputs": [],
   "source": [
    "# Python code goes here"
   ]
  },
  {
   "cell_type": "markdown",
   "metadata": {},
   "source": [
    "**Subsetting** Print the following outputs using `myList``<br>\n",
    "Do not forget: Pyhton starts counting at 0\n",
    "\n",
    "* `2.7`\n",
    "* `1` (two possibilities)\n",
    "* `0`\n",
    "* `5` (as last element of the sub-list)"
   ]
  },
  {
   "cell_type": "code",
   "execution_count": null,
   "metadata": {},
   "outputs": [],
   "source": [
    "# Python code goes here"
   ]
  },
  {
   "cell_type": "markdown",
   "metadata": {},
   "source": [
    "**Slicing** Print the following outputs using `myList``\n",
    "* `[1, 2.7]`\n",
    "* `[2.7, 'three']`"
   ]
  },
  {
   "cell_type": "code",
   "execution_count": null,
   "metadata": {},
   "outputs": [],
   "source": [
    "# Python code goes here"
   ]
  },
  {
   "cell_type": "markdown",
   "metadata": {},
   "source": [
    "### What else can we do with a list?\n",
    "\n",
    "Try this: type `myList.` and hit the `TAB` key\n",
    "\n",
    "Now let us  ...\n",
    "* add the boolean value for \"correct\" at the end of  `myList`\n",
    "* add integer 1 at the beginning of the `myList`\n",
    "\n",
    "At the end ...\n",
    "* display `myList` \n",
    "* tell us how many items there are in `myList`\n",
    "* tell us how often integer 1 appears in `myList`"
   ]
  },
  {
   "cell_type": "code",
   "execution_count": null,
   "metadata": {},
   "outputs": [],
   "source": [
    "# Python code goes here\n",
    "myList.append(False)\n",
    "myList.insert(0,1)\n",
    "\n",
    "print(myList)\n",
    "print(len(myList))\n",
    "print(myList.count(1))             # <<- interesting! Discuss it"
   ]
  },
  {
   "cell_type": "code",
   "execution_count": null,
   "metadata": {},
   "outputs": [],
   "source": [
    "# Further discussion: why does 1 appear three times?\n",
    "print(myList)\n",
    "print(myList.count(1))\n",
    "print(myList.count(True))"
   ]
  },
  {
   "cell_type": "markdown",
   "metadata": {},
   "source": [
    "## Quick iterations through lists\n",
    "In R (or MATLAB), we can something like this:\n",
    "```R\n",
    "vec <- c(-1,0,1,2)\n",
    "sin(vec)\n",
    "vec > 0\n",
    "````\n",
    "\n",
    "This will not work with a Python list."
   ]
  },
  {
   "cell_type": "code",
   "execution_count": null,
   "metadata": {},
   "outputs": [],
   "source": [
    "import math\n",
    "numbers = list(range(-1,3))\n",
    "math.sin(numbers)"
   ]
  },
  {
   "cell_type": "markdown",
   "metadata": {},
   "source": [
    "### For loops\n",
    "* For loops make it possible to iterate over an entire list\n",
    "* It is customary to name the list with a plural word (*numbers*)\n",
    "* And the individual elements with a singular word (*number*)"
   ]
  },
  {
   "cell_type": "code",
   "execution_count": null,
   "metadata": {},
   "outputs": [],
   "source": [
    "for number in numbers:\n",
    "    print(math.sin(number))"
   ]
  },
  {
   "cell_type": "markdown",
   "metadata": {},
   "source": [
    "#### For loops appending a list\n",
    "* Often we want to create a new list with the results\n",
    "* We can only append to something that exists\n",
    "* So we have to create an empty list **before** the for loop"
   ]
  },
  {
   "cell_type": "code",
   "execution_count": null,
   "metadata": {},
   "outputs": [],
   "source": [
    "sinus = []\n",
    "for number in numbers:\n",
    "    sinus.append(math.sin(number))\n",
    "print(sinus)"
   ]
  },
  {
   "cell_type": "markdown",
   "metadata": {},
   "source": [
    "**Exercise**\n",
    "* Check for all elements of `numbers` whether they are positive or not"
   ]
  },
  {
   "cell_type": "code",
   "execution_count": null,
   "metadata": {},
   "outputs": [],
   "source": [
    "# Python code goes here"
   ]
  },
  {
   "cell_type": "markdown",
   "metadata": {},
   "source": [
    "**Exercise**\n",
    "* Below is a list of words. Concatenate them to one single string."
   ]
  },
  {
   "cell_type": "code",
   "execution_count": null,
   "metadata": {},
   "outputs": [],
   "source": [
    "words = ['Hello', 'world', 'this', 'is', 'Lugano']\n",
    "\n",
    "# Python code goes here"
   ]
  },
  {
   "cell_type": "markdown",
   "metadata": {},
   "source": [
    "### List comprehension\n",
    "* A faster way to go from one list to another list\n",
    "Syntax: `[expression(item) for item in list]`\n"
   ]
  },
  {
   "cell_type": "code",
   "execution_count": null,
   "metadata": {},
   "outputs": [],
   "source": [
    "sinus = [math.sin(number) for number in numbers]\n",
    "print(sinus)"
   ]
  },
  {
   "cell_type": "markdown",
   "metadata": {},
   "source": [
    "**Exercise**\n",
    "* Write a list comprehension to check for all elements of `numbers` whether they are positive or not"
   ]
  },
  {
   "cell_type": "code",
   "execution_count": null,
   "metadata": {},
   "outputs": [],
   "source": [
    "# Python code goes here"
   ]
  }
 ],
 "metadata": {
  "kernelspec": {
   "display_name": "Python 3",
   "language": "python",
   "name": "python3"
  },
  "language_info": {
   "codemirror_mode": {
    "name": "ipython",
    "version": 3
   },
   "file_extension": ".py",
   "mimetype": "text/x-python",
   "name": "python",
   "nbconvert_exporter": "python",
   "pygments_lexer": "ipython3",
   "version": "3.8.8"
  }
 },
 "nbformat": 4,
 "nbformat_minor": 4
}
