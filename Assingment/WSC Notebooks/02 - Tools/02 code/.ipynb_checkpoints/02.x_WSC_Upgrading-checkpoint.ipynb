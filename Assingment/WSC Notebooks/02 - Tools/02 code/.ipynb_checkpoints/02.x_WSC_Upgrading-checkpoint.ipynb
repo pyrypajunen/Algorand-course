{
 "cells": [
  {
   "cell_type": "markdown",
   "id": "81a4f9bc-ed01-4aa5-9a51-6891604e6484",
   "metadata": {},
   "source": [
    "# Upgrading and Troublshooting\n",
    "#### 02.x Writing Smart Contracts\n",
    "##### Peter Gruber (peter.gruber@usi.ch)\n",
    "2022-03-11\n",
    "\n",
    "* Upgrade PyTeal and the Algorand SDK"
   ]
  },
  {
   "cell_type": "markdown",
   "id": "3e225b4f-cea5-4bbe-b6c1-5c051db01cf5",
   "metadata": {},
   "source": [
    "## For later use\n",
    "* This notebook is part of chapter 2 (\"Tools\") for reference only\n",
    "* Use it only when instructed **or** if you are sure you already have an old version of the Python Algorand software installed and you want to upgrade it"
   ]
  },
  {
   "cell_type": "markdown",
   "id": "156b88f3-33a4-4877-8f0c-1f52cc885f41",
   "metadata": {},
   "source": [
    "## Identify your currently installed versions\n",
    "The current release versions can be found here (see right sidebar below \"releases\")\n",
    "\n",
    "* For the Algorand sdk https://github.com/algorand/py-algorand-sdk\n",
    "* For PyTEAL https://github.com/algorand/pyteal"
   ]
  },
  {
   "cell_type": "code",
   "execution_count": 14,
   "id": "0e040ee3-35ed-49c4-9cca-b80b57f447fd",
   "metadata": {},
   "outputs": [
    {
     "name": "stdout",
     "output_type": "stream",
     "text": [
      "Name: py-algorand-sdk\n",
      "Version: 1.10.0\n",
      "Summary: Algorand SDK in Python\n",
      "Home-page: UNKNOWN\n",
      "Author: Algorand\n",
      "Author-email: pypiservice@algorand.com\n",
      "License: MIT\n",
      "Location: /Users/pgruber/opt/anaconda3/lib/python3.8/site-packages\n",
      "Requires: pynacl, pycryptodomex, msgpack\n",
      "Required-by: tinyman-py-sdk, pyteal\n"
     ]
    }
   ],
   "source": [
    "!pip show py-algorand-sdk"
   ]
  },
  {
   "cell_type": "code",
   "execution_count": 15,
   "id": "10b73bbe-74ef-4fd4-b301-536904d82ddc",
   "metadata": {},
   "outputs": [
    {
     "name": "stdout",
     "output_type": "stream",
     "text": [
      "Name: pyteal\n",
      "Version: 0.10.1\n",
      "Summary: Algorand Smart Contracts in Python\n",
      "Home-page: https://github.com/algorand/pyteal\n",
      "Author: Algorand\n",
      "Author-email: pypiservice@algorand.com\n",
      "License: UNKNOWN\n",
      "Location: /Users/pgruber/opt/anaconda3/lib/python3.8/site-packages\n",
      "Requires: py-algorand-sdk\n",
      "Required-by: \n"
     ]
    }
   ],
   "source": [
    "!pip show pyteal"
   ]
  },
  {
   "cell_type": "markdown",
   "id": "c6d8b06a-ef72-48e4-92ad-c3834c856795",
   "metadata": {},
   "source": [
    "## Force upgrade\n",
    "* Forces the Python package manager (pip) to upgrade the Algorand packes to the latest versions"
   ]
  },
  {
   "cell_type": "code",
   "execution_count": null,
   "id": "953b5e69-2421-4bb3-b68b-6e44fdb6e798",
   "metadata": {},
   "outputs": [],
   "source": [
    "!pip install --upgrade py-algorand-sdk"
   ]
  },
  {
   "cell_type": "code",
   "execution_count": null,
   "id": "6146928a-1675-4648-857b-84387a4bca09",
   "metadata": {},
   "outputs": [],
   "source": [
    "!pip install --upgrade pyteal"
   ]
  },
  {
   "cell_type": "markdown",
   "id": "c776f3f4-8fae-4b19-99c1-076562545342",
   "metadata": {},
   "source": [
    "## Uninstall\n",
    "* In really extreme cases, it may be useful to uninstall and re-install"
   ]
  },
  {
   "cell_type": "code",
   "execution_count": null,
   "id": "2a6cd362-fbb7-4fa9-bb2d-9a803cc0ea1a",
   "metadata": {},
   "outputs": [],
   "source": [
    "!pip uninstall py-algorand-sdk"
   ]
  },
  {
   "cell_type": "code",
   "execution_count": null,
   "id": "9cfd68b4-53f8-4647-8149-3dab75395de7",
   "metadata": {},
   "outputs": [],
   "source": [
    "!pip uninstall pyteal"
   ]
  }
 ],
 "metadata": {
  "kernelspec": {
   "display_name": "Python 3",
   "language": "python",
   "name": "python3"
  },
  "language_info": {
   "codemirror_mode": {
    "name": "ipython",
    "version": 3
   },
   "file_extension": ".py",
   "mimetype": "text/x-python",
   "name": "python",
   "nbconvert_exporter": "python",
   "pygments_lexer": "ipython3",
   "version": "3.8.8"
  }
 },
 "nbformat": 4,
 "nbformat_minor": 5
}
