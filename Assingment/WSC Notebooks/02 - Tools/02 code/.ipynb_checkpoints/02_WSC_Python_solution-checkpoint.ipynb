{
 "cells": [
  {
   "cell_type": "markdown",
   "metadata": {},
   "source": [
    "# Python Recap\n",
    "#### Writing Smart Contracts\n",
    "##### Peter Gruber (peter.gruber@usi.ch)\n",
    "2021-11-08\n",
    "* Recap of basic Pyhton operations\n",
    "* Variables and types\n",
    "* A few rearely used Python commands"
   ]
  },
  {
   "cell_type": "code",
   "execution_count": 14,
   "metadata": {},
   "outputs": [
    {
     "name": "stdout",
     "output_type": "stream",
     "text": [
      "Peter, welcome to Python!\n"
     ]
    }
   ],
   "source": [
    "# Please run the following line\n",
    "myname = 'Peter'\n",
    "print(myname+', welcome to Python!')"
   ]
  },
  {
   "cell_type": "markdown",
   "metadata": {},
   "source": [
    "## Operators\n",
    "Perform the follwoing calculations\n",
    "\n",
    "$(a)\\; 1/10^{-6} \\qquad (b)\\; \\sqrt[4]{22} \\qquad (c)\\; 4^{3+2} \\qquad (d)\\; \\frac{4+7}{12-2}$\n",
    "\n",
    "$(e)\\; (12-5)^{4/3} \\qquad (f)\\; \\frac{2^2}{3^3} \\qquad (g)\\; \\ln(\\frac{2+3}{4-1}) \\qquad (h)\\; 2^{3^4}$\n"
   ]
  },
  {
   "cell_type": "code",
   "execution_count": 4,
   "metadata": {},
   "outputs": [
    {
     "name": "stdout",
     "output_type": "stream",
     "text": [
      "1000000.0\n",
      "2.1657367706679937\n",
      "1024\n",
      "1.1\n",
      "13.390518279406722\n",
      "0.14814814814814814\n",
      "0.5108256237659907\n",
      "2417851639229258349412352\n"
     ]
    }
   ],
   "source": [
    "# Python code goes here\n",
    "print( 1/1E-6 )\n",
    "print( 22 ** (1/4) )\n",
    "print(4 ** (3+2) )\n",
    "print( (4+7)/(12-2) )\n",
    "print( (12-5)**(4/3) )\n",
    "print( 2**2 / 3**3 )\n",
    "import numpy as np\n",
    "print( np.log( (2+3)/(4-1) ) )\n",
    "# or import math\n",
    "# print( math.log( (2+3)/(4-1) ) )\n",
    "print( 2**3**4 )"
   ]
  },
  {
   "cell_type": "markdown",
   "metadata": {},
   "source": [
    "What's the price of a 1 USD zero coupon bond with $r=5\\%$ interest over $t=7$ years?\n",
    "* With discrete compounding\n",
    "* With continuous compounding\n",
    "\n",
    "$$B_d = \\frac{1}{(1+r)^t}$$\n",
    "$$B_c = 1 \\cdot e^{(-rt)}$$"
   ]
  },
  {
   "cell_type": "code",
   "execution_count": 5,
   "metadata": {},
   "outputs": [
    {
     "name": "stdout",
     "output_type": "stream",
     "text": [
      "0.7106813301301214\n",
      "0.7046880897187134\n"
     ]
    }
   ],
   "source": [
    "# Python code goes here\n",
    "r = 0.05\n",
    "t = 7\n",
    "Bd = 1/(1+r)**t\n",
    "print(Bd)\n",
    "import numpy as np\n",
    "Bc = 1 * np.exp(-r*t)\n",
    "print(Bc)"
   ]
  },
  {
   "cell_type": "markdown",
   "metadata": {},
   "source": [
    "### Comparisons and logical operators\n",
    "Pretty much like in any other language\n",
    "* `==` equality\n",
    "* `!=` inequality\n",
    "* `and` is logical *and*\n",
    "* `or` is logical *or*"
   ]
  },
  {
   "cell_type": "code",
   "execution_count": 2,
   "metadata": {},
   "outputs": [],
   "source": [
    "print( 1==2 )\n",
    "print( 1!=2 )\n",
    "print( 1==1 and 2==2 )"
   ]
  },
  {
   "cell_type": "markdown",
   "metadata": {},
   "source": [
    "* **Careful** `&` and `|` are binary operators"
   ]
  },
  {
   "cell_type": "code",
   "execution_count": 2,
   "metadata": {},
   "outputs": [
    {
     "name": "stdout",
     "output_type": "stream",
     "text": [
      "False\n",
      "True\n",
      "True\n",
      "2\n",
      "3\n"
     ]
    }
   ],
   "source": [
    "print( 3&6 )\n",
    "print( 1|2 )"
   ]
  },
  {
   "cell_type": "markdown",
   "metadata": {},
   "source": [
    "### Two lesser known operators\n",
    "* `%` is modulus (remainder)\n",
    "* `//` is floor division (integer part)\n",
    "\n",
    "Verify that it is always true that `a == (a//b)*b + (a%b)`"
   ]
  },
  {
   "cell_type": "code",
   "execution_count": 11,
   "metadata": {},
   "outputs": [
    {
     "data": {
      "text/plain": [
       "True"
      ]
     },
     "execution_count": 11,
     "metadata": {},
     "output_type": "execute_result"
    }
   ],
   "source": [
    "# Python code goes here\n",
    "a = 3\n",
    "b = 2\n",
    "a == (a//b)*b + (a%b)"
   ]
  },
  {
   "cell_type": "markdown",
   "metadata": {},
   "source": [
    "Write the following conditions in Python (first assign `x=2.2`)\n",
    "\n",
    "* $-2 \\leq x \\leq 4$\n",
    "* $|x|<5$\n",
    "* $x$ is (a positive) integer"
   ]
  },
  {
   "cell_type": "code",
   "execution_count": 10,
   "metadata": {},
   "outputs": [
    {
     "name": "stdout",
     "output_type": "stream",
     "text": [
      "True\n",
      "True\n",
      "False\n"
     ]
    }
   ],
   "source": [
    "# Python code goes here\n",
    "x = 2.2\n",
    "print( (-2.2 <= x) & (x <= 4) )\n",
    "print( abs(x) < 5 )\n",
    "print( (x>0) & (x%1 ==0) )"
   ]
  },
  {
   "cell_type": "markdown",
   "metadata": {},
   "source": [
    "## Variables and types"
   ]
  },
  {
   "cell_type": "markdown",
   "metadata": {},
   "source": [
    "Create the following variables\n",
    "* `a` cotaining integer 5\n",
    "* `b` containig real 5\n",
    "* `c` containing the intgers 0,1,2,...,10\n",
    "* `d` containing the logical value for \"correct\""
   ]
  },
  {
   "cell_type": "code",
   "execution_count": 15,
   "metadata": {},
   "outputs": [],
   "source": [
    "# Python code goes here\n",
    "a = 5\n",
    "b = 5.0\n",
    "c = list(range(0,11))\n",
    "d = True"
   ]
  },
  {
   "cell_type": "code",
   "execution_count": 16,
   "metadata": {},
   "outputs": [
    {
     "name": "stdout",
     "output_type": "stream",
     "text": [
      "<class 'int'>\n",
      "<class 'float'>\n",
      "<class 'list'>\n",
      "<class 'bool'>\n",
      "<class 'str'>\n"
     ]
    }
   ],
   "source": [
    "print(type(a))\n",
    "print(type(b))\n",
    "print(type(c))\n",
    "print(type(d))\n",
    "print(type(myname))"
   ]
  },
  {
   "cell_type": "code",
   "execution_count": 17,
   "metadata": {},
   "outputs": [
    {
     "name": "stdout",
     "output_type": "stream",
     "text": [
      "<class 'int'>\n"
     ]
    }
   ],
   "source": [
    "# Why is the class of `c` a `list` and not `integer`?\n",
    "print(type(c[1]))"
   ]
  },
  {
   "cell_type": "markdown",
   "metadata": {},
   "source": [
    "### Converting data types"
   ]
  },
  {
   "cell_type": "code",
   "execution_count": 18,
   "metadata": {},
   "outputs": [
    {
     "name": "stdout",
     "output_type": "stream",
     "text": [
      "5 <class 'int'>\n",
      "5.0 <class 'float'>\n",
      "(5+0j) <class 'complex'>\n",
      "5 <class 'str'>\n"
     ]
    }
   ],
   "source": [
    "a1 = int(a);     print(a1, type(a1))\n",
    "a2 = float(a);   print(a2, type(a2))\n",
    "a3 = complex(a); print(a3, type(a3))\n",
    "a4 = str(a);     print(a4, type(a4))"
   ]
  },
  {
   "cell_type": "markdown",
   "metadata": {},
   "source": [
    "**A quick remark on complex numbers:** Should we care about complex numbers as (financial) economists? Yes! Complex numbers are used in several advanced numerical algorithms such as the Fast Fourier Transform (FFT) or the Cosine Transform (COS) algorithms."
   ]
  },
  {
   "cell_type": "markdown",
   "metadata": {},
   "source": [
    "#### Converting to logical/boolean values"
   ]
  },
  {
   "cell_type": "code",
   "execution_count": 19,
   "metadata": {},
   "outputs": [
    {
     "name": "stdout",
     "output_type": "stream",
     "text": [
      "1\n",
      "0.0\n",
      "True\n",
      "False\n"
     ]
    }
   ],
   "source": [
    "print(int(True))\n",
    "print(float(False))\n",
    "print(bool(1))   \n",
    "print(bool(0))    # obvious ..."
   ]
  },
  {
   "cell_type": "code",
   "execution_count": 20,
   "metadata": {},
   "outputs": [
    {
     "name": "stdout",
     "output_type": "stream",
     "text": [
      "True\n",
      "True\n",
      "True\n"
     ]
    }
   ],
   "source": [
    "# But what about these ...\n",
    "print(bool(0.5))\n",
    "print(bool(-1.2))\n",
    "print(bool(1+2j))"
   ]
  },
  {
   "cell_type": "markdown",
   "metadata": {},
   "source": [
    "### Working with strings"
   ]
  },
  {
   "cell_type": "code",
   "execution_count": 21,
   "metadata": {},
   "outputs": [
    {
     "name": "stdout",
     "output_type": "stream",
     "text": [
      "Nice Nice\n",
      "True\n"
     ]
    }
   ],
   "source": [
    "# Strings can be made with '' or with \"\"\n",
    "text1 = 'Nice'\n",
    "text2 = \"Nice\"\n",
    "print(text1, text2)\n",
    "print(text1 == text2)"
   ]
  },
  {
   "cell_type": "code",
   "execution_count": 22,
   "metadata": {},
   "outputs": [
    {
     "name": "stdout",
     "output_type": "stream",
     "text": [
      "The single quote said: 'This is my text.'\n",
      "The double quote answered: 'My text is easier'\n",
      "The single quote replied 'I can do easy, as well' \n"
     ]
    }
   ],
   "source": [
    "# So which one is better?\n",
    "text3 = 'The single quote said: \\'This is my text.\\''\n",
    "text4 = \"The double quote answered: 'My text is easier'\"\n",
    "text5 = '''The single quote replied 'I can do easy, as well' '''\n",
    "print(text3)\n",
    "print(text4)\n",
    "print(text5)"
   ]
  },
  {
   "cell_type": "code",
   "execution_count": 23,
   "metadata": {},
   "outputs": [
    {
     "name": "stdout",
     "output_type": "stream",
     "text": [
      "This \t is a \n",
      " long text \t with tabs\n"
     ]
    }
   ],
   "source": [
    "# Important escape characters\n",
    "text6 = 'This \\t is a \\n long text \\t with tabs'\n",
    "print(text6)"
   ]
  },
  {
   "cell_type": "markdown",
   "metadata": {},
   "source": [
    "### A few unexpected things ..."
   ]
  },
  {
   "cell_type": "code",
   "execution_count": 24,
   "metadata": {},
   "outputs": [
    {
     "name": "stdout",
     "output_type": "stream",
     "text": [
      "PeterPeter\n",
      "[0, 1, 2, 3, 4, 5, 6, 7, 8, 9, 10]\n",
      "[0, 1, 2, 3, 4, 5, 6, 7, 8, 9, 10, 0, 1, 2, 3, 4, 5, 6, 7, 8, 9, 10]\n"
     ]
    }
   ],
   "source": [
    "print(myname * 2)\n",
    "print(c)\n",
    "print(c * 2)"
   ]
  },
  {
   "cell_type": "markdown",
   "metadata": {},
   "source": [
    "#### ... and a few impossible ones"
   ]
  },
  {
   "cell_type": "code",
   "execution_count": 25,
   "metadata": {},
   "outputs": [
    {
     "ename": "TypeError",
     "evalue": "unsupported operand type(s) for ** or pow(): 'str' and 'int'",
     "output_type": "error",
     "traceback": [
      "\u001b[0;31m---------------------------------------------------------------------------\u001b[0m",
      "\u001b[0;31mTypeError\u001b[0m                                 Traceback (most recent call last)",
      "\u001b[0;32m<ipython-input-25-fd1901e16ed1>\u001b[0m in \u001b[0;36m<module>\u001b[0;34m\u001b[0m\n\u001b[0;32m----> 1\u001b[0;31m \u001b[0mprint\u001b[0m\u001b[0;34m(\u001b[0m\u001b[0mmyname\u001b[0m \u001b[0;34m**\u001b[0m \u001b[0;36m2\u001b[0m\u001b[0;34m)\u001b[0m\u001b[0;34m\u001b[0m\u001b[0;34m\u001b[0m\u001b[0m\n\u001b[0m\u001b[1;32m      2\u001b[0m \u001b[0mprint\u001b[0m\u001b[0;34m(\u001b[0m\u001b[0mc\u001b[0m \u001b[0;34m**\u001b[0m \u001b[0;36m2\u001b[0m\u001b[0;34m)\u001b[0m\u001b[0;34m\u001b[0m\u001b[0;34m\u001b[0m\u001b[0m\n",
      "\u001b[0;31mTypeError\u001b[0m: unsupported operand type(s) for ** or pow(): 'str' and 'int'"
     ]
    }
   ],
   "source": [
    "print(myname ** 2)\n",
    "print(c ** 2)"
   ]
  },
  {
   "cell_type": "markdown",
   "metadata": {},
   "source": [
    "## Working with lists (and for-loops)"
   ]
  },
  {
   "cell_type": "markdown",
   "metadata": {},
   "source": [
    "Create a list called `myList` with the following elements\n",
    "* integer 1\n",
    "* float 2.7\n",
    "* string \"three\"\n",
    "* a list containing 1,2,...5\n",
    "and print the list"
   ]
  },
  {
   "cell_type": "code",
   "execution_count": 26,
   "metadata": {},
   "outputs": [
    {
     "name": "stdout",
     "output_type": "stream",
     "text": [
      "[1, 2.7, 'three', [0, 1, 2, 3, 4, 5]]\n"
     ]
    }
   ],
   "source": [
    "# Python code goes here\n",
    "myList = [1, 2.7, 'three', list(range(0,6))]\n",
    "print(myList)"
   ]
  },
  {
   "cell_type": "markdown",
   "metadata": {},
   "source": [
    "**Subsetting** Print the following outputs using `myList``<br>\n",
    "Do not forget: Pyhton starts counting at 0\n",
    "\n",
    "* `2.7`\n",
    "* `1` (two possibilities)\n",
    "* `0`\n",
    "* `5` (as last element of the sub-list)"
   ]
  },
  {
   "cell_type": "code",
   "execution_count": 27,
   "metadata": {},
   "outputs": [
    {
     "name": "stdout",
     "output_type": "stream",
     "text": [
      "2.7\n",
      "1\n",
      "1\n",
      "0\n",
      "5\n"
     ]
    }
   ],
   "source": [
    "# Python code goes here\n",
    "print(myList[1])\n",
    "print(myList[0])\n",
    "print(myList[3][1])\n",
    "print(myList[3][0])\n",
    "print(myList[3][-1])"
   ]
  },
  {
   "cell_type": "markdown",
   "metadata": {},
   "source": [
    "**Slicing** Print the following outputs using `myList``\n",
    "* `[1, 2.7]`\n",
    "* `[2.7, 'three']`\n",
    "* `[1, 2, 3, 4]`\n",
    "* `[3, 4, 5]`  (find a cool way to do this)"
   ]
  },
  {
   "cell_type": "code",
   "execution_count": 28,
   "metadata": {},
   "outputs": [
    {
     "name": "stdout",
     "output_type": "stream",
     "text": [
      "[1, 2.7]\n",
      "[1, 2.7]\n",
      "[2.7, 'three']\n",
      "[1, 2, 3, 4]\n",
      "[3, 4, 5]\n",
      "[3, 4, 5]\n",
      "[3, 4, 5]\n"
     ]
    }
   ],
   "source": [
    "# Python code goes here\n",
    "print(myList[0:2])\n",
    "print(myList[:2])\n",
    "print(myList[1:3])\n",
    "print(myList[3][1:5])\n",
    "print(myList[3][3:6])\n",
    "print(myList[-1][3:])\n",
    "print(myList[-1][-3:])"
   ]
  },
  {
   "cell_type": "markdown",
   "metadata": {},
   "source": [
    "### What else can we do with a list?\n",
    "\n",
    "Try this: type `myList.` and hit the `TAB` key\n",
    "\n",
    "Now let us (in this oder) ...\n",
    "* create a list `allItems` that is a copy of `myList`\n",
    "* add the boolean value for \"not correct\" at the end of the `allItems`\n",
    "* add integer 1 at the beginning of the `allItems`\n",
    "* add the numbers 1,2,...,5 at the end of the list *as individual elements*\n",
    "\n",
    "At the end ...\n",
    "* display `myList` \n",
    "* display `allItems`\n",
    "* tell us how many items there are in `allItems`\n",
    "* tell us how often integer 1 appears in `allItems`"
   ]
  },
  {
   "cell_type": "code",
   "execution_count": 29,
   "metadata": {},
   "outputs": [
    {
     "name": "stdout",
     "output_type": "stream",
     "text": [
      "[1, 2.7, 'three', [0, 1, 2, 3, 4, 5]]\n",
      "[1, 1, 2.7, 'three', [0, 1, 2, 3, 4, 5], True, 1, 2, 3, 4, 5]\n",
      "11\n",
      "4\n"
     ]
    }
   ],
   "source": [
    "# Python code goes here\n",
    "allItems = myList.copy()\n",
    "allItems.append(True)\n",
    "allItems.insert(0,1)\n",
    "allItems.extend(list(range(1,6)))    # same as using \"+\"\n",
    "\n",
    "print(myList)\n",
    "print(allItems)\n",
    "print(len(allItems))\n",
    "print(allItems.count(1))             # <<- This is an interesting result! Let us discuss this"
   ]
  },
  {
   "cell_type": "code",
   "execution_count": 30,
   "metadata": {},
   "outputs": [
    {
     "name": "stdout",
     "output_type": "stream",
     "text": [
      "[1, 1, 2.7, 'three', [0, 1, 2, 3, 4, 5], True, 1, 2, 3, 4, 5]\n",
      "4\n",
      "4\n"
     ]
    }
   ],
   "source": [
    "# Further discussion: why does 1 appear four times?\n",
    "print(allItems)\n",
    "print(allItems.count(1))\n",
    "print(allItems.count(True))"
   ]
  },
  {
   "cell_type": "markdown",
   "metadata": {},
   "source": [
    "### Quick iterations through lists\n",
    "In R (or MATLAB), we can something like this:\n",
    "```R\n",
    "vec <- c(-1,0,1,2)\n",
    "sin(vec)\n",
    "vec > 0\n",
    "````\n",
    "\n",
    "This will not work with a Python list."
   ]
  },
  {
   "cell_type": "code",
   "execution_count": 34,
   "metadata": {},
   "outputs": [
    {
     "name": "stdout",
     "output_type": "stream",
     "text": [
      "-0.8414709848078965\n",
      "0.0\n",
      "0.8414709848078965\n",
      "0.9092974268256817\n",
      "False\n",
      "False\n",
      "True\n",
      "True\n"
     ]
    }
   ],
   "source": [
    "# Slow version\n",
    "import math\n",
    "myList = list(range(-1,3))\n",
    "for item in myList:\n",
    "    print(math.sin(item))\n",
    "for item in myList:\n",
    "    print(item>0)"
   ]
  },
  {
   "cell_type": "markdown",
   "metadata": {},
   "source": [
    "### List comprehension\n",
    "Syntax: `[expression(item) for item in list]`\n"
   ]
  },
  {
   "cell_type": "code",
   "execution_count": 35,
   "metadata": {},
   "outputs": [
    {
     "data": {
      "text/plain": [
       "[-0.8414709848078965, 0.0, 0.8414709848078965, 0.9092974268256817]"
      ]
     },
     "execution_count": 35,
     "metadata": {},
     "output_type": "execute_result"
    }
   ],
   "source": [
    "[math.sin(item) for item in myList]"
   ]
  },
  {
   "cell_type": "markdown",
   "metadata": {},
   "source": [
    "Below is a list of (simple) returns `rsimple`. Produce ...\n",
    "* log-returns `rlog` by applying $r_{log} = \\ln(1+r_{smp})$\n",
    "* the (simple) option `payoff` (i.e. all negative returns are zero)"
   ]
  },
  {
   "cell_type": "code",
   "execution_count": 36,
   "metadata": {},
   "outputs": [
    {
     "name": "stdout",
     "output_type": "stream",
     "text": [
      "[0.06943277471533682, 0.01616858116158369, -0.038429026619781856, 0.06625579577706527, -0.08948716650153617, -0.005113049386823014, -0.012173800931708762]\n",
      "[0.0719, 0.0163, -0.0, 0.0685, -0.0, -0.0, -0.0]\n"
     ]
    }
   ],
   "source": [
    "rsimple = [0.0719, 0.0163, -0.0377, 0.0685, -0.0856, -0.0051, -0.0121]\n",
    "# Python code goes here\n",
    "rlog = [np.log(1+oneRet) for oneRet in rsimple]\n",
    "print(rlog)\n",
    "payoff = [oneRet*(oneRet>0) for oneRet in rsimple]\n",
    "print(payoff)"
   ]
  }
 ],
 "metadata": {
  "kernelspec": {
   "display_name": "Python 3",
   "language": "python",
   "name": "python3"
  },
  "language_info": {
   "codemirror_mode": {
    "name": "ipython",
    "version": 3
   },
   "file_extension": ".py",
   "mimetype": "text/x-python",
   "name": "python",
   "nbconvert_exporter": "python",
   "pygments_lexer": "ipython3",
   "version": "3.8.8"
  }
 },
 "nbformat": 4,
 "nbformat_minor": 4
}
