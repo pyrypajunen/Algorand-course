{
 "cells": [
  {
   "cell_type": "markdown",
   "metadata": {},
   "source": [
    "# Python Exercises\n",
    "#### 02.3 Writing Smart Contracts\n",
    "##### Peter Gruber (peter.gruber@usi.ch)\n",
    "2022-01-22\n",
    "* Exercises for basic Python operations"
   ]
  },
  {
   "cell_type": "markdown",
   "metadata": {},
   "source": [
    "### Exercise 1\n",
    "Perform the follwoing calculations, where $\\ln()$ stands for the natural logarithm and $e$ is the Euler number.\n",
    "\n",
    "$(a)\\; e^{2} \\qquad (b)\\; \\sqrt[3]{17} \\qquad (c)\\; 12^{2\\cdot3} \\qquad (d)\\; \\frac{16\\cdot\\ln(2)}{8-\\sqrt{2}}$"
   ]
  },
  {
   "cell_type": "code",
   "execution_count": null,
   "metadata": {},
   "outputs": [],
   "source": [
    "# Python code goes here"
   ]
  },
  {
   "cell_type": "markdown",
   "metadata": {},
   "source": [
    "### Exercise 2\n",
    "Formulate the following conditions in Python\n",
    "* `a` is smaller than 2 and `b` is larger than 5\n",
    "* `a` is between (including) -2 and (including) 5\n",
    "* either `a` is positive or `b` is between (excluding) -1 and (excluding) 1\n",
    "* the sum of `a`, `b` and `c` is smaller than the product of `a`, `b` and `c`"
   ]
  },
  {
   "cell_type": "code",
   "execution_count": null,
   "metadata": {},
   "outputs": [],
   "source": [
    "# Python code goes here"
   ]
  },
  {
   "cell_type": "markdown",
   "metadata": {},
   "source": [
    "### Exercise 3\n",
    "Create a new list `mylogarithms` that contains the logarithm of every element of the list `mynumbers`"
   ]
  },
  {
   "cell_type": "code",
   "execution_count": 2,
   "metadata": {},
   "outputs": [],
   "source": [
    "mynumbers = [1, 2.5, 7, 18, 1E7]\n",
    "# Python code goes here"
   ]
  },
  {
   "cell_type": "markdown",
   "metadata": {},
   "source": [
    "### Exercise 4\n",
    "You want to split 16 ALGOS like this: 1/2 for Alice, 1/4 for Bob and 1/8 each for Craig and Dan. Perform the divisions and store the results as a variable that expresses *entire* ALGOs"
   ]
  },
  {
   "cell_type": "code",
   "execution_count": 3,
   "metadata": {},
   "outputs": [],
   "source": [
    "# Python code goes here"
   ]
  },
  {
   "cell_type": "markdown",
   "metadata": {},
   "source": [
    "### Exercise 5\n",
    "Answer the following questions using (clever) iteger arithmetic. If you change the unit of measurement, add it as a comment.\n",
    "* Two kilos of oranges are split among 5 people. How much does everyone get?\n",
    "* Seven people pay CHF 265 for dinner. How much does everyone have to pay? "
   ]
  },
  {
   "cell_type": "code",
   "execution_count": 4,
   "metadata": {},
   "outputs": [],
   "source": [
    "# Python code goes here"
   ]
  },
  {
   "cell_type": "markdown",
   "metadata": {},
   "source": [
    "### Exercise 6\n",
    "Express 1 Million as integer number. Do not use the `0`"
   ]
  },
  {
   "cell_type": "code",
   "execution_count": 4,
   "metadata": {},
   "outputs": [],
   "source": [
    "# Python code goes here"
   ]
  },
  {
   "cell_type": "markdown",
   "metadata": {},
   "source": [
    "### Exercise 7\n",
    "The list `mywords` contains several words. Create a new list `shortwords` that contains only the first four letters of each word in `mywords`.\n",
    "\n",
    "*Hint* you know everything to get the \"first four letters\" of a word. Maybe try out this part without a list first."
   ]
  },
  {
   "cell_type": "code",
   "execution_count": 5,
   "metadata": {},
   "outputs": [],
   "source": [
    "mywords = ['apple','orange','banana','tomatoe','salad']\n",
    "# Python code goes here"
   ]
  }
 ],
 "metadata": {
  "kernelspec": {
   "display_name": "Python 3",
   "language": "python",
   "name": "python3"
  },
  "language_info": {
   "codemirror_mode": {
    "name": "ipython",
    "version": 3
   },
   "file_extension": ".py",
   "mimetype": "text/x-python",
   "name": "python",
   "nbconvert_exporter": "python",
   "pygments_lexer": "ipython3",
   "version": "3.8.8"
  }
 },
 "nbformat": 4,
 "nbformat_minor": 4
}
