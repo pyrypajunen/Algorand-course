{
 "cells": [
  {
   "cell_type": "markdown",
   "metadata": {},
   "source": [
    "# A quick intro to Jupyterlab and Markdown\n",
    "#### Winter School on Smart Contracts\n",
    "##### Peter Gruber (peter.gruber@usi.ch)\n",
    "2021-11-06"
   ]
  },
  {
   "cell_type": "markdown",
   "metadata": {},
   "source": [
    "## Interface\n",
    "https://jupyterlab.readthedocs.io/en/stable/user/interface.html\n",
    "\n",
    "* Side Bar (collapse by clicking)\n",
    "    * File browser\n",
    "    * Running kernels\n",
    "    * Command palette\n",
    "    * Cell inspector\n",
    "    * Open tabs\n",
    "* Main Work Area\n",
    "    * Window = notebook, data browser, figure, image\n",
    "    * Drag windows to create split views"
   ]
  },
  {
   "cell_type": "markdown",
   "metadata": {},
   "source": [
    "## Three types of cells\n",
    "* Markdown\n",
    "* (Python) code\n",
    "* Results"
   ]
  },
  {
   "cell_type": "markdown",
   "metadata": {},
   "source": [
    "## Keyboard shortcuts\n",
    "#### Execute with *entire* cell selected\n",
    "No ctrl/alt/cmd (exceptions)<br>\n",
    "`up/down` move one cell up/down<br>\n",
    "`shift-up/down` add cell above/below to selection<br>\n",
    "`shift-M` merge<br>\n",
    "`D` `D` delete  (twice D)<br>\n",
    "\n",
    "#### Special case: execute *inside* cell\n",
    "`ESC` stop editing the cell (and use commands above)<br>\n",
    "`ctrl shift -` split cell at \n",
    "\n",
    "#### Executing a cell\n",
    "Execute a cell `ctrl-Return`<br>\n",
    "Execute a cell and move to next `shift-Return`<br>\n",
    "Execute a cell and insert one below `alt-Return`"
   ]
  },
  {
   "cell_type": "markdown",
   "metadata": {},
   "source": [
    "# Markdown\n",
    "Markdown is a very easy *markup language* for simple formatting.\n",
    "Here are the most common commands ... (see also https://github.com/adam-p/markdown-here/wiki/Markdown-Cheatsheet)"
   ]
  },
  {
   "cell_type": "markdown",
   "metadata": {},
   "source": [
    "### Headers\n",
    "\n",
    "```\n",
    "# H1\n",
    "## H2\n",
    "### H3\n",
    "```\n",
    "\n",
    "# H1\n",
    "## H2\n",
    "### H3"
   ]
  },
  {
   "cell_type": "markdown",
   "metadata": {},
   "source": [
    "### Emphasis\n",
    "```\n",
    "Emphasis, or italics, with *asterisks* or _underscores_.\n",
    "Strong emphasis, or bold, with **asterisks** or (double) __underscores__.\n",
    "Both can be combined: **_double empahsis_** (_**both ways**_).\n",
    "Strikethrough uses two tildes. ~~Scratch this.~~\n",
    "```\n",
    "Emphasis, or italics, with *asterisks* or _underscores_.<br>\n",
    "Strong emphasis, or bold, with **asterisks** or (double) __underscores__.<br>\n",
    "Both can be combined: **_double emphasis_** (_**both ways**_).<br>\n",
    "Strikethrough uses two tildes. ~~Scratch this.~~<br>"
   ]
  },
  {
   "cell_type": "markdown",
   "metadata": {},
   "source": [
    "### Lists\n",
    "```\n",
    "1. First ordered list item\n",
    "2. Another item\n",
    "1. Actual numbers don't matter, just that it's a number\n",
    "\n",
    "* Unordered list can use asterisks\n",
    "- Or minuses\n",
    "+ Or pluses\n",
    "  * Sub-lists are \n",
    "  * indented\n",
    "```\n",
    "\n",
    "1. First ordered list item\n",
    "2. Another item\n",
    "1. Actual numbers don't matter, just that it's a number\n",
    "\n",
    "\n",
    "* Unordered list can use asterisks\n",
    "- Or minuses\n",
    "+ Or pluses\n",
    "  * Sub-lists are \n",
    "  * indented"
   ]
  },
  {
   "cell_type": "markdown",
   "metadata": {},
   "source": [
    "### Code\n",
    "```\n",
    "Code as part of the text (*\"inline code\"*) uses backticks: you need a `for loop` here\n",
    "Longer code blocks start and end with 3 back ticks (plus the name of the language)\n",
    "```python\n",
    "for x in range(6):\n",
    "  print(x)\n",
    "``````\n",
    "\n",
    "Code as part of the text (*\"inline code\"*) uses backticks: you need a `for loop` here\n",
    "Longer code blocks start and end with 3 back ticks (plus the name of the language)\n",
    "```python\n",
    "for x in range(6):\n",
    "  print(x)\n",
    "```\n"
   ]
  },
  {
   "cell_type": "markdown",
   "metadata": {},
   "source": [
    "### Pro Tip\n",
    "Markdown requires empty lines\n",
    "* Before and after Latex-Equations\n",
    "* For every paragraoh\n"
   ]
  },
  {
   "cell_type": "markdown",
   "metadata": {},
   "source": [
    "### Latex\n",
    "```\n",
    "Inline Latex with the single dollar sign $x=y+z$, equations with double dollar \n",
    "$$\\int_0^\\infty xdx$$\n",
    "\n",
    "```\n",
    "Inline Latex with the single dollar sign $x=y+z$, larger equations with double dollar sign\n",
    "$$\\int_0^\\infty xdx$$\n",
    "\n",
    "\n"
   ]
  },
  {
   "cell_type": "markdown",
   "metadata": {},
   "source": [
    "### A few more things\n",
    "```\n",
    "\n",
    "Use <font color=\"red\">**HTML-tags**</font> for special cases, best is<BR>\n",
    "Three *** or --- or ___ create a horizontal line\n",
    "\n",
    "---\n",
    "\n",
    "Find speical cases such as\n",
    "* Links\n",
    "* Images\n",
    "* Tables\n",
    "in the [documentation](https://github.com/adam-p/markdown-here/wiki/Markdown-Cheatsheet)\n",
    "```\n",
    "\n",
    "Use  <font color=\"red\">**HTML-tags**</font> for special cases, best is`<BR>`<BR>\n",
    "Three `***` or `---` or `___` create a horizontal line\n",
    "\n",
    "---\n",
    "    \n",
    "Find speical cases such as\n",
    "* Links\n",
    "* Images\n",
    "* Tables\n",
    "in the [documentation](https://github.com/adam-p/markdown-here/wiki/Markdown-Cheatsheet)\n",
    "\n"
   ]
  },
  {
   "cell_type": "markdown",
   "metadata": {},
   "source": [
    "## *Now it is up to you ...*"
   ]
  },
  {
   "cell_type": "markdown",
   "metadata": {},
   "source": [
    "1. Insert a cell below this one using the apporpriate keyboard command\n",
    "1. Delete the cell that you have just created\n",
    "1. Open the file `dov01_RtoPyhon.ipnb`and arrange it beside this window\n",
    "2. Open the file `swaprates.csv` and arrange it below `dov01_RtoPyhon.ipnb`\n",
    "3. Right-click on the file `swaprates.csv`, select `Open with Editor`, arrange side-by-side and change the word \"Tenor\" to \"Years\". Watch the CSV Table view.\n",
    "\n"
   ]
  },
  {
   "cell_type": "markdown",
   "metadata": {},
   "source": [
    "## *Typeset the following cell (no cheating)*\n",
    "This is a *small* exercise for using Markdown. **Hint:** you find the text in the cell below.\n",
    "\n",
    "We can do the following things\n",
    "\n",
    "* create ~~slow~~ quick documentation without big $\\LaTeX$ overhead\n",
    "* intertwine `code`, text and equations such as\n",
    "\n",
    "$$\\frac{1}{ \\sqrt{2\\pi} } e^{ -{ \\frac{x^2}{2} } }$$\n",
    "\n",
    "* and add pieces of code with syntax highlighting\n",
    "\n",
    "```python\n",
    "def nirvana():\n",
    "    return None\n",
    "```"
   ]
  },
  {
   "cell_type": "raw",
   "metadata": {},
   "source": [
    "Typeset the following cell (no cheating)\n",
    "This is a small exercise for using Markdown. Hint: you find the text in the cell below.\n",
    "We can do the following things\n",
    "\n",
    "create slow quick documentation without latex overhead\n",
    "intertwine code, text and equations such as\n",
    "1/\\sqrt(2pi) e^(-x^2/2)\n",
    "and add pieces of code with syntax highlighting\n",
    "\n",
    "def nirvana():\n",
    "    return None"
   ]
  },
  {
   "cell_type": "markdown",
   "metadata": {},
   "source": [
    "## *Below, there are lots of empty cells*\n",
    "Delete them in **one** go"
   ]
  },
  {
   "cell_type": "code",
   "execution_count": null,
   "metadata": {},
   "outputs": [],
   "source": []
  },
  {
   "cell_type": "code",
   "execution_count": null,
   "metadata": {},
   "outputs": [],
   "source": []
  },
  {
   "cell_type": "code",
   "execution_count": null,
   "metadata": {},
   "outputs": [],
   "source": []
  },
  {
   "cell_type": "code",
   "execution_count": null,
   "metadata": {},
   "outputs": [],
   "source": []
  },
  {
   "cell_type": "code",
   "execution_count": null,
   "metadata": {},
   "outputs": [],
   "source": []
  },
  {
   "cell_type": "code",
   "execution_count": null,
   "metadata": {},
   "outputs": [],
   "source": []
  },
  {
   "cell_type": "code",
   "execution_count": null,
   "metadata": {},
   "outputs": [],
   "source": []
  }
 ],
 "metadata": {
  "kernelspec": {
   "display_name": "Python 3",
   "language": "python",
   "name": "python3"
  },
  "language_info": {
   "codemirror_mode": {
    "name": "ipython",
    "version": 3
   },
   "file_extension": ".py",
   "mimetype": "text/x-python",
   "name": "python",
   "nbconvert_exporter": "python",
   "pygments_lexer": "ipython3",
   "version": "3.8.5"
  }
 },
 "nbformat": 4,
 "nbformat_minor": 4
}
