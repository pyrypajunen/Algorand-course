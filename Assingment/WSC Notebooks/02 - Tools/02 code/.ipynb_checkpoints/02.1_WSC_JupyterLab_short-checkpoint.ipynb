{
 "cells": [
  {
   "cell_type": "markdown",
   "metadata": {},
   "source": [
    "# A short intro to Jupyterlab and Markdown\n",
    "#### 02.1 Winter School on Smart Contracts\n",
    "##### Peter Gruber (peter.gruber@usi.ch)\n",
    "2021-11-06\n",
    "\n",
    "* Learn how to use the Jupyter environment\n",
    "* Learn the Markdown language"
   ]
  },
  {
   "cell_type": "markdown",
   "metadata": {
    "jp-MarkdownHeadingCollapsed": true,
    "tags": []
   },
   "source": [
    "## Interface\n",
    "https://jupyterlab.readthedocs.io/en/stable/user/interface.html\n",
    "\n",
    "#### Side Bar\n",
    "* Collapse by clicking\n",
    "* File browser\n",
    "* Running kernels\n",
    "* New notebook with `+`\n",
    "\n",
    "#### Main Work Area\n",
    "* Window = notebook, data browser, figure, image\n",
    "* Drag windows to create split views\n",
    "* Click blue bar to hide a cell\n",
    "\n",
    "#### Types of cells\n",
    "* Code (Python)\n",
    "* Markdown\n",
    "* Results"
   ]
  },
  {
   "cell_type": "markdown",
   "metadata": {
    "tags": []
   },
   "source": [
    "## Keyboard shortcuts\n",
    "#### Entire cell\n",
    "* `up/down` move  up/down\n",
    "* `shift-up/down` add cells to selection\n",
    "* `shift-M` merge selected cells\n",
    "* `D` `D` delete  (twice D)\n",
    "* **Note:** Plain letters, no ctrl/alt/cmd\n",
    "\n",
    "\n",
    "#### Inside cell\n",
    "* `ESC` stop editing the cell (and use commands above)<br>\n",
    "* `ctrl shift -` split cell at \n",
    "\n",
    "#### Execute a cell\n",
    "* Execute cell `ctrl-Return`<br>\n",
    "* Execute cell and move to next `shift-Return`<br>\n",
    "* Execute cell and insert one below `alt-Return`\n",
    "* Works inside cell and for entire cell"
   ]
  },
  {
   "cell_type": "markdown",
   "metadata": {},
   "source": [
    "# Markdown (H1)\n",
    "## Subtitle (H2)\n",
    "### Sub-subtitle (H3)\n",
    "\n",
    "Hint: double-click in cell to see markdown codes"
   ]
  },
  {
   "cell_type": "markdown",
   "metadata": {
    "tags": []
   },
   "source": [
    "### Emphasis\n",
    "*Italics* with stars or _underscores_\n",
    "\n",
    "**Bold** with double stars or __underscores__\n",
    "\n",
    "Strikethrough with two tildes. ~~Scratch this.~~"
   ]
  },
  {
   "cell_type": "markdown",
   "metadata": {
    "tags": []
   },
   "source": [
    "### Code\n",
    "Short code uses 1 backtick, like `print()`\n",
    "\n",
    "Longer code blocks start and end with 3 backticks\n",
    "\n",
    "```python\n",
    "for x in range(6):\n",
    "  print(x)\n",
    "```\n"
   ]
  },
  {
   "cell_type": "markdown",
   "metadata": {},
   "source": [
    "### Lists\n",
    "\n",
    "1. Ordered list item\n",
    "2. Another item\n",
    "1. Actual number does not matter\n",
    "\n",
    "* Unordered list can use asterisks\n",
    "- Or minuses\n",
    "+ Or pluses\n",
    "  * Sub-lists are \n",
    "  * indented"
   ]
  },
  {
   "cell_type": "markdown",
   "metadata": {},
   "source": [
    "### *Latex\n",
    "Short Latex uses one dollar sign, like $x=y+z$\n",
    "\n",
    "Big equations use 2 dollar signs\n",
    "\n",
    "$$\\int_0^\\infty xdx$$"
   ]
  },
  {
   "cell_type": "markdown",
   "metadata": {},
   "source": [
    "### Pro Tip\n",
    "Markdown requires empty lines\n",
    "* Before and after Latex-Equations\n",
    "* For every paragraoh\n"
   ]
  },
  {
   "cell_type": "markdown",
   "metadata": {},
   "source": [
    "## *A few more things and special cases\n",
    "\n",
    "Use  <font color=\"red\">**HTML-tags**</font> for special cases, a good one`<BR>`<BR>\n",
    "Three `***` or `---` or `___` create a horizontal line\n",
    "\n",
    "---\n",
    "    \n",
    "The [documentation](https://github.com/adam-p/markdown-here/wiki/Markdown-Cheatsheet) covers special cases like \n",
    "* Links\n",
    "* Images\n",
    "* Tables\n",
    "\n"
   ]
  },
  {
   "cell_type": "markdown",
   "metadata": {},
   "source": [
    "# *Exercise\n",
    "Below, there are lots of empty cells: delete them in **one** go"
   ]
  },
  {
   "cell_type": "code",
   "execution_count": null,
   "metadata": {},
   "outputs": [],
   "source": []
  },
  {
   "cell_type": "code",
   "execution_count": null,
   "metadata": {},
   "outputs": [],
   "source": []
  },
  {
   "cell_type": "code",
   "execution_count": null,
   "metadata": {},
   "outputs": [],
   "source": []
  },
  {
   "cell_type": "code",
   "execution_count": null,
   "metadata": {},
   "outputs": [],
   "source": []
  },
  {
   "cell_type": "code",
   "execution_count": null,
   "metadata": {},
   "outputs": [],
   "source": []
  },
  {
   "cell_type": "code",
   "execution_count": null,
   "metadata": {},
   "outputs": [],
   "source": []
  },
  {
   "cell_type": "code",
   "execution_count": null,
   "metadata": {},
   "outputs": [],
   "source": []
  },
  {
   "cell_type": "markdown",
   "metadata": {},
   "source": [
    "# *Exercises"
   ]
  },
  {
   "cell_type": "markdown",
   "metadata": {},
   "source": [
    "1. Insert a cell below this one using the apporpriate keyboard command\n",
    "1. Delete the cell that you have just created\n",
    "1. Open the file `02_WSC_Python.ipnb`and arrange it beside this window"
   ]
  },
  {
   "cell_type": "markdown",
   "metadata": {},
   "source": [
    "## *Typeset the following cell (no cheating)*\n",
    "This is a *small* exercise for using Markdown. **Hint:** you find the text in the cell below.\n",
    "\n",
    "We can do the following things\n",
    "\n",
    "* create ~~slow~~ quick documentation without big $\\LaTeX$ overhead\n",
    "* intertwine `code`, text and equations such as\n",
    "\n",
    "$$\\frac{1}{ \\sqrt{2\\pi} } e^{ -{ \\frac{x^2}{2} } }$$\n",
    "\n",
    "* and add pieces of code with syntax highlighting\n",
    "\n",
    "```python\n",
    "def nirvana():\n",
    "    return None\n",
    "```"
   ]
  },
  {
   "cell_type": "raw",
   "metadata": {},
   "source": [
    "Typeset the following cell (no cheating)\n",
    "This is a small exercise for using Markdown. Hint: you find the text in the cell below.\n",
    "We can do the following things\n",
    "\n",
    "create slow quick documentation without latex overhead\n",
    "intertwine code, text and equations such as\n",
    "1/\\sqrt(2pi) e^(-x^2/2)\n",
    "and add pieces of code with syntax highlighting\n",
    "\n",
    "def nirvana():\n",
    "    return None"
   ]
  }
 ],
 "metadata": {
  "kernelspec": {
   "display_name": "Python 3 (ipykernel)",
   "language": "python",
   "name": "python3"
  },
  "language_info": {
   "codemirror_mode": {
    "name": "ipython",
    "version": 3
   },
   "file_extension": ".py",
   "mimetype": "text/x-python",
   "name": "python",
   "nbconvert_exporter": "python",
   "pygments_lexer": "ipython3",
   "version": "3.9.13"
  }
 },
 "nbformat": 4,
 "nbformat_minor": 4
}
