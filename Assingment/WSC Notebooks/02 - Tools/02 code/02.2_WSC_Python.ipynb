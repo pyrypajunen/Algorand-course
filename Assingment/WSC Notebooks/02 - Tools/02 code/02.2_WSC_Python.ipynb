{
 "cells": [
  {
   "cell_type": "markdown",
   "metadata": {},
   "source": [
    "# Python Recap solution\n",
    "#### 02.2 Writing Smart Contracts\n",
    "##### Peter Gruber (peter.gruber@usi.ch)\n",
    "2023-02-07\n",
    "* Recap of basic Pyhton operations\n",
    "* Variables and types\n",
    "* A few rearely used Python commands"
   ]
  },
  {
   "cell_type": "markdown",
   "metadata": {},
   "source": [
    "### ❗️ Before we get started\n",
    "Oberve the `[]`, `[*]` and `[1]`"
   ]
  },
  {
   "cell_type": "markdown",
   "metadata": {},
   "source": [
    "## Variables and types"
   ]
  },
  {
   "cell_type": "markdown",
   "metadata": {},
   "source": [
    "**Create the following variables**\n",
    "* `a` cotaining integer 5\n",
    "* `b` containig real 5\n",
    "* `c` containing \"5\" as text variable\n",
    "* `d` containing the logical value for \"correct\""
   ]
  },
  {
   "cell_type": "code",
   "execution_count": 166,
   "metadata": {},
   "outputs": [],
   "source": [
    "a = 5\n",
    "b = 5.0\n",
    "c = \"5\"\n",
    "d = True"
   ]
  },
  {
   "cell_type": "code",
   "execution_count": 167,
   "metadata": {},
   "outputs": [
    {
     "name": "stdout",
     "output_type": "stream",
     "text": [
      "<class 'int'>\n",
      "<class 'float'>\n",
      "<class 'str'>\n",
      "<class 'bool'>\n"
     ]
    }
   ],
   "source": [
    "print(type(a))\n",
    "print(type(b))\n",
    "print(type(c))\n",
    "print(type(d))"
   ]
  },
  {
   "cell_type": "markdown",
   "metadata": {},
   "source": [
    "### Converting data types"
   ]
  },
  {
   "cell_type": "code",
   "execution_count": 168,
   "metadata": {},
   "outputs": [
    {
     "name": "stdout",
     "output_type": "stream",
     "text": [
      "5 <class 'int'>\n",
      "5 <class 'int'>\n",
      "1 <class 'int'>\n"
     ]
    }
   ],
   "source": [
    "# To integer\n",
    "a1 = int(b);     print(a1, type(a1))\n",
    "a2 = int(c);     print(a2, type(a2))\n",
    "a3 = int(d);     print(a3, type(a3))"
   ]
  },
  {
   "cell_type": "code",
   "execution_count": 169,
   "metadata": {},
   "outputs": [
    {
     "name": "stdout",
     "output_type": "stream",
     "text": [
      "5.0 <class 'float'>\n"
     ]
    }
   ],
   "source": [
    "# To float\n",
    "b1 = float(a);   print(b1, type(b1))"
   ]
  },
  {
   "cell_type": "code",
   "execution_count": 170,
   "metadata": {},
   "outputs": [
    {
     "name": "stdout",
     "output_type": "stream",
     "text": [
      "5 <class 'str'>\n",
      "True <class 'str'>\n"
     ]
    }
   ],
   "source": [
    "# To string\n",
    "c1 = str(a);     print(c1, type(c1))\n",
    "c2 = str(d);     print(c2, type(c2))"
   ]
  },
  {
   "cell_type": "markdown",
   "metadata": {},
   "source": [
    "**Exercise** \n",
    "\n",
    "Is 1 thousand always an integer? Check the type if you express this number (a) directly and (b) as $10^3$ "
   ]
  },
  {
   "cell_type": "code",
   "execution_count": 171,
   "metadata": {},
   "outputs": [
    {
     "name": "stdout",
     "output_type": "stream",
     "text": [
      "<class 'int'>\n",
      "<class 'float'>\n",
      "<class 'int'>\n"
     ]
    }
   ],
   "source": [
    "# Python code goes here\n",
    "print(type(1000))\n",
    "print(type(1e3))\n",
    "\n",
    "# bonus\n",
    "print(type(1_000))  "
   ]
  },
  {
   "cell_type": "markdown",
   "metadata": {},
   "source": [
    "### Comparisons and logical operators\n",
    "* `==` equality\n",
    "* `!=` inequality\n",
    "* `and` is logical *and*\n",
    "* `or` is logical *or*"
   ]
  },
  {
   "cell_type": "code",
   "execution_count": 172,
   "metadata": {},
   "outputs": [
    {
     "name": "stdout",
     "output_type": "stream",
     "text": [
      "False\n",
      "True\n",
      "True\n"
     ]
    }
   ],
   "source": [
    "print( 1==2 )\n",
    "print( 1!=2 )\n",
    "print( 1==1 and 2==2 )"
   ]
  },
  {
   "cell_type": "markdown",
   "metadata": {},
   "source": [
    "**Exercise** Write the following conditions in Python (first assign `x=2.2`)\n",
    "\n",
    "* $-2 \\leq x \\leq 4$\n",
    "* $|x|<5$"
   ]
  },
  {
   "cell_type": "code",
   "execution_count": 173,
   "metadata": {},
   "outputs": [
    {
     "name": "stdout",
     "output_type": "stream",
     "text": [
      "True\n",
      "True\n"
     ]
    }
   ],
   "source": [
    "# Python code goes here\n",
    "x = 2.2\n",
    "print(-2 <= x and x <= 4)\n",
    "print(abs(x) < 5)"
   ]
  },
  {
   "cell_type": "markdown",
   "metadata": {},
   "source": [
    "### Two lesser known operators\n",
    "* `%` is modulus (remainder)\n",
    "* `//` is floor division (integer part)\n",
    "\n",
    "**Exercises**\n",
    "* If we have four full weeks in January, how many days are left?\n",
    "* How many full weeks are there in a year?\n",
    "* Try to calcualte the full weeks in a year *without* `// ` **Hint:** use type conversion"
   ]
  },
  {
   "cell_type": "code",
   "execution_count": 174,
   "metadata": {},
   "outputs": [
    {
     "name": "stdout",
     "output_type": "stream",
     "text": [
      "3\n",
      "52\n",
      "52\n"
     ]
    }
   ],
   "source": [
    "# Python code goes here\n",
    "print(31%7)\n",
    "print(365//7)\n",
    "print(int(365/7))"
   ]
  },
  {
   "cell_type": "markdown",
   "metadata": {},
   "source": [
    "### Calculations with Integers\n",
    "* Three chocolate bars cost 2 Dollars\n",
    "* What is the price of a chocolate bar, if we can only use integer numbers?"
   ]
  },
  {
   "cell_type": "code",
   "execution_count": 175,
   "metadata": {},
   "outputs": [
    {
     "data": {
      "text/plain": [
       "0"
      ]
     },
     "execution_count": 175,
     "metadata": {},
     "output_type": "execute_result"
    }
   ],
   "source": [
    "# Idea number 1\n",
    "total_price = 2   # US Dollars\n",
    "number_bars = 3\n",
    "int( total_price/number_bars )  # in Dollars"
   ]
  },
  {
   "cell_type": "code",
   "execution_count": 176,
   "metadata": {},
   "outputs": [
    {
     "data": {
      "text/plain": [
       "66"
      ]
     },
     "execution_count": 176,
     "metadata": {},
     "output_type": "execute_result"
    }
   ],
   "source": [
    "# Idea number 2\n",
    "total_price = 2*100  # US Cents\n",
    "number_bars = 3\n",
    "int( total_price/number_bars )  # in Cents"
   ]
  },
  {
   "cell_type": "markdown",
   "metadata": {},
   "source": [
    "## Working with lists (and for-loops)"
   ]
  },
  {
   "cell_type": "markdown",
   "metadata": {},
   "source": [
    "Create a list called `myList` with the elements 0,1,2,...,5"
   ]
  },
  {
   "cell_type": "code",
   "execution_count": 177,
   "metadata": {},
   "outputs": [],
   "source": [
    "# Python code goes here\n",
    "myList = list(range(0,6))\n",
    "myList = [0,1,2,3,4,5]"
   ]
  },
  {
   "cell_type": "markdown",
   "metadata": {},
   "source": [
    "#### Subsetting\n",
    "* Print the first element of the list\n",
    "* Print the first three elements of the list\n",
    "* Print the last element of the list\n",
    "* **Hint:** Python starts counting at 0"
   ]
  },
  {
   "cell_type": "code",
   "execution_count": 178,
   "metadata": {},
   "outputs": [
    {
     "name": "stdout",
     "output_type": "stream",
     "text": [
      "0\n",
      "[0, 1, 2]\n",
      "5\n"
     ]
    }
   ],
   "source": [
    "# Python code goes here\n",
    "print(myList[0])\n",
    "print(myList[0:3])\n",
    "print(myList[-1])"
   ]
  },
  {
   "cell_type": "markdown",
   "metadata": {},
   "source": [
    "### What else can we do with a list?\n",
    "\n",
    "Try this: type `myList.` and hit the `TAB` key\n",
    "\n",
    "Now let us  ...\n",
    "* add the boolean value for \"correct\" at the end of  `myList`\n",
    "* add integer 1 at the beginning of the `myList`\n",
    "\n",
    "At the end ...\n",
    "* display `myList` \n",
    "* tell us how many items there are in `myList`\n",
    "* tell us how often integer 1 appears in `myList`"
   ]
  },
  {
   "cell_type": "code",
   "execution_count": 179,
   "metadata": {},
   "outputs": [
    {
     "name": "stdout",
     "output_type": "stream",
     "text": [
      "[1, 0, 1, 2, 3, 4, 5, True]\n",
      "8\n",
      "3\n"
     ]
    }
   ],
   "source": [
    "# Python code goes here\n",
    "myList.append(True)\n",
    "myList.insert(0,1)\n",
    "\n",
    "print(myList)\n",
    "print(len(myList))\n",
    "print(myList.count(1))             # <<- interesting! Discuss it"
   ]
  },
  {
   "cell_type": "code",
   "execution_count": 180,
   "metadata": {},
   "outputs": [
    {
     "name": "stdout",
     "output_type": "stream",
     "text": [
      "3\n",
      "3\n"
     ]
    }
   ],
   "source": [
    "# Further discussion: why does 1 appear three times?\n",
    "print(myList.count(1))\n",
    "print(myList.count(True))"
   ]
  },
  {
   "cell_type": "markdown",
   "metadata": {},
   "source": [
    "## Quick iterations through lists\n",
    "In R (or MATLAB), we can something like this:\n",
    "```R\n",
    "vec <- c(1.2, 2.5, 3.2)\n",
    "round(vec)\n",
    "````\n",
    "\n",
    "This will not work with a Python list."
   ]
  },
  {
   "cell_type": "code",
   "execution_count": 181,
   "metadata": {},
   "outputs": [
    {
     "ename": "TypeError",
     "evalue": "type list doesn't define __round__ method",
     "output_type": "error",
     "traceback": [
      "\u001b[0;31m---------------------------------------------------------------------------\u001b[0m",
      "\u001b[0;31mTypeError\u001b[0m                                 Traceback (most recent call last)",
      "\u001b[0;32m/var/folders/_t/tph7jpqn15723171wpl6x09w0000gn/T/ipykernel_2829/4031195361.py\u001b[0m in \u001b[0;36m<module>\u001b[0;34m\u001b[0m\n\u001b[1;32m      1\u001b[0m \u001b[0mnumbers\u001b[0m \u001b[0;34m=\u001b[0m \u001b[0;34m[\u001b[0m\u001b[0;36m7.2\u001b[0m\u001b[0;34m,\u001b[0m \u001b[0;36m5.5\u001b[0m\u001b[0;34m,\u001b[0m \u001b[0;34m-\u001b[0m\u001b[0;36m1.2\u001b[0m\u001b[0;34m,\u001b[0m \u001b[0;36m3.9\u001b[0m\u001b[0;34m]\u001b[0m\u001b[0;34m\u001b[0m\u001b[0;34m\u001b[0m\u001b[0m\n\u001b[0;32m----> 2\u001b[0;31m \u001b[0mround\u001b[0m\u001b[0;34m(\u001b[0m\u001b[0mnumbers\u001b[0m\u001b[0;34m)\u001b[0m\u001b[0;34m\u001b[0m\u001b[0;34m\u001b[0m\u001b[0m\n\u001b[0m",
      "\u001b[0;31mTypeError\u001b[0m: type list doesn't define __round__ method"
     ]
    }
   ],
   "source": [
    "numbers = [7.2, 5.5, -1.2, 3.9]\n",
    "round(numbers)"
   ]
  },
  {
   "cell_type": "markdown",
   "metadata": {},
   "source": [
    "### For loops\n",
    "* For loops make it possible to iterate over an entire list\n",
    "* Naming tradition\n",
    "    * List with a **plural** word (*number**s***)\n",
    "    * Individual element with a **singular** word (*number*)"
   ]
  },
  {
   "cell_type": "code",
   "execution_count": 182,
   "metadata": {},
   "outputs": [
    {
     "name": "stdout",
     "output_type": "stream",
     "text": [
      "7\n",
      "6\n",
      "-1\n",
      "4\n"
     ]
    }
   ],
   "source": [
    "for number in numbers:\n",
    "    print(round(number))"
   ]
  },
  {
   "cell_type": "markdown",
   "metadata": {},
   "source": [
    "**Exercise**\n",
    "* Write a for loop to each element of `numbers` to be positive"
   ]
  },
  {
   "cell_type": "code",
   "execution_count": 183,
   "metadata": {},
   "outputs": [
    {
     "name": "stdout",
     "output_type": "stream",
     "text": [
      "True\n",
      "True\n",
      "False\n",
      "True\n"
     ]
    }
   ],
   "source": [
    "# Python code goes here\n",
    "for number in numbers:\n",
    "    print(number>0)"
   ]
  },
  {
   "cell_type": "markdown",
   "metadata": {},
   "source": [
    "### List comprehension\n",
    "* We cannot apply a function to a list\n",
    "* Fast alternative `[expression(item) for item in list]`\n"
   ]
  },
  {
   "cell_type": "code",
   "execution_count": 184,
   "metadata": {},
   "outputs": [
    {
     "name": "stdout",
     "output_type": "stream",
     "text": [
      "[7, 6, -1, 4]\n"
     ]
    }
   ],
   "source": [
    "# example: round all elements of a list\n",
    "rounded = [round(number) for number in numbers]\n",
    "print(rounded)"
   ]
  },
  {
   "cell_type": "markdown",
   "metadata": {},
   "source": [
    "**Exercise**\n",
    "* Write a list comprehension to check for all elements of `numbers` whether they are positive or not"
   ]
  },
  {
   "cell_type": "code",
   "execution_count": 185,
   "metadata": {},
   "outputs": [
    {
     "name": "stdout",
     "output_type": "stream",
     "text": [
      "[True, True, False, True]\n"
     ]
    }
   ],
   "source": [
    "# Python code goes here\n",
    "positive = [number>0 for number in numbers]\n",
    "print(positive)"
   ]
  },
  {
   "cell_type": "markdown",
   "metadata": {
    "jp-MarkdownHeadingCollapsed": true,
    "tags": []
   },
   "source": [
    "### *Calcuations with logicals"
   ]
  },
  {
   "cell_type": "markdown",
   "metadata": {
    "jp-MarkdownHeadingCollapsed": true,
    "tags": []
   },
   "source": [
    "* **Remember**  the `True` is `1` and `False` is `0`\n",
    "* Number of true observations: `sum(logical)`\n",
    "* Fraction of true observations: `mean(logical)`"
   ]
  },
  {
   "cell_type": "code",
   "execution_count": 186,
   "metadata": {},
   "outputs": [
    {
     "name": "stdout",
     "output_type": "stream",
     "text": [
      "3\n",
      "0.75\n"
     ]
    }
   ],
   "source": [
    "# Bonus\n",
    "print(sum(positive))\n",
    "import statistics\n",
    "print(statistics.mean(positive))"
   ]
  },
  {
   "cell_type": "markdown",
   "metadata": {},
   "source": [
    "## Dictionaries\n",
    "* Use for named fields\n",
    "* Often returned by APIs"
   ]
  },
  {
   "cell_type": "code",
   "execution_count": 187,
   "metadata": {},
   "outputs": [],
   "source": [
    "account = {'Name': 'Mr Algo', 'ALGO' : 100, 'USDt' : 50}"
   ]
  },
  {
   "cell_type": "code",
   "execution_count": 188,
   "metadata": {},
   "outputs": [
    {
     "data": {
      "text/plain": [
       "{'Name': 'Mr Algo', 'ALGO': 100, 'USDt': 50}"
      ]
     },
     "execution_count": 188,
     "metadata": {},
     "output_type": "execute_result"
    }
   ],
   "source": [
    "account"
   ]
  },
  {
   "cell_type": "code",
   "execution_count": 189,
   "metadata": {},
   "outputs": [
    {
     "data": {
      "text/plain": [
       "100"
      ]
     },
     "execution_count": 189,
     "metadata": {},
     "output_type": "execute_result"
    }
   ],
   "source": [
    "account['ALGO']"
   ]
  },
  {
   "cell_type": "markdown",
   "metadata": {
    "tags": []
   },
   "source": [
    "### List inside a dictionary"
   ]
  },
  {
   "cell_type": "code",
   "execution_count": 190,
   "metadata": {},
   "outputs": [],
   "source": [
    "account = {'Name': 'Mr Algo', 'transactions' : [50, 20, -5, -7]}"
   ]
  },
  {
   "cell_type": "code",
   "execution_count": 191,
   "metadata": {},
   "outputs": [
    {
     "data": {
      "text/plain": [
       "[50, 20, -5, -7]"
      ]
     },
     "execution_count": 191,
     "metadata": {},
     "output_type": "execute_result"
    }
   ],
   "source": [
    "account['transactions']"
   ]
  },
  {
   "cell_type": "code",
   "execution_count": 192,
   "metadata": {},
   "outputs": [
    {
     "data": {
      "text/plain": [
       "50"
      ]
     },
     "execution_count": 192,
     "metadata": {},
     "output_type": "execute_result"
    }
   ],
   "source": [
    "account['transactions'][0]"
   ]
  },
  {
   "cell_type": "markdown",
   "metadata": {},
   "source": [
    "**Exercise** For the dictionary below, obtain ...\n",
    "\n",
    "* The account number\n",
    "* The value of the last deposit\n",
    "* The sum of all deposits"
   ]
  },
  {
   "cell_type": "code",
   "execution_count": 193,
   "metadata": {},
   "outputs": [
    {
     "name": "stdout",
     "output_type": "stream",
     "text": [
      "1234567\n",
      "123.5\n",
      "264.7\n"
     ]
    }
   ],
   "source": [
    "# Python code goes here\n",
    "account = {'name': 'Mr Algo', 'id': 1234567, 'deposits' : [50.2, 72.1, 18.9, 123.5]}\n",
    "print(account['id'])\n",
    "print(account['deposits'][-1])\n",
    "print(sum(account['deposits']))"
   ]
  },
  {
   "cell_type": "markdown",
   "metadata": {
    "tags": []
   },
   "source": [
    "### *A complex list comprehension"
   ]
  },
  {
   "cell_type": "code",
   "execution_count": 194,
   "metadata": {},
   "outputs": [],
   "source": [
    "account = {'Name': myname, 'holdings' : [{'id' : 'ALGO', 'amount' : 100},{'id' : 'USDt', 'amount' : 50}]}"
   ]
  },
  {
   "cell_type": "code",
   "execution_count": 195,
   "metadata": {},
   "outputs": [
    {
     "data": {
      "text/plain": [
       "{'Name': 'insert your name',\n",
       " 'holdings': [{'id': 'ALGO', 'amount': 100}, {'id': 'USDt', 'amount': 50}]}"
      ]
     },
     "execution_count": 195,
     "metadata": {},
     "output_type": "execute_result"
    }
   ],
   "source": [
    "account"
   ]
  },
  {
   "cell_type": "code",
   "execution_count": 196,
   "metadata": {},
   "outputs": [
    {
     "data": {
      "text/plain": [
       "[{'id': 'ALGO', 'amount': 100}, {'id': 'USDt', 'amount': 50}]"
      ]
     },
     "execution_count": 196,
     "metadata": {},
     "output_type": "execute_result"
    }
   ],
   "source": [
    "account['holdings']"
   ]
  },
  {
   "cell_type": "code",
   "execution_count": 197,
   "metadata": {},
   "outputs": [
    {
     "data": {
      "text/plain": [
       "{'id': 'ALGO', 'amount': 100}"
      ]
     },
     "execution_count": 197,
     "metadata": {},
     "output_type": "execute_result"
    }
   ],
   "source": [
    "account['holdings'][0]"
   ]
  },
  {
   "cell_type": "code",
   "execution_count": 198,
   "metadata": {},
   "outputs": [
    {
     "data": {
      "text/plain": [
       "'ALGO'"
      ]
     },
     "execution_count": 198,
     "metadata": {},
     "output_type": "execute_result"
    }
   ],
   "source": [
    "account['holdings'][0]['id']"
   ]
  },
  {
   "cell_type": "code",
   "execution_count": 199,
   "metadata": {},
   "outputs": [
    {
     "name": "stdout",
     "output_type": "stream",
     "text": [
      "The account holds ALGO of 100.\n",
      "The account holds USDt of 50.\n"
     ]
    }
   ],
   "source": [
    "for coin in account['holdings']:\n",
    "    print(\"The account holds {} of {}.\".format(coin['id'],coin['amount']))"
   ]
  },
  {
   "cell_type": "code",
   "execution_count": 200,
   "metadata": {
    "tags": []
   },
   "outputs": [
    {
     "name": "stdout",
     "output_type": "stream",
     "text": [
      "The account holds 100 of ALGO.\n",
      "The account holds 50 of USDt.\n"
     ]
    }
   ],
   "source": [
    "for coin in account['holdings']:\n",
    "    print(\"The account holds {amount} of {id}.\".format(**coin))"
   ]
  },
  {
   "cell_type": "markdown",
   "metadata": {},
   "source": [
    "## Python Packages\n",
    "* Python functionality is extended using packages"
   ]
  },
  {
   "cell_type": "markdown",
   "metadata": {},
   "source": [
    "#### Import a package\n",
    "* To use the statistics package, we need to import it"
   ]
  },
  {
   "cell_type": "code",
   "execution_count": null,
   "metadata": {},
   "outputs": [],
   "source": [
    "import statistics"
   ]
  },
  {
   "cell_type": "code",
   "execution_count": null,
   "metadata": {},
   "outputs": [],
   "source": [
    "numbers = [7.2, 5.5, -1.2, 3.9]\n",
    "print(statistics.mean(numbers))"
   ]
  },
  {
   "cell_type": "markdown",
   "metadata": {},
   "source": [
    "#### Import a package and shorten the name"
   ]
  },
  {
   "cell_type": "code",
   "execution_count": 5,
   "metadata": {},
   "outputs": [],
   "source": [
    "import statistics as stat"
   ]
  },
  {
   "cell_type": "code",
   "execution_count": 6,
   "metadata": {},
   "outputs": [
    {
     "name": "stdout",
     "output_type": "stream",
     "text": [
      "3.85\n"
     ]
    }
   ],
   "source": [
    "numbers = [7.2, 5.5, -1.2, 3.9]\n",
    "print(stat.mean(numbers))"
   ]
  },
  {
   "cell_type": "markdown",
   "metadata": {},
   "source": [
    "#### Import a function from a package\n",
    "* Use the function without the `package.`"
   ]
  },
  {
   "cell_type": "code",
   "execution_count": 7,
   "metadata": {},
   "outputs": [],
   "source": [
    "from statistics import mean"
   ]
  },
  {
   "cell_type": "code",
   "execution_count": 8,
   "metadata": {},
   "outputs": [
    {
     "name": "stdout",
     "output_type": "stream",
     "text": [
      "3.85\n"
     ]
    }
   ],
   "source": [
    "numbers = [7.2, 5.5, -1.2, 3.9]\n",
    "print(mean(numbers))"
   ]
  },
  {
   "cell_type": "markdown",
   "metadata": {
    "tags": []
   },
   "source": [
    "#### ❗️Install a package (only once)\n",
    "* Install the Pandas package for dataframes"
   ]
  },
  {
   "cell_type": "markdown",
   "metadata": {},
   "source": [
    "!pip install pandas"
   ]
  }
 ],
 "metadata": {
  "kernelspec": {
   "display_name": "Python 3 (ipykernel)",
   "language": "python",
   "name": "python3"
  },
  "language_info": {
   "codemirror_mode": {
    "name": "ipython",
    "version": 3
   },
   "file_extension": ".py",
   "mimetype": "text/x-python",
   "name": "python",
   "nbconvert_exporter": "python",
   "pygments_lexer": "ipython3",
   "version": "3.9.13"
  }
 },
 "nbformat": 4,
 "nbformat_minor": 4
}
