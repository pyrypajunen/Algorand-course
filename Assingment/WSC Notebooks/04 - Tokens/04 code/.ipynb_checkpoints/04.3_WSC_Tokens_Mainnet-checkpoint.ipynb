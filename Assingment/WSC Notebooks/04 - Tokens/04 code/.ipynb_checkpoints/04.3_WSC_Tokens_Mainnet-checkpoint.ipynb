{
 "cells": [
  {
   "cell_type": "markdown",
   "metadata": {},
   "source": [
    "## Create a Token on the Algorand Blockchain\n",
    "#### 04.3 Winter School on Smart Contracts\n",
    "##### Peter Gruber (peter.gruber@usi.ch)\n",
    "2021-11-28\n",
    "\n",
    "* Create an ASA token\n",
    "* Transfer an ASA token\n",
    "* Information about token holdings"
   ]
  },
  {
   "cell_type": "markdown",
   "metadata": {
    "tags": []
   },
   "source": [
    "### Setup\n",
    "See notebook 04.1, the lines below will always automatically load functions in `algo_util.py`, the five accounts and the Purestake credentials"
   ]
  },
  {
   "cell_type": "code",
   "execution_count": 1,
   "metadata": {},
   "outputs": [],
   "source": [
    "# Loading shared code and credentials\n",
    "import sys, os\n",
    "codepath = '..'+os.path.sep+'..'+os.path.sep+'sharedCode'\n",
    "sys.path.append(codepath)\n",
    "from algo_util import *\n",
    "cred = load_credentials()\n",
    "\n",
    "# Shortcuts to directly access the 5 main accounts\n",
    "MyAlgo  = cred['MyAlgo']\n",
    "Alice   = cred['Alice']\n",
    "Bob     = cred['Bob']\n",
    "Charlie = cred['Charlie']\n",
    "Dina    = cred['Dina']"
   ]
  },
  {
   "cell_type": "code",
   "execution_count": 2,
   "metadata": {},
   "outputs": [],
   "source": [
    "from algosdk import account, mnemonic\n",
    "from algosdk.v2client import algod\n",
    "from algosdk.transaction import PaymentTxn\n",
    "from algosdk.transaction import AssetConfigTxn, AssetTransferTxn, AssetFreezeTxn\n",
    "import algosdk.error\n",
    "import json"
   ]
  },
  {
   "cell_type": "code",
   "execution_count": 3,
   "metadata": {},
   "outputs": [
    {
     "data": {
      "text/plain": [
       "27737466"
      ]
     },
     "execution_count": 3,
     "metadata": {},
     "output_type": "execute_result"
    }
   ],
   "source": [
    "# Initialize the algod client (Testnet or Mainnet)\n",
    "algod_client = algod.AlgodClient(algod_token='', algod_address=cred['algod_test'], headers=cred['purestake_token'])\n",
    "algod_client.status()['last-round']"
   ]
  },
  {
   "cell_type": "markdown",
   "metadata": {},
   "source": [
    "## Create an ASA = Algorand Standard Asset\n",
    "\n",
    "This is our first token. The account MyAlgo will create an asset called `WSC Coin`. "
   ]
  },
  {
   "cell_type": "markdown",
   "metadata": {},
   "source": [
    "### Step 1: Prepare\n",
    "* Remember that tokens are divisible\n",
    "* We choose 2 decimals\n",
    "    * Our token can be divided into units as small as $\\frac{1}{10^2} = \\frac{1}{100} = 0.01$\n",
    "* To create 1000 tokens, we must create $1000 \\cdot 10^2$ *small units*"
   ]
  },
  {
   "cell_type": "code",
   "execution_count": 4,
   "metadata": {},
   "outputs": [
    {
     "name": "stdout",
     "output_type": "stream",
     "text": [
      "100000\n"
     ]
    }
   ],
   "source": [
    "sp = algod_client.suggested_params()\n",
    "token_supply = 1000                              # Token supply (big units)\n",
    "token_decimals =  2                              # Digits after the comma\n",
    "token_total = token_supply * 10**token_decimals  # Specify number of SMALLER unit (\"cents\")\n",
    "print(token_total)\n",
    "\n",
    "token_name  = \"The main WSC coin\"                  # <----- YOUR NAME HERE\n",
    "token_url   = \"www.usi.ch/wsc\"                   # <----- CHANGE if you want to\n",
    "token_unit  = \"WSCM\"                              # Abbreviation, e.g. shown in Algorand Wallet app  "
   ]
  },
  {
   "cell_type": "markdown",
   "metadata": {},
   "source": [
    "### Step 2: Asset creation transaction\n",
    "New type of transaction, the `AssetConfigTxn`"
   ]
  },
  {
   "cell_type": "markdown",
   "metadata": {},
   "source": [
    "During creation, we need to assign the following roles, which we will use later ...\n",
    "\n",
    "* **Manager:** can change the the follwoing roles and can destroy the asset\n",
    "* **Reserve:** where not yet distributed assets reside (informational)\n",
    "* **Freeze:** can freeze assets (e.g. to wait for KYC)\n",
    "* **Clawback:** can undo transactions\n",
    "\n",
    "See https://developer.algorand.org/docs/features/asa/ "
   ]
  },
  {
   "cell_type": "code",
   "execution_count": 5,
   "metadata": {},
   "outputs": [
    {
     "name": "stdout",
     "output_type": "stream",
     "text": [
      "{'sender': '33SG2MXXXQHP2ZMJUJ2DRKLRKTZ7DJBGKHFREPYCE3RXCUPYRL2LN57BSA', 'fee': 1000, 'first_valid_round': 27734224, 'last_valid_round': 27735224, 'note': None, 'genesis_id': 'testnet-v1.0', 'genesis_hash': 'SGO1GKSzyE7IEPItTxCByw9x8FmnrCDexi9/cOUJOiI=', 'group': None, 'lease': None, 'type': 'acfg', 'rekey_to': None, 'index': 0, 'total': 100000, 'default_frozen': False, 'unit_name': 'WSC', 'asset_name': 'Peters WSC coin', 'manager': 'GFJ3O3QBJ4H3KPXYA4MFTTDA7TMEPZXAEUHCSF3J6GEDAXMML4A55KYSL4', 'reserve': 'GFJ3O3QBJ4H3KPXYA4MFTTDA7TMEPZXAEUHCSF3J6GEDAXMML4A55KYSL4', 'freeze': 'MB4W4II5EEZ7VA5RGS74BTND5CMYDXMUHGRJ42HQYOSMDJZ23ZPIUWRRKM', 'clawback': 'MB4W4II5EEZ7VA5RGS74BTND5CMYDXMUHGRJ42HQYOSMDJZ23ZPIUWRRKM', 'url': 'www.usi.ch/wsc', 'metadata_hash': None, 'decimals': 2}\n"
     ]
    }
   ],
   "source": [
    "txn = AssetConfigTxn(\n",
    "    sender=MyAlgo['public'],                   # Creator of the ASA\n",
    "    sp=sp,                      \n",
    "    total=token_total,                         # Total supply in SMALL unit\n",
    "    decimals=token_decimals,                   # Decimals\n",
    "    default_frozen=False,                      # Are tokens frozen by default?\n",
    "    unit_name=token_unit,                      # Abbreviation     \n",
    "    asset_name=token_name,                     # Name\n",
    "    url=token_url,                             # URL\n",
    "    manager=MyAlgo['public'],                   # Special roles (later more)\n",
    "    reserve=MyAlgo['public'],                   # Special roles\n",
    "    freeze=Bob['public'],                      # Special roles\n",
    "    clawback=Bob['public']                     # Special roles\n",
    ")\n",
    "print(txn)"
   ]
  },
  {
   "cell_type": "markdown",
   "metadata": {},
   "source": [
    "### Step 3: Sign and send"
   ]
  },
  {
   "cell_type": "code",
   "execution_count": 6,
   "metadata": {},
   "outputs": [
    {
     "name": "stdout",
     "output_type": "stream",
     "text": [
      "GOP4XV2OHQFVRZRBVSSQQX3MSC4AHUZNY64RYBYEU37FRLQVAQ5A\n"
     ]
    }
   ],
   "source": [
    "stxn = txn.sign(MyAlgo['private'])             # Sign\n",
    "txid = algod_client.send_transaction(stxn)     # Send\n",
    "print(txid)"
   ]
  },
  {
   "cell_type": "markdown",
   "metadata": {},
   "source": [
    "### Step 4: Wait for confirmation"
   ]
  },
  {
   "cell_type": "code",
   "execution_count": 7,
   "metadata": {},
   "outputs": [
    {
     "name": "stdout",
     "output_type": "stream",
     "text": [
      "Current round is  27734226.\n",
      "Waiting for round 27734226 to finish.\n",
      "Waiting for round 27734227 to finish.\n",
      "Transaction GOP4XV2OHQFVRZRBVSSQQX3MSC4AHUZNY64RYBYEU37FRLQVAQ5A confirmed in round 27734228.\n"
     ]
    }
   ],
   "source": [
    "# Wait for the transaction to be confirmed\n",
    "txinfo = wait_for_confirmation(algod_client,txid)"
   ]
  },
  {
   "cell_type": "markdown",
   "metadata": {},
   "source": [
    "### Step 5a: Asset index and information\n",
    "The asset's index is automatically created when the transaction is processed"
   ]
  },
  {
   "cell_type": "code",
   "execution_count": 8,
   "metadata": {},
   "outputs": [
    {
     "name": "stdout",
     "output_type": "stream",
     "text": [
      "{'asset-index': 159189398, 'confirmed-round': 27734228, 'pool-error': '', 'txn': {'sig': 'zVrqndWDfMhjlUgBYv1c6SK4ENDXaxqvSMd+rVgMib2EE16hpMKzxV9oXikaaJnz3+p8Ue7xWXuqKqpA7EJLAA==', 'txn': {'apar': {'an': 'Peters WSC coin', 'au': 'www.usi.ch/wsc', 'c': 'MB4W4II5EEZ7VA5RGS74BTND5CMYDXMUHGRJ42HQYOSMDJZ23ZPIUWRRKM', 'dc': 2, 'f': 'MB4W4II5EEZ7VA5RGS74BTND5CMYDXMUHGRJ42HQYOSMDJZ23ZPIUWRRKM', 'm': 'GFJ3O3QBJ4H3KPXYA4MFTTDA7TMEPZXAEUHCSF3J6GEDAXMML4A55KYSL4', 'r': 'GFJ3O3QBJ4H3KPXYA4MFTTDA7TMEPZXAEUHCSF3J6GEDAXMML4A55KYSL4', 't': 100000, 'un': 'WSC'}, 'fee': 1000, 'fv': 27734224, 'gen': 'testnet-v1.0', 'gh': 'SGO1GKSzyE7IEPItTxCByw9x8FmnrCDexi9/cOUJOiI=', 'lv': 27735224, 'snd': '33SG2MXXXQHP2ZMJUJ2DRKLRKTZ7DJBGKHFREPYCE3RXCUPYRL2LN57BSA', 'type': 'acfg'}}}\n"
     ]
    }
   ],
   "source": [
    "print(txinfo)"
   ]
  },
  {
   "cell_type": "code",
   "execution_count": 9,
   "metadata": {},
   "outputs": [
    {
     "name": "stdout",
     "output_type": "stream",
     "text": [
      "159189398\n",
      "https://testnet.algoexplorer.io/asset/159189398\n"
     ]
    }
   ],
   "source": [
    "# Get the asset ID and open in Algoexplorer\n",
    "WSC_id = txinfo['asset-index']\n",
    "print(WSC_id)\n",
    "print('https://testnet.algoexplorer.io/asset/{}'.format(WSC_id))"
   ]
  },
  {
   "cell_type": "markdown",
   "metadata": {},
   "source": [
    "#### Step 5b: Asset holdings in the wallet app\n",
    "**CHECK** your wallet app, where the holdings of WSC will already have shown up."
   ]
  },
  {
   "cell_type": "code",
   "execution_count": 10,
   "metadata": {},
   "outputs": [
    {
     "data": {
      "text/plain": [
       "[{'index': 159159432,\n",
       "  'params': {'clawback': 'MB4W4II5EEZ7VA5RGS74BTND5CMYDXMUHGRJ42HQYOSMDJZ23ZPIUWRRKM',\n",
       "   'creator': '33SG2MXXXQHP2ZMJUJ2DRKLRKTZ7DJBGKHFREPYCE3RXCUPYRL2LN57BSA',\n",
       "   'decimals': 2,\n",
       "   'default-frozen': False,\n",
       "   'freeze': 'MB4W4II5EEZ7VA5RGS74BTND5CMYDXMUHGRJ42HQYOSMDJZ23ZPIUWRRKM',\n",
       "   'manager': 'GFJ3O3QBJ4H3KPXYA4MFTTDA7TMEPZXAEUHCSF3J6GEDAXMML4A55KYSL4',\n",
       "   'name': 'Husky Token',\n",
       "   'name-b64': 'SHVza3kgVG9rZW4=',\n",
       "   'reserve': 'GFJ3O3QBJ4H3KPXYA4MFTTDA7TMEPZXAEUHCSF3J6GEDAXMML4A55KYSL4',\n",
       "   'total': 100000,\n",
       "   'unit-name': 'HUSKEN',\n",
       "   'unit-name-b64': 'SFVTS0VO',\n",
       "   'url': 'www.usi.ch/wsc',\n",
       "   'url-b64': 'd3d3LnVzaS5jaC93c2M='}},\n",
       " {'index': 159171974,\n",
       "  'params': {'clawback': 'MB4W4II5EEZ7VA5RGS74BTND5CMYDXMUHGRJ42HQYOSMDJZ23ZPIUWRRKM',\n",
       "   'creator': '33SG2MXXXQHP2ZMJUJ2DRKLRKTZ7DJBGKHFREPYCE3RXCUPYRL2LN57BSA',\n",
       "   'decimals': 2,\n",
       "   'default-frozen': False,\n",
       "   'freeze': 'MB4W4II5EEZ7VA5RGS74BTND5CMYDXMUHGRJ42HQYOSMDJZ23ZPIUWRRKM',\n",
       "   'manager': 'GFJ3O3QBJ4H3KPXYA4MFTTDA7TMEPZXAEUHCSF3J6GEDAXMML4A55KYSL4',\n",
       "   'name': 'Beer Coin',\n",
       "   'name-b64': 'QmVlciBDb2lu',\n",
       "   'reserve': 'GFJ3O3QBJ4H3KPXYA4MFTTDA7TMEPZXAEUHCSF3J6GEDAXMML4A55KYSL4',\n",
       "   'total': 1000000000000,\n",
       "   'unit-name': 'Beer',\n",
       "   'unit-name-b64': 'QmVlcg==',\n",
       "   'url': 'www.usi.ch/wsc',\n",
       "   'url-b64': 'd3d3LnVzaS5jaC93c2M='}},\n",
       " {'index': 159173248,\n",
       "  'params': {'clawback': 'OH6I6P7ZFKG6I5BBHB7R6C7BLKVCRAJUV5QTR3BZQZINPLXTWD3B4MVEKA',\n",
       "   'creator': '33SG2MXXXQHP2ZMJUJ2DRKLRKTZ7DJBGKHFREPYCE3RXCUPYRL2LN57BSA',\n",
       "   'decimals': 1,\n",
       "   'default-frozen': False,\n",
       "   'freeze': 'ZFTSGNBBFDH544IDUVB7S4B67CX6PJL6MMFJYT3GGDH2GWJ4N7H6VKRU2Y',\n",
       "   'manager': 'GFJ3O3QBJ4H3KPXYA4MFTTDA7TMEPZXAEUHCSF3J6GEDAXMML4A55KYSL4',\n",
       "   'name': 'Peters Tempcoin',\n",
       "   'name-b64': 'UGV0ZXJzIFRlbXBjb2lu',\n",
       "   'reserve': 'MB4W4II5EEZ7VA5RGS74BTND5CMYDXMUHGRJ42HQYOSMDJZ23ZPIUWRRKM',\n",
       "   'total': 1000,\n",
       "   'unit-name': 'TEMP',\n",
       "   'unit-name-b64': 'VEVNUA==',\n",
       "   'url': 'en.wikipedia.org/wiki/Temporary',\n",
       "   'url-b64': 'ZW4ud2lraXBlZGlhLm9yZy93aWtpL1RlbXBvcmFyeQ=='}},\n",
       " {'index': 159173545,\n",
       "  'params': {'clawback': 'OH6I6P7ZFKG6I5BBHB7R6C7BLKVCRAJUV5QTR3BZQZINPLXTWD3B4MVEKA',\n",
       "   'creator': '33SG2MXXXQHP2ZMJUJ2DRKLRKTZ7DJBGKHFREPYCE3RXCUPYRL2LN57BSA',\n",
       "   'decimals': 1,\n",
       "   'default-frozen': False,\n",
       "   'freeze': 'ZFTSGNBBFDH544IDUVB7S4B67CX6PJL6MMFJYT3GGDH2GWJ4N7H6VKRU2Y',\n",
       "   'manager': 'GFJ3O3QBJ4H3KPXYA4MFTTDA7TMEPZXAEUHCSF3J6GEDAXMML4A55KYSL4',\n",
       "   'name': 'Pyrys Tempcoin',\n",
       "   'name-b64': 'UHlyeXMgVGVtcGNvaW4=',\n",
       "   'reserve': 'MB4W4II5EEZ7VA5RGS74BTND5CMYDXMUHGRJ42HQYOSMDJZ23ZPIUWRRKM',\n",
       "   'total': 1000,\n",
       "   'unit-name': 'TEMPYRY',\n",
       "   'unit-name-b64': 'VEVNUFlSWQ==',\n",
       "   'url': 'en.wikipedia.org/wiki/Temporary',\n",
       "   'url-b64': 'ZW4ud2lraXBlZGlhLm9yZy93aWtpL1RlbXBvcmFyeQ=='}},\n",
       " {'index': 159173586,\n",
       "  'params': {'clawback': 'GFJ3O3QBJ4H3KPXYA4MFTTDA7TMEPZXAEUHCSF3J6GEDAXMML4A55KYSL4',\n",
       "   'creator': '33SG2MXXXQHP2ZMJUJ2DRKLRKTZ7DJBGKHFREPYCE3RXCUPYRL2LN57BSA',\n",
       "   'decimals': 1,\n",
       "   'default-frozen': False,\n",
       "   'freeze': 'ZFTSGNBBFDH544IDUVB7S4B67CX6PJL6MMFJYT3GGDH2GWJ4N7H6VKRU2Y',\n",
       "   'manager': 'GFJ3O3QBJ4H3KPXYA4MFTTDA7TMEPZXAEUHCSF3J6GEDAXMML4A55KYSL4',\n",
       "   'name': 'Pyrys Tempcoin',\n",
       "   'name-b64': 'UHlyeXMgVGVtcGNvaW4=',\n",
       "   'reserve': 'MB4W4II5EEZ7VA5RGS74BTND5CMYDXMUHGRJ42HQYOSMDJZ23ZPIUWRRKM',\n",
       "   'total': 1000,\n",
       "   'unit-name': 'TEMPYRY',\n",
       "   'unit-name-b64': 'VEVNUFlSWQ==',\n",
       "   'url': 'en.wikipedia.org/wiki/Temporaryy',\n",
       "   'url-b64': 'ZW4ud2lraXBlZGlhLm9yZy93aWtpL1RlbXBvcmFyeXk='}},\n",
       " {'index': 159189398,\n",
       "  'params': {'clawback': 'MB4W4II5EEZ7VA5RGS74BTND5CMYDXMUHGRJ42HQYOSMDJZ23ZPIUWRRKM',\n",
       "   'creator': '33SG2MXXXQHP2ZMJUJ2DRKLRKTZ7DJBGKHFREPYCE3RXCUPYRL2LN57BSA',\n",
       "   'decimals': 2,\n",
       "   'default-frozen': False,\n",
       "   'freeze': 'MB4W4II5EEZ7VA5RGS74BTND5CMYDXMUHGRJ42HQYOSMDJZ23ZPIUWRRKM',\n",
       "   'manager': 'GFJ3O3QBJ4H3KPXYA4MFTTDA7TMEPZXAEUHCSF3J6GEDAXMML4A55KYSL4',\n",
       "   'name': 'Peters WSC coin',\n",
       "   'name-b64': 'UGV0ZXJzIFdTQyBjb2lu',\n",
       "   'reserve': 'GFJ3O3QBJ4H3KPXYA4MFTTDA7TMEPZXAEUHCSF3J6GEDAXMML4A55KYSL4',\n",
       "   'total': 100000,\n",
       "   'unit-name': 'WSC',\n",
       "   'unit-name-b64': 'V1ND',\n",
       "   'url': 'www.usi.ch/wsc',\n",
       "   'url-b64': 'd3d3LnVzaS5jaC93c2M='}}]"
      ]
     },
     "execution_count": 10,
     "metadata": {},
     "output_type": "execute_result"
    }
   ],
   "source": [
    "# We can also check the assets that we have created\n",
    "account_info = algod_client.account_info(MyAlgo['public'])\n",
    "json_str = json.dumps(account_info['created-assets'])\n",
    "json.loads(json_str)"
   ]
  },
  {
   "cell_type": "markdown",
   "metadata": {},
   "source": [
    "## Transfer coins\n",
    "In this section we will transfer coins ...\n",
    "* Manually to Alice\n",
    "* Using Python to Bob"
   ]
  },
  {
   "cell_type": "markdown",
   "metadata": {},
   "source": [
    "### Manual transfer to Alice\n",
    "* Alice has to opt-in\n",
    "    * Tap on `Alice` > Tap on green `+` next to \"Assets\" > Find name or asset ID on list > Tap on `+` >  Approve transaction\n",
    "* Now you can send 10 WSC via QR code or copy-paste\n",
    "* To send **your** WSC to your neigbhor, she has to opt into **your** WSC coin!"
   ]
  },
  {
   "cell_type": "markdown",
   "metadata": {},
   "source": [
    "### Exercise: Python transfer to Bob \n",
    "* `MyAlgo` transfers 10 WSC coins to `Bob`\n",
    "* Remember that transfers of tokens (ASA) are performed with `AssetTransferTxn()` and not with `PaymentTxn()`\n",
    "* Also, do not forget the ..."
   ]
  },
  {
   "cell_type": "code",
   "execution_count": 11,
   "metadata": {},
   "outputs": [
    {
     "name": "stdout",
     "output_type": "stream",
     "text": [
      "Current round is  27734228.\n",
      "Waiting for round 27734228 to finish.\n",
      "Waiting for round 27734229 to finish.\n",
      "Transaction LTCPUB5WP2JQ6JP5JL7D6L26JDCDGJCKGSZS7JEJL2OSH6FCGKMA confirmed in round 27734230.\n"
     ]
    }
   ],
   "source": [
    "# Your Python code goes here ...\n",
    "# Opt-in for Bob\n",
    "\n",
    "# Step 1: prepare and create TX\n",
    "sp = algod_client.suggested_params()             # Suggested params\n",
    "amt = int(0)                                     # <-- Send 0 token\n",
    "\n",
    "txn = AssetTransferTxn(\n",
    "    sender=Bob['public'],\n",
    "    sp=sp,\n",
    "    receiver=Bob['public'],\n",
    "    amt=amt,\n",
    "    index=WSC_id\n",
    "    )                \n",
    "\n",
    "# Step 2+3: sign + send\n",
    "signed_txn = txn.sign(Bob['private'])\n",
    "txid = algod_client.send_transaction(signed_txn)\n",
    "    \n",
    "# Step 4: Wait for confirmation\n",
    "txinfo = wait_for_confirmation(algod_client,txid)"
   ]
  },
  {
   "cell_type": "code",
   "execution_count": 12,
   "metadata": {},
   "outputs": [
    {
     "name": "stdout",
     "output_type": "stream",
     "text": [
      "Current round is  27734230.\n",
      "Waiting for round 27734230 to finish.\n",
      "Waiting for round 27734231 to finish.\n",
      "Transaction S7KJB4ENMH7XL4YH4CZPHY5TS73E2TA2ZG2EQIOTXAJROCQMZNUQ confirmed in round 27734232.\n"
     ]
    }
   ],
   "source": [
    "# More Python code may go here ...\n",
    "# More Python code may go here ...\n",
    "# Transfer to Bob\n",
    "\n",
    "# Step 1: prepare and create TX\n",
    "sp = algod_client.suggested_params()             # Suggested params\n",
    "amt = int(10 * 10**token_decimals)               # <-- Send 10 WSC ... specify SMALL units\n",
    "\n",
    "txn = AssetTransferTxn(\n",
    "    sender=MyAlgo['public'],\n",
    "    sp=sp,\n",
    "    receiver=Bob['public'],\n",
    "    amt=amt,\n",
    "    index=WSC_id\n",
    "    )                \n",
    "\n",
    "# Step 2+3: sign + send\n",
    "signed_txn = txn.sign(MyAlgo['private'])\n",
    "txid = algod_client.send_transaction(signed_txn)\n",
    "    \n",
    "# Step 4: Wait for confirmation\n",
    "txinfo = wait_for_confirmation(algod_client,txid)"
   ]
  },
  {
   "cell_type": "markdown",
   "metadata": {},
   "source": [
    "## Appendix: Get (more/better) information\n",
    "* Better overview of **all** holdings of one account\n",
    "* `asset_holdings_df` that produces a nice list of all the asset holdings of an address\n",
    "* It is part of `algo_util.py` "
   ]
  },
  {
   "cell_type": "code",
   "execution_count": 13,
   "metadata": {
    "tags": []
   },
   "outputs": [
    {
     "data": {
      "text/plain": [
       "[{'amount': 2.383,\n",
       "  'unit': 'ALGO',\n",
       "  'asset-id': 0,\n",
       "  'name': 'Algorand',\n",
       "  'decimals': 6},\n",
       " {'amount': 20.0,\n",
       "  'unit': 'USDC',\n",
       "  'asset-id': 10458941,\n",
       "  'name': 'USDC',\n",
       "  'decimals': 6},\n",
       " {'amount': 30100020.0,\n",
       "  'unit': 'Beer',\n",
       "  'asset-id': 159171974,\n",
       "  'name': 'Beer Coin',\n",
       "  'decimals': 2},\n",
       " {'amount': 83.3,\n",
       "  'unit': 'TEMP',\n",
       "  'asset-id': 159173248,\n",
       "  'name': 'Peters Tempcoin',\n",
       "  'decimals': 1},\n",
       " {'amount': 8.3,\n",
       "  'unit': 'TEMPYRY',\n",
       "  'asset-id': 159173586,\n",
       "  'name': 'Pyrys Tempcoin',\n",
       "  'decimals': 1},\n",
       " {'amount': 10.0,\n",
       "  'unit': 'WSC',\n",
       "  'asset-id': 159189398,\n",
       "  'name': 'Peters WSC coin',\n",
       "  'decimals': 2}]"
      ]
     },
     "execution_count": 13,
     "metadata": {},
     "output_type": "execute_result"
    }
   ],
   "source": [
    "asset_holdings(algod_client,Bob['public'])"
   ]
  },
  {
   "cell_type": "markdown",
   "metadata": {},
   "source": [
    "### Account info\n",
    "* Information about an **account**\n",
    "* Obtain ALGOs with `'amount'`\n",
    "* Obtain all other tokens with `'assets'`"
   ]
  },
  {
   "cell_type": "code",
   "execution_count": 14,
   "metadata": {},
   "outputs": [
    {
     "data": {
      "text/plain": [
       "{'address': 'MB4W4II5EEZ7VA5RGS74BTND5CMYDXMUHGRJ42HQYOSMDJZ23ZPIUWRRKM',\n",
       " 'amount': 2383000,\n",
       " 'amount-without-pending-rewards': 2383000,\n",
       " 'apps-local-state': [],\n",
       " 'apps-total-schema': {'num-byte-slice': 0, 'num-uint': 0},\n",
       " 'assets': [{'amount': 20000000, 'asset-id': 10458941, 'is-frozen': False},\n",
       "  {'amount': 3010002000, 'asset-id': 159171974, 'is-frozen': False},\n",
       "  {'amount': 833, 'asset-id': 159173248, 'is-frozen': False},\n",
       "  {'amount': 83, 'asset-id': 159173586, 'is-frozen': True},\n",
       "  {'amount': 1000, 'asset-id': 159189398, 'is-frozen': False}],\n",
       " 'created-apps': [],\n",
       " 'created-assets': [],\n",
       " 'min-balance': 600000,\n",
       " 'pending-rewards': 0,\n",
       " 'reward-base': 27521,\n",
       " 'rewards': 0,\n",
       " 'round': 27734232,\n",
       " 'status': 'Offline',\n",
       " 'total-apps-opted-in': 0,\n",
       " 'total-assets-opted-in': 5,\n",
       " 'total-created-apps': 0,\n",
       " 'total-created-assets': 0}"
      ]
     },
     "execution_count": 14,
     "metadata": {},
     "output_type": "execute_result"
    }
   ],
   "source": [
    "account_info = algod_client.account_info(Bob['public'])\n",
    "account_info"
   ]
  },
  {
   "cell_type": "code",
   "execution_count": 15,
   "metadata": {},
   "outputs": [
    {
     "name": "stdout",
     "output_type": "stream",
     "text": [
      "2383000\n",
      "2.383\n"
     ]
    }
   ],
   "source": [
    "print(account_info['amount'])         # micro Algos\n",
    "print(account_info['amount']/1E6)     # Algos"
   ]
  },
  {
   "cell_type": "code",
   "execution_count": 16,
   "metadata": {},
   "outputs": [
    {
     "data": {
      "text/plain": [
       "[{'amount': 20000000, 'asset-id': 10458941, 'is-frozen': False},\n",
       " {'amount': 3010002000, 'asset-id': 159171974, 'is-frozen': False},\n",
       " {'amount': 833, 'asset-id': 159173248, 'is-frozen': False},\n",
       " {'amount': 83, 'asset-id': 159173586, 'is-frozen': True},\n",
       " {'amount': 1000, 'asset-id': 159189398, 'is-frozen': False}]"
      ]
     },
     "execution_count": 16,
     "metadata": {},
     "output_type": "execute_result"
    }
   ],
   "source": [
    "account_info['assets']                # All ASA"
   ]
  },
  {
   "cell_type": "markdown",
   "metadata": {},
   "source": [
    "### Asset Info\n",
    "* Information about a specific **asset**\n",
    "* Specially useful is the `'decimals'`"
   ]
  },
  {
   "cell_type": "code",
   "execution_count": 17,
   "metadata": {},
   "outputs": [
    {
     "data": {
      "text/plain": [
       "{'index': 159189398,\n",
       " 'params': {'clawback': 'MB4W4II5EEZ7VA5RGS74BTND5CMYDXMUHGRJ42HQYOSMDJZ23ZPIUWRRKM',\n",
       "  'creator': '33SG2MXXXQHP2ZMJUJ2DRKLRKTZ7DJBGKHFREPYCE3RXCUPYRL2LN57BSA',\n",
       "  'decimals': 2,\n",
       "  'default-frozen': False,\n",
       "  'freeze': 'MB4W4II5EEZ7VA5RGS74BTND5CMYDXMUHGRJ42HQYOSMDJZ23ZPIUWRRKM',\n",
       "  'manager': 'GFJ3O3QBJ4H3KPXYA4MFTTDA7TMEPZXAEUHCSF3J6GEDAXMML4A55KYSL4',\n",
       "  'name': 'Peters WSC coin',\n",
       "  'name-b64': 'UGV0ZXJzIFdTQyBjb2lu',\n",
       "  'reserve': 'GFJ3O3QBJ4H3KPXYA4MFTTDA7TMEPZXAEUHCSF3J6GEDAXMML4A55KYSL4',\n",
       "  'total': 100000,\n",
       "  'unit-name': 'WSC',\n",
       "  'unit-name-b64': 'V1ND',\n",
       "  'url': 'www.usi.ch/wsc',\n",
       "  'url-b64': 'd3d3LnVzaS5jaC93c2M='}}"
      ]
     },
     "execution_count": 17,
     "metadata": {},
     "output_type": "execute_result"
    }
   ],
   "source": [
    "asset_info = algod_client.asset_info(WSC_id)\n",
    "asset_info"
   ]
  },
  {
   "cell_type": "code",
   "execution_count": 18,
   "metadata": {},
   "outputs": [
    {
     "name": "stdout",
     "output_type": "stream",
     "text": [
      "2\n",
      "WSC\n"
     ]
    }
   ],
   "source": [
    "# Useful fields\n",
    "print(asset_info['params']['decimals'])\n",
    "print(asset_info['params']['unit-name'])"
   ]
  },
  {
   "cell_type": "markdown",
   "metadata": {},
   "source": [
    "### Putting it together\n",
    "* Crate a Python list with all relevant holdings of an account"
   ]
  },
  {
   "cell_type": "code",
   "execution_count": 19,
   "metadata": {},
   "outputs": [
    {
     "data": {
      "text/plain": [
       "[{'amount': 2.383, 'unit': 'ALGO', 'asset-id': 0, 'name': 'Algorand'},\n",
       " {'amount': 20.0, 'unit': 'USDC', 'asset-id': 10458941, 'name': 'USDC'},\n",
       " {'amount': 30100020.0,\n",
       "  'unit': 'Beer',\n",
       "  'asset-id': 159171974,\n",
       "  'name': 'Beer Coin'},\n",
       " {'amount': 83.3,\n",
       "  'unit': 'TEMP',\n",
       "  'asset-id': 159173248,\n",
       "  'name': 'Peters Tempcoin'},\n",
       " {'amount': 8.3,\n",
       "  'unit': 'TEMPYRY',\n",
       "  'asset-id': 159173586,\n",
       "  'name': 'Pyrys Tempcoin'},\n",
       " {'amount': 10.0,\n",
       "  'unit': 'WSC',\n",
       "  'asset-id': 159189398,\n",
       "  'name': 'Peters WSC coin'}]"
      ]
     },
     "execution_count": 19,
     "metadata": {},
     "output_type": "execute_result"
    }
   ],
   "source": [
    "info = []\n",
    "# Algo part\n",
    "info.append( {'amount':  account_info['amount']/1E6, 'unit' :   'ALGO', 'asset-id': 0, 'name': 'Algorand' } )\n",
    "# ASA part\n",
    "assets = account_info['assets']\n",
    "for asset in assets:\n",
    "    asset_id     = asset['asset-id']\n",
    "    asset_info   = algod_client.asset_info(asset_id)                         # Get all info\n",
    "    asset_amount = asset['amount']/10**asset_info['params']['decimals']      # convert to BIG units\n",
    "    info.append( {'amount':  asset_amount,\n",
    "                  'unit' :   asset_info['params'].get('unit-name'),\n",
    "                  'asset-id':asset_id,\n",
    "                  'name':    asset_info['params'].get('name')\n",
    "                  } )\n",
    "\n",
    "info"
   ]
  },
  {
   "cell_type": "markdown",
   "metadata": {},
   "source": [
    "### Packaging as a function and creating a data.frame\n",
    "* `asset_holdings()` returns a list\n",
    "* `asset_holdings_df()` returns a pandas data frame\n",
    "\n",
    "Both functions are part of `algo_util.py`."
   ]
  },
  {
   "cell_type": "code",
   "execution_count": 20,
   "metadata": {},
   "outputs": [],
   "source": [
    "def asset_holdings(algod_client, public):\n",
    "    # client = algosdk client\n",
    "    # public = public address to be analyzed\n",
    "\n",
    "    import pandas as pd\n",
    "    from algosdk.v2client import algod\n",
    "    account_info = algod_client.account_info(public)\n",
    "\n",
    "    info = []\n",
    "    # Algo part\n",
    "    info.append( {'amount':  account_info['amount']/1E6, \n",
    "                  'unit' :   'ALGO', 'asset-id': 0, 'name': 'Algorand'} )\n",
    "\n",
    "    # ASA part\n",
    "    assets = account_info['assets']\n",
    "    for asset in assets:\n",
    "        asset_id     = asset['asset-id']\n",
    "        asset_info   = algod_client.asset_info(asset_id)                         # Get all info\n",
    "        asset_amount = asset['amount']/10**asset_info['params']['decimals']      # convert to BIG units\n",
    "        info.append( {'amount':  asset_amount,\n",
    "                      'unit' :   asset_info['params'].get('unit-name'),\n",
    "                      'asset-id':asset_id,\n",
    "                      'name':    asset_info['params'].get('name')\n",
    "                      } )\n",
    "\n",
    "    return(info)"
   ]
  },
  {
   "cell_type": "code",
   "execution_count": 21,
   "metadata": {},
   "outputs": [
    {
     "data": {
      "text/plain": [
       "[{'amount': 24.132, 'unit': 'ALGO', 'asset-id': 0, 'name': 'Algorand'},\n",
       " {'amount': 180.0, 'unit': 'USDC', 'asset-id': 10458941, 'name': 'USDC'}]"
      ]
     },
     "execution_count": 21,
     "metadata": {},
     "output_type": "execute_result"
    }
   ],
   "source": [
    "asset_holdings(algod_client,Alice['public'])"
   ]
  },
  {
   "cell_type": "code",
   "execution_count": 22,
   "metadata": {},
   "outputs": [],
   "source": [
    "def asset_holdings_df(algod_client, public):\n",
    "    import pandas as pd\n",
    "    from algosdk.v2client import algod\n",
    "    info = asset_holdings(algod_client, public)\n",
    "    df = pd.DataFrame(info)\n",
    "    return(df)"
   ]
  },
  {
   "cell_type": "code",
   "execution_count": 23,
   "metadata": {},
   "outputs": [
    {
     "data": {
      "text/html": [
       "<div>\n",
       "<style scoped>\n",
       "    .dataframe tbody tr th:only-of-type {\n",
       "        vertical-align: middle;\n",
       "    }\n",
       "\n",
       "    .dataframe tbody tr th {\n",
       "        vertical-align: top;\n",
       "    }\n",
       "\n",
       "    .dataframe thead th {\n",
       "        text-align: right;\n",
       "    }\n",
       "</style>\n",
       "<table border=\"1\" class=\"dataframe\">\n",
       "  <thead>\n",
       "    <tr style=\"text-align: right;\">\n",
       "      <th></th>\n",
       "      <th>amount</th>\n",
       "      <th>unit</th>\n",
       "      <th>asset-id</th>\n",
       "      <th>name</th>\n",
       "    </tr>\n",
       "  </thead>\n",
       "  <tbody>\n",
       "    <tr>\n",
       "      <th>0</th>\n",
       "      <td>24.132</td>\n",
       "      <td>ALGO</td>\n",
       "      <td>0</td>\n",
       "      <td>Algorand</td>\n",
       "    </tr>\n",
       "    <tr>\n",
       "      <th>1</th>\n",
       "      <td>180.000</td>\n",
       "      <td>USDC</td>\n",
       "      <td>10458941</td>\n",
       "      <td>USDC</td>\n",
       "    </tr>\n",
       "  </tbody>\n",
       "</table>\n",
       "</div>"
      ],
      "text/plain": [
       "    amount  unit  asset-id      name\n",
       "0   24.132  ALGO         0  Algorand\n",
       "1  180.000  USDC  10458941      USDC"
      ]
     },
     "execution_count": 23,
     "metadata": {},
     "output_type": "execute_result"
    }
   ],
   "source": [
    "asset_holdings_df(algod_client,Alice['public'])"
   ]
  },
  {
   "cell_type": "markdown",
   "metadata": {
    "tags": []
   },
   "source": [
    "### *Python note on `.get()`\n",
    "* Some entries in `asset_info['params']` are optional\n",
    "    * So they may not exist\n",
    "* Using the `.get()` method avoids error messages"
   ]
  },
  {
   "cell_type": "code",
   "execution_count": 24,
   "metadata": {},
   "outputs": [],
   "source": [
    "# Example of a minimal ASA\n",
    "asset_info = {'index': 145346757, \n",
    "                'params': {'creator': 'CPUT3Z5CI3XOIZ4ARSGUFQD7V4YGYJW5BFAZMXX5YOV4KJCKI6MBCDY5XM', \n",
    "                           'decimals': 0, 'default-frozen': False, \n",
    "                           'name': 'TEMP', 'name-b64': 'VEVNUA==', 'total': 100}}"
   ]
  },
  {
   "cell_type": "code",
   "execution_count": 25,
   "metadata": {},
   "outputs": [
    {
     "name": "stdout",
     "output_type": "stream",
     "text": [
      "TEMP\n"
     ]
    },
    {
     "ename": "KeyError",
     "evalue": "'unit-name'",
     "output_type": "error",
     "traceback": [
      "\u001b[0;31m---------------------------------------------------------------------------\u001b[0m",
      "\u001b[0;31mKeyError\u001b[0m                                  Traceback (most recent call last)",
      "\u001b[0;32m/var/folders/rn/mn2f44yn69b_skfgr4dd1sh00000gn/T/ipykernel_5046/2650907016.py\u001b[0m in \u001b[0;36m<module>\u001b[0;34m\u001b[0m\n\u001b[1;32m      1\u001b[0m \u001b[0mprint\u001b[0m\u001b[0;34m(\u001b[0m\u001b[0masset_info\u001b[0m\u001b[0;34m[\u001b[0m\u001b[0;34m'params'\u001b[0m\u001b[0;34m]\u001b[0m\u001b[0;34m[\u001b[0m\u001b[0;34m'name'\u001b[0m\u001b[0;34m]\u001b[0m\u001b[0;34m)\u001b[0m\u001b[0;34m\u001b[0m\u001b[0;34m\u001b[0m\u001b[0m\n\u001b[1;32m      2\u001b[0m \u001b[0;31m# this does not work\u001b[0m\u001b[0;34m\u001b[0m\u001b[0;34m\u001b[0m\u001b[0m\n\u001b[0;32m----> 3\u001b[0;31m \u001b[0mprint\u001b[0m\u001b[0;34m(\u001b[0m\u001b[0masset_info\u001b[0m\u001b[0;34m[\u001b[0m\u001b[0;34m'params'\u001b[0m\u001b[0;34m]\u001b[0m\u001b[0;34m[\u001b[0m\u001b[0;34m'unit-name'\u001b[0m\u001b[0;34m]\u001b[0m\u001b[0;34m)\u001b[0m\u001b[0;34m\u001b[0m\u001b[0;34m\u001b[0m\u001b[0m\n\u001b[0m",
      "\u001b[0;31mKeyError\u001b[0m: 'unit-name'"
     ]
    }
   ],
   "source": [
    "print(asset_info['params']['name'])\n",
    "# this does not work\n",
    "print(asset_info['params']['unit-name'])"
   ]
  },
  {
   "cell_type": "code",
   "execution_count": 26,
   "metadata": {},
   "outputs": [
    {
     "name": "stdout",
     "output_type": "stream",
     "text": [
      "TEMP\n",
      "None\n"
     ]
    }
   ],
   "source": [
    "# this works\n",
    "print(asset_info['params'].get('name'))\n",
    "print(asset_info['params'].get('unit-name'))"
   ]
  },
  {
   "cell_type": "code",
   "execution_count": null,
   "metadata": {},
   "outputs": [],
   "source": []
  }
 ],
 "metadata": {
  "kernelspec": {
   "display_name": "Python 3 (ipykernel)",
   "language": "python",
   "name": "python3"
  },
  "language_info": {
   "codemirror_mode": {
    "name": "ipython",
    "version": 3
   },
   "file_extension": ".py",
   "mimetype": "text/x-python",
   "name": "python",
   "nbconvert_exporter": "python",
   "pygments_lexer": "ipython3",
   "version": "3.9.13"
  }
 },
 "nbformat": 4,
 "nbformat_minor": 4
}
