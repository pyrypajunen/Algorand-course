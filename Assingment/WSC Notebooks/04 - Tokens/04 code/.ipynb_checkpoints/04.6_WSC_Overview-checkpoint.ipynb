{
 "cells": [
  {
   "cell_type": "markdown",
   "metadata": {},
   "source": [
    "## Account Overview\n",
    "#### 04.6 Winter School on Smart Contracts\n",
    "##### Peter Gruber (peter.gruber@usi.ch)\n",
    "2022-01-22\n",
    "\n",
    "* Helper file to keep an overview over all our accounts"
   ]
  },
  {
   "cell_type": "markdown",
   "metadata": {
    "tags": []
   },
   "source": [
    "## Setup\n",
    "See notebook 04.1, the lines below will always automatically load functions in `algo_util.py`, the 5 accounts and the Purestake credentials"
   ]
  },
  {
   "cell_type": "code",
   "execution_count": null,
   "metadata": {},
   "outputs": [],
   "source": [
    "# Loading shared code and credentials\n",
    "import sys, os\n",
    "\n",
    "codepath = '..'+os.path.sep+'..'+os.path.sep+'sharedCode'\n",
    "sys.path.append(codepath)\n",
    "from algo_util import *\n",
    "cred = load_credentials()\n",
    "\n",
    "# Shortcuts to directly access the 3 main accounts\n",
    "MyAlgo  = cred['MyAlgo']\n",
    "Alice   = cred['Alice']\n",
    "Bob     = cred['Bob']\n",
    "Charlie = cred['Charlie']\n",
    "Dina    = cred['Dina']"
   ]
  },
  {
   "cell_type": "code",
   "execution_count": null,
   "metadata": {},
   "outputs": [],
   "source": [
    "from algosdk import account, mnemonic\n",
    "from algosdk.v2client import algod\n",
    "from algosdk.future import transaction\n",
    "from algosdk.future.transaction import PaymentTxn\n",
    "from algosdk.future.transaction import AssetConfigTxn, AssetTransferTxn, AssetFreezeTxn\n",
    "from algosdk.future.transaction import LogicSig\n",
    "\n",
    "import algosdk.error\n",
    "import json\n",
    "import base64\n",
    "import pandas as pd"
   ]
  },
  {
   "cell_type": "code",
   "execution_count": null,
   "metadata": {},
   "outputs": [],
   "source": [
    "# Initialize the algod client (Testnet or Mainnet)\n",
    "algod_client = algod.AlgodClient(algod_token='', algod_address=cred['algod_test'], headers=cred['purestake_token'])"
   ]
  },
  {
   "cell_type": "code",
   "execution_count": null,
   "metadata": {},
   "outputs": [],
   "source": [
    "print(MyAlgo['public'])\n",
    "print(Alice['public'])\n",
    "print(Bob['public'])\n",
    "print(Charlie['public'])\n",
    "print(Dina['public'])"
   ]
  },
  {
   "cell_type": "markdown",
   "metadata": {},
   "source": [
    "#### Quick check of asset holdings, otherwise go to ...\n",
    "- https://bank.testnet.algorand.network\n",
    "- https://testnet.algoexplorer.io/dispenser"
   ]
  },
  {
   "cell_type": "code",
   "execution_count": null,
   "metadata": {},
   "outputs": [],
   "source": [
    "asset_holdings_df(algod_client,Alice['public'])"
   ]
  },
  {
   "cell_type": "markdown",
   "metadata": {},
   "source": [
    "#### Check Purestake API"
   ]
  },
  {
   "cell_type": "code",
   "execution_count": null,
   "metadata": {},
   "outputs": [],
   "source": [
    "last_block = algod_client.status()[\"last-round\"]\n",
    "print(f\"Last committed block is: {last_block}\")"
   ]
  },
  {
   "cell_type": "markdown",
   "metadata": {},
   "source": [
    "## The Overview"
   ]
  },
  {
   "cell_type": "code",
   "execution_count": null,
   "metadata": {},
   "outputs": [],
   "source": [
    "# Get the holdings of all accounts\n",
    "myAlgo_holding=asset_holdings_df(algod_client, MyAlgo['public'])\n",
    "alice_holding=asset_holdings_df(algod_client, Alice['public'])\n",
    "bob_holding=asset_holdings_df(algod_client, Bob['public'])\n",
    "charlie_holding=asset_holdings_df(algod_client, Charlie['public'])\n",
    "dina_holding=asset_holdings_df(algod_client, Dina['public'])\n",
    "pd.set_option('precision', 4)\n",
    "df1 = pd.merge(myAlgo_holding,alice_holding,how=\"outer\", on=[\"asset-id\", \"unit\", \"name\", \"decimals\"],suffixes=['MyAlgo','Alice'])\n",
    "df2 = pd.merge(df1,bob_holding,how=\"outer\", on=[\"asset-id\", \"unit\", \"name\", \"decimals\"])\n",
    "df2.columns.values[-1] = 'amountBob'\n",
    "df3 = pd.merge(df2,charlie_holding,how=\"outer\", on=[\"asset-id\", \"unit\", \"name\", \"decimals\"])\n",
    "df3.columns.values[-1] = 'amountCharlie'\n",
    "df4 = pd.merge(df3,dina_holding,how=\"outer\", on=[\"asset-id\", \"unit\", \"name\", \"decimals\"])\n",
    "df4.columns.values[-1] = 'amountDina'\n",
    "df4"
   ]
  }
 ],
 "metadata": {
  "kernelspec": {
   "display_name": "Python 3",
   "language": "python",
   "name": "python3"
  },
  "language_info": {
   "codemirror_mode": {
    "name": "ipython",
    "version": 3
   },
   "file_extension": ".py",
   "mimetype": "text/x-python",
   "name": "python",
   "nbconvert_exporter": "python",
   "pygments_lexer": "ipython3",
   "version": "3.7.6"
  }
 },
 "nbformat": 4,
 "nbformat_minor": 4
}
