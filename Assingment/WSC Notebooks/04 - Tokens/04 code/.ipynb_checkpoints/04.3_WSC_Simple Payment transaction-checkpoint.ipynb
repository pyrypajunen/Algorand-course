{
 "cells": [
  {
   "cell_type": "markdown",
   "metadata": {},
   "source": [
    "### Install pyteal and algorand-sdk"
   ]
  },
  {
   "cell_type": "code",
   "execution_count": null,
   "metadata": {},
   "outputs": [],
   "source": [
    "!pip3 install pyteal\n",
    "!pip3 install algosdk"
   ]
  },
  {
   "cell_type": "markdown",
   "metadata": {
    "id": "2oE71VjMkheX"
   },
   "source": [
    "### Import Packages"
   ]
  },
  {
   "cell_type": "code",
   "execution_count": 9,
   "metadata": {},
   "outputs": [],
   "source": [
    "import numpy as np\n",
    "import pandas as pd\n",
    "import matplotlib.pyplot as plt\n",
    "from pyteal import *\n",
    "import json \n",
    "from algosdk import account, mnemonic\n",
    "from algosdk.future import transaction\n",
    "import algosdk.transaction\n",
    "from algosdk.v2client import algod"
   ]
  },
  {
   "cell_type": "markdown",
   "metadata": {},
   "source": [
    "### Define Functions"
   ]
  },
  {
   "cell_type": "code",
   "execution_count": 5,
   "metadata": {},
   "outputs": [],
   "source": [
    "def generate_new_account():\n",
    "    private_key, public_address = account.generate_account()\n",
    "    passphrase = mnemonic.from_private_key(private_key)\n",
    "    #mprint(\"Address: {}\\nPassphrase: \\\"{}\\\"\".format(public_address, passphrase))\n",
    "    return passphrase\n",
    "\n",
    "# Waits for a given txid to be confirmed by the network\n",
    "def wait_for_confirmation(client, transaction_id, timeout):\n",
    "    \"\"\"\n",
    "    Wait until the transaction is confirmed or rejected, or until 'timeout'\n",
    "    number of rounds have passed.\n",
    "    Args:\n",
    "        transaction_id (str): the transaction to wait for\n",
    "        timeout (int): maximum number of rounds to wait    \n",
    "    Returns:\n",
    "        dict: pending transaction information, or throws an error if the transaction\n",
    "            is not confirmed or rejected in the next timeout rounds\n",
    "    \"\"\"\n",
    "    start_round = client.status()[\"last-round\"] + 1\n",
    "    current_round = start_round\n",
    "\n",
    "    while current_round < start_round + timeout:\n",
    "        try:\n",
    "            pending_txn = client.pending_transaction_info(transaction_id)\n",
    "        except Exception:\n",
    "            return \n",
    "        if pending_txn.get(\"confirmed-round\", 0) > 0:\n",
    "            return pending_txn\n",
    "        elif pending_txn[\"pool-error\"]:  \n",
    "            raise Exception(\n",
    "                'pool error: {}'.format(pending_txn[\"pool-error\"]))\n",
    "        client.status_after_block(current_round)                   \n",
    "        current_round += 1\n",
    "    raise Exception(\n",
    "        'pending tx not found in timeout rounds, timeout value = : {}'.format(timeout))"
   ]
  },
  {
   "cell_type": "markdown",
   "metadata": {
    "id": "M_ce36CQklSd"
   },
   "source": [
    "### Generate Accounts "
   ]
  },
  {
   "cell_type": "code",
   "execution_count": null,
   "metadata": {},
   "outputs": [],
   "source": [
    "accounts = {}\n",
    "for i in range(3):\n",
    "    passphrase = generate_new_account()\n",
    "    accounts[i] = {}\n",
    "    accounts[i]['public'] = mnemonic.to_public_key(passphrase)\n",
    "    accounts[i]['private'] = mnemonic.to_private_key(passphrase)"
   ]
  },
  {
   "cell_type": "markdown",
   "metadata": {},
   "source": [
    "### Public and private keys of the new accounts "
   ]
  },
  {
   "cell_type": "code",
   "execution_count": null,
   "metadata": {},
   "outputs": [],
   "source": [
    "print(\"Public key account 1: {}\".format(accounts[0][\"public\"]))\n",
    "print(\"Private key account 1: {}\".format(accounts[0][\"private\"]))\n",
    "print(\"Mnenmonic account 1: {}\".format(accounts[0][\"mnemonic\"]))\n",
    "\n",
    "print(\"Public key account 2: {}\".format(accounts[1][\"public\"]))\n",
    "print(\"Private key account 2: {}\".format(accounts[1][\"private\"]))\n",
    "print(\"Mnenmonic account 2: {}\".format(accounts[1][\"mnemonic\"]))\n",
    "\n",
    "print(\"Public key account 3: {}\".format(accounts[2][\"public\"]))\n",
    "print(\"Private key account 3: {}\".format(accounts[2][\"private\"]))\n",
    "print(\"Mnenmonic account 3: {}\".format(accounts[2][\"mnemonic\"]))"
   ]
  },
  {
   "cell_type": "markdown",
   "metadata": {},
   "source": [
    "### Login to PureStake and get your API [PureStake](https://developer.purestake.io)\n"
   ]
  },
  {
   "cell_type": "code",
   "execution_count": 10,
   "metadata": {},
   "outputs": [],
   "source": [
    "# Insert your api token here\n",
    "algod_token   = '8oWisC3uwu3gjmrGvnJVl1gXo052RTub4ROOz3Q6'   #This should correspond to your PureStake API Keys (To keep private)\n",
    "algod_address = 'https://testnet-algorand.api.purestake.io/ps2'\n",
    "purestake_token = {'X-Api-key': algod_token}\n",
    "\n",
    "# Initialize the algod client\n",
    "algod_client = algod.AlgodClient(algod_token=algod_token, algod_address=algod_address, headers=purestake_token)\n",
    "last_block = algod_client.status()[\"last-round\"]\n",
    "print(f\"Last committed block is: {last_block}\")"
   ]
  },
  {
   "cell_type": "markdown",
   "metadata": {},
   "source": [
    "### Verify amounts of microalgos in your accounts"
   ]
  },
  {
   "cell_type": "code",
   "execution_count": null,
   "metadata": {},
   "outputs": [],
   "source": [
    "for k in range(3):\n",
    "    address        = accounts[k][\"public\"]\n",
    "    algo_precision = 1e6\n",
    "    algo_amount    = algod_client.account_info(address=accounts[k][\"public\"])[\"amount\"]/algo_precision\n",
    "    print(f\"Address {address}: owns {algo_amount} test algos\")"
   ]
  },
  {
   "cell_type": "markdown",
   "metadata": {},
   "source": [
    "### Use AlgoDispenser to fund your accounts \n",
    "\n",
    "Use this to get micro-algos [Dispenser](https://bank.testnet.algorand.network/)\n",
    "\n",
    "### Verify the transactions and the new amount \n",
    "\n",
    "Use this to check the accounts [Testnet Algorand](https://testnet.algoexplorer.io)\n",
    "\n",
    "Run again the chunk of code above"
   ]
  },
  {
   "cell_type": "markdown",
   "metadata": {
    "id": "CDlT_Dmsnmn8"
   },
   "source": [
    "### Check the suggested parameters for a transaction (on the testnet)"
   ]
  },
  {
   "cell_type": "code",
   "execution_count": null,
   "metadata": {
    "scrolled": true
   },
   "outputs": [],
   "source": [
    "params = algod_client.suggested_params()\n",
    "print(json.dumps(vars(params), indent=4))"
   ]
  },
  {
   "cell_type": "markdown",
   "metadata": {},
   "source": [
    "### Simple Payment Transaction\n",
    "\n",
    "PaymentTxn(sender, fee, first, last, gh, receiver, amt, close_remainder_to=None, note=None, gen=None, flat_fee=False, lease=None, rekey_to=None)\n",
    "\n",
    "#### Parameters:\n",
    "* sender (str) – address of the sender\n",
    "* fee (int) – transaction fee (per byte if flat_fee is false). When flat_fee is true, fee may fall to zero but a group of N      atomic transactions must still have a fee of at least N*min_txn_fee.\n",
    "* first (int) – first round for which the transaction is valid\n",
    "* last (int) – last round for which the transaction is valid\n",
    "* gh (str) – genesis_hash\n",
    "* receiver (str) – address of the receiver\n",
    "* amt (int) – amount in microAlgos to be sent\n",
    "* close_remainder_to (str, optional) – if nonempty, account will be closed and remaining algos will be sent to this address\n",
    "* note (bytes, optional) – arbitrary optional bytes\n",
    "* gen (str, optional) – genesis_id\n",
    "* flat_fee (bool, optional) – whether the specified fee is a flat fee\n",
    "* lease (byte[32], optional) – specifies a lease, and no other transaction with the same sender and lease can be confirmed in this transaction’s valid rounds\n",
    "* rekey_to (str, optional) – additionally rekey the sender to this address"
   ]
  },
  {
   "cell_type": "markdown",
   "metadata": {},
   "source": [
    "### Define transaction parameters\n",
    "\n",
    "E.g., We want the the first account to send 1 Algo to the second account"
   ]
  },
  {
   "cell_type": "code",
   "execution_count": null,
   "metadata": {},
   "outputs": [],
   "source": [
    "sender = accounts[0]['public']\n",
    "fee = vars(params)['fee']         # You can alse use vars(params)['min_fee']\n",
    "first = vars(params)['first']\n",
    "last = vars(params)['last']\n",
    "gh = vars(params)['gh']\n",
    "receiver = accounts[1]['public']\n",
    "amount = 10000                    # Consider the amoun in micro-algos"
   ]
  },
  {
   "cell_type": "markdown",
   "metadata": {},
   "source": [
    "### Construct an unsigned transaction"
   ]
  },
  {
   "cell_type": "code",
   "execution_count": null,
   "metadata": {},
   "outputs": [],
   "source": [
    "unsigned_txn = PaymentTxn(sender = sender, \n",
    "                         fee = fee,\n",
    "                         first = first,\n",
    "                         last = last,\n",
    "                         gh = gh, \n",
    "                         receiver = receiver, \n",
    "                         amt = amount)"
   ]
  },
  {
   "cell_type": "markdown",
   "metadata": {},
   "source": [
    "### Sign the transaction with the private key of the sender"
   ]
  },
  {
   "cell_type": "code",
   "execution_count": null,
   "metadata": {},
   "outputs": [],
   "source": [
    "signed_txn = unsigned_txn.sign(accounts[0]['private'])"
   ]
  },
  {
   "cell_type": "markdown",
   "metadata": {},
   "source": [
    "### Send the transaction and wait for confirmation"
   ]
  },
  {
   "cell_type": "code",
   "execution_count": null,
   "metadata": {},
   "outputs": [],
   "source": [
    "txid = algod_client.send_transaction(signed_txn)\n",
    "wait_for_confirmation(algod_client, tx_id) "
   ]
  },
  {
   "cell_type": "code",
   "execution_count": null,
   "metadata": {},
   "outputs": [],
   "source": []
  }
 ],
 "metadata": {
  "kernelspec": {
   "display_name": "Python 3",
   "language": "python",
   "name": "python3"
  },
  "language_info": {
   "codemirror_mode": {
    "name": "ipython",
    "version": 3
   },
   "file_extension": ".py",
   "mimetype": "text/x-python",
   "name": "python",
   "nbconvert_exporter": "python",
   "pygments_lexer": "ipython3",
   "version": "3.8.5"
  }
 },
 "nbformat": 4,
 "nbformat_minor": 5
}
