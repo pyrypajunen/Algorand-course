{
 "cells": [
  {
   "cell_type": "markdown",
   "metadata": {},
   "source": [
    "## Create a Token on the Algorand Blockchain\n",
    "#### 04.3 Winter School on Smart Contracts\n",
    "##### Peter Gruber (peter.gruber@usi.ch)\n",
    "2021-11-28\n"
   ]
  },
  {
   "cell_type": "markdown",
   "metadata": {
    "tags": []
   },
   "source": [
    "### Setup\n",
    "See notebook 04.1, the lines below will always automatically load functions in `algo_util.py`, the five accounts and the Purestake credentials"
   ]
  },
  {
   "cell_type": "code",
   "execution_count": null,
   "metadata": {},
   "outputs": [],
   "source": [
    "# Loading shared code and credentials\n",
    "import sys, os\n",
    "codepath = '..'+os.path.sep+'..'+os.path.sep+'sharedCode'\n",
    "sys.path.append(codepath)\n",
    "from algo_util import *\n",
    "cred = load_credentials()\n",
    "\n",
    "# Shortcuts to directly access the 5 main accounts\n",
    "MyAlgo  = cred['MyAlgo']\n",
    "Alice   = cred['Alice']\n",
    "Bob     = cred['Bob']\n",
    "Charlie = cred['Charlie']\n",
    "Dina    = cred['Dina']"
   ]
  },
  {
   "cell_type": "code",
   "execution_count": null,
   "metadata": {},
   "outputs": [],
   "source": [
    "from algosdk import account, mnemonic\n",
    "from algosdk.v2client import algod\n",
    "from algosdk.future.transaction import PaymentTxn\n",
    "from algosdk.future.transaction import AssetConfigTxn, AssetTransferTxn, AssetFreezeTxn\n",
    "import algosdk.error\n",
    "import json"
   ]
  },
  {
   "cell_type": "code",
   "execution_count": null,
   "metadata": {},
   "outputs": [],
   "source": [
    "# Initialize the algod client (Testnet or Mainnet)\n",
    "algod_client = algod.AlgodClient(algod_token='', algod_address=cred['algod_test'], headers=cred['purestake_token'])"
   ]
  },
  {
   "cell_type": "markdown",
   "metadata": {},
   "source": [
    "## Create an ASA = Algorand Standard Asset\n",
    "\n",
    "This is our first token. The account MyAlgo will create an asset called `WSC Coin`. \n",
    "\n",
    "During creation, we need to assign the following roles, which we will use later ...\n",
    "\n",
    "* **Manager:** can change the thre follwoing roles\n",
    "* **Reserve:** where not yet distributed assets reside\n",
    "* **Freeze:** can freeze assets (e.g. to wait for KYC)\n",
    "* **Clawback:** can undo transactions *if users have opted in*\n",
    "\n",
    "See https://developer.algorand.org/docs/features/asa/ "
   ]
  },
  {
   "cell_type": "markdown",
   "metadata": {},
   "source": [
    "### Step 1: Prepare\n",
    "* Remember that tokens are divisible\n",
    "* We choose 2 decimals\n",
    "    * Our token can be divided into units as small as $\\frac{1}{10^2} = \\frac{1}{100} = 0.01$\n",
    "* To create 1000 tokens, we must create $1000 \\cdot 10^2$ *small units*"
   ]
  },
  {
   "cell_type": "code",
   "execution_count": null,
   "metadata": {},
   "outputs": [],
   "source": [
    "sp = algod_client.suggested_params()\n",
    "token_supply = 1000                              # Token supply (big units)\n",
    "token_decimals =  2                              # Digits after the comma\n",
    "token_total = token_supply * 10**token_decimals  # Specify number of SMALLER unit (\"cents\")\n",
    "\n",
    "token_name  = \"Peters WSC coin\"                  # <----- YOUR NAME HERE\n",
    "token_url   = \"www.usi.ch/wsc\"                   # <----- CHANGE if you want to\n",
    "token_unit  = \"pWSC\"                              # Abbreviation, e.g. shown in Algorand Wallet app  "
   ]
  },
  {
   "cell_type": "markdown",
   "metadata": {},
   "source": [
    "### Step 2: Asset creation transaction\n",
    "New type of transaction, the `AssetConfigTxn`"
   ]
  },
  {
   "cell_type": "code",
   "execution_count": null,
   "metadata": {},
   "outputs": [],
   "source": [
    "txn = AssetConfigTxn(\n",
    "    sender=MyAlgo['public'],                   # Creator of the ASA\n",
    "    sp=sp,                      \n",
    "    total=token_total,                         # Total supply in SMALL unit\n",
    "    decimals=token_decimals,                   # Decimals\n",
    "    default_frozen=False,                      # Are tokens frozen by default?\n",
    "    unit_name=token_unit,                      # Abbreviation     \n",
    "    asset_name=token_name,                     # Name\n",
    "    url=token_url,                             # URL\n",
    "    manager=Alice['public'],                   # Special roles (later more)\n",
    "    reserve=Alice['public'],                   # Special roles\n",
    "    freeze=Bob['public'],                      # Special roles\n",
    "    clawback=Bob['public']                     # Special roles\n",
    ")\n",
    "print(txn)"
   ]
  },
  {
   "cell_type": "markdown",
   "metadata": {},
   "source": [
    "### Step 3: Sign and send"
   ]
  },
  {
   "cell_type": "code",
   "execution_count": null,
   "metadata": {},
   "outputs": [],
   "source": [
    "stxn = txn.sign(MyAlgo['private'])             # Sign\n",
    "txid = algod_client.send_transaction(stxn)     # Send\n",
    "print(txid)"
   ]
  },
  {
   "cell_type": "markdown",
   "metadata": {},
   "source": [
    "### Step 4: Wait for confirmation"
   ]
  },
  {
   "cell_type": "code",
   "execution_count": null,
   "metadata": {},
   "outputs": [],
   "source": [
    "# Wait for the transaction to be confirmed\n",
    "txinfo = wait_for_confirmation(algod_client,txid)"
   ]
  },
  {
   "cell_type": "markdown",
   "metadata": {},
   "source": [
    "### Step 5a: Asset index and information\n",
    "The asset's index is automatically created during the transaction"
   ]
  },
  {
   "cell_type": "code",
   "execution_count": null,
   "metadata": {},
   "outputs": [],
   "source": [
    "print(txinfo)"
   ]
  },
  {
   "cell_type": "code",
   "execution_count": null,
   "metadata": {},
   "outputs": [],
   "source": [
    "# Get the asset ID and open in Algoexplorer\n",
    "WSC_id = txinfo['asset-index']\n",
    "print(WSC_id)\n",
    "print('https://testnet.algoexplorer.io/asset/{}'.format(WSC_id))"
   ]
  },
  {
   "cell_type": "markdown",
   "metadata": {},
   "source": [
    "#### Step 5b: Asset holdings on the wallet app\n",
    "**CHECK** your wallet app, where the holdings of WSC will already have shown up."
   ]
  },
  {
   "cell_type": "code",
   "execution_count": null,
   "metadata": {},
   "outputs": [],
   "source": [
    "# We can also check the assets that we have created\n",
    "account_info = algod_client.account_info(MyAlgo['public'])\n",
    "json_str = json.dumps(account_info['created-assets'])\n",
    "json.loads(json_str)"
   ]
  },
  {
   "cell_type": "markdown",
   "metadata": {},
   "source": [
    "## Transfer coins\n",
    "In this section we will transfer coins ...\n",
    "* Manually to Alice\n",
    "* Using Python to Bob"
   ]
  },
  {
   "cell_type": "markdown",
   "metadata": {},
   "source": [
    "### Manual transfer to Alice\n",
    "* Alice has to opt-in\n",
    "  * Tap `+ Add new asset`, then `All` (not \"Only verified\")\n",
    "  * Search for name or asset ID\n",
    "* Now you can send 10 WSC via QR code or copy-paste\n",
    "* To send *your* WSC to your neigbhor, she has to opt into your WSC coin!"
   ]
  },
  {
   "cell_type": "markdown",
   "metadata": {},
   "source": [
    "### Exercise: Python transfer to Bob \n",
    "* Transfer 10 WSC to Bob\n",
    "* Remember that transfers of tokens (ASA) are performed with `AssetTransferTxn()` and not with `PaymentTxn()`\n",
    "* Also, do not forget the ..."
   ]
  },
  {
   "cell_type": "code",
   "execution_count": null,
   "metadata": {},
   "outputs": [],
   "source": [
    "# Your Python code goes here ...\n",
    "# Opt-in for Bob\n",
    "\n",
    "# Step 1: prepare and create TX\n",
    "sp = algod_client.suggested_params()             # Suggested params\n",
    "amt = int(0)                                     # <-- Send 0 token\n",
    "\n",
    "txn = AssetTransferTxn(\n",
    "    sender=Bob['public'],\n",
    "    sp=sp,\n",
    "    receiver=Bob['public'],\n",
    "    amt=amt,\n",
    "    index=WSC_id\n",
    "    )                \n",
    "\n",
    "# Step 2: sign \n",
    "signed_txn = txn.sign(Bob['private'])\n",
    "\n",
    "# Step 3: Send\n",
    "txid = algod_client.send_transaction(signed_txn)\n",
    "    \n",
    "# Step 4: Wait for confirmation\n",
    "txinfo = wait_for_confirmation(algod_client,txid)"
   ]
  },
  {
   "cell_type": "code",
   "execution_count": null,
   "metadata": {},
   "outputs": [],
   "source": [
    "# More Python code may go here ...\n",
    "\n",
    "# Transfer to Bob\n",
    "\n",
    "# Step 1: prepare and create TX\n",
    "sp = algod_client.suggested_params()             # Suggested params\n",
    "amt = int(10 * 10**token_decimals)               # <-- Send 10 WSC ... specify SMALL units\n",
    "\n",
    "txn = AssetTransferTxn(\n",
    "    sender=MyAlgo['public'],\n",
    "    sp=sp,\n",
    "    receiver=Bob['public'],\n",
    "    amt=amt,\n",
    "    index=WSC_id\n",
    "    )                \n",
    "\n",
    "# Step 2: sign \n",
    "signed_txn = txn.sign(MyAlgo['private'])\n",
    "\n",
    "# Step 3: Send\n",
    "txid = algod_client.send_transaction(signed_txn)\n",
    "    \n",
    "# Step 4: Wait for confirmation\n",
    "txinfo = wait_for_confirmation(algod_client,txid)"
   ]
  },
  {
   "cell_type": "markdown",
   "metadata": {},
   "source": [
    "#### A quick check of the (new) holdings of Bob"
   ]
  },
  {
   "cell_type": "code",
   "execution_count": null,
   "metadata": {},
   "outputs": [],
   "source": [
    "account_info = algod_client.account_info(Bob['public'])\n",
    "account_info"
   ]
  },
  {
   "cell_type": "markdown",
   "metadata": {},
   "source": [
    "## Get (more/better) information\n",
    "To reduce the confusion, especially when transferring ASA from one account to another, we create an overview of an account's holdings"
   ]
  },
  {
   "cell_type": "markdown",
   "metadata": {},
   "source": [
    "### Account info\n",
    "* ALGOs are always treated separately from ASA"
   ]
  },
  {
   "cell_type": "code",
   "execution_count": null,
   "metadata": {},
   "outputs": [],
   "source": [
    "print(account_info['amount'])         # micro Algos\n",
    "print(account_info['amount']/1E6)     # Algos"
   ]
  },
  {
   "cell_type": "code",
   "execution_count": null,
   "metadata": {},
   "outputs": [],
   "source": [
    "account_info['assets']                # All ASA"
   ]
  },
  {
   "cell_type": "markdown",
   "metadata": {},
   "source": [
    "### Asset Info"
   ]
  },
  {
   "cell_type": "code",
   "execution_count": null,
   "metadata": {},
   "outputs": [],
   "source": [
    "asset_info = algod_client.asset_info(WSC_id)\n",
    "asset_info"
   ]
  },
  {
   "cell_type": "code",
   "execution_count": null,
   "metadata": {},
   "outputs": [],
   "source": [
    "# Useful fields\n",
    "print(asset_info['params']['decimals'])\n",
    "print(asset_info['params']['unit-name'])"
   ]
  },
  {
   "cell_type": "markdown",
   "metadata": {},
   "source": [
    "### Putting it together\n",
    "* Crate a Python list with all relevant holdings of an account"
   ]
  },
  {
   "cell_type": "code",
   "execution_count": null,
   "metadata": {},
   "outputs": [],
   "source": [
    "info = []\n",
    "# Algo part\n",
    "info.append( {'amount':  account_info['amount']/1E6, 'unit' :   'ALGO', 'asset-id': 0, 'name': 'Algorand' } )\n",
    "# ASA part\n",
    "assets = account_info['assets']\n",
    "for asset in assets:\n",
    "    asset_id     = asset['asset-id']\n",
    "    asset_info   = algod_client.asset_info(asset_id)                         # Get all info\n",
    "    asset_amount = asset['amount']/10**asset_info['params']['decimals']      # convert to BIG units\n",
    "    asset_unit   = asset_info['params']['unit-name']\n",
    "    info.append( {'amount':  asset_amount,\n",
    "                  'unit' :   asset_unit,\n",
    "                  'asset-id':asset_id,\n",
    "                  'name': asset_info['params']['name']\n",
    "                  } )\n",
    "\n",
    "info"
   ]
  },
  {
   "cell_type": "markdown",
   "metadata": {},
   "source": [
    "### Packaging and adding a data.frame\n",
    "* `asset_holdings()` returns a list\n",
    "* `asset_holdings_df()` returns a pandas data frame\n",
    "\n",
    "The functions are also part of `algo_util.py`."
   ]
  },
  {
   "cell_type": "code",
   "execution_count": null,
   "metadata": {},
   "outputs": [],
   "source": [
    "def asset_holdings(algod_client, public):\n",
    "    # client = algosdk client\n",
    "    # public = public address to be analyzed\n",
    "\n",
    "    import pandas as pd\n",
    "    from algosdk.v2client import algod\n",
    "    account_info = algod_client.account_info(public)\n",
    "\n",
    "    info = []\n",
    "    # Algo part\n",
    "    info.append( {'amount':  account_info['amount']/1E6, \n",
    "                  'unit' :   'ALGO', \n",
    "                  'asset-id': 0, \n",
    "                  'name': 'Algorand'\n",
    "                  } )\n",
    "\n",
    "    # ASA part\n",
    "    assets = account_info['assets']\n",
    "    for asset in assets:\n",
    "        asset_id     = asset['asset-id']\n",
    "        asset_info   = algod_client.asset_info(asset_id)                         # Get all info\n",
    "        asset_amount = asset['amount']/10**asset_info['params']['decimals']      # convert to BIG units\n",
    "        asset_unit   = asset_info['params']['unit-name']\n",
    "        info.append( {'amount':  asset_amount,\n",
    "                      'unit' :   asset_unit,\n",
    "                      'asset-id':asset_id,\n",
    "                      'name': asset_info['params']['name']\n",
    "                      } )\n",
    "    return(info)"
   ]
  },
  {
   "cell_type": "code",
   "execution_count": null,
   "metadata": {},
   "outputs": [],
   "source": [
    "asset_holdings(algod_client,Bob['public'])"
   ]
  },
  {
   "cell_type": "code",
   "execution_count": null,
   "metadata": {},
   "outputs": [],
   "source": [
    "def asset_holdings_df(algod_client, public):\n",
    "    import pandas as pd\n",
    "    from algosdk.v2client import algod\n",
    "    info = asset_holdings(algod_client, public)\n",
    "    df = pd.DataFrame(info)\n",
    "    return(df)"
   ]
  },
  {
   "cell_type": "code",
   "execution_count": null,
   "metadata": {},
   "outputs": [],
   "source": [
    "asset_holdings_df(algod_client,Bob['public'])"
   ]
  }
 ],
 "metadata": {
  "kernelspec": {
   "display_name": "Python 3",
   "language": "python",
   "name": "python3"
  },
  "language_info": {
   "codemirror_mode": {
    "name": "ipython",
    "version": 3
   },
   "file_extension": ".py",
   "mimetype": "text/x-python",
   "name": "python",
   "nbconvert_exporter": "python",
   "pygments_lexer": "ipython3",
   "version": "3.8.8"
  }
 },
 "nbformat": 4,
 "nbformat_minor": 4
}
