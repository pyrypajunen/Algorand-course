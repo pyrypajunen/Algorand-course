{
 "cells": [
  {
   "cell_type": "markdown",
   "metadata": {},
   "source": [
    "### Create an ASA on the Algorand Blockchain\n",
    "#### Winter School on Smart Contracts\n",
    "##### Peter Gruber (peter.gruber@usi.ch)\n",
    "2021-11-28\n"
   ]
  },
  {
   "cell_type": "markdown",
   "metadata": {},
   "source": [
    "### Install Algorand sdk\n",
    "Run the \"install Algorand SDK\" section from code03_APIs"
   ]
  },
  {
   "cell_type": "markdown",
   "metadata": {},
   "source": [
    "### Let's create USICoin\n",
    "The account 0 will create an asset called USICoin, and nominates Account 1 as the manager, reserve, freeze and clawback address. See https://developer.algorand.org/docs/features/asa/ for a better understanding of manager, reserve, freeze and clawback.\n",
    "\n",
    "* **Manager:** can change the rules (reconfigure, destroy)\n",
    "* **Reserve:** where not yet minted assets reside\n",
    "* **Freeze:** can freeze assets (e.g. to wait for KYC)\n",
    "* **Clawback:** can undo transactions *if users have opted in*\n",
    "\n",
    "\n",
    "##### The following chunk of code will:\n",
    "- Get the network parameters\n",
    "- Create an asset configuration transaction (https://developer.algorand.org/docs/reference/transactions/#asset-configuration-transaction)\n",
    "- Sign the asset configuration transaction with the private key of the creator\n",
    "- Send the transaction to the blockchain\n",
    "- Wait for the transaction to be confirmed\n",
    "- When it's confirmed:\n",
    "    - Print information of the created asset\n",
    "    - Print holdings of the created asset from the creator account"
   ]
  },
  {
   "cell_type": "code",
   "execution_count": null,
   "metadata": {},
   "outputs": [],
   "source": [
    "# Get network params for transactions before every transaction.\n",
    "params = algod_client.suggested_params()\n",
    "\n",
    "txn = AssetConfigTxn(\n",
    "    sender=accounts[0]['public'],  #Who's the sender?\n",
    "    sp=params,              # Network parameters\n",
    "    total=100000,           # Total USI available\n",
    "    decimals=2,             # Pay attention to this number! Total supply will be 100.000/ 10^2\n",
    "    default_frozen=False,   # Are tokens frozen by default?\n",
    "    unit_name=\"USI\",     \n",
    "    asset_name=\"USICoin\",\n",
    "    manager=accounts[1]['public'],\n",
    "    reserve=accounts[1]['public'],\n",
    "    freeze=accounts[1]['public'],\n",
    "    clawback=accounts[1]['public'],\n",
    "    url=\"www.usi.ch\")\n",
    "\n",
    "# Sign with private key of creator\n",
    "stxn = txn.sign(accounts[0]['private'])\n",
    "\n",
    "# Send the transaction to the network and retrieve the txid.\n",
    "txid = algod_client.send_transaction(stxn)\n",
    "print(txid)\n",
    "\n",
    "# Wait for the transaction to be confirmed\n",
    "wait_for_confirmation(algod_client,txid)\n",
    "\n",
    "try:\n",
    "    # get asset_id from tx\n",
    "    # Get the new asset's information and holdings\n",
    "    ptx = algod_client.pending_transaction_info(txid)\n",
    "    asset_id = ptx[\"asset-index\"]\n",
    "    print_created_asset(algod_client, accounts[0]['public'], asset_id)\n",
    "    print_asset_holding(algod_client, accounts[0]['public'], asset_id)\n",
    "except Exception as e:\n",
    "    print(e)"
   ]
  },
  {
   "cell_type": "markdown",
   "metadata": {},
   "source": [
    "### Let's check what we just created!\n",
    "- Copy the transaction id\n",
    "- Paste it in the algo explorer (https://algoexplorer.io ), don't forget to specify **testnet**"
   ]
  },
  {
   "cell_type": "markdown",
   "metadata": {},
   "source": [
    "### Change manager of the ASA\n",
    "The current manager (Account 1) issues an asset configuration transaction that assigns Account 0 as the new manager. Keep reserve, freeze, and clawback address same as before, i.e. account 1\n",
    "\n",
    "We obtain a **transaction overspent** error. Why? How can we solve it?"
   ]
  },
  {
   "cell_type": "code",
   "execution_count": null,
   "metadata": {},
   "outputs": [],
   "source": [
    "params = algod_client.suggested_params()\n",
    "\n",
    "txn = AssetConfigTxn(\n",
    "    sender=accounts[1]['public'],\n",
    "    sp=params,\n",
    "    index=asset_id, \n",
    "    manager=accounts[0]['public'],\n",
    "    reserve=accounts[1]['public'],\n",
    "    freeze=accounts[1]['public'],\n",
    "    clawback=accounts[1]['public'])\n",
    "# sign by the current manager - Account 2\n",
    "stxn = txn.sign(accounts[1]['private'])\n",
    "txid = algod_client.send_transaction(stxn)\n",
    "print(txid)\n",
    "\n",
    "# Wait for the transaction to be confirmed\n",
    "wait_for_confirmation(algod_client, txid)\n",
    "\n",
    "# Check asset info to view change in management. manager should now be account 1\n",
    "print_created_asset(algod_client, accounts[0]['public'], asset_id)"
   ]
  },
  {
   "cell_type": "markdown",
   "metadata": {},
   "source": [
    "### Does account 2 holds coins?"
   ]
  },
  {
   "cell_type": "code",
   "execution_count": null,
   "metadata": {},
   "outputs": [],
   "source": [
    "params = algod_client.suggested_params()\n",
    "\n",
    "account_info = algod_client.account_info(accounts[2]['public'])\n",
    "holding = False\n",
    "idx = 0\n",
    "for my_account_info in account_info['assets']:\n",
    "    scrutinized_asset = account_info['assets'][idx]\n",
    "    idx = idx + 1    \n",
    "    if (scrutinized_asset['asset-id'] == asset_id):\n",
    "        holding = True\n",
    "        break\n",
    "    \n",
    "print ( f\"Is account {accounts[2]['public'] } holding asset {asset_id}? Answer: {holding} \")"
   ]
  },
  {
   "cell_type": "markdown",
   "metadata": {},
   "source": [
    "### Transfer coins to account 2 (Opt-in)\n",
    "Now that USICoin exists, others can opt-in to receive the asset. An opt-in transaction is a form of an asset transfer transaction where the \"sender\" and \"receiver\" are the same (i.e. the account opting in) and the amount of asset transferred is 0.\n",
    "\n",
    "Oh no ... not againt a **transaction overspent** error!"
   ]
  },
  {
   "cell_type": "code",
   "execution_count": null,
   "metadata": {},
   "outputs": [],
   "source": [
    "# Use the AssetTransferTxn class to transfer assets and opt-in\n",
    "txn = AssetTransferTxn(\n",
    "    sender=accounts[2]['public'],\n",
    "    sp=params,\n",
    "    receiver=accounts[2][\"public\"],\n",
    "    amt=0,\n",
    "    index=asset_id)\n",
    "stxn = txn.sign(accounts[2]['private'])\n",
    "txid = algod_client.send_transaction(stxn)\n",
    "print(txid)\n",
    "# Wait for the transaction to be confirmed\n",
    "wait_for_confirmation(algod_client, txid)\n",
    "# Now check the asset holding for that account.\n",
    "# This should now show a holding with a balance of 0.\n",
    "print_asset_holding(algod_client, accounts[2]['public'], asset_id)"
   ]
  },
  {
   "cell_type": "markdown",
   "metadata": {},
   "source": [
    "### Transfer coins to account 2 (Transfer)\n",
    "Now that account 2 has done the opt-in transaction, we can send 10 USICoin"
   ]
  },
  {
   "cell_type": "code",
   "execution_count": null,
   "metadata": {},
   "outputs": [],
   "source": [
    "params = algod_client.suggested_params()\n",
    "\n",
    "txn = AssetTransferTxn(\n",
    "    sender=accounts[0]['public'],\n",
    "    sp=params,\n",
    "    receiver=accounts[2][\"public\"],\n",
    "    amt=10,\n",
    "    index=asset_id)\n",
    "stxn = txn.sign(accounts[0]['private'])\n",
    "txid = algod_client.send_transaction(stxn)\n",
    "print(txid)\n",
    "\n",
    "# Wait for the transaction to be confirmed\n",
    "wait_for_confirmation(algod_client, txid)\n",
    "\n",
    "# The balance should now be 10.\n",
    "print_asset_holding(algod_client, accounts[2]['public'], asset_id)"
   ]
  },
  {
   "cell_type": "markdown",
   "metadata": {},
   "source": [
    "### Freeze assets of account 2\n",
    "Freeze address (account 1) freezes account 2 USICoin holdings"
   ]
  },
  {
   "cell_type": "code",
   "execution_count": null,
   "metadata": {},
   "outputs": [],
   "source": [
    "params = algod_client.suggested_params()\n",
    "\n",
    "txn = AssetFreezeTxn(\n",
    "    sender=accounts[1]['public'],\n",
    "    sp=params,\n",
    "    index=asset_id,\n",
    "    target=accounts[2][\"public\"],\n",
    "    new_freeze_state=True   \n",
    "    )\n",
    "stxn = txn.sign(accounts[1]['private'])\n",
    "txid = algod_client.send_transaction(stxn)\n",
    "print(txid)\n",
    "\n",
    "# Wait for the transaction to be confirmed\n",
    "wait_for_confirmation(algod_client, txid)\n",
    "\n",
    "# The balance should now be 10 with frozen set to true.\n",
    "print_asset_holding(algod_client, accounts[2]['public'], asset_id)"
   ]
  },
  {
   "cell_type": "markdown",
   "metadata": {},
   "source": [
    "### Clawback assets of account 2\n",
    "clawback address (account 1) revokes 10 USICoin from account 2 and places it back to account 1."
   ]
  },
  {
   "cell_type": "code",
   "execution_count": null,
   "metadata": {},
   "outputs": [],
   "source": [
    "params = algod_client.suggested_params()\n",
    "\n",
    "# Must be signed by the account that is the Asset's clawback address\n",
    "txn = AssetTransferTxn(\n",
    "    sender=accounts[1]['public'],\n",
    "    sp=params,\n",
    "    receiver=accounts[0][\"public\"],\n",
    "    amt=10,\n",
    "    index=asset_id,\n",
    "    revocation_target=accounts[2]['public']\n",
    "    )\n",
    "stxn = txn.sign(accounts[1]['private'])\n",
    "txid = algod_client.send_transaction(stxn)\n",
    "print(txid)\n",
    "\n",
    "# Wait for the transaction to be confirmed\n",
    "wait_for_confirmation(algod_client, txid)\n",
    "# The balance of account 2 should now be 0.\n",
    "print(\"Account 2\")\n",
    "print_asset_holding(algod_client, accounts[2]['public'], asset_id)\n",
    "\n",
    "# The balance of account 0 should increase by 10 to 1000.\n",
    "print(\"Account 0\")\n",
    "print_asset_holding(algod_client, accounts[0]['public'], asset_id)"
   ]
  },
  {
   "cell_type": "markdown",
   "metadata": {},
   "source": [
    "### Destroy asset\n",
    "With all assets back in the creator's account, the manager (Account 0) destroys the asset.\n",
    "- Account 2 must do a transaction for an amount of 0, with a close_assets_to to the creator account, to clear it from its accountholdings.\n",
    "- For Account 0, nothing should print after this as the asset is destroyed on the creator account"
   ]
  },
  {
   "cell_type": "code",
   "execution_count": null,
   "metadata": {},
   "outputs": [],
   "source": [
    "params = algod_client.suggested_params()\n",
    "\n",
    "# Asset destroy transaction\n",
    "txn = AssetConfigTxn(\n",
    "    sender=accounts[0]['public'],\n",
    "    sp=params,\n",
    "    index=asset_id,\n",
    "    strict_empty_address_check=False\n",
    "    )\n",
    "\n",
    "# Sign with secret key of creator\n",
    "stxn = txn.sign(accounts[0]['private'])\n",
    "\n",
    "# Send the transaction to the network and retrieve the txid.\n",
    "txid = algod_client.send_transaction(stxn)\n",
    "print(txid)\n",
    "\n",
    "# Wait for the transaction to be confirmed\n",
    "wait_for_confirmation(algod_client, txid)\n",
    "\n",
    "# Asset has been deleted.\n",
    "try:\n",
    "    print_asset_holding(algod_client, accounts[0]['public'], asset_id)\n",
    "    print_created_asset(algod_client, accounts[0]['public'], asset_id)\n",
    "except Exception as e:\n",
    "    print(e)"
   ]
  }
 ],
 "metadata": {
  "kernelspec": {
   "display_name": "Python 3",
   "language": "python",
   "name": "python3"
  },
  "language_info": {
   "codemirror_mode": {
    "name": "ipython",
    "version": 3
   },
   "file_extension": ".py",
   "mimetype": "text/x-python",
   "name": "python",
   "nbconvert_exporter": "python",
   "pygments_lexer": "ipython3",
   "version": "3.8.8"
  }
 },
 "nbformat": 4,
 "nbformat_minor": 4
}
