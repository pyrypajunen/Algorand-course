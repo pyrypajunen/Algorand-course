{
 "cells": [
  {
   "cell_type": "markdown",
   "metadata": {},
   "source": [
    "## Tokens on the Algorand Blockchain – possible errors\n",
    "#### 04.2 Winter School on Smart Contracts\n",
    "##### Peter Gruber (peter.gruber@usi.ch)\n",
    "2021-11-28\n"
   ]
  },
  {
   "cell_type": "markdown",
   "metadata": {
    "tags": []
   },
   "source": [
    "### Setup\n",
    "See notebook 04.1, the lines below will always automatically load functions in `algo_util.py`, the five accounts and the Purestake credentials"
   ]
  },
  {
   "cell_type": "code",
   "execution_count": null,
   "metadata": {},
   "outputs": [],
   "source": [
    "# Loading shared code and credentials\n",
    "import sys, os\n",
    "codepath = '..'+os.path.sep+'..'+os.path.sep+'sharedCode'\n",
    "sys.path.append(codepath)\n",
    "from algo_util import *\n",
    "cred = load_credentials()\n",
    "\n",
    "# Shortcuts to directly access the 5 main accounts\n",
    "MyAlgo  = cred['MyAlgo']\n",
    "Alice   = cred['Alice']\n",
    "Bob     = cred['Bob']\n",
    "Charlie = cred['Charlie']\n",
    "Dina    = cred['Dina']"
   ]
  },
  {
   "cell_type": "code",
   "execution_count": null,
   "metadata": {},
   "outputs": [],
   "source": [
    "from algosdk import account, mnemonic\n",
    "from algosdk.v2client import algod\n",
    "from algosdk.future.transaction import PaymentTxn\n",
    "from algosdk.future.transaction import AssetConfigTxn, AssetTransferTxn, AssetFreezeTxn, AssetOptInTxn\n",
    "import algosdk.error\n",
    "import json"
   ]
  },
  {
   "cell_type": "code",
   "execution_count": null,
   "metadata": {},
   "outputs": [],
   "source": [
    "# Initialize the algod client (Testnet or Mainnet)\n",
    "algod_client = algod.AlgodClient(algod_token='', algod_address=cred['algod_test'], headers=cred['purestake_token'])"
   ]
  },
  {
   "cell_type": "markdown",
   "metadata": {},
   "source": [
    "# Things that don't work with ASA"
   ]
  },
  {
   "cell_type": "markdown",
   "metadata": {},
   "source": [
    "### Send an ASA without opt-in\n",
    "Send 1 USDC coin to `Charlie`, who so far has not opted in"
   ]
  },
  {
   "cell_type": "code",
   "execution_count": null,
   "metadata": {},
   "outputs": [],
   "source": [
    "# Step 1: prepare and create TX\n",
    "sp = algod_client.suggested_params()             # Suggested params\n",
    "usdc_index = 10458941                            # <-- get this from the issuer of the coin\n",
    "amt = int(1E6)                                   # <-- Send 1 USDC\n",
    "\n",
    "txn = AssetTransferTxn(\n",
    "    sender=MyAlgo['public'],\n",
    "    sp=sp,\n",
    "    receiver=Charlie['public'],                  # <----- He has not opted in!\n",
    "    amt=amt,\n",
    "    index=usdc_index\n",
    "    )                \n",
    "\n",
    "# Step 2: sign \n",
    "signed_txn = txn.sign(MyAlgo['private'])\n",
    "\n",
    "# Step 3: Send\n",
    "try:\n",
    "    txid = algod_client.send_transaction(signed_txn)\n",
    "except algosdk.error.AlgodHTTPError as err:\n",
    "    print(err)                                   # print entire error message\n",
    "    if (\"missing from\" in str(err)):             # check for specific type of error\n",
    "        print(\"Missing Opt-In\")         \n",
    "    txid = None\n",
    "    \n",
    "# Step 4: Wait for confirmation\n",
    "# There is no step 4 here, because we already obtain an error on step 3"
   ]
  },
  {
   "cell_type": "markdown",
   "metadata": {},
   "source": [
    "### Overspending\n",
    "Overspending of ASA looks much like overspending Algos ... only the error message is slightly different"
   ]
  },
  {
   "cell_type": "code",
   "execution_count": null,
   "metadata": {},
   "outputs": [],
   "source": [
    "# Step 1: prepare and create TX\n",
    "sp = algod_client.suggested_params()\n",
    "amt = int(1000 * 1E6)                      # <----- Way too much\n",
    "\n",
    "txn = AssetTransferTxn(\n",
    "    sender=MyAlgo['public'],\n",
    "    sp=sp,\n",
    "    receiver=Alice['public'],              # <----- She has opted in\n",
    "    amt=amt,\n",
    "    index=usdc_index\n",
    "    )                \n",
    "\n",
    "# Step 2: sign \n",
    "signed_txn = txn.sign(MyAlgo['private'])\n",
    "\n",
    "# Step 3: Send\n",
    "try:\n",
    "    txid = algod_client.send_transaction(signed_txn)\n",
    "except algosdk.error.AlgodHTTPError as err:\n",
    "    print(err)                                   # print entire error message\n",
    "    if (\"underflow on subtracting\" in str(err)):                # check for specific type of error\n",
    "        print(\"Overspend error\")         \n",
    "    txid = None\n",
    "        \n",
    "# Step 4: Wait for confirmation\n",
    "# There is no step 4 here, because we already obtain an error on step 3"
   ]
  },
  {
   "cell_type": "markdown",
   "metadata": {},
   "source": [
    "## Appendix"
   ]
  },
  {
   "cell_type": "markdown",
   "metadata": {},
   "source": [
    "#### The `AssetOptInTxn`\n",
    "The AlgoSDK has a special command for opt-ins, the `AssetOptInTxn`. This is not a distict operation type, but rather a shortcut to create an operation of amount 0 to onself. We don't really need it, but you may see it in examples.\n",
    "\n",
    "The opt-in via `AssetOptInTxn` looks like this:"
   ]
  },
  {
   "cell_type": "code",
   "execution_count": null,
   "metadata": {},
   "outputs": [],
   "source": [
    "# Step 1: create transaction\n",
    "txn = AssetOptInTxn(sender = Charlie['public'],     # <-- sender (and receiver) \n",
    "                    sp = sp,                      # <-- sp \n",
    "                    index=usdc_index)             # <-- which token?\n",
    "\n",
    "# Step 2: sign \n",
    "signed_txn = txn.sign(Charlie['private'])\n",
    "\n",
    "# Step 3: Send\n",
    "txid = algod_client.send_transaction(signed_txn)\n",
    "\n",
    "# Step 4: Wait for confirmation\n",
    "txinfo = wait_for_confirmation(algod_client,txid)"
   ]
  }
 ],
 "metadata": {
  "kernelspec": {
   "display_name": "Python 3",
   "language": "python",
   "name": "python3"
  },
  "language_info": {
   "codemirror_mode": {
    "name": "ipython",
    "version": 3
   },
   "file_extension": ".py",
   "mimetype": "text/x-python",
   "name": "python",
   "nbconvert_exporter": "python",
   "pygments_lexer": "ipython3",
   "version": "3.8.8"
  }
 },
 "nbformat": 4,
 "nbformat_minor": 4
}
