{
 "cells": [
  {
   "cell_type": "markdown",
   "metadata": {},
   "source": [
    "## Tokens on the Algorand Blockchain\n",
    "#### 04.1 Winter School on Smart Contracts\n",
    "##### Peter Gruber (peter.gruber@usi.ch)\n",
    "2023-02-09 (started 2021-11-28)\n",
    "\n",
    "* Opt-in and payments with tokens"
   ]
  },
  {
   "cell_type": "markdown",
   "metadata": {
    "tags": []
   },
   "source": [
    "## Setup\n",
    "Starting with chapter 3.5, the lines below will always automatically load ...\n",
    "* The functions in `algo_util.py`\n",
    "* The accounts MyAlgo, Alice and Bob\n",
    "* The Purestake credentials"
   ]
  },
  {
   "cell_type": "code",
   "execution_count": 1,
   "metadata": {},
   "outputs": [],
   "source": [
    "# Loading shared code and credentials\n",
    "import sys, os\n",
    "codepath = '..'+os.path.sep+'..'+os.path.sep+'sharedCode'\n",
    "sys.path.append(codepath)\n",
    "from algo_util import *\n",
    "cred = load_credentials()\n",
    "\n",
    "# Shortcuts to directly access the main accounts\n",
    "MyAlgo  = cred['MyAlgo']\n",
    "Alice   = cred['Alice']\n",
    "Bob     = cred['Bob']\n",
    "Charlie = cred['Charlie']\n",
    "Dina    = cred['Dina']"
   ]
  },
  {
   "cell_type": "code",
   "execution_count": 2,
   "metadata": {},
   "outputs": [],
   "source": [
    "from algosdk import account, mnemonic\n",
    "from algosdk.v2client import algod\n",
    "from algosdk.transaction import PaymentTxn\n",
    "from algosdk.transaction import AssetConfigTxn, AssetTransferTxn, AssetFreezeTxn\n",
    "import algosdk.error\n",
    "import json"
   ]
  },
  {
   "cell_type": "code",
   "execution_count": 3,
   "metadata": {},
   "outputs": [
    {
     "data": {
      "text/plain": [
       "27732231"
      ]
     },
     "execution_count": 3,
     "metadata": {},
     "output_type": "execute_result"
    }
   ],
   "source": [
    "# Initialize the algod client (Testnet or Mainnet)\n",
    "algod_client = algod.AlgodClient(algod_token='', algod_address=cred['algod_test'], headers=cred['purestake_token'])\n",
    "algod_client.status()['last-round']"
   ]
  },
  {
   "cell_type": "markdown",
   "metadata": {},
   "source": [
    "# ASA = Algorand Standard Assets\n",
    "* All tokens (except the native ALGOs) on the Algorand blockchain are ASAs\n",
    "* Every ASA has a unique index number.\n",
    "\n",
    "### Example: USDC\n",
    "* USDC is the second largest USD stablecoin\n",
    "* See https://coinmarketcap.com/view/stablecoin/\n",
    "* Unlike the largest one (Tether), it is US-regulated and audited\n",
    "* USDC on the Testnet: https://testnet.algoexplorer.io/asset/10458941\n",
    "* USDC on the Mainnet: https://algoexplorer.io/asset/31566704"
   ]
  },
  {
   "cell_type": "markdown",
   "metadata": {},
   "source": [
    "## The opt-in requirement\n",
    "* Every account needs to opt into *each* ASA it wants to hold.\n",
    "* Same for Smart Contracts.\n",
    "\n",
    "##### Why the opt-in requirement?\n",
    "* Avoid spam transactions\n",
    "* Ensure minimum balance"
   ]
  },
  {
   "cell_type": "markdown",
   "metadata": {},
   "source": [
    "### Opt-in with the Pera Algo Wallet\n",
    "* If you have not yet done so, opt into USDC on your MyAlgo account\n",
    "    * Tap on `MyAlgo` > Tap on green `+` next to \"Assets\" > Find name or asset ID on list > Tap on `+` >  Approve transaction\n",
    "    * Obtain free (test) USDC by following the link below"
   ]
  },
  {
   "cell_type": "code",
   "execution_count": 4,
   "metadata": {},
   "outputs": [
    {
     "name": "stdout",
     "output_type": "stream",
     "text": [
      "https://dispenser.testnet.aws.algodev.network/?account=33SG2MXXXQHP2ZMJUJ2DRKLRKTZ7DJBGKHFREPYCE3RXCUPYRL2LN57BSA\n"
     ]
    }
   ],
   "source": [
    "print('https://dispenser.testnet.aws.algodev.network/?account='+MyAlgo['public'])"
   ]
  },
  {
   "cell_type": "markdown",
   "metadata": {},
   "source": [
    "### Manual transfer in Pera Algo Wallet\n",
    "* Send 10 USDC via QR code to your neighbour"
   ]
  },
  {
   "cell_type": "markdown",
   "metadata": {},
   "source": [
    "##  Opt-in with Python\n",
    "* `Alice` opts into USDC\n",
    "    * She needs the index of the ASA – for USDC **on the TestNet** this is 10458941\n",
    "    * She sends 0 units of the ASA to yourself\n",
    "    * New transaction type `AssetTransferTxn` "
   ]
  },
  {
   "cell_type": "code",
   "execution_count": 10,
   "metadata": {},
   "outputs": [],
   "source": [
    "# Alice opts into USDC. \n",
    "\n",
    "# Step 1: prepare AssetTransferTxn\n",
    "\n",
    "sp = algod_client.suggested_params()             # suggested params\n",
    "usdc_index = 10458941                            # <-- get from the issuer of the coin\n",
    "amt = int(0)                                     # <-- send 0 coins\n",
    "\n",
    "txn = AssetTransferTxn(\n",
    "    sender = Alice['public'],                    # <-- Alice sends ...\n",
    "    sp=sp,\n",
    "    receiver=Alice['public'],                    # <-- ... to herself\n",
    "    amt=amt,\n",
    "    index=usdc_index                             # <-- specify ASA\n",
    "    )                               "
   ]
  },
  {
   "cell_type": "code",
   "execution_count": 11,
   "metadata": {},
   "outputs": [
    {
     "name": "stdout",
     "output_type": "stream",
     "text": [
      "PP6BQZG7TLKJNUFW6P5F3CHUJRM43Y4JZLRDTH4GU3KEYPMI27SQ\n"
     ]
    }
   ],
   "source": [
    "# Step 2+3: sign and send\n",
    "stxn = txn.sign(Alice['private'])               # Sign\n",
    "txid = algod_client.send_transaction(stxn)      # Send\n",
    "print(txid)"
   ]
  },
  {
   "cell_type": "code",
   "execution_count": 12,
   "metadata": {},
   "outputs": [
    {
     "name": "stdout",
     "output_type": "stream",
     "text": [
      "Current round is  27732416.\n",
      "Waiting for round 27732416 to finish.\n",
      "Waiting for round 27732417 to finish.\n",
      "Transaction PP6BQZG7TLKJNUFW6P5F3CHUJRM43Y4JZLRDTH4GU3KEYPMI27SQ confirmed in round 27732418.\n"
     ]
    }
   ],
   "source": [
    "# Step 4: Wait for confirmation\n",
    "txinfo = wait_for_confirmation(algod_client,txid)"
   ]
  },
  {
   "cell_type": "markdown",
   "metadata": {},
   "source": [
    "#### Alice gets some USDC\n",
    "* Now that Alice has opted in, she can ask for some USDC\n",
    "* Alternative address https://usdcfaucet.com"
   ]
  },
  {
   "cell_type": "code",
   "execution_count": 13,
   "metadata": {},
   "outputs": [
    {
     "name": "stdout",
     "output_type": "stream",
     "text": [
      "https://dispenser.testnet.aws.algodev.network/?account=GFJ3O3QBJ4H3KPXYA4MFTTDA7TMEPZXAEUHCSF3J6GEDAXMML4A55KYSL4\n"
     ]
    }
   ],
   "source": [
    "print('https://dispenser.testnet.aws.algodev.network/?account='+Alice['public'])"
   ]
  },
  {
   "cell_type": "markdown",
   "metadata": {},
   "source": [
    "#### Check balance on the web\n",
    "* **Hint:** Click into the triangle next to *Balances*"
   ]
  },
  {
   "cell_type": "code",
   "execution_count": 14,
   "metadata": {
    "tags": []
   },
   "outputs": [
    {
     "name": "stdout",
     "output_type": "stream",
     "text": [
      "https://testnet.algoexplorer.io/address/GFJ3O3QBJ4H3KPXYA4MFTTDA7TMEPZXAEUHCSF3J6GEDAXMML4A55KYSL4\n"
     ]
    }
   ],
   "source": [
    "print('https://testnet.algoexplorer.io/address/'+Alice['public'])"
   ]
  },
  {
   "cell_type": "markdown",
   "metadata": {},
   "source": [
    "#### Get the balance in Python"
   ]
  },
  {
   "cell_type": "code",
   "execution_count": 15,
   "metadata": {
    "tags": []
   },
   "outputs": [
    {
     "data": {
      "text/plain": [
       "{'address': 'GFJ3O3QBJ4H3KPXYA4MFTTDA7TMEPZXAEUHCSF3J6GEDAXMML4A55KYSL4',\n",
       " 'amount': 24135000,\n",
       " 'amount-without-pending-rewards': 24135000,\n",
       " 'apps-local-state': [],\n",
       " 'apps-total-schema': {'num-byte-slice': 0, 'num-uint': 0},\n",
       " 'assets': [{'amount': 100000000, 'asset-id': 10458941, 'is-frozen': False}],\n",
       " 'created-apps': [],\n",
       " 'created-assets': [],\n",
       " 'min-balance': 200000,\n",
       " 'pending-rewards': 0,\n",
       " 'reward-base': 27521,\n",
       " 'rewards': 0,\n",
       " 'round': 27732418,\n",
       " 'status': 'Offline',\n",
       " 'total-apps-opted-in': 0,\n",
       " 'total-assets-opted-in': 1,\n",
       " 'total-created-apps': 0,\n",
       " 'total-created-assets': 0}"
      ]
     },
     "execution_count": 15,
     "metadata": {},
     "output_type": "execute_result"
    }
   ],
   "source": [
    "algod_client.account_info(Alice['public'])"
   ]
  },
  {
   "cell_type": "code",
   "execution_count": 16,
   "metadata": {},
   "outputs": [
    {
     "data": {
      "text/plain": [
       "[{'amount': 110000000, 'asset-id': 10458941, 'is-frozen': False},\n",
       " {'amount': 0, 'asset-id': 12887013, 'is-frozen': False}]"
      ]
     },
     "execution_count": 16,
     "metadata": {},
     "output_type": "execute_result"
    }
   ],
   "source": [
    "# Just the assets\n",
    "algod_client.account_info(MyAlgo['public'])['assets']"
   ]
  },
  {
   "cell_type": "code",
   "execution_count": 17,
   "metadata": {},
   "outputs": [
    {
     "data": {
      "text/plain": [
       "[{'amount': 110000000, 'asset-id': 10458941, 'is-frozen': False}]"
      ]
     },
     "execution_count": 17,
     "metadata": {},
     "output_type": "execute_result"
    }
   ],
   "source": [
    "# Potentially a very long list ... filter entry of interest\n",
    "[asset for asset in algod_client.account_info(MyAlgo['public'])['assets'] if asset['asset-id']==usdc_index]"
   ]
  },
  {
   "cell_type": "markdown",
   "metadata": {},
   "source": [
    "## ASA bookkeeping\n",
    "Have a close look at Alice's holdings ...\n",
    "* ASA are divisible\n",
    "* The creator can decide the number of decimals\n",
    "* Example: USDC has 6 decimals, see https://testnet.algoexplorer.io/asset/10458941\n",
    "\n",
    "##### All amounts are specified in the *small unit*\n",
    "* Holdings\n",
    "* Transactions\n",
    "* Smart contracts\n",
    "\n",
    "##### ❗️ Different ASA can have a different number of decimals"
   ]
  },
  {
   "cell_type": "markdown",
   "metadata": {},
   "source": [
    "#### Denoting 1 USDC\n",
    "* USDC has 6 decimals\n",
    "* Hence 1 USDC must be denoted as   $1 \\cdot 10^6$   micro-USDC"
   ]
  },
  {
   "cell_type": "code",
   "execution_count": 18,
   "metadata": {},
   "outputs": [],
   "source": [
    "# Three ways to write \"1 Million\" in Python\n",
    "amt_1 = 1000000\n",
    "amt_2 = 1_000_000       # Python ignores the underscore in numbers\n",
    "amt_3 = int(1E6)        # Need int(), because 1E6 produces a float number"
   ]
  },
  {
   "cell_type": "markdown",
   "metadata": {},
   "source": [
    "## Transfer coins"
   ]
  },
  {
   "cell_type": "markdown",
   "metadata": {},
   "source": [
    "### Exercise: Python transfer to Bob \n",
    "* Transfer 10 USDC from `Alice` to `Bob`\n",
    "* We already have all the elemens to do this\n",
    "* Just do not forget to ... "
   ]
  },
  {
   "cell_type": "code",
   "execution_count": 21,
   "metadata": {},
   "outputs": [
    {
     "name": "stdout",
     "output_type": "stream",
     "text": [
      "WKLNPR4FAU5JWJL4BF7C65U3T22WRRD5HOJASADAJC3X5VYAWA2Q\n",
      "Current round is  27732447.\n",
      "Waiting for round 27732447 to finish.\n",
      "Waiting for round 27732448 to finish.\n",
      "Transaction WKLNPR4FAU5JWJL4BF7C65U3T22WRRD5HOJASADAJC3X5VYAWA2Q confirmed in round 27732449.\n"
     ]
    }
   ],
   "source": [
    "# Bob opts into USDC. \n",
    "\n",
    "# Step 1: create AssetTransferTxn\n",
    "\n",
    "sp = algod_client.suggested_params()             # Suggested params\n",
    "usdc_index = 10458941                            # <-- get this from the issuer of the coin\n",
    "amt = int(0)                                     # <-- Send 0 coins\n",
    "\n",
    "txn = AssetTransferTxn(\n",
    "    sender = Bob['public'],                      # <-- Bob sends ...\n",
    "    sp=sp,\n",
    "    receiver=Bob['public'],                      # <-- ... to himself\n",
    "    amt=amt,                                     # <-- Zero coins\n",
    "    index=usdc_index                             # <-- Specify which ASA ... here it is USDC\n",
    "    )                               \n",
    "\n",
    "# Step 2+3: sign and send\n",
    "stxn = txn.sign(Bob['private'])\n",
    "txid = algod_client.send_transaction(stxn)\n",
    "print(txid)\n",
    "\n",
    "# Step 4: Wait for confirmation\n",
    "txinfo = wait_for_confirmation(algod_client,txid)"
   ]
  },
  {
   "cell_type": "code",
   "execution_count": 22,
   "metadata": {},
   "outputs": [
    {
     "name": "stdout",
     "output_type": "stream",
     "text": [
      "L5D4XKT6KUFCXDG6APP3MFNM4YXVC5JNP6CWHXRLKU45USPXJQ7Q\n",
      "Current round is  27732449.\n",
      "Waiting for round 27732449 to finish.\n",
      "Waiting for round 27732450 to finish.\n",
      "Transaction L5D4XKT6KUFCXDG6APP3MFNM4YXVC5JNP6CWHXRLKU45USPXJQ7Q confirmed in round 27732451.\n"
     ]
    }
   ],
   "source": [
    "# MyAlgo sends 10 USDC to BOB\n",
    "\n",
    "# Step 1: create AssetTransferTxn\n",
    "sp = algod_client.suggested_params()\n",
    "usdc_index = 10458941 \n",
    "amt = int(10 * 1E6)                             \n",
    "\n",
    "txn = AssetTransferTxn(\n",
    "    sender = Alice['public'],                   \n",
    "    sp=sp,\n",
    "    receiver=Bob['public'],                      \n",
    "    amt=amt,                                    \n",
    "    index=usdc_index \n",
    "    )                               \n",
    "\n",
    "# Step 2+3: sign and send\n",
    "stxn = txn.sign(Alice['private'])  \n",
    "txid = algod_client.send_transaction(stxn)\n",
    "print(txid)\n",
    "\n",
    "# Step 4: Wait for confirmation\n",
    "txinfo = wait_for_confirmation(algod_client,txid)\n"
   ]
  },
  {
   "cell_type": "markdown",
   "metadata": {},
   "source": [
    "#### Then check Bob's balance on the Web"
   ]
  },
  {
   "cell_type": "code",
   "execution_count": null,
   "metadata": {
    "tags": []
   },
   "outputs": [],
   "source": [
    "print('https://testnet.algoexplorer.io/address/'+Bob['public'])"
   ]
  }
 ],
 "metadata": {
  "kernelspec": {
   "display_name": "Python 3 (ipykernel)",
   "language": "python",
   "name": "python3"
  },
  "language_info": {
   "codemirror_mode": {
    "name": "ipython",
    "version": 3
   },
   "file_extension": ".py",
   "mimetype": "text/x-python",
   "name": "python",
   "nbconvert_exporter": "python",
   "pygments_lexer": "ipython3",
   "version": "3.9.13"
  }
 },
 "nbformat": 4,
 "nbformat_minor": 4
}
