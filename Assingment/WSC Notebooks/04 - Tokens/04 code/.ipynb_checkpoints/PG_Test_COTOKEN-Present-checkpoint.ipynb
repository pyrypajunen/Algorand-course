{
 "cells": [
  {
   "cell_type": "markdown",
   "metadata": {},
   "source": [
    "## Prototype: The CO(2)-token\n",
    "### Ticker: COtoken\n",
    "##### Peter Gruber (peter.gruber@usi.ch)\n",
    "2022-01-18\n"
   ]
  },
  {
   "cell_type": "markdown",
   "metadata": {},
   "source": [
    "## Setup and creation of accounts"
   ]
  },
  {
   "cell_type": "code",
   "execution_count": 167,
   "metadata": {},
   "outputs": [],
   "source": [
    "from algosdk import account, mnemonic\n",
    "import base64\n",
    "def generate_account_dict():\n",
    "    private_key = account.generate_account()[0]    # need [0], because generate_account() returns a list\n",
    "    acc = {}\n",
    "    acc['public'] = account.address_from_private_key(private_key)\n",
    "    acc['private'] = private_key\n",
    "    acc['mnemonic'] = mnemonic.from_private_key(private_key)\n",
    "    return acc"
   ]
  },
  {
   "cell_type": "markdown",
   "metadata": {},
   "source": [
    "## Create accounts\n",
    "- programatically\n",
    "- manually in Algorand wallet\n",
    "- by adding existing accounts"
   ]
  },
  {
   "cell_type": "code",
   "execution_count": 25,
   "metadata": {},
   "outputs": [],
   "source": [
    "Issuer = generate_account_dict()\n",
    "Manager = generate_account_dict()\n",
    "Buyer1 = generate_account_dict()\n",
    "Buyer2 = generate_account_dict()"
   ]
  },
  {
   "cell_type": "code",
   "execution_count": 39,
   "metadata": {},
   "outputs": [
    {
     "name": "stdout",
     "output_type": "stream",
     "text": [
      "7AIUQEYWVJGWRZ4RJY2RVG6ODXFBWSNGHPBVNJLWFZ2VDUE4L62OD6QB7Q\n",
      "MK3FHYDTCLCOXBJR4Z742EPF542I4DFTUWFUWONWAPCOR3LXC3X6USCUFA\n",
      "5VO2I6F3FRREOE3F4D2PSPW34BRHQQZTGNHLZ62L4JX7QAEIV25ENBWFLQ\n",
      "5AEW7TGF2KDS4RUZZM3KZ4MO3OFMHUZSELXOFKZGWFSKTVUWW6N4LOGIZI\n"
     ]
    }
   ],
   "source": [
    "print(Issuer['public'])\n",
    "print(Manager['public'])\n",
    "print(Buyer1['public'])\n",
    "print(Buyer2['public'])"
   ]
  },
  {
   "cell_type": "code",
   "execution_count": 42,
   "metadata": {},
   "outputs": [
    {
     "data": {
      "text/plain": [
       "'332K7LY7US3BDQULQO4MX2B4VULSNXVEEAZMWCCPKKPXXPRI4CVPA2VX2A'"
      ]
     },
     "execution_count": 42,
     "metadata": {},
     "output_type": "execute_result"
    }
   ],
   "source": [
    "WSC ={'public': \"332K7LY7US3BDQULQO4MX2B4VULSNXVEEAZMWCCPKKPXXPRI4CVPA2VX2A\"}"
   ]
  },
  {
   "cell_type": "markdown",
   "metadata": {},
   "source": [
    "## Fund accounts (testnet)\n",
    "- https://bank.testnet.algorand.network/\n",
    "- https://testnet.algoexplorer.io/dispenser"
   ]
  },
  {
   "cell_type": "markdown",
   "metadata": {},
   "source": [
    "### Connect to Purestake API"
   ]
  },
  {
   "cell_type": "code",
   "execution_count": 30,
   "metadata": {},
   "outputs": [],
   "source": [
    "import json\n",
    "from algosdk.v2client import algod\n",
    "from algosdk.future import transaction\n",
    "from algosdk.future.transaction import AssetConfigTxn, AssetTransferTxn, AssetFreezeTxn\n",
    "from pyteal import *\n",
    "\n",
    "algod_token   = ''   # not needed \n",
    "algod_address = 'https://testnet-algorand.api.purestake.io/ps2'\n",
    "purestake_token = {'X-Api-key': 'oyeZBy77op4DFk7SxRaKgsgcqPDbvgH1Nh72vxo6'}\n",
    "\n",
    "# Initialize algod client\n",
    "algod_client = algod.AlgodClient(algod_token=algod_token, algod_address=algod_address, headers=purestake_token)\n",
    "\n",
    "# Get parameters\n",
    "params = algod_client.suggested_params()"
   ]
  },
  {
   "cell_type": "code",
   "execution_count": 88,
   "metadata": {},
   "outputs": [],
   "source": [
    "# helper function that waits for a given txid to be confirmed by the network\n",
    "def wait_for_confirmation(client, transaction_id, timeout):\n",
    "    \"\"\"\n",
    "    Wait until the transaction is confirmed or rejected, or until 'timeout'\n",
    "    number of rounds have passed.\n",
    "    Args:\n",
    "        transaction_id (str): the transaction to wait for\n",
    "        timeout (int): maximum number of rounds to wait    \n",
    "    Returns:\n",
    "        dict: pending transaction information, or throws an error if the transaction\n",
    "            is not confirmed or rejected in the next timeout rounds\n",
    "    \"\"\"\n",
    "    start_round = client.status()[\"last-round\"] + 1\n",
    "    current_round = start_round\n",
    "\n",
    "    while current_round < start_round + timeout:\n",
    "        try:\n",
    "            pending_txn = client.pending_transaction_info(transaction_id)\n",
    "        except Exception:\n",
    "            return \n",
    "        if pending_txn.get(\"confirmed-round\", 0) > 0:\n",
    "            return pending_txn\n",
    "        elif pending_txn[\"pool-error\"]:  \n",
    "            raise Exception(\n",
    "                'pool error: {}'.format(pending_txn[\"pool-error\"]))\n",
    "        client.status_after_block(current_round)                   \n",
    "        current_round += 1\n",
    "    raise Exception(\n",
    "        'pending tx not found in timeout rounds, timeout value = : {}'.format(timeout))\n",
    "\n",
    "def print_created_asset(algodclient, account, assetid):    \n",
    "    account_info = algodclient.account_info(account)\n",
    "    idx = 0;\n",
    "    for my_account_info in account_info['created-assets']:\n",
    "        scrutinized_asset = account_info['created-assets'][idx]\n",
    "        idx = idx + 1       \n",
    "        if (scrutinized_asset['index'] == assetid):\n",
    "            print(\"Asset ID: {}\".format(scrutinized_asset['index']))\n",
    "            print(json.dumps(my_account_info['params'], indent=4))\n",
    "            break\n",
    "\n",
    "def print_asset_holding(algodclient, account, assetid):\n",
    "    account_info = algodclient.account_info(account)\n",
    "    idx = 0\n",
    "    for my_account_info in account_info['assets']:\n",
    "        scrutinized_asset = account_info['assets'][idx]\n",
    "        idx = idx + 1        \n",
    "        if (scrutinized_asset['asset-id'] == assetid):\n",
    "            print(\"Asset ID: {}\".format(scrutinized_asset['asset-id']))\n",
    "            print(json.dumps(scrutinized_asset, indent=4))\n",
    "            break\n",
    "\n",
    "def compile_smart_signature(client, source_code):\n",
    "    compile_response = client.compile(source_code)\n",
    "    return compile_response['result'], compile_response['hash']"
   ]
  },
  {
   "cell_type": "code",
   "execution_count": 170,
   "metadata": {},
   "outputs": [],
   "source": [
    "def payment_transaction(creator_mnemonic, amt, rcv, algod_client)->dict:\n",
    "    params = algod_client.suggested_params()\n",
    "    add = mnemonic.to_public_key(creator_mnemonic)\n",
    "    key = mnemonic.to_private_key(creator_mnemonic)\n",
    "    unsigned_txn = transaction.PaymentTxn(add, params, rcv, amt)\n",
    "    signed = unsigned_txn.sign(key)\n",
    "    txid = algod_client.send_transaction(signed)\n",
    "    pmtx = wait_for_confirmation(algod_client, txid , 5)\n",
    "    return pmtx\n"
   ]
  },
  {
   "cell_type": "code",
   "execution_count": 165,
   "metadata": {},
   "outputs": [],
   "source": [
    "def lsig_payment_txn(escrowProg, escrow_address, amt, rcv, algod_client):\n",
    "    params = algod_client.suggested_params()\n",
    "    unsigned_txn = transaction.PaymentTxn(escrow_address, params, rcv, amt)\n",
    "    encodedProg = escrowProg.encode()\n",
    "    program = base64.decodebytes(encodedProg)\n",
    "    lsig = transaction.LogicSig(program)\n",
    "    stxn = transaction.LogicSigTransaction(unsigned_txn, lsig)\n",
    "    tx_id = algod_client.send_transaction(stxn)\n",
    "    pmtx = wait_for_confirmation(algod_client, tx_id, 10)\n",
    "    return pmtx "
   ]
  },
  {
   "cell_type": "code",
   "execution_count": 184,
   "metadata": {},
   "outputs": [],
   "source": [
    "def lsig_payment_txn_ASA(escrowProg, escrow_address, amt, rcv, ASA_index, algod_client):\n",
    "    params = algod_client.suggested_params()\n",
    "    unsigned_txn = transaction.AssetTransferTxn(escrow_address, params, escrow_address, 0, ASA_index)\n",
    "    encodedProg = escrowProg.encode()\n",
    "    program = base64.decodebytes(encodedProg)\n",
    "    lsig = transaction.LogicSig(program)\n",
    "    stxn = transaction.LogicSigTransaction(unsigned_txn, lsig)\n",
    "    tx_id = algod_client.send_transaction(stxn)\n",
    "    pmtx = wait_for_confirmation(algod_client, tx_id, 10)\n",
    "    return pmtx "
   ]
  },
  {
   "cell_type": "code",
   "execution_count": 149,
   "metadata": {},
   "outputs": [],
   "source": [
    "def lsig_payment_txn_note(escrowProg, escrow_address, amt, rcv, algod_client,my_note):\n",
    "    note = my_note.encode()\n",
    "    params = algod_client.suggested_params()\n",
    "    unsigned_txn = transaction.PaymentTxn(escrow_address, params, rcv, amt,None, note)\n",
    "    encodedProg = escrowProg.encode()\n",
    "    program = base64.decodebytes(encodedProg)\n",
    "    lsig = transaction.LogicSig(program)\n",
    "    stxn = transaction.LogicSigTransaction(unsigned_txn, lsig)\n",
    "    tx_id = algod_client.send_transaction(stxn)\n",
    "    pmtx = wait_for_confirmation(algod_client, tx_id, 10)\n",
    "    return pmtx "
   ]
  },
  {
   "cell_type": "markdown",
   "metadata": {},
   "source": [
    "### Create COTOKEN\n",
    "The `Issuer` creates an asset called COtoken, and nominates `Manager` as the manager, reserve, freeze and clawback address. "
   ]
  },
  {
   "cell_type": "code",
   "execution_count": 32,
   "metadata": {},
   "outputs": [],
   "source": [
    "# Preprare Creation\n",
    "txn = AssetConfigTxn(\n",
    "    sender=Issuer['public'],       # Issuer\n",
    "    sp=params,                     # Network parameters\n",
    "    total=1000000,                 # Total CO2 available (in \"milli CO2\")\n",
    "    decimals=3,                    # Attention! Total in 1/1000ths (1kg)\n",
    "    default_frozen=False,          # Are tokens frozen by default?\n",
    "    unit_name=\"CO2\",     \n",
    "    asset_name=\"COtoken\",\n",
    "    manager=Manager['public'],\n",
    "    reserve=Manager['public'],\n",
    "    freeze=Manager['public'],\n",
    "    clawback=Manager['public'],\n",
    "    url=\"www.usi.ch/wsc\")\n",
    "\n",
    "# Sign with private key of creator\n",
    "stxn = txn.sign(Issuer['private'])\n",
    "\n",
    "# Send the transaction to the network and retrieve the txid.\n",
    "txid = algod_client.send_transaction(stxn)\n",
    "print(txid)\n",
    "\n",
    "# Wait for the transaction to be confirmed\n",
    "wait_for_confirmation(algod_client,txid,5)"
   ]
  },
  {
   "cell_type": "code",
   "execution_count": 36,
   "metadata": {},
   "outputs": [
    {
     "name": "stdout",
     "output_type": "stream",
     "text": [
      "{'sig': 'JqKqb1TU0qZeeWdbcUwKCV+Hrx/RFe/EkT34X4HRZI959iK0eqYgElEdt+8O2tItgVrAEkEdljbDf1VKi8fUDw==', 'txn': {'apar': {'an': 'COtoken', 'au': 'www.usi.ch/wsc', 'c': 'MK3FHYDTCLCOXBJR4Z742EPF542I4DFTUWFUWONWAPCOR3LXC3X6USCUFA', 'dc': 3, 'f': 'MK3FHYDTCLCOXBJR4Z742EPF542I4DFTUWFUWONWAPCOR3LXC3X6USCUFA', 'm': 'MK3FHYDTCLCOXBJR4Z742EPF542I4DFTUWFUWONWAPCOR3LXC3X6USCUFA', 'r': 'MK3FHYDTCLCOXBJR4Z742EPF542I4DFTUWFUWONWAPCOR3LXC3X6USCUFA', 't': 1000000, 'un': 'CO2'}, 'fee': 1000, 'fv': 19211381, 'gen': 'testnet-v1.0', 'gh': 'SGO1GKSzyE7IEPItTxCByw9x8FmnrCDexi9/cOUJOiI=', 'lv': 19212381, 'snd': '7AIUQEYWVJGWRZ4RJY2RVG6ODXFBWSNGHPBVNJLWFZ2VDUE4L62OD6QB7Q', 'type': 'acfg'}}\n"
     ]
    }
   ],
   "source": [
    "print(ptx[\"txn\"])"
   ]
  },
  {
   "cell_type": "code",
   "execution_count": 58,
   "metadata": {},
   "outputs": [
    {
     "name": "stdout",
     "output_type": "stream",
     "text": [
      "'asset-index'\n"
     ]
    }
   ],
   "source": [
    "try:\n",
    "    # get asset_id from tx\n",
    "    # Get the new asset's information and holdings\n",
    "    ptx = algod_client.pending_transaction_info(txid)\n",
    "    asset_id = ptx[\"asset-index\"]\n",
    "    print_created_asset(algod_client, Issuer['public'], asset_id)\n",
    "    print_asset_holding(algod_client, Issuer['public'], asset_id)\n",
    "except Exception as e:\n",
    "    print(e)"
   ]
  },
  {
   "cell_type": "markdown",
   "metadata": {},
   "source": [
    "### Check on Algoexplorer\n",
    "- https://testnet.algoexplorer.io\n",
    "- Can check for asset ID and **Asset name**\n",
    "- Check \"holders\""
   ]
  },
  {
   "cell_type": "markdown",
   "metadata": {},
   "source": [
    "### Opt-In\n",
    "* WSC, Buyer1, Buyer2 have to opt in\n",
    "* Algorand Wallet: \"Add new asset\" >> \"all\" (not verified) >> asset-id >> \"OK\""
   ]
  },
  {
   "cell_type": "code",
   "execution_count": 54,
   "metadata": {},
   "outputs": [],
   "source": [
    "# To opt in, send zero C02 to yourself\n",
    "txn = AssetTransferTxn(sender=Buyer2['public'], sp=params, receiver=Buyer2['public'], amt=0, index=asset_id)\n",
    "stxn = txn.sign(Buyer2['private'])\n",
    "txid = algod_client.send_transaction(stxn)\n",
    "print(txid)\n",
    "wait_for_confirmation(algod_client, txid,5)"
   ]
  },
  {
   "cell_type": "code",
   "execution_count": 61,
   "metadata": {},
   "outputs": [
    {
     "name": "stdout",
     "output_type": "stream",
     "text": [
      "Asset ID: 62583103\n",
      "{\n",
      "    \"amount\": 0,\n",
      "    \"asset-id\": 62583103,\n",
      "    \"creator\": \"7AIUQEYWVJGWRZ4RJY2RVG6ODXFBWSNGHPBVNJLWFZ2VDUE4L62OD6QB7Q\",\n",
      "    \"is-frozen\": false\n",
      "}\n"
     ]
    }
   ],
   "source": [
    "#account_info = algod_client.account_info(account)\n",
    "print_asset_holding(algod_client, Buyer2['public'], asset_id)"
   ]
  },
  {
   "cell_type": "markdown",
   "metadata": {},
   "source": [
    "## Send free CO token to everyone\n",
    "Check Algorand wallet notification and change in balance"
   ]
  },
  {
   "cell_type": "code",
   "execution_count": 76,
   "metadata": {},
   "outputs": [],
   "source": [
    "def send_free_CO2(recipient,amount=1000):\n",
    "    txn = AssetTransferTxn(sender=Issuer['public'],sp=params,receiver=recipient,amt=amount,index=asset_id)\n",
    "    stxn = txn.sign(Issuer['private'])\n",
    "    txid = algod_client.send_transaction(stxn)\n",
    "    wait_for_confirmation(algod_client, txid,5)\n",
    "    return(txid)\n",
    "\n",
    "#print_asset_holding(algod_client, Buyer1['public'], asset_id)"
   ]
  },
  {
   "cell_type": "code",
   "execution_count": 77,
   "metadata": {},
   "outputs": [
    {
     "data": {
      "text/plain": [
       "'MPJEYSQIFQO6E7RZMX4W5IW77KVICAF7VUPBKJGHSGSE7V33FVUQ'"
      ]
     },
     "execution_count": 77,
     "metadata": {},
     "output_type": "execute_result"
    }
   ],
   "source": [
    "send_free_CO2(Buyer1['public'])"
   ]
  },
  {
   "cell_type": "code",
   "execution_count": 78,
   "metadata": {},
   "outputs": [
    {
     "data": {
      "text/plain": [
       "'HPMDU5WU3QFSO5RQJ4WWQ4AYSSQNOJQEXSQD2CHNSTK6JPMAIVXA'"
      ]
     },
     "execution_count": 78,
     "metadata": {},
     "output_type": "execute_result"
    }
   ],
   "source": [
    "send_free_CO2(Buyer2['public'])"
   ]
  },
  {
   "cell_type": "code",
   "execution_count": 85,
   "metadata": {},
   "outputs": [
    {
     "ename": "AlgodHTTPError",
     "evalue": "{\"message\":\"TransactionPool.Remember: transaction already in ledger: HR5QDDAHCDRP5UQASN3JU3657XHAU5ZLZU3VNPPZQOYNDJIEHW4A\"}\n",
     "output_type": "error",
     "traceback": [
      "\u001b[0;31m---------------------------------------------------------------------------\u001b[0m",
      "\u001b[0;31mHTTPError\u001b[0m                                 Traceback (most recent call last)",
      "\u001b[0;32m~/opt/anaconda3/lib/python3.8/site-packages/algosdk/v2client/algod.py\u001b[0m in \u001b[0;36malgod_request\u001b[0;34m(self, method, requrl, params, data, headers, response_format)\u001b[0m\n\u001b[1;32m     71\u001b[0m         \u001b[0;32mtry\u001b[0m\u001b[0;34m:\u001b[0m\u001b[0;34m\u001b[0m\u001b[0;34m\u001b[0m\u001b[0m\n\u001b[0;32m---> 72\u001b[0;31m             \u001b[0mresp\u001b[0m \u001b[0;34m=\u001b[0m \u001b[0murlopen\u001b[0m\u001b[0;34m(\u001b[0m\u001b[0mreq\u001b[0m\u001b[0;34m)\u001b[0m\u001b[0;34m\u001b[0m\u001b[0;34m\u001b[0m\u001b[0m\n\u001b[0m\u001b[1;32m     73\u001b[0m         \u001b[0;32mexcept\u001b[0m \u001b[0murllib\u001b[0m\u001b[0;34m.\u001b[0m\u001b[0merror\u001b[0m\u001b[0;34m.\u001b[0m\u001b[0mHTTPError\u001b[0m \u001b[0;32mas\u001b[0m \u001b[0me\u001b[0m\u001b[0;34m:\u001b[0m\u001b[0;34m\u001b[0m\u001b[0;34m\u001b[0m\u001b[0m\n",
      "\u001b[0;32m~/opt/anaconda3/lib/python3.8/urllib/request.py\u001b[0m in \u001b[0;36murlopen\u001b[0;34m(url, data, timeout, cafile, capath, cadefault, context)\u001b[0m\n\u001b[1;32m    221\u001b[0m         \u001b[0mopener\u001b[0m \u001b[0;34m=\u001b[0m \u001b[0m_opener\u001b[0m\u001b[0;34m\u001b[0m\u001b[0;34m\u001b[0m\u001b[0m\n\u001b[0;32m--> 222\u001b[0;31m     \u001b[0;32mreturn\u001b[0m \u001b[0mopener\u001b[0m\u001b[0;34m.\u001b[0m\u001b[0mopen\u001b[0m\u001b[0;34m(\u001b[0m\u001b[0murl\u001b[0m\u001b[0;34m,\u001b[0m \u001b[0mdata\u001b[0m\u001b[0;34m,\u001b[0m \u001b[0mtimeout\u001b[0m\u001b[0;34m)\u001b[0m\u001b[0;34m\u001b[0m\u001b[0;34m\u001b[0m\u001b[0m\n\u001b[0m\u001b[1;32m    223\u001b[0m \u001b[0;34m\u001b[0m\u001b[0m\n",
      "\u001b[0;32m~/opt/anaconda3/lib/python3.8/urllib/request.py\u001b[0m in \u001b[0;36mopen\u001b[0;34m(self, fullurl, data, timeout)\u001b[0m\n\u001b[1;32m    530\u001b[0m             \u001b[0mmeth\u001b[0m \u001b[0;34m=\u001b[0m \u001b[0mgetattr\u001b[0m\u001b[0;34m(\u001b[0m\u001b[0mprocessor\u001b[0m\u001b[0;34m,\u001b[0m \u001b[0mmeth_name\u001b[0m\u001b[0;34m)\u001b[0m\u001b[0;34m\u001b[0m\u001b[0;34m\u001b[0m\u001b[0m\n\u001b[0;32m--> 531\u001b[0;31m             \u001b[0mresponse\u001b[0m \u001b[0;34m=\u001b[0m \u001b[0mmeth\u001b[0m\u001b[0;34m(\u001b[0m\u001b[0mreq\u001b[0m\u001b[0;34m,\u001b[0m \u001b[0mresponse\u001b[0m\u001b[0;34m)\u001b[0m\u001b[0;34m\u001b[0m\u001b[0;34m\u001b[0m\u001b[0m\n\u001b[0m\u001b[1;32m    532\u001b[0m \u001b[0;34m\u001b[0m\u001b[0m\n",
      "\u001b[0;32m~/opt/anaconda3/lib/python3.8/urllib/request.py\u001b[0m in \u001b[0;36mhttp_response\u001b[0;34m(self, request, response)\u001b[0m\n\u001b[1;32m    639\u001b[0m         \u001b[0;32mif\u001b[0m \u001b[0;32mnot\u001b[0m \u001b[0;34m(\u001b[0m\u001b[0;36m200\u001b[0m \u001b[0;34m<=\u001b[0m \u001b[0mcode\u001b[0m \u001b[0;34m<\u001b[0m \u001b[0;36m300\u001b[0m\u001b[0;34m)\u001b[0m\u001b[0;34m:\u001b[0m\u001b[0;34m\u001b[0m\u001b[0;34m\u001b[0m\u001b[0m\n\u001b[0;32m--> 640\u001b[0;31m             response = self.parent.error(\n\u001b[0m\u001b[1;32m    641\u001b[0m                 'http', request, response, code, msg, hdrs)\n",
      "\u001b[0;32m~/opt/anaconda3/lib/python3.8/urllib/request.py\u001b[0m in \u001b[0;36merror\u001b[0;34m(self, proto, *args)\u001b[0m\n\u001b[1;32m    568\u001b[0m             \u001b[0margs\u001b[0m \u001b[0;34m=\u001b[0m \u001b[0;34m(\u001b[0m\u001b[0mdict\u001b[0m\u001b[0;34m,\u001b[0m \u001b[0;34m'default'\u001b[0m\u001b[0;34m,\u001b[0m \u001b[0;34m'http_error_default'\u001b[0m\u001b[0;34m)\u001b[0m \u001b[0;34m+\u001b[0m \u001b[0morig_args\u001b[0m\u001b[0;34m\u001b[0m\u001b[0;34m\u001b[0m\u001b[0m\n\u001b[0;32m--> 569\u001b[0;31m             \u001b[0;32mreturn\u001b[0m \u001b[0mself\u001b[0m\u001b[0;34m.\u001b[0m\u001b[0m_call_chain\u001b[0m\u001b[0;34m(\u001b[0m\u001b[0;34m*\u001b[0m\u001b[0margs\u001b[0m\u001b[0;34m)\u001b[0m\u001b[0;34m\u001b[0m\u001b[0;34m\u001b[0m\u001b[0m\n\u001b[0m\u001b[1;32m    570\u001b[0m \u001b[0;34m\u001b[0m\u001b[0m\n",
      "\u001b[0;32m~/opt/anaconda3/lib/python3.8/urllib/request.py\u001b[0m in \u001b[0;36m_call_chain\u001b[0;34m(self, chain, kind, meth_name, *args)\u001b[0m\n\u001b[1;32m    501\u001b[0m             \u001b[0mfunc\u001b[0m \u001b[0;34m=\u001b[0m \u001b[0mgetattr\u001b[0m\u001b[0;34m(\u001b[0m\u001b[0mhandler\u001b[0m\u001b[0;34m,\u001b[0m \u001b[0mmeth_name\u001b[0m\u001b[0;34m)\u001b[0m\u001b[0;34m\u001b[0m\u001b[0;34m\u001b[0m\u001b[0m\n\u001b[0;32m--> 502\u001b[0;31m             \u001b[0mresult\u001b[0m \u001b[0;34m=\u001b[0m \u001b[0mfunc\u001b[0m\u001b[0;34m(\u001b[0m\u001b[0;34m*\u001b[0m\u001b[0margs\u001b[0m\u001b[0;34m)\u001b[0m\u001b[0;34m\u001b[0m\u001b[0;34m\u001b[0m\u001b[0m\n\u001b[0m\u001b[1;32m    503\u001b[0m             \u001b[0;32mif\u001b[0m \u001b[0mresult\u001b[0m \u001b[0;32mis\u001b[0m \u001b[0;32mnot\u001b[0m \u001b[0;32mNone\u001b[0m\u001b[0;34m:\u001b[0m\u001b[0;34m\u001b[0m\u001b[0;34m\u001b[0m\u001b[0m\n",
      "\u001b[0;32m~/opt/anaconda3/lib/python3.8/urllib/request.py\u001b[0m in \u001b[0;36mhttp_error_default\u001b[0;34m(self, req, fp, code, msg, hdrs)\u001b[0m\n\u001b[1;32m    648\u001b[0m     \u001b[0;32mdef\u001b[0m \u001b[0mhttp_error_default\u001b[0m\u001b[0;34m(\u001b[0m\u001b[0mself\u001b[0m\u001b[0;34m,\u001b[0m \u001b[0mreq\u001b[0m\u001b[0;34m,\u001b[0m \u001b[0mfp\u001b[0m\u001b[0;34m,\u001b[0m \u001b[0mcode\u001b[0m\u001b[0;34m,\u001b[0m \u001b[0mmsg\u001b[0m\u001b[0;34m,\u001b[0m \u001b[0mhdrs\u001b[0m\u001b[0;34m)\u001b[0m\u001b[0;34m:\u001b[0m\u001b[0;34m\u001b[0m\u001b[0;34m\u001b[0m\u001b[0m\n\u001b[0;32m--> 649\u001b[0;31m         \u001b[0;32mraise\u001b[0m \u001b[0mHTTPError\u001b[0m\u001b[0;34m(\u001b[0m\u001b[0mreq\u001b[0m\u001b[0;34m.\u001b[0m\u001b[0mfull_url\u001b[0m\u001b[0;34m,\u001b[0m \u001b[0mcode\u001b[0m\u001b[0;34m,\u001b[0m \u001b[0mmsg\u001b[0m\u001b[0;34m,\u001b[0m \u001b[0mhdrs\u001b[0m\u001b[0;34m,\u001b[0m \u001b[0mfp\u001b[0m\u001b[0;34m)\u001b[0m\u001b[0;34m\u001b[0m\u001b[0;34m\u001b[0m\u001b[0m\n\u001b[0m\u001b[1;32m    650\u001b[0m \u001b[0;34m\u001b[0m\u001b[0m\n",
      "\u001b[0;31mHTTPError\u001b[0m: HTTP Error 400: Bad Request",
      "\nDuring handling of the above exception, another exception occurred:\n",
      "\u001b[0;31mAlgodHTTPError\u001b[0m                            Traceback (most recent call last)",
      "\u001b[0;32m~/opt/anaconda3/lib/python3.8/site-packages/algosdk/v2client/algod.py\u001b[0m in \u001b[0;36malgod_request\u001b[0;34m(self, method, requrl, params, data, headers, response_format)\u001b[0m\n\u001b[1;32m     76\u001b[0m             \u001b[0;32mtry\u001b[0m\u001b[0;34m:\u001b[0m\u001b[0;34m\u001b[0m\u001b[0;34m\u001b[0m\u001b[0m\n\u001b[0;32m---> 77\u001b[0;31m                 \u001b[0;32mraise\u001b[0m \u001b[0merror\u001b[0m\u001b[0;34m.\u001b[0m\u001b[0mAlgodHTTPError\u001b[0m\u001b[0;34m(\u001b[0m\u001b[0mjson\u001b[0m\u001b[0;34m.\u001b[0m\u001b[0mloads\u001b[0m\u001b[0;34m(\u001b[0m\u001b[0me\u001b[0m\u001b[0;34m)\u001b[0m\u001b[0;34m[\u001b[0m\u001b[0;34m\"message\"\u001b[0m\u001b[0;34m]\u001b[0m\u001b[0;34m,\u001b[0m \u001b[0mcode\u001b[0m\u001b[0;34m)\u001b[0m\u001b[0;34m\u001b[0m\u001b[0;34m\u001b[0m\u001b[0m\n\u001b[0m\u001b[1;32m     78\u001b[0m             \u001b[0;32mexcept\u001b[0m\u001b[0;34m:\u001b[0m\u001b[0;34m\u001b[0m\u001b[0;34m\u001b[0m\u001b[0m\n",
      "\u001b[0;31mAlgodHTTPError\u001b[0m: TransactionPool.Remember: transaction already in ledger: HR5QDDAHCDRP5UQASN3JU3657XHAU5ZLZU3VNPPZQOYNDJIEHW4A",
      "\nDuring handling of the above exception, another exception occurred:\n",
      "\u001b[0;31mAlgodHTTPError\u001b[0m                            Traceback (most recent call last)",
      "\u001b[0;32m<ipython-input-85-7b4774fc6a55>\u001b[0m in \u001b[0;36m<module>\u001b[0;34m\u001b[0m\n\u001b[0;32m----> 1\u001b[0;31m \u001b[0msend_free_CO2\u001b[0m\u001b[0;34m(\u001b[0m\u001b[0mWSC\u001b[0m\u001b[0;34m[\u001b[0m\u001b[0;34m'public'\u001b[0m\u001b[0;34m]\u001b[0m\u001b[0;34m,\u001b[0m\u001b[0;36m1002\u001b[0m\u001b[0;34m)\u001b[0m\u001b[0;34m\u001b[0m\u001b[0;34m\u001b[0m\u001b[0m\n\u001b[0m",
      "\u001b[0;32m<ipython-input-76-bc8bf78aecf6>\u001b[0m in \u001b[0;36msend_free_CO2\u001b[0;34m(recipient, amount)\u001b[0m\n\u001b[1;32m      2\u001b[0m     \u001b[0mtxn\u001b[0m \u001b[0;34m=\u001b[0m \u001b[0mAssetTransferTxn\u001b[0m\u001b[0;34m(\u001b[0m\u001b[0msender\u001b[0m\u001b[0;34m=\u001b[0m\u001b[0mIssuer\u001b[0m\u001b[0;34m[\u001b[0m\u001b[0;34m'public'\u001b[0m\u001b[0;34m]\u001b[0m\u001b[0;34m,\u001b[0m\u001b[0msp\u001b[0m\u001b[0;34m=\u001b[0m\u001b[0mparams\u001b[0m\u001b[0;34m,\u001b[0m\u001b[0mreceiver\u001b[0m\u001b[0;34m=\u001b[0m\u001b[0mrecipient\u001b[0m\u001b[0;34m,\u001b[0m\u001b[0mamt\u001b[0m\u001b[0;34m=\u001b[0m\u001b[0mamount\u001b[0m\u001b[0;34m,\u001b[0m\u001b[0mindex\u001b[0m\u001b[0;34m=\u001b[0m\u001b[0masset_id\u001b[0m\u001b[0;34m)\u001b[0m\u001b[0;34m\u001b[0m\u001b[0;34m\u001b[0m\u001b[0m\n\u001b[1;32m      3\u001b[0m     \u001b[0mstxn\u001b[0m \u001b[0;34m=\u001b[0m \u001b[0mtxn\u001b[0m\u001b[0;34m.\u001b[0m\u001b[0msign\u001b[0m\u001b[0;34m(\u001b[0m\u001b[0mIssuer\u001b[0m\u001b[0;34m[\u001b[0m\u001b[0;34m'private'\u001b[0m\u001b[0;34m]\u001b[0m\u001b[0;34m)\u001b[0m\u001b[0;34m\u001b[0m\u001b[0;34m\u001b[0m\u001b[0m\n\u001b[0;32m----> 4\u001b[0;31m     \u001b[0mtxid\u001b[0m \u001b[0;34m=\u001b[0m \u001b[0malgod_client\u001b[0m\u001b[0;34m.\u001b[0m\u001b[0msend_transaction\u001b[0m\u001b[0;34m(\u001b[0m\u001b[0mstxn\u001b[0m\u001b[0;34m)\u001b[0m\u001b[0;34m\u001b[0m\u001b[0;34m\u001b[0m\u001b[0m\n\u001b[0m\u001b[1;32m      5\u001b[0m     \u001b[0mwait_for_confirmation\u001b[0m\u001b[0;34m(\u001b[0m\u001b[0malgod_client\u001b[0m\u001b[0;34m,\u001b[0m \u001b[0mtxid\u001b[0m\u001b[0;34m,\u001b[0m\u001b[0;36m5\u001b[0m\u001b[0;34m)\u001b[0m\u001b[0;34m\u001b[0m\u001b[0;34m\u001b[0m\u001b[0m\n\u001b[1;32m      6\u001b[0m     \u001b[0;32mreturn\u001b[0m\u001b[0;34m(\u001b[0m\u001b[0mtxid\u001b[0m\u001b[0;34m)\u001b[0m\u001b[0;34m\u001b[0m\u001b[0;34m\u001b[0m\u001b[0m\n",
      "\u001b[0;32m~/opt/anaconda3/lib/python3.8/site-packages/algosdk/v2client/algod.py\u001b[0m in \u001b[0;36msend_transaction\u001b[0;34m(self, txn, **kwargs)\u001b[0m\n\u001b[1;32m    192\u001b[0m         \u001b[0;32massert\u001b[0m \u001b[0;32mnot\u001b[0m \u001b[0misinstance\u001b[0m\u001b[0;34m(\u001b[0m\u001b[0mtxn\u001b[0m\u001b[0;34m,\u001b[0m \u001b[0mfuture\u001b[0m\u001b[0;34m.\u001b[0m\u001b[0mtransaction\u001b[0m\u001b[0;34m.\u001b[0m\u001b[0mTransaction\u001b[0m\u001b[0;34m)\u001b[0m\u001b[0;34m,\u001b[0m\u001b[0;31m \u001b[0m\u001b[0;31m\\\u001b[0m\u001b[0;34m\u001b[0m\u001b[0;34m\u001b[0m\u001b[0m\n\u001b[1;32m    193\u001b[0m             \u001b[0;34mf\"Attempt to send UNSIGNED transaction {txn}\"\u001b[0m\u001b[0;34m\u001b[0m\u001b[0;34m\u001b[0m\u001b[0m\n\u001b[0;32m--> 194\u001b[0;31m         return self.send_raw_transaction(encoding.msgpack_encode(txn),\n\u001b[0m\u001b[1;32m    195\u001b[0m                                          **kwargs)\n\u001b[1;32m    196\u001b[0m \u001b[0;34m\u001b[0m\u001b[0m\n",
      "\u001b[0;32m~/opt/anaconda3/lib/python3.8/site-packages/algosdk/v2client/algod.py\u001b[0m in \u001b[0;36msend_raw_transaction\u001b[0;34m(self, txn, **kwargs)\u001b[0m\n\u001b[1;32m    209\u001b[0m         \u001b[0mreq\u001b[0m \u001b[0;34m=\u001b[0m \u001b[0;34m\"/transactions\"\u001b[0m\u001b[0;34m\u001b[0m\u001b[0;34m\u001b[0m\u001b[0m\n\u001b[1;32m    210\u001b[0m         \u001b[0mheaders\u001b[0m \u001b[0;34m=\u001b[0m \u001b[0;34m{\u001b[0m \u001b[0;34m'Content-Type'\u001b[0m\u001b[0;34m:\u001b[0m \u001b[0;34m'application/x-binary'\u001b[0m \u001b[0;34m}\u001b[0m\u001b[0;34m\u001b[0m\u001b[0;34m\u001b[0m\u001b[0m\n\u001b[0;32m--> 211\u001b[0;31m         \u001b[0;32mreturn\u001b[0m \u001b[0mself\u001b[0m\u001b[0;34m.\u001b[0m\u001b[0malgod_request\u001b[0m\u001b[0;34m(\u001b[0m\u001b[0;34m\"POST\"\u001b[0m\u001b[0;34m,\u001b[0m \u001b[0mreq\u001b[0m\u001b[0;34m,\u001b[0m \u001b[0mdata\u001b[0m\u001b[0;34m=\u001b[0m\u001b[0mtxn\u001b[0m\u001b[0;34m,\u001b[0m \u001b[0mheaders\u001b[0m\u001b[0;34m=\u001b[0m\u001b[0mheaders\u001b[0m\u001b[0;34m,\u001b[0m \u001b[0;34m**\u001b[0m\u001b[0mkwargs\u001b[0m\u001b[0;34m)\u001b[0m\u001b[0;34m[\u001b[0m\u001b[0;34m\"txId\"\u001b[0m\u001b[0;34m]\u001b[0m\u001b[0;34m\u001b[0m\u001b[0;34m\u001b[0m\u001b[0m\n\u001b[0m\u001b[1;32m    212\u001b[0m \u001b[0;34m\u001b[0m\u001b[0m\n\u001b[1;32m    213\u001b[0m     \u001b[0;32mdef\u001b[0m \u001b[0mpending_transactions\u001b[0m\u001b[0;34m(\u001b[0m\u001b[0mself\u001b[0m\u001b[0;34m,\u001b[0m \u001b[0mmax_txns\u001b[0m\u001b[0;34m=\u001b[0m\u001b[0;36m0\u001b[0m\u001b[0;34m,\u001b[0m \u001b[0mresponse_format\u001b[0m\u001b[0;34m=\u001b[0m\u001b[0;34m\"json\"\u001b[0m\u001b[0;34m,\u001b[0m \u001b[0;34m**\u001b[0m\u001b[0mkwargs\u001b[0m\u001b[0;34m)\u001b[0m\u001b[0;34m:\u001b[0m\u001b[0;34m\u001b[0m\u001b[0;34m\u001b[0m\u001b[0m\n",
      "\u001b[0;32m~/opt/anaconda3/lib/python3.8/site-packages/algosdk/v2client/algod.py\u001b[0m in \u001b[0;36malgod_request\u001b[0;34m(self, method, requrl, params, data, headers, response_format)\u001b[0m\n\u001b[1;32m     77\u001b[0m                 \u001b[0;32mraise\u001b[0m \u001b[0merror\u001b[0m\u001b[0;34m.\u001b[0m\u001b[0mAlgodHTTPError\u001b[0m\u001b[0;34m(\u001b[0m\u001b[0mjson\u001b[0m\u001b[0;34m.\u001b[0m\u001b[0mloads\u001b[0m\u001b[0;34m(\u001b[0m\u001b[0me\u001b[0m\u001b[0;34m)\u001b[0m\u001b[0;34m[\u001b[0m\u001b[0;34m\"message\"\u001b[0m\u001b[0;34m]\u001b[0m\u001b[0;34m,\u001b[0m \u001b[0mcode\u001b[0m\u001b[0;34m)\u001b[0m\u001b[0;34m\u001b[0m\u001b[0;34m\u001b[0m\u001b[0m\n\u001b[1;32m     78\u001b[0m             \u001b[0;32mexcept\u001b[0m\u001b[0;34m:\u001b[0m\u001b[0;34m\u001b[0m\u001b[0;34m\u001b[0m\u001b[0m\n\u001b[0;32m---> 79\u001b[0;31m                 \u001b[0;32mraise\u001b[0m \u001b[0merror\u001b[0m\u001b[0;34m.\u001b[0m\u001b[0mAlgodHTTPError\u001b[0m\u001b[0;34m(\u001b[0m\u001b[0me\u001b[0m\u001b[0;34m,\u001b[0m \u001b[0mcode\u001b[0m\u001b[0;34m)\u001b[0m\u001b[0;34m\u001b[0m\u001b[0;34m\u001b[0m\u001b[0m\n\u001b[0m\u001b[1;32m     80\u001b[0m         \u001b[0;32mif\u001b[0m \u001b[0mresponse_format\u001b[0m \u001b[0;34m==\u001b[0m \u001b[0;34m\"json\"\u001b[0m\u001b[0;34m:\u001b[0m\u001b[0;34m\u001b[0m\u001b[0;34m\u001b[0m\u001b[0m\n\u001b[1;32m     81\u001b[0m             \u001b[0;32mtry\u001b[0m\u001b[0;34m:\u001b[0m\u001b[0;34m\u001b[0m\u001b[0;34m\u001b[0m\u001b[0m\n",
      "\u001b[0;31mAlgodHTTPError\u001b[0m: {\"message\":\"TransactionPool.Remember: transaction already in ledger: HR5QDDAHCDRP5UQASN3JU3657XHAU5ZLZU3VNPPZQOYNDJIEHW4A\"}\n"
     ]
    }
   ],
   "source": [
    "send_free_CO2(WSC['public'],1002)"
   ]
  },
  {
   "cell_type": "markdown",
   "metadata": {},
   "source": [
    "## Make transfers between wallets\n",
    "Using QR code"
   ]
  },
  {
   "cell_type": "markdown",
   "metadata": {},
   "source": [
    "### Smart signature for burning"
   ]
  },
  {
   "cell_type": "code",
   "execution_count": 177,
   "metadata": {},
   "outputs": [],
   "source": [
    "# Burning smart signature\n",
    "from random import randrange\n",
    "\n",
    "def burning():\n",
    "    a = Int( randrange(2**32-1) )\n",
    "#    b = Int( randrange(2**32-1) )\n",
    "    program = And(\n",
    "        Txn.amount() == Int(0),\n",
    "        a == a,\n",
    "        #Txn.type_enum() == TxnType.Payment,\n",
    "        Txn.fee() <= Int(1000),\n",
    "        Global.group_size() == Int(1),\n",
    "        Txn.rekey_to() == Global.zero_address()        \n",
    "    )\n",
    "    return compileTeal(program, Mode.Signature, version=3)"
   ]
  },
  {
   "cell_type": "code",
   "execution_count": 178,
   "metadata": {},
   "outputs": [
    {
     "name": "stdout",
     "output_type": "stream",
     "text": [
      "#pragma version 3\n",
      "txn Amount\n",
      "int 0\n",
      "==\n",
      "int 1151513682\n",
      "int 1151513682\n",
      "==\n",
      "&&\n",
      "txn Fee\n",
      "int 1000\n",
      "<=\n",
      "&&\n",
      "global GroupSize\n",
      "int 1\n",
      "==\n",
      "&&\n",
      "txn RekeyTo\n",
      "global ZeroAddress\n",
      "==\n",
      "&&\n",
      "-----------------------------------------\n",
      "Compiled smart signature: AyAEANLoiqUE6AcBMQgiEiMjEhAxASQOEDIEJRIQMSAyAxIQ\n",
      "Hash of smart signature:  LWQ5QIVU4ESAWVZ5D2T4GO65T72TXQPLJ26GN7D2HYLHL3A7NWRSKFDJJM\n"
     ]
    }
   ],
   "source": [
    "# Create smart signature for burning and Deploy\n",
    "# Note: compiled smart signatures look similar, but they are not!!\n",
    "# Hash is always different\n",
    "\n",
    "# pyTeal -> Teal\n",
    "stateless_program_teal = burning()\n",
    "print(stateless_program_teal)\n",
    "# compile Teal -> Bytecode\n",
    "burn_result, burn_address= compile_smart_signature(algod_client, stateless_program_teal)\n",
    "print(\"-----------------------------------------\")\n",
    "print(\"Compiled smart signature:\", burn_result)\n",
    "print(\"Hash of smart signature: \", burn_address)"
   ]
  },
  {
   "cell_type": "code",
   "execution_count": 179,
   "metadata": {},
   "outputs": [
    {
     "data": {
      "text/plain": [
       "'LWQ5QIVU4ESAWVZ5D2T4GO65T72TXQPLJ26GN7D2HYLHL3A7NWRSKFDJJM'"
      ]
     },
     "execution_count": 179,
     "metadata": {},
     "output_type": "execute_result"
    }
   ],
   "source": [
    "burn_address"
   ]
  },
  {
   "cell_type": "code",
   "execution_count": 180,
   "metadata": {},
   "outputs": [
    {
     "data": {
      "text/plain": [
       "{'confirmed-round': 19219562,\n",
       " 'pool-error': '',\n",
       " 'txn': {'sig': 'WFsCt1/AFrlPuPkIKn0BBXlmFXvrdl9PGgw0KKQ4FyPjcA5HUXEhbTmoSEySvEkXCme6LE9rm4f8vq9UcPrMAQ==',\n",
       "  'txn': {'amt': 500000,\n",
       "   'fee': 1000,\n",
       "   'fv': 19219560,\n",
       "   'gen': 'testnet-v1.0',\n",
       "   'gh': 'SGO1GKSzyE7IEPItTxCByw9x8FmnrCDexi9/cOUJOiI=',\n",
       "   'lv': 19220560,\n",
       "   'rcv': 'LWQ5QIVU4ESAWVZ5D2T4GO65T72TXQPLJ26GN7D2HYLHL3A7NWRSKFDJJM',\n",
       "   'snd': '7AIUQEYWVJGWRZ4RJY2RVG6ODXFBWSNGHPBVNJLWFZ2VDUE4L62OD6QB7Q',\n",
       "   'type': 'pay'}}}"
      ]
     },
     "execution_count": 180,
     "metadata": {},
     "output_type": "execute_result"
    }
   ],
   "source": [
    "# fund burning contract\n",
    "amt = 500000        # microalgos\n",
    "payment_transaction(Issuer['mnemonic'], amt, burn_address, algod_client)"
   ]
  },
  {
   "cell_type": "code",
   "execution_count": 185,
   "metadata": {},
   "outputs": [
    {
     "data": {
      "text/plain": [
       "{'confirmed-round': 19219617,\n",
       " 'pool-error': '',\n",
       " 'txn': {'lsig': {'l': 'AyAEANLoiqUE6AcBMQgiEiMjEhAxASQOEDIEJRIQMSAyAxIQ'},\n",
       "  'txn': {'arcv': 'LWQ5QIVU4ESAWVZ5D2T4GO65T72TXQPLJ26GN7D2HYLHL3A7NWRSKFDJJM',\n",
       "   'fee': 1000,\n",
       "   'fv': 19219615,\n",
       "   'gen': 'testnet-v1.0',\n",
       "   'gh': 'SGO1GKSzyE7IEPItTxCByw9x8FmnrCDexi9/cOUJOiI=',\n",
       "   'lv': 19220615,\n",
       "   'snd': 'LWQ5QIVU4ESAWVZ5D2T4GO65T72TXQPLJ26GN7D2HYLHL3A7NWRSKFDJJM',\n",
       "   'type': 'axfer',\n",
       "   'xaid': 62583103}}}"
      ]
     },
     "execution_count": 185,
     "metadata": {},
     "output_type": "execute_result"
    }
   ],
   "source": [
    "# special opt-in transaction for burning contract\n",
    "\n",
    "receiver_public_key = burn_address\n",
    "lsig_payment_txn_ASA(burn_result, burn_address, 0, burn_address, asset_id, algod_client)\n",
    "#lsig_payment_txn(burn_result, burn_address, 0, burn_address, algod_client)"
   ]
  },
  {
   "cell_type": "markdown",
   "metadata": {},
   "source": [
    "### QR code for burning"
   ]
  },
  {
   "cell_type": "code",
   "execution_count": 223,
   "metadata": {},
   "outputs": [
    {
     "name": "stdout",
     "output_type": "stream",
     "text": [
      "algorand://LWQ5QIVU4ESAWVZ5D2T4GO65T72TXQPLJ26GN7D2HYLHL3A7NWRSKFDJJM?amount=1000&asset=62583103&note=Amazonas\n"
     ]
    }
   ],
   "source": [
    "# Specific URL structure\n",
    "url = 'algorand://' + burn_address + '?amount=1000&asset='+str(asset_id)+'&note=Amazonas'\n",
    "print(url)"
   ]
  },
  {
   "cell_type": "code",
   "execution_count": 235,
   "metadata": {},
   "outputs": [
    {
     "data": {
      "image/png": "[encoded data removed]",
      "text/plain": [
       "<qrcode.image.styledpil.StyledPilImage at 0x1148abd60>"
      ]
     },
     "execution_count": 235,
     "metadata": {},
     "output_type": "execute_result"
    }
   ],
   "source": [
    "import qrcode\n",
    "from qrcode.image.styledpil import StyledPilImage\n",
    "\n",
    "qr = qrcode.QRCode(version=1,box_size=5,border=4)\n",
    "qr.add_data(url)\n",
    "qr.make(fit=True)\n",
    "qr.make_image(fill_color=\"black\", back_color=\"white\")\n",
    "qr.make_image(image_factory=StyledPilImage, embeded_image_path=\"sustainablecarbon3.png\")\n"
   ]
  },
  {
   "cell_type": "markdown",
   "metadata": {},
   "source": [
    "## Smart Contract for vending machine"
   ]
  },
  {
   "cell_type": "code",
   "execution_count": 188,
   "metadata": {},
   "outputs": [
    {
     "ename": "SyntaxError",
     "evalue": "invalid syntax (<ipython-input-188-f0554ec0199e>, line 1)",
     "output_type": "error",
     "traceback": [
      "\u001b[0;36m  File \u001b[0;32m\"<ipython-input-188-f0554ec0199e>\"\u001b[0;36m, line \u001b[0;32m1\u001b[0m\n\u001b[0;31m    Smart Contract b\u001b[0m\n\u001b[0m          ^\u001b[0m\n\u001b[0;31mSyntaxError\u001b[0m\u001b[0;31m:\u001b[0m invalid syntax\n"
     ]
    }
   ],
   "source": [
    "Smart Contract b\n"
   ]
  },
  {
   "cell_type": "markdown",
   "metadata": {},
   "source": [
    "## Web application\n",
    "https://fionnachan.github.io/algorand-wallet-walletconnect-redux/\n"
   ]
  }
 ],
 "metadata": {
  "kernelspec": {
   "display_name": "Python 3",
   "language": "python",
   "name": "python3"
  },
  "language_info": {
   "codemirror_mode": {
    "name": "ipython",
    "version": 3
   },
   "file_extension": ".py",
   "mimetype": "text/x-python",
   "name": "python",
   "nbconvert_exporter": "python",
   "pygments_lexer": "ipython3",
   "version": "3.8.8"
  }
 },
 "nbformat": 4,
 "nbformat_minor": 4
}
