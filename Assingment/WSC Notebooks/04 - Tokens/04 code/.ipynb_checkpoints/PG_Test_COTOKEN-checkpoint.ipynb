{
 "cells": [
  {
   "cell_type": "markdown",
   "metadata": {},
   "source": [
    "## Prototype: The Karbo\n",
    "### Ticker: KARBO\n",
    "##### Peter Gruber (peter.gruber@usi.ch)\n",
    "2022-01-18\n"
   ]
  },
  {
   "cell_type": "markdown",
   "metadata": {},
   "source": [
    "## Setup and creation of accounts"
   ]
  },
  {
   "cell_type": "code",
   "execution_count": 347,
   "metadata": {},
   "outputs": [],
   "source": [
    "# Loading shared code and credentials\n",
    "import sys\n",
    "sys.path.append('../../sharedCode')\n",
    "from algo_util import *\n",
    "cred = load_credentials()"
   ]
  },
  {
   "cell_type": "code",
   "execution_count": 348,
   "metadata": {
    "tags": []
   },
   "outputs": [],
   "source": [
    "from algosdk import account, mnemonic\n",
    "import base64\n",
    "import qrcode\n",
    "from qrcode.image.styledpil import StyledPilImage\n",
    "\n",
    "def generate_account_dict():\n",
    "    private_key = account.generate_account()[0]    # need [0], because generate_account() returns a list\n",
    "    acc = {}\n",
    "    acc['public'] = account.address_from_private_key(private_key)\n",
    "    acc['private'] = private_key\n",
    "    acc['mnemonic'] = mnemonic.from_private_key(private_key)\n",
    "    return acc\n",
    "\n",
    "def generate_account_menemonic(passphrase):\n",
    "    acc = {}\n",
    "    acc['mnemonic'] = passphrase\n",
    "    acc['public'] = mnemonic.to_public_key(passphrase)\n",
    "    acc['private'] = mnemonic.to_private_key(passphrase)\n",
    "    return acc\n",
    "\n",
    "def generate_QRcode(url):\n",
    "    qr = qrcode.QRCode(version=1,box_size=5,border=4)\n",
    "    qr.add_data(url)\n",
    "    qr.make(fit=True)\n",
    "    return( qr.make_image(fill_color=\"black\", back_color=\"white\") )\n",
    "\n",
    "def generate_QRcode_logo(url):\n",
    "    qr = qrcode.QRCode(version=1,box_size=5,border=4)\n",
    "    qr.add_data(url)\n",
    "    qr.make(fit=True)\n",
    "    #qr.make_image(fill_color=\"black\", back_color=\"white\")\n",
    "    return( qr.make_image(image_factory=StyledPilImage, embeded_image_path=\"sustainablecarbon3.png\") )\n",
    "\n"
   ]
  },
  {
   "cell_type": "markdown",
   "metadata": {
    "tags": []
   },
   "source": [
    "## Create accounts\n",
    "- programatically\n",
    "- manually in Algorand wallet\n",
    "- by adding existing accounts"
   ]
  },
  {
   "cell_type": "code",
   "execution_count": 349,
   "metadata": {
    "tags": []
   },
   "outputs": [],
   "source": [
    "Issuer = cred['WSC']\n",
    "#Issuer = generate_account_dict()\n",
    "Buyer1 = generate_account_dict()\n",
    "Buyer2 = generate_account_dict()"
   ]
  },
  {
   "cell_type": "code",
   "execution_count": 350,
   "metadata": {},
   "outputs": [
    {
     "name": "stdout",
     "output_type": "stream",
     "text": [
      "332K7LY7US3BDQULQO4MX2B4VULSNXVEEAZMWCCPKKPXXPRI4CVPA2VX2A\n",
      "FRUAXUQ2BHJ5CQOWGZLAFPYL6SJKUSNQ2G5ZIH3ZASPSK3LU4FERN6Z6AQ\n",
      "WFTW3FUV4VIYALEOUOUPSA4MOT7GXNCIXQQ7NNOEEVJ4CP73PLBTWRAEOE\n"
     ]
    }
   ],
   "source": [
    "print(Issuer['public'])\n",
    "print(Buyer1['public'])\n",
    "print(Buyer2['public'])"
   ]
  },
  {
   "cell_type": "markdown",
   "metadata": {},
   "source": [
    "### Connect to Purestake API"
   ]
  },
  {
   "cell_type": "code",
   "execution_count": 351,
   "metadata": {
    "tags": []
   },
   "outputs": [],
   "source": [
    "import json\n",
    "from algosdk.v2client import algod\n",
    "from algosdk.future import transaction\n",
    "from algosdk.future.transaction import AssetConfigTxn, AssetTransferTxn, AssetFreezeTxn\n",
    "from pyteal import *\n",
    "\n",
    "algod_token   = ''   # not needed \n",
    "algod_address = cred['algod_main']\n",
    "purestake_token = cred['purestake_token']\n",
    "\n",
    "# Initialize algod client\n",
    "algod_client = algod.AlgodClient(algod_token=algod_token, algod_address=algod_address, headers=purestake_token)\n",
    "\n",
    "# Get parameters\n",
    "params = algod_client.suggested_params()"
   ]
  },
  {
   "cell_type": "code",
   "execution_count": 352,
   "metadata": {
    "tags": []
   },
   "outputs": [],
   "source": [
    "# helper function that waits for a given txid to be confirmed by the network\n",
    "def wait_for_confirmation(client, transaction_id, timeout):\n",
    "    \"\"\"\n",
    "    Wait until the transaction is confirmed or rejected, or until 'timeout'\n",
    "    number of rounds have passed.\n",
    "    Args:\n",
    "        transaction_id (str): the transaction to wait for\n",
    "        timeout (int): maximum number of rounds to wait    \n",
    "    Returns:\n",
    "        dict: pending transaction information, or throws an error if the transaction\n",
    "            is not confirmed or rejected in the next timeout rounds\n",
    "    \"\"\"\n",
    "    start_round = client.status()[\"last-round\"] + 1\n",
    "    current_round = start_round\n",
    "\n",
    "    while current_round < start_round + timeout:\n",
    "        try:\n",
    "            pending_txn = client.pending_transaction_info(transaction_id)\n",
    "        except Exception:\n",
    "            return \n",
    "        if pending_txn.get(\"confirmed-round\", 0) > 0:\n",
    "            return pending_txn\n",
    "        elif pending_txn[\"pool-error\"]:  \n",
    "            raise Exception(\n",
    "                'pool error: {}'.format(pending_txn[\"pool-error\"]))\n",
    "        client.status_after_block(current_round)                   \n",
    "        current_round += 1\n",
    "    raise Exception(\n",
    "        'pending tx not found in timeout rounds, timeout value = : {}'.format(timeout))\n",
    "\n",
    "def print_created_asset(algodclient, account, assetid):    \n",
    "    account_info = algodclient.account_info(account)\n",
    "    idx = 0;\n",
    "    for my_account_info in account_info['created-assets']:\n",
    "        scrutinized_asset = account_info['created-assets'][idx]\n",
    "        idx = idx + 1       \n",
    "        if (scrutinized_asset['index'] == assetid):\n",
    "            print(\"Asset ID: {}\".format(scrutinized_asset['index']))\n",
    "            print(json.dumps(my_account_info['params'], indent=4))\n",
    "            break\n",
    "\n",
    "def print_asset_holding(algodclient, account, assetid):\n",
    "    account_info = algodclient.account_info(account)\n",
    "    idx = 0\n",
    "    for my_account_info in account_info['assets']:\n",
    "        scrutinized_asset = account_info['assets'][idx]\n",
    "        idx = idx + 1        \n",
    "        if (scrutinized_asset['asset-id'] == assetid):\n",
    "            print(\"Asset ID: {}\".format(scrutinized_asset['asset-id']))\n",
    "            print(json.dumps(scrutinized_asset, indent=4))\n",
    "            break\n",
    "\n",
    "def compile_smart_signature(client, source_code):\n",
    "    compile_response = client.compile(source_code)\n",
    "    return compile_response['result'], compile_response['hash']"
   ]
  },
  {
   "cell_type": "code",
   "execution_count": 353,
   "metadata": {
    "tags": []
   },
   "outputs": [],
   "source": [
    "def payment_transaction(creator_mnemonic, amt, rcv, algod_client):\n",
    "    params = algod_client.suggested_params()\n",
    "    add = mnemonic.to_public_key(creator_mnemonic)\n",
    "    key = mnemonic.to_private_key(creator_mnemonic)\n",
    "    unsigned_txn = transaction.PaymentTxn(add, params, rcv, amt)\n",
    "    signed = unsigned_txn.sign(key)\n",
    "    txid = algod_client.send_transaction(signed)\n",
    "    pmtx = wait_for_confirmation(algod_client, txid , 5)\n",
    "    return pmtx\n"
   ]
  },
  {
   "cell_type": "code",
   "execution_count": 354,
   "metadata": {
    "tags": []
   },
   "outputs": [],
   "source": [
    "def lsig_payment_txn(escrowProg, escrow_address, amt, rcv, algod_client):\n",
    "    params = algod_client.suggested_params()\n",
    "    unsigned_txn = transaction.PaymentTxn(escrow_address, params, rcv, amt)\n",
    "    encodedProg = escrowProg.encode()\n",
    "    program = base64.decodebytes(encodedProg)\n",
    "    lsig = transaction.LogicSig(program)\n",
    "    stxn = transaction.LogicSigTransaction(unsigned_txn, lsig)\n",
    "    tx_id = algod_client.send_transaction(stxn)\n",
    "    pmtx = wait_for_confirmation(algod_client, tx_id, 10)\n",
    "    return pmtx "
   ]
  },
  {
   "cell_type": "code",
   "execution_count": 355,
   "metadata": {
    "tags": []
   },
   "outputs": [],
   "source": [
    "def lsig_payment_txn_ASA(escrowProg, escrow_address, amt, rcv, ASA_index, algod_client):\n",
    "    params = algod_client.suggested_params()\n",
    "    unsigned_txn = transaction.AssetTransferTxn(escrow_address, params, escrow_address, 0, ASA_index)\n",
    "    encodedProg = escrowProg.encode()\n",
    "    program = base64.decodebytes(encodedProg)\n",
    "    lsig = transaction.LogicSig(program)\n",
    "    stxn = transaction.LogicSigTransaction(unsigned_txn, lsig)\n",
    "    tx_id = algod_client.send_transaction(stxn)\n",
    "    pmtx = wait_for_confirmation(algod_client, tx_id, 10)\n",
    "    return pmtx "
   ]
  },
  {
   "cell_type": "code",
   "execution_count": 356,
   "metadata": {
    "tags": []
   },
   "outputs": [],
   "source": [
    "def lsig_payment_txn_note(escrowProg, escrow_address, amt, rcv, algod_client,my_note):\n",
    "    note = my_note.encode()\n",
    "    params = algod_client.suggested_params()\n",
    "    unsigned_txn = transaction.PaymentTxn(escrow_address, params, rcv, amt,None, note)\n",
    "    encodedProg = escrowProg.encode()\n",
    "    program = base64.decodebytes(encodedProg)\n",
    "    lsig = transaction.LogicSig(program)\n",
    "    stxn = transaction.LogicSigTransaction(unsigned_txn, lsig)\n",
    "    tx_id = algod_client.send_transaction(stxn)\n",
    "    pmtx = wait_for_confirmation(algod_client, tx_id, 10)\n",
    "    return pmtx "
   ]
  },
  {
   "cell_type": "markdown",
   "metadata": {},
   "source": [
    "### Create COTOKEN\n",
    "The `Issuer` creates an asset called COtoken, and nominates `Manager` as the manager, reserve, freeze and clawback address. "
   ]
  },
  {
   "cell_type": "code",
   "execution_count": 358,
   "metadata": {},
   "outputs": [
    {
     "ename": "AlgodHTTPError",
     "evalue": "{\"message\":\"TransactionPool.Remember: transaction already in ledger: KGYRO2E5UHJ2R7V5LBMR5BCIIXH3U2ON652NJPAGCWGHWIYUCPFA\"}\n",
     "output_type": "error",
     "traceback": [
      "\u001b[0;31m---------------------------------------------------------------------------\u001b[0m",
      "\u001b[0;31mHTTPError\u001b[0m                                 Traceback (most recent call last)",
      "\u001b[0;32m~/opt/anaconda3/lib/python3.8/site-packages/algosdk/v2client/algod.py\u001b[0m in \u001b[0;36malgod_request\u001b[0;34m(self, method, requrl, params, data, headers, response_format)\u001b[0m\n\u001b[1;32m     71\u001b[0m         \u001b[0;32mtry\u001b[0m\u001b[0;34m:\u001b[0m\u001b[0;34m\u001b[0m\u001b[0;34m\u001b[0m\u001b[0m\n\u001b[0;32m---> 72\u001b[0;31m             \u001b[0mresp\u001b[0m \u001b[0;34m=\u001b[0m \u001b[0murlopen\u001b[0m\u001b[0;34m(\u001b[0m\u001b[0mreq\u001b[0m\u001b[0;34m)\u001b[0m\u001b[0;34m\u001b[0m\u001b[0;34m\u001b[0m\u001b[0m\n\u001b[0m\u001b[1;32m     73\u001b[0m         \u001b[0;32mexcept\u001b[0m \u001b[0murllib\u001b[0m\u001b[0;34m.\u001b[0m\u001b[0merror\u001b[0m\u001b[0;34m.\u001b[0m\u001b[0mHTTPError\u001b[0m \u001b[0;32mas\u001b[0m \u001b[0me\u001b[0m\u001b[0;34m:\u001b[0m\u001b[0;34m\u001b[0m\u001b[0;34m\u001b[0m\u001b[0m\n",
      "\u001b[0;32m~/opt/anaconda3/lib/python3.8/urllib/request.py\u001b[0m in \u001b[0;36murlopen\u001b[0;34m(url, data, timeout, cafile, capath, cadefault, context)\u001b[0m\n\u001b[1;32m    221\u001b[0m         \u001b[0mopener\u001b[0m \u001b[0;34m=\u001b[0m \u001b[0m_opener\u001b[0m\u001b[0;34m\u001b[0m\u001b[0;34m\u001b[0m\u001b[0m\n\u001b[0;32m--> 222\u001b[0;31m     \u001b[0;32mreturn\u001b[0m \u001b[0mopener\u001b[0m\u001b[0;34m.\u001b[0m\u001b[0mopen\u001b[0m\u001b[0;34m(\u001b[0m\u001b[0murl\u001b[0m\u001b[0;34m,\u001b[0m \u001b[0mdata\u001b[0m\u001b[0;34m,\u001b[0m \u001b[0mtimeout\u001b[0m\u001b[0;34m)\u001b[0m\u001b[0;34m\u001b[0m\u001b[0;34m\u001b[0m\u001b[0m\n\u001b[0m\u001b[1;32m    223\u001b[0m \u001b[0;34m\u001b[0m\u001b[0m\n",
      "\u001b[0;32m~/opt/anaconda3/lib/python3.8/urllib/request.py\u001b[0m in \u001b[0;36mopen\u001b[0;34m(self, fullurl, data, timeout)\u001b[0m\n\u001b[1;32m    530\u001b[0m             \u001b[0mmeth\u001b[0m \u001b[0;34m=\u001b[0m \u001b[0mgetattr\u001b[0m\u001b[0;34m(\u001b[0m\u001b[0mprocessor\u001b[0m\u001b[0;34m,\u001b[0m \u001b[0mmeth_name\u001b[0m\u001b[0;34m)\u001b[0m\u001b[0;34m\u001b[0m\u001b[0;34m\u001b[0m\u001b[0m\n\u001b[0;32m--> 531\u001b[0;31m             \u001b[0mresponse\u001b[0m \u001b[0;34m=\u001b[0m \u001b[0mmeth\u001b[0m\u001b[0;34m(\u001b[0m\u001b[0mreq\u001b[0m\u001b[0;34m,\u001b[0m \u001b[0mresponse\u001b[0m\u001b[0;34m)\u001b[0m\u001b[0;34m\u001b[0m\u001b[0;34m\u001b[0m\u001b[0m\n\u001b[0m\u001b[1;32m    532\u001b[0m \u001b[0;34m\u001b[0m\u001b[0m\n",
      "\u001b[0;32m~/opt/anaconda3/lib/python3.8/urllib/request.py\u001b[0m in \u001b[0;36mhttp_response\u001b[0;34m(self, request, response)\u001b[0m\n\u001b[1;32m    639\u001b[0m         \u001b[0;32mif\u001b[0m \u001b[0;32mnot\u001b[0m \u001b[0;34m(\u001b[0m\u001b[0;36m200\u001b[0m \u001b[0;34m<=\u001b[0m \u001b[0mcode\u001b[0m \u001b[0;34m<\u001b[0m \u001b[0;36m300\u001b[0m\u001b[0;34m)\u001b[0m\u001b[0;34m:\u001b[0m\u001b[0;34m\u001b[0m\u001b[0;34m\u001b[0m\u001b[0m\n\u001b[0;32m--> 640\u001b[0;31m             response = self.parent.error(\n\u001b[0m\u001b[1;32m    641\u001b[0m                 'http', request, response, code, msg, hdrs)\n",
      "\u001b[0;32m~/opt/anaconda3/lib/python3.8/urllib/request.py\u001b[0m in \u001b[0;36merror\u001b[0;34m(self, proto, *args)\u001b[0m\n\u001b[1;32m    568\u001b[0m             \u001b[0margs\u001b[0m \u001b[0;34m=\u001b[0m \u001b[0;34m(\u001b[0m\u001b[0mdict\u001b[0m\u001b[0;34m,\u001b[0m \u001b[0;34m'default'\u001b[0m\u001b[0;34m,\u001b[0m \u001b[0;34m'http_error_default'\u001b[0m\u001b[0;34m)\u001b[0m \u001b[0;34m+\u001b[0m \u001b[0morig_args\u001b[0m\u001b[0;34m\u001b[0m\u001b[0;34m\u001b[0m\u001b[0m\n\u001b[0;32m--> 569\u001b[0;31m             \u001b[0;32mreturn\u001b[0m \u001b[0mself\u001b[0m\u001b[0;34m.\u001b[0m\u001b[0m_call_chain\u001b[0m\u001b[0;34m(\u001b[0m\u001b[0;34m*\u001b[0m\u001b[0margs\u001b[0m\u001b[0;34m)\u001b[0m\u001b[0;34m\u001b[0m\u001b[0;34m\u001b[0m\u001b[0m\n\u001b[0m\u001b[1;32m    570\u001b[0m \u001b[0;34m\u001b[0m\u001b[0m\n",
      "\u001b[0;32m~/opt/anaconda3/lib/python3.8/urllib/request.py\u001b[0m in \u001b[0;36m_call_chain\u001b[0;34m(self, chain, kind, meth_name, *args)\u001b[0m\n\u001b[1;32m    501\u001b[0m             \u001b[0mfunc\u001b[0m \u001b[0;34m=\u001b[0m \u001b[0mgetattr\u001b[0m\u001b[0;34m(\u001b[0m\u001b[0mhandler\u001b[0m\u001b[0;34m,\u001b[0m \u001b[0mmeth_name\u001b[0m\u001b[0;34m)\u001b[0m\u001b[0;34m\u001b[0m\u001b[0;34m\u001b[0m\u001b[0m\n\u001b[0;32m--> 502\u001b[0;31m             \u001b[0mresult\u001b[0m \u001b[0;34m=\u001b[0m \u001b[0mfunc\u001b[0m\u001b[0;34m(\u001b[0m\u001b[0;34m*\u001b[0m\u001b[0margs\u001b[0m\u001b[0;34m)\u001b[0m\u001b[0;34m\u001b[0m\u001b[0;34m\u001b[0m\u001b[0m\n\u001b[0m\u001b[1;32m    503\u001b[0m             \u001b[0;32mif\u001b[0m \u001b[0mresult\u001b[0m \u001b[0;32mis\u001b[0m \u001b[0;32mnot\u001b[0m \u001b[0;32mNone\u001b[0m\u001b[0;34m:\u001b[0m\u001b[0;34m\u001b[0m\u001b[0;34m\u001b[0m\u001b[0m\n",
      "\u001b[0;32m~/opt/anaconda3/lib/python3.8/urllib/request.py\u001b[0m in \u001b[0;36mhttp_error_default\u001b[0;34m(self, req, fp, code, msg, hdrs)\u001b[0m\n\u001b[1;32m    648\u001b[0m     \u001b[0;32mdef\u001b[0m \u001b[0mhttp_error_default\u001b[0m\u001b[0;34m(\u001b[0m\u001b[0mself\u001b[0m\u001b[0;34m,\u001b[0m \u001b[0mreq\u001b[0m\u001b[0;34m,\u001b[0m \u001b[0mfp\u001b[0m\u001b[0;34m,\u001b[0m \u001b[0mcode\u001b[0m\u001b[0;34m,\u001b[0m \u001b[0mmsg\u001b[0m\u001b[0;34m,\u001b[0m \u001b[0mhdrs\u001b[0m\u001b[0;34m)\u001b[0m\u001b[0;34m:\u001b[0m\u001b[0;34m\u001b[0m\u001b[0;34m\u001b[0m\u001b[0m\n\u001b[0;32m--> 649\u001b[0;31m         \u001b[0;32mraise\u001b[0m \u001b[0mHTTPError\u001b[0m\u001b[0;34m(\u001b[0m\u001b[0mreq\u001b[0m\u001b[0;34m.\u001b[0m\u001b[0mfull_url\u001b[0m\u001b[0;34m,\u001b[0m \u001b[0mcode\u001b[0m\u001b[0;34m,\u001b[0m \u001b[0mmsg\u001b[0m\u001b[0;34m,\u001b[0m \u001b[0mhdrs\u001b[0m\u001b[0;34m,\u001b[0m \u001b[0mfp\u001b[0m\u001b[0;34m)\u001b[0m\u001b[0;34m\u001b[0m\u001b[0;34m\u001b[0m\u001b[0m\n\u001b[0m\u001b[1;32m    650\u001b[0m \u001b[0;34m\u001b[0m\u001b[0m\n",
      "\u001b[0;31mHTTPError\u001b[0m: HTTP Error 400: Bad Request",
      "\nDuring handling of the above exception, another exception occurred:\n",
      "\u001b[0;31mAlgodHTTPError\u001b[0m                            Traceback (most recent call last)",
      "\u001b[0;32m~/opt/anaconda3/lib/python3.8/site-packages/algosdk/v2client/algod.py\u001b[0m in \u001b[0;36malgod_request\u001b[0;34m(self, method, requrl, params, data, headers, response_format)\u001b[0m\n\u001b[1;32m     76\u001b[0m             \u001b[0;32mtry\u001b[0m\u001b[0;34m:\u001b[0m\u001b[0;34m\u001b[0m\u001b[0;34m\u001b[0m\u001b[0m\n\u001b[0;32m---> 77\u001b[0;31m                 \u001b[0;32mraise\u001b[0m \u001b[0merror\u001b[0m\u001b[0;34m.\u001b[0m\u001b[0mAlgodHTTPError\u001b[0m\u001b[0;34m(\u001b[0m\u001b[0mjson\u001b[0m\u001b[0;34m.\u001b[0m\u001b[0mloads\u001b[0m\u001b[0;34m(\u001b[0m\u001b[0me\u001b[0m\u001b[0;34m)\u001b[0m\u001b[0;34m[\u001b[0m\u001b[0;34m\"message\"\u001b[0m\u001b[0;34m]\u001b[0m\u001b[0;34m,\u001b[0m \u001b[0mcode\u001b[0m\u001b[0;34m)\u001b[0m\u001b[0;34m\u001b[0m\u001b[0;34m\u001b[0m\u001b[0m\n\u001b[0m\u001b[1;32m     78\u001b[0m             \u001b[0;32mexcept\u001b[0m\u001b[0;34m:\u001b[0m\u001b[0;34m\u001b[0m\u001b[0;34m\u001b[0m\u001b[0m\n",
      "\u001b[0;31mAlgodHTTPError\u001b[0m: TransactionPool.Remember: transaction already in ledger: KGYRO2E5UHJ2R7V5LBMR5BCIIXH3U2ON652NJPAGCWGHWIYUCPFA",
      "\nDuring handling of the above exception, another exception occurred:\n",
      "\u001b[0;31mAlgodHTTPError\u001b[0m                            Traceback (most recent call last)",
      "\u001b[0;32m<ipython-input-358-97834abfa0de>\u001b[0m in \u001b[0;36m<module>\u001b[0;34m\u001b[0m\n\u001b[1;32m     18\u001b[0m \u001b[0;34m\u001b[0m\u001b[0m\n\u001b[1;32m     19\u001b[0m \u001b[0;31m# Send the transaction to the network and retrieve the txid.\u001b[0m\u001b[0;34m\u001b[0m\u001b[0;34m\u001b[0m\u001b[0;34m\u001b[0m\u001b[0m\n\u001b[0;32m---> 20\u001b[0;31m \u001b[0mtxid\u001b[0m \u001b[0;34m=\u001b[0m \u001b[0malgod_client\u001b[0m\u001b[0;34m.\u001b[0m\u001b[0msend_transaction\u001b[0m\u001b[0;34m(\u001b[0m\u001b[0mstxn\u001b[0m\u001b[0;34m)\u001b[0m\u001b[0;34m\u001b[0m\u001b[0;34m\u001b[0m\u001b[0m\n\u001b[0m\u001b[1;32m     21\u001b[0m \u001b[0mprint\u001b[0m\u001b[0;34m(\u001b[0m\u001b[0mtxid\u001b[0m\u001b[0;34m)\u001b[0m\u001b[0;34m\u001b[0m\u001b[0;34m\u001b[0m\u001b[0m\n\u001b[1;32m     22\u001b[0m \u001b[0;34m\u001b[0m\u001b[0m\n",
      "\u001b[0;32m~/opt/anaconda3/lib/python3.8/site-packages/algosdk/v2client/algod.py\u001b[0m in \u001b[0;36msend_transaction\u001b[0;34m(self, txn, **kwargs)\u001b[0m\n\u001b[1;32m    192\u001b[0m         \u001b[0;32massert\u001b[0m \u001b[0;32mnot\u001b[0m \u001b[0misinstance\u001b[0m\u001b[0;34m(\u001b[0m\u001b[0mtxn\u001b[0m\u001b[0;34m,\u001b[0m \u001b[0mfuture\u001b[0m\u001b[0;34m.\u001b[0m\u001b[0mtransaction\u001b[0m\u001b[0;34m.\u001b[0m\u001b[0mTransaction\u001b[0m\u001b[0;34m)\u001b[0m\u001b[0;34m,\u001b[0m\u001b[0;31m \u001b[0m\u001b[0;31m\\\u001b[0m\u001b[0;34m\u001b[0m\u001b[0;34m\u001b[0m\u001b[0m\n\u001b[1;32m    193\u001b[0m             \u001b[0;34mf\"Attempt to send UNSIGNED transaction {txn}\"\u001b[0m\u001b[0;34m\u001b[0m\u001b[0;34m\u001b[0m\u001b[0m\n\u001b[0;32m--> 194\u001b[0;31m         return self.send_raw_transaction(encoding.msgpack_encode(txn),\n\u001b[0m\u001b[1;32m    195\u001b[0m                                          **kwargs)\n\u001b[1;32m    196\u001b[0m \u001b[0;34m\u001b[0m\u001b[0m\n",
      "\u001b[0;32m~/opt/anaconda3/lib/python3.8/site-packages/algosdk/v2client/algod.py\u001b[0m in \u001b[0;36msend_raw_transaction\u001b[0;34m(self, txn, **kwargs)\u001b[0m\n\u001b[1;32m    209\u001b[0m         \u001b[0mreq\u001b[0m \u001b[0;34m=\u001b[0m \u001b[0;34m\"/transactions\"\u001b[0m\u001b[0;34m\u001b[0m\u001b[0;34m\u001b[0m\u001b[0m\n\u001b[1;32m    210\u001b[0m         \u001b[0mheaders\u001b[0m \u001b[0;34m=\u001b[0m \u001b[0;34m{\u001b[0m \u001b[0;34m'Content-Type'\u001b[0m\u001b[0;34m:\u001b[0m \u001b[0;34m'application/x-binary'\u001b[0m \u001b[0;34m}\u001b[0m\u001b[0;34m\u001b[0m\u001b[0;34m\u001b[0m\u001b[0m\n\u001b[0;32m--> 211\u001b[0;31m         \u001b[0;32mreturn\u001b[0m \u001b[0mself\u001b[0m\u001b[0;34m.\u001b[0m\u001b[0malgod_request\u001b[0m\u001b[0;34m(\u001b[0m\u001b[0;34m\"POST\"\u001b[0m\u001b[0;34m,\u001b[0m \u001b[0mreq\u001b[0m\u001b[0;34m,\u001b[0m \u001b[0mdata\u001b[0m\u001b[0;34m=\u001b[0m\u001b[0mtxn\u001b[0m\u001b[0;34m,\u001b[0m \u001b[0mheaders\u001b[0m\u001b[0;34m=\u001b[0m\u001b[0mheaders\u001b[0m\u001b[0;34m,\u001b[0m \u001b[0;34m**\u001b[0m\u001b[0mkwargs\u001b[0m\u001b[0;34m)\u001b[0m\u001b[0;34m[\u001b[0m\u001b[0;34m\"txId\"\u001b[0m\u001b[0;34m]\u001b[0m\u001b[0;34m\u001b[0m\u001b[0;34m\u001b[0m\u001b[0m\n\u001b[0m\u001b[1;32m    212\u001b[0m \u001b[0;34m\u001b[0m\u001b[0m\n\u001b[1;32m    213\u001b[0m     \u001b[0;32mdef\u001b[0m \u001b[0mpending_transactions\u001b[0m\u001b[0;34m(\u001b[0m\u001b[0mself\u001b[0m\u001b[0;34m,\u001b[0m \u001b[0mmax_txns\u001b[0m\u001b[0;34m=\u001b[0m\u001b[0;36m0\u001b[0m\u001b[0;34m,\u001b[0m \u001b[0mresponse_format\u001b[0m\u001b[0;34m=\u001b[0m\u001b[0;34m\"json\"\u001b[0m\u001b[0;34m,\u001b[0m \u001b[0;34m**\u001b[0m\u001b[0mkwargs\u001b[0m\u001b[0;34m)\u001b[0m\u001b[0;34m:\u001b[0m\u001b[0;34m\u001b[0m\u001b[0;34m\u001b[0m\u001b[0m\n",
      "\u001b[0;32m~/opt/anaconda3/lib/python3.8/site-packages/algosdk/v2client/algod.py\u001b[0m in \u001b[0;36malgod_request\u001b[0;34m(self, method, requrl, params, data, headers, response_format)\u001b[0m\n\u001b[1;32m     77\u001b[0m                 \u001b[0;32mraise\u001b[0m \u001b[0merror\u001b[0m\u001b[0;34m.\u001b[0m\u001b[0mAlgodHTTPError\u001b[0m\u001b[0;34m(\u001b[0m\u001b[0mjson\u001b[0m\u001b[0;34m.\u001b[0m\u001b[0mloads\u001b[0m\u001b[0;34m(\u001b[0m\u001b[0me\u001b[0m\u001b[0;34m)\u001b[0m\u001b[0;34m[\u001b[0m\u001b[0;34m\"message\"\u001b[0m\u001b[0;34m]\u001b[0m\u001b[0;34m,\u001b[0m \u001b[0mcode\u001b[0m\u001b[0;34m)\u001b[0m\u001b[0;34m\u001b[0m\u001b[0;34m\u001b[0m\u001b[0m\n\u001b[1;32m     78\u001b[0m             \u001b[0;32mexcept\u001b[0m\u001b[0;34m:\u001b[0m\u001b[0;34m\u001b[0m\u001b[0;34m\u001b[0m\u001b[0m\n\u001b[0;32m---> 79\u001b[0;31m                 \u001b[0;32mraise\u001b[0m \u001b[0merror\u001b[0m\u001b[0;34m.\u001b[0m\u001b[0mAlgodHTTPError\u001b[0m\u001b[0;34m(\u001b[0m\u001b[0me\u001b[0m\u001b[0;34m,\u001b[0m \u001b[0mcode\u001b[0m\u001b[0;34m)\u001b[0m\u001b[0;34m\u001b[0m\u001b[0;34m\u001b[0m\u001b[0m\n\u001b[0m\u001b[1;32m     80\u001b[0m         \u001b[0;32mif\u001b[0m \u001b[0mresponse_format\u001b[0m \u001b[0;34m==\u001b[0m \u001b[0;34m\"json\"\u001b[0m\u001b[0;34m:\u001b[0m\u001b[0;34m\u001b[0m\u001b[0;34m\u001b[0m\u001b[0m\n\u001b[1;32m     81\u001b[0m             \u001b[0;32mtry\u001b[0m\u001b[0;34m:\u001b[0m\u001b[0;34m\u001b[0m\u001b[0;34m\u001b[0m\u001b[0m\n",
      "\u001b[0;31mAlgodHTTPError\u001b[0m: {\"message\":\"TransactionPool.Remember: transaction already in ledger: KGYRO2E5UHJ2R7V5LBMR5BCIIXH3U2ON652NJPAGCWGHWIYUCPFA\"}\n"
     ]
    }
   ],
   "source": [
    "# Preprare Creation\n",
    "txn = AssetConfigTxn(\n",
    "    sender=Issuer['public'],       # Issuer\n",
    "    sp=params,                     # Network parameters\n",
    "    total=1000000,                 # Total CO2 available (in \"milli CO2\")\n",
    "    decimals=3,                    # Attention! Total in 1/1000ths (1kg)\n",
    "    default_frozen=False,          # Are tokens frozen by default?\n",
    "    unit_name=\"KARBO\",     \n",
    "    asset_name=\"Karbo Token\",\n",
    "    manager=Issuer['public'],\n",
    "    reserve=Issuer['public'],\n",
    "    freeze=Issuer['public'],\n",
    "    clawback=Issuer['public'],\n",
    "    url=\"www.usi.ch/wsc\")\n",
    "\n",
    "# Sign with private key of creator\n",
    "stxn = txn.sign(Issuer['private'])\n",
    "\n",
    "# Send the transaction to the network and retrieve the txid.\n",
    "txid = algod_client.send_transaction(stxn)\n",
    "print(txid)\n",
    "\n",
    "# Wait for the transaction to be confirmed\n",
    "wait_for_confirmation(algod_client,txid,5)"
   ]
  },
  {
   "cell_type": "code",
   "execution_count": 359,
   "metadata": {},
   "outputs": [
    {
     "name": "stdout",
     "output_type": "stream",
     "text": [
      "{'sig': 'owJV2TNmxmhvpFFdCCHxkuhZ0Vrj3NT7XBIlqx0ghHJ5yOpxp5EhnZmW0FbhOXMrLCOGajrZMyH7mzB9fOCZBQ==', 'txn': {'apar': {'an': 'COtoken', 'au': 'www.usi.ch/wsc', 'c': 'ATS6HPJU5LFKLZHMGSG7BZ7BL6GU52YSGVSJEZ3GXFBFUNF6CI26U7WO4U', 'dc': 3, 'f': 'ATS6HPJU5LFKLZHMGSG7BZ7BL6GU52YSGVSJEZ3GXFBFUNF6CI26U7WO4U', 'm': 'ATS6HPJU5LFKLZHMGSG7BZ7BL6GU52YSGVSJEZ3GXFBFUNF6CI26U7WO4U', 'r': 'ATS6HPJU5LFKLZHMGSG7BZ7BL6GU52YSGVSJEZ3GXFBFUNF6CI26U7WO4U', 't': 1000000, 'un': 'CO2'}, 'fee': 1000, 'fv': 18753312, 'gen': 'mainnet-v1.0', 'gh': 'wGHE2Pwdvd7S12BL5FaOP20EGYesN73ktiC1qzkkit8=', 'lv': 18754312, 'snd': 'ATS6HPJU5LFKLZHMGSG7BZ7BL6GU52YSGVSJEZ3GXFBFUNF6CI26U7WO4U', 'type': 'acfg'}}\n"
     ]
    }
   ],
   "source": [
    "print(ptx[\"txn\"])"
   ]
  },
  {
   "cell_type": "code",
   "execution_count": 360,
   "metadata": {},
   "outputs": [
    {
     "name": "stdout",
     "output_type": "stream",
     "text": [
      "Asset ID: 557161220\n",
      "{\n",
      "    \"clawback\": \"332K7LY7US3BDQULQO4MX2B4VULSNXVEEAZMWCCPKKPXXPRI4CVPA2VX2A\",\n",
      "    \"creator\": \"332K7LY7US3BDQULQO4MX2B4VULSNXVEEAZMWCCPKKPXXPRI4CVPA2VX2A\",\n",
      "    \"decimals\": 3,\n",
      "    \"default-frozen\": false,\n",
      "    \"freeze\": \"332K7LY7US3BDQULQO4MX2B4VULSNXVEEAZMWCCPKKPXXPRI4CVPA2VX2A\",\n",
      "    \"manager\": \"332K7LY7US3BDQULQO4MX2B4VULSNXVEEAZMWCCPKKPXXPRI4CVPA2VX2A\",\n",
      "    \"name\": \"Karbo Token\",\n",
      "    \"name-b64\": \"S2FyYm8gVG9rZW4=\",\n",
      "    \"reserve\": \"332K7LY7US3BDQULQO4MX2B4VULSNXVEEAZMWCCPKKPXXPRI4CVPA2VX2A\",\n",
      "    \"total\": 1000000,\n",
      "    \"unit-name\": \"KARBO\",\n",
      "    \"unit-name-b64\": \"S0FSQk8=\",\n",
      "    \"url\": \"www.usi.ch/wsc\",\n",
      "    \"url-b64\": \"d3d3LnVzaS5jaC93c2M=\"\n",
      "}\n",
      "Asset ID: 557161220\n",
      "{\n",
      "    \"amount\": 1000000,\n",
      "    \"asset-id\": 557161220,\n",
      "    \"creator\": \"332K7LY7US3BDQULQO4MX2B4VULSNXVEEAZMWCCPKKPXXPRI4CVPA2VX2A\",\n",
      "    \"is-frozen\": false\n",
      "}\n"
     ]
    }
   ],
   "source": [
    "try:\n",
    "    # get asset_id from tx\n",
    "    # Get the new asset's information and holdings\n",
    "    ptx = algod_client.pending_transaction_info(txid)\n",
    "    asset_id = ptx[\"asset-index\"]\n",
    "    print_created_asset(algod_client, Issuer['public'], asset_id)\n",
    "    print_asset_holding(algod_client, Issuer['public'], asset_id)\n",
    "except Exception as e:\n",
    "    print(e)"
   ]
  },
  {
   "cell_type": "markdown",
   "metadata": {},
   "source": [
    "### Check on Algoexplorer\n",
    "- https://algoexplorer.io\n",
    "- Can check for asset ID and **Asset name**\n",
    "- Check \"holders\""
   ]
  },
  {
   "cell_type": "code",
   "execution_count": 361,
   "metadata": {},
   "outputs": [
    {
     "name": "stdout",
     "output_type": "stream",
     "text": [
      "https://algoexplorer.io/asset/557161220\n"
     ]
    }
   ],
   "source": [
    "print('https://algoexplorer.io/asset/'+str(asset_id))"
   ]
  },
  {
   "cell_type": "markdown",
   "metadata": {},
   "source": [
    "### Fund accounts"
   ]
  },
  {
   "cell_type": "code",
   "execution_count": 362,
   "metadata": {},
   "outputs": [
    {
     "data": {
      "text/plain": [
       "{'confirmed-round': 18765741,\n",
       " 'pool-error': '',\n",
       " 'txn': {'sig': 'qJr+l1ZFETqFQDPhibhYvMVRsWQSVL8y1baUeOVgG9W0w5JYZ5LoI9JmQdfWhmX71wstuaWH5qNRV7pvXH/gCw==',\n",
       "  'txn': {'amt': 300000,\n",
       "   'fee': 1000,\n",
       "   'fv': 18765738,\n",
       "   'gen': 'mainnet-v1.0',\n",
       "   'gh': 'wGHE2Pwdvd7S12BL5FaOP20EGYesN73ktiC1qzkkit8=',\n",
       "   'lv': 18766738,\n",
       "   'rcv': 'FRUAXUQ2BHJ5CQOWGZLAFPYL6SJKUSNQ2G5ZIH3ZASPSK3LU4FERN6Z6AQ',\n",
       "   'snd': '332K7LY7US3BDQULQO4MX2B4VULSNXVEEAZMWCCPKKPXXPRI4CVPA2VX2A',\n",
       "   'type': 'pay'}}}"
      ]
     },
     "execution_count": 362,
     "metadata": {},
     "output_type": "execute_result"
    }
   ],
   "source": [
    "# Funding Buyer1 (must be 0.22 Algos)\n",
    "payment_transaction(Issuer[\"mnemonic\"], 300000, Buyer1['public'], algod_client)\n",
    "#payment_transaction(cred['WSC'][\"mnemonic\"], 500000, Issuer['public'], algod_client)"
   ]
  },
  {
   "cell_type": "markdown",
   "metadata": {},
   "source": [
    "### Opt-In\n",
    "* WSC, Buyer1, Buyer2 have to opt in\n",
    "* Algorand Wallet: \"Add new asset\" >> \"all\" (not verified) >> asset-id >> \"OK\""
   ]
  },
  {
   "cell_type": "code",
   "execution_count": 363,
   "metadata": {},
   "outputs": [
    {
     "name": "stdout",
     "output_type": "stream",
     "text": [
      "UXLY36ZCRYSAJQVAIW7Y4I3GLSZJCJ4V3FB4PS4UBNODVQNBZQ3A\n"
     ]
    },
    {
     "data": {
      "text/plain": [
       "{'confirmed-round': 18765746,\n",
       " 'pool-error': '',\n",
       " 'txn': {'sig': '1bKktvr/Jw1vBD3x2N7s2ptnnPyRwVVcOEEmaNWoZ80G8BILMSAF54hnsIbqkaK7in+YMv6NkOg2ea2HMz7+DQ==',\n",
       "  'txn': {'arcv': 'FRUAXUQ2BHJ5CQOWGZLAFPYL6SJKUSNQ2G5ZIH3ZASPSK3LU4FERN6Z6AQ',\n",
       "   'fee': 1000,\n",
       "   'fv': 18765533,\n",
       "   'gen': 'mainnet-v1.0',\n",
       "   'gh': 'wGHE2Pwdvd7S12BL5FaOP20EGYesN73ktiC1qzkkit8=',\n",
       "   'lv': 18766533,\n",
       "   'snd': 'FRUAXUQ2BHJ5CQOWGZLAFPYL6SJKUSNQ2G5ZIH3ZASPSK3LU4FERN6Z6AQ',\n",
       "   'type': 'axfer',\n",
       "   'xaid': 557161220}}}"
      ]
     },
     "execution_count": 363,
     "metadata": {},
     "output_type": "execute_result"
    }
   ],
   "source": [
    "# To opt in, send zero C02 to yourself\n",
    "txn = AssetTransferTxn(sender=Buyer1['public'], sp=params, receiver=Buyer1['public'], amt=0, index=asset_id)\n",
    "stxn = txn.sign(Buyer1['private'])\n",
    "txid = algod_client.send_transaction(stxn)\n",
    "print(txid)\n",
    "wait_for_confirmation(algod_client, txid,5)"
   ]
  },
  {
   "cell_type": "code",
   "execution_count": 364,
   "metadata": {},
   "outputs": [
    {
     "name": "stdout",
     "output_type": "stream",
     "text": [
      "Asset ID: 557161220\n",
      "{\n",
      "    \"amount\": 0,\n",
      "    \"asset-id\": 557161220,\n",
      "    \"creator\": \"332K7LY7US3BDQULQO4MX2B4VULSNXVEEAZMWCCPKKPXXPRI4CVPA2VX2A\",\n",
      "    \"is-frozen\": false\n",
      "}\n"
     ]
    }
   ],
   "source": [
    "#account_info = algod_client.account_info(account)\n",
    "print_asset_holding(algod_client, Buyer1['public'], asset_id)"
   ]
  },
  {
   "cell_type": "markdown",
   "metadata": {},
   "source": [
    "## Send free CO token to everyone\n",
    "Check Algorand wallet notification and change in balance"
   ]
  },
  {
   "cell_type": "code",
   "execution_count": 366,
   "metadata": {},
   "outputs": [],
   "source": [
    "def send_free_CO2(recipient,amount=100000):\n",
    "    txn = AssetTransferTxn(sender=Issuer['public'],sp=params,receiver=recipient,amt=amount,index=asset_id)\n",
    "    stxn = txn.sign(Issuer['private'])\n",
    "    txid = algod_client.send_transaction(stxn)\n",
    "    wait_for_confirmation(algod_client, txid,5)\n",
    "    return(txid)"
   ]
  },
  {
   "cell_type": "code",
   "execution_count": 367,
   "metadata": {},
   "outputs": [
    {
     "name": "stdout",
     "output_type": "stream",
     "text": [
      "Asset ID: 557161220\n",
      "{\n",
      "    \"amount\": 100000,\n",
      "    \"asset-id\": 557161220,\n",
      "    \"creator\": \"332K7LY7US3BDQULQO4MX2B4VULSNXVEEAZMWCCPKKPXXPRI4CVPA2VX2A\",\n",
      "    \"is-frozen\": false\n",
      "}\n"
     ]
    }
   ],
   "source": [
    "send_free_CO2(Buyer1['public'])\n",
    "print_asset_holding(algod_client, Buyer1['public'], asset_id)"
   ]
  },
  {
   "cell_type": "markdown",
   "metadata": {},
   "source": [
    "## Make transfers between wallets\n",
    "Using QR code, manually"
   ]
  },
  {
   "cell_type": "markdown",
   "metadata": {},
   "source": [
    "### Smart signature for burning"
   ]
  },
  {
   "cell_type": "code",
   "execution_count": 368,
   "metadata": {},
   "outputs": [],
   "source": [
    "# Burning smart signature\n",
    "from random import randrange\n",
    "\n",
    "def burning():\n",
    "    a = Int( randrange(2**32-1) )\n",
    "#    b = Int( randrange(2**32-1) )\n",
    "    program = And(\n",
    "        Txn.amount() == Int(0),\n",
    "        a == a,\n",
    "        #Txn.type_enum() == TxnType.Payment,\n",
    "        Txn.fee() <= Int(1000),\n",
    "        Global.group_size() == Int(1),\n",
    "        Txn.rekey_to() == Global.zero_address()        \n",
    "    )\n",
    "    return compileTeal(program, Mode.Signature, version=3)"
   ]
  },
  {
   "cell_type": "code",
   "execution_count": 369,
   "metadata": {},
   "outputs": [
    {
     "name": "stdout",
     "output_type": "stream",
     "text": [
      "#pragma version 3\n",
      "txn Amount\n",
      "int 0\n",
      "==\n",
      "int 3762708568\n",
      "int 3762708568\n",
      "==\n",
      "&&\n",
      "txn Fee\n",
      "int 1000\n",
      "<=\n",
      "&&\n",
      "global GroupSize\n",
      "int 1\n",
      "==\n",
      "&&\n",
      "txn RekeyTo\n",
      "global ZeroAddress\n",
      "==\n",
      "&&\n",
      "-----------------------------------------\n",
      "Compiled smart signature: AyAEANjAmYIO6AcBMQgiEiMjEhAxASQOEDIEJRIQMSAyAxIQ\n",
      "Hash of smart signature:  CE3FM6CU2JE4KTXLWE5RRNABGK2CRNUPHW2WKQYDYIGFSF4SV3CJSCZDWM\n"
     ]
    }
   ],
   "source": [
    "# Create smart signature for burning and Deploy\n",
    "# Note: compiled smart signatures look similar, but they are not!!\n",
    "# Hash is always different\n",
    "\n",
    "# pyTeal -> Teal\n",
    "stateless_program_teal = burning()\n",
    "print(stateless_program_teal)\n",
    "# compile Teal -> Bytecode\n",
    "burn_result, burn_address= compile_smart_signature(algod_client, stateless_program_teal)\n",
    "print(\"-----------------------------------------\")\n",
    "print(\"Compiled smart signature:\", burn_result)\n",
    "print(\"Hash of smart signature: \", burn_address)"
   ]
  },
  {
   "cell_type": "code",
   "execution_count": 370,
   "metadata": {},
   "outputs": [
    {
     "data": {
      "text/plain": [
       "'CE3FM6CU2JE4KTXLWE5RRNABGK2CRNUPHW2WKQYDYIGFSF4SV3CJSCZDWM'"
      ]
     },
     "execution_count": 370,
     "metadata": {},
     "output_type": "execute_result"
    }
   ],
   "source": [
    "burn_address"
   ]
  },
  {
   "cell_type": "code",
   "execution_count": 371,
   "metadata": {},
   "outputs": [
    {
     "data": {
      "text/plain": [
       "{'confirmed-round': 18765824,\n",
       " 'pool-error': '',\n",
       " 'txn': {'sig': 'qUQaDY57EnUfyn3oNsXWhyZ3yiWB6oKFxQ9dkldFIVD8FgPaBFppdxcXnN29Y3z1ALTFPZJLpmkhJ+zfl/nbBg==',\n",
       "  'txn': {'amt': 220000,\n",
       "   'fee': 1000,\n",
       "   'fv': 18765822,\n",
       "   'gen': 'mainnet-v1.0',\n",
       "   'gh': 'wGHE2Pwdvd7S12BL5FaOP20EGYesN73ktiC1qzkkit8=',\n",
       "   'lv': 18766822,\n",
       "   'rcv': 'CE3FM6CU2JE4KTXLWE5RRNABGK2CRNUPHW2WKQYDYIGFSF4SV3CJSCZDWM',\n",
       "   'snd': '332K7LY7US3BDQULQO4MX2B4VULSNXVEEAZMWCCPKKPXXPRI4CVPA2VX2A',\n",
       "   'type': 'pay'}}}"
      ]
     },
     "execution_count": 371,
     "metadata": {},
     "output_type": "execute_result"
    }
   ],
   "source": [
    "# fund burning contract\n",
    "amt = 220000        # microalgos\n",
    "payment_transaction(Issuer['mnemonic'], amt, burn_address, algod_client)"
   ]
  },
  {
   "cell_type": "code",
   "execution_count": 372,
   "metadata": {},
   "outputs": [
    {
     "data": {
      "text/plain": [
       "{'confirmed-round': 18765829,\n",
       " 'pool-error': '',\n",
       " 'txn': {'lsig': {'l': 'AyAEANjAmYIO6AcBMQgiEiMjEhAxASQOEDIEJRIQMSAyAxIQ'},\n",
       "  'txn': {'arcv': 'CE3FM6CU2JE4KTXLWE5RRNABGK2CRNUPHW2WKQYDYIGFSF4SV3CJSCZDWM',\n",
       "   'fee': 1000,\n",
       "   'fv': 18765826,\n",
       "   'gen': 'mainnet-v1.0',\n",
       "   'gh': 'wGHE2Pwdvd7S12BL5FaOP20EGYesN73ktiC1qzkkit8=',\n",
       "   'lv': 18766826,\n",
       "   'snd': 'CE3FM6CU2JE4KTXLWE5RRNABGK2CRNUPHW2WKQYDYIGFSF4SV3CJSCZDWM',\n",
       "   'type': 'axfer',\n",
       "   'xaid': 557161220}}}"
      ]
     },
     "execution_count": 372,
     "metadata": {},
     "output_type": "execute_result"
    }
   ],
   "source": [
    "# special opt-in transaction for burning contract\n",
    "receiver_public_key = burn_address\n",
    "lsig_payment_txn_ASA(burn_result, burn_address, 0, burn_address, asset_id, algod_client)\n",
    "#lsig_payment_txn(burn_result, burn_address, 0, burn_address, algod_client)"
   ]
  },
  {
   "cell_type": "markdown",
   "metadata": {},
   "source": [
    "### Burning"
   ]
  },
  {
   "cell_type": "code",
   "execution_count": 373,
   "metadata": {},
   "outputs": [],
   "source": [
    "def burn_CO2(sender,amount=1000):\n",
    "    txn = AssetTransferTxn(sender['public'],sp=params,receiver=burn_address,amt=amount,index=asset_id)\n",
    "    stxn = txn.sign(sender['private'])\n",
    "    txid = algod_client.send_transaction(stxn)\n",
    "    wait_for_confirmation(algod_client, txid,5)\n",
    "    return(txid)"
   ]
  },
  {
   "cell_type": "code",
   "execution_count": 374,
   "metadata": {},
   "outputs": [
    {
     "name": "stdout",
     "output_type": "stream",
     "text": [
      "Asset ID: 557161220\n",
      "{\n",
      "    \"amount\": 100000,\n",
      "    \"asset-id\": 557161220,\n",
      "    \"creator\": \"332K7LY7US3BDQULQO4MX2B4VULSNXVEEAZMWCCPKKPXXPRI4CVPA2VX2A\",\n",
      "    \"is-frozen\": false\n",
      "}\n",
      "Asset ID: 557161220\n",
      "{\n",
      "    \"amount\": 99000,\n",
      "    \"asset-id\": 557161220,\n",
      "    \"creator\": \"332K7LY7US3BDQULQO4MX2B4VULSNXVEEAZMWCCPKKPXXPRI4CVPA2VX2A\",\n",
      "    \"is-frozen\": false\n",
      "}\n"
     ]
    }
   ],
   "source": [
    "print_asset_holding(algod_client, Buyer1['public'], asset_id)\n",
    "burn_CO2(Buyer1,1000)\n",
    "print_asset_holding(algod_client, Buyer1['public'], asset_id)"
   ]
  },
  {
   "cell_type": "code",
   "execution_count": 375,
   "metadata": {},
   "outputs": [
    {
     "name": "stdout",
     "output_type": "stream",
     "text": [
      "algorand://CE3FM6CU2JE4KTXLWE5RRNABGK2CRNUPHW2WKQYDYIGFSF4SV3CJSCZDWM?amount=1000&asset=557161220&note=Amazonas\n"
     ]
    }
   ],
   "source": [
    "url = 'algorand://' + burn_address + '?amount=1000&asset='+str(asset_id)+'&note=Amazonas'\n",
    "print(url)"
   ]
  },
  {
   "cell_type": "code",
   "execution_count": 376,
   "metadata": {},
   "outputs": [
    {
     "data": {
      "image/png": "[encoded data removed]",
      "text/plain": [
       "<qrcode.image.styledpil.StyledPilImage at 0x1146da880>"
      ]
     },
     "execution_count": 376,
     "metadata": {},
     "output_type": "execute_result"
    }
   ],
   "source": [
    "generate_QRcode_logo(url)"
   ]
  },
  {
   "cell_type": "markdown",
   "metadata": {},
   "source": [
    "## Smart Contract for vending machine\n",
    "* To follow"
   ]
  },
  {
   "cell_type": "markdown",
   "metadata": {},
   "source": [
    "## Web application\n",
    "https://fionnachan.github.io/algorand-wallet-walletconnect-redux/\n"
   ]
  },
  {
   "cell_type": "markdown",
   "metadata": {},
   "source": [
    "## Now add the Buyer1 account to a wallet"
   ]
  },
  {
   "cell_type": "code",
   "execution_count": 377,
   "metadata": {},
   "outputs": [
    {
     "data": {
      "text/plain": [
       "'crawl mom afford welcome shock smart hundred renew list version winner flight remind know quarter minute current chuckle front lawn easily inmate act absent arrive'"
      ]
     },
     "execution_count": 377,
     "metadata": {},
     "output_type": "execute_result"
    }
   ],
   "source": [
    "Buyer1['mnemonic']"
   ]
  },
  {
   "cell_type": "code",
   "execution_count": null,
   "metadata": {},
   "outputs": [],
   "source": []
  }
 ],
 "metadata": {
  "kernelspec": {
   "display_name": "Python 3",
   "language": "python",
   "name": "python3"
  },
  "language_info": {
   "codemirror_mode": {
    "name": "ipython",
    "version": 3
   },
   "file_extension": ".py",
   "mimetype": "text/x-python",
   "name": "python",
   "nbconvert_exporter": "python",
   "pygments_lexer": "ipython3",
   "version": "3.8.8"
  }
 },
 "nbformat": 4,
 "nbformat_minor": 4
}
