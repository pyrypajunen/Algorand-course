{
 "cells": [
  {
   "cell_type": "markdown",
   "metadata": {},
   "source": [
    "# The Remote Atomic Swap - Alice's code\n",
    "#### 04.5 Winter School on Smart Contracts\n",
    "##### Peter Gruber (peter.gruber@usi.ch)\n",
    "2022-02-04\n",
    "\n",
    "* Simple Atomic Swap: Alice send 2 Algos to Bob, and Bob send 1 Algos to Alice.\n",
    "    * Usually, we would swap ALGOs for an ASA, this is just to simplify the example\n",
    "* They are not in the same room.\n",
    "* They exchange transactions via Email"
   ]
  },
  {
   "cell_type": "markdown",
   "metadata": {
    "tags": []
   },
   "source": [
    "### Setup\n",
    "See notebook 04.1, the lines below will always automatically load functions in `algo_util.py`, the five accounts and the Purestake credentials"
   ]
  },
  {
   "cell_type": "code",
   "execution_count": 14,
   "metadata": {
    "tags": []
   },
   "outputs": [],
   "source": [
    "# Loading shared code and credentials\n",
    "import sys, os\n",
    "codepath = '..'+os.path.sep+'..'+os.path.sep+'sharedCode'\n",
    "sys.path.append(codepath)\n",
    "from algo_util import *\n",
    "cred = load_credentials()\n",
    "\n",
    "# Shortcuts to directly access the main accounts\n",
    "Alice  = cred['Alice']\n",
    "Bob    = cred['Bob']"
   ]
  },
  {
   "cell_type": "code",
   "execution_count": 15,
   "metadata": {
    "tags": []
   },
   "outputs": [],
   "source": [
    "from algosdk import account, mnemonic\n",
    "from algosdk.v2client import algod\n",
    "from algosdk.future import transaction\n",
    "from algosdk.future.transaction import PaymentTxn, SignedTransaction\n",
    "import algosdk.error\n",
    "\n",
    "import json\n",
    "import pandas as pd\n",
    "import base64"
   ]
  },
  {
   "cell_type": "code",
   "execution_count": 16,
   "metadata": {
    "tags": []
   },
   "outputs": [],
   "source": [
    "# Initialize the algod client (Testnet or Mainnet)\n",
    "algod_client = algod.AlgodClient(algod_token='', algod_address=cred['algod_test'], headers=cred['purestake_token'])"
   ]
  },
  {
   "cell_type": "markdown",
   "metadata": {},
   "source": [
    "## The remote swap"
   ]
  },
  {
   "cell_type": "markdown",
   "metadata": {},
   "source": [
    "#### Step 1: Prepare two transactions\n",
    "* Alice prepares both transactions\n",
    "* Similarly, a programmer could prepare the two transactions and send one to Alice and one to Bob"
   ]
  },
  {
   "cell_type": "code",
   "execution_count": 17,
   "metadata": {},
   "outputs": [
    {
     "name": "stdout",
     "output_type": "stream",
     "text": [
      "{\n",
      "    \"first\": 19787685,\n",
      "    \"last\": 19788685,\n",
      "    \"gh\": \"SGO1GKSzyE7IEPItTxCByw9x8FmnrCDexi9/cOUJOiI=\",\n",
      "    \"gen\": \"testnet-v1.0\",\n",
      "    \"fee\": 0,\n",
      "    \"flat_fee\": false,\n",
      "    \"consensus_version\": \"https://github.com/algorandfoundation/specs/tree/bc36005dbd776e6d1eaf0c560619bb183215645c\",\n",
      "    \"min_fee\": 1000\n",
      "}\n"
     ]
    }
   ],
   "source": [
    "# Inspect the suggested_params\n",
    "sp = algod_client.suggested_params()\n",
    "print(json.dumps(vars(sp), indent=4))"
   ]
  },
  {
   "cell_type": "code",
   "execution_count": 18,
   "metadata": {},
   "outputs": [
    {
     "data": {
      "text/plain": [
       "19787686"
      ]
     },
     "execution_count": 18,
     "metadata": {},
     "output_type": "execute_result"
    }
   ],
   "source": [
    "algod_client.status()[\"last-round\"]"
   ]
  },
  {
   "cell_type": "markdown",
   "metadata": {},
   "source": [
    "##### How much time to do we have from creating the TX to signing and sending it?\n",
    "* Algorand max window = 1000 blocks\n",
    "* Already being proposed"
   ]
  },
  {
   "cell_type": "code",
   "execution_count": 20,
   "metadata": {},
   "outputs": [
    {
     "name": "stdout",
     "output_type": "stream",
     "text": [
      "1000\n",
      "50.0\n"
     ]
    }
   ],
   "source": [
    "# in rounds\n",
    "print(sp.last - sp.first)\n",
    "# in minutes (assuming 3 sec pro round)\n",
    "print( (sp.last - sp.first)*3/60 )"
   ]
  },
  {
   "cell_type": "markdown",
   "metadata": {},
   "source": [
    "##### Possibly we want to extend the time for Bob to sign the transaction\n",
    "* Start validity window later"
   ]
  },
  {
   "cell_type": "code",
   "execution_count": 29,
   "metadata": {},
   "outputs": [],
   "source": [
    "sp.first = sp.first+10      # start later\n",
    "sp.last = sp.last+10        # end later"
   ]
  },
  {
   "cell_type": "code",
   "execution_count": 23,
   "metadata": {},
   "outputs": [],
   "source": [
    "amt_1 = int(2*1E6)\n",
    "txn_1 = transaction.PaymentTxn(Alice[\"public\"], sp, Bob[\"public\"],  amt_1)\n",
    "\n",
    "amt_2 = int(1*1E6)\n",
    "txn_2 = transaction.PaymentTxn(Bob[\"public\"], sp, Alice[\"public\"],  amt_2)"
   ]
  },
  {
   "cell_type": "markdown",
   "metadata": {},
   "source": [
    "#### Step 2: create and assign group id"
   ]
  },
  {
   "cell_type": "code",
   "execution_count": 24,
   "metadata": {},
   "outputs": [],
   "source": [
    "gid = transaction.calculate_group_id([txn_1, txn_2])\n",
    "txn_1.group = gid\n",
    "txn_2.group = gid"
   ]
  },
  {
   "cell_type": "markdown",
   "metadata": {},
   "source": [
    "#### Step 3: Send transaction file to Bob\n",
    "* Transaction `txn_2` is now ready and can be sent to Bob\n",
    "* To be able to save it into a file, we need to `dictify` it"
   ]
  },
  {
   "cell_type": "code",
   "execution_count": 25,
   "metadata": {},
   "outputs": [],
   "source": [
    "import pickle\n",
    "data = txn_2.dictify()\n",
    "file = open(\"Bob_txn.txt\", 'wb')\n",
    "pickle.dump(data, file)\n",
    "file.close()"
   ]
  },
  {
   "cell_type": "markdown",
   "metadata": {},
   "source": [
    "#### Step 4: Now it is Bob's turn\n",
    "* We can assume that they exchange files via email or a similar service\n",
    "* Open the notebook `04.5b_WSC` and create a file of the signed transaction"
   ]
  },
  {
   "cell_type": "markdown",
   "metadata": {},
   "source": [
    "#### Step 5: Retrieve Bob's signed transaction\n",
    "Instead of defining it as 'algosdk.future.transaction.PaymentTxn.undictify(...)', we use 'algosdk.future.transaction.SignedTransaction.undictify(...)'"
   ]
  },
  {
   "cell_type": "code",
   "execution_count": 26,
   "metadata": {
    "tags": []
   },
   "outputs": [],
   "source": [
    "file = open(\"Bob_signed.txt\", 'rb')\n",
    "data = pickle.load(file)\n",
    "# To undictify, we need the SignedTransaction function\n",
    "stxn_2 = SignedTransaction.undictify(data)"
   ]
  },
  {
   "cell_type": "markdown",
   "metadata": {},
   "source": [
    "#### Step 6: Alice has to sign her transaction"
   ]
  },
  {
   "cell_type": "code",
   "execution_count": 27,
   "metadata": {
    "tags": []
   },
   "outputs": [],
   "source": [
    "stxn_1 = txn_1.sign(Alice['private'])"
   ]
  },
  {
   "cell_type": "markdown",
   "metadata": {},
   "source": [
    "#### Step 7: Alice collects everything and sends the transaction\n",
    "* This part could also be taken over by a third party"
   ]
  },
  {
   "cell_type": "code",
   "execution_count": 28,
   "metadata": {
    "tags": []
   },
   "outputs": [
    {
     "name": "stdout",
     "output_type": "stream",
     "text": [
      "Current round is  19787793.\n",
      "Waiting for round 19787793 to finish.\n",
      "Waiting for round 19787794 to finish.\n",
      "Transaction KDZWDUGGNIODWAWUEE4WT3XPOZ5XFZFN63L7ZYAXVNHSC5MFN7DA confirmed in round 19787795.\n"
     ]
    }
   ],
   "source": [
    "# Step 7.1: collect\n",
    "signed_group =  [stxn_1, stxn_2]\n",
    "\n",
    "# Step 7.2: send\n",
    "txid = algod_client.send_transactions(signed_group)\n",
    "\n",
    "# Step 7.3: wait for confirmation\n",
    "txinfo = wait_for_confirmation(algod_client, txid) "
   ]
  }
 ],
 "metadata": {
  "kernelspec": {
   "display_name": "Python 3",
   "language": "python",
   "name": "python3"
  },
  "language_info": {
   "codemirror_mode": {
    "name": "ipython",
    "version": 3
   },
   "file_extension": ".py",
   "mimetype": "text/x-python",
   "name": "python",
   "nbconvert_exporter": "python",
   "pygments_lexer": "ipython3",
   "version": "3.7.6"
  }
 },
 "nbformat": 4,
 "nbformat_minor": 5
}
