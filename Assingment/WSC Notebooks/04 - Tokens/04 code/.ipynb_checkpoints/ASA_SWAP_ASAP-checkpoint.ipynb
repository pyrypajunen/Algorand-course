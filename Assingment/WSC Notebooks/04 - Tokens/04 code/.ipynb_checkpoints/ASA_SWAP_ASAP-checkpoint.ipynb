{
  "nbformat": 4,
  "nbformat_minor": 0,
  "metadata": {
    "colab": {
      "name": "ASA SWAP ASAP",
      "provenance": [],
      "collapsed_sections": []
    },
    "kernelspec": {
      "name": "python3",
      "display_name": "Python 3"
    },
    "language_info": {
      "name": "python"
    }
  },
  "cells": [
    {
      "cell_type": "markdown",
      "source": [
        "\n",
        "\n"
      ],
      "metadata": {
        "id": "wlImu-sVBx5d"
      }
    },
    {
      "cell_type": "markdown",
      "source": [
        "## To be continued\n",
        "### useful links to do the vending machine.\n",
        "\n",
        "https://github.com/tinymanorg/tinyman-py-sdk --> github to make pools and swapping tokens.\n",
        "\n",
        "https://docs.tinyman.org/design-doc#bootstrap-process --> documentation to set the liquidity pool.\n",
        "\n",
        "https://app.tinyman.org/#/pool --> tinyman app\n",
        "\n",
        "\n",
        "**In order to create the vending machine we have to set up a liquidity pool to enable the swap. Creating an app with multiple smart contracts in order to do this is almost impossible because of the time coinstraint. Fortunately there is this package, we read all the documentation, we understood what is needed to create the pool and also to bootstrap it, we have created the group transaction already with the correct parameters to use inside the function. With this package is possible to do everything, also the more complicated application that checks the amount of tokens available in the pool, the slippage, the price (can be fixed), etc. Right now our problem is how to bootstrap an configure the pool, because in order to do everything mentioned above, we have to add liquidity to the pool. The liquidity has to be added by the pooler(the one who created the pool) and it has to be added for both tokens.**\n",
        "\n",
        "### Here you an find the application. --> https://testnet.algoexplorer.io/application/21580889\n",
        "\n"
      ],
      "metadata": {
        "id": "hNUo8kJnc2-0"
      }
    },
    {
      "cell_type": "code",
      "source": [
        "# install the github package\n",
        "\n",
        "!pip install git+https://github.com/tinymanorg/tinyman-py-sdk.git\n",
        "!pip install pyteal"
      ],
      "metadata": {
        "colab": {
          "base_uri": "https://localhost:8080/"
        },
        "id": "PxPrisdzAUEc",
        "outputId": "7db70e55-31dd-4f7d-b91c-5fe536578b69"
      },
      "execution_count": null,
      "outputs": [
        {
          "output_type": "stream",
          "name": "stdout",
          "text": [
            "Collecting git+https://github.com/tinymanorg/tinyman-py-sdk.git\n",
            "  Cloning https://github.com/tinymanorg/tinyman-py-sdk.git to /tmp/pip-req-build-edy_rnaf\n",
            "  Running command git clone -q https://github.com/tinymanorg/tinyman-py-sdk.git /tmp/pip-req-build-edy_rnaf\n",
            "Requirement already satisfied: py-algorand-sdk>=1.6.0 in /usr/local/lib/python3.7/dist-packages (from tinyman-py-sdk==0.0.5) (1.9.0)\n",
            "Requirement already satisfied: pycryptodomex>=3.6.0 in /usr/local/lib/python3.7/dist-packages (from py-algorand-sdk>=1.6.0->tinyman-py-sdk==0.0.5) (3.12.0)\n",
            "Requirement already satisfied: msgpack in /usr/local/lib/python3.7/dist-packages (from py-algorand-sdk>=1.6.0->tinyman-py-sdk==0.0.5) (1.0.3)\n",
            "Requirement already satisfied: pynacl in /usr/local/lib/python3.7/dist-packages (from py-algorand-sdk>=1.6.0->tinyman-py-sdk==0.0.5) (1.5.0)\n",
            "Requirement already satisfied: cffi>=1.4.1 in /usr/local/lib/python3.7/dist-packages (from pynacl->py-algorand-sdk>=1.6.0->tinyman-py-sdk==0.0.5) (1.15.0)\n",
            "Requirement already satisfied: pycparser in /usr/local/lib/python3.7/dist-packages (from cffi>=1.4.1->pynacl->py-algorand-sdk>=1.6.0->tinyman-py-sdk==0.0.5) (2.21)\n",
            "Requirement already satisfied: pyteal in /usr/local/lib/python3.7/dist-packages (0.9.1)\n",
            "Requirement already satisfied: py-algorand-sdk in /usr/local/lib/python3.7/dist-packages (from pyteal) (1.9.0)\n",
            "Requirement already satisfied: pycryptodomex>=3.6.0 in /usr/local/lib/python3.7/dist-packages (from py-algorand-sdk->pyteal) (3.12.0)\n",
            "Requirement already satisfied: msgpack in /usr/local/lib/python3.7/dist-packages (from py-algorand-sdk->pyteal) (1.0.3)\n",
            "Requirement already satisfied: pynacl in /usr/local/lib/python3.7/dist-packages (from py-algorand-sdk->pyteal) (1.5.0)\n",
            "Requirement already satisfied: cffi>=1.4.1 in /usr/local/lib/python3.7/dist-packages (from pynacl->py-algorand-sdk->pyteal) (1.15.0)\n",
            "Requirement already satisfied: pycparser in /usr/local/lib/python3.7/dist-packages (from cffi>=1.4.1->pynacl->py-algorand-sdk->pyteal) (2.21)\n"
          ]
        }
      ]
    },
    {
      "cell_type": "code",
      "execution_count": null,
      "metadata": {
        "id": "DILYbWoL_BnW"
      },
      "outputs": [],
      "source": [
        "# import packages\n",
        "from tinyman.v1.pools import Pool\n",
        "from tinyman.assets import Asset\n",
        "from tinyman.utils import wait_for_confirmation\n",
        "from algosdk.v2client.algod import AlgodClient\n",
        "from tinyman.v1.client import TinymanClient\n",
        "from tinyman.v1.client import TinymanTestnetClient\n",
        "\n",
        "\n",
        "import algosdk\n",
        "import base64\n",
        "from algosdk import account, mnemonic\n",
        "import json\n",
        "from algosdk import template\n",
        "from algosdk.v2client import algod\n",
        "from algosdk.future import transaction\n",
        "from algosdk.transaction import PaymentTxn, LogicSig\n",
        "from pyteal import *\n"
      ]
    },
    {
      "cell_type": "code",
      "source": [
        "# License\n",
        "'''import setuptools\n",
        "\n",
        "\n",
        "with open(\"README.md\", \"r\") as f:\n",
        "    long_description = f.read()\n",
        "\n",
        "setuptools.setup(\n",
        "    name=\"tinyman-py-sdk\",\n",
        "    description=\"Tinyman Python SDK\",\n",
        "    author=\"Tinyman\",\n",
        "    author_email=\"hello@tinyman.org\",\n",
        "    version=\"0.0.5\",\n",
        "    long_description=long_description,\n",
        "    long_description_content_type=\"text/markdown\",\n",
        "    license=\"MIT\",\n",
        "    project_urls={\n",
        "        \"Source\": \"https://github.com/tinyman/tinyman-py-sdk\",\n",
        "    },\n",
        "    install_requires=[\"py-algorand-sdk >= 1.6.0\"],\n",
        "    packages=setuptools.find_packages(),\n",
        "    python_requires=\">=3.7\",\n",
        "    package_data={'tinyman.v1': ['asc.json']},\n",
        "    include_package_data=True,\n",
        ")'''"
      ],
      "metadata": {
        "id": "8HkIqtKXFK5q"
      },
      "execution_count": null,
      "outputs": []
    },
    {
      "cell_type": "markdown",
      "source": [
        ""
      ],
      "metadata": {
        "id": "ia9WIhM2A-o9"
      }
    },
    {
      "cell_type": "code",
      "source": [
        "# Account\n",
        "account = {\n",
        "    'address': 'OFXBSPK3GIVX4VCN5LU4JJPRS2J7U5ZPWZIDIZMF4WLZQVYAZLVOMNX3SE',\n",
        "    'private_key': 'nYWGH0TNExLLxD8Pjy2PNxoBpgZVWNvIbZMQiBv6vj9xbhk9WzIrflRN6unEpfGWk/p3L7ZQNGWF5ZeYVwDK6g==', # Use algosdk.mnemonic.to_private_key(mnemonic) if necessary\n",
        "}"
      ],
      "metadata": {
        "id": "i2PblEXIA8PQ"
      },
      "execution_count": null,
      "outputs": []
    },
    {
      "cell_type": "code",
      "source": [
        "# Connect to the client\n",
        "algod = AlgodClient('OFXBSPK3GIVX4VCN5LU4JJPRS2J7U5ZPWZIDIZMF4WLZQVYAZLVOMNX3SE', 'https://api.testnet.algoexplorer.io', headers={'User-Agent': 'algosdk'})\n",
        "\n",
        "client = TinymanClient(\n",
        "    algod_client=algod,\n",
        "    validator_app_id=21580889,\n",
        ")"
      ],
      "metadata": {
        "id": "s3eBlg3xA8VF"
      },
      "execution_count": null,
      "outputs": []
    },
    {
      "cell_type": "code",
      "source": [
        "\n",
        "params = algod.suggested_params()\n",
        "print(json.dumps(vars(params), indent=4))"
      ],
      "metadata": {
        "id": "J5kIKZQyEQv_",
        "colab": {
          "base_uri": "https://localhost:8080/"
        },
        "outputId": "755d5c3d-8c90-4f3c-f839-3498ac066527"
      },
      "execution_count": null,
      "outputs": [
        {
          "output_type": "stream",
          "name": "stdout",
          "text": [
            "{\n",
            "    \"first\": 19243206,\n",
            "    \"last\": 19244206,\n",
            "    \"gh\": \"SGO1GKSzyE7IEPItTxCByw9x8FmnrCDexi9/cOUJOiI=\",\n",
            "    \"gen\": \"testnet-v1.0\",\n",
            "    \"fee\": 0,\n",
            "    \"flat_fee\": false,\n",
            "    \"consensus_version\": \"https://github.com/algorandfoundation/specs/tree/bc36005dbd776e6d1eaf0c560619bb183215645c\",\n",
            "    \"min_fee\": 1000\n",
            "}\n"
          ]
        }
      ]
    },
    {
      "cell_type": "code",
      "source": [
        "# Check if the account is opted into Tinyman and optin if necessary\n",
        "# this account has been already opted in by us\n",
        "\n",
        "if(not client.is_opted_in(account['address'])):\n",
        "    print('Account not opted into app, opting in now..')\n",
        "    transaction_group = client.prepare_app_optin_transactions(account['address'])\n",
        "    for i, txn in enumerate(transaction_group.transactions):\n",
        "        if txn.sender == account['address']:\n",
        "            transaction_group.signed_transactions[i] = txn.sign(account['private_key'])\n",
        "    txid = client.algod.send_transactions(transaction_group.signed_transactions)\n",
        "    wait_for_confirmation(txid)\n"
      ],
      "metadata": {
        "id": "Ff7cZe_vFK2-"
      },
      "execution_count": null,
      "outputs": []
    },
    {
      "cell_type": "code",
      "source": [
        "import json\n",
        "import importlib.resources\n",
        "from algosdk.future.transaction import LogicSig\n",
        "import tinyman.v1\n",
        "from tinyman.utils import get_program\n",
        "_contracts = json.loads(importlib.resources.read_text(tinyman.v1, 'asc.json'))\n",
        "\n",
        "pool_logicsig_def = _contracts['contracts']['pool_logicsig']['logic']\n",
        "\n",
        "validator_app_def = _contracts['contracts']['validator_app']\n",
        "\n",
        "\n",
        "def get_pool_logicsig(validator_app_id, asset1_id, asset2_id):\n",
        "    assets = [asset1_id, asset2_id]\n",
        "    asset_id_1 = max(assets)\n",
        "    asset_id_2 = min(assets)\n",
        "    program_bytes = get_program(pool_logicsig_def, variables=dict(\n",
        "        validator_app_id=validator_app_id,\n",
        "        asset_id_1=asset_id_1,\n",
        "        asset_id_2=asset_id_2,\n",
        "    ))\n",
        "    return LogicSig(program=program_bytes)"
      ],
      "metadata": {
        "id": "rvdvz2OwMt_4"
      },
      "execution_count": 23,
      "outputs": []
    },
    {
      "cell_type": "code",
      "source": [
        "import base64\n",
        "from os import name\n",
        "import algosdk\n",
        "from algosdk.future.transaction import ApplicationOptInTxn, PaymentTxn, AssetCreateTxn, AssetOptInTxn\n",
        "from algosdk.v2client.algod import AlgodClient\n",
        "\n",
        "from tinyman.utils import int_to_bytes, TransactionGroup\n",
        "\n",
        "\n",
        "\n",
        "def prepare_bootstrap_transactions(validator_app_id, asset1_id, asset2_id, asset1_unit_name, asset2_unit_name, sender, suggested_params):\n",
        "    pool_logicsig = get_pool_logicsig(validator_app_id, asset1_id, asset2_id)\n",
        "    pool_address = pool_logicsig.address()\n",
        "\n",
        "    assert(asset1_id > asset2_id)\n",
        "\n",
        "    if asset2_id == 0:\n",
        "        asset2_unit_name = 'ALGO'\n",
        "\n",
        "    txns = [\n",
        "        PaymentTxn(\n",
        "            sender=sender,\n",
        "            sp=suggested_params,\n",
        "            receiver=pool_address,\n",
        "            amt=961000 if asset2_id > 0 else 860000,\n",
        "            note='fee',\n",
        "        ),\n",
        "        ApplicationOptInTxn(\n",
        "            sender=pool_address,\n",
        "            sp=suggested_params,\n",
        "            index=validator_app_id,\n",
        "            app_args=['bootstrap', int_to_bytes(asset1_id), int_to_bytes(asset2_id)],\n",
        "            foreign_assets=[asset1_id] if asset2_id == 0 else [asset1_id, asset2_id],\n",
        "        ),\n",
        "        AssetCreateTxn(\n",
        "            sender=pool_address,\n",
        "            sp=suggested_params,\n",
        "            total=0xFFFFFFFFFFFFFFFF,\n",
        "            decimals=6,\n",
        "            unit_name='TMPOOL11',\n",
        "            asset_name=f'TinymanPool1.1 {asset1_unit_name}-{asset2_unit_name}',\n",
        "            url='https://tinyman.org',\n",
        "            default_frozen=False,\n",
        "        ),\n",
        "        AssetOptInTxn(\n",
        "            sender=pool_address,\n",
        "            sp=suggested_params,\n",
        "            index=asset1_id,\n",
        "        ),\n",
        "    ]\n",
        "    if asset2_id > 0:\n",
        "        txns += [\n",
        "            AssetOptInTxn(\n",
        "                sender=pool_address,\n",
        "                sp=suggested_params,\n",
        "                index=asset2_id,\n",
        "            )\n",
        "        ]\n",
        "    txn_group = TransactionGroup(txns)\n",
        "    txn_group.sign_with_logicisg(pool_logicsig)\n",
        "    return txn_group"
      ],
      "metadata": {
        "id": "0dWEg_u7MuCA"
      },
      "execution_count": null,
      "outputs": []
    },
    {
      "cell_type": "code",
      "source": [
        "# Fetch our two assets of interest\n",
        "FOOCoin = Asset(id=65740353, name='FOOCoin', unit_name='FOO', decimals=6)\n",
        "ALGO = Asset(id=0, name='Algo', unit_name='ALGO', decimals=6)\n",
        "\n",
        "# Create the pool we will work with and fetch its on-chain state\n",
        "pool = Pool(client, asset_a=FOOCoin, asset_b=ALGO, fetch=True)"
      ],
      "metadata": {
        "id": "FJj_vaN_A8SH"
      },
      "execution_count": null,
      "outputs": []
    },
    {
      "cell_type": "code",
      "source": [
        "# All parameters are already setted\n",
        "\n",
        "prepare_bootstrap_transactions(21580889, 65740353, 0, 'FOO', 'ALGO', account['address'], params)"
      ],
      "metadata": {
        "id": "jcAs1Lb_FK9J",
        "colab": {
          "base_uri": "https://localhost:8080/"
        },
        "outputId": "97643aa2-06ef-4606-9e7b-15699be62744"
      },
      "execution_count": null,
      "outputs": [
        {
          "output_type": "execute_result",
          "data": {
            "text/plain": [
              "<tinyman.utils.TransactionGroup at 0x7f2a07ec05d0>"
            ]
          },
          "metadata": {},
          "execution_count": 101
        }
      ]
    },
    {
      "cell_type": "markdown",
      "source": [
        "# Here start the problems!\n",
        "\n",
        "\n",
        "\n",
        "1.   We need to bootstrap the pool, which is a process for which we send 4 (or 5) transactions, but we didn't understand well enough how to implement this part\n",
        "2.   We need to add liquidity to the pool \n",
        "\n"
      ],
      "metadata": {
        "id": "8h2KhwAPirF9"
      }
    },
    {
      "cell_type": "code",
      "source": [
        "client = TinymanTestnetClient(user_address=account['address'])\n",
        "# By default all subsequent operations are on behalf of user_address\n",
        "\n",
        "# Fetch our two assets of interest\n",
        "FOOCoin = client.fetch_asset(65740353)\n",
        "ALGO = client.fetch_asset(0)\n",
        "\n",
        "# Fetch the pool we will work with\n",
        "pool = client.fetch_pool(FOOCoin, ALGO)\n",
        "\n",
        "info = pool.fetch_pool_position()\n",
        "share = info['share'] * 100\n",
        "print(f'Pool Tokens: {info[pool.liquidity_asset]}')\n",
        "print(f'Assets: {info[FOOCoin]}, {info[ALGO]}')\n",
        "print(f'Share of pool: {share:.3f}%')"
      ],
      "metadata": {
        "colab": {
          "base_uri": "https://localhost:8080/",
          "height": 356
        },
        "id": "3kfpXUSRO62C",
        "outputId": "76ba4514-a4e8-4e2d-89e9-d574f956f716"
      },
      "execution_count": null,
      "outputs": [
        {
          "output_type": "error",
          "ename": "AttributeError",
          "evalue": "ignored",
          "traceback": [
            "\u001b[0;31m---------------------------------------------------------------------------\u001b[0m",
            "\u001b[0;31mAttributeError\u001b[0m                            Traceback (most recent call last)",
            "\u001b[0;32m<ipython-input-14-6ec9fd80e597>\u001b[0m in \u001b[0;36m<module>\u001b[0;34m()\u001b[0m\n\u001b[1;32m      9\u001b[0m \u001b[0mpool\u001b[0m \u001b[0;34m=\u001b[0m \u001b[0mclient\u001b[0m\u001b[0;34m.\u001b[0m\u001b[0mfetch_pool\u001b[0m\u001b[0;34m(\u001b[0m\u001b[0mFOOCoin\u001b[0m\u001b[0;34m,\u001b[0m \u001b[0mALGO\u001b[0m\u001b[0;34m)\u001b[0m\u001b[0;34m\u001b[0m\u001b[0;34m\u001b[0m\u001b[0m\n\u001b[1;32m     10\u001b[0m \u001b[0;34m\u001b[0m\u001b[0m\n\u001b[0;32m---> 11\u001b[0;31m \u001b[0minfo\u001b[0m \u001b[0;34m=\u001b[0m \u001b[0mpool\u001b[0m\u001b[0;34m.\u001b[0m\u001b[0mfetch_pool_position\u001b[0m\u001b[0;34m(\u001b[0m\u001b[0;34m)\u001b[0m\u001b[0;34m\u001b[0m\u001b[0;34m\u001b[0m\u001b[0m\n\u001b[0m\u001b[1;32m     12\u001b[0m \u001b[0mshare\u001b[0m \u001b[0;34m=\u001b[0m \u001b[0minfo\u001b[0m\u001b[0;34m[\u001b[0m\u001b[0;34m'share'\u001b[0m\u001b[0;34m]\u001b[0m \u001b[0;34m*\u001b[0m \u001b[0;36m100\u001b[0m\u001b[0;34m\u001b[0m\u001b[0;34m\u001b[0m\u001b[0m\n\u001b[1;32m     13\u001b[0m \u001b[0mprint\u001b[0m\u001b[0;34m(\u001b[0m\u001b[0;34mf'Pool Tokens: {info[pool.liquidity_asset]}'\u001b[0m\u001b[0;34m)\u001b[0m\u001b[0;34m\u001b[0m\u001b[0;34m\u001b[0m\u001b[0m\n",
            "\u001b[0;32m/usr/local/lib/python3.7/dist-packages/tinyman/v1/pools.py\u001b[0m in \u001b[0;36mfetch_pool_position\u001b[0;34m(self, pooler_address)\u001b[0m\n\u001b[1;32m    519\u001b[0m         \u001b[0maccount_info\u001b[0m \u001b[0;34m=\u001b[0m \u001b[0mself\u001b[0m\u001b[0;34m.\u001b[0m\u001b[0mclient\u001b[0m\u001b[0;34m.\u001b[0m\u001b[0malgod\u001b[0m\u001b[0;34m.\u001b[0m\u001b[0maccount_info\u001b[0m\u001b[0;34m(\u001b[0m\u001b[0mpooler_address\u001b[0m\u001b[0;34m)\u001b[0m\u001b[0;34m\u001b[0m\u001b[0;34m\u001b[0m\u001b[0m\n\u001b[1;32m    520\u001b[0m         \u001b[0massets\u001b[0m \u001b[0;34m=\u001b[0m \u001b[0;34m{\u001b[0m\u001b[0ma\u001b[0m\u001b[0;34m[\u001b[0m\u001b[0;34m'asset-id'\u001b[0m\u001b[0;34m]\u001b[0m\u001b[0;34m:\u001b[0m \u001b[0ma\u001b[0m \u001b[0;32mfor\u001b[0m \u001b[0ma\u001b[0m \u001b[0;32min\u001b[0m \u001b[0maccount_info\u001b[0m\u001b[0;34m[\u001b[0m\u001b[0;34m'assets'\u001b[0m\u001b[0;34m]\u001b[0m\u001b[0;34m}\u001b[0m\u001b[0;34m\u001b[0m\u001b[0;34m\u001b[0m\u001b[0m\n\u001b[0;32m--> 521\u001b[0;31m         \u001b[0mliquidity_asset_amount\u001b[0m \u001b[0;34m=\u001b[0m \u001b[0massets\u001b[0m\u001b[0;34m.\u001b[0m\u001b[0mget\u001b[0m\u001b[0;34m(\u001b[0m\u001b[0mself\u001b[0m\u001b[0;34m.\u001b[0m\u001b[0mliquidity_asset\u001b[0m\u001b[0;34m.\u001b[0m\u001b[0mid\u001b[0m\u001b[0;34m,\u001b[0m \u001b[0;34m{\u001b[0m\u001b[0;34m}\u001b[0m\u001b[0;34m)\u001b[0m\u001b[0;34m.\u001b[0m\u001b[0mget\u001b[0m\u001b[0;34m(\u001b[0m\u001b[0;34m'amount'\u001b[0m\u001b[0;34m,\u001b[0m \u001b[0;36m0\u001b[0m\u001b[0;34m)\u001b[0m\u001b[0;34m\u001b[0m\u001b[0;34m\u001b[0m\u001b[0m\n\u001b[0m\u001b[1;32m    522\u001b[0m         \u001b[0mquote\u001b[0m \u001b[0;34m=\u001b[0m \u001b[0mself\u001b[0m\u001b[0;34m.\u001b[0m\u001b[0mfetch_burn_quote\u001b[0m\u001b[0;34m(\u001b[0m\u001b[0mliquidity_asset_amount\u001b[0m\u001b[0;34m)\u001b[0m\u001b[0;34m\u001b[0m\u001b[0;34m\u001b[0m\u001b[0m\n\u001b[1;32m    523\u001b[0m         return {\n",
            "\u001b[0;31mAttributeError\u001b[0m: 'NoneType' object has no attribute 'id'"
          ]
        }
      ]
    },
    {
      "cell_type": "code",
      "source": [
        "# Fetch our two assets of interest\n",
        "FOOCoin = client.fetch_asset(65740353)\n",
        "ALGO = client.fetch_asset(0)\n",
        "\n",
        "# Fetch the pool we will work with\n",
        "pool = client.fetch_pool(FOOCoin, ALGO)\n",
        "\n",
        "# Get a quote for supplying 1000.0 TinyUSDC\n",
        "quote = pool.fetch_mint_quote(FOOCoin(1000_000_000), slippage=0.01)\n",
        "\n",
        "print(quote)"
      ],
      "metadata": {
        "id": "1uJbwyCDMt67",
        "colab": {
          "base_uri": "https://localhost:8080/",
          "height": 372
        },
        "outputId": "a750e929-aa2c-4149-e3a4-37dfd6449a87"
      },
      "execution_count": null,
      "outputs": [
        {
          "output_type": "error",
          "ename": "Exception",
          "evalue": "ignored",
          "traceback": [
            "\u001b[0;31m---------------------------------------------------------------------------\u001b[0m",
            "\u001b[0;31mException\u001b[0m                                 Traceback (most recent call last)",
            "\u001b[0;32m<ipython-input-103-0300f967b6bb>\u001b[0m in \u001b[0;36m<module>\u001b[0;34m()\u001b[0m\n\u001b[1;32m      7\u001b[0m \u001b[0;34m\u001b[0m\u001b[0m\n\u001b[1;32m      8\u001b[0m \u001b[0;31m# Get a quote for supplying 1000.0 TinyUSDC\u001b[0m\u001b[0;34m\u001b[0m\u001b[0;34m\u001b[0m\u001b[0;34m\u001b[0m\u001b[0m\n\u001b[0;32m----> 9\u001b[0;31m \u001b[0mquote\u001b[0m \u001b[0;34m=\u001b[0m \u001b[0mpool\u001b[0m\u001b[0;34m.\u001b[0m\u001b[0mfetch_mint_quote\u001b[0m\u001b[0;34m(\u001b[0m\u001b[0mFOOCoin\u001b[0m\u001b[0;34m(\u001b[0m\u001b[0;36m1000_000_000\u001b[0m\u001b[0;34m)\u001b[0m\u001b[0;34m,\u001b[0m \u001b[0mslippage\u001b[0m\u001b[0;34m=\u001b[0m\u001b[0;36m0.01\u001b[0m\u001b[0;34m)\u001b[0m\u001b[0;34m\u001b[0m\u001b[0;34m\u001b[0m\u001b[0m\n\u001b[0m\u001b[1;32m     10\u001b[0m \u001b[0;34m\u001b[0m\u001b[0m\n\u001b[1;32m     11\u001b[0m \u001b[0mprint\u001b[0m\u001b[0;34m(\u001b[0m\u001b[0mquote\u001b[0m\u001b[0;34m)\u001b[0m\u001b[0;34m\u001b[0m\u001b[0;34m\u001b[0m\u001b[0m\n",
            "\u001b[0;32m/usr/local/lib/python3.7/dist-packages/tinyman/v1/pools.py\u001b[0m in \u001b[0;36mfetch_mint_quote\u001b[0;34m(self, amount_a, amount_b, slippage)\u001b[0m\n\u001b[1;32m    246\u001b[0m         \u001b[0mself\u001b[0m\u001b[0;34m.\u001b[0m\u001b[0mrefresh\u001b[0m\u001b[0;34m(\u001b[0m\u001b[0;34m)\u001b[0m\u001b[0;34m\u001b[0m\u001b[0;34m\u001b[0m\u001b[0m\n\u001b[1;32m    247\u001b[0m         \u001b[0;32mif\u001b[0m \u001b[0;32mnot\u001b[0m \u001b[0mself\u001b[0m\u001b[0;34m.\u001b[0m\u001b[0mexists\u001b[0m\u001b[0;34m:\u001b[0m\u001b[0;34m\u001b[0m\u001b[0;34m\u001b[0m\u001b[0m\n\u001b[0;32m--> 248\u001b[0;31m             \u001b[0;32mraise\u001b[0m \u001b[0mException\u001b[0m\u001b[0;34m(\u001b[0m\u001b[0;34m'Pool has not been bootstrapped yet!'\u001b[0m\u001b[0;34m)\u001b[0m\u001b[0;34m\u001b[0m\u001b[0;34m\u001b[0m\u001b[0m\n\u001b[0m\u001b[1;32m    249\u001b[0m         \u001b[0;32mif\u001b[0m \u001b[0mself\u001b[0m\u001b[0;34m.\u001b[0m\u001b[0missued_liquidity\u001b[0m\u001b[0;34m:\u001b[0m\u001b[0;34m\u001b[0m\u001b[0;34m\u001b[0m\u001b[0m\n\u001b[1;32m    250\u001b[0m             \u001b[0;32mif\u001b[0m \u001b[0mamount1\u001b[0m \u001b[0;32mis\u001b[0m \u001b[0;32mNone\u001b[0m\u001b[0;34m:\u001b[0m\u001b[0;34m\u001b[0m\u001b[0;34m\u001b[0m\u001b[0m\n",
            "\u001b[0;31mException\u001b[0m: Pool has not been bootstrapped yet!"
          ]
        }
      ]
    },
    {
      "cell_type": "code",
      "source": [
        "# Get a quote for supplying 1000.0 TinyUSDC\n",
        "quote = pool.fetch_fixed_input_swap_quote(ALGO(1000_000_000), slippage=0.01)\n",
        "\n",
        "print(quote)"
      ],
      "metadata": {
        "id": "AqE17iYtMt9f",
        "colab": {
          "base_uri": "https://localhost:8080/",
          "height": 353
        },
        "outputId": "102a1ef7-05d1-4917-e366-75006234b779"
      },
      "execution_count": null,
      "outputs": [
        {
          "output_type": "error",
          "ename": "Exception",
          "evalue": "ignored",
          "traceback": [
            "\u001b[0;31m---------------------------------------------------------------------------\u001b[0m",
            "\u001b[0;31mException\u001b[0m                                 Traceback (most recent call last)",
            "\u001b[0;32m<ipython-input-104-9d71565b6ea6>\u001b[0m in \u001b[0;36m<module>\u001b[0;34m()\u001b[0m\n\u001b[1;32m      1\u001b[0m \u001b[0;31m# Get a quote for supplying 1000.0 TinyUSDC\u001b[0m\u001b[0;34m\u001b[0m\u001b[0;34m\u001b[0m\u001b[0;34m\u001b[0m\u001b[0m\n\u001b[0;32m----> 2\u001b[0;31m \u001b[0mquote\u001b[0m \u001b[0;34m=\u001b[0m \u001b[0mpool\u001b[0m\u001b[0;34m.\u001b[0m\u001b[0mfetch_fixed_input_swap_quote\u001b[0m\u001b[0;34m(\u001b[0m\u001b[0mALGO\u001b[0m\u001b[0;34m(\u001b[0m\u001b[0;36m1000_000_000\u001b[0m\u001b[0;34m)\u001b[0m\u001b[0;34m,\u001b[0m \u001b[0mslippage\u001b[0m\u001b[0;34m=\u001b[0m\u001b[0;36m0.01\u001b[0m\u001b[0;34m)\u001b[0m\u001b[0;34m\u001b[0m\u001b[0;34m\u001b[0m\u001b[0m\n\u001b[0m\u001b[1;32m      3\u001b[0m \u001b[0;34m\u001b[0m\u001b[0m\n\u001b[1;32m      4\u001b[0m \u001b[0mprint\u001b[0m\u001b[0;34m(\u001b[0m\u001b[0mquote\u001b[0m\u001b[0;34m)\u001b[0m\u001b[0;34m\u001b[0m\u001b[0;34m\u001b[0m\u001b[0m\n",
            "\u001b[0;32m/usr/local/lib/python3.7/dist-packages/tinyman/v1/pools.py\u001b[0m in \u001b[0;36mfetch_fixed_input_swap_quote\u001b[0;34m(self, amount_in, slippage)\u001b[0m\n\u001b[1;32m    305\u001b[0m \u001b[0;34m\u001b[0m\u001b[0m\n\u001b[1;32m    306\u001b[0m         \u001b[0;32mif\u001b[0m \u001b[0;32mnot\u001b[0m \u001b[0minput_supply\u001b[0m \u001b[0;32mor\u001b[0m \u001b[0;32mnot\u001b[0m \u001b[0moutput_supply\u001b[0m\u001b[0;34m:\u001b[0m\u001b[0;34m\u001b[0m\u001b[0;34m\u001b[0m\u001b[0m\n\u001b[0;32m--> 307\u001b[0;31m             \u001b[0;32mraise\u001b[0m \u001b[0mException\u001b[0m\u001b[0;34m(\u001b[0m\u001b[0;34m'Pool has no liquidity!'\u001b[0m\u001b[0;34m)\u001b[0m\u001b[0;34m\u001b[0m\u001b[0;34m\u001b[0m\u001b[0m\n\u001b[0m\u001b[1;32m    308\u001b[0m \u001b[0;34m\u001b[0m\u001b[0m\n\u001b[1;32m    309\u001b[0m         \u001b[0;31m# k = input_supply * output_supply\u001b[0m\u001b[0;34m\u001b[0m\u001b[0;34m\u001b[0m\u001b[0;34m\u001b[0m\u001b[0m\n",
            "\u001b[0;31mException\u001b[0m: Pool has no liquidity!"
          ]
        }
      ]
    },
    {
      "cell_type": "code",
      "source": [
        "# Get a quote for a swap of 1 ALGO to TINYUSDC with 1% slippage tolerance\n",
        "quote = pool.fetch_fixed_input_swap_quote(ALGO(1_000_000), slippage=0.01)\n",
        "print(quote)\n",
        "print(f'FOOCoin per ALGO: {quote.price}')\n",
        "print(f'FOOCoin per ALGO (worst case): {quote.price_with_slippage}')\n"
      ],
      "metadata": {
        "id": "iKNcePq0FK7b"
      },
      "execution_count": null,
      "outputs": []
    },
    {
      "cell_type": "markdown",
      "source": [
        "# Here there is an example of how it should work\n",
        "### We think is also possible to do in with 2 different token, not only with ALGO"
      ],
      "metadata": {
        "id": "EA9aNCNBp0sw"
      }
    },
    {
      "cell_type": "code",
      "source": [
        "from tinyman.v1.client import TinymanTestnetClient\n",
        "\n",
        "client = TinymanTestnetClient()\n",
        "\n",
        "# Fetch our two assets of interest\n",
        "TINYUSDC = client.fetch_asset(21582668)\n",
        "ALGO = client.fetch_asset(0)\n",
        "\n",
        "# Fetch the pool we will work with\n",
        "pool = client.fetch_pool(TINYUSDC, ALGO)\n",
        "\n",
        "# Get a quote for a swap of 1 ALGO to TINYUSDC with 1% slippage tolerance\n",
        "quote = pool.fetch_fixed_input_swap_quote(ALGO(1_000_000), slippage=0.01)\n",
        "print(quote)\n",
        "print(f'TINYUSDC per ALGO: {quote.price}')\n",
        "print(f'TINYUSDC per ALGO (worst case): {quote.price_with_slippage}')"
      ],
      "metadata": {
        "id": "5xG62D0UD1_l",
        "colab": {
          "base_uri": "https://localhost:8080/"
        },
        "outputId": "ac307880-9649-4a57-ba57-3293bd9c88fc"
      },
      "execution_count": 24,
      "outputs": [
        {
          "output_type": "stream",
          "name": "stdout",
          "text": [
            "SwapQuote(swap_type='fixed-input', amount_in=ALGO('1'), amount_out=TINYUSDC('177.673348'), swap_fees=ALGO('0.003'), slippage=0.01)\n",
            "TINYUSDC per ALGO: 177.673348\n",
            "TINYUSDC per ALGO (worst case): 175.896615\n"
          ]
        }
      ]
    },
    {
      "cell_type": "code",
      "source": [
        ""
      ],
      "metadata": {
        "id": "9Vo4FKdfEQ3D"
      },
      "execution_count": null,
      "outputs": []
    },
    {
      "cell_type": "code",
      "source": [
        ""
      ],
      "metadata": {
        "id": "Mxrfxci_EQ5q"
      },
      "execution_count": null,
      "outputs": []
    },
    {
      "cell_type": "code",
      "source": [
        ""
      ],
      "metadata": {
        "id": "mqSo7L_bRxqH"
      },
      "execution_count": null,
      "outputs": []
    }
  ]
}