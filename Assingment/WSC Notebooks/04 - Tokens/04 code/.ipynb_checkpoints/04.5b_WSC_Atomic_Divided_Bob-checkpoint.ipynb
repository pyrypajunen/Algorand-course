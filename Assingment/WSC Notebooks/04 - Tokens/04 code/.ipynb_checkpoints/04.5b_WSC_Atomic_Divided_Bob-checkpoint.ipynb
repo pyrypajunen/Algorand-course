{
 "cells": [
  {
   "cell_type": "markdown",
   "id": "f3e17d42-f889-44fa-b041-667008e4b0d8",
   "metadata": {},
   "source": [
    "# The Remote Atomic Swap - Bob's code\n",
    "#### 04.5 Winter School on Smart Contracts\n",
    "##### Peter Gruber (peter.gruber@usi.ch)\n",
    "2022-02-04"
   ]
  },
  {
   "cell_type": "markdown",
   "id": "5029b73d-de44-41a6-8c8b-41e095c88bd5",
   "metadata": {
    "tags": []
   },
   "source": [
    "### Setup $\\rightarrow$ note the differences\n",
    "See notebook 04.1, the lines below will always automatically load functions in `algo_util.py`, the five accounts and the Purestake credentials"
   ]
  },
  {
   "cell_type": "code",
   "execution_count": null,
   "id": "a0bf0c9d-6524-42b0-8fa0-6c42e8745e89",
   "metadata": {},
   "outputs": [],
   "source": [
    "# Loading shared code and credentials\n",
    "import sys, os\n",
    "codepath = '..'+os.path.sep+'..'+os.path.sep+'sharedCode'\n",
    "sys.path.append(codepath)\n",
    "from algo_util import *\n",
    "cred = load_credentials()\n",
    "\n",
    "# >> HERE Only Bob is needed\n",
    "Bob    = cred['Bob']"
   ]
  },
  {
   "cell_type": "code",
   "execution_count": null,
   "id": "c7843c16-9fb3-4936-8359-b45a17e281bc",
   "metadata": {},
   "outputs": [],
   "source": [
    "from algosdk import account, mnemonic\n",
    "from algosdk.v2client import algod\n",
    "from algosdk.future import transaction\n",
    "from algosdk.future.transaction import PaymentTxn\n",
    "import algosdk.error\n",
    "\n",
    "import json\n",
    "import base64"
   ]
  },
  {
   "cell_type": "markdown",
   "id": "7407fa99-cf1b-4ffe-99cc-386cce38bc8b",
   "metadata": {},
   "source": [
    "##### No need for the algod_client\n",
    "* No direct communication with the blockchain!\n"
   ]
  },
  {
   "cell_type": "markdown",
   "id": "9fb04048",
   "metadata": {},
   "source": [
    "#### Step 1: Load the unsigned transaction\n",
    "* Need to undictify it using `PaymentTxn.undictify()`"
   ]
  },
  {
   "cell_type": "code",
   "execution_count": null,
   "id": "db4b8b96",
   "metadata": {},
   "outputs": [],
   "source": [
    "import pickle\n",
    "file = open(\"Bob_txn.txt\", 'rb')\n",
    "txn_2_data = pickle.load(file)\n",
    "\n",
    "txn_2 = PaymentTxn.undictify(txn_2_data)"
   ]
  },
  {
   "cell_type": "markdown",
   "id": "6e72100f",
   "metadata": {},
   "source": [
    "#### Step 2: Sign the transaction"
   ]
  },
  {
   "cell_type": "code",
   "execution_count": null,
   "id": "5616406a",
   "metadata": {},
   "outputs": [],
   "source": [
    "stxn_2 = txn_2.sign(Bob['private'])"
   ]
  },
  {
   "cell_type": "markdown",
   "id": "bc32d5dd",
   "metadata": {},
   "source": [
    "#### Step 3: Save the signed transaction in a differnt file\n",
    "* This file will be sent back to Alice"
   ]
  },
  {
   "cell_type": "code",
   "execution_count": null,
   "id": "71bc1487",
   "metadata": {},
   "outputs": [],
   "source": [
    "stxn_2_data = stxn_2.dictify()\n",
    "file = open(\"Bob_signed.txt\", 'wb')  \n",
    "pickle.dump(stxn_2_data, file)\n",
    "file.close()"
   ]
  },
  {
   "cell_type": "markdown",
   "id": "39eb47a6-5278-42e5-80e2-e319c1025cdc",
   "metadata": {},
   "source": [
    "## Appendix\n",
    "* What are we actually sending to Alice?\n",
    "* Is it safe?"
   ]
  },
  {
   "cell_type": "code",
   "execution_count": null,
   "id": "e9e5d810-05d6-4d6b-b586-4b0560debee0",
   "metadata": {},
   "outputs": [],
   "source": [
    "stxn_2_data"
   ]
  },
  {
   "cell_type": "code",
   "execution_count": null,
   "id": "b45eb12b-504e-46ee-ba2c-0ba3132aff23",
   "metadata": {},
   "outputs": [],
   "source": [
    "# Compare the 'sig' field\n",
    "base64.b64encode(stxn_2_data['sig'])"
   ]
  },
  {
   "cell_type": "code",
   "execution_count": null,
   "id": "9d9e437d-ecc1-4a2e-a90c-30ca855b3d91",
   "metadata": {},
   "outputs": [],
   "source": [
    "# To Bob's private key\n",
    "Bob['private']"
   ]
  }
 ],
 "metadata": {
  "kernelspec": {
   "display_name": "Python 3",
   "language": "python",
   "name": "python3"
  },
  "language_info": {
   "codemirror_mode": {
    "name": "ipython",
    "version": 3
   },
   "file_extension": ".py",
   "mimetype": "text/x-python",
   "name": "python",
   "nbconvert_exporter": "python",
   "pygments_lexer": "ipython3",
   "version": "3.8.8"
  }
 },
 "nbformat": 4,
 "nbformat_minor": 5
}
