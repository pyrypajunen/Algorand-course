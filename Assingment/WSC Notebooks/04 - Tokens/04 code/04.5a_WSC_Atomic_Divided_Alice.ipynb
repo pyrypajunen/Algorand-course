{
 "cells": [
  {
   "cell_type": "markdown",
   "id": "ab3111ef",
   "metadata": {},
   "source": [
    "## *The Remote Atomic Swap - Alice's code\n",
    "#### 04.5 Winter School on Smart Contracts\n",
    "##### Peter Gruber (peter.gruber@usi.ch)\n",
    "2022-02-04\n",
    "\n",
    "* Store unsigned/signed transactions in a file\n",
    "* Send partial transactions via e-mail"
   ]
  },
  {
   "cell_type": "markdown",
   "id": "fb53edcd",
   "metadata": {
    "tags": []
   },
   "source": [
    "### Setup\n",
    "See notebook 04.1, the lines below will always automatically load functions in `algo_util.py`, the five accounts and the Purestake credentials"
   ]
  },
  {
   "cell_type": "code",
   "execution_count": null,
   "id": "5f1541f7",
   "metadata": {
    "tags": []
   },
   "outputs": [],
   "source": [
    "# Loading shared code and credentials\n",
    "import sys, os\n",
    "codepath = '..'+os.path.sep+'..'+os.path.sep+'sharedCode'\n",
    "sys.path.append(codepath)\n",
    "from algo_util import *\n",
    "cred = load_credentials()\n",
    "\n",
    "# Shortcuts to directly access the main accounts\n",
    "Alice  = cred['Alice']\n",
    "Bob    = cred['Bob']"
   ]
  },
  {
   "cell_type": "code",
   "execution_count": null,
   "id": "aada672f",
   "metadata": {
    "tags": []
   },
   "outputs": [],
   "source": [
    "from algosdk import account, mnemonic\n",
    "from algosdk.v2client import algod\n",
    "from algosdk import transaction\n",
    "from algosdk.transaction import PaymentTxn, SignedTransaction\n",
    "import algosdk.error\n",
    "\n",
    "import json\n",
    "import pandas as pd\n",
    "import base64"
   ]
  },
  {
   "cell_type": "code",
   "execution_count": null,
   "id": "afecd517",
   "metadata": {
    "tags": []
   },
   "outputs": [],
   "source": [
    "# Initialize the algod client (Testnet or Mainnet)\n",
    "algod_client = algod.AlgodClient(algod_token='', algod_address=cred['algod_test'], headers=cred['purestake_token'])\n",
    "algod_client.status()['last-round']"
   ]
  },
  {
   "cell_type": "markdown",
   "id": "225da6cd",
   "metadata": {},
   "source": [
    "## The remote swap\n",
    "* Simple Atomic Swap: Alice send 2 Algos to Bob, and Bob send 1 Algos to Alice.\n",
    "    * Usually, we would swap ALGOs for an ASA, this is just to simplify the example\n",
    "* They are not in the same room.\n",
    "* They exchange transactions via Email"
   ]
  },
  {
   "cell_type": "markdown",
   "id": "43ea3856",
   "metadata": {},
   "source": [
    "### Gettin the timing right\n",
    "* Inspect the suggested_params\n",
    "* Transaction valid between `first` and `last`\n",
    "* sp automatically chooses\n",
    "    * `first` to be `last-round`\n",
    "    * Validity time window to be 1000 blocks"
   ]
  },
  {
   "cell_type": "code",
   "execution_count": null,
   "id": "848cc50c",
   "metadata": {},
   "outputs": [],
   "source": [
    "# Inspect the suggested_params ... \n",
    "sp = algod_client.suggested_params()\n",
    "print(json.dumps(vars(sp), indent=4))\n",
    "print(algod_client.status()[\"last-round\"])"
   ]
  },
  {
   "cell_type": "markdown",
   "id": "5faa664e",
   "metadata": {},
   "source": [
    "##### How much time to collect all signatures?\n",
    "* `suggested_params()` proposes Algorand maximum = 1000 blocks"
   ]
  },
  {
   "cell_type": "code",
   "execution_count": null,
   "id": "ea46c078",
   "metadata": {},
   "outputs": [],
   "source": [
    "# in minutes (one round is 3 sec )\n",
    "print( (sp.last - sp.first)*3/60 )"
   ]
  },
  {
   "cell_type": "markdown",
   "id": "cf1c3c44",
   "metadata": {},
   "source": [
    "#### Extend the time for all signatues\n",
    "* Start validity window later $\\rightarrow$ end later"
   ]
  },
  {
   "cell_type": "code",
   "execution_count": null,
   "id": "2178426a",
   "metadata": {},
   "outputs": [],
   "source": [
    "sp.first = sp.first+10      # start 10 rounds later\n",
    "sp.last = sp.last+10        # end 10 rounds later"
   ]
  },
  {
   "cell_type": "markdown",
   "id": "22af5485-6dcb-43ff-8d65-09fb34b28107",
   "metadata": {},
   "source": [
    "### The transaction steps"
   ]
  },
  {
   "cell_type": "markdown",
   "id": "82a86c6e-449e-4739-a3a2-b401bff6ac78",
   "metadata": {},
   "source": [
    "#### Step 1: prepare transactions\n",
    "* Alice prepares both transactions\n",
    "* Alternatively a programmer could prepare the two transactions and send one to Alice and one to Bob"
   ]
  },
  {
   "cell_type": "code",
   "execution_count": null,
   "id": "b60fd144",
   "metadata": {},
   "outputs": [],
   "source": [
    "amt_1 = int(2*1E6)\n",
    "txn_1 = transaction.PaymentTxn(Alice[\"public\"], sp, Bob[\"public\"],  amt_1)\n",
    "\n",
    "amt_2 = int(1*1E6)\n",
    "txn_2 = transaction.PaymentTxn(Bob[\"public\"], sp, Alice[\"public\"],  amt_2)"
   ]
  },
  {
   "cell_type": "markdown",
   "id": "59b62b03",
   "metadata": {},
   "source": [
    "#### Step 2: create and assign group id"
   ]
  },
  {
   "cell_type": "code",
   "execution_count": null,
   "id": "df6994e9",
   "metadata": {},
   "outputs": [],
   "source": [
    "gid = transaction.calculate_group_id([txn_1, txn_2])\n",
    "txn_1.group = gid\n",
    "txn_2.group = gid"
   ]
  },
  {
   "cell_type": "markdown",
   "id": "6d40aa4e",
   "metadata": {},
   "source": [
    "#### Step 3: Send transaction file to Bob\n",
    "* Transaction `txn_2` is now ready and can be sent to Bob\n",
    "* To be able to save it into a file, we need to `dictify` it"
   ]
  },
  {
   "cell_type": "code",
   "execution_count": null,
   "id": "babba8dd",
   "metadata": {},
   "outputs": [],
   "source": [
    "import pickle\n",
    "data = txn_2.dictify()\n",
    "file = open(\"Bob_txn.txt\", 'wb')\n",
    "pickle.dump(data, file)\n",
    "file.close()"
   ]
  },
  {
   "cell_type": "markdown",
   "id": "b29fd537",
   "metadata": {},
   "source": [
    "#### Step 4: Now it is Bob's turn\n",
    "* We can assume that they exchange files via email or a similar service\n",
    "* Open the notebook `04.5b_WSC`\n",
    "* There we load the file `Bob_txn.txt` and create a signed transaction `Bob_signed.txt`"
   ]
  },
  {
   "cell_type": "markdown",
   "id": "a5b193c5",
   "metadata": {},
   "source": [
    "#### Step 5: Retrieve Bob's signed transaction\n",
    "Instead of defining it as 'algosdk.transaction.PaymentTxn.undictify(...)', we use 'algosdk.transaction.SignedTransaction.undictify(...)'"
   ]
  },
  {
   "cell_type": "code",
   "execution_count": null,
   "id": "5e741a7e",
   "metadata": {
    "tags": []
   },
   "outputs": [],
   "source": [
    "file = open(\"Bob_signed.txt\", 'rb')\n",
    "data = pickle.load(file)\n",
    "# To undictify, we need the SignedTransaction function\n",
    "stxn_2 = SignedTransaction.undictify(data)"
   ]
  },
  {
   "cell_type": "markdown",
   "id": "ce1fa91d",
   "metadata": {},
   "source": [
    "#### Step 6: Alice has to sign her transaction"
   ]
  },
  {
   "cell_type": "code",
   "execution_count": null,
   "id": "dc0b4a94",
   "metadata": {
    "tags": []
   },
   "outputs": [],
   "source": [
    "stxn_1 = txn_1.sign(Alice['private'])"
   ]
  },
  {
   "cell_type": "markdown",
   "id": "bf7fd390",
   "metadata": {},
   "source": [
    "#### Step 7: Alice collects everything and sends the transaction\n",
    "* This part could also be taken over by a third party"
   ]
  },
  {
   "cell_type": "code",
   "execution_count": null,
   "id": "7434dfc1",
   "metadata": {
    "tags": []
   },
   "outputs": [],
   "source": [
    "# Step 7.1: collect\n",
    "signed_group =  [stxn_1, stxn_2]\n",
    "\n",
    "# Step 7.2: send\n",
    "txid = algod_client.send_transactions(signed_group)\n",
    "\n",
    "# Step 7.3: wait for confirmation\n",
    "txinfo = wait_for_confirmation(algod_client, txid) "
   ]
  },
  {
   "cell_type": "markdown",
   "id": "8c35c394-d973-45b4-91d4-2c577d4fff68",
   "metadata": {},
   "source": [
    "## Appendix: how safe is it to send the transactions via email?\n",
    "* The \"all or noting\" nature of the transaction group is protected by the `group_id`\n",
    "    * The `group_id` is a hash of **all** transactions\n",
    "    * If one transaction changed, the `group_id` changes\n",
    "* Individual transactions are additionally protected by their signature"
   ]
  },
  {
   "cell_type": "markdown",
   "id": "69dcd919-8958-4937-ac78-2e3e232eb991",
   "metadata": {},
   "source": [
    "#### Scenario 1: Bob modifies his transaction before signing\n",
    "* He wants to pay less\n",
    "* This will not work, because ...\n",
    "    * Alice will notice before signing her transaction\n",
    "    * Even if she did not notice, the `goup_id` would change and the transaction group would fail\n",
    "    \n",
    "#### Scenario 2: A third player modifies Bob's transaction before he signs it\n",
    "* This will not work, because the `goup_id` would change and the transaction group would fail\n",
    "\n",
    "#### Scenario 3: A third player modifies Bob's transaction after he signs it\n",
    "* This will not work, because the Bob's signature is not valid any more\n",
    "\n",
    "#### Scenario 4: Alice modifies her transaction after Bob has signed\n",
    "* She wants to pay less\n",
    "* This will not work, because  the `goup_id` would change and the transaction group would fail\n",
    "\n",
    "#### Scenario 5: Alice tries to be extra smart\n",
    "* She waits for Bob's signature\n",
    "* She modifies her transaction to pay less\n",
    "* She calculates a new `goup_id`\n",
    "* She changes the `goup_id` in Bob's (signed) transaction\n",
    "* This will not work, because Bob's signature is not valid any more"
   ]
  },
  {
   "cell_type": "markdown",
   "id": "2a416441-4144-45ea-8cf6-44211b77bb13",
   "metadata": {},
   "source": [
    "## *A simple example of how the `group_id` protects an atomic swap"
   ]
  },
  {
   "cell_type": "code",
   "execution_count": null,
   "id": "2c29cee3-5ba2-480f-bded-057934f2493d",
   "metadata": {},
   "outputs": [],
   "source": [
    "# Step 1: prepare\n",
    "sp = algod_client.suggested_params()\n",
    "\n",
    "amt_1 = int(2*1E6)\n",
    "txn_1 = transaction.PaymentTxn(Alice[\"public\"], sp, Bob[\"public\"],  amt_1)\n",
    "\n",
    "amt_2 = int(1*1E6)\n",
    "txn_2 = transaction.PaymentTxn(Bob[\"public\"], sp, Alice[\"public\"],  amt_2)\n",
    "\n",
    "gid = transaction.calculate_group_id([txn_1, txn_2])\n",
    "txn_1.group = gid\n",
    "txn_2.group = gid\n",
    "print( base64.b32encode(gid).decode() )"
   ]
  },
  {
   "cell_type": "code",
   "execution_count": null,
   "id": "34e9f899-c71a-4c99-a0e1-a1ab6da82ce7",
   "metadata": {},
   "outputs": [],
   "source": [
    "# Step 1b: Bob changes his mind and wants to pay less\n",
    "txn_2.amt = int(0.1*1E6)"
   ]
  },
  {
   "cell_type": "code",
   "execution_count": null,
   "id": "f1e047ee-7f91-4667-84cb-0d1d39248e91",
   "metadata": {},
   "outputs": [],
   "source": [
    "# Step 2: sign (everyone signs his/her transaction)\n",
    "stxn_1 = txn_1.sign(Alice['private'])\n",
    "stxn_2 = txn_2.sign(Bob['private'])"
   ]
  },
  {
   "cell_type": "code",
   "execution_count": null,
   "id": "d34990f5-7aad-464d-8f19-cee8d7a4163c",
   "metadata": {},
   "outputs": [],
   "source": [
    "# Step 3: collect and send\n",
    "signed_group =  [stxn_1, stxn_2]\n",
    "try:\n",
    "    txid = algod_client.send_transactions(signed_group)\n",
    "except algosdk.error.AlgodHTTPError as err:\n",
    "    print(err)                                                  # print entire error message\n",
    "    if (\"transactionGroup: incomplete group\" in str(err)):      # check for specific type of error\n",
    "        print(\"Transaction group incomplete or modified\")         \n",
    "    txid = None\n",
    "\n",
    "# Step 4: no need to wait for confirmation"
   ]
  }
 ],
 "metadata": {
  "kernelspec": {
   "display_name": "Python 3 (ipykernel)",
   "language": "python",
   "name": "python3"
  },
  "language_info": {
   "codemirror_mode": {
    "name": "ipython",
    "version": 3
   },
   "file_extension": ".py",
   "mimetype": "text/x-python",
   "name": "python",
   "nbconvert_exporter": "python",
   "pygments_lexer": "ipython3",
   "version": "3.10.9"
  }
 },
 "nbformat": 4,
 "nbformat_minor": 5
}
