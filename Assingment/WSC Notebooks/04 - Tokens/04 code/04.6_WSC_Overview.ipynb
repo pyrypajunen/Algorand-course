{
 "cells": [
  {
   "cell_type": "markdown",
   "metadata": {},
   "source": [
    "## Account Overview\n",
    "#### 04.6 Winter School on Smart Contracts\n",
    "##### Peter Gruber (peter.gruber@usi.ch)\n",
    "2022-01-22\n",
    "\n",
    "* Helper file to keep an overview over all our accounts"
   ]
  },
  {
   "cell_type": "markdown",
   "metadata": {
    "tags": []
   },
   "source": [
    "## Setup\n",
    "See notebook 04.1, the lines below will always automatically load functions in `algo_util.py`, the 5 accounts and the Purestake credentials"
   ]
  },
  {
   "cell_type": "code",
   "execution_count": 1,
   "metadata": {},
   "outputs": [],
   "source": [
    "# Loading shared code and credentials\n",
    "import sys, os\n",
    "\n",
    "codepath = '..'+os.path.sep+'..'+os.path.sep+'sharedCode'\n",
    "sys.path.append(codepath)\n",
    "from algo_util import *\n",
    "cred = load_credentials()\n",
    "\n",
    "# Shortcuts to directly access the 3 main accounts\n",
    "MyAlgo  = cred['MyAlgo']\n",
    "Alice   = cred['Alice']\n",
    "Bob     = cred['Bob']\n",
    "Charlie = cred['Charlie']\n",
    "Dina    = cred['Dina']"
   ]
  },
  {
   "cell_type": "code",
   "execution_count": 2,
   "metadata": {},
   "outputs": [],
   "source": [
    "from algosdk import account, mnemonic\n",
    "from algosdk.v2client import algod\n",
    "from algosdk import transaction\n",
    "from algosdk.transaction import PaymentTxn\n",
    "from algosdk.transaction import AssetConfigTxn, AssetTransferTxn, AssetFreezeTxn\n",
    "from algosdk.transaction import LogicSig\n",
    "\n",
    "import algosdk.error\n",
    "import json\n",
    "import base64\n",
    "import pandas as pd"
   ]
  },
  {
   "cell_type": "code",
   "execution_count": 3,
   "metadata": {},
   "outputs": [
    {
     "data": {
      "text/plain": [
       "27737431"
      ]
     },
     "execution_count": 3,
     "metadata": {},
     "output_type": "execute_result"
    }
   ],
   "source": [
    "# Initialize the algod client (Testnet or Mainnet)\n",
    "algod_client = algod.AlgodClient(algod_token='', algod_address=cred['algod_test'], headers=cred['purestake_token'])\n",
    "algod_client.status()[\"last-round\"]"
   ]
  },
  {
   "cell_type": "markdown",
   "metadata": {},
   "source": [
    "## The Overview"
   ]
  },
  {
   "cell_type": "code",
   "execution_count": 4,
   "metadata": {},
   "outputs": [
    {
     "name": "stdout",
     "output_type": "stream",
     "text": [
      "https://testnet.algoexplorer.io/address/33SG2MXXXQHP2ZMJUJ2DRKLRKTZ7DJBGKHFREPYCE3RXCUPYRL2LN57BSA\n",
      "https://testnet.algoexplorer.io/address/GFJ3O3QBJ4H3KPXYA4MFTTDA7TMEPZXAEUHCSF3J6GEDAXMML4A55KYSL4\n",
      "https://testnet.algoexplorer.io/address/MB4W4II5EEZ7VA5RGS74BTND5CMYDXMUHGRJ42HQYOSMDJZ23ZPIUWRRKM\n",
      "https://testnet.algoexplorer.io/address/ZFTSGNBBFDH544IDUVB7S4B67CX6PJL6MMFJYT3GGDH2GWJ4N7H6VKRU2Y\n",
      "https://testnet.algoexplorer.io/address/OH6I6P7ZFKG6I5BBHB7R6C7BLKVCRAJUV5QTR3BZQZINPLXTWD3B4MVEKA\n",
      "https://testnet.algoexplorer.io/address/WSC234WDSXHLWICSZ5DVJNRZLJHHK23D3ZSP6MS2CJNII4ZDQTC367VUN4\n"
     ]
    }
   ],
   "source": [
    "# Get the holdings of one account on the web\n",
    "print('https://testnet.algoexplorer.io/address/'+MyAlgo['public'])\n",
    "print('https://testnet.algoexplorer.io/address/'+Alice['public'])\n",
    "print('https://testnet.algoexplorer.io/address/'+Bob['public'])\n",
    "print('https://testnet.algoexplorer.io/address/'+Charlie['public'])\n",
    "print('https://testnet.algoexplorer.io/address/'+Dina['public'])\n",
    "print('https://testnet.algoexplorer.io/address/'+ 'WSC234WDSXHLWICSZ5DVJNRZLJHHK23D3ZSP6MS2CJNII4ZDQTC367VUN4')"
   ]
  },
  {
   "cell_type": "code",
   "execution_count": 5,
   "metadata": {},
   "outputs": [
    {
     "data": {
      "text/html": [
       "<div>\n",
       "<style scoped>\n",
       "    .dataframe tbody tr th:only-of-type {\n",
       "        vertical-align: middle;\n",
       "    }\n",
       "\n",
       "    .dataframe tbody tr th {\n",
       "        vertical-align: top;\n",
       "    }\n",
       "\n",
       "    .dataframe thead th {\n",
       "        text-align: right;\n",
       "    }\n",
       "</style>\n",
       "<table border=\"1\" class=\"dataframe\">\n",
       "  <thead>\n",
       "    <tr style=\"text-align: right;\">\n",
       "      <th></th>\n",
       "      <th>amount</th>\n",
       "      <th>unit</th>\n",
       "      <th>asset-id</th>\n",
       "      <th>name</th>\n",
       "      <th>decimals</th>\n",
       "    </tr>\n",
       "  </thead>\n",
       "  <tbody>\n",
       "    <tr>\n",
       "      <th>0</th>\n",
       "      <td>16.753008</td>\n",
       "      <td>ALGO</td>\n",
       "      <td>0</td>\n",
       "      <td>Algorand</td>\n",
       "      <td>6</td>\n",
       "    </tr>\n",
       "    <tr>\n",
       "      <th>1</th>\n",
       "      <td>10.000000</td>\n",
       "      <td>USDC</td>\n",
       "      <td>10458941</td>\n",
       "      <td>USDC</td>\n",
       "      <td>6</td>\n",
       "    </tr>\n",
       "    <tr>\n",
       "      <th>2</th>\n",
       "      <td>1.000000</td>\n",
       "      <td>LUG1</td>\n",
       "      <td>159156668</td>\n",
       "      <td>Lugano NFT</td>\n",
       "      <td>0</td>\n",
       "    </tr>\n",
       "    <tr>\n",
       "      <th>3</th>\n",
       "      <td>980.000000</td>\n",
       "      <td>WSC</td>\n",
       "      <td>159159585</td>\n",
       "      <td>Peters WSC coin</td>\n",
       "      <td>2</td>\n",
       "    </tr>\n",
       "  </tbody>\n",
       "</table>\n",
       "</div>"
      ],
      "text/plain": [
       "       amount  unit   asset-id             name  decimals\n",
       "0   16.753008  ALGO          0         Algorand         6\n",
       "1   10.000000  USDC   10458941             USDC         6\n",
       "2    1.000000  LUG1  159156668       Lugano NFT         0\n",
       "3  980.000000   WSC  159159585  Peters WSC coin         2"
      ]
     },
     "execution_count": 5,
     "metadata": {},
     "output_type": "execute_result"
    }
   ],
   "source": [
    "# Get the holdings of one account\n",
    "#asset_holdings_df(algod_client,Alice['public'])\n",
    "asset_holdings_df(algod_client, 'WSC234WDSXHLWICSZ5DVJNRZLJHHK23D3ZSP6MS2CJNII4ZDQTC367VUN4')"
   ]
  },
  {
   "cell_type": "code",
   "execution_count": 6,
   "metadata": {},
   "outputs": [
    {
     "data": {
      "text/html": [
       "<div>\n",
       "<style scoped>\n",
       "    .dataframe tbody tr th:only-of-type {\n",
       "        vertical-align: middle;\n",
       "    }\n",
       "\n",
       "    .dataframe tbody tr th {\n",
       "        vertical-align: top;\n",
       "    }\n",
       "\n",
       "    .dataframe thead th {\n",
       "        text-align: right;\n",
       "    }\n",
       "</style>\n",
       "<table border=\"1\" class=\"dataframe\">\n",
       "  <thead>\n",
       "    <tr style=\"text-align: right;\">\n",
       "      <th></th>\n",
       "      <th>amount</th>\n",
       "      <th>unit</th>\n",
       "      <th>asset-id</th>\n",
       "      <th>name</th>\n",
       "      <th>decimals</th>\n",
       "      <th>amountAlice</th>\n",
       "      <th>amountBob</th>\n",
       "      <th>amountCharlie</th>\n",
       "      <th>amountDina</th>\n",
       "    </tr>\n",
       "  </thead>\n",
       "  <tbody>\n",
       "    <tr>\n",
       "      <th>0</th>\n",
       "      <td>3.424850e+01</td>\n",
       "      <td>ALGO</td>\n",
       "      <td>0</td>\n",
       "      <td>Algorand</td>\n",
       "      <td>6</td>\n",
       "      <td>20.38100</td>\n",
       "      <td>6.132000e+00</td>\n",
       "      <td>3.588</td>\n",
       "      <td>25.857</td>\n",
       "    </tr>\n",
       "    <tr>\n",
       "      <th>1</th>\n",
       "      <td>1.100000e+02</td>\n",
       "      <td>USDC</td>\n",
       "      <td>10458941</td>\n",
       "      <td>USDC</td>\n",
       "      <td>6</td>\n",
       "      <td>180.00025</td>\n",
       "      <td>1.999975e+01</td>\n",
       "      <td>NaN</td>\n",
       "      <td>NaN</td>\n",
       "    </tr>\n",
       "    <tr>\n",
       "      <th>2</th>\n",
       "      <td>0.000000e+00</td>\n",
       "      <td>DRZY</td>\n",
       "      <td>12887013</td>\n",
       "      <td>Drizzy</td>\n",
       "      <td>1</td>\n",
       "      <td>NaN</td>\n",
       "      <td>NaN</td>\n",
       "      <td>NaN</td>\n",
       "      <td>NaN</td>\n",
       "    </tr>\n",
       "    <tr>\n",
       "      <th>3</th>\n",
       "      <td>9.000000e+02</td>\n",
       "      <td>HUSKEN</td>\n",
       "      <td>159159432</td>\n",
       "      <td>Husky Token</td>\n",
       "      <td>2</td>\n",
       "      <td>NaN</td>\n",
       "      <td>NaN</td>\n",
       "      <td>NaN</td>\n",
       "      <td>NaN</td>\n",
       "    </tr>\n",
       "    <tr>\n",
       "      <th>4</th>\n",
       "      <td>1.000000e+02</td>\n",
       "      <td>DWSC</td>\n",
       "      <td>159159534</td>\n",
       "      <td>Daniels WSC coin</td>\n",
       "      <td>2</td>\n",
       "      <td>NaN</td>\n",
       "      <td>NaN</td>\n",
       "      <td>NaN</td>\n",
       "      <td>NaN</td>\n",
       "    </tr>\n",
       "    <tr>\n",
       "      <th>5</th>\n",
       "      <td>9.969900e+09</td>\n",
       "      <td>Beer</td>\n",
       "      <td>159171974</td>\n",
       "      <td>Beer Coin</td>\n",
       "      <td>2</td>\n",
       "      <td>NaN</td>\n",
       "      <td>3.010002e+07</td>\n",
       "      <td>NaN</td>\n",
       "      <td>NaN</td>\n",
       "    </tr>\n",
       "    <tr>\n",
       "      <th>6</th>\n",
       "      <td>1.670000e+01</td>\n",
       "      <td>TEMP</td>\n",
       "      <td>159173248</td>\n",
       "      <td>Peters Tempcoin</td>\n",
       "      <td>1</td>\n",
       "      <td>NaN</td>\n",
       "      <td>8.330000e+01</td>\n",
       "      <td>NaN</td>\n",
       "      <td>NaN</td>\n",
       "    </tr>\n",
       "    <tr>\n",
       "      <th>7</th>\n",
       "      <td>1.000000e+02</td>\n",
       "      <td>TEMPYRY</td>\n",
       "      <td>159173545</td>\n",
       "      <td>Pyrys Tempcoin</td>\n",
       "      <td>1</td>\n",
       "      <td>NaN</td>\n",
       "      <td>NaN</td>\n",
       "      <td>NaN</td>\n",
       "      <td>NaN</td>\n",
       "    </tr>\n",
       "    <tr>\n",
       "      <th>8</th>\n",
       "      <td>9.170000e+01</td>\n",
       "      <td>TEMPYRY</td>\n",
       "      <td>159173586</td>\n",
       "      <td>Pyrys Tempcoin</td>\n",
       "      <td>1</td>\n",
       "      <td>NaN</td>\n",
       "      <td>8.300000e+00</td>\n",
       "      <td>NaN</td>\n",
       "      <td>NaN</td>\n",
       "    </tr>\n",
       "    <tr>\n",
       "      <th>9</th>\n",
       "      <td>9.900000e+02</td>\n",
       "      <td>WSC</td>\n",
       "      <td>159189398</td>\n",
       "      <td>Peters WSC coin</td>\n",
       "      <td>2</td>\n",
       "      <td>NaN</td>\n",
       "      <td>1.000000e+01</td>\n",
       "      <td>NaN</td>\n",
       "      <td>NaN</td>\n",
       "    </tr>\n",
       "  </tbody>\n",
       "</table>\n",
       "</div>"
      ],
      "text/plain": [
       "         amount     unit   asset-id              name  decimals  amountAlice  \\\n",
       "0  3.424850e+01     ALGO          0          Algorand         6     20.38100   \n",
       "1  1.100000e+02     USDC   10458941              USDC         6    180.00025   \n",
       "2  0.000000e+00     DRZY   12887013            Drizzy         1          NaN   \n",
       "3  9.000000e+02   HUSKEN  159159432       Husky Token         2          NaN   \n",
       "4  1.000000e+02     DWSC  159159534  Daniels WSC coin         2          NaN   \n",
       "5  9.969900e+09     Beer  159171974         Beer Coin         2          NaN   \n",
       "6  1.670000e+01     TEMP  159173248   Peters Tempcoin         1          NaN   \n",
       "7  1.000000e+02  TEMPYRY  159173545    Pyrys Tempcoin         1          NaN   \n",
       "8  9.170000e+01  TEMPYRY  159173586    Pyrys Tempcoin         1          NaN   \n",
       "9  9.900000e+02      WSC  159189398   Peters WSC coin         2          NaN   \n",
       "\n",
       "      amountBob  amountCharlie  amountDina  \n",
       "0  6.132000e+00          3.588      25.857  \n",
       "1  1.999975e+01            NaN         NaN  \n",
       "2           NaN            NaN         NaN  \n",
       "3           NaN            NaN         NaN  \n",
       "4           NaN            NaN         NaN  \n",
       "5  3.010002e+07            NaN         NaN  \n",
       "6  8.330000e+01            NaN         NaN  \n",
       "7           NaN            NaN         NaN  \n",
       "8  8.300000e+00            NaN         NaN  \n",
       "9  1.000000e+01            NaN         NaN  "
      ]
     },
     "execution_count": 6,
     "metadata": {},
     "output_type": "execute_result"
    }
   ],
   "source": [
    "# Get the holdings of all accounts\n",
    "asset_holdings_list(algod_client,\n",
    "                    [MyAlgo['public'], Alice['public'], Bob['public'], Charlie['public'], Dina['public']],\n",
    "                    suffix = ['MyAlgo','Alice', 'Bob', 'Charlie', 'Dina'])"
   ]
  },
  {
   "cell_type": "markdown",
   "metadata": {},
   "source": [
    "### If your account(s) are short of testnet ALGOs, you can go here\n",
    "- https://bank.testnet.algorand.network\n",
    "- https://testnet.algoexplorer.io/dispenser"
   ]
  }
 ],
 "metadata": {
  "kernelspec": {
   "display_name": "Python 3 (ipykernel)",
   "language": "python",
   "name": "python3"
  },
  "language_info": {
   "codemirror_mode": {
    "name": "ipython",
    "version": 3
   },
   "file_extension": ".py",
   "mimetype": "text/x-python",
   "name": "python",
   "nbconvert_exporter": "python",
   "pygments_lexer": "ipython3",
   "version": "3.9.13"
  }
 },
 "nbformat": 4,
 "nbformat_minor": 4
}
