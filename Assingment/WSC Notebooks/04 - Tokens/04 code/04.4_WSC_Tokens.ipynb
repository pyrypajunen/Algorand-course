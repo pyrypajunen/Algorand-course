{
 "cells": [
  {
   "cell_type": "markdown",
   "metadata": {},
   "source": [
    "## *Special Token Operations\n",
    "#### 04.4 Winter School on Smart Contracts\n",
    "##### Peter Gruber (peter.gruber@usi.ch)\n",
    "2023-02-09 (started 2021-11-28)\n"
   ]
  },
  {
   "cell_type": "markdown",
   "metadata": {
    "tags": []
   },
   "source": [
    "### Setup\n",
    "See notebook 04.1, the lines below will always automatically load functions in `algo_util.py`, the five accounts and the Purestake credentials"
   ]
  },
  {
   "cell_type": "code",
   "execution_count": 1,
   "metadata": {},
   "outputs": [],
   "source": [
    "# Loading shared code and credentials\n",
    "import sys, os\n",
    "codepath = '..'+os.path.sep+'..'+os.path.sep+'sharedCode'\n",
    "sys.path.append(codepath)\n",
    "from algo_util import *\n",
    "cred = load_credentials()\n",
    "\n",
    "# Shortcuts to directly access the 5 main accounts\n",
    "MyAlgo  = cred['MyAlgo']\n",
    "Alice   = cred['Alice']\n",
    "Bob     = cred['Bob']\n",
    "Charlie = cred['Charlie']\n",
    "Dina    = cred['Dina']"
   ]
  },
  {
   "cell_type": "code",
   "execution_count": 2,
   "metadata": {},
   "outputs": [],
   "source": [
    "from algosdk import account, mnemonic\n",
    "from algosdk.v2client import algod\n",
    "from algosdk.transaction import PaymentTxn\n",
    "from algosdk.transaction import AssetConfigTxn, AssetTransferTxn, AssetFreezeTxn\n",
    "import algosdk.error\n",
    "import json"
   ]
  },
  {
   "cell_type": "code",
   "execution_count": 3,
   "metadata": {},
   "outputs": [
    {
     "data": {
      "text/plain": [
       "27733155"
      ]
     },
     "execution_count": 3,
     "metadata": {},
     "output_type": "execute_result"
    }
   ],
   "source": [
    "# Initialize the algod client (Testnet or Mainnet)\n",
    "algod_client = algod.AlgodClient(algod_token='', algod_address=cred['algod_test'], headers=cred['purestake_token'])\n",
    "algod_client.status()['last-round']"
   ]
  },
  {
   "cell_type": "markdown",
   "metadata": {},
   "source": [
    "## Modifications of an ASA\n",
    "Most properties of an ASA can **never** be modified\n",
    "* Name and unit name\n",
    "* Decimals\n",
    "* Total supply\n",
    "\n",
    "Using the special roles, it is however possible to ...\n",
    "* Freeze/unfreeze ASA assets of a specific address\n",
    "* Claim ASA back from a specific address\n",
    "* Destroy an ASA\n",
    "* Change the special roles\n"
   ]
  },
  {
   "cell_type": "markdown",
   "metadata": {},
   "source": [
    "### First cretate Tempcoin\n",
    "To study the whole life of an ASA, we create a new one, called `Tempcoin`, with the symbol `TEMP` (for temporary), with the following roles:\n",
    "\n",
    "* **Manager** = Alice\n",
    "* **Reserve** = Bob\n",
    "* **Freeze** = Charlie\n",
    "* **Clawback** = Dina (this will change later to Alice)"
   ]
  },
  {
   "cell_type": "code",
   "execution_count": 19,
   "metadata": {},
   "outputs": [
    {
     "name": "stdout",
     "output_type": "stream",
     "text": [
      "WPPZJWIATRZPDSQAVS4Y2YZMAGJT7QBZ446TJQEO47GWKZKLZ3CA\n",
      "Current round is  27733295.\n",
      "Waiting for round 27733295 to finish.\n",
      "Waiting for round 27733296 to finish.\n",
      "Transaction WPPZJWIATRZPDSQAVS4Y2YZMAGJT7QBZ446TJQEO47GWKZKLZ3CA confirmed in round 27733297.\n"
     ]
    }
   ],
   "source": [
    "# Step 1: Prepare\n",
    "sp = algod_client.suggested_params()\n",
    "token_supply = 100                               # Token supply\n",
    "token_decimals =  1                              # How many digits after the comma?\n",
    "token_total = token_supply * 10**token_decimals  # Specify SMALLER unit (\"cents\")\n",
    "\n",
    "token_name  = \"Pyrys Tempcoin\"                  # <----- YOUR NAME HERE\n",
    "token_url   = \"en.wikipedia.org/wiki/Temporaryy\"  # <----- CHANGE if you want to\n",
    "token_unitname = \"TEMPYRY\"\n",
    "\n",
    "# Step 2: Asset creation tansaction\n",
    "txn = AssetConfigTxn(\n",
    "    sender=MyAlgo['public'],                   # Creator of the ASA\n",
    "    sp=sp,                                     # Network parameters\n",
    "    total=token_total,                         # Token supply in SMALL unit\n",
    "    decimals=token_decimals,\n",
    "    default_frozen=False,                      \n",
    "    unit_name=token_unitname,                       \n",
    "    asset_name=token_name,\n",
    "    url=token_url,\n",
    "    manager=Alice['public'],                   # Special roles\n",
    "    reserve=Bob['public'],\n",
    "    freeze=Charlie['public'],\n",
    "    clawback=Dina['public'], \n",
    ")\n",
    "\n",
    "# Step 3+4: Sign and send\n",
    "stxn = txn.sign(MyAlgo['private'])             # Sign\n",
    "txid = algod_client.send_transaction(stxn)     # Send\n",
    "print(txid)\n",
    "\n",
    "# Step 5: Wait for confirmation\n",
    "txinfo = wait_for_confirmation(algod_client,txid)"
   ]
  },
  {
   "cell_type": "code",
   "execution_count": 20,
   "metadata": {},
   "outputs": [
    {
     "name": "stdout",
     "output_type": "stream",
     "text": [
      "159173586\n"
     ]
    }
   ],
   "source": [
    "# Step 6: obtain asset_id\n",
    "TEMP_id = txinfo['asset-index']\n",
    "print(TEMP_id)"
   ]
  },
  {
   "cell_type": "code",
   "execution_count": 21,
   "metadata": {},
   "outputs": [
    {
     "data": {
      "text/html": [
       "<div>\n",
       "<style scoped>\n",
       "    .dataframe tbody tr th:only-of-type {\n",
       "        vertical-align: middle;\n",
       "    }\n",
       "\n",
       "    .dataframe tbody tr th {\n",
       "        vertical-align: top;\n",
       "    }\n",
       "\n",
       "    .dataframe thead th {\n",
       "        text-align: right;\n",
       "    }\n",
       "</style>\n",
       "<table border=\"1\" class=\"dataframe\">\n",
       "  <thead>\n",
       "    <tr style=\"text-align: right;\">\n",
       "      <th></th>\n",
       "      <th>amount</th>\n",
       "      <th>unit</th>\n",
       "      <th>asset-id</th>\n",
       "      <th>name</th>\n",
       "      <th>decimals</th>\n",
       "    </tr>\n",
       "  </thead>\n",
       "  <tbody>\n",
       "    <tr>\n",
       "      <th>0</th>\n",
       "      <td>3.425250e+01</td>\n",
       "      <td>ALGO</td>\n",
       "      <td>0</td>\n",
       "      <td>Algorand</td>\n",
       "      <td>6</td>\n",
       "    </tr>\n",
       "    <tr>\n",
       "      <th>1</th>\n",
       "      <td>1.100000e+02</td>\n",
       "      <td>USDC</td>\n",
       "      <td>10458941</td>\n",
       "      <td>USDC</td>\n",
       "      <td>6</td>\n",
       "    </tr>\n",
       "    <tr>\n",
       "      <th>2</th>\n",
       "      <td>0.000000e+00</td>\n",
       "      <td>DRZY</td>\n",
       "      <td>12887013</td>\n",
       "      <td>Drizzy</td>\n",
       "      <td>1</td>\n",
       "    </tr>\n",
       "    <tr>\n",
       "      <th>3</th>\n",
       "      <td>9.000000e+02</td>\n",
       "      <td>HUSKEN</td>\n",
       "      <td>159159432</td>\n",
       "      <td>Husky Token</td>\n",
       "      <td>2</td>\n",
       "    </tr>\n",
       "    <tr>\n",
       "      <th>4</th>\n",
       "      <td>1.000000e+02</td>\n",
       "      <td>DWSC</td>\n",
       "      <td>159159534</td>\n",
       "      <td>Daniels WSC coin</td>\n",
       "      <td>2</td>\n",
       "    </tr>\n",
       "    <tr>\n",
       "      <th>5</th>\n",
       "      <td>9.979900e+09</td>\n",
       "      <td>Beer</td>\n",
       "      <td>159171974</td>\n",
       "      <td>Beer Coin</td>\n",
       "      <td>2</td>\n",
       "    </tr>\n",
       "    <tr>\n",
       "      <th>6</th>\n",
       "      <td>1.670000e+01</td>\n",
       "      <td>TEMP</td>\n",
       "      <td>159173248</td>\n",
       "      <td>Peters Tempcoin</td>\n",
       "      <td>1</td>\n",
       "    </tr>\n",
       "    <tr>\n",
       "      <th>7</th>\n",
       "      <td>1.000000e+02</td>\n",
       "      <td>TEMPYRY</td>\n",
       "      <td>159173545</td>\n",
       "      <td>Pyrys Tempcoin</td>\n",
       "      <td>1</td>\n",
       "    </tr>\n",
       "    <tr>\n",
       "      <th>8</th>\n",
       "      <td>1.000000e+02</td>\n",
       "      <td>TEMPYRY</td>\n",
       "      <td>159173586</td>\n",
       "      <td>Pyrys Tempcoin</td>\n",
       "      <td>1</td>\n",
       "    </tr>\n",
       "  </tbody>\n",
       "</table>\n",
       "</div>"
      ],
      "text/plain": [
       "         amount     unit   asset-id              name  decimals\n",
       "0  3.425250e+01     ALGO          0          Algorand         6\n",
       "1  1.100000e+02     USDC   10458941              USDC         6\n",
       "2  0.000000e+00     DRZY   12887013            Drizzy         1\n",
       "3  9.000000e+02   HUSKEN  159159432       Husky Token         2\n",
       "4  1.000000e+02     DWSC  159159534  Daniels WSC coin         2\n",
       "5  9.979900e+09     Beer  159171974         Beer Coin         2\n",
       "6  1.670000e+01     TEMP  159173248   Peters Tempcoin         1\n",
       "7  1.000000e+02  TEMPYRY  159173545    Pyrys Tempcoin         1\n",
       "8  1.000000e+02  TEMPYRY  159173586    Pyrys Tempcoin         1"
      ]
     },
     "execution_count": 21,
     "metadata": {},
     "output_type": "execute_result"
    }
   ],
   "source": [
    "asset_holdings_df(algod_client,MyAlgo['public'])"
   ]
  },
  {
   "cell_type": "markdown",
   "metadata": {},
   "source": [
    "## The Reserve address"
   ]
  },
  {
   "cell_type": "markdown",
   "metadata": {},
   "source": [
    "##### Step 1: Check in Algoexplorer\n",
    "* Total supply\n",
    "* Circulating supply"
   ]
  },
  {
   "cell_type": "code",
   "execution_count": 23,
   "metadata": {},
   "outputs": [
    {
     "name": "stdout",
     "output_type": "stream",
     "text": [
      "https://testnet.algoexplorer.io/asset/159173586\n"
     ]
    }
   ],
   "source": [
    "print('https://testnet.algoexplorer.io/asset/{}'.format(TEMP_id))"
   ]
  },
  {
   "cell_type": "markdown",
   "metadata": {},
   "source": [
    "##### Step 2: Transfer 50% to the reserve address\n",
    "* So that they are shown as \"not yet minted\""
   ]
  },
  {
   "cell_type": "markdown",
   "metadata": {},
   "source": [
    "##### Step 2a: Bob opts in\n",
    "* Even though Bob is the reserve, he has to opt in"
   ]
  },
  {
   "cell_type": "code",
   "execution_count": 24,
   "metadata": {},
   "outputs": [
    {
     "name": "stdout",
     "output_type": "stream",
     "text": [
      "EJKAHN7JDG24GRM7ROM3CNLAOGHYHM73CVJLZK3POXDIGZKQEFSQ\n",
      "Current round is  27733305.\n",
      "Waiting for round 27733305 to finish.\n",
      "Waiting for round 27733306 to finish.\n",
      "Transaction EJKAHN7JDG24GRM7ROM3CNLAOGHYHM73CVJLZK3POXDIGZKQEFSQ confirmed in round 27733307.\n"
     ]
    }
   ],
   "source": [
    "# Step 1: prepare and create TX\n",
    "sp = algod_client.suggested_params()\n",
    "amt = int(0)                              # <------ opt-in = 0 transaction\n",
    "\n",
    "txn = AssetTransferTxn(\n",
    "    sender=Bob['public'],                 # <------- From Bo ...\n",
    "    sp=sp,\n",
    "    receiver=Bob['public'],               # <------- ... to Bob\n",
    "    amt=amt,\n",
    "    index=TEMP_id)                        # <----- Correct index TEMP_id\n",
    "\n",
    "# Step 2+3: sign and send\n",
    "stxn = txn.sign(Bob['private'])           # <----- Signed by Bob\n",
    "txid = algod_client.send_transaction(stxn)\n",
    "print(txid)\n",
    "\n",
    "# Step 4: wait for confirmation\n",
    "txinfo = wait_for_confirmation(algod_client, txid)"
   ]
  },
  {
   "cell_type": "markdown",
   "metadata": {},
   "source": [
    "##### Step 2b: Creator (=MyAlgo) transfers to the reserve (= Bob)"
   ]
  },
  {
   "cell_type": "code",
   "execution_count": 25,
   "metadata": {},
   "outputs": [
    {
     "name": "stdout",
     "output_type": "stream",
     "text": [
      "5UFFNQVLYEURZ5IHN4MWPA7ZSEB6KFGX2UNFDTMWSIYLTBEV2C5Q\n",
      "Current round is  27733308.\n",
      "Waiting for round 27733308 to finish.\n",
      "Waiting for round 27733309 to finish.\n",
      "Transaction 5UFFNQVLYEURZ5IHN4MWPA7ZSEB6KFGX2UNFDTMWSIYLTBEV2C5Q confirmed in round 27733310.\n"
     ]
    },
    {
     "data": {
      "text/plain": [
       "{'confirmed-round': 27733310,\n",
       " 'pool-error': '',\n",
       " 'txn': {'sig': 'omszZ1JebxMIgkK3ZpiZbfc6qZxK4DhY3qzurVV4yDBV5OznqnKpMiM9rD/x6w9AQhxGjkQtn3kjiPMBZk06DQ==',\n",
       "  'txn': {'aamt': 333,\n",
       "   'arcv': 'MB4W4II5EEZ7VA5RGS74BTND5CMYDXMUHGRJ42HQYOSMDJZ23ZPIUWRRKM',\n",
       "   'fee': 1000,\n",
       "   'fv': 27733307,\n",
       "   'gen': 'testnet-v1.0',\n",
       "   'gh': 'SGO1GKSzyE7IEPItTxCByw9x8FmnrCDexi9/cOUJOiI=',\n",
       "   'lv': 27734307,\n",
       "   'snd': '33SG2MXXXQHP2ZMJUJ2DRKLRKTZ7DJBGKHFREPYCE3RXCUPYRL2LN57BSA',\n",
       "   'type': 'axfer',\n",
       "   'xaid': 159173586}}}"
      ]
     },
     "execution_count": 25,
     "metadata": {},
     "output_type": "execute_result"
    }
   ],
   "source": [
    "# Step 1: prepare and create TX\n",
    "sp = algod_client.suggested_params()\n",
    "amt = int(token_total / 3)                # <------- half of the holdings\n",
    "txn = AssetTransferTxn(\n",
    "    sender=MyAlgo['public'],\n",
    "    sp=sp,\n",
    "    receiver=Bob['public'],               # <------- Bob is the reserve\n",
    "    amt=amt,\n",
    "    index=TEMP_id)                        # <------- Correct index TEMP_id\n",
    "\n",
    "# Step 2+3: sign and send\n",
    "stxn = txn.sign(MyAlgo['private'])         # <----- Signed by the creator of the asset\n",
    "txid = algod_client.send_transaction(stxn)\n",
    "print(txid)\n",
    "\n",
    "# Step 4: wait for confirmation\n",
    "wait_for_confirmation(algod_client, txid)"
   ]
  },
  {
   "cell_type": "code",
   "execution_count": 26,
   "metadata": {},
   "outputs": [
    {
     "data": {
      "text/html": [
       "<div>\n",
       "<style scoped>\n",
       "    .dataframe tbody tr th:only-of-type {\n",
       "        vertical-align: middle;\n",
       "    }\n",
       "\n",
       "    .dataframe tbody tr th {\n",
       "        vertical-align: top;\n",
       "    }\n",
       "\n",
       "    .dataframe thead th {\n",
       "        text-align: right;\n",
       "    }\n",
       "</style>\n",
       "<table border=\"1\" class=\"dataframe\">\n",
       "  <thead>\n",
       "    <tr style=\"text-align: right;\">\n",
       "      <th></th>\n",
       "      <th>amount</th>\n",
       "      <th>unit</th>\n",
       "      <th>asset-id</th>\n",
       "      <th>name</th>\n",
       "      <th>decimals</th>\n",
       "    </tr>\n",
       "  </thead>\n",
       "  <tbody>\n",
       "    <tr>\n",
       "      <th>0</th>\n",
       "      <td>2.385000e+00</td>\n",
       "      <td>ALGO</td>\n",
       "      <td>0</td>\n",
       "      <td>Algorand</td>\n",
       "      <td>6</td>\n",
       "    </tr>\n",
       "    <tr>\n",
       "      <th>1</th>\n",
       "      <td>2.000000e+01</td>\n",
       "      <td>USDC</td>\n",
       "      <td>10458941</td>\n",
       "      <td>USDC</td>\n",
       "      <td>6</td>\n",
       "    </tr>\n",
       "    <tr>\n",
       "      <th>2</th>\n",
       "      <td>2.010002e+07</td>\n",
       "      <td>Beer</td>\n",
       "      <td>159171974</td>\n",
       "      <td>Beer Coin</td>\n",
       "      <td>2</td>\n",
       "    </tr>\n",
       "    <tr>\n",
       "      <th>3</th>\n",
       "      <td>8.330000e+01</td>\n",
       "      <td>TEMP</td>\n",
       "      <td>159173248</td>\n",
       "      <td>Peters Tempcoin</td>\n",
       "      <td>1</td>\n",
       "    </tr>\n",
       "    <tr>\n",
       "      <th>4</th>\n",
       "      <td>3.330000e+01</td>\n",
       "      <td>TEMPYRY</td>\n",
       "      <td>159173586</td>\n",
       "      <td>Pyrys Tempcoin</td>\n",
       "      <td>1</td>\n",
       "    </tr>\n",
       "  </tbody>\n",
       "</table>\n",
       "</div>"
      ],
      "text/plain": [
       "         amount     unit   asset-id             name  decimals\n",
       "0  2.385000e+00     ALGO          0         Algorand         6\n",
       "1  2.000000e+01     USDC   10458941             USDC         6\n",
       "2  2.010002e+07     Beer  159171974        Beer Coin         2\n",
       "3  8.330000e+01     TEMP  159173248  Peters Tempcoin         1\n",
       "4  3.330000e+01  TEMPYRY  159173586   Pyrys Tempcoin         1"
      ]
     },
     "execution_count": 26,
     "metadata": {},
     "output_type": "execute_result"
    }
   ],
   "source": [
    "asset_holdings_df(algod_client,Bob['public'])"
   ]
  },
  {
   "cell_type": "markdown",
   "metadata": {},
   "source": [
    "##### Step 3: Check \"Circulating Supply\" in Algoexplorer"
   ]
  },
  {
   "cell_type": "code",
   "execution_count": 27,
   "metadata": {},
   "outputs": [
    {
     "name": "stdout",
     "output_type": "stream",
     "text": [
      "https://testnet.algoexplorer.io/asset/159173586\n"
     ]
    }
   ],
   "source": [
    "print('https://testnet.algoexplorer.io/asset/{}'.format(TEMP_id))"
   ]
  },
  {
   "cell_type": "markdown",
   "metadata": {},
   "source": [
    "## Clawback a transaction\n",
    "* Normally, only the owner of a token could authorize a transfer of his tokens ... except for the clawback address `Dina`.\n",
    "* She claws back 25 tokens from Bob by specifying Bob as `revocation_target`\n",
    "* The clawed back coins are sent to the creator\n",
    "* No opt-in necessary for clawback, because she does not receive any coins"
   ]
  },
  {
   "cell_type": "markdown",
   "metadata": {},
   "source": [
    "##### Step 1: Clawback transaction\n",
    "* using `revocation_target`"
   ]
  },
  {
   "cell_type": "code",
   "execution_count": 28,
   "metadata": {},
   "outputs": [
    {
     "name": "stdout",
     "output_type": "stream",
     "text": [
      "Current round is  27733316.\n",
      "Waiting for round 27733316 to finish.\n",
      "Waiting for round 27733317 to finish.\n",
      "Transaction 4QLWTBZVU4SJJ25APEKCD273SVMP2ZM46BKGFRRQANCWIJEI6M4Q confirmed in round 27733318.\n"
     ]
    }
   ],
   "source": [
    "sp = algod_client.suggested_params()\n",
    "\n",
    "# Step 1: Create clawback transaction\n",
    "txn = AssetTransferTxn(\n",
    "    sender=Dina['public'],                  # <---- Clawback = Dina is sender of transaction\n",
    "    sp=sp,\n",
    "    receiver=MyAlgo[\"public\"],              # <---- Money goes back to MyAlgo\n",
    "    amt=25*10,                              # <---- Amount in SMALL units\n",
    "    index=TEMP_id,\n",
    "    revocation_target=Bob['public']         # <---- Take the money out of Bob's account\n",
    "    )\n",
    "\n",
    "# Step 2: sign by clawback\n",
    "stxn = txn.sign(Dina['private'])            # <---- Signed by Clawback = Dina\n",
    "\n",
    "# Step 3: send\n",
    "txid = algod_client.send_transaction(stxn)\n",
    "\n",
    "# Step 4: Wait for the transaction to be confirmed\n",
    "txinfo = wait_for_confirmation(algod_client, txid)"
   ]
  },
  {
   "cell_type": "markdown",
   "metadata": {},
   "source": [
    "##### Step 2: Check Bob's holdings\n",
    "* He now has 25 fewer coins"
   ]
  },
  {
   "cell_type": "code",
   "execution_count": 29,
   "metadata": {},
   "outputs": [
    {
     "data": {
      "text/html": [
       "<div>\n",
       "<style scoped>\n",
       "    .dataframe tbody tr th:only-of-type {\n",
       "        vertical-align: middle;\n",
       "    }\n",
       "\n",
       "    .dataframe tbody tr th {\n",
       "        vertical-align: top;\n",
       "    }\n",
       "\n",
       "    .dataframe thead th {\n",
       "        text-align: right;\n",
       "    }\n",
       "</style>\n",
       "<table border=\"1\" class=\"dataframe\">\n",
       "  <thead>\n",
       "    <tr style=\"text-align: right;\">\n",
       "      <th></th>\n",
       "      <th>amount</th>\n",
       "      <th>unit</th>\n",
       "      <th>asset-id</th>\n",
       "      <th>name</th>\n",
       "      <th>decimals</th>\n",
       "    </tr>\n",
       "  </thead>\n",
       "  <tbody>\n",
       "    <tr>\n",
       "      <th>0</th>\n",
       "      <td>2.385000e+00</td>\n",
       "      <td>ALGO</td>\n",
       "      <td>0</td>\n",
       "      <td>Algorand</td>\n",
       "      <td>6</td>\n",
       "    </tr>\n",
       "    <tr>\n",
       "      <th>1</th>\n",
       "      <td>2.000000e+01</td>\n",
       "      <td>USDC</td>\n",
       "      <td>10458941</td>\n",
       "      <td>USDC</td>\n",
       "      <td>6</td>\n",
       "    </tr>\n",
       "    <tr>\n",
       "      <th>2</th>\n",
       "      <td>2.010002e+07</td>\n",
       "      <td>Beer</td>\n",
       "      <td>159171974</td>\n",
       "      <td>Beer Coin</td>\n",
       "      <td>2</td>\n",
       "    </tr>\n",
       "    <tr>\n",
       "      <th>3</th>\n",
       "      <td>8.330000e+01</td>\n",
       "      <td>TEMP</td>\n",
       "      <td>159173248</td>\n",
       "      <td>Peters Tempcoin</td>\n",
       "      <td>1</td>\n",
       "    </tr>\n",
       "    <tr>\n",
       "      <th>4</th>\n",
       "      <td>8.300000e+00</td>\n",
       "      <td>TEMPYRY</td>\n",
       "      <td>159173586</td>\n",
       "      <td>Pyrys Tempcoin</td>\n",
       "      <td>1</td>\n",
       "    </tr>\n",
       "  </tbody>\n",
       "</table>\n",
       "</div>"
      ],
      "text/plain": [
       "         amount     unit   asset-id             name  decimals\n",
       "0  2.385000e+00     ALGO          0         Algorand         6\n",
       "1  2.000000e+01     USDC   10458941             USDC         6\n",
       "2  2.010002e+07     Beer  159171974        Beer Coin         2\n",
       "3  8.330000e+01     TEMP  159173248  Peters Tempcoin         1\n",
       "4  8.300000e+00  TEMPYRY  159173586   Pyrys Tempcoin         1"
      ]
     },
     "execution_count": 29,
     "metadata": {},
     "output_type": "execute_result"
    }
   ],
   "source": [
    "# Check Bob's asset holdings\n",
    "asset_holdings_df(algod_client,Bob['public'])"
   ]
  },
  {
   "cell_type": "markdown",
   "metadata": {},
   "source": [
    "##### Step 3: Where did the 25 coins go?\n",
    "* They always go to the creator (not the the clawback)"
   ]
  },
  {
   "cell_type": "code",
   "execution_count": 30,
   "metadata": {},
   "outputs": [
    {
     "data": {
      "text/html": [
       "<div>\n",
       "<style scoped>\n",
       "    .dataframe tbody tr th:only-of-type {\n",
       "        vertical-align: middle;\n",
       "    }\n",
       "\n",
       "    .dataframe tbody tr th {\n",
       "        vertical-align: top;\n",
       "    }\n",
       "\n",
       "    .dataframe thead th {\n",
       "        text-align: right;\n",
       "    }\n",
       "</style>\n",
       "<table border=\"1\" class=\"dataframe\">\n",
       "  <thead>\n",
       "    <tr style=\"text-align: right;\">\n",
       "      <th></th>\n",
       "      <th>amount</th>\n",
       "      <th>unit</th>\n",
       "      <th>asset-id</th>\n",
       "      <th>name</th>\n",
       "      <th>decimals</th>\n",
       "    </tr>\n",
       "  </thead>\n",
       "  <tbody>\n",
       "    <tr>\n",
       "      <th>0</th>\n",
       "      <td>3.425150e+01</td>\n",
       "      <td>ALGO</td>\n",
       "      <td>0</td>\n",
       "      <td>Algorand</td>\n",
       "      <td>6</td>\n",
       "    </tr>\n",
       "    <tr>\n",
       "      <th>1</th>\n",
       "      <td>1.100000e+02</td>\n",
       "      <td>USDC</td>\n",
       "      <td>10458941</td>\n",
       "      <td>USDC</td>\n",
       "      <td>6</td>\n",
       "    </tr>\n",
       "    <tr>\n",
       "      <th>2</th>\n",
       "      <td>0.000000e+00</td>\n",
       "      <td>DRZY</td>\n",
       "      <td>12887013</td>\n",
       "      <td>Drizzy</td>\n",
       "      <td>1</td>\n",
       "    </tr>\n",
       "    <tr>\n",
       "      <th>3</th>\n",
       "      <td>9.000000e+02</td>\n",
       "      <td>HUSKEN</td>\n",
       "      <td>159159432</td>\n",
       "      <td>Husky Token</td>\n",
       "      <td>2</td>\n",
       "    </tr>\n",
       "    <tr>\n",
       "      <th>4</th>\n",
       "      <td>1.000000e+02</td>\n",
       "      <td>DWSC</td>\n",
       "      <td>159159534</td>\n",
       "      <td>Daniels WSC coin</td>\n",
       "      <td>2</td>\n",
       "    </tr>\n",
       "    <tr>\n",
       "      <th>5</th>\n",
       "      <td>9.979900e+09</td>\n",
       "      <td>Beer</td>\n",
       "      <td>159171974</td>\n",
       "      <td>Beer Coin</td>\n",
       "      <td>2</td>\n",
       "    </tr>\n",
       "    <tr>\n",
       "      <th>6</th>\n",
       "      <td>1.670000e+01</td>\n",
       "      <td>TEMP</td>\n",
       "      <td>159173248</td>\n",
       "      <td>Peters Tempcoin</td>\n",
       "      <td>1</td>\n",
       "    </tr>\n",
       "    <tr>\n",
       "      <th>7</th>\n",
       "      <td>1.000000e+02</td>\n",
       "      <td>TEMPYRY</td>\n",
       "      <td>159173545</td>\n",
       "      <td>Pyrys Tempcoin</td>\n",
       "      <td>1</td>\n",
       "    </tr>\n",
       "    <tr>\n",
       "      <th>8</th>\n",
       "      <td>9.170000e+01</td>\n",
       "      <td>TEMPYRY</td>\n",
       "      <td>159173586</td>\n",
       "      <td>Pyrys Tempcoin</td>\n",
       "      <td>1</td>\n",
       "    </tr>\n",
       "  </tbody>\n",
       "</table>\n",
       "</div>"
      ],
      "text/plain": [
       "         amount     unit   asset-id              name  decimals\n",
       "0  3.425150e+01     ALGO          0          Algorand         6\n",
       "1  1.100000e+02     USDC   10458941              USDC         6\n",
       "2  0.000000e+00     DRZY   12887013            Drizzy         1\n",
       "3  9.000000e+02   HUSKEN  159159432       Husky Token         2\n",
       "4  1.000000e+02     DWSC  159159534  Daniels WSC coin         2\n",
       "5  9.979900e+09     Beer  159171974         Beer Coin         2\n",
       "6  1.670000e+01     TEMP  159173248   Peters Tempcoin         1\n",
       "7  1.000000e+02  TEMPYRY  159173545    Pyrys Tempcoin         1\n",
       "8  9.170000e+01  TEMPYRY  159173586    Pyrys Tempcoin         1"
      ]
     },
     "execution_count": 30,
     "metadata": {},
     "output_type": "execute_result"
    }
   ],
   "source": [
    "asset_holdings_df(algod_client,MyAlgo['public'])"
   ]
  },
  {
   "cell_type": "markdown",
   "metadata": {},
   "source": [
    "## Reconfigure the asset\n",
    "* A reconfiguration is changing any of the four special roles\n",
    "* The **Manager** (Alice) can reconfigure the asset. \n",
    "* In a reconfiguration, all four roles must again be specified\n",
    "* No opt-in is necessary for reconfigure, because no coins are receved\n",
    "\n",
    "**Example**\n",
    "* Alice removes the clawback role from Dina and assigns it to herself\n",
    "* Similar to `AssetConfigTxn` as when creating an asset"
   ]
  },
  {
   "cell_type": "code",
   "execution_count": 31,
   "metadata": {},
   "outputs": [
    {
     "name": "stdout",
     "output_type": "stream",
     "text": [
      "7HKUK3BCOC2LMUN5CP3JIITOK7DUWO47B2YT7GWGZREHOIFZOLXQ\n",
      "Current round is  27733340.\n",
      "Waiting for round 27733340 to finish.\n",
      "Waiting for round 27733341 to finish.\n",
      "Transaction 7HKUK3BCOC2LMUN5CP3JIITOK7DUWO47B2YT7GWGZREHOIFZOLXQ confirmed in round 27733342.\n"
     ]
    }
   ],
   "source": [
    "sp = algod_client.suggested_params()\n",
    "\n",
    "# Step 1: Create Asset reconfiguration tansaction\n",
    "txn = AssetConfigTxn(\n",
    "    sender=Alice['public'],                    # Manager\n",
    "    sp=sp,                                     # Network parameters\n",
    "    index=TEMP_id,                             # <------------ MUST specify the asset ID\n",
    "    manager=Alice['public'],                   # Old role, repeated\n",
    "    reserve=Bob['public'],                     # Old role, repeated\n",
    "    freeze=Charlie['public'],                  # Old role, repeated\n",
    "    clawback=Alice['public'],                  # <-------- New responsibiliy\n",
    ")\n",
    "\n",
    "# Step 2+3: Sign and send\n",
    "stxn = txn.sign(Alice['private'])              # <---- Signed by the manager!\n",
    "txid = algod_client.send_transaction(stxn)     # Send\n",
    "print(txid)\n",
    "\n",
    "# Step 4: Wait for confirmation\n",
    "txinfo = wait_for_confirmation(algod_client,txid)"
   ]
  },
  {
   "cell_type": "code",
   "execution_count": 32,
   "metadata": {},
   "outputs": [
    {
     "name": "stdout",
     "output_type": "stream",
     "text": [
      "https://testnet.algoexplorer.io/asset/159173586\n"
     ]
    }
   ],
   "source": [
    "# Open in Algoexplorer: manager and clawback are now the same\n",
    "print('https://testnet.algoexplorer.io/asset/{}'.format(TEMP_id))"
   ]
  },
  {
   "cell_type": "markdown",
   "metadata": {},
   "source": [
    "**TRY THIS** If Dina tries to clawback the other half of Bob's holdings, it will not work"
   ]
  },
  {
   "cell_type": "markdown",
   "metadata": {},
   "source": [
    "## Freeze assets"
   ]
  },
  {
   "cell_type": "markdown",
   "metadata": {},
   "source": [
    "#### Charlie freezes Bob's assets\n",
    "* The freeze role (= Charlie) freezes the asset holdings of Bob.\n",
    "* New transaction type `AssetFreezeTxn`\n",
    "* No opt-in necessary for freezing"
   ]
  },
  {
   "cell_type": "code",
   "execution_count": 51,
   "metadata": {},
   "outputs": [
    {
     "name": "stdout",
     "output_type": "stream",
     "text": [
      "MAQ5WS7WWFXEDR7FY6Y6CNW5ZPU62JPT5T2IUHXBMTBPRCTDJAKA\n",
      "Current round is  27733936.\n",
      "Waiting for round 27733936 to finish.\n",
      "Waiting for round 27733937 to finish.\n",
      "Transaction MAQ5WS7WWFXEDR7FY6Y6CNW5ZPU62JPT5T2IUHXBMTBPRCTDJAKA confirmed in round 27733938.\n"
     ]
    }
   ],
   "source": [
    "# Step 1: Prepare\n",
    "sp = algod_client.suggested_params()\n",
    "\n",
    "# Step 2: Asset freeze tansaction\n",
    "txn = AssetFreezeTxn(\n",
    "    sender=Charlie['public'],                # <---- Must be initiated by freeze address\n",
    "    sp=sp,\n",
    "    index=TEMP_id,\n",
    "    target=Bob[\"public\"],                    # <---- This is the address that we want to freeze  \n",
    "    new_freeze_state=True   \n",
    "    )\n",
    "\n",
    "# Step 3: Sign and send\n",
    "stxn = txn.sign(Charlie['private'])          # <---- Must be signed by the freeze role(=Charlie)\n",
    "txid = algod_client.send_transaction(stxn)\n",
    "print(txid)\n",
    "\n",
    "# Step 4: Wait for confirmation\n",
    "txinfo = wait_for_confirmation(algod_client,txid)"
   ]
  },
  {
   "cell_type": "markdown",
   "metadata": {},
   "source": [
    "#### Bob wants to spend some TEMP token\n",
    "* Bob tries to send some TEMP token to Alice, but he cannot do it\n",
    "* Only his TEMP token are frozen"
   ]
  },
  {
   "cell_type": "code",
   "execution_count": 52,
   "metadata": {},
   "outputs": [
    {
     "name": "stdout",
     "output_type": "stream",
     "text": [
      "TransactionPool.Remember: transaction G7TKVASQHMPKGZD3I5QO476SYPKSBB5YK2HSSZELNRWIAEWB7H4A: asset 159173586 frozen in MB4W4II5EEZ7VA5RGS74BTND5CMYDXMUHGRJ42HQYOSMDJZ23ZPIUWRRKM\n",
      "Asset is frozen\n"
     ]
    }
   ],
   "source": [
    "# Step 1: prepare and create TX\n",
    "sp = algod_client.suggested_params()\n",
    "amt = int(5 * 10)    \n",
    "\n",
    "txn = AssetTransferTxn(\n",
    "    sender=Bob['public'],                 # <------- Bob wants to send ...\n",
    "    sp=sp,\n",
    "    receiver=Alice['public'],             # <------- ... to Alice  \n",
    "    amt=amt,\n",
    "    index=TEMP_id)                        # <----- asset_id for TEMP token\n",
    "\n",
    "# Step 2+3: sign and send\n",
    "stxn = txn.sign(Bob['private'])           # <----- Signed by Bob\n",
    "\n",
    "try:\n",
    "    txid = algod_client.send_transaction(stxn)\n",
    "except algosdk.error.AlgodHTTPError as err:\n",
    "    # print entire error message\n",
    "    print(err)\n",
    "    if (\"frozen\" in str(err)):                # check for specific type of error\n",
    "        print(\"Asset is frozen\")         \n",
    "    txid = None\n",
    "    \n",
    "# Step 4: Wait for confirmation\n",
    "# There is no step 4 here, because we already obtain an error on step 3"
   ]
  },
  {
   "cell_type": "markdown",
   "metadata": {},
   "source": [
    "#### Exercise: unfreezeing Bobs tokens\n",
    "* How can we unfreeze Bobs tokens? \n",
    "* The operation is similar to freezing, except for ..."
   ]
  },
  {
   "cell_type": "code",
   "execution_count": 55,
   "metadata": {},
   "outputs": [
    {
     "name": "stdout",
     "output_type": "stream",
     "text": [
      "GK64WXKUJTOJI6VOC6KMQMZFLUUDJZT7P55OXIYEUKPRJ262VONQ\n",
      "Current round is  27733954.\n",
      "Waiting for round 27733954 to finish.\n",
      "Waiting for round 27733955 to finish.\n",
      "Waiting for round 27733956 to finish.\n",
      "Transaction GK64WXKUJTOJI6VOC6KMQMZFLUUDJZT7P55OXIYEUKPRJ262VONQ confirmed in round 27733957.\n"
     ]
    }
   ],
   "source": [
    "sp = algod_client.suggested_params()\n",
    "\n",
    "# Step 2: Asset freeze tansaction\n",
    "txn = AssetFreezeTxn(\n",
    "    sender=Charlie['public'],                # <---- Must be initiated by freeze address\n",
    "    sp=sp,\n",
    "    index=TEMP_id,\n",
    "    target=Bob[\"public\"],                    # <---- This is the address that we want to freeze  \n",
    "    new_freeze_state=True   \n",
    "    )\n",
    "\n",
    "# Step 3: Sign and send\n",
    "stxn = txn.sign(Charlie['private'])          # <---- Must be signed by the freeze role(=Charlie)\n",
    "txid = algod_client.send_transaction(stxn)\n",
    "print(txid)\n",
    "\n",
    "# Step 4: Wait for confirmation\n",
    "txinfo = wait_for_confirmation(algod_client,txid)\n",
    "\n"
   ]
  },
  {
   "cell_type": "markdown",
   "metadata": {},
   "source": [
    "## Destroy asset\n",
    "* An asset can only be destroyed, if all coins are back in the creator's account (MyAlgo). \n",
    "* Then the manager (Alice) can destroy the asset."
   ]
  },
  {
   "cell_type": "markdown",
   "metadata": {},
   "source": [
    "#### Return all TEMP coins to MyAlgo and opt out\n",
    "* Use `AssetTransferTxn` to send back coins\n",
    "* Addtionally we have to opt out, using `close_assets_to`\n",
    "    * *Closing* means sending the remaining balance to a specific address"
   ]
  },
  {
   "cell_type": "code",
   "execution_count": 56,
   "metadata": {},
   "outputs": [
    {
     "ename": "AlgodHTTPError",
     "evalue": "TransactionPool.Remember: transaction OCHX3FOZGDLA37OPKK2ZP3UGXFWXK3NSU236DXSZPDWNB5IWS2SA: asset 159173586 frozen in MB4W4II5EEZ7VA5RGS74BTND5CMYDXMUHGRJ42HQYOSMDJZ23ZPIUWRRKM",
     "output_type": "error",
     "traceback": [
      "\u001b[0;31m---------------------------------------------------------------------------\u001b[0m",
      "\u001b[0;31mHTTPError\u001b[0m                                 Traceback (most recent call last)",
      "\u001b[0;32m~/opt/anaconda3/lib/python3.9/site-packages/algosdk/v2client/algod.py\u001b[0m in \u001b[0;36malgod_request\u001b[0;34m(self, method, requrl, params, data, headers, response_format)\u001b[0m\n\u001b[1;32m     77\u001b[0m         \u001b[0;32mtry\u001b[0m\u001b[0;34m:\u001b[0m\u001b[0;34m\u001b[0m\u001b[0;34m\u001b[0m\u001b[0m\n\u001b[0;32m---> 78\u001b[0;31m             \u001b[0mresp\u001b[0m \u001b[0;34m=\u001b[0m \u001b[0murlopen\u001b[0m\u001b[0;34m(\u001b[0m\u001b[0mreq\u001b[0m\u001b[0;34m)\u001b[0m\u001b[0;34m\u001b[0m\u001b[0;34m\u001b[0m\u001b[0m\n\u001b[0m\u001b[1;32m     79\u001b[0m         \u001b[0;32mexcept\u001b[0m \u001b[0murllib\u001b[0m\u001b[0;34m.\u001b[0m\u001b[0merror\u001b[0m\u001b[0;34m.\u001b[0m\u001b[0mHTTPError\u001b[0m \u001b[0;32mas\u001b[0m \u001b[0me\u001b[0m\u001b[0;34m:\u001b[0m\u001b[0;34m\u001b[0m\u001b[0;34m\u001b[0m\u001b[0m\n",
      "\u001b[0;32m~/opt/anaconda3/lib/python3.9/urllib/request.py\u001b[0m in \u001b[0;36murlopen\u001b[0;34m(url, data, timeout, cafile, capath, cadefault, context)\u001b[0m\n\u001b[1;32m    213\u001b[0m         \u001b[0mopener\u001b[0m \u001b[0;34m=\u001b[0m \u001b[0m_opener\u001b[0m\u001b[0;34m\u001b[0m\u001b[0;34m\u001b[0m\u001b[0m\n\u001b[0;32m--> 214\u001b[0;31m     \u001b[0;32mreturn\u001b[0m \u001b[0mopener\u001b[0m\u001b[0;34m.\u001b[0m\u001b[0mopen\u001b[0m\u001b[0;34m(\u001b[0m\u001b[0murl\u001b[0m\u001b[0;34m,\u001b[0m \u001b[0mdata\u001b[0m\u001b[0;34m,\u001b[0m \u001b[0mtimeout\u001b[0m\u001b[0;34m)\u001b[0m\u001b[0;34m\u001b[0m\u001b[0;34m\u001b[0m\u001b[0m\n\u001b[0m\u001b[1;32m    215\u001b[0m \u001b[0;34m\u001b[0m\u001b[0m\n",
      "\u001b[0;32m~/opt/anaconda3/lib/python3.9/urllib/request.py\u001b[0m in \u001b[0;36mopen\u001b[0;34m(self, fullurl, data, timeout)\u001b[0m\n\u001b[1;32m    522\u001b[0m             \u001b[0mmeth\u001b[0m \u001b[0;34m=\u001b[0m \u001b[0mgetattr\u001b[0m\u001b[0;34m(\u001b[0m\u001b[0mprocessor\u001b[0m\u001b[0;34m,\u001b[0m \u001b[0mmeth_name\u001b[0m\u001b[0;34m)\u001b[0m\u001b[0;34m\u001b[0m\u001b[0;34m\u001b[0m\u001b[0m\n\u001b[0;32m--> 523\u001b[0;31m             \u001b[0mresponse\u001b[0m \u001b[0;34m=\u001b[0m \u001b[0mmeth\u001b[0m\u001b[0;34m(\u001b[0m\u001b[0mreq\u001b[0m\u001b[0;34m,\u001b[0m \u001b[0mresponse\u001b[0m\u001b[0;34m)\u001b[0m\u001b[0;34m\u001b[0m\u001b[0;34m\u001b[0m\u001b[0m\n\u001b[0m\u001b[1;32m    524\u001b[0m \u001b[0;34m\u001b[0m\u001b[0m\n",
      "\u001b[0;32m~/opt/anaconda3/lib/python3.9/urllib/request.py\u001b[0m in \u001b[0;36mhttp_response\u001b[0;34m(self, request, response)\u001b[0m\n\u001b[1;32m    631\u001b[0m         \u001b[0;32mif\u001b[0m \u001b[0;32mnot\u001b[0m \u001b[0;34m(\u001b[0m\u001b[0;36m200\u001b[0m \u001b[0;34m<=\u001b[0m \u001b[0mcode\u001b[0m \u001b[0;34m<\u001b[0m \u001b[0;36m300\u001b[0m\u001b[0;34m)\u001b[0m\u001b[0;34m:\u001b[0m\u001b[0;34m\u001b[0m\u001b[0;34m\u001b[0m\u001b[0m\n\u001b[0;32m--> 632\u001b[0;31m             response = self.parent.error(\n\u001b[0m\u001b[1;32m    633\u001b[0m                 'http', request, response, code, msg, hdrs)\n",
      "\u001b[0;32m~/opt/anaconda3/lib/python3.9/urllib/request.py\u001b[0m in \u001b[0;36merror\u001b[0;34m(self, proto, *args)\u001b[0m\n\u001b[1;32m    560\u001b[0m             \u001b[0margs\u001b[0m \u001b[0;34m=\u001b[0m \u001b[0;34m(\u001b[0m\u001b[0mdict\u001b[0m\u001b[0;34m,\u001b[0m \u001b[0;34m'default'\u001b[0m\u001b[0;34m,\u001b[0m \u001b[0;34m'http_error_default'\u001b[0m\u001b[0;34m)\u001b[0m \u001b[0;34m+\u001b[0m \u001b[0morig_args\u001b[0m\u001b[0;34m\u001b[0m\u001b[0;34m\u001b[0m\u001b[0m\n\u001b[0;32m--> 561\u001b[0;31m             \u001b[0;32mreturn\u001b[0m \u001b[0mself\u001b[0m\u001b[0;34m.\u001b[0m\u001b[0m_call_chain\u001b[0m\u001b[0;34m(\u001b[0m\u001b[0;34m*\u001b[0m\u001b[0margs\u001b[0m\u001b[0;34m)\u001b[0m\u001b[0;34m\u001b[0m\u001b[0;34m\u001b[0m\u001b[0m\n\u001b[0m\u001b[1;32m    562\u001b[0m \u001b[0;34m\u001b[0m\u001b[0m\n",
      "\u001b[0;32m~/opt/anaconda3/lib/python3.9/urllib/request.py\u001b[0m in \u001b[0;36m_call_chain\u001b[0;34m(self, chain, kind, meth_name, *args)\u001b[0m\n\u001b[1;32m    493\u001b[0m             \u001b[0mfunc\u001b[0m \u001b[0;34m=\u001b[0m \u001b[0mgetattr\u001b[0m\u001b[0;34m(\u001b[0m\u001b[0mhandler\u001b[0m\u001b[0;34m,\u001b[0m \u001b[0mmeth_name\u001b[0m\u001b[0;34m)\u001b[0m\u001b[0;34m\u001b[0m\u001b[0;34m\u001b[0m\u001b[0m\n\u001b[0;32m--> 494\u001b[0;31m             \u001b[0mresult\u001b[0m \u001b[0;34m=\u001b[0m \u001b[0mfunc\u001b[0m\u001b[0;34m(\u001b[0m\u001b[0;34m*\u001b[0m\u001b[0margs\u001b[0m\u001b[0;34m)\u001b[0m\u001b[0;34m\u001b[0m\u001b[0;34m\u001b[0m\u001b[0m\n\u001b[0m\u001b[1;32m    495\u001b[0m             \u001b[0;32mif\u001b[0m \u001b[0mresult\u001b[0m \u001b[0;32mis\u001b[0m \u001b[0;32mnot\u001b[0m \u001b[0;32mNone\u001b[0m\u001b[0;34m:\u001b[0m\u001b[0;34m\u001b[0m\u001b[0;34m\u001b[0m\u001b[0m\n",
      "\u001b[0;32m~/opt/anaconda3/lib/python3.9/urllib/request.py\u001b[0m in \u001b[0;36mhttp_error_default\u001b[0;34m(self, req, fp, code, msg, hdrs)\u001b[0m\n\u001b[1;32m    640\u001b[0m     \u001b[0;32mdef\u001b[0m \u001b[0mhttp_error_default\u001b[0m\u001b[0;34m(\u001b[0m\u001b[0mself\u001b[0m\u001b[0;34m,\u001b[0m \u001b[0mreq\u001b[0m\u001b[0;34m,\u001b[0m \u001b[0mfp\u001b[0m\u001b[0;34m,\u001b[0m \u001b[0mcode\u001b[0m\u001b[0;34m,\u001b[0m \u001b[0mmsg\u001b[0m\u001b[0;34m,\u001b[0m \u001b[0mhdrs\u001b[0m\u001b[0;34m)\u001b[0m\u001b[0;34m:\u001b[0m\u001b[0;34m\u001b[0m\u001b[0;34m\u001b[0m\u001b[0m\n\u001b[0;32m--> 641\u001b[0;31m         \u001b[0;32mraise\u001b[0m \u001b[0mHTTPError\u001b[0m\u001b[0;34m(\u001b[0m\u001b[0mreq\u001b[0m\u001b[0;34m.\u001b[0m\u001b[0mfull_url\u001b[0m\u001b[0;34m,\u001b[0m \u001b[0mcode\u001b[0m\u001b[0;34m,\u001b[0m \u001b[0mmsg\u001b[0m\u001b[0;34m,\u001b[0m \u001b[0mhdrs\u001b[0m\u001b[0;34m,\u001b[0m \u001b[0mfp\u001b[0m\u001b[0;34m)\u001b[0m\u001b[0;34m\u001b[0m\u001b[0;34m\u001b[0m\u001b[0m\n\u001b[0m\u001b[1;32m    642\u001b[0m \u001b[0;34m\u001b[0m\u001b[0m\n",
      "\u001b[0;31mHTTPError\u001b[0m: HTTP Error 400: Bad Request",
      "\nDuring handling of the above exception, another exception occurred:\n",
      "\u001b[0;31mAlgodHTTPError\u001b[0m                            Traceback (most recent call last)",
      "\u001b[0;32m/var/folders/rn/mn2f44yn69b_skfgr4dd1sh00000gn/T/ipykernel_5445/759661869.py\u001b[0m in \u001b[0;36m<module>\u001b[0;34m\u001b[0m\n\u001b[1;32m     14\u001b[0m \u001b[0;31m# Step 2+3: sign and send\u001b[0m\u001b[0;34m\u001b[0m\u001b[0;34m\u001b[0m\u001b[0m\n\u001b[1;32m     15\u001b[0m \u001b[0mstxn\u001b[0m \u001b[0;34m=\u001b[0m \u001b[0mtxn\u001b[0m\u001b[0;34m.\u001b[0m\u001b[0msign\u001b[0m\u001b[0;34m(\u001b[0m\u001b[0mBob\u001b[0m\u001b[0;34m[\u001b[0m\u001b[0;34m'private'\u001b[0m\u001b[0;34m]\u001b[0m\u001b[0;34m)\u001b[0m           \u001b[0;31m# <----- Signed by Bob\u001b[0m\u001b[0;34m\u001b[0m\u001b[0;34m\u001b[0m\u001b[0m\n\u001b[0;32m---> 16\u001b[0;31m \u001b[0mtxid\u001b[0m \u001b[0;34m=\u001b[0m \u001b[0malgod_client\u001b[0m\u001b[0;34m.\u001b[0m\u001b[0msend_transaction\u001b[0m\u001b[0;34m(\u001b[0m\u001b[0mstxn\u001b[0m\u001b[0;34m)\u001b[0m\u001b[0;34m\u001b[0m\u001b[0;34m\u001b[0m\u001b[0m\n\u001b[0m\u001b[1;32m     17\u001b[0m \u001b[0;34m\u001b[0m\u001b[0m\n\u001b[1;32m     18\u001b[0m \u001b[0;31m# Step 4: Wait for confirmation\u001b[0m\u001b[0;34m\u001b[0m\u001b[0;34m\u001b[0m\u001b[0m\n",
      "\u001b[0;32m~/opt/anaconda3/lib/python3.9/site-packages/algosdk/v2client/algod.py\u001b[0m in \u001b[0;36msend_transaction\u001b[0;34m(self, txn, **kwargs)\u001b[0m\n\u001b[1;32m    268\u001b[0m             \u001b[0mtxn\u001b[0m\u001b[0;34m,\u001b[0m \u001b[0mtransaction\u001b[0m\u001b[0;34m.\u001b[0m\u001b[0mTransaction\u001b[0m\u001b[0;34m\u001b[0m\u001b[0;34m\u001b[0m\u001b[0m\n\u001b[1;32m    269\u001b[0m         ), \"Attempt to send UNSIGNED transaction {}\".format(txn)\n\u001b[0;32m--> 270\u001b[0;31m         return self.send_raw_transaction(\n\u001b[0m\u001b[1;32m    271\u001b[0m             \u001b[0mencoding\u001b[0m\u001b[0;34m.\u001b[0m\u001b[0mmsgpack_encode\u001b[0m\u001b[0;34m(\u001b[0m\u001b[0mtxn\u001b[0m\u001b[0;34m)\u001b[0m\u001b[0;34m,\u001b[0m \u001b[0;34m**\u001b[0m\u001b[0mkwargs\u001b[0m\u001b[0;34m\u001b[0m\u001b[0;34m\u001b[0m\u001b[0m\n\u001b[1;32m    272\u001b[0m         )\n",
      "\u001b[0;32m~/opt/anaconda3/lib/python3.9/site-packages/algosdk/v2client/algod.py\u001b[0m in \u001b[0;36msend_raw_transaction\u001b[0;34m(self, txn, **kwargs)\u001b[0m\n\u001b[1;32m    291\u001b[0m         \u001b[0mkwargs\u001b[0m\u001b[0;34m[\u001b[0m\u001b[0;34m\"headers\"\u001b[0m\u001b[0;34m]\u001b[0m \u001b[0;34m=\u001b[0m \u001b[0mheaders\u001b[0m\u001b[0;34m\u001b[0m\u001b[0;34m\u001b[0m\u001b[0m\n\u001b[1;32m    292\u001b[0m \u001b[0;34m\u001b[0m\u001b[0m\n\u001b[0;32m--> 293\u001b[0;31m         \u001b[0;32mreturn\u001b[0m \u001b[0mself\u001b[0m\u001b[0;34m.\u001b[0m\u001b[0malgod_request\u001b[0m\u001b[0;34m(\u001b[0m\u001b[0;34m\"POST\"\u001b[0m\u001b[0;34m,\u001b[0m \u001b[0mreq\u001b[0m\u001b[0;34m,\u001b[0m \u001b[0mdata\u001b[0m\u001b[0;34m=\u001b[0m\u001b[0mtxn\u001b[0m\u001b[0;34m,\u001b[0m \u001b[0;34m**\u001b[0m\u001b[0mkwargs\u001b[0m\u001b[0;34m)\u001b[0m\u001b[0;34m[\u001b[0m\u001b[0;34m\"txId\"\u001b[0m\u001b[0;34m]\u001b[0m\u001b[0;34m\u001b[0m\u001b[0;34m\u001b[0m\u001b[0m\n\u001b[0m\u001b[1;32m    294\u001b[0m \u001b[0;34m\u001b[0m\u001b[0m\n\u001b[1;32m    295\u001b[0m     def pending_transactions(\n",
      "\u001b[0;32m~/opt/anaconda3/lib/python3.9/site-packages/algosdk/v2client/algod.py\u001b[0m in \u001b[0;36malgod_request\u001b[0;34m(self, method, requrl, params, data, headers, response_format)\u001b[0m\n\u001b[1;32m     83\u001b[0m                 \u001b[0me\u001b[0m \u001b[0;34m=\u001b[0m \u001b[0mjson\u001b[0m\u001b[0;34m.\u001b[0m\u001b[0mloads\u001b[0m\u001b[0;34m(\u001b[0m\u001b[0me\u001b[0m\u001b[0;34m)\u001b[0m\u001b[0;34m[\u001b[0m\u001b[0;34m\"message\"\u001b[0m\u001b[0;34m]\u001b[0m\u001b[0;34m\u001b[0m\u001b[0;34m\u001b[0m\u001b[0m\n\u001b[1;32m     84\u001b[0m             \u001b[0;32mfinally\u001b[0m\u001b[0;34m:\u001b[0m\u001b[0;34m\u001b[0m\u001b[0;34m\u001b[0m\u001b[0m\n\u001b[0;32m---> 85\u001b[0;31m                 \u001b[0;32mraise\u001b[0m \u001b[0merror\u001b[0m\u001b[0;34m.\u001b[0m\u001b[0mAlgodHTTPError\u001b[0m\u001b[0;34m(\u001b[0m\u001b[0me\u001b[0m\u001b[0;34m,\u001b[0m \u001b[0mcode\u001b[0m\u001b[0;34m)\u001b[0m\u001b[0;34m\u001b[0m\u001b[0;34m\u001b[0m\u001b[0m\n\u001b[0m\u001b[1;32m     86\u001b[0m         \u001b[0;32mif\u001b[0m \u001b[0mresponse_format\u001b[0m \u001b[0;34m==\u001b[0m \u001b[0;34m\"json\"\u001b[0m\u001b[0;34m:\u001b[0m\u001b[0;34m\u001b[0m\u001b[0;34m\u001b[0m\u001b[0m\n\u001b[1;32m     87\u001b[0m             \u001b[0;32mtry\u001b[0m\u001b[0;34m:\u001b[0m\u001b[0;34m\u001b[0m\u001b[0;34m\u001b[0m\u001b[0m\n",
      "\u001b[0;31mAlgodHTTPError\u001b[0m: TransactionPool.Remember: transaction OCHX3FOZGDLA37OPKK2ZP3UGXFWXK3NSU236DXSZPDWNB5IWS2SA: asset 159173586 frozen in MB4W4II5EEZ7VA5RGS74BTND5CMYDXMUHGRJ42HQYOSMDJZ23ZPIUWRRKM"
     ]
    }
   ],
   "source": [
    "# Step 1: prepare and create TX\n",
    "sp = algod_client.suggested_params()\n",
    "amt = int(25 * 10)    \n",
    "\n",
    "txn = AssetTransferTxn(\n",
    "    sender=Bob['public'],                \n",
    "    sp=sp,\n",
    "    receiver=MyAlgo['public'],            \n",
    "    amt=amt,\n",
    "    index=TEMP_id,                        \n",
    "    close_assets_to=MyAlgo['public']      # <------- Opt out of the asset \n",
    "    )                       \n",
    "\n",
    "# Step 2+3: sign and send\n",
    "stxn = txn.sign(Bob['private'])           # <----- Signed by Bob\n",
    "txid = algod_client.send_transaction(stxn)\n",
    "    \n",
    "# Step 4: Wait for confirmation\n",
    "txinfo = wait_for_confirmation(algod_client,txid)"
   ]
  },
  {
   "cell_type": "code",
   "execution_count": 57,
   "metadata": {},
   "outputs": [
    {
     "name": "stdout",
     "output_type": "stream",
     "text": [
      "https://testnet.algoexplorer.io/asset/159173586\n"
     ]
    }
   ],
   "source": [
    "# Open in Algoexplorer to check holders\n",
    "print('https://testnet.algoexplorer.io/asset/{}'.format(TEMP_id))"
   ]
  },
  {
   "cell_type": "markdown",
   "metadata": {},
   "source": [
    "### Destroying the asset\n",
    "* Use a special `AssetConfigTxn` transaction that has no special roles"
   ]
  },
  {
   "cell_type": "code",
   "execution_count": 58,
   "metadata": {},
   "outputs": [
    {
     "name": "stdout",
     "output_type": "stream",
     "text": [
      "TransactionPool.Remember: transaction CCSEJ2KPNVOQM5JOR2SGUAMVY6WMXFIISCQTUTLSDPAREO66X5DA: cannot destroy asset: creator is holding only 917/1000\n",
      "Cannot destroy asset 159173586, not holding all tokens.\n"
     ]
    }
   ],
   "source": [
    "# Step 1: prepare\n",
    "sp = algod_client.suggested_params()\n",
    "\n",
    "# Step 2: Create special AssetConfigTxn to destroy\n",
    "txn = AssetConfigTxn(\n",
    "    sender=Alice['public'],              # Manager must be sender\n",
    "    sp=sp,\n",
    "    index=TEMP_id,\n",
    "    total = None,                        # <---- To destroy, set total to \"None\"\n",
    "    strict_empty_address_check=False     # include this option in destroy ops\n",
    "    )\n",
    "\n",
    "#Step 2: Send \n",
    "stxn = txn.sign(Alice['private'])\n",
    "\n",
    "# Step 3: Send the transaction and check for errors\n",
    "try:\n",
    "    txid = algod_client.send_transaction(stxn)\n",
    "except algosdk.error.AlgodHTTPError as err:\n",
    "    print(err)                                              # print entire error message\n",
    "    if (\"cannot destroy asset\" in str(err)):                # check for specific type of error\n",
    "        print(\"Cannot destroy asset {}, not holding all tokens.\".format(TEMP_id))  \n",
    "    if (\"does not exist or has been deleted\" in str(err)): \n",
    "        print(\"Cannot destroy asset. It does not exist (any more).\")    "
   ]
  },
  {
   "cell_type": "code",
   "execution_count": 59,
   "metadata": {},
   "outputs": [
    {
     "name": "stdout",
     "output_type": "stream",
     "text": [
      "Current round is  27733969.\n",
      "Transaction GK64WXKUJTOJI6VOC6KMQMZFLUUDJZT7P55OXIYEUKPRJ262VONQ confirmed in round 27733957.\n"
     ]
    },
    {
     "data": {
      "text/plain": [
       "{'confirmed-round': 27733957,\n",
       " 'pool-error': '',\n",
       " 'txn': {'sig': 'L44uwqBJNJyQGEOfeTdIUc968LjsDPXKTNm9XCGtgjfPA8i5KrhjkWkJ6MS+sw/9n/8f+Cx+PoUw+g5idPNlCg==',\n",
       "  'txn': {'afrz': True,\n",
       "   'fadd': 'MB4W4II5EEZ7VA5RGS74BTND5CMYDXMUHGRJ42HQYOSMDJZ23ZPIUWRRKM',\n",
       "   'faid': 159173586,\n",
       "   'fee': 1000,\n",
       "   'fv': 27733955,\n",
       "   'gen': 'testnet-v1.0',\n",
       "   'gh': 'SGO1GKSzyE7IEPItTxCByw9x8FmnrCDexi9/cOUJOiI=',\n",
       "   'lv': 27734955,\n",
       "   'snd': 'ZFTSGNBBFDH544IDUVB7S4B67CX6PJL6MMFJYT3GGDH2GWJ4N7H6VKRU2Y',\n",
       "   'type': 'afrz'}}}"
      ]
     },
     "execution_count": 59,
     "metadata": {},
     "output_type": "execute_result"
    }
   ],
   "source": [
    "# Step 4: Wait for the transaction to be confirmed\n",
    "wait_for_confirmation(algod_client, txid)"
   ]
  },
  {
   "cell_type": "code",
   "execution_count": 60,
   "metadata": {},
   "outputs": [],
   "source": [
    "# Now check the \"assets created\" for that account.\n",
    "account_info = algod_client.account_info(MyAlgo['public'])"
   ]
  },
  {
   "cell_type": "code",
   "execution_count": 61,
   "metadata": {},
   "outputs": [
    {
     "data": {
      "text/plain": [
       "[{'index': 159159432,\n",
       "  'params': {'clawback': 'MB4W4II5EEZ7VA5RGS74BTND5CMYDXMUHGRJ42HQYOSMDJZ23ZPIUWRRKM',\n",
       "   'creator': '33SG2MXXXQHP2ZMJUJ2DRKLRKTZ7DJBGKHFREPYCE3RXCUPYRL2LN57BSA',\n",
       "   'decimals': 2,\n",
       "   'default-frozen': False,\n",
       "   'freeze': 'MB4W4II5EEZ7VA5RGS74BTND5CMYDXMUHGRJ42HQYOSMDJZ23ZPIUWRRKM',\n",
       "   'manager': 'GFJ3O3QBJ4H3KPXYA4MFTTDA7TMEPZXAEUHCSF3J6GEDAXMML4A55KYSL4',\n",
       "   'name': 'Husky Token',\n",
       "   'name-b64': 'SHVza3kgVG9rZW4=',\n",
       "   'reserve': 'GFJ3O3QBJ4H3KPXYA4MFTTDA7TMEPZXAEUHCSF3J6GEDAXMML4A55KYSL4',\n",
       "   'total': 100000,\n",
       "   'unit-name': 'HUSKEN',\n",
       "   'unit-name-b64': 'SFVTS0VO',\n",
       "   'url': 'www.usi.ch/wsc',\n",
       "   'url-b64': 'd3d3LnVzaS5jaC93c2M='}},\n",
       " {'index': 159171974,\n",
       "  'params': {'clawback': 'MB4W4II5EEZ7VA5RGS74BTND5CMYDXMUHGRJ42HQYOSMDJZ23ZPIUWRRKM',\n",
       "   'creator': '33SG2MXXXQHP2ZMJUJ2DRKLRKTZ7DJBGKHFREPYCE3RXCUPYRL2LN57BSA',\n",
       "   'decimals': 2,\n",
       "   'default-frozen': False,\n",
       "   'freeze': 'MB4W4II5EEZ7VA5RGS74BTND5CMYDXMUHGRJ42HQYOSMDJZ23ZPIUWRRKM',\n",
       "   'manager': 'GFJ3O3QBJ4H3KPXYA4MFTTDA7TMEPZXAEUHCSF3J6GEDAXMML4A55KYSL4',\n",
       "   'name': 'Beer Coin',\n",
       "   'name-b64': 'QmVlciBDb2lu',\n",
       "   'reserve': 'GFJ3O3QBJ4H3KPXYA4MFTTDA7TMEPZXAEUHCSF3J6GEDAXMML4A55KYSL4',\n",
       "   'total': 1000000000000,\n",
       "   'unit-name': 'Beer',\n",
       "   'unit-name-b64': 'QmVlcg==',\n",
       "   'url': 'www.usi.ch/wsc',\n",
       "   'url-b64': 'd3d3LnVzaS5jaC93c2M='}},\n",
       " {'index': 159173248,\n",
       "  'params': {'clawback': 'OH6I6P7ZFKG6I5BBHB7R6C7BLKVCRAJUV5QTR3BZQZINPLXTWD3B4MVEKA',\n",
       "   'creator': '33SG2MXXXQHP2ZMJUJ2DRKLRKTZ7DJBGKHFREPYCE3RXCUPYRL2LN57BSA',\n",
       "   'decimals': 1,\n",
       "   'default-frozen': False,\n",
       "   'freeze': 'ZFTSGNBBFDH544IDUVB7S4B67CX6PJL6MMFJYT3GGDH2GWJ4N7H6VKRU2Y',\n",
       "   'manager': 'GFJ3O3QBJ4H3KPXYA4MFTTDA7TMEPZXAEUHCSF3J6GEDAXMML4A55KYSL4',\n",
       "   'name': 'Peters Tempcoin',\n",
       "   'name-b64': 'UGV0ZXJzIFRlbXBjb2lu',\n",
       "   'reserve': 'MB4W4II5EEZ7VA5RGS74BTND5CMYDXMUHGRJ42HQYOSMDJZ23ZPIUWRRKM',\n",
       "   'total': 1000,\n",
       "   'unit-name': 'TEMP',\n",
       "   'unit-name-b64': 'VEVNUA==',\n",
       "   'url': 'en.wikipedia.org/wiki/Temporary',\n",
       "   'url-b64': 'ZW4ud2lraXBlZGlhLm9yZy93aWtpL1RlbXBvcmFyeQ=='}},\n",
       " {'index': 159173545,\n",
       "  'params': {'clawback': 'OH6I6P7ZFKG6I5BBHB7R6C7BLKVCRAJUV5QTR3BZQZINPLXTWD3B4MVEKA',\n",
       "   'creator': '33SG2MXXXQHP2ZMJUJ2DRKLRKTZ7DJBGKHFREPYCE3RXCUPYRL2LN57BSA',\n",
       "   'decimals': 1,\n",
       "   'default-frozen': False,\n",
       "   'freeze': 'ZFTSGNBBFDH544IDUVB7S4B67CX6PJL6MMFJYT3GGDH2GWJ4N7H6VKRU2Y',\n",
       "   'manager': 'GFJ3O3QBJ4H3KPXYA4MFTTDA7TMEPZXAEUHCSF3J6GEDAXMML4A55KYSL4',\n",
       "   'name': 'Pyrys Tempcoin',\n",
       "   'name-b64': 'UHlyeXMgVGVtcGNvaW4=',\n",
       "   'reserve': 'MB4W4II5EEZ7VA5RGS74BTND5CMYDXMUHGRJ42HQYOSMDJZ23ZPIUWRRKM',\n",
       "   'total': 1000,\n",
       "   'unit-name': 'TEMPYRY',\n",
       "   'unit-name-b64': 'VEVNUFlSWQ==',\n",
       "   'url': 'en.wikipedia.org/wiki/Temporary',\n",
       "   'url-b64': 'ZW4ud2lraXBlZGlhLm9yZy93aWtpL1RlbXBvcmFyeQ=='}},\n",
       " {'index': 159173586,\n",
       "  'params': {'clawback': 'GFJ3O3QBJ4H3KPXYA4MFTTDA7TMEPZXAEUHCSF3J6GEDAXMML4A55KYSL4',\n",
       "   'creator': '33SG2MXXXQHP2ZMJUJ2DRKLRKTZ7DJBGKHFREPYCE3RXCUPYRL2LN57BSA',\n",
       "   'decimals': 1,\n",
       "   'default-frozen': False,\n",
       "   'freeze': 'ZFTSGNBBFDH544IDUVB7S4B67CX6PJL6MMFJYT3GGDH2GWJ4N7H6VKRU2Y',\n",
       "   'manager': 'GFJ3O3QBJ4H3KPXYA4MFTTDA7TMEPZXAEUHCSF3J6GEDAXMML4A55KYSL4',\n",
       "   'name': 'Pyrys Tempcoin',\n",
       "   'name-b64': 'UHlyeXMgVGVtcGNvaW4=',\n",
       "   'reserve': 'MB4W4II5EEZ7VA5RGS74BTND5CMYDXMUHGRJ42HQYOSMDJZ23ZPIUWRRKM',\n",
       "   'total': 1000,\n",
       "   'unit-name': 'TEMPYRY',\n",
       "   'unit-name-b64': 'VEVNUFlSWQ==',\n",
       "   'url': 'en.wikipedia.org/wiki/Temporaryy',\n",
       "   'url-b64': 'ZW4ud2lraXBlZGlhLm9yZy93aWtpL1RlbXBvcmFyeXk='}}]"
      ]
     },
     "execution_count": 61,
     "metadata": {},
     "output_type": "execute_result"
    }
   ],
   "source": [
    "account_info['created-assets']"
   ]
  },
  {
   "cell_type": "markdown",
   "metadata": {},
   "source": [
    "#### EXERCISE\n",
    "* Check the holdings of MyAlgo, Alice and Bob. \n",
    "* Check the asset-id on Algoexplorer.\n",
    "* Is the asset really gone from the blockchain? discuss"
   ]
  },
  {
   "cell_type": "markdown",
   "metadata": {},
   "source": [
    "## Things that don't work"
   ]
  },
  {
   "cell_type": "markdown",
   "metadata": {},
   "source": [
    "* Holding an ASA if you do not hold sufficient ALGOs\n",
    "    * Minimum 0.1 ALGO per account plus 0.1 ALGO per ASA\n",
    "* Destroying an ASA if the creator does not hold all coins"
   ]
  }
 ],
 "metadata": {
  "kernelspec": {
   "display_name": "Python 3 (ipykernel)",
   "language": "python",
   "name": "python3"
  },
  "language_info": {
   "codemirror_mode": {
    "name": "ipython",
    "version": 3
   },
   "file_extension": ".py",
   "mimetype": "text/x-python",
   "name": "python",
   "nbconvert_exporter": "python",
   "pygments_lexer": "ipython3",
   "version": "3.9.13"
  }
 },
 "nbformat": 4,
 "nbformat_minor": 4
}
