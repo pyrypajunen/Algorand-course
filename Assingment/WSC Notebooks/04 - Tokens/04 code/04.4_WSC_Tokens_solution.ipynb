{
 "cells": [
  {
   "cell_type": "markdown",
   "metadata": {},
   "source": [
    "## Special Token Operations\n",
    "#### 04.4 Winter School on Smart Contracts\n",
    "##### Peter Gruber (peter.gruber@usi.ch)\n",
    "2021-11-28\n"
   ]
  },
  {
   "cell_type": "markdown",
   "metadata": {
    "tags": []
   },
   "source": [
    "## Setup\n",
    "Starting with this chapter 4.1, the lines below will always automatically load ...\n",
    "* The functions in `algo_util.py`\n",
    "* The accounts MyAlgo, Alice and Bob\n",
    "* The Purestake credentials"
   ]
  },
  {
   "cell_type": "code",
   "execution_count": 2,
   "metadata": {},
   "outputs": [],
   "source": [
    "# Loading shared code and credentials\n",
    "import sys, os\n",
    "codepath = '..'+os.path.sep+'..'+os.path.sep+'sharedCode'\n",
    "sys.path.append(codepath)\n",
    "from algo_util import *\n",
    "cred = load_credentials()\n",
    "\n",
    "# Shortcuts to directly access the 5 main accounts\n",
    "MyAlgo  = cred['MyAlgo']\n",
    "Alice   = cred['Alice']\n",
    "Bob     = cred['Bob']\n",
    "Charlie = cred['Charlie']\n",
    "Dina    = cred['Dina']"
   ]
  },
  {
   "cell_type": "code",
   "execution_count": 3,
   "metadata": {},
   "outputs": [],
   "source": [
    "from algosdk import account, mnemonic\n",
    "from algosdk.v2client import algod\n",
    "from algosdk.transaction import PaymentTxn\n",
    "from algosdk.transaction import AssetConfigTxn, AssetTransferTxn, AssetFreezeTxn\n",
    "import algosdk.error\n",
    "import json"
   ]
  },
  {
   "cell_type": "code",
   "execution_count": 4,
   "metadata": {},
   "outputs": [],
   "source": [
    "# Initialize the algod client (Testnet or Mainnet)\n",
    "algod_client = algod.AlgodClient(algod_token='', algod_address=cred['algod_test'], headers=cred['purestake_token'])"
   ]
  },
  {
   "cell_type": "markdown",
   "metadata": {},
   "source": [
    "## Modifications of an ASA\n",
    "A few properties of an ASA can never be modified\n",
    "* Name and unit name\n",
    "* Decimals\n",
    "* Total supply\n",
    "\n",
    "Using the special roles, it is however possible to ...\n",
    "* Freeze/unfreeze ASA assets of a specific address\n",
    "* Claim ASA back from a specific address\n",
    "* Destroy an ASA\n",
    "* Change the special roles\n"
   ]
  },
  {
   "cell_type": "markdown",
   "metadata": {},
   "source": [
    "### First cretate Tempcoin\n",
    "To study the whole life of an ASA, we create a new one, called `Tempcoin`, with the symbol `TEMP` (for temporary), with the following roles:\n",
    "\n",
    "* **Manager** = Alice\n",
    "* **Reserve** = Bob\n",
    "* **Freeze** = Charlie\n",
    "* **Clawback** = Dina (this will change later to Alice)"
   ]
  },
  {
   "cell_type": "code",
   "execution_count": 5,
   "metadata": {},
   "outputs": [
    {
     "name": "stdout",
     "output_type": "stream",
     "text": [
      "LEMK2OLYJE6LBIN6RJTN62RKZIHUPRUWWOFSU5B3NSWAE255VNNA\n",
      "Current round is  27737972.\n",
      "Waiting for round 27737972 to finish.\n",
      "Waiting for round 27737973 to finish.\n",
      "Transaction LEMK2OLYJE6LBIN6RJTN62RKZIHUPRUWWOFSU5B3NSWAE255VNNA confirmed in round 27737974.\n"
     ]
    }
   ],
   "source": [
    "# Step 1: Prepare\n",
    "sp = algod_client.suggested_params()\n",
    "token_supply = 10000                               # Token supply\n",
    "token_decimals =  1                              # How many digits after the comma?\n",
    "token_total = token_supply * 10**token_decimals  # Specify SMALLER unit (\"cents\")\n",
    "\n",
    "token_name  = \"BeerToken\"                  # <----- YOUR NAME HERE\n",
    "token_url   = \"en.wikipedia.org/wiki/Temporary\"  # <----- CHANGE if you want to\n",
    "token_unitname = \"BEETO\"\n",
    "\n",
    "# Step 2: Asset creation tansaction\n",
    "txn = AssetConfigTxn(\n",
    "    sender=MyAlgo['public'],                   # Creator of the ASA\n",
    "    sp=sp,                                     # Network parameters\n",
    "    total=token_total,                         # Token supply in SMALL unit\n",
    "    decimals=token_decimals,\n",
    "    default_frozen=False,                      \n",
    "    unit_name=token_unitname,                       \n",
    "    asset_name=token_name,\n",
    "    url=token_url,\n",
    "    manager=Alice['public'],                   # Special roles\n",
    "    reserve=Bob['public'],\n",
    "    freeze=Charlie['public'],\n",
    "    clawback=Dina['public'], \n",
    ")\n",
    "#print(txn)\n",
    "\n",
    "# Step 3: Sign and send\n",
    "stxn = txn.sign(MyAlgo['private'])             # Sign\n",
    "txid = algod_client.send_transaction(stxn)     # Send\n",
    "print(txid)\n",
    "\n",
    "# Step 4: Wait for confirmation\n",
    "txinfo = wait_for_confirmation(algod_client,txid)"
   ]
  },
  {
   "cell_type": "code",
   "execution_count": 6,
   "metadata": {},
   "outputs": [
    {
     "name": "stdout",
     "output_type": "stream",
     "text": [
      "159268198\n",
      "https://testnet.algoexplorer.io/asset/159268198\n"
     ]
    }
   ],
   "source": [
    "# Step 5: asset_id and information\n",
    "TEMP_id = txinfo['asset-index']\n",
    "print(TEMP_id)\n",
    "print('https://testnet.algoexplorer.io/asset/{}'.format(TEMP_id))"
   ]
  },
  {
   "cell_type": "code",
   "execution_count": 7,
   "metadata": {},
   "outputs": [
    {
     "data": {
      "text/html": [
       "<div>\n",
       "<style scoped>\n",
       "    .dataframe tbody tr th:only-of-type {\n",
       "        vertical-align: middle;\n",
       "    }\n",
       "\n",
       "    .dataframe tbody tr th {\n",
       "        vertical-align: top;\n",
       "    }\n",
       "\n",
       "    .dataframe thead th {\n",
       "        text-align: right;\n",
       "    }\n",
       "</style>\n",
       "<table border=\"1\" class=\"dataframe\">\n",
       "  <thead>\n",
       "    <tr style=\"text-align: right;\">\n",
       "      <th></th>\n",
       "      <th>amount</th>\n",
       "      <th>unit</th>\n",
       "      <th>asset-id</th>\n",
       "      <th>name</th>\n",
       "      <th>decimals</th>\n",
       "    </tr>\n",
       "  </thead>\n",
       "  <tbody>\n",
       "    <tr>\n",
       "      <th>0</th>\n",
       "      <td>3.424750e+01</td>\n",
       "      <td>ALGO</td>\n",
       "      <td>0</td>\n",
       "      <td>Algorand</td>\n",
       "      <td>6</td>\n",
       "    </tr>\n",
       "    <tr>\n",
       "      <th>1</th>\n",
       "      <td>1.100000e+02</td>\n",
       "      <td>USDC</td>\n",
       "      <td>10458941</td>\n",
       "      <td>USDC</td>\n",
       "      <td>6</td>\n",
       "    </tr>\n",
       "    <tr>\n",
       "      <th>2</th>\n",
       "      <td>0.000000e+00</td>\n",
       "      <td>DRZY</td>\n",
       "      <td>12887013</td>\n",
       "      <td>Drizzy</td>\n",
       "      <td>1</td>\n",
       "    </tr>\n",
       "    <tr>\n",
       "      <th>3</th>\n",
       "      <td>9.000000e+02</td>\n",
       "      <td>HUSKEN</td>\n",
       "      <td>159159432</td>\n",
       "      <td>Husky Token</td>\n",
       "      <td>2</td>\n",
       "    </tr>\n",
       "    <tr>\n",
       "      <th>4</th>\n",
       "      <td>1.000000e+02</td>\n",
       "      <td>DWSC</td>\n",
       "      <td>159159534</td>\n",
       "      <td>Daniels WSC coin</td>\n",
       "      <td>2</td>\n",
       "    </tr>\n",
       "    <tr>\n",
       "      <th>5</th>\n",
       "      <td>9.969900e+09</td>\n",
       "      <td>Beer</td>\n",
       "      <td>159171974</td>\n",
       "      <td>Beer Coin</td>\n",
       "      <td>2</td>\n",
       "    </tr>\n",
       "    <tr>\n",
       "      <th>6</th>\n",
       "      <td>1.670000e+01</td>\n",
       "      <td>TEMP</td>\n",
       "      <td>159173248</td>\n",
       "      <td>Peters Tempcoin</td>\n",
       "      <td>1</td>\n",
       "    </tr>\n",
       "    <tr>\n",
       "      <th>7</th>\n",
       "      <td>1.000000e+02</td>\n",
       "      <td>TEMPYRY</td>\n",
       "      <td>159173545</td>\n",
       "      <td>Pyrys Tempcoin</td>\n",
       "      <td>1</td>\n",
       "    </tr>\n",
       "    <tr>\n",
       "      <th>8</th>\n",
       "      <td>9.170000e+01</td>\n",
       "      <td>TEMPYRY</td>\n",
       "      <td>159173586</td>\n",
       "      <td>Pyrys Tempcoin</td>\n",
       "      <td>1</td>\n",
       "    </tr>\n",
       "    <tr>\n",
       "      <th>9</th>\n",
       "      <td>9.900000e+02</td>\n",
       "      <td>WSC</td>\n",
       "      <td>159189398</td>\n",
       "      <td>Peters WSC coin</td>\n",
       "      <td>2</td>\n",
       "    </tr>\n",
       "    <tr>\n",
       "      <th>10</th>\n",
       "      <td>1.000000e+04</td>\n",
       "      <td>BEETO</td>\n",
       "      <td>159268198</td>\n",
       "      <td>BeerToken</td>\n",
       "      <td>1</td>\n",
       "    </tr>\n",
       "  </tbody>\n",
       "</table>\n",
       "</div>"
      ],
      "text/plain": [
       "          amount     unit   asset-id              name  decimals\n",
       "0   3.424750e+01     ALGO          0          Algorand         6\n",
       "1   1.100000e+02     USDC   10458941              USDC         6\n",
       "2   0.000000e+00     DRZY   12887013            Drizzy         1\n",
       "3   9.000000e+02   HUSKEN  159159432       Husky Token         2\n",
       "4   1.000000e+02     DWSC  159159534  Daniels WSC coin         2\n",
       "5   9.969900e+09     Beer  159171974         Beer Coin         2\n",
       "6   1.670000e+01     TEMP  159173248   Peters Tempcoin         1\n",
       "7   1.000000e+02  TEMPYRY  159173545    Pyrys Tempcoin         1\n",
       "8   9.170000e+01  TEMPYRY  159173586    Pyrys Tempcoin         1\n",
       "9   9.900000e+02      WSC  159189398   Peters WSC coin         2\n",
       "10  1.000000e+04    BEETO  159268198         BeerToken         1"
      ]
     },
     "execution_count": 7,
     "metadata": {},
     "output_type": "execute_result"
    }
   ],
   "source": [
    "asset_holdings_df(algod_client,MyAlgo['public'])"
   ]
  },
  {
   "cell_type": "markdown",
   "metadata": {},
   "source": [
    "## Use the Reserve address\n",
    "Transfer 50% to the reserve address, so that they are shown as \"not yet minted\""
   ]
  },
  {
   "cell_type": "markdown",
   "metadata": {},
   "source": [
    "#### Opt-in transaction of Bob"
   ]
  },
  {
   "cell_type": "code",
   "execution_count": null,
   "metadata": {},
   "outputs": [],
   "source": [
    "# Even though Bob is the reserve, he has to opt in\n",
    "\n",
    "# Step 1: prepare and create TX\n",
    "sp = algod_client.suggested_params()\n",
    "amt = int(0)                              # <------ opt-in = 0 transaction\n",
    "\n",
    "txn = AssetTransferTxn(\n",
    "    sender=Bob['public'],                 # <------- From Bob ...\n",
    "    sp=sp,\n",
    "    receiver=Bob['public'],               # <------- ... to Bob\n",
    "    amt=amt,\n",
    "    index=TEMP_id)                        # <----- Correct index TEMP_id\n",
    "\n",
    "# Step 2: sign and send\n",
    "stxn = txn.sign(Bob['private'])           # <----- Signed by Bob\n",
    "txid = algod_client.send_transaction(stxn)\n",
    "print(txid)\n",
    "\n",
    "# Step 3: wait for confirmation\n",
    "txinfo = wait_for_confirmation(algod_client, txid)"
   ]
  },
  {
   "cell_type": "markdown",
   "metadata": {},
   "source": [
    "#### Transfer to the reserve (= Bob)"
   ]
  },
  {
   "cell_type": "code",
   "execution_count": null,
   "metadata": {},
   "outputs": [],
   "source": [
    "# Step 1: prepare and create TX\n",
    "sp = algod_client.suggested_params()\n",
    "amt = int(token_total / 2)                # <------- half of the holdings\n",
    "txn = AssetTransferTxn(\n",
    "    sender=MyAlgo['public'],\n",
    "    sp=sp,\n",
    "    receiver=Bob['public'],               # <------- Bob is the reserve\n",
    "    amt=amt,\n",
    "    index=TEMP_id)                        # <------- Correct index TEMP_id\n",
    "\n",
    "# Step 2: sign and send\n",
    "stxn = txn.sign(MyAlgo['private'])         # <----- Signed by the creator of the asset\n",
    "txid = algod_client.send_transaction(stxn)\n",
    "print(txid)\n",
    "\n",
    "# Step 3: wait for confirmation\n",
    "wait_for_confirmation(algod_client, txid)"
   ]
  },
  {
   "cell_type": "code",
   "execution_count": null,
   "metadata": {},
   "outputs": [],
   "source": [
    "asset_holdings_df(algod_client,Bob['public'])"
   ]
  },
  {
   "cell_type": "code",
   "execution_count": null,
   "metadata": {},
   "outputs": [],
   "source": [
    "# Check \"Circulating Supply\" in Algoexplorer\n",
    "print('https://testnet.algoexplorer.io/asset/{}'.format(TEMP_id))"
   ]
  },
  {
   "cell_type": "markdown",
   "metadata": {},
   "source": [
    "## Clawback a transaction\n",
    "* Normally, only Bob could authorize a transfer of his tokens ... except for the clawback address `Dina`.\n",
    "* She claws back 25 tokens from Bob\n",
    "* No opt-in necessary for clawback, because she does not receive any coins"
   ]
  },
  {
   "cell_type": "code",
   "execution_count": null,
   "metadata": {},
   "outputs": [],
   "source": [
    "sp = algod_client.suggested_params()\n",
    "\n",
    "# Must be signed by the account that is the Asset's clawback address\n",
    "txn = AssetTransferTxn(\n",
    "    sender=Dina['public'],                  # <---- Clawback = Dina is sender of transaction\n",
    "    sp=sp,\n",
    "    receiver=MyAlgo[\"public\"],              # <---- Money goes back to MyAlgo\n",
    "    amt=25*10,                              # <---- Amount in SMALL units\n",
    "    index=TEMP_id,\n",
    "    revocation_target=Bob['public']         # <---- Take the money out of Bob's account\n",
    "    )\n",
    "stxn = txn.sign(Dina['private'])            # <---- Signed by Clawback = Dina\n",
    "txid = algod_client.send_transaction(stxn)\n",
    "print(txid)\n",
    "\n",
    "# Wait for the transaction to be confirmed\n",
    "txinfo = wait_for_confirmation(algod_client, txid)"
   ]
  },
  {
   "cell_type": "code",
   "execution_count": null,
   "metadata": {},
   "outputs": [],
   "source": [
    "# Check Bob's asset holdings\n",
    "asset_holdings_df(algod_client,Bob['public'])"
   ]
  },
  {
   "cell_type": "markdown",
   "metadata": {},
   "source": [
    "## Reconfigure the asset\n",
    "* A reconfiguration is changing any of the four special roles\n",
    "* The **Manager** (Alice) can reconfigure the asset. \n",
    "* In a reconfiguration, all four roles must again be specified\n",
    "* No opt-in is necessary for reconfigure, because no coins are receved\n",
    "\n",
    "**Example**\n",
    "* Alice removes the clawback role from Dina and assigns it to herself\n",
    "* Same `AssetConfigTxn` as when creating an asset"
   ]
  },
  {
   "cell_type": "code",
   "execution_count": null,
   "metadata": {},
   "outputs": [],
   "source": [
    "# Step 1: Prepare\n",
    "sp = algod_client.suggested_params()\n",
    "\n",
    "# Step 2: Create Asset reconfiguration tansaction\n",
    "txn = AssetConfigTxn(\n",
    "    sender=Alice['public'],                    # Manager\n",
    "    sp=sp,                                     # Network parameters\n",
    "    index=TEMP_id,                             # <------------ MUST specify the asset ID\n",
    "    manager=Alice['public'],                   # Old role, repeated\n",
    "    reserve=Bob['public'],                     # Old role, repeated\n",
    "    freeze=Charlie['public'],                  # Old role, repeated\n",
    "    clawback=Alice['public'],                  # <-------- New responsibiliy\n",
    ")\n",
    "#print(txn)\n",
    "\n",
    "# Step 3: Sign and send\n",
    "stxn = txn.sign(Alice['private'])              # <---- Signed by the manager!\n",
    "txid = algod_client.send_transaction(stxn)     # Send\n",
    "print(txid)\n",
    "\n",
    "# Step 4: Wait for confirmation\n",
    "txinfo = wait_for_confirmation(algod_client,txid)"
   ]
  },
  {
   "cell_type": "code",
   "execution_count": null,
   "metadata": {},
   "outputs": [],
   "source": [
    "# Open in Algoexplorer: manager and clawback are now the same\n",
    "print('https://testnet.algoexplorer.io/asset/{}'.format(TEMP_id))"
   ]
  },
  {
   "cell_type": "markdown",
   "metadata": {},
   "source": [
    "**TRY THIS** If Dina tries to clawback the other half of Bob's holdings, it will not work"
   ]
  },
  {
   "cell_type": "markdown",
   "metadata": {},
   "source": [
    "## Freeze assets"
   ]
  },
  {
   "cell_type": "markdown",
   "metadata": {},
   "source": [
    "#### Charlie freezes Bob's assets\n",
    "* The freeze role (= Charlie) freezes the asset holdings of Bob.\n",
    "* New transaction type `AssetFreezeTxn`\n",
    "* No opt-in necessary for freezing"
   ]
  },
  {
   "cell_type": "code",
   "execution_count": null,
   "metadata": {},
   "outputs": [],
   "source": [
    "# Step 1: Prepare\n",
    "sp = algod_client.suggested_params()\n",
    "\n",
    "# Step 2: Asset freeze tansaction\n",
    "txn = AssetFreezeTxn(\n",
    "    sender=Charlie['public'],                # <---- Must be initiated by freeze address\n",
    "    sp=sp,\n",
    "    index=TEMP_id,\n",
    "    target=Bob[\"public\"],                    # <---- This is the address that we want to freeze  \n",
    "    new_freeze_state=True   \n",
    "    )\n",
    "\n",
    "# Step 3: Sign and send\n",
    "stxn = txn.sign(Charlie['private'])          # <---- Must be signed by the freeze role(=Charlie)\n",
    "txid = algod_client.send_transaction(stxn)\n",
    "print(txid)\n",
    "\n",
    "# Step 4: Wait for confirmation\n",
    "txinfo = wait_for_confirmation(algod_client,txid)"
   ]
  },
  {
   "cell_type": "markdown",
   "metadata": {},
   "source": [
    "#### Bob wants to spend some TEMP token\n",
    "* Bob tries to send some TEMP token to Alice, but he cannot do it\n",
    "* Only his TEMP token are frozen"
   ]
  },
  {
   "cell_type": "code",
   "execution_count": null,
   "metadata": {},
   "outputs": [],
   "source": [
    "# Step 1: prepare and create TX\n",
    "sp = algod_client.suggested_params()\n",
    "amt = int(5 * 10)    \n",
    "\n",
    "txn = AssetTransferTxn(\n",
    "    sender=Bob['public'],                 # <------- Bob wants to send ...\n",
    "    sp=sp,\n",
    "    receiver=Alice['public'],             # <------- ... to Alice  \n",
    "    amt=amt,\n",
    "    index=TEMP_id)                        # <----- asset_id for TEMP token\n",
    "\n",
    "# Step 2+3: sign and send\n",
    "stxn = txn.sign(Bob['private'])           # <----- Signed by Bob\n",
    "\n",
    "try:\n",
    "    txid = algod_client.send_transaction(stxn)\n",
    "except algosdk.error.AlgodHTTPError as err:\n",
    "    # print entire error message\n",
    "    print(err)\n",
    "    if (\"frozen\" in str(err)):                # check for specific type of error\n",
    "        print(\"Asset is frozen\")         \n",
    "    txid = None\n",
    "    \n",
    "# Step 4: Wait for confirmation\n",
    "# There is no step 4 here, because we already obtain an error on step 3"
   ]
  },
  {
   "cell_type": "markdown",
   "metadata": {},
   "source": [
    "#### Exercise: unfreezeing Bobs tokens\n",
    "* How can we unfreeze Bobs tokens? \n",
    "* The operation is similar to freezing, except for ..."
   ]
  },
  {
   "cell_type": "code",
   "execution_count": null,
   "metadata": {},
   "outputs": [],
   "source": [
    "# Your Python code goes here ...\n",
    "# Step 1: Prepare\n",
    "sp = algod_client.suggested_params()\n",
    "\n",
    "# Step 2: Asset freeze tansaction\n",
    "txn = AssetFreezeTxn(\n",
    "    sender=Charlie['public'],                # <---- Must be initiated by freeze address\n",
    "    sp=sp,\n",
    "    index=TEMP_id,\n",
    "    target=Bob[\"public\"],                    # <---- This is the address that we want to freeze  \n",
    "    new_freeze_state=False   \n",
    "    )\n",
    "\n",
    "# Step 3: Sign and send\n",
    "stxn = txn.sign(Charlie['private'])          # <---- Must be signed by the freeze role(=Charlie)\n",
    "txid = algod_client.send_transaction(stxn)\n",
    "print(txid)\n",
    "\n",
    "# Step 4: Wait for confirmation\n",
    "txinfo = wait_for_confirmation(algod_client,txid)\n",
    "\n"
   ]
  },
  {
   "cell_type": "markdown",
   "metadata": {},
   "source": [
    "## Destroy asset\n",
    "An asset can only be destroyed, if all coins are back in the creator's accounn (MyAlgo). Then the manager (Alice) can destroy the asset."
   ]
  },
  {
   "cell_type": "markdown",
   "metadata": {},
   "source": [
    "### Return all TEMP coins to MyAlgo and opt out\n",
    "* Use `AssetTransferTxn` to send back coins\n",
    "* Addtionally we have to opt out, using `close_assets_to`\n",
    "    * *Closing* means sending the remaining balance to a specific address"
   ]
  },
  {
   "cell_type": "code",
   "execution_count": null,
   "metadata": {},
   "outputs": [],
   "source": [
    "# Step 1: prepare and create TX\n",
    "sp = algod_client.suggested_params()\n",
    "amt = int(25 * 10)    \n",
    "\n",
    "txn = AssetTransferTxn(\n",
    "    sender=Bob['public'],                 \n",
    "    sp=sp,\n",
    "    receiver=MyAlgo['public'],            \n",
    "    amt=amt,\n",
    "    index=TEMP_id,                        \n",
    "    close_assets_to=MyAlgo['public']      # <------- Opt out of the asset \n",
    "    )                       \n",
    "\n",
    "# Step 2+3: sign and send\n",
    "stxn = txn.sign(Bob['private'])           # <----- Signed by Bob\n",
    "txid = algod_client.send_transaction(stxn)\n",
    "    \n",
    "# Step 4: Wait for confirmation\n",
    "txinfo = wait_for_confirmation(algod_client,txid)"
   ]
  },
  {
   "cell_type": "code",
   "execution_count": null,
   "metadata": {},
   "outputs": [],
   "source": [
    "# Open in Algoexplorer to check holders\n",
    "print('https://testnet.algoexplorer.io/asset/{}'.format(TEMP_id))"
   ]
  },
  {
   "cell_type": "markdown",
   "metadata": {},
   "source": [
    "### Destroying the asset\n",
    "* Use a special `AssetConfigTxn` transaction"
   ]
  },
  {
   "cell_type": "code",
   "execution_count": null,
   "metadata": {},
   "outputs": [],
   "source": [
    "# Step 1: prepare\n",
    "sp = algod_client.suggested_params()\n",
    "\n",
    "# Step 2: Create special AssetConfigTxn to destroy\n",
    "txn = AssetConfigTxn(\n",
    "    sender=Alice['public'],              # Manager must be sender\n",
    "    sp=sp,\n",
    "    index=TEMP_id,\n",
    "    total = None,\n",
    "    strict_empty_address_check=False     # include this option in destroy ops\n",
    "    )\n",
    "\n",
    "#Step 2: Send \n",
    "stxn = txn.sign(Alice['private'])\n",
    "\n",
    "# Step 3: Send the transaction and check for errors\n",
    "try:\n",
    "    txid = algod_client.send_transaction(stxn)\n",
    "except algosdk.error.AlgodHTTPError as err:\n",
    "    print(err)                                              # print entire error message\n",
    "    if (\"cannot destroy asset\" in str(err)):                # check for specific type of error\n",
    "        print(\"Cannot destroy asset {}, not holding all tokens.\".format(TEMP_id))  \n",
    "    if (\"does not exist or has been deleted\" in str(err)): \n",
    "        print(\"Cannot destroy asset. It does not exist (any more).\")    "
   ]
  },
  {
   "cell_type": "code",
   "execution_count": null,
   "metadata": {},
   "outputs": [],
   "source": [
    "# Step 4: Wait for the transaction to be confirmed\n",
    "wait_for_confirmation(algod_client, txid)"
   ]
  },
  {
   "cell_type": "code",
   "execution_count": null,
   "metadata": {},
   "outputs": [],
   "source": [
    "# Now check the \"assets created\" for that account.\n",
    "account_info = algod_client.account_info(MyAlgo['public'])\n",
    "json_str = json.dumps(account_info['created-assets'])\n",
    "json.loads(json_str)"
   ]
  },
  {
   "cell_type": "code",
   "execution_count": null,
   "metadata": {},
   "outputs": [],
   "source": [
    "account_info = algod_client.account_info(MyAlgo['public'])\n",
    "account_info"
   ]
  },
  {
   "cell_type": "markdown",
   "metadata": {},
   "source": [
    "**EXERCISE** Check the holdings of MyAlgo, Alice and Bob. Check the asset-id on Algoexplorer."
   ]
  },
  {
   "cell_type": "markdown",
   "metadata": {},
   "source": [
    "## Things that don't work"
   ]
  },
  {
   "cell_type": "markdown",
   "metadata": {},
   "source": [
    "* Holding an ASA if you do not hold sufficient ALGOs\n",
    "    * Minimum 0.1 ALGO per account plus 0.1 ALGO per ASA\n",
    "* Creating more that 1000 ASA per address\n",
    "* Destroying an ASA if the creator does not hold all coins"
   ]
  }
 ],
 "metadata": {
  "kernelspec": {
   "display_name": "Python 3 (ipykernel)",
   "language": "python",
   "name": "python3"
  },
  "language_info": {
   "codemirror_mode": {
    "name": "ipython",
    "version": 3
   },
   "file_extension": ".py",
   "mimetype": "text/x-python",
   "name": "python",
   "nbconvert_exporter": "python",
   "pygments_lexer": "ipython3",
   "version": "3.10.9"
  }
 },
 "nbformat": 4,
 "nbformat_minor": 4
}
