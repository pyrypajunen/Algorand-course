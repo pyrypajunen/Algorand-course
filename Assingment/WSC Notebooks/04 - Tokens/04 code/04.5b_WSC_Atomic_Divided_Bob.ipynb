{
 "cells": [
  {
   "cell_type": "markdown",
   "id": "fcb34fe0",
   "metadata": {},
   "source": [
    "## *The Remote Atomic Swap - Bob's code\n",
    "#### 04.5 Winter School on Smart Contracts\n",
    "##### Peter Gruber (peter.gruber@usi.ch)\n",
    "2022-02-04\n",
    "\n",
    "* Sign transactions offline"
   ]
  },
  {
   "cell_type": "markdown",
   "id": "5a39b1b5",
   "metadata": {
    "tags": []
   },
   "source": [
    "### ❗️ Setup (note the differences)\n",
    "\n",
    "See notebook 04.1, the lines below will always automatically load functions in `algo_util.py`, the five accounts and the Purestake credentials"
   ]
  },
  {
   "cell_type": "code",
   "execution_count": null,
   "id": "1f1e8f76",
   "metadata": {},
   "outputs": [],
   "source": [
    "# Loading shared code and credentials\n",
    "import sys, os\n",
    "codepath = '..'+os.path.sep+'..'+os.path.sep+'sharedCode'\n",
    "sys.path.append(codepath)\n",
    "from algo_util import *\n",
    "cred = load_credentials()\n",
    "\n",
    "# >> HERE Only Bob is needed\n",
    "Bob    = cred['Bob']"
   ]
  },
  {
   "cell_type": "code",
   "execution_count": null,
   "id": "dcea8efc",
   "metadata": {},
   "outputs": [],
   "source": [
    "from algosdk import account, mnemonic\n",
    "from algosdk.v2client import algod\n",
    "from algosdk import transaction\n",
    "from algosdk.transaction import PaymentTxn\n",
    "import algosdk.error\n",
    "\n",
    "import json\n",
    "import base64"
   ]
  },
  {
   "cell_type": "markdown",
   "id": "9fc6e5cb",
   "metadata": {},
   "source": [
    "#### ❗️ No need for the algod_client\n",
    "* No direct communication with the blockchain!\n"
   ]
  },
  {
   "cell_type": "markdown",
   "id": "d0b1d139",
   "metadata": {},
   "source": [
    "#### Step 1: Load the unsigned transaction\n",
    "* Need to undictify it using `PaymentTxn.undictify()`"
   ]
  },
  {
   "cell_type": "code",
   "execution_count": null,
   "id": "c96d5166",
   "metadata": {},
   "outputs": [],
   "source": [
    "import pickle\n",
    "file = open(\"Bob_txn.txt\", 'rb')\n",
    "txn_2_data = pickle.load(file)\n",
    "\n",
    "txn_2 = PaymentTxn.undictify(txn_2_data)"
   ]
  },
  {
   "cell_type": "markdown",
   "id": "c9d5260d",
   "metadata": {},
   "source": [
    "#### Step 2: Sign the transaction"
   ]
  },
  {
   "cell_type": "code",
   "execution_count": null,
   "id": "2e67685d",
   "metadata": {},
   "outputs": [],
   "source": [
    "stxn_2 = txn_2.sign(Bob['private'])"
   ]
  },
  {
   "cell_type": "markdown",
   "id": "e658c709",
   "metadata": {},
   "source": [
    "#### Step 3: Save the signed transaction in a differnt file\n",
    "* This file will be sent back to Alice"
   ]
  },
  {
   "cell_type": "code",
   "execution_count": null,
   "id": "fccf44d8",
   "metadata": {},
   "outputs": [],
   "source": [
    "stxn_2_data = stxn_2.dictify()\n",
    "file = open(\"Bob_signed.txt\", 'wb')  \n",
    "pickle.dump(stxn_2_data, file)\n",
    "file.close()"
   ]
  },
  {
   "cell_type": "markdown",
   "id": "fae5eadc",
   "metadata": {},
   "source": [
    "## Appendix\n",
    "* What are we actually sending to Alice?\n",
    "* Is it safe?"
   ]
  },
  {
   "cell_type": "code",
   "execution_count": null,
   "id": "bd8395d5",
   "metadata": {},
   "outputs": [],
   "source": [
    "stxn_2_data"
   ]
  },
  {
   "cell_type": "code",
   "execution_count": null,
   "id": "b415a5a2",
   "metadata": {},
   "outputs": [],
   "source": [
    "# Compare the 'sig' field to Bob's private key\n",
    "base64.b64encode(stxn_2_data['sig'])\n",
    "# No ... we do not Bob's private key here!!!!"
   ]
  }
 ],
 "metadata": {
  "kernelspec": {
   "display_name": "Python 3 (ipykernel)",
   "language": "python",
   "name": "python3"
  },
  "language_info": {
   "codemirror_mode": {
    "name": "ipython",
    "version": 3
   },
   "file_extension": ".py",
   "mimetype": "text/x-python",
   "name": "python",
   "nbconvert_exporter": "python",
   "pygments_lexer": "ipython3",
   "version": "3.10.9"
  }
 },
 "nbformat": 4,
 "nbformat_minor": 5
}
