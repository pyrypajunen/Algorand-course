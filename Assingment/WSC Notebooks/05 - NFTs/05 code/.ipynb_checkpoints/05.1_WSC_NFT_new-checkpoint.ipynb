{
 "cells": [
  {
   "cell_type": "markdown",
   "metadata": {},
   "source": [
    "## 05.1 Creating an NFT\n",
    "##### Peter Gruber, Mattia Biancaterra (mattia.biancaterra@usi.ch, peter.gruber@usi.ch)\n",
    "2023-01-19\n",
    "\n",
    "* Simplified NFT"
   ]
  },
  {
   "cell_type": "markdown",
   "metadata": {
    "tags": []
   },
   "source": [
    "### Setup\n",
    "See notebook 04.1, the lines below will always automatically load functions in `algo_util.py`, the five accounts and the Purestake credentials"
   ]
  },
  {
   "cell_type": "code",
   "execution_count": null,
   "metadata": {},
   "outputs": [],
   "source": [
    "# Loading shared code and credentials\n",
    "import sys, os\n",
    "codepath = '..'+os.path.sep+'..'+os.path.sep+'sharedCode'\n",
    "sys.path.append(codepath)\n",
    "from algo_util import *\n",
    "cred = load_credentials()\n",
    "\n",
    "# Shortcuts to directly access the 5 main accounts\n",
    "MyAlgo  = cred['MyAlgo']\n",
    "Alice   = cred['Alice']\n",
    "Bob     = cred['Bob']\n",
    "Charlie = cred['Charlie']\n",
    "Dina    = cred['Dina']"
   ]
  },
  {
   "cell_type": "code",
   "execution_count": null,
   "metadata": {},
   "outputs": [],
   "source": [
    "from algosdk import account, mnemonic\n",
    "from algosdk.v2client import algod\n",
    "from algosdk.transaction import PaymentTxn\n",
    "from algosdk.transaction import AssetConfigTxn, AssetTransferTxn, AssetFreezeTxn\n",
    "import algosdk.error\n",
    "import json"
   ]
  },
  {
   "cell_type": "code",
   "execution_count": null,
   "metadata": {},
   "outputs": [],
   "source": [
    "import base64\n",
    "import IPython.display\n",
    "import hashlib, requests"
   ]
  },
  {
   "cell_type": "code",
   "execution_count": null,
   "metadata": {},
   "outputs": [],
   "source": [
    "# Initialize the algod client (Testnet or Mainnet)\n",
    "algod_client = algod.AlgodClient(algod_token='', algod_address=cred['algod_test'], headers=cred['purestake_token'])\n",
    "algod_client.status()['last-round']"
   ]
  },
  {
   "cell_type": "code",
   "execution_count": null,
   "metadata": {},
   "outputs": [],
   "source": [
    "print(MyAlgo['public'])"
   ]
  },
  {
   "cell_type": "markdown",
   "metadata": {},
   "source": [
    "## Showcase\n",
    "\n",
    "this is an example of NFT and how it looks like on Algorand block explorers\n",
    "\n",
    "- https://algoexplorer.io/asset/1018480050 \n",
    "- https://explorer.perawallet.app/assets/1018480050/"
   ]
  },
  {
   "cell_type": "markdown",
   "metadata": {
    "tags": []
   },
   "source": [
    "## Create a simplified NFT\n",
    "* In theory, NFTs require extensive metadata and hash information for integrity\n",
    "* A simplified NFT with only an image link *currently* works with the Pera Algo Wallet\n",
    "    * A first step for learning\n",
    "    * **Not recommended**"
   ]
  },
  {
   "cell_type": "markdown",
   "metadata": {},
   "source": [
    "#### Step 1: the link to the image\n",
    "* Link is on the Pinata gateway to IPFS\n",
    "* Instead of filename, use `cid` = *content identifier*\n",
    "* Test the link (*very slow*)"
   ]
  },
  {
   "cell_type": "code",
   "execution_count": null,
   "metadata": {},
   "outputs": [],
   "source": [
    "cid = \"QmXEKbYJHKVbZ9ZAVMJKrX12koZ3bvMSzXuVLyrfULoV89\"\n",
    "url = 'https://gateway.pinata.cloud/ipfs/'+cid\n",
    "print(url)"
   ]
  },
  {
   "cell_type": "markdown",
   "metadata": {},
   "source": [
    "#### Step 2: the NFT transaction\n",
    "* NFT is based on an ASA\n",
    "    * `total` (supply) = 1\n",
    "    * Additional field `url`"
   ]
  },
  {
   "cell_type": "markdown",
   "metadata": {},
   "source": [
    "##### Step 2.1a: Setup"
   ]
  },
  {
   "cell_type": "code",
   "execution_count": null,
   "metadata": {},
   "outputs": [],
   "source": [
    "NFT_name = \"Lugano NFT\"\n",
    "NFT_unit = \"LUG1\"\n",
    "NFT_supply = 1\n",
    "NFT_decimals = 0\n",
    "# plus the URL from above"
   ]
  },
  {
   "cell_type": "markdown",
   "metadata": {},
   "source": [
    "##### Step 2.1b: Same `AssetConfigTxn` as for creating a token\n",
    "* `MyAlgo` creates mints the NFT"
   ]
  },
  {
   "cell_type": "code",
   "execution_count": null,
   "metadata": {
    "tags": []
   },
   "outputs": [],
   "source": [
    "sp=algod_client.suggested_params()\n",
    "\n",
    "txn = AssetConfigTxn(\n",
    "    sender=MyAlgo['public'],\n",
    "    sp=sp,\n",
    "    total=NFT_supply,\n",
    "    decimals=NFT_decimals,\n",
    "    asset_name=NFT_name,\n",
    "    unit_name=NFT_unit,\n",
    "    manager=MyAlgo['public'],\n",
    "    reserve=MyAlgo['public'],\n",
    "    freeze=MyAlgo['public'],\n",
    "    clawback=MyAlgo['public'],\n",
    "    url=url                            # Direct link to file, no metadata\n",
    ")"
   ]
  },
  {
   "cell_type": "markdown",
   "metadata": {},
   "source": [
    "#### Step 3: Sign and send"
   ]
  },
  {
   "cell_type": "code",
   "execution_count": null,
   "metadata": {},
   "outputs": [],
   "source": [
    "stxn = txn.sign(MyAlgo['private'])             # Sign\n",
    "txid = algod_client.send_transaction(stxn)     # Send\n",
    "print(txid)"
   ]
  },
  {
   "cell_type": "markdown",
   "metadata": {},
   "source": [
    "#### Step 4: Wait for confirmation"
   ]
  },
  {
   "cell_type": "code",
   "execution_count": null,
   "metadata": {},
   "outputs": [],
   "source": [
    "txinfo = wait_for_confirmation(algod_client,txid)"
   ]
  },
  {
   "cell_type": "markdown",
   "metadata": {},
   "source": [
    "#### Step 5: Verification\n",
    "##### Step 5.1: NFT index\n",
    "* The NFT `index` is automatically created"
   ]
  },
  {
   "cell_type": "code",
   "execution_count": null,
   "metadata": {},
   "outputs": [],
   "source": [
    "NFT_id = txinfo['asset-index']\n",
    "print(NFT_id)"
   ]
  },
  {
   "cell_type": "markdown",
   "metadata": {},
   "source": [
    "##### Step 5.2: Inspect on Pera Explorer and in Pera Wallet\n",
    "* Inspect on Pera Explorer\n",
    "* Also inspect in the Pera Wallet (TestNet mode)"
   ]
  },
  {
   "cell_type": "code",
   "execution_count": null,
   "metadata": {},
   "outputs": [],
   "source": [
    "print('https://testnet.explorer.perawallet.app/assets/{}'.format(NFT_id))"
   ]
  },
  {
   "cell_type": "markdown",
   "metadata": {
    "tags": []
   },
   "source": [
    "##### Step 5.3 But there is a catch ...\n",
    "* Algoexplorer does not recognize our NFT ...\n",
    "* because it does not satisfy *all* rules for NFTs"
   ]
  },
  {
   "cell_type": "code",
   "execution_count": null,
   "metadata": {},
   "outputs": [],
   "source": [
    "print('https://testnet.algoexplorer.io/asset/{}'.format(NFT_id))"
   ]
  },
  {
   "cell_type": "markdown",
   "metadata": {
    "tags": []
   },
   "source": [
    "##### Step 6: Check on Blockchain\n",
    "* NFT is an asset that we hold (like USDC)\n",
    "* But also an Asset that we have created"
   ]
  },
  {
   "cell_type": "code",
   "execution_count": null,
   "metadata": {},
   "outputs": [],
   "source": [
    "asset_holdings_df(algod_client,MyAlgo['public'])"
   ]
  },
  {
   "cell_type": "code",
   "execution_count": null,
   "metadata": {},
   "outputs": [],
   "source": [
    "# Looking for assets that we hold\n",
    "[asset for asset in algod_client.account_info(MyAlgo['public'])['assets'] if asset['asset-id']==NFT_id]"
   ]
  },
  {
   "cell_type": "code",
   "execution_count": null,
   "metadata": {},
   "outputs": [],
   "source": [
    "# Looking for asset that we have created\n",
    "# NOTE: slightly different naming!!\n",
    "[asset for asset in algod_client.account_info(MyAlgo['public'])['created-assets'] if asset['index']==NFT_id]"
   ]
  },
  {
   "cell_type": "markdown",
   "metadata": {},
   "source": [
    "## Exercise\n",
    "* Repeat the entire notebook with a different file format, e.g. `png` or `pdf`\n"
   ]
  }
 ],
 "metadata": {
  "kernelspec": {
   "display_name": "Python 3 (ipykernel)",
   "language": "python",
   "name": "python3"
  },
  "language_info": {
   "codemirror_mode": {
    "name": "ipython",
    "version": 3
   },
   "file_extension": ".py",
   "mimetype": "text/x-python",
   "name": "python",
   "nbconvert_exporter": "python",
   "pygments_lexer": "ipython3",
   "version": "3.10.9"
  },
  "vscode": {
   "interpreter": {
    "hash": "40d3a090f54c6569ab1632332b64b2c03c39dcf918b08424e98f38b5ae0af88f"
   }
  }
 },
 "nbformat": 4,
 "nbformat_minor": 4
}
