{
 "cells": [
  {
   "cell_type": "markdown",
   "metadata": {},
   "source": [
    "## 05.2 Creating an NFT\n",
    "##### Peter Gruber, Mattia Biancaterra (mattia.biancaterra@usi.ch, peter.gruber@usi.ch)\n",
    "2023-01-19\n",
    "\n",
    "* Set up a Pinata account\n",
    "* The full stack to create an ARC69 NFT"
   ]
  },
  {
   "cell_type": "markdown",
   "metadata": {
    "tags": []
   },
   "source": [
    "### Setup\n",
    "See notebook 04.1, the lines below will always automatically load functions in `algo_util.py`, the five accounts and the Purestake credentials"
   ]
  },
  {
   "cell_type": "code",
   "execution_count": 31,
   "metadata": {},
   "outputs": [],
   "source": [
    "# Loading shared code and credentials\n",
    "import sys, os\n",
    "codepath = '..'+os.path.sep+'..'+os.path.sep+'sharedCode'\n",
    "sys.path.append(codepath)\n",
    "from algo_util import *\n",
    "cred = load_credentials()\n",
    "\n",
    "# Shortcuts to directly access the 5 main accounts\n",
    "MyAlgo  = cred['MyAlgo']\n",
    "Alice   = cred['Alice']\n",
    "Bob     = cred['Bob']\n",
    "Charlie = cred['Charlie']\n",
    "Dina    = cred['Dina']"
   ]
  },
  {
   "cell_type": "code",
   "execution_count": 32,
   "metadata": {},
   "outputs": [],
   "source": [
    "from algosdk import account, mnemonic\n",
    "from algosdk.v2client import algod\n",
    "from algosdk.transaction import PaymentTxn\n",
    "from algosdk.transaction import AssetConfigTxn, AssetTransferTxn, AssetFreezeTxn\n",
    "import algosdk.error\n",
    "import json"
   ]
  },
  {
   "cell_type": "code",
   "execution_count": 75,
   "metadata": {},
   "outputs": [],
   "source": [
    "import base64\n",
    "import IPython.display\n",
    "import hashlib, requests"
   ]
  },
  {
   "cell_type": "markdown",
   "metadata": {},
   "source": [
    "### Work on the main net\n",
    "* Full support for NFTs works only on the main net"
   ]
  },
  {
   "cell_type": "code",
   "execution_count": 56,
   "metadata": {},
   "outputs": [
    {
     "data": {
      "text/plain": [
       "26987955"
      ]
     },
     "execution_count": 56,
     "metadata": {},
     "output_type": "execute_result"
    }
   ],
   "source": [
    "# Initialize the algod client (Testnet or Mainnet)\n",
    "algod_client = algod.AlgodClient(algod_token='', algod_address=cred['algod_main'], headers=cred['purestake_token'])\n",
    "algod_client.status()['last-round']"
   ]
  },
  {
   "cell_type": "code",
   "execution_count": 57,
   "metadata": {},
   "outputs": [
    {
     "name": "stdout",
     "output_type": "stream",
     "text": [
      "VL5UU2QXNKNEH7VISHZFU2ALXN5MOIDD3KXEYX2ADLCCIYN3MCOKRBATV4\n"
     ]
    }
   ],
   "source": [
    "print(MyAlgo['public'])"
   ]
  },
  {
   "cell_type": "markdown",
   "metadata": {
    "tags": []
   },
   "source": [
    "## Prepare a Pinata account\n",
    "* Go to https://www.pinata.cloud > Signup > Select \"Builder\"\n",
    "* Log in\n",
    "* Click on Developpers > API Keys > New Key > Select \"Admin\"\n",
    "* Enter key name \"algonft\" > Create Key\n",
    "* ❗️Save the following NOW. You will not be able to retrieve it again.\n",
    "    * The jason web token, which we call `pinata_jwt`\n",
    "    * The API secret, which call `pinata_secret`\n",
    "* ❗️Manually insert `pinata_jwt` and `pinata_secret` into your `credentials` file. "
   ]
  },
  {
   "cell_type": "markdown",
   "metadata": {
    "tags": []
   },
   "source": [
    "## The full NFT stack"
   ]
  },
  {
   "cell_type": "markdown",
   "metadata": {},
   "source": [
    "### Step 1: The file\n",
    "* Load file into computer memory"
   ]
  },
  {
   "cell_type": "markdown",
   "metadata": {},
   "source": [
    "##### Step 1.1 Load file"
   ]
  },
  {
   "cell_type": "code",
   "execution_count": 58,
   "metadata": {},
   "outputs": [],
   "source": [
    "# Now we have to load the credentials again\n",
    "cred = load_credentials()"
   ]
  },
  {
   "cell_type": "code",
   "execution_count": 59,
   "metadata": {},
   "outputs": [],
   "source": [
    "filename = \"mac.jpg\" \n",
    "with open(filename, \"rb\") as f:\n",
    "    origImage = f.read()"
   ]
  },
  {
   "cell_type": "markdown",
   "metadata": {
    "tags": []
   },
   "source": [
    "##### Step 1.2 MIME type\n",
    "* MIME = Multipurpose Internet Mail Extensions\n",
    "* mime type = file format, e.g. jpg or png"
   ]
  },
  {
   "cell_type": "code",
   "execution_count": 60,
   "metadata": {},
   "outputs": [
    {
     "data": {
      "text/plain": [
       "'image/jpeg'"
      ]
     },
     "execution_count": 60,
     "metadata": {},
     "output_type": "execute_result"
    }
   ],
   "source": [
    "from mimetypes import MimeTypes\n",
    "mimetype = MimeTypes().guess_type(filename)[0]\n",
    "mimetype"
   ]
  },
  {
   "cell_type": "markdown",
   "metadata": {
    "tags": []
   },
   "source": [
    "##### Step 1.3 Hash of image data\n",
    "* For NFT integrity"
   ]
  },
  {
   "cell_type": "code",
   "execution_count": 61,
   "metadata": {},
   "outputs": [
    {
     "name": "stdout",
     "output_type": "stream",
     "text": [
      "f47a2c694a01aa920fce53a96525734a18b1df1b6e3e6683941e9761a241dcdc\n"
     ]
    },
    {
     "data": {
      "text/plain": [
       "b'\\xf4z,iJ\\x01\\xaa\\x92\\x0f\\xceS\\xa9e%sJ\\x18\\xb1\\xdf\\x1bn>f\\x83\\x94\\x1e\\x97a\\xa2A\\xdc\\xdc'"
      ]
     },
     "execution_count": 61,
     "metadata": {},
     "output_type": "execute_result"
    }
   ],
   "source": [
    "image_hash_bin = hashlib.sha256()\n",
    "image_hash_bin.update(origImage)\n",
    "# for curiosity only the hex digest\n",
    "image_hash_hex = image_hash_bin.hexdigest()\n",
    "print(image_hash_hex)\n",
    "# what we need is the bytes digest\n",
    "image_hash_byte = image_hash_bin.digest()\n",
    "image_hash_byte"
   ]
  },
  {
   "cell_type": "markdown",
   "metadata": {
    "tags": []
   },
   "source": [
    "##### Step 1.4 Quick check: display image\n",
    "* hide after verification"
   ]
  },
  {
   "cell_type": "code",
   "execution_count": 62,
   "metadata": {
    "tags": []
   },
   "outputs": [
    {
     "data": {
      "image/jpeg": "[encoded data removed]",
      "text/plain": [
       "<IPython.core.display.Image object>"
      ]
     },
     "execution_count": 62,
     "metadata": {},
     "output_type": "execute_result"
    }
   ],
   "source": [
    "IPython.display.Image(data=origImage)"
   ]
  },
  {
   "cell_type": "markdown",
   "metadata": {},
   "source": [
    "### Step 2: Pinata upload\n",
    "* Upload image data in `origImage` to Pinata\n",
    "* Requires additional information in `pin_upload_data`\n",
    "* See here: https://docs.pinata.cloud/pinata-api/pinning/pin-file-or-directory\n",
    "* Result of all of this is the `image_url`"
   ]
  },
  {
   "cell_type": "code",
   "execution_count": 63,
   "metadata": {},
   "outputs": [
    {
     "data": {
      "text/plain": [
       "{'pinataOptions': '{\"cidVersion\": 1}',\n",
       " 'pinataMetadata': '{\"name\": \"mac.jpg\", \"keyvalues\": {\"issuer\": \"USI\"}}'}"
      ]
     },
     "execution_count": 63,
     "metadata": {},
     "output_type": "execute_result"
    }
   ],
   "source": [
    "# create Pinata upload data\n",
    "pin_options  = {'cidVersion' : 1}                                # pin_options = version of content identifier (cid)\n",
    "pin_keys     = {'issuer' : 'USI'}                                # any number of key value paris\n",
    "pin_metadata = {\"name\" : filename, \"keyvalues\" : pin_keys}       # metadata is filename plus key-value pairs\n",
    "\n",
    "pin_upload_data = {'pinataOptions': json.dumps(pin_options), \n",
    "                   'pinataMetadata': json.dumps(pin_metadata)}\n",
    "pin_upload_data"
   ]
  },
  {
   "cell_type": "code",
   "execution_count": 64,
   "metadata": {},
   "outputs": [],
   "source": [
    "# Pinata constants and authenticaation\n",
    "pin_api_url = \"https://api.pinata.cloud/pinning/pinFileToIPFS\"        # where we SEND the images\n",
    "pin_header  = {'Authorization': 'Bearer '+cred['pinata_jwt']}\n",
    "pin_img_url = 'https://gateway.pinata.cloud/ipfs/'                    # where we GET the images"
   ]
  },
  {
   "cell_type": "code",
   "execution_count": 65,
   "metadata": {},
   "outputs": [
    {
     "name": "stdout",
     "output_type": "stream",
     "text": [
      "{'IpfsHash': 'bafkreihupiwgssqbvkja7tstvfssk42kdcy56g3ohztihfa6s5q2eqo43q', 'PinSize': 6892, 'Timestamp': '2023-02-14T20:43:36.633Z', 'isDuplicate': True}\n"
     ]
    }
   ],
   "source": [
    "# upload to Pinata\n",
    "import requests\n",
    "files        = [ ('file', (filename, origImage, mimetype) ) ]                # list of files to upload (contains 1 file)\n",
    "pin_response = requests.request(\"POST\", pin_api_url, headers=pin_header, data=pin_upload_data, files=files)\n",
    "pin_json     = pin_response.json()\n",
    "print(pin_json)"
   ]
  },
  {
   "cell_type": "code",
   "execution_count": 66,
   "metadata": {
    "tags": []
   },
   "outputs": [
    {
     "data": {
      "text/plain": [
       "'https://gateway.pinata.cloud/ipfs/bafkreihupiwgssqbvkja7tstvfssk42kdcy56g3ohztihfa6s5q2eqo43q'"
      ]
     },
     "execution_count": 66,
     "metadata": {},
     "output_type": "execute_result"
    }
   ],
   "source": [
    "# Most relevant: the IpfsHash\n",
    "image_url = pin_img_url + pin_json['IpfsHash']\n",
    "image_url"
   ]
  },
  {
   "cell_type": "markdown",
   "metadata": {},
   "source": [
    "## Step 3: NFT metadata\n",
    "- Official structure for Metadata https://github.com/algokittens/arc69"
   ]
  },
  {
   "cell_type": "markdown",
   "metadata": {},
   "source": [
    "##### Step 3.1: Define the metadata"
   ]
  },
  {
   "cell_type": "code",
   "execution_count": 67,
   "metadata": {},
   "outputs": [],
   "source": [
    "NFT_name        = \"Apple Mac SE\"\n",
    "NFT_unit        = \"MAC\"\n",
    "NFT_supply      = 1\n",
    "NFT_decimals    = 0\n",
    "NFT_description = \"This is my first nft using IPFS. Hello world.\""
   ]
  },
  {
   "cell_type": "code",
   "execution_count": 68,
   "metadata": {},
   "outputs": [],
   "source": [
    "nft_properties =  {\n",
    "    'Name'     : \"Python is AMAZING!\", \n",
    "    'Vibes'    : \"High\", \n",
    "    'whaaat?'  : \"😇😎\",\n",
    "    'srtsrtsr' : \"Good stuff\",\n",
    "  }\n",
    "\n",
    "metadata =  {\n",
    "  'standard'    : \"arc69\",\n",
    "  'description' : NFT_description,\n",
    "  'external_url': image_url,               # from Pinata uload\n",
    "  'mime_type'   : mimetype,                # from Image file\n",
    "  'properties'  : nft_properties\n",
    "}"
   ]
  },
  {
   "cell_type": "code",
   "execution_count": 69,
   "metadata": {},
   "outputs": [],
   "source": [
    "# Optional save the json\n",
    "# with open('metadata.json', 'w', encoding='utf-8') as f:\n",
    "#     json.dump(metadata, f, ensure_ascii=False, indent=4)"
   ]
  },
  {
   "cell_type": "markdown",
   "metadata": {},
   "source": [
    "### Step 4: `AssetConfigTxn` to create NFT"
   ]
  },
  {
   "cell_type": "markdown",
   "metadata": {
    "tags": []
   },
   "source": [
    "##### Step 4.1: Prepare transaction"
   ]
  },
  {
   "cell_type": "code",
   "execution_count": 71,
   "metadata": {
    "tags": []
   },
   "outputs": [],
   "source": [
    "sp=algod_client.suggested_params()\n",
    "\n",
    "txn = AssetConfigTxn(\n",
    "    sender=MyAlgo['public'],\n",
    "    sp=sp,\n",
    "    total=NFT_supply,\n",
    "    decimals=NFT_decimals,\n",
    "    asset_name=NFT_name,\n",
    "    unit_name=NFT_unit,\n",
    "    strict_empty_address_check= False,\n",
    "    url=image_url,                             # from 2 upload image to Pinata\n",
    "    metadata_hash=image_hash_byte,             # from 1.3 hash of image data\n",
    "    note = metadataStr.encode(\"utf-8\")\n",
    ")"
   ]
  },
  {
   "cell_type": "markdown",
   "metadata": {
    "tags": []
   },
   "source": [
    "##### Step 4.2 and 4.3: Sign and send"
   ]
  },
  {
   "cell_type": "code",
   "execution_count": 72,
   "metadata": {},
   "outputs": [],
   "source": [
    "stxn = txn.sign(MyAlgo['private'])\n",
    "txid=algod_client.send_transactions([stxn])"
   ]
  },
  {
   "cell_type": "markdown",
   "metadata": {
    "tags": []
   },
   "source": [
    "##### Step 4.4: Wait for confirmation"
   ]
  },
  {
   "cell_type": "code",
   "execution_count": 73,
   "metadata": {},
   "outputs": [
    {
     "name": "stdout",
     "output_type": "stream",
     "text": [
      "Current round is  26987960.\n",
      "Waiting for round 26987960 to finish.\n",
      "Waiting for round 26987961 to finish.\n",
      "Transaction JHHCJ22TIVFSKDB2D3TMSLV53Z2GKQ5ZJD3CSGBS5V4LHOK3B2NQ confirmed in round 26987962.\n"
     ]
    }
   ],
   "source": [
    "# Step 4: Wait for confirmation\n",
    "txinfo = wait_for_confirmation(algod_client,txid)"
   ]
  },
  {
   "cell_type": "markdown",
   "metadata": {},
   "source": [
    "### Step 5: Verification\n",
    "##### Step 5.1: NFT index\n",
    "* The NFT `index` is automatically created"
   ]
  },
  {
   "cell_type": "code",
   "execution_count": 74,
   "metadata": {},
   "outputs": [
    {
     "name": "stdout",
     "output_type": "stream",
     "text": [
      "1038214068\n"
     ]
    }
   ],
   "source": [
    "NFT_id = txinfo['asset-index']\n",
    "print(NFT_id)"
   ]
  },
  {
   "cell_type": "markdown",
   "metadata": {},
   "source": [
    "##### Step 5.2: Inspect on Pera Explorer, Algoexplorer and in the Pera Wallet\n",
    "* Inspect on Pera Explorer\n",
    "* Also inspect in the Pera Wallet (TestNet mode)"
   ]
  },
  {
   "cell_type": "code",
   "execution_count": 54,
   "metadata": {},
   "outputs": [
    {
     "name": "stdout",
     "output_type": "stream",
     "text": [
      "https://testnet.explorer.perawallet.app/assets/159350197\n"
     ]
    }
   ],
   "source": [
    "print('https://testnet.explorer.perawallet.app/assets/{}'.format(NFT_id))"
   ]
  },
  {
   "cell_type": "code",
   "execution_count": 55,
   "metadata": {},
   "outputs": [
    {
     "name": "stdout",
     "output_type": "stream",
     "text": [
      "https://testnet.algoexplorer.io/asset/159350197\n"
     ]
    }
   ],
   "source": [
    "print('https://testnet.algoexplorer.io/asset/{}'.format(NFT_id))"
   ]
  },
  {
   "cell_type": "markdown",
   "metadata": {
    "tags": []
   },
   "source": [
    "##### Step 6: Check on Blockchain\n",
    "* NFT is an asset that we hold (like USDC)\n",
    "* But also an Asset that we have created"
   ]
  },
  {
   "cell_type": "code",
   "execution_count": null,
   "metadata": {},
   "outputs": [],
   "source": [
    "asset_holdings_df(algod_client,MyAlgo['public'])"
   ]
  },
  {
   "cell_type": "code",
   "execution_count": null,
   "metadata": {},
   "outputs": [],
   "source": [
    "# Looking for assets that we hold\n",
    "[asset for asset in algod_client.account_info(MyAlgo['public'])['assets'] if asset['asset-id']==NFT_id]"
   ]
  },
  {
   "cell_type": "code",
   "execution_count": null,
   "metadata": {},
   "outputs": [],
   "source": [
    "# Looking for asset that we have created\n",
    "# NOTE: slightly different naming!!\n",
    "[asset for asset in algod_client.account_info(MyAlgo['public'])['created-assets'] if asset['index']==NFT_id]"
   ]
  },
  {
   "cell_type": "markdown",
   "metadata": {},
   "source": [
    "#### Limitations\n",
    "- Pinata has a free gateway BUT it's limited in usage. (url = https://gateway.pinata.cloud/ipfs/)\n",
    "- Official websites suggests not tot use it in production\n",
    "    - Pay Pinata for the gateway\n",
    "    - Host yourself using plain IFPS https://ipfs.tech/#install"
   ]
  }
 ],
 "metadata": {
  "kernelspec": {
   "display_name": "Python 3 (ipykernel)",
   "language": "python",
   "name": "python3"
  },
  "language_info": {
   "codemirror_mode": {
    "name": "ipython",
    "version": 3
   },
   "file_extension": ".py",
   "mimetype": "text/x-python",
   "name": "python",
   "nbconvert_exporter": "python",
   "pygments_lexer": "ipython3",
   "version": "3.10.9"
  },
  "vscode": {
   "interpreter": {
    "hash": "40d3a090f54c6569ab1632332b64b2c03c39dcf918b08424e98f38b5ae0af88f"
   }
  }
 },
 "nbformat": 4,
 "nbformat_minor": 4
}
